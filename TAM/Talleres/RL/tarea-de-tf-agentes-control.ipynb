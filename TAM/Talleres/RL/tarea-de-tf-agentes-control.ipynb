{
 "cells": [
  {
   "cell_type": "markdown",
   "id": "f4a0b63c",
   "metadata": {
    "id": "klGNgWREsvQv",
    "papermill": {
     "duration": 0.009966,
     "end_time": "2025-02-25T12:08:00.881290",
     "exception": false,
     "start_time": "2025-02-25T12:08:00.871324",
     "status": "completed"
    },
    "tags": []
   },
   "source": [
    "##### Copyright 2023 The TF-Agents Authors."
   ]
  },
  {
   "cell_type": "code",
   "execution_count": 1,
   "id": "c76938b6",
   "metadata": {
    "cellView": "form",
    "execution": {
     "iopub.execute_input": "2025-02-25T12:08:00.900081Z",
     "iopub.status.busy": "2025-02-25T12:08:00.899826Z",
     "iopub.status.idle": "2025-02-25T12:08:00.903725Z",
     "shell.execute_reply": "2025-02-25T12:08:00.903126Z"
    },
    "id": "nQnmcm0oI1Q-",
    "papermill": {
     "duration": 0.01483,
     "end_time": "2025-02-25T12:08:00.905087",
     "exception": false,
     "start_time": "2025-02-25T12:08:00.890257",
     "status": "completed"
    },
    "tags": []
   },
   "outputs": [],
   "source": [
    "#@title Licensed under the Apache License, Version 2.0 (the \"License\");\n",
    "# you may not use this file except in compliance with the License.\n",
    "# You may obtain a copy of the License at\n",
    "#\n",
    "# https://www.apache.org/licenses/LICENSE-2.0\n",
    "#\n",
    "# Unless required by applicable law or agreed to in writing, software\n",
    "# distributed under the License is distributed on an \"AS IS\" BASIS,\n",
    "# WITHOUT WARRANTIES OR CONDITIONS OF ANY KIND, either express or implied.\n",
    "# See the License for the specific language governing permissions and\n",
    "# limitations under the License."
   ]
  },
  {
   "cell_type": "markdown",
   "id": "d48b8315",
   "metadata": {
    "id": "pmDI-h7cI0tI",
    "papermill": {
     "duration": 0.009108,
     "end_time": "2025-02-25T12:08:00.923340",
     "exception": false,
     "start_time": "2025-02-25T12:08:00.914232",
     "status": "completed"
    },
    "tags": []
   },
   "source": [
    "# Train a Deep Q Network with TF-Agents\n",
    "\n",
    "<table class=\"tfo-notebook-buttons\" align=\"left\">\n",
    "  <td>\n",
    "    <a target=\"_blank\" href=\"https://www.tensorflow.org/agents/tutorials/1_dqn_tutorial\">\n",
    "    <img src=\"https://www.tensorflow.org/images/tf_logo_32px.png\" />\n",
    "    View on TensorFlow.org</a>\n",
    "  </td>\n",
    "  <td>\n",
    "    <a target=\"_blank\" href=\"https://colab.research.google.com/github/tensorflow/agents/blob/master/docs/tutorials/1_dqn_tutorial.ipynb\">\n",
    "    <img src=\"https://www.tensorflow.org/images/colab_logo_32px.png\" />\n",
    "    Run in Google Colab</a>\n",
    "  </td>\n",
    "  <td>\n",
    "    <a target=\"_blank\" href=\"https://github.com/tensorflow/agents/blob/master/docs/tutorials/1_dqn_tutorial.ipynb\">\n",
    "    <img src=\"https://www.tensorflow.org/images/GitHub-Mark-32px.png\" />\n",
    "    View source on GitHub</a>\n",
    "  </td>\n",
    "  <td>\n",
    "    <a href=\"https://storage.googleapis.com/tensorflow_docs/agents/docs/tutorials/1_dqn_tutorial.ipynb\"><img src=\"https://www.tensorflow.org/images/download_logo_32px.png\" />Download notebook</a>\n",
    "  </td>\n",
    "</table>"
   ]
  },
  {
   "cell_type": "markdown",
   "id": "c954ede4",
   "metadata": {
    "id": "lsaQlK8fFQqH",
    "papermill": {
     "duration": 0.008816,
     "end_time": "2025-02-25T12:08:00.941023",
     "exception": false,
     "start_time": "2025-02-25T12:08:00.932207",
     "status": "completed"
    },
    "tags": []
   },
   "source": [
    "## Introduction\n"
   ]
  },
  {
   "cell_type": "markdown",
   "id": "6744f4cb",
   "metadata": {
    "id": "cKOCZlhUgXVK",
    "papermill": {
     "duration": 0.00879,
     "end_time": "2025-02-25T12:08:00.958724",
     "exception": false,
     "start_time": "2025-02-25T12:08:00.949934",
     "status": "completed"
    },
    "tags": []
   },
   "source": [
    "This example shows how to train a [DQN (Deep Q Networks)](https://storage.googleapis.com/deepmind-media/dqn/DQNNaturePaper.pdf)  agent on the Cartpole environment using the TF-Agents library.\n",
    "\n",
    "![Cartpole environment](https://raw.githubusercontent.com/tensorflow/agents/master/docs/tutorials/images/cartpole.png)\n",
    "\n",
    "It will walk you through all the components in a Reinforcement Learning (RL) pipeline for training, evaluation and data collection.\n",
    "\n",
    "\n",
    "To run this code live, click the 'Run in Google Colab' link above.\n"
   ]
  },
  {
   "cell_type": "markdown",
   "id": "7fda04e6",
   "metadata": {
    "id": "1u9QVVsShC9X",
    "papermill": {
     "duration": 0.00857,
     "end_time": "2025-02-25T12:08:00.976239",
     "exception": false,
     "start_time": "2025-02-25T12:08:00.967669",
     "status": "completed"
    },
    "tags": []
   },
   "source": [
    "## Setup"
   ]
  },
  {
   "cell_type": "markdown",
   "id": "265e4de8",
   "metadata": {
    "id": "kNrNXKI7bINP",
    "papermill": {
     "duration": 0.0086,
     "end_time": "2025-02-25T12:08:00.993609",
     "exception": false,
     "start_time": "2025-02-25T12:08:00.985009",
     "status": "completed"
    },
    "tags": []
   },
   "source": [
    "If you haven't installed the following dependencies, run:"
   ]
  },
  {
   "cell_type": "code",
   "execution_count": 2,
   "id": "2a7f40e9",
   "metadata": {
    "execution": {
     "iopub.execute_input": "2025-02-25T12:08:01.012119Z",
     "iopub.status.busy": "2025-02-25T12:08:01.011868Z",
     "iopub.status.idle": "2025-02-25T12:10:03.508816Z",
     "shell.execute_reply": "2025-02-25T12:10:03.507865Z"
    },
    "id": "KEHR2Ui-lo8O",
    "papermill": {
     "duration": 122.508008,
     "end_time": "2025-02-25T12:10:03.510432",
     "exception": false,
     "start_time": "2025-02-25T12:08:01.002424",
     "status": "completed"
    },
    "tags": []
   },
   "outputs": [
    {
     "name": "stdout",
     "output_type": "stream",
     "text": [
      "Get:1 http://security.ubuntu.com/ubuntu jammy-security InRelease [129 kB]\r\n",
      "Get:2 https://cloud.r-project.org/bin/linux/ubuntu jammy-cran40/ InRelease [3,632 B]\r\n",
      "Hit:3 http://archive.ubuntu.com/ubuntu jammy InRelease\r\n",
      "Get:4 https://r2u.stat.illinois.edu/ubuntu jammy InRelease [6,555 B]\r\n",
      "Get:5 https://developer.download.nvidia.com/compute/cuda/repos/ubuntu2204/x86_64  InRelease [1,581 B]\r\n",
      "Get:6 http://archive.ubuntu.com/ubuntu jammy-updates InRelease [128 kB]\r\n",
      "Get:7 http://security.ubuntu.com/ubuntu jammy-security/universe amd64 Packages [1,230 kB]\r\n",
      "Hit:8 https://ppa.launchpadcontent.net/deadsnakes/ppa/ubuntu jammy InRelease\r\n",
      "Hit:9 https://ppa.launchpadcontent.net/graphics-drivers/ppa/ubuntu jammy InRelease\r\n",
      "Get:10 http://security.ubuntu.com/ubuntu jammy-security/main amd64 Packages [2,634 kB]\r\n",
      "Get:11 http://security.ubuntu.com/ubuntu jammy-security/restricted amd64 Packages [3,657 kB]\r\n",
      "Hit:12 https://ppa.launchpadcontent.net/ubuntugis/ppa/ubuntu jammy InRelease\r\n",
      "Get:13 http://archive.ubuntu.com/ubuntu jammy-backports InRelease [127 kB]\r\n",
      "Get:14 https://r2u.stat.illinois.edu/ubuntu jammy/main all Packages [8,696 kB]\r\n",
      "Get:15 https://developer.download.nvidia.com/compute/cuda/repos/ubuntu2204/x86_64  Packages [1,318 kB]\r\n",
      "Get:16 https://r2u.stat.illinois.edu/ubuntu jammy/main amd64 Packages [2,659 kB]\r\n",
      "Get:17 http://archive.ubuntu.com/ubuntu jammy-updates/main amd64 Packages [2,939 kB]\r\n",
      "Get:18 http://archive.ubuntu.com/ubuntu jammy-updates/restricted amd64 Packages [3,793 kB]\r\n",
      "Get:19 http://archive.ubuntu.com/ubuntu jammy-updates/universe amd64 Packages [1,526 kB]\r\n",
      "Get:20 http://archive.ubuntu.com/ubuntu jammy-backports/universe amd64 Packages [35.2 kB]\r\n",
      "Fetched 28.9 MB in 2s (13.4 MB/s)\r\n",
      "\r\n",
      "W: Skipping acquire of configured file 'main/source/Sources' as repository 'https://r2u.stat.illinois.edu/ubuntu jammy InRelease' does not seem to provide it (sources.list entry misspelt?)\r\n",
      "\r\n",
      "\r\n",
      "\r\n",
      "ffmpeg is already the newest version (7:4.4.2-0ubuntu0.22.04.1).\r\n",
      "xvfb is already the newest version (2:21.1.4-2ubuntu1.7~22.04.12).\r\n",
      "The following additional packages will be installed:\r\n",
      "  freeglut3 libegl-dev libgl-dev libgl1-mesa-dev libgles-dev libgles1\r\n",
      "  libglu1-mesa libglu1-mesa-dev libglvnd-core-dev libglvnd-dev libglx-dev\r\n",
      "  libopengl-dev\r\n",
      "The following NEW packages will be installed:\r\n",
      "  freeglut3 freeglut3-dev libegl-dev libgl-dev libgl1-mesa-dev libgles-dev\r\n",
      "  libgles1 libglu1-mesa libglu1-mesa-dev libglvnd-core-dev libglvnd-dev\r\n",
      "  libglx-dev libopengl-dev\r\n",
      "0 upgraded, 13 newly installed, 0 to remove and 137 not upgraded.\r\n",
      "Need to get 796 kB of archives.\r\n",
      "After this operation, 5,035 kB of additional disk space will be used.\r\n",
      "Get:1 http://archive.ubuntu.com/ubuntu jammy/universe amd64 freeglut3 amd64 2.8.1-6 [74.0 kB]\r\n",
      "Get:2 http://archive.ubuntu.com/ubuntu jammy/main amd64 libglx-dev amd64 1.4.0-1 [14.1 kB]\r\n",
      "Get:3 http://archive.ubuntu.com/ubuntu jammy/main amd64 libgl-dev amd64 1.4.0-1 [101 kB]\r\n",
      "Get:4 http://archive.ubuntu.com/ubuntu jammy/main amd64 libglvnd-core-dev amd64 1.4.0-1 [12.7 kB]\r\n",
      "Get:5 http://archive.ubuntu.com/ubuntu jammy/main amd64 libegl-dev amd64 1.4.0-1 [18.0 kB]\r\n",
      "Get:6 http://archive.ubuntu.com/ubuntu jammy/main amd64 libgles1 amd64 1.4.0-1 [11.5 kB]\r\n",
      "Get:7 http://archive.ubuntu.com/ubuntu jammy/main amd64 libgles-dev amd64 1.4.0-1 [49.4 kB]\r\n",
      "Get:8 http://archive.ubuntu.com/ubuntu jammy/main amd64 libopengl-dev amd64 1.4.0-1 [3,400 B]\r\n",
      "Get:9 http://archive.ubuntu.com/ubuntu jammy/main amd64 libglvnd-dev amd64 1.4.0-1 [3,162 B]\r\n",
      "Get:10 http://archive.ubuntu.com/ubuntu jammy-updates/main amd64 libgl1-mesa-dev amd64 23.2.1-1ubuntu3.1~22.04.3 [6,848 B]\r\n",
      "Get:11 http://archive.ubuntu.com/ubuntu jammy/main amd64 libglu1-mesa amd64 9.0.2-1 [145 kB]\r\n",
      "Get:12 http://archive.ubuntu.com/ubuntu jammy/main amd64 libglu1-mesa-dev amd64 9.0.2-1 [231 kB]\r\n",
      "Get:13 http://archive.ubuntu.com/ubuntu jammy/universe amd64 freeglut3-dev amd64 2.8.1-6 [126 kB]\r\n",
      "Fetched 796 kB in 1s (918 kB/s)\r\n",
      "debconf: unable to initialize frontend: Dialog\r\n",
      "debconf: (No usable dialog-like program is installed, so the dialog based frontend cannot be used. at /usr/share/perl5/Debconf/FrontEnd/Dialog.pm line 78, <> line 13.)\r\n",
      "debconf: falling back to frontend: Readline\r\n",
      "Selecting previously unselected package freeglut3:amd64.\r\n",
      "(Reading database ... 127400 files and directories currently installed.)\r\n",
      "Preparing to unpack .../00-freeglut3_2.8.1-6_amd64.deb ...\r\n",
      "Unpacking freeglut3:amd64 (2.8.1-6) ...\r\n",
      "Selecting previously unselected package libglx-dev:amd64.\r\n",
      "Preparing to unpack .../01-libglx-dev_1.4.0-1_amd64.deb ...\r\n",
      "Unpacking libglx-dev:amd64 (1.4.0-1) ...\r\n",
      "Selecting previously unselected package libgl-dev:amd64.\r\n",
      "Preparing to unpack .../02-libgl-dev_1.4.0-1_amd64.deb ...\r\n",
      "Unpacking libgl-dev:amd64 (1.4.0-1) ...\r\n",
      "Selecting previously unselected package libglvnd-core-dev:amd64.\r\n",
      "Preparing to unpack .../03-libglvnd-core-dev_1.4.0-1_amd64.deb ...\r\n",
      "Unpacking libglvnd-core-dev:amd64 (1.4.0-1) ...\r\n",
      "Selecting previously unselected package libegl-dev:amd64.\r\n",
      "Preparing to unpack .../04-libegl-dev_1.4.0-1_amd64.deb ...\r\n",
      "Unpacking libegl-dev:amd64 (1.4.0-1) ...\r\n",
      "Selecting previously unselected package libgles1:amd64.\r\n",
      "Preparing to unpack .../05-libgles1_1.4.0-1_amd64.deb ...\r\n",
      "Unpacking libgles1:amd64 (1.4.0-1) ...\r\n",
      "Selecting previously unselected package libgles-dev:amd64.\r\n",
      "Preparing to unpack .../06-libgles-dev_1.4.0-1_amd64.deb ...\r\n",
      "Unpacking libgles-dev:amd64 (1.4.0-1) ...\r\n",
      "Selecting previously unselected package libopengl-dev:amd64.\r\n",
      "Preparing to unpack .../07-libopengl-dev_1.4.0-1_amd64.deb ...\r\n",
      "Unpacking libopengl-dev:amd64 (1.4.0-1) ...\r\n",
      "Selecting previously unselected package libglvnd-dev:amd64.\r\n",
      "Preparing to unpack .../08-libglvnd-dev_1.4.0-1_amd64.deb ...\r\n",
      "Unpacking libglvnd-dev:amd64 (1.4.0-1) ...\r\n",
      "Selecting previously unselected package libgl1-mesa-dev:amd64.\r\n",
      "Preparing to unpack .../09-libgl1-mesa-dev_23.2.1-1ubuntu3.1~22.04.3_amd64.deb ...\r\n",
      "Unpacking libgl1-mesa-dev:amd64 (23.2.1-1ubuntu3.1~22.04.3) ...\r\n",
      "Selecting previously unselected package libglu1-mesa:amd64.\r\n",
      "Preparing to unpack .../10-libglu1-mesa_9.0.2-1_amd64.deb ...\r\n",
      "Unpacking libglu1-mesa:amd64 (9.0.2-1) ...\r\n",
      "Selecting previously unselected package libglu1-mesa-dev:amd64.\r\n",
      "Preparing to unpack .../11-libglu1-mesa-dev_9.0.2-1_amd64.deb ...\r\n",
      "Unpacking libglu1-mesa-dev:amd64 (9.0.2-1) ...\r\n",
      "Selecting previously unselected package freeglut3-dev:amd64.\r\n",
      "Preparing to unpack .../12-freeglut3-dev_2.8.1-6_amd64.deb ...\r\n",
      "Unpacking freeglut3-dev:amd64 (2.8.1-6) ...\r\n",
      "Setting up freeglut3:amd64 (2.8.1-6) ...\r\n",
      "Setting up libglvnd-core-dev:amd64 (1.4.0-1) ...\r\n",
      "Setting up libgles1:amd64 (1.4.0-1) ...\r\n",
      "Setting up libglx-dev:amd64 (1.4.0-1) ...\r\n",
      "Setting up libglu1-mesa:amd64 (9.0.2-1) ...\r\n",
      "Setting up libopengl-dev:amd64 (1.4.0-1) ...\r\n",
      "Setting up libgl-dev:amd64 (1.4.0-1) ...\r\n",
      "Setting up libegl-dev:amd64 (1.4.0-1) ...\r\n",
      "Setting up libglu1-mesa-dev:amd64 (9.0.2-1) ...\r\n",
      "Setting up libgles-dev:amd64 (1.4.0-1) ...\r\n",
      "Setting up libglvnd-dev:amd64 (1.4.0-1) ...\r\n",
      "Setting up libgl1-mesa-dev:amd64 (23.2.1-1ubuntu3.1~22.04.3) ...\r\n",
      "Setting up freeglut3-dev:amd64 (2.8.1-6) ...\r\n",
      "Processing triggers for libc-bin (2.35-0ubuntu3.4) ...\r\n",
      "/sbin/ldconfig.real: /usr/local/lib/libtcm.so.1 is not a symbolic link\r\n",
      "\r\n",
      "/sbin/ldconfig.real: /usr/local/lib/libumf.so.0 is not a symbolic link\r\n",
      "\r\n",
      "/sbin/ldconfig.real: /usr/local/lib/libtcm_debug.so.1 is not a symbolic link\r\n",
      "\r\n",
      "/sbin/ldconfig.real: /usr/local/lib/libhwloc.so.15 is not a symbolic link\r\n",
      "\r\n",
      "/sbin/ldconfig.real: /usr/local/lib/libur_loader.so.0 is not a symbolic link\r\n",
      "\r\n",
      "/sbin/ldconfig.real: /usr/local/lib/libur_adapter_level_zero.so.0 is not a symbolic link\r\n",
      "\r\n",
      "/sbin/ldconfig.real: /usr/local/lib/libur_adapter_opencl.so.0 is not a symbolic link\r\n",
      "\r\n",
      "/sbin/ldconfig.real: /usr/local/lib/libtbbbind_2_5.so.3 is not a symbolic link\r\n",
      "\r\n",
      "/sbin/ldconfig.real: /usr/local/lib/libtbbbind_2_0.so.3 is not a symbolic link\r\n",
      "\r\n",
      "/sbin/ldconfig.real: /usr/local/lib/libtbb.so.12 is not a symbolic link\r\n",
      "\r\n",
      "/sbin/ldconfig.real: /usr/local/lib/libtbbmalloc_proxy.so.2 is not a symbolic link\r\n",
      "\r\n",
      "/sbin/ldconfig.real: /usr/local/lib/libtbbmalloc.so.2 is not a symbolic link\r\n",
      "\r\n",
      "/sbin/ldconfig.real: /usr/local/lib/libtbbbind.so.3 is not a symbolic link\r\n",
      "\r\n",
      "Collecting imageio==2.4.0\r\n",
      "  Downloading imageio-2.4.0.tar.gz (3.3 MB)\r\n",
      "\u001b[2K     \u001b[90m━━━━━━━━━━━━━━━━━━━━━━━━━━━━━━━━━━━━━━━━\u001b[0m \u001b[32m3.3/3.3 MB\u001b[0m \u001b[31m30.5 MB/s\u001b[0m eta \u001b[36m0:00:00\u001b[0m\r\n",
      "\u001b[?25h  Preparing metadata (setup.py) ... \u001b[?25l\u001b[?25hdone\r\n",
      "Requirement already satisfied: numpy in /usr/local/lib/python3.10/dist-packages (from imageio==2.4.0) (1.26.4)\r\n",
      "Requirement already satisfied: pillow in /usr/local/lib/python3.10/dist-packages (from imageio==2.4.0) (11.0.0)\r\n",
      "Requirement already satisfied: mkl_fft in /usr/local/lib/python3.10/dist-packages (from numpy->imageio==2.4.0) (1.3.8)\r\n",
      "Requirement already satisfied: mkl_random in /usr/local/lib/python3.10/dist-packages (from numpy->imageio==2.4.0) (1.2.4)\r\n",
      "Requirement already satisfied: mkl_umath in /usr/local/lib/python3.10/dist-packages (from numpy->imageio==2.4.0) (0.1.1)\r\n",
      "Requirement already satisfied: mkl in /usr/local/lib/python3.10/dist-packages (from numpy->imageio==2.4.0) (2025.0.1)\r\n",
      "Requirement already satisfied: tbb4py in /usr/local/lib/python3.10/dist-packages (from numpy->imageio==2.4.0) (2022.0.0)\r\n",
      "Requirement already satisfied: mkl-service in /usr/local/lib/python3.10/dist-packages (from numpy->imageio==2.4.0) (2.4.1)\r\n",
      "Requirement already satisfied: intel-openmp>=2024 in /usr/local/lib/python3.10/dist-packages (from mkl->numpy->imageio==2.4.0) (2024.2.0)\r\n",
      "Requirement already satisfied: tbb==2022.* in /usr/local/lib/python3.10/dist-packages (from mkl->numpy->imageio==2.4.0) (2022.0.0)\r\n",
      "Requirement already satisfied: tcmlib==1.* in /usr/local/lib/python3.10/dist-packages (from tbb==2022.*->mkl->numpy->imageio==2.4.0) (1.2.0)\r\n",
      "Requirement already satisfied: intel-cmplr-lib-rt in /usr/local/lib/python3.10/dist-packages (from mkl_umath->numpy->imageio==2.4.0) (2024.2.0)\r\n",
      "Requirement already satisfied: intel-cmplr-lib-ur==2024.2.0 in /usr/local/lib/python3.10/dist-packages (from intel-openmp>=2024->mkl->numpy->imageio==2.4.0) (2024.2.0)\r\n",
      "Building wheels for collected packages: imageio\r\n",
      "  Building wheel for imageio (setup.py) ... \u001b[?25l\u001b[?25hdone\r\n",
      "  Created wheel for imageio: filename=imageio-2.4.0-py3-none-any.whl size=3303892 sha256=74c54c9f81be1d80a1d22794dd662c379c002606d65069924049b3cf8db78856\r\n",
      "  Stored in directory: /root/.cache/pip/wheels/8a/d8/1c/eb9350a4bd3ae8e8814a2f7f9cc832fedad8ea5a926181d60d\r\n",
      "Successfully built imageio\r\n",
      "Installing collected packages: imageio\r\n",
      "  Attempting uninstall: imageio\r\n",
      "    Found existing installation: imageio 2.36.1\r\n",
      "    Uninstalling imageio-2.36.1:\r\n",
      "      Successfully uninstalled imageio-2.36.1\r\n",
      "\u001b[31mERROR: pip's dependency resolver does not currently take into account all the packages that are installed. This behaviour is the source of the following dependency conflicts.\r\n",
      "moviepy 1.0.3 requires imageio<3.0,>=2.5; python_version >= \"3.4\", but you have imageio 2.4.0 which is incompatible.\r\n",
      "scikit-image 0.25.0 requires imageio!=2.35.0,>=2.33, but you have imageio 2.4.0 which is incompatible.\u001b[0m\u001b[31m\r\n",
      "\u001b[0mSuccessfully installed imageio-2.4.0\r\n",
      "Collecting pyvirtualdisplay\r\n",
      "  Downloading PyVirtualDisplay-3.0-py3-none-any.whl.metadata (943 bytes)\r\n",
      "Downloading PyVirtualDisplay-3.0-py3-none-any.whl (15 kB)\r\n",
      "Installing collected packages: pyvirtualdisplay\r\n",
      "Successfully installed pyvirtualdisplay-3.0\r\n",
      "Collecting tf-agents[reverb]\r\n",
      "  Downloading tf_agents-0.19.0-py3-none-any.whl.metadata (12 kB)\r\n",
      "Requirement already satisfied: absl-py>=0.6.1 in /usr/local/lib/python3.10/dist-packages (from tf-agents[reverb]) (1.4.0)\r\n",
      "Requirement already satisfied: cloudpickle>=1.3 in /usr/local/lib/python3.10/dist-packages (from tf-agents[reverb]) (3.1.0)\r\n",
      "Requirement already satisfied: gin-config>=0.4.0 in /usr/local/lib/python3.10/dist-packages (from tf-agents[reverb]) (0.5.0)\r\n",
      "Collecting gym<=0.23.0,>=0.17.0 (from tf-agents[reverb])\r\n",
      "  Downloading gym-0.23.0.tar.gz (624 kB)\r\n",
      "\u001b[2K     \u001b[90m━━━━━━━━━━━━━━━━━━━━━━━━━━━━━━━━━━━━━━━━\u001b[0m \u001b[32m624.4/624.4 kB\u001b[0m \u001b[31m10.2 MB/s\u001b[0m eta \u001b[36m0:00:00\u001b[0m\r\n",
      "\u001b[?25h  Installing build dependencies ... \u001b[?25l\u001b[?25hdone\r\n",
      "  Getting requirements to build wheel ... \u001b[?25l\u001b[?25hdone\r\n",
      "  Preparing metadata (pyproject.toml) ... \u001b[?25l\u001b[?25hdone\r\n",
      "Requirement already satisfied: numpy>=1.19.0 in /usr/local/lib/python3.10/dist-packages (from tf-agents[reverb]) (1.26.4)\r\n",
      "Requirement already satisfied: pillow in /usr/local/lib/python3.10/dist-packages (from tf-agents[reverb]) (11.0.0)\r\n",
      "Requirement already satisfied: six>=1.10.0 in /usr/local/lib/python3.10/dist-packages (from tf-agents[reverb]) (1.17.0)\r\n",
      "Requirement already satisfied: protobuf>=3.11.3 in /usr/local/lib/python3.10/dist-packages (from tf-agents[reverb]) (3.20.3)\r\n",
      "Requirement already satisfied: wrapt>=1.11.1 in /usr/local/lib/python3.10/dist-packages (from tf-agents[reverb]) (1.17.0)\r\n",
      "Collecting typing-extensions==4.5.0 (from tf-agents[reverb])\r\n",
      "  Downloading typing_extensions-4.5.0-py3-none-any.whl.metadata (8.5 kB)\r\n",
      "Collecting pygame==2.1.3 (from tf-agents[reverb])\r\n",
      "  Downloading pygame-2.1.3-cp310-cp310-manylinux_2_17_x86_64.manylinux2014_x86_64.whl.metadata (9.3 kB)\r\n",
      "Collecting tensorflow-probability~=0.23.0 (from tf-agents[reverb])\r\n",
      "  Downloading tensorflow_probability-0.23.0-py2.py3-none-any.whl.metadata (13 kB)\r\n",
      "Collecting rlds (from tf-agents[reverb])\r\n",
      "  Downloading rlds-0.1.8-py3-none-manylinux2010_x86_64.whl.metadata (1.7 kB)\r\n",
      "Collecting dm-reverb~=0.14.0 (from tf-agents[reverb])\r\n",
      "  Downloading dm_reverb-0.14.0-cp310-cp310-manylinux2014_x86_64.whl.metadata (17 kB)\r\n",
      "Collecting tensorflow~=2.15.0 (from tf-agents[reverb])\r\n",
      "  Downloading tensorflow-2.15.1-cp310-cp310-manylinux_2_17_x86_64.manylinux2014_x86_64.whl.metadata (4.2 kB)\r\n",
      "Requirement already satisfied: dm-tree in /usr/local/lib/python3.10/dist-packages (from dm-reverb~=0.14.0->tf-agents[reverb]) (0.1.8)\r\n",
      "Requirement already satisfied: portpicker in /usr/local/lib/python3.10/dist-packages (from dm-reverb~=0.14.0->tf-agents[reverb]) (1.5.2)\r\n",
      "Requirement already satisfied: gym_notices>=0.0.4 in /usr/local/lib/python3.10/dist-packages (from gym<=0.23.0,>=0.17.0->tf-agents[reverb]) (0.0.8)\r\n",
      "Requirement already satisfied: mkl_fft in /usr/local/lib/python3.10/dist-packages (from numpy>=1.19.0->tf-agents[reverb]) (1.3.8)\r\n",
      "Requirement already satisfied: mkl_random in /usr/local/lib/python3.10/dist-packages (from numpy>=1.19.0->tf-agents[reverb]) (1.2.4)\r\n",
      "Requirement already satisfied: mkl_umath in /usr/local/lib/python3.10/dist-packages (from numpy>=1.19.0->tf-agents[reverb]) (0.1.1)\r\n",
      "Requirement already satisfied: mkl in /usr/local/lib/python3.10/dist-packages (from numpy>=1.19.0->tf-agents[reverb]) (2025.0.1)\r\n",
      "Requirement already satisfied: tbb4py in /usr/local/lib/python3.10/dist-packages (from numpy>=1.19.0->tf-agents[reverb]) (2022.0.0)\r\n",
      "Requirement already satisfied: mkl-service in /usr/local/lib/python3.10/dist-packages (from numpy>=1.19.0->tf-agents[reverb]) (2.4.1)\r\n",
      "Requirement already satisfied: astunparse>=1.6.0 in /usr/local/lib/python3.10/dist-packages (from tensorflow~=2.15.0->tf-agents[reverb]) (1.6.3)\r\n",
      "Requirement already satisfied: flatbuffers>=23.5.26 in /usr/local/lib/python3.10/dist-packages (from tensorflow~=2.15.0->tf-agents[reverb]) (24.3.25)\r\n",
      "Requirement already satisfied: gast!=0.5.0,!=0.5.1,!=0.5.2,>=0.2.1 in /usr/local/lib/python3.10/dist-packages (from tensorflow~=2.15.0->tf-agents[reverb]) (0.6.0)\r\n",
      "Requirement already satisfied: google-pasta>=0.1.1 in /usr/local/lib/python3.10/dist-packages (from tensorflow~=2.15.0->tf-agents[reverb]) (0.2.0)\r\n",
      "Requirement already satisfied: h5py>=2.9.0 in /usr/local/lib/python3.10/dist-packages (from tensorflow~=2.15.0->tf-agents[reverb]) (3.12.1)\r\n",
      "Requirement already satisfied: libclang>=13.0.0 in /usr/local/lib/python3.10/dist-packages (from tensorflow~=2.15.0->tf-agents[reverb]) (18.1.1)\r\n",
      "Collecting ml-dtypes~=0.3.1 (from tensorflow~=2.15.0->tf-agents[reverb])\r\n",
      "  Downloading ml_dtypes-0.3.2-cp310-cp310-manylinux_2_17_x86_64.manylinux2014_x86_64.whl.metadata (20 kB)\r\n",
      "Requirement already satisfied: opt-einsum>=2.3.2 in /usr/local/lib/python3.10/dist-packages (from tensorflow~=2.15.0->tf-agents[reverb]) (3.4.0)\r\n",
      "Requirement already satisfied: packaging in /usr/local/lib/python3.10/dist-packages (from tensorflow~=2.15.0->tf-agents[reverb]) (24.2)\r\n",
      "Requirement already satisfied: setuptools in /usr/local/lib/python3.10/dist-packages (from tensorflow~=2.15.0->tf-agents[reverb]) (75.1.0)\r\n",
      "Requirement already satisfied: termcolor>=1.1.0 in /usr/local/lib/python3.10/dist-packages (from tensorflow~=2.15.0->tf-agents[reverb]) (2.5.0)\r\n",
      "Collecting wrapt>=1.11.1 (from tf-agents[reverb])\r\n",
      "  Downloading wrapt-1.14.1-cp310-cp310-manylinux_2_5_x86_64.manylinux1_x86_64.manylinux_2_17_x86_64.manylinux2014_x86_64.whl.metadata (6.7 kB)\r\n",
      "Requirement already satisfied: tensorflow-io-gcs-filesystem>=0.23.1 in /usr/local/lib/python3.10/dist-packages (from tensorflow~=2.15.0->tf-agents[reverb]) (0.37.1)\r\n",
      "Requirement already satisfied: grpcio<2.0,>=1.24.3 in /usr/local/lib/python3.10/dist-packages (from tensorflow~=2.15.0->tf-agents[reverb]) (1.68.1)\r\n",
      "Collecting tensorboard<2.16,>=2.15 (from tensorflow~=2.15.0->tf-agents[reverb])\r\n",
      "  Downloading tensorboard-2.15.2-py3-none-any.whl.metadata (1.7 kB)\r\n",
      "Collecting tensorflow-estimator<2.16,>=2.15.0 (from tensorflow~=2.15.0->tf-agents[reverb])\r\n",
      "  Downloading tensorflow_estimator-2.15.0-py2.py3-none-any.whl.metadata (1.3 kB)\r\n",
      "Collecting keras<2.16,>=2.15.0 (from tensorflow~=2.15.0->tf-agents[reverb])\r\n",
      "  Downloading keras-2.15.0-py3-none-any.whl.metadata (2.4 kB)\r\n",
      "Requirement already satisfied: decorator in /usr/local/lib/python3.10/dist-packages (from tensorflow-probability~=0.23.0->tf-agents[reverb]) (4.4.2)\r\n",
      "Requirement already satisfied: wheel<1.0,>=0.23.0 in /usr/local/lib/python3.10/dist-packages (from astunparse>=1.6.0->tensorflow~=2.15.0->tf-agents[reverb]) (0.45.1)\r\n",
      "Requirement already satisfied: google-auth<3,>=1.6.3 in /usr/local/lib/python3.10/dist-packages (from tensorboard<2.16,>=2.15->tensorflow~=2.15.0->tf-agents[reverb]) (2.27.0)\r\n",
      "Requirement already satisfied: google-auth-oauthlib<2,>=0.5 in /usr/local/lib/python3.10/dist-packages (from tensorboard<2.16,>=2.15->tensorflow~=2.15.0->tf-agents[reverb]) (1.2.1)\r\n",
      "Requirement already satisfied: markdown>=2.6.8 in /usr/local/lib/python3.10/dist-packages (from tensorboard<2.16,>=2.15->tensorflow~=2.15.0->tf-agents[reverb]) (3.7)\r\n",
      "Requirement already satisfied: requests<3,>=2.21.0 in /usr/local/lib/python3.10/dist-packages (from tensorboard<2.16,>=2.15->tensorflow~=2.15.0->tf-agents[reverb]) (2.32.3)\r\n",
      "Requirement already satisfied: tensorboard-data-server<0.8.0,>=0.7.0 in /usr/local/lib/python3.10/dist-packages (from tensorboard<2.16,>=2.15->tensorflow~=2.15.0->tf-agents[reverb]) (0.7.2)\r\n",
      "Requirement already satisfied: werkzeug>=1.0.1 in /usr/local/lib/python3.10/dist-packages (from tensorboard<2.16,>=2.15->tensorflow~=2.15.0->tf-agents[reverb]) (3.1.3)\r\n",
      "Requirement already satisfied: intel-openmp>=2024 in /usr/local/lib/python3.10/dist-packages (from mkl->numpy>=1.19.0->tf-agents[reverb]) (2024.2.0)\r\n",
      "Requirement already satisfied: tbb==2022.* in /usr/local/lib/python3.10/dist-packages (from mkl->numpy>=1.19.0->tf-agents[reverb]) (2022.0.0)\r\n",
      "Requirement already satisfied: tcmlib==1.* in /usr/local/lib/python3.10/dist-packages (from tbb==2022.*->mkl->numpy>=1.19.0->tf-agents[reverb]) (1.2.0)\r\n",
      "Requirement already satisfied: intel-cmplr-lib-rt in /usr/local/lib/python3.10/dist-packages (from mkl_umath->numpy>=1.19.0->tf-agents[reverb]) (2024.2.0)\r\n",
      "Requirement already satisfied: psutil in /usr/local/lib/python3.10/dist-packages (from portpicker->dm-reverb~=0.14.0->tf-agents[reverb]) (5.9.5)\r\n",
      "Requirement already satisfied: cachetools<6.0,>=2.0.0 in /usr/local/lib/python3.10/dist-packages (from google-auth<3,>=1.6.3->tensorboard<2.16,>=2.15->tensorflow~=2.15.0->tf-agents[reverb]) (5.5.0)\r\n",
      "Requirement already satisfied: pyasn1-modules>=0.2.1 in /usr/local/lib/python3.10/dist-packages (from google-auth<3,>=1.6.3->tensorboard<2.16,>=2.15->tensorflow~=2.15.0->tf-agents[reverb]) (0.4.1)\r\n",
      "Requirement already satisfied: rsa<5,>=3.1.4 in /usr/local/lib/python3.10/dist-packages (from google-auth<3,>=1.6.3->tensorboard<2.16,>=2.15->tensorflow~=2.15.0->tf-agents[reverb]) (4.9)\r\n",
      "Requirement already satisfied: requests-oauthlib>=0.7.0 in /usr/local/lib/python3.10/dist-packages (from google-auth-oauthlib<2,>=0.5->tensorboard<2.16,>=2.15->tensorflow~=2.15.0->tf-agents[reverb]) (1.3.1)\r\n",
      "Requirement already satisfied: intel-cmplr-lib-ur==2024.2.0 in /usr/local/lib/python3.10/dist-packages (from intel-openmp>=2024->mkl->numpy>=1.19.0->tf-agents[reverb]) (2024.2.0)\r\n",
      "Requirement already satisfied: charset-normalizer<4,>=2 in /usr/local/lib/python3.10/dist-packages (from requests<3,>=2.21.0->tensorboard<2.16,>=2.15->tensorflow~=2.15.0->tf-agents[reverb]) (3.4.1)\r\n",
      "Requirement already satisfied: idna<4,>=2.5 in /usr/local/lib/python3.10/dist-packages (from requests<3,>=2.21.0->tensorboard<2.16,>=2.15->tensorflow~=2.15.0->tf-agents[reverb]) (3.10)\r\n",
      "Requirement already satisfied: urllib3<3,>=1.21.1 in /usr/local/lib/python3.10/dist-packages (from requests<3,>=2.21.0->tensorboard<2.16,>=2.15->tensorflow~=2.15.0->tf-agents[reverb]) (2.3.0)\r\n",
      "Requirement already satisfied: certifi>=2017.4.17 in /usr/local/lib/python3.10/dist-packages (from requests<3,>=2.21.0->tensorboard<2.16,>=2.15->tensorflow~=2.15.0->tf-agents[reverb]) (2025.1.31)\r\n",
      "Requirement already satisfied: MarkupSafe>=2.1.1 in /usr/local/lib/python3.10/dist-packages (from werkzeug>=1.0.1->tensorboard<2.16,>=2.15->tensorflow~=2.15.0->tf-agents[reverb]) (3.0.2)\r\n",
      "Requirement already satisfied: pyasn1<0.7.0,>=0.4.6 in /usr/local/lib/python3.10/dist-packages (from pyasn1-modules>=0.2.1->google-auth<3,>=1.6.3->tensorboard<2.16,>=2.15->tensorflow~=2.15.0->tf-agents[reverb]) (0.6.1)\r\n",
      "Requirement already satisfied: oauthlib>=3.0.0 in /usr/local/lib/python3.10/dist-packages (from requests-oauthlib>=0.7.0->google-auth-oauthlib<2,>=0.5->tensorboard<2.16,>=2.15->tensorflow~=2.15.0->tf-agents[reverb]) (3.2.2)\r\n",
      "Downloading pygame-2.1.3-cp310-cp310-manylinux_2_17_x86_64.manylinux2014_x86_64.whl (13.7 MB)\r\n",
      "\u001b[2K   \u001b[90m━━━━━━━━━━━━━━━━━━━━━━━━━━━━━━━━━━━━━━━━\u001b[0m \u001b[32m13.7/13.7 MB\u001b[0m \u001b[31m32.0 MB/s\u001b[0m eta \u001b[36m0:00:00\u001b[0m\r\n",
      "\u001b[?25hDownloading typing_extensions-4.5.0-py3-none-any.whl (27 kB)\r\n",
      "Downloading dm_reverb-0.14.0-cp310-cp310-manylinux2014_x86_64.whl (6.4 MB)\r\n",
      "\u001b[2K   \u001b[90m━━━━━━━━━━━━━━━━━━━━━━━━━━━━━━━━━━━━━━━━\u001b[0m \u001b[32m6.4/6.4 MB\u001b[0m \u001b[31m74.3 MB/s\u001b[0m eta \u001b[36m0:00:00\u001b[0m\r\n",
      "\u001b[?25hDownloading tensorflow-2.15.1-cp310-cp310-manylinux_2_17_x86_64.manylinux2014_x86_64.whl (475.2 MB)\r\n",
      "\u001b[2K   \u001b[90m━━━━━━━━━━━━━━━━━━━━━━━━━━━━━━━━━━━━━━━━\u001b[0m \u001b[32m475.2/475.2 MB\u001b[0m \u001b[31m3.5 MB/s\u001b[0m eta \u001b[36m0:00:00\u001b[0m\r\n",
      "\u001b[?25hDownloading tensorflow_probability-0.23.0-py2.py3-none-any.whl (6.9 MB)\r\n",
      "\u001b[2K   \u001b[90m━━━━━━━━━━━━━━━━━━━━━━━━━━━━━━━━━━━━━━━━\u001b[0m \u001b[32m6.9/6.9 MB\u001b[0m \u001b[31m96.6 MB/s\u001b[0m eta \u001b[36m0:00:00\u001b[0m\r\n",
      "\u001b[?25hDownloading wrapt-1.14.1-cp310-cp310-manylinux_2_5_x86_64.manylinux1_x86_64.manylinux_2_17_x86_64.manylinux2014_x86_64.whl (77 kB)\r\n",
      "\u001b[2K   \u001b[90m━━━━━━━━━━━━━━━━━━━━━━━━━━━━━━━━━━━━━━━━\u001b[0m \u001b[32m77.9/77.9 kB\u001b[0m \u001b[31m4.4 MB/s\u001b[0m eta \u001b[36m0:00:00\u001b[0m\r\n",
      "\u001b[?25hDownloading rlds-0.1.8-py3-none-manylinux2010_x86_64.whl (48 kB)\r\n",
      "\u001b[2K   \u001b[90m━━━━━━━━━━━━━━━━━━━━━━━━━━━━━━━━━━━━━━━━\u001b[0m \u001b[32m48.4/48.4 kB\u001b[0m \u001b[31m2.9 MB/s\u001b[0m eta \u001b[36m0:00:00\u001b[0m\r\n",
      "\u001b[?25hDownloading tf_agents-0.19.0-py3-none-any.whl (1.4 MB)\r\n",
      "\u001b[2K   \u001b[90m━━━━━━━━━━━━━━━━━━━━━━━━━━━━━━━━━━━━━━━━\u001b[0m \u001b[32m1.4/1.4 MB\u001b[0m \u001b[31m51.8 MB/s\u001b[0m eta \u001b[36m0:00:00\u001b[0m\r\n",
      "\u001b[?25hDownloading keras-2.15.0-py3-none-any.whl (1.7 MB)\r\n",
      "\u001b[2K   \u001b[90m━━━━━━━━━━━━━━━━━━━━━━━━━━━━━━━━━━━━━━━━\u001b[0m \u001b[32m1.7/1.7 MB\u001b[0m \u001b[31m67.5 MB/s\u001b[0m eta \u001b[36m0:00:00\u001b[0m\r\n",
      "\u001b[?25hDownloading ml_dtypes-0.3.2-cp310-cp310-manylinux_2_17_x86_64.manylinux2014_x86_64.whl (2.2 MB)\r\n",
      "\u001b[2K   \u001b[90m━━━━━━━━━━━━━━━━━━━━━━━━━━━━━━━━━━━━━━━━\u001b[0m \u001b[32m2.2/2.2 MB\u001b[0m \u001b[31m67.3 MB/s\u001b[0m eta \u001b[36m0:00:00\u001b[0m\r\n",
      "\u001b[?25hDownloading tensorboard-2.15.2-py3-none-any.whl (5.5 MB)\r\n",
      "\u001b[2K   \u001b[90m━━━━━━━━━━━━━━━━━━━━━━━━━━━━━━━━━━━━━━━━\u001b[0m \u001b[32m5.5/5.5 MB\u001b[0m \u001b[31m98.4 MB/s\u001b[0m eta \u001b[36m0:00:00\u001b[0m\r\n",
      "\u001b[?25hDownloading tensorflow_estimator-2.15.0-py2.py3-none-any.whl (441 kB)\r\n",
      "\u001b[2K   \u001b[90m━━━━━━━━━━━━━━━━━━━━━━━━━━━━━━━━━━━━━━━━\u001b[0m \u001b[32m442.0/442.0 kB\u001b[0m \u001b[31m21.2 MB/s\u001b[0m eta \u001b[36m0:00:00\u001b[0m\r\n",
      "\u001b[?25hBuilding wheels for collected packages: gym\r\n",
      "  Building wheel for gym (pyproject.toml) ... \u001b[?25l\u001b[?25hdone\r\n",
      "  Created wheel for gym: filename=gym-0.23.0-py3-none-any.whl size=697709 sha256=bbb20f510c1b084a0017b90fd0407598971d8b75c67c4140b225a54347492826\r\n",
      "  Stored in directory: /root/.cache/pip/wheels/3d/6f/b4/3991d4fae11d0ecb0754c11cc1b4e7745012850da4efaaf0b1\r\n",
      "Successfully built gym\r\n",
      "Installing collected packages: wrapt, typing-extensions, tensorflow-estimator, pygame, keras, dm-reverb, tensorflow-probability, tensorboard, ml-dtypes, gym, tf-agents, tensorflow, rlds\r\n",
      "  Attempting uninstall: wrapt\r\n",
      "    Found existing installation: wrapt 1.17.0\r\n",
      "    Uninstalling wrapt-1.17.0:\r\n",
      "      Successfully uninstalled wrapt-1.17.0\r\n",
      "  Attempting uninstall: typing-extensions\r\n",
      "    Found existing installation: typing_extensions 4.12.2\r\n",
      "    Uninstalling typing_extensions-4.12.2:\r\n",
      "      Successfully uninstalled typing_extensions-4.12.2\r\n",
      "  Attempting uninstall: pygame\r\n",
      "    Found existing installation: pygame 2.6.1\r\n",
      "    Uninstalling pygame-2.6.1:\r\n",
      "      Successfully uninstalled pygame-2.6.1\r\n",
      "  Attempting uninstall: keras\r\n",
      "    Found existing installation: keras 3.5.0\r\n",
      "    Uninstalling keras-3.5.0:\r\n",
      "      Successfully uninstalled keras-3.5.0\r\n",
      "  Attempting uninstall: tensorflow-probability\r\n",
      "    Found existing installation: tensorflow-probability 0.24.0\r\n",
      "    Uninstalling tensorflow-probability-0.24.0:\r\n",
      "      Successfully uninstalled tensorflow-probability-0.24.0\r\n",
      "  Attempting uninstall: tensorboard\r\n",
      "    Found existing installation: tensorboard 2.17.1\r\n",
      "    Uninstalling tensorboard-2.17.1:\r\n",
      "      Successfully uninstalled tensorboard-2.17.1\r\n",
      "  Attempting uninstall: ml-dtypes\r\n",
      "    Found existing installation: ml-dtypes 0.4.1\r\n",
      "    Uninstalling ml-dtypes-0.4.1:\r\n",
      "      Successfully uninstalled ml-dtypes-0.4.1\r\n",
      "  Attempting uninstall: gym\r\n",
      "    Found existing installation: gym 0.25.2\r\n",
      "    Uninstalling gym-0.25.2:\r\n",
      "      Successfully uninstalled gym-0.25.2\r\n",
      "  Attempting uninstall: tensorflow\r\n",
      "    Found existing installation: tensorflow 2.17.1\r\n",
      "    Uninstalling tensorflow-2.17.1:\r\n",
      "      Successfully uninstalled tensorflow-2.17.1\r\n",
      "\u001b[31mERROR: pip's dependency resolver does not currently take into account all the packages that are installed. This behaviour is the source of the following dependency conflicts.\r\n",
      "sqlalchemy 2.0.36 requires typing-extensions>=4.6.0, but you have typing-extensions 4.5.0 which is incompatible.\r\n",
      "altair 5.5.0 requires typing-extensions>=4.10.0; python_version < \"3.14\", but you have typing-extensions 4.5.0 which is incompatible.\r\n",
      "langchain 0.3.12 requires async-timeout<5.0.0,>=4.0.0; python_version < \"3.11\", but you have async-timeout 5.0.1 which is incompatible.\r\n",
      "langchain-core 0.3.25 requires typing-extensions>=4.7, but you have typing-extensions 4.5.0 which is incompatible.\r\n",
      "nibabel 5.3.2 requires typing-extensions>=4.6; python_version < \"3.13\", but you have typing-extensions 4.5.0 which is incompatible.\r\n",
      "openai 1.57.4 requires typing-extensions<5,>=4.11, but you have typing-extensions 4.5.0 which is incompatible.\r\n",
      "pyopenssl 25.0.0 requires typing-extensions>=4.9; python_version < \"3.13\" and python_version >= \"3.8\", but you have typing-extensions 4.5.0 which is incompatible.\r\n",
      "pydantic 2.11.0a2 requires typing-extensions>=4.12.2, but you have typing-extensions 4.5.0 which is incompatible.\r\n",
      "pydantic-core 2.29.0 requires typing-extensions!=4.7.0,>=4.6.0, but you have typing-extensions 4.5.0 which is incompatible.\r\n",
      "tensorflow-decision-forests 1.10.0 requires tensorflow==2.17.0, but you have tensorflow 2.15.1 which is incompatible.\r\n",
      "tensorflow-text 2.17.0 requires tensorflow<2.18,>=2.17.0, but you have tensorflow 2.15.1 which is incompatible.\r\n",
      "tf-keras 2.17.0 requires tensorflow<2.18,>=2.17, but you have tensorflow 2.15.1 which is incompatible.\r\n",
      "torch 2.5.1+cu121 requires typing-extensions>=4.8.0, but you have typing-extensions 4.5.0 which is incompatible.\r\n",
      "typeguard 4.4.1 requires typing-extensions>=4.10.0, but you have typing-extensions 4.5.0 which is incompatible.\u001b[0m\u001b[31m\r\n",
      "\u001b[0mSuccessfully installed dm-reverb-0.14.0 gym-0.23.0 keras-2.15.0 ml-dtypes-0.3.2 pygame-2.1.3 rlds-0.1.8 tensorboard-2.15.2 tensorflow-2.15.1 tensorflow-estimator-2.15.0 tensorflow-probability-0.23.0 tf-agents-0.19.0 typing-extensions-4.5.0 wrapt-1.14.1\r\n",
      "Collecting pyglet\r\n",
      "  Downloading pyglet-2.1.3-py3-none-any.whl.metadata (7.7 kB)\r\n",
      "Downloading pyglet-2.1.3-py3-none-any.whl (962 kB)\r\n",
      "\u001b[2K   \u001b[90m━━━━━━━━━━━━━━━━━━━━━━━━━━━━━━━━━━━━━━━━\u001b[0m \u001b[32m962.1/962.1 kB\u001b[0m \u001b[31m12.8 MB/s\u001b[0m eta \u001b[36m0:00:00\u001b[0m\r\n",
      "\u001b[?25hInstalling collected packages: pyglet\r\n",
      "Successfully installed pyglet-2.1.3\r\n"
     ]
    }
   ],
   "source": [
    "!sudo apt-get update\n",
    "!sudo apt-get install -y xvfb ffmpeg freeglut3-dev\n",
    "!pip install 'imageio==2.4.0'\n",
    "!pip install pyvirtualdisplay\n",
    "!pip install tf-agents[reverb]\n",
    "!pip install pyglet"
   ]
  },
  {
   "cell_type": "code",
   "execution_count": 3,
   "id": "50c7c23c",
   "metadata": {
    "execution": {
     "iopub.execute_input": "2025-02-25T12:10:03.558553Z",
     "iopub.status.busy": "2025-02-25T12:10:03.558234Z",
     "iopub.status.idle": "2025-02-25T12:10:10.342425Z",
     "shell.execute_reply": "2025-02-25T12:10:10.341655Z"
    },
    "id": "sMitx5qSgJk1",
    "papermill": {
     "duration": 6.810166,
     "end_time": "2025-02-25T12:10:10.344114",
     "exception": false,
     "start_time": "2025-02-25T12:10:03.533948",
     "status": "completed"
    },
    "tags": []
   },
   "outputs": [],
   "source": [
    "from __future__ import absolute_import, division, print_function\n",
    "\n",
    "import base64\n",
    "import imageio\n",
    "import IPython\n",
    "import matplotlib\n",
    "import matplotlib.pyplot as plt\n",
    "import numpy as np\n",
    "import PIL.Image\n",
    "import pyvirtualdisplay\n",
    "import reverb\n",
    "\n",
    "import tensorflow as tf\n",
    "\n",
    "from tf_agents.agents.dqn import dqn_agent\n",
    "from tf_agents.drivers import py_driver\n",
    "from tf_agents.environments import suite_gym\n",
    "from tf_agents.environments import tf_py_environment\n",
    "from tf_agents.eval import metric_utils\n",
    "from tf_agents.metrics import tf_metrics\n",
    "from tf_agents.networks import sequential\n",
    "from tf_agents.policies import py_tf_eager_policy\n",
    "from tf_agents.policies import random_tf_policy\n",
    "from tf_agents.replay_buffers import reverb_replay_buffer\n",
    "from tf_agents.replay_buffers import reverb_utils\n",
    "from tf_agents.trajectories import trajectory\n",
    "from tf_agents.specs import tensor_spec\n",
    "from tf_agents.utils import common"
   ]
  },
  {
   "cell_type": "code",
   "execution_count": 4,
   "id": "06f80779",
   "metadata": {
    "execution": {
     "iopub.execute_input": "2025-02-25T12:10:10.393323Z",
     "iopub.status.busy": "2025-02-25T12:10:10.392769Z",
     "iopub.status.idle": "2025-02-25T12:10:11.010477Z",
     "shell.execute_reply": "2025-02-25T12:10:11.009334Z"
    },
    "id": "J6HsdS5GbSjd",
    "papermill": {
     "duration": 0.644657,
     "end_time": "2025-02-25T12:10:11.012337",
     "exception": false,
     "start_time": "2025-02-25T12:10:10.367680",
     "status": "completed"
    },
    "tags": []
   },
   "outputs": [],
   "source": [
    "# Set up a virtual display for rendering OpenAI gym environments.\n",
    "display = pyvirtualdisplay.Display(visible=0, size=(1400, 900)).start()"
   ]
  },
  {
   "cell_type": "code",
   "execution_count": 5,
   "id": "dd8f8a92",
   "metadata": {
    "execution": {
     "iopub.execute_input": "2025-02-25T12:10:11.059446Z",
     "iopub.status.busy": "2025-02-25T12:10:11.059168Z",
     "iopub.status.idle": "2025-02-25T12:10:11.064514Z",
     "shell.execute_reply": "2025-02-25T12:10:11.063879Z"
    },
    "id": "NspmzG4nP3b9",
    "papermill": {
     "duration": 0.030165,
     "end_time": "2025-02-25T12:10:11.065840",
     "exception": false,
     "start_time": "2025-02-25T12:10:11.035675",
     "status": "completed"
    },
    "tags": []
   },
   "outputs": [
    {
     "data": {
      "text/plain": [
       "'2.15.1'"
      ]
     },
     "execution_count": 5,
     "metadata": {},
     "output_type": "execute_result"
    }
   ],
   "source": [
    "tf.version.VERSION"
   ]
  },
  {
   "cell_type": "markdown",
   "id": "152dfa94",
   "metadata": {
    "id": "LmC0NDhdLIKY",
    "papermill": {
     "duration": 0.02325,
     "end_time": "2025-02-25T12:10:11.113130",
     "exception": false,
     "start_time": "2025-02-25T12:10:11.089880",
     "status": "completed"
    },
    "tags": []
   },
   "source": [
    "## Hyperparameters"
   ]
  },
  {
   "cell_type": "code",
   "execution_count": 6,
   "id": "7a7ebf3c",
   "metadata": {
    "execution": {
     "iopub.execute_input": "2025-02-25T12:10:11.161066Z",
     "iopub.status.busy": "2025-02-25T12:10:11.160752Z",
     "iopub.status.idle": "2025-02-25T12:10:11.164499Z",
     "shell.execute_reply": "2025-02-25T12:10:11.163859Z"
    },
    "id": "HC1kNrOsLSIZ",
    "papermill": {
     "duration": 0.029111,
     "end_time": "2025-02-25T12:10:11.165612",
     "exception": false,
     "start_time": "2025-02-25T12:10:11.136501",
     "status": "completed"
    },
    "tags": []
   },
   "outputs": [],
   "source": [
    "num_iterations = 200000 # @param {type:\"integer\"}\n",
    "\n",
    "initial_collect_steps = 100  # @param {type:\"integer\"}\n",
    "collect_steps_per_iteration =   1# @param {type:\"integer\"}\n",
    "replay_buffer_max_length = 100000  # @param {type:\"integer\"}\n",
    "\n",
    "batch_size = 64  # @param {type:\"integer\"}\n",
    "learning_rate = 1e-3  # @param {type:\"number\"}\n",
    "log_interval = 200  # @param {type:\"integer\"}\n",
    "\n",
    "num_eval_episodes = 10  # @param {type:\"integer\"}\n",
    "eval_interval = 1000  # @param {type:\"integer\"}"
   ]
  },
  {
   "cell_type": "markdown",
   "id": "0ed2054e",
   "metadata": {
    "id": "VMsJC3DEgI0x",
    "papermill": {
     "duration": 0.022987,
     "end_time": "2025-02-25T12:10:11.211944",
     "exception": false,
     "start_time": "2025-02-25T12:10:11.188957",
     "status": "completed"
    },
    "tags": []
   },
   "source": [
    "## Environment\n",
    "\n",
    "In Reinforcement Learning (RL), an environment represents the task or problem to be solved. Standard environments can be created in TF-Agents using `tf_agents.environments` suites. TF-Agents has suites for loading environments from sources such as the OpenAI Gym, Atari, and DM Control.\n",
    "\n",
    "Load the CartPole environment from the OpenAI Gym suite. "
   ]
  },
  {
   "cell_type": "code",
   "execution_count": 7,
   "id": "c8b49253",
   "metadata": {
    "execution": {
     "iopub.execute_input": "2025-02-25T12:10:11.259395Z",
     "iopub.status.busy": "2025-02-25T12:10:11.259152Z",
     "iopub.status.idle": "2025-02-25T12:10:11.297452Z",
     "shell.execute_reply": "2025-02-25T12:10:11.296587Z"
    },
    "id": "pYEz-S9gEv2-",
    "papermill": {
     "duration": 0.06356,
     "end_time": "2025-02-25T12:10:11.298886",
     "exception": false,
     "start_time": "2025-02-25T12:10:11.235326",
     "status": "completed"
    },
    "tags": []
   },
   "outputs": [],
   "source": [
    "env_name = 'MountainCar-v0'\n",
    "env = suite_gym.load(env_name)"
   ]
  },
  {
   "cell_type": "markdown",
   "id": "2442b8c7",
   "metadata": {
    "id": "IIHYVBkuvPNw",
    "papermill": {
     "duration": 0.023016,
     "end_time": "2025-02-25T12:10:11.345768",
     "exception": false,
     "start_time": "2025-02-25T12:10:11.322752",
     "status": "completed"
    },
    "tags": []
   },
   "source": [
    "You can render this environment to see how it looks. A free-swinging pole is attached to a cart.  The goal is to move the cart right or left in order to keep the pole pointing up."
   ]
  },
  {
   "cell_type": "code",
   "execution_count": 8,
   "id": "eb7ca6b8",
   "metadata": {
    "execution": {
     "iopub.execute_input": "2025-02-25T12:10:11.393935Z",
     "iopub.status.busy": "2025-02-25T12:10:11.393649Z",
     "iopub.status.idle": "2025-02-25T12:10:11.975301Z",
     "shell.execute_reply": "2025-02-25T12:10:11.974286Z"
    },
    "id": "RlO7WIQHu_7D",
    "papermill": {
     "duration": 0.607734,
     "end_time": "2025-02-25T12:10:11.976631",
     "exception": false,
     "start_time": "2025-02-25T12:10:11.368897",
     "status": "completed"
    },
    "tags": []
   },
   "outputs": [
    {
     "data": {
      "image/jpeg": "[encoded data removed]",
      "image/png": "[encoded data removed]",
      "text/plain": [
       "<PIL.Image.Image image mode=RGB size=600x400>"
      ]
     },
     "execution_count": 8,
     "metadata": {},
     "output_type": "execute_result"
    }
   ],
   "source": [
    "#@test {\"skip\": true}\n",
    "env.reset()\n",
    "PIL.Image.fromarray(env.render())"
   ]
  },
  {
   "cell_type": "markdown",
   "id": "db21ceb3",
   "metadata": {
    "id": "B9_lskPOey18",
    "papermill": {
     "duration": 0.023404,
     "end_time": "2025-02-25T12:10:12.024664",
     "exception": false,
     "start_time": "2025-02-25T12:10:12.001260",
     "status": "completed"
    },
    "tags": []
   },
   "source": [
    "The `environment.step` method takes an `action` in the environment and returns a `TimeStep` tuple containing the next observation of the environment and the reward for the action.\n",
    "\n",
    "The `time_step_spec()` method returns the specification for the `TimeStep` tuple. Its `observation` attribute shows the shape of observations, the data types, and the ranges of allowed values. The `reward` attribute shows the same details for the reward.\n"
   ]
  },
  {
   "cell_type": "code",
   "execution_count": 9,
   "id": "1899ed1c",
   "metadata": {
    "execution": {
     "iopub.execute_input": "2025-02-25T12:10:12.075261Z",
     "iopub.status.busy": "2025-02-25T12:10:12.074937Z",
     "iopub.status.idle": "2025-02-25T12:10:12.084948Z",
     "shell.execute_reply": "2025-02-25T12:10:12.084134Z"
    },
    "id": "exDv57iHfwQV",
    "papermill": {
     "duration": 0.037697,
     "end_time": "2025-02-25T12:10:12.086310",
     "exception": false,
     "start_time": "2025-02-25T12:10:12.048613",
     "status": "completed"
    },
    "tags": []
   },
   "outputs": [
    {
     "name": "stdout",
     "output_type": "stream",
     "text": [
      "Observation Spec:\n",
      "BoundedArraySpec(shape=(2,), dtype=dtype('float32'), name='observation', minimum=[-1.2  -0.07], maximum=[0.6  0.07])\n"
     ]
    }
   ],
   "source": [
    "print('Observation Spec:')\n",
    "print(env.time_step_spec().observation)"
   ]
  },
  {
   "cell_type": "code",
   "execution_count": 10,
   "id": "a87b1e4b",
   "metadata": {
    "execution": {
     "iopub.execute_input": "2025-02-25T12:10:12.179976Z",
     "iopub.status.busy": "2025-02-25T12:10:12.179476Z",
     "iopub.status.idle": "2025-02-25T12:10:12.184994Z",
     "shell.execute_reply": "2025-02-25T12:10:12.184262Z"
    },
    "id": "UxiSyCbBUQPi",
    "papermill": {
     "duration": 0.031876,
     "end_time": "2025-02-25T12:10:12.186183",
     "exception": false,
     "start_time": "2025-02-25T12:10:12.154307",
     "status": "completed"
    },
    "tags": []
   },
   "outputs": [
    {
     "name": "stdout",
     "output_type": "stream",
     "text": [
      "Reward Spec:\n",
      "ArraySpec(shape=(), dtype=dtype('float32'), name='reward')\n"
     ]
    }
   ],
   "source": [
    "print('Reward Spec:')\n",
    "print(env.time_step_spec().reward)"
   ]
  },
  {
   "cell_type": "markdown",
   "id": "826b0fcc",
   "metadata": {
    "id": "b_lHcIcqUaqB",
    "papermill": {
     "duration": 0.02575,
     "end_time": "2025-02-25T12:10:12.236717",
     "exception": false,
     "start_time": "2025-02-25T12:10:12.210967",
     "status": "completed"
    },
    "tags": []
   },
   "source": [
    "The `action_spec()` method returns the shape, data types, and allowed values of valid actions."
   ]
  },
  {
   "cell_type": "code",
   "execution_count": 11,
   "id": "ddd557e8",
   "metadata": {
    "execution": {
     "iopub.execute_input": "2025-02-25T12:10:12.290434Z",
     "iopub.status.busy": "2025-02-25T12:10:12.290109Z",
     "iopub.status.idle": "2025-02-25T12:10:12.295079Z",
     "shell.execute_reply": "2025-02-25T12:10:12.294190Z"
    },
    "id": "bttJ4uxZUQBr",
    "papermill": {
     "duration": 0.033413,
     "end_time": "2025-02-25T12:10:12.296633",
     "exception": false,
     "start_time": "2025-02-25T12:10:12.263220",
     "status": "completed"
    },
    "tags": []
   },
   "outputs": [
    {
     "name": "stdout",
     "output_type": "stream",
     "text": [
      "Action Spec:\n",
      "BoundedArraySpec(shape=(), dtype=dtype('int64'), name='action', minimum=0, maximum=2)\n"
     ]
    }
   ],
   "source": [
    "print('Action Spec:')\n",
    "print(env.action_spec())"
   ]
  },
  {
   "cell_type": "markdown",
   "id": "628bf499",
   "metadata": {
    "id": "eJCgJnx3g0yY",
    "papermill": {
     "duration": 0.026855,
     "end_time": "2025-02-25T12:10:12.351465",
     "exception": false,
     "start_time": "2025-02-25T12:10:12.324610",
     "status": "completed"
    },
    "tags": []
   },
   "source": [
    "In the Cartpole environment:\n",
    "\n",
    "-   `observation` is an array of 4 floats: \n",
    "    -   the position and velocity of the cart\n",
    "    -   the angular position and velocity of the pole \n",
    "-   `reward` is a scalar float value\n",
    "-   `action` is a scalar integer with only two possible values:\n",
    "    -   `0` — \"move left\"\n",
    "    -   `1` — \"move right\"\n"
   ]
  },
  {
   "cell_type": "code",
   "execution_count": 12,
   "id": "b1686a18",
   "metadata": {
    "execution": {
     "iopub.execute_input": "2025-02-25T12:10:12.408001Z",
     "iopub.status.busy": "2025-02-25T12:10:12.407607Z",
     "iopub.status.idle": "2025-02-25T12:10:12.415965Z",
     "shell.execute_reply": "2025-02-25T12:10:12.415094Z"
    },
    "id": "V2UGR5t_iZX-",
    "papermill": {
     "duration": 0.039947,
     "end_time": "2025-02-25T12:10:12.417389",
     "exception": false,
     "start_time": "2025-02-25T12:10:12.377442",
     "status": "completed"
    },
    "tags": []
   },
   "outputs": [
    {
     "name": "stdout",
     "output_type": "stream",
     "text": [
      "Time step:\n",
      "TimeStep(\n",
      "{'step_type': array(0, dtype=int32),\n",
      " 'reward': array(0., dtype=float32),\n",
      " 'discount': array(1., dtype=float32),\n",
      " 'observation': array([-0.49784526,  0.        ], dtype=float32)})\n",
      "1\n",
      "Next time step:\n",
      "TimeStep(\n",
      "{'step_type': array(1, dtype=int32),\n",
      " 'reward': array(-1., dtype=float32),\n",
      " 'discount': array(1., dtype=float32),\n",
      " 'observation': array([-4.9803820e-01, -1.9295934e-04], dtype=float32)})\n"
     ]
    }
   ],
   "source": [
    "time_step = env.reset()\n",
    "print('Time step:')\n",
    "print(time_step)\n",
    "\n",
    "action = np.array(1,dtype=np.int64)\n",
    "print(action)\n",
    "next_time_step = env.step(action)\n",
    "print('Next time step:')\n",
    "print(next_time_step)"
   ]
  },
  {
   "cell_type": "markdown",
   "id": "3db271cd",
   "metadata": {
    "id": "4JSc9GviWUBK",
    "papermill": {
     "duration": 0.023818,
     "end_time": "2025-02-25T12:10:12.465658",
     "exception": false,
     "start_time": "2025-02-25T12:10:12.441840",
     "status": "completed"
    },
    "tags": []
   },
   "source": [
    "Usually two environments are instantiated: one for training and one for evaluation. "
   ]
  },
  {
   "cell_type": "code",
   "execution_count": 13,
   "id": "60faa701",
   "metadata": {
    "execution": {
     "iopub.execute_input": "2025-02-25T12:10:12.515141Z",
     "iopub.status.busy": "2025-02-25T12:10:12.514696Z",
     "iopub.status.idle": "2025-02-25T12:10:12.521413Z",
     "shell.execute_reply": "2025-02-25T12:10:12.520477Z"
    },
    "id": "N7brXNIGWXjC",
    "papermill": {
     "duration": 0.033113,
     "end_time": "2025-02-25T12:10:12.522724",
     "exception": false,
     "start_time": "2025-02-25T12:10:12.489611",
     "status": "completed"
    },
    "tags": []
   },
   "outputs": [],
   "source": [
    "train_py_env = suite_gym.load(env_name)\n",
    "eval_py_env = suite_gym.load(env_name)"
   ]
  },
  {
   "cell_type": "markdown",
   "id": "5d3c8e7f",
   "metadata": {
    "id": "zuUqXAVmecTU",
    "papermill": {
     "duration": 0.023603,
     "end_time": "2025-02-25T12:10:12.570713",
     "exception": false,
     "start_time": "2025-02-25T12:10:12.547110",
     "status": "completed"
    },
    "tags": []
   },
   "source": [
    "The Cartpole environment, like most environments, is written in pure Python. This is converted to TensorFlow using the `TFPyEnvironment` wrapper.\n",
    "\n",
    "The original environment's API uses Numpy arrays. The `TFPyEnvironment` converts these to `Tensors` to make it compatible with Tensorflow agents and policies.\n"
   ]
  },
  {
   "cell_type": "code",
   "execution_count": 14,
   "id": "e077f4f9",
   "metadata": {
    "execution": {
     "iopub.execute_input": "2025-02-25T12:10:12.619330Z",
     "iopub.status.busy": "2025-02-25T12:10:12.619042Z",
     "iopub.status.idle": "2025-02-25T12:10:12.630307Z",
     "shell.execute_reply": "2025-02-25T12:10:12.629470Z"
    },
    "id": "Xp-Y4mD6eDhF",
    "papermill": {
     "duration": 0.037219,
     "end_time": "2025-02-25T12:10:12.631583",
     "exception": false,
     "start_time": "2025-02-25T12:10:12.594364",
     "status": "completed"
    },
    "tags": []
   },
   "outputs": [],
   "source": [
    "train_env = tf_py_environment.TFPyEnvironment(train_py_env)\n",
    "eval_env = tf_py_environment.TFPyEnvironment(eval_py_env)"
   ]
  },
  {
   "cell_type": "markdown",
   "id": "69db7238",
   "metadata": {
    "id": "E9lW_OZYFR8A",
    "papermill": {
     "duration": 0.023239,
     "end_time": "2025-02-25T12:10:12.679224",
     "exception": false,
     "start_time": "2025-02-25T12:10:12.655985",
     "status": "completed"
    },
    "tags": []
   },
   "source": [
    "## Agent\n",
    "\n",
    "The algorithm used to solve an RL problem is represented by an `Agent`. TF-Agents provides standard implementations of a variety of `Agents`, including:\n",
    "\n",
    "-   [DQN](https://storage.googleapis.com/deepmind-media/dqn/DQNNaturePaper.pdf) (used in this tutorial)\n",
    "-   [REINFORCE](https://www-anw.cs.umass.edu/~barto/courses/cs687/williams92simple.pdf)\n",
    "-   [DDPG](https://arxiv.org/pdf/1509.02971.pdf)\n",
    "-   [TD3](https://arxiv.org/pdf/1802.09477.pdf)\n",
    "-   [PPO](https://arxiv.org/abs/1707.06347)\n",
    "-   [SAC](https://arxiv.org/abs/1801.01290)\n",
    "\n",
    "The DQN agent can be used in any environment which has a discrete action space.\n",
    "\n",
    "At the heart of a DQN Agent is a `QNetwork`, a neural network model that can learn to predict `QValues` (expected returns) for all actions, given an observation from the environment.\n",
    "\n",
    "We will use `tf_agents.networks.` to create a `QNetwork`. The network will consist of a sequence of `tf.keras.layers.Dense` layers, where the final layer will have 1 output for each possible action."
   ]
  },
  {
   "cell_type": "code",
   "execution_count": 15,
   "id": "c2e0ca40",
   "metadata": {
    "execution": {
     "iopub.execute_input": "2025-02-25T12:10:12.740216Z",
     "iopub.status.busy": "2025-02-25T12:10:12.739695Z",
     "iopub.status.idle": "2025-02-25T12:10:12.777966Z",
     "shell.execute_reply": "2025-02-25T12:10:12.776895Z"
    },
    "id": "TgkdEPg_muzV",
    "papermill": {
     "duration": 0.076563,
     "end_time": "2025-02-25T12:10:12.779468",
     "exception": false,
     "start_time": "2025-02-25T12:10:12.702905",
     "status": "completed"
    },
    "tags": []
   },
   "outputs": [],
   "source": [
    "fc_layer_params = (100, 50)\n",
    "action_tensor_spec = tensor_spec.from_spec(env.action_spec())\n",
    "num_actions = action_tensor_spec.maximum - action_tensor_spec.minimum + 1\n",
    "\n",
    "# Define a helper function to create Dense layers configured with the right\n",
    "# activation and kernel initializer.\n",
    "def dense_layer(num_units):\n",
    "  return tf.keras.layers.Dense(\n",
    "      num_units,\n",
    "      activation=tf.keras.activations.relu,\n",
    "      kernel_initializer=tf.keras.initializers.VarianceScaling(\n",
    "          scale=2.0, mode='fan_in', distribution='truncated_normal'))\n",
    "\n",
    "# QNetwork consists of a sequence of Dense layers followed by a dense layer\n",
    "# with `num_actions` units to generate one q_value per available action as\n",
    "# its output.\n",
    "dense_layers = [dense_layer(num_units) for num_units in fc_layer_params]\n",
    "q_values_layer = tf.keras.layers.Dense(\n",
    "    num_actions,\n",
    "    activation=None,\n",
    "    kernel_initializer=tf.keras.initializers.RandomUniform(\n",
    "        minval=-0.03, maxval=0.03),\n",
    "    bias_initializer=tf.keras.initializers.Constant(-0.2))\n",
    "q_net = sequential.Sequential(dense_layers + [q_values_layer])"
   ]
  },
  {
   "cell_type": "markdown",
   "id": "3229936a",
   "metadata": {
    "id": "z62u55hSmviJ",
    "papermill": {
     "duration": 0.04501,
     "end_time": "2025-02-25T12:10:12.872761",
     "exception": false,
     "start_time": "2025-02-25T12:10:12.827751",
     "status": "completed"
    },
    "tags": []
   },
   "source": [
    "Now use `tf_agents.agents.dqn.dqn_agent` to instantiate a `DqnAgent`. In addition to the `time_step_spec`, `action_spec` and the QNetwork, the agent constructor also requires an optimizer (in this case, `AdamOptimizer`), a loss function, and an integer step counter."
   ]
  },
  {
   "cell_type": "code",
   "execution_count": 16,
   "id": "b714f5ef",
   "metadata": {
    "execution": {
     "iopub.execute_input": "2025-02-25T12:10:12.963766Z",
     "iopub.status.busy": "2025-02-25T12:10:12.963434Z",
     "iopub.status.idle": "2025-02-25T12:10:14.315522Z",
     "shell.execute_reply": "2025-02-25T12:10:14.314535Z"
    },
    "id": "jbY4yrjTEyc9",
    "papermill": {
     "duration": 1.398267,
     "end_time": "2025-02-25T12:10:14.318004",
     "exception": false,
     "start_time": "2025-02-25T12:10:12.919737",
     "status": "completed"
    },
    "tags": []
   },
   "outputs": [],
   "source": [
    "optimizer = tf.keras.optimizers.Adam(learning_rate=learning_rate)\n",
    "\n",
    "train_step_counter = tf.Variable(0)\n",
    "\n",
    "agent = dqn_agent.DqnAgent(\n",
    "    train_env.time_step_spec(),\n",
    "    train_env.action_spec(),\n",
    "    q_network=q_net,\n",
    "    optimizer=optimizer,\n",
    "    td_errors_loss_fn=common.element_wise_squared_loss,\n",
    "    train_step_counter=train_step_counter)\n",
    "\n",
    "agent.initialize()"
   ]
  },
  {
   "cell_type": "markdown",
   "id": "0bf0a55f",
   "metadata": {
    "id": "I0KLrEPwkn5x",
    "papermill": {
     "duration": 0.023816,
     "end_time": "2025-02-25T12:10:14.371719",
     "exception": false,
     "start_time": "2025-02-25T12:10:14.347903",
     "status": "completed"
    },
    "tags": []
   },
   "source": [
    "## Policies\n",
    "\n",
    "A policy defines the way an agent acts in an environment. Typically, the goal of reinforcement learning is to train the underlying model until the policy produces the desired outcome.\n",
    "\n",
    "In this tutorial:\n",
    "\n",
    "-   The desired outcome is keeping the pole balanced upright over the cart.\n",
    "-   The policy returns an action (left or right) for each `time_step` observation.\n",
    "\n",
    "Agents contain two policies: \n",
    "\n",
    "-   `agent.policy` — The main policy that is used for evaluation and deployment.\n",
    "-   `agent.collect_policy` — A second policy that is used for data collection.\n"
   ]
  },
  {
   "cell_type": "code",
   "execution_count": 17,
   "id": "433ac2df",
   "metadata": {
    "execution": {
     "iopub.execute_input": "2025-02-25T12:10:14.421198Z",
     "iopub.status.busy": "2025-02-25T12:10:14.420909Z",
     "iopub.status.idle": "2025-02-25T12:10:14.424601Z",
     "shell.execute_reply": "2025-02-25T12:10:14.423726Z"
    },
    "id": "BwY7StuMkuV4",
    "papermill": {
     "duration": 0.029397,
     "end_time": "2025-02-25T12:10:14.425973",
     "exception": false,
     "start_time": "2025-02-25T12:10:14.396576",
     "status": "completed"
    },
    "tags": []
   },
   "outputs": [],
   "source": [
    "eval_policy = agent.policy\n",
    "collect_policy = agent.collect_policy"
   ]
  },
  {
   "cell_type": "markdown",
   "id": "39b0bce0",
   "metadata": {
    "id": "2Qs1Fl3dV0ae",
    "papermill": {
     "duration": 0.023682,
     "end_time": "2025-02-25T12:10:14.473680",
     "exception": false,
     "start_time": "2025-02-25T12:10:14.449998",
     "status": "completed"
    },
    "tags": []
   },
   "source": [
    "Policies can be created independently of agents. For example, use `tf_agents.policies.random_tf_policy` to create a policy which will randomly select an action for each `time_step`."
   ]
  },
  {
   "cell_type": "code",
   "execution_count": 18,
   "id": "f30f1e08",
   "metadata": {
    "execution": {
     "iopub.execute_input": "2025-02-25T12:10:14.522458Z",
     "iopub.status.busy": "2025-02-25T12:10:14.522139Z",
     "iopub.status.idle": "2025-02-25T12:10:14.526109Z",
     "shell.execute_reply": "2025-02-25T12:10:14.525267Z"
    },
    "id": "HE37-UCIrE69",
    "papermill": {
     "duration": 0.030097,
     "end_time": "2025-02-25T12:10:14.527415",
     "exception": false,
     "start_time": "2025-02-25T12:10:14.497318",
     "status": "completed"
    },
    "tags": []
   },
   "outputs": [],
   "source": [
    "random_policy = random_tf_policy.RandomTFPolicy(train_env.time_step_spec(),\n",
    "                                                train_env.action_spec())"
   ]
  },
  {
   "cell_type": "markdown",
   "id": "0a44929e",
   "metadata": {
    "id": "dOlnlRRsUbxP",
    "papermill": {
     "duration": 0.023989,
     "end_time": "2025-02-25T12:10:14.575300",
     "exception": false,
     "start_time": "2025-02-25T12:10:14.551311",
     "status": "completed"
    },
    "tags": []
   },
   "source": [
    "To get an action from a policy, call the `policy.action(time_step)` method. The `time_step` contains the observation from the environment. This method returns a `PolicyStep`, which is a named tuple with three components:\n",
    "\n",
    "-   `action` — the action to be taken (in this case, `0` or `1`)\n",
    "-   `state` — used for stateful (that is, RNN-based) policies\n",
    "-   `info` — auxiliary data, such as log probabilities of actions"
   ]
  },
  {
   "cell_type": "code",
   "execution_count": 19,
   "id": "9ce41a9d",
   "metadata": {
    "execution": {
     "iopub.execute_input": "2025-02-25T12:10:14.623427Z",
     "iopub.status.busy": "2025-02-25T12:10:14.623170Z",
     "iopub.status.idle": "2025-02-25T12:10:14.630392Z",
     "shell.execute_reply": "2025-02-25T12:10:14.629525Z"
    },
    "id": "5gCcpXswVAxk",
    "papermill": {
     "duration": 0.033103,
     "end_time": "2025-02-25T12:10:14.631857",
     "exception": false,
     "start_time": "2025-02-25T12:10:14.598754",
     "status": "completed"
    },
    "tags": []
   },
   "outputs": [],
   "source": [
    "example_environment = tf_py_environment.TFPyEnvironment(\n",
    "    suite_gym.load('MountainCar-v0'))"
   ]
  },
  {
   "cell_type": "code",
   "execution_count": 20,
   "id": "5b059284",
   "metadata": {
    "execution": {
     "iopub.execute_input": "2025-02-25T12:10:14.680587Z",
     "iopub.status.busy": "2025-02-25T12:10:14.680370Z",
     "iopub.status.idle": "2025-02-25T12:10:14.686460Z",
     "shell.execute_reply": "2025-02-25T12:10:14.685865Z"
    },
    "id": "D4DHZtq3Ndis",
    "papermill": {
     "duration": 0.031963,
     "end_time": "2025-02-25T12:10:14.687628",
     "exception": false,
     "start_time": "2025-02-25T12:10:14.655665",
     "status": "completed"
    },
    "tags": []
   },
   "outputs": [],
   "source": [
    "time_step = example_environment.reset()"
   ]
  },
  {
   "cell_type": "code",
   "execution_count": 21,
   "id": "0819da7b",
   "metadata": {
    "execution": {
     "iopub.execute_input": "2025-02-25T12:10:14.735448Z",
     "iopub.status.busy": "2025-02-25T12:10:14.735192Z",
     "iopub.status.idle": "2025-02-25T12:10:15.599462Z",
     "shell.execute_reply": "2025-02-25T12:10:15.598584Z"
    },
    "id": "PRFqAUzpNaAW",
    "papermill": {
     "duration": 0.889823,
     "end_time": "2025-02-25T12:10:15.600816",
     "exception": false,
     "start_time": "2025-02-25T12:10:14.710993",
     "status": "completed"
    },
    "tags": []
   },
   "outputs": [
    {
     "data": {
      "text/plain": [
       "PolicyStep(action=<tf.Tensor: shape=(1,), dtype=int64, numpy=array([0])>, state=(), info=())"
      ]
     },
     "execution_count": 21,
     "metadata": {},
     "output_type": "execute_result"
    }
   ],
   "source": [
    "random_policy.action(time_step)"
   ]
  },
  {
   "cell_type": "markdown",
   "id": "b7b1e966",
   "metadata": {
    "id": "94rCXQtbUbXv",
    "papermill": {
     "duration": 0.024858,
     "end_time": "2025-02-25T12:10:15.650398",
     "exception": false,
     "start_time": "2025-02-25T12:10:15.625540",
     "status": "completed"
    },
    "tags": []
   },
   "source": [
    "## Metrics and Evaluation\n",
    "\n",
    "The most common metric used to evaluate a policy is the average return. The return is the sum of rewards obtained while running a policy in an environment for an episode. Several episodes are run, creating an average return.\n",
    "\n",
    "The following function computes the average return of a policy, given the policy, environment, and a number of episodes.\n"
   ]
  },
  {
   "cell_type": "code",
   "execution_count": 22,
   "id": "932cf64b",
   "metadata": {
    "execution": {
     "iopub.execute_input": "2025-02-25T12:10:15.698984Z",
     "iopub.status.busy": "2025-02-25T12:10:15.698657Z",
     "iopub.status.idle": "2025-02-25T12:10:15.703513Z",
     "shell.execute_reply": "2025-02-25T12:10:15.702825Z"
    },
    "id": "bitzHo5_UbXy",
    "papermill": {
     "duration": 0.030721,
     "end_time": "2025-02-25T12:10:15.704761",
     "exception": false,
     "start_time": "2025-02-25T12:10:15.674040",
     "status": "completed"
    },
    "tags": []
   },
   "outputs": [],
   "source": [
    "#@test {\"skip\": true}\n",
    "def compute_avg_return(environment, policy, num_episodes=10):\n",
    "\n",
    "  total_return = 0.0\n",
    "  for _ in range(num_episodes):\n",
    "\n",
    "    time_step = environment.reset()\n",
    "    episode_return = 0.0\n",
    "\n",
    "    while not time_step.is_last():\n",
    "      action_step = policy.action(time_step)\n",
    "      time_step = environment.step(action_step.action)\n",
    "      episode_return += time_step.reward\n",
    "    total_return += episode_return\n",
    "\n",
    "  avg_return = total_return / num_episodes\n",
    "  return avg_return.numpy()[0]\n",
    "\n",
    "\n",
    "# See also the metrics module for standard implementations of different metrics.\n",
    "# https://github.com/tensorflow/agents/tree/master/tf_agents/metrics"
   ]
  },
  {
   "cell_type": "markdown",
   "id": "0a8a44b4",
   "metadata": {
    "id": "_snCVvq5Z8lJ",
    "papermill": {
     "duration": 0.023984,
     "end_time": "2025-02-25T12:10:15.752959",
     "exception": false,
     "start_time": "2025-02-25T12:10:15.728975",
     "status": "completed"
    },
    "tags": []
   },
   "source": [
    "Running this computation on the `random_policy` shows a baseline performance in the environment."
   ]
  },
  {
   "cell_type": "code",
   "execution_count": 23,
   "id": "673c5ead",
   "metadata": {
    "execution": {
     "iopub.execute_input": "2025-02-25T12:10:15.801387Z",
     "iopub.status.busy": "2025-02-25T12:10:15.801125Z",
     "iopub.status.idle": "2025-02-25T12:10:24.470672Z",
     "shell.execute_reply": "2025-02-25T12:10:24.469610Z"
    },
    "id": "9bgU6Q6BZ8Bp",
    "papermill": {
     "duration": 8.695332,
     "end_time": "2025-02-25T12:10:24.472198",
     "exception": false,
     "start_time": "2025-02-25T12:10:15.776866",
     "status": "completed"
    },
    "tags": []
   },
   "outputs": [
    {
     "data": {
      "text/plain": [
       "-200.0"
      ]
     },
     "execution_count": 23,
     "metadata": {},
     "output_type": "execute_result"
    }
   ],
   "source": [
    "compute_avg_return(eval_env, random_policy, num_eval_episodes)"
   ]
  },
  {
   "cell_type": "markdown",
   "id": "b67505b5",
   "metadata": {
    "id": "NLva6g2jdWgr",
    "papermill": {
     "duration": 0.024031,
     "end_time": "2025-02-25T12:10:24.522634",
     "exception": false,
     "start_time": "2025-02-25T12:10:24.498603",
     "status": "completed"
    },
    "tags": []
   },
   "source": [
    "## Replay Buffer\n",
    "\n",
    "In order to keep track of the data collected from the environment, we will use [Reverb](https://deepmind.com/research/open-source/Reverb), an efficient, extensible, and easy-to-use replay system by Deepmind. It stores experience data when we collect trajectories and is consumed during training.\n",
    "\n",
    "This replay buffer is constructed using specs describing the tensors that are to be stored, which can be obtained from the agent using agent.collect_data_spec.\n"
   ]
  },
  {
   "cell_type": "code",
   "execution_count": 24,
   "id": "f0b6bf3c",
   "metadata": {
    "execution": {
     "iopub.execute_input": "2025-02-25T12:10:24.571188Z",
     "iopub.status.busy": "2025-02-25T12:10:24.570909Z",
     "iopub.status.idle": "2025-02-25T12:10:24.587706Z",
     "shell.execute_reply": "2025-02-25T12:10:24.587084Z"
    },
    "id": "vX2zGUWJGWAl",
    "papermill": {
     "duration": 0.042574,
     "end_time": "2025-02-25T12:10:24.589151",
     "exception": false,
     "start_time": "2025-02-25T12:10:24.546577",
     "status": "completed"
    },
    "tags": []
   },
   "outputs": [],
   "source": [
    "table_name = 'uniform_table'\n",
    "replay_buffer_signature = tensor_spec.from_spec(\n",
    "      agent.collect_data_spec)\n",
    "replay_buffer_signature = tensor_spec.add_outer_dim(\n",
    "    replay_buffer_signature)\n",
    "\n",
    "table = reverb.Table(\n",
    "    table_name,\n",
    "    max_size=replay_buffer_max_length,\n",
    "    sampler=reverb.selectors.Uniform(),\n",
    "    remover=reverb.selectors.Fifo(),\n",
    "    rate_limiter=reverb.rate_limiters.MinSize(1),\n",
    "    signature=replay_buffer_signature)\n",
    "\n",
    "reverb_server = reverb.Server([table])\n",
    "\n",
    "replay_buffer = reverb_replay_buffer.ReverbReplayBuffer(\n",
    "    agent.collect_data_spec,\n",
    "    table_name=table_name,\n",
    "    sequence_length=2,\n",
    "    local_server=reverb_server)\n",
    "\n",
    "rb_observer = reverb_utils.ReverbAddTrajectoryObserver(\n",
    "  replay_buffer.py_client,\n",
    "  table_name,\n",
    "  sequence_length=2)"
   ]
  },
  {
   "cell_type": "markdown",
   "id": "a433968b",
   "metadata": {
    "id": "ZGNTDJpZs4NN",
    "papermill": {
     "duration": 0.023642,
     "end_time": "2025-02-25T12:10:24.636887",
     "exception": false,
     "start_time": "2025-02-25T12:10:24.613245",
     "status": "completed"
    },
    "tags": []
   },
   "source": [
    "For most agents, `collect_data_spec` is a named tuple called `Trajectory`, containing the specs for observations, actions, rewards, and other items."
   ]
  },
  {
   "cell_type": "code",
   "execution_count": 25,
   "id": "1f28b803",
   "metadata": {
    "execution": {
     "iopub.execute_input": "2025-02-25T12:10:24.684988Z",
     "iopub.status.busy": "2025-02-25T12:10:24.684686Z",
     "iopub.status.idle": "2025-02-25T12:10:24.690662Z",
     "shell.execute_reply": "2025-02-25T12:10:24.689987Z"
    },
    "id": "_IZ-3HcqgE1z",
    "papermill": {
     "duration": 0.031664,
     "end_time": "2025-02-25T12:10:24.691993",
     "exception": false,
     "start_time": "2025-02-25T12:10:24.660329",
     "status": "completed"
    },
    "tags": []
   },
   "outputs": [
    {
     "data": {
      "text/plain": [
       "Trajectory(\n",
       "{'step_type': TensorSpec(shape=(), dtype=tf.int32, name='step_type'),\n",
       " 'observation': BoundedTensorSpec(shape=(2,), dtype=tf.float32, name='observation', minimum=array([-1.2 , -0.07], dtype=float32), maximum=array([0.6 , 0.07], dtype=float32)),\n",
       " 'action': BoundedTensorSpec(shape=(), dtype=tf.int64, name='action', minimum=array(0), maximum=array(2)),\n",
       " 'policy_info': (),\n",
       " 'next_step_type': TensorSpec(shape=(), dtype=tf.int32, name='step_type'),\n",
       " 'reward': TensorSpec(shape=(), dtype=tf.float32, name='reward'),\n",
       " 'discount': BoundedTensorSpec(shape=(), dtype=tf.float32, name='discount', minimum=array(0., dtype=float32), maximum=array(1., dtype=float32))})"
      ]
     },
     "execution_count": 25,
     "metadata": {},
     "output_type": "execute_result"
    }
   ],
   "source": [
    "agent.collect_data_spec"
   ]
  },
  {
   "cell_type": "code",
   "execution_count": 26,
   "id": "5cb39d91",
   "metadata": {
    "execution": {
     "iopub.execute_input": "2025-02-25T12:10:24.740511Z",
     "iopub.status.busy": "2025-02-25T12:10:24.740301Z",
     "iopub.status.idle": "2025-02-25T12:10:24.744702Z",
     "shell.execute_reply": "2025-02-25T12:10:24.744024Z"
    },
    "id": "sy6g1tGcfRlw",
    "papermill": {
     "duration": 0.030067,
     "end_time": "2025-02-25T12:10:24.745932",
     "exception": false,
     "start_time": "2025-02-25T12:10:24.715865",
     "status": "completed"
    },
    "tags": []
   },
   "outputs": [
    {
     "data": {
      "text/plain": [
       "('step_type',\n",
       " 'observation',\n",
       " 'action',\n",
       " 'policy_info',\n",
       " 'next_step_type',\n",
       " 'reward',\n",
       " 'discount')"
      ]
     },
     "execution_count": 26,
     "metadata": {},
     "output_type": "execute_result"
    }
   ],
   "source": [
    "agent.collect_data_spec._fields"
   ]
  },
  {
   "cell_type": "markdown",
   "id": "c545f97c",
   "metadata": {
    "id": "rVD5nQ9ZGo8_",
    "papermill": {
     "duration": 0.02375,
     "end_time": "2025-02-25T12:10:24.794184",
     "exception": false,
     "start_time": "2025-02-25T12:10:24.770434",
     "status": "completed"
    },
    "tags": []
   },
   "source": [
    "## Data Collection\n",
    "\n",
    "Now execute the random policy in the environment for a few steps, recording the data in the replay buffer.\n",
    "\n",
    "Here we are using 'PyDriver' to run the experience collecting loop. You can learn more about TF Agents driver in our [drivers tutorial](https://www.tensorflow.org/agents/tutorials/4_drivers_tutorial)."
   ]
  },
  {
   "cell_type": "code",
   "execution_count": 27,
   "id": "58809cbb",
   "metadata": {
    "execution": {
     "iopub.execute_input": "2025-02-25T12:10:24.842691Z",
     "iopub.status.busy": "2025-02-25T12:10:24.842428Z",
     "iopub.status.idle": "2025-02-25T12:10:25.135371Z",
     "shell.execute_reply": "2025-02-25T12:10:25.134526Z"
    },
    "id": "wr1KSAEGG4h9",
    "papermill": {
     "duration": 0.3188,
     "end_time": "2025-02-25T12:10:25.136716",
     "exception": false,
     "start_time": "2025-02-25T12:10:24.817916",
     "status": "completed"
    },
    "tags": []
   },
   "outputs": [
    {
     "data": {
      "text/plain": [
       "(TimeStep(\n",
       " {'step_type': array(1, dtype=int32),\n",
       "  'reward': array(-1., dtype=float32),\n",
       "  'discount': array(1., dtype=float32),\n",
       "  'observation': array([-0.56502384, -0.00150817], dtype=float32)}),\n",
       " ())"
      ]
     },
     "execution_count": 27,
     "metadata": {},
     "output_type": "execute_result"
    }
   ],
   "source": [
    "#@test {\"skip\": true}\n",
    "py_driver.PyDriver(\n",
    "    env,\n",
    "    py_tf_eager_policy.PyTFEagerPolicy(\n",
    "      random_policy, use_tf_function=True),\n",
    "    [rb_observer],\n",
    "    max_steps=initial_collect_steps).run(train_py_env.reset())"
   ]
  },
  {
   "cell_type": "markdown",
   "id": "fccf9647",
   "metadata": {
    "id": "84z5pQJdoKxo",
    "papermill": {
     "duration": 0.028009,
     "end_time": "2025-02-25T12:10:25.194259",
     "exception": false,
     "start_time": "2025-02-25T12:10:25.166250",
     "status": "completed"
    },
    "tags": []
   },
   "source": [
    "The replay buffer is now a collection of Trajectories."
   ]
  },
  {
   "cell_type": "code",
   "execution_count": 28,
   "id": "ddb8d4b6",
   "metadata": {
    "execution": {
     "iopub.execute_input": "2025-02-25T12:10:25.247959Z",
     "iopub.status.busy": "2025-02-25T12:10:25.247602Z",
     "iopub.status.idle": "2025-02-25T12:10:25.250982Z",
     "shell.execute_reply": "2025-02-25T12:10:25.250106Z"
    },
    "id": "4wZnLu2ViO4E",
    "papermill": {
     "duration": 0.030796,
     "end_time": "2025-02-25T12:10:25.252274",
     "exception": false,
     "start_time": "2025-02-25T12:10:25.221478",
     "status": "completed"
    },
    "tags": []
   },
   "outputs": [],
   "source": [
    "# For the curious:\n",
    "# Uncomment to peel one of these off and inspect it.\n",
    "# iter(replay_buffer.as_dataset()).next()"
   ]
  },
  {
   "cell_type": "markdown",
   "id": "018b63f6",
   "metadata": {
    "id": "TujU-PMUsKjS",
    "papermill": {
     "duration": 0.023856,
     "end_time": "2025-02-25T12:10:25.300919",
     "exception": false,
     "start_time": "2025-02-25T12:10:25.277063",
     "status": "completed"
    },
    "tags": []
   },
   "source": [
    "The agent needs access to the replay buffer. This is provided by creating an iterable `tf.data.Dataset` pipeline which will feed data to the agent.\n",
    "\n",
    "Each row of the replay buffer only stores a single observation step. But since the DQN Agent needs both the current and next observation to compute the loss, the dataset pipeline will sample two adjacent rows for each item in the batch (`num_steps=2`).\n",
    "\n",
    "This dataset is also optimized by running parallel calls and prefetching data."
   ]
  },
  {
   "cell_type": "code",
   "execution_count": 29,
   "id": "78b6d50a",
   "metadata": {
    "execution": {
     "iopub.execute_input": "2025-02-25T12:10:25.349948Z",
     "iopub.status.busy": "2025-02-25T12:10:25.349655Z",
     "iopub.status.idle": "2025-02-25T12:10:25.931435Z",
     "shell.execute_reply": "2025-02-25T12:10:25.930537Z"
    },
    "id": "ba7bilizt_qW",
    "papermill": {
     "duration": 0.607684,
     "end_time": "2025-02-25T12:10:25.932883",
     "exception": false,
     "start_time": "2025-02-25T12:10:25.325199",
     "status": "completed"
    },
    "tags": []
   },
   "outputs": [
    {
     "data": {
      "text/plain": [
       "<_PrefetchDataset element_spec=(Trajectory(\n",
       "{'step_type': TensorSpec(shape=(64, 2), dtype=tf.int32, name=None),\n",
       " 'observation': TensorSpec(shape=(64, 2, 2), dtype=tf.float32, name=None),\n",
       " 'action': TensorSpec(shape=(64, 2), dtype=tf.int64, name=None),\n",
       " 'policy_info': (),\n",
       " 'next_step_type': TensorSpec(shape=(64, 2), dtype=tf.int32, name=None),\n",
       " 'reward': TensorSpec(shape=(64, 2), dtype=tf.float32, name=None),\n",
       " 'discount': TensorSpec(shape=(64, 2), dtype=tf.float32, name=None)}), SampleInfo(key=TensorSpec(shape=(64, 2), dtype=tf.uint64, name=None), probability=TensorSpec(shape=(64, 2), dtype=tf.float64, name=None), table_size=TensorSpec(shape=(64, 2), dtype=tf.int64, name=None), priority=TensorSpec(shape=(64, 2), dtype=tf.float64, name=None), times_sampled=TensorSpec(shape=(64, 2), dtype=tf.int32, name=None)))>"
      ]
     },
     "execution_count": 29,
     "metadata": {},
     "output_type": "execute_result"
    }
   ],
   "source": [
    "# Dataset generates trajectories with shape [Bx2x...]\n",
    "dataset = replay_buffer.as_dataset(\n",
    "    num_parallel_calls=3,\n",
    "    sample_batch_size=batch_size,\n",
    "    num_steps=2).prefetch(3)\n",
    "\n",
    "dataset"
   ]
  },
  {
   "cell_type": "code",
   "execution_count": 30,
   "id": "0b4d7d59",
   "metadata": {
    "execution": {
     "iopub.execute_input": "2025-02-25T12:10:25.983578Z",
     "iopub.status.busy": "2025-02-25T12:10:25.983311Z",
     "iopub.status.idle": "2025-02-25T12:10:26.059599Z",
     "shell.execute_reply": "2025-02-25T12:10:26.058898Z"
    },
    "id": "K13AST-2ppOq",
    "papermill": {
     "duration": 0.102141,
     "end_time": "2025-02-25T12:10:26.060821",
     "exception": false,
     "start_time": "2025-02-25T12:10:25.958680",
     "status": "completed"
    },
    "tags": []
   },
   "outputs": [
    {
     "name": "stdout",
     "output_type": "stream",
     "text": [
      "<tensorflow.python.data.ops.iterator_ops.OwnedIterator object at 0x7d25e1118eb0>\n"
     ]
    }
   ],
   "source": [
    "iterator = iter(dataset)\n",
    "print(iterator)"
   ]
  },
  {
   "cell_type": "code",
   "execution_count": 31,
   "id": "a9cdc57b",
   "metadata": {
    "execution": {
     "iopub.execute_input": "2025-02-25T12:10:26.111092Z",
     "iopub.status.busy": "2025-02-25T12:10:26.110817Z",
     "iopub.status.idle": "2025-02-25T12:10:26.114036Z",
     "shell.execute_reply": "2025-02-25T12:10:26.113146Z"
    },
    "id": "Th5w5Sff0b16",
    "papermill": {
     "duration": 0.029675,
     "end_time": "2025-02-25T12:10:26.115432",
     "exception": false,
     "start_time": "2025-02-25T12:10:26.085757",
     "status": "completed"
    },
    "tags": []
   },
   "outputs": [],
   "source": [
    "# For the curious:\n",
    "# Uncomment to see what the dataset iterator is feeding to the agent.\n",
    "# Compare this representation of replay data \n",
    "# to the collection of individual trajectories shown earlier.\n",
    "\n",
    "# iterator.next()"
   ]
  },
  {
   "cell_type": "markdown",
   "id": "d57024c3",
   "metadata": {
    "id": "hBc9lj9VWWtZ",
    "papermill": {
     "duration": 0.024023,
     "end_time": "2025-02-25T12:10:26.163980",
     "exception": false,
     "start_time": "2025-02-25T12:10:26.139957",
     "status": "completed"
    },
    "tags": []
   },
   "source": [
    "## Training the agent\n",
    "\n",
    "Two things must happen during the training loop:\n",
    "\n",
    "-   collect data from the environment\n",
    "-   use that data to train the agent's neural network(s)\n",
    "\n",
    "This example also periodicially evaluates the policy and prints the current score.\n",
    "\n",
    "The following will take ~5 minutes to run."
   ]
  },
  {
   "cell_type": "code",
   "execution_count": 32,
   "id": "21026e7f",
   "metadata": {
    "execution": {
     "iopub.execute_input": "2025-02-25T12:10:26.213462Z",
     "iopub.status.busy": "2025-02-25T12:10:26.213196Z",
     "iopub.status.idle": "2025-02-25T13:22:29.880745Z",
     "shell.execute_reply": "2025-02-25T13:22:29.879731Z"
    },
    "id": "0pTbJ3PeyF-u",
    "papermill": {
     "duration": 4323.693862,
     "end_time": "2025-02-25T13:22:29.882415",
     "exception": false,
     "start_time": "2025-02-25T12:10:26.188553",
     "status": "completed"
    },
    "tags": []
   },
   "outputs": [
    {
     "name": "stdout",
     "output_type": "stream",
     "text": [
      "step = 200: loss = 0.8894269466400146\n",
      "step = 400: loss = 289.1056823730469\n",
      "step = 600: loss = 1.934293270111084\n",
      "step = 800: loss = 2.049206256866455\n",
      "step = 1000: loss = 1.6746867895126343\n",
      "step = 1000: Average Return = -200.0\n",
      "step = 1200: loss = 2.171229124069214\n",
      "step = 1400: loss = 2.2829079627990723\n",
      "step = 1600: loss = 160.72817993164062\n",
      "step = 1800: loss = 269.4477844238281\n",
      "step = 2000: loss = 1.1048455238342285\n",
      "step = 2000: Average Return = -200.0\n",
      "step = 2200: loss = 1.5642647743225098\n",
      "step = 2400: loss = 2.029369354248047\n",
      "step = 2600: loss = 127.6805648803711\n",
      "step = 2800: loss = 1.8363540172576904\n",
      "step = 3000: loss = 424.9429626464844\n",
      "step = 3000: Average Return = -200.0\n",
      "step = 3200: loss = 172.55946350097656\n",
      "step = 3400: loss = 1.592281460762024\n",
      "step = 3600: loss = 1.7400712966918945\n",
      "step = 3800: loss = 1.8691565990447998\n",
      "step = 4000: loss = 425.15765380859375\n",
      "step = 4000: Average Return = -200.0\n",
      "step = 4200: loss = 254.8681640625\n",
      "step = 4400: loss = 2.2806341648101807\n",
      "step = 4600: loss = 259.1221923828125\n",
      "step = 4800: loss = 0.9272629022598267\n",
      "step = 5000: loss = 1.7001910209655762\n",
      "step = 5000: Average Return = -200.0\n",
      "step = 5200: loss = 1.4567508697509766\n",
      "step = 5400: loss = 166.60263061523438\n",
      "step = 5600: loss = 206.5265655517578\n",
      "step = 5800: loss = 157.6188507080078\n",
      "step = 6000: loss = 2.1083545684814453\n",
      "step = 6000: Average Return = -200.0\n",
      "step = 6200: loss = 105.62199401855469\n",
      "step = 6400: loss = 1.5334020853042603\n",
      "step = 6600: loss = 1.8515360355377197\n",
      "step = 6800: loss = 125.03936004638672\n",
      "step = 7000: loss = 1.6196436882019043\n",
      "step = 7000: Average Return = -200.0\n",
      "step = 7200: loss = 1.6142199039459229\n",
      "step = 7400: loss = 137.4564666748047\n",
      "step = 7600: loss = 191.05953979492188\n",
      "step = 7800: loss = 1.485672950744629\n",
      "step = 8000: loss = 1.2387726306915283\n",
      "step = 8000: Average Return = -200.0\n",
      "step = 8200: loss = 185.5925750732422\n",
      "step = 8400: loss = 1.1268465518951416\n",
      "step = 8600: loss = 179.44630432128906\n",
      "step = 8800: loss = 0.6887742280960083\n",
      "step = 9000: loss = 0.868349552154541\n",
      "step = 9000: Average Return = -200.0\n",
      "step = 9200: loss = 0.9862943887710571\n",
      "step = 9400: loss = 0.8635544776916504\n",
      "step = 9600: loss = 1.0061750411987305\n",
      "step = 9800: loss = 263.1864929199219\n",
      "step = 10000: loss = 1.2594319581985474\n",
      "step = 10000: Average Return = -200.0\n",
      "step = 10200: loss = 0.8546386957168579\n",
      "step = 10400: loss = 1.3843472003936768\n",
      "step = 10600: loss = 1.2286244630813599\n",
      "step = 10800: loss = 0.7103095054626465\n",
      "step = 11000: loss = 1.2691428661346436\n",
      "step = 11000: Average Return = -200.0\n",
      "step = 11200: loss = 1.2266535758972168\n",
      "step = 11400: loss = 1.6074424982070923\n",
      "step = 11600: loss = 196.7233123779297\n",
      "step = 11800: loss = 1.4094226360321045\n",
      "step = 12000: loss = 1.493512749671936\n",
      "step = 12000: Average Return = -200.0\n",
      "step = 12200: loss = 1.4589167833328247\n",
      "step = 12400: loss = 286.30596923828125\n",
      "step = 12600: loss = 307.75054931640625\n",
      "step = 12800: loss = 1.4555556774139404\n",
      "step = 13000: loss = 216.88449096679688\n",
      "step = 13000: Average Return = -200.0\n",
      "step = 13200: loss = 183.83828735351562\n",
      "step = 13400: loss = 1.9168339967727661\n",
      "step = 13600: loss = 1.4461026191711426\n",
      "step = 13800: loss = 1.3522274494171143\n",
      "step = 14000: loss = 494.0511169433594\n",
      "step = 14000: Average Return = -200.0\n",
      "step = 14200: loss = 0.9529299736022949\n",
      "step = 14400: loss = 1.699171543121338\n",
      "step = 14600: loss = 160.09100341796875\n",
      "step = 14800: loss = 138.18353271484375\n",
      "step = 15000: loss = 148.6341094970703\n",
      "step = 15000: Average Return = -200.0\n",
      "step = 15200: loss = 1.144748330116272\n",
      "step = 15400: loss = 1.1022484302520752\n",
      "step = 15600: loss = 1.3468008041381836\n",
      "step = 15800: loss = 0.7387701869010925\n",
      "step = 16000: loss = 1.5110318660736084\n",
      "step = 16000: Average Return = -200.0\n",
      "step = 16200: loss = 163.1033935546875\n",
      "step = 16400: loss = 1.6768251657485962\n",
      "step = 16600: loss = 254.1759490966797\n",
      "step = 16800: loss = 3.316667079925537\n",
      "step = 17000: loss = 1.8962637186050415\n",
      "step = 17000: Average Return = -200.0\n",
      "step = 17200: loss = 2.280393123626709\n",
      "step = 17400: loss = 1.8999965190887451\n",
      "step = 17600: loss = 1.6315325498580933\n",
      "step = 17800: loss = 135.26046752929688\n",
      "step = 18000: loss = 80.96963500976562\n",
      "step = 18000: Average Return = -200.0\n",
      "step = 18200: loss = 291.4605712890625\n",
      "step = 18400: loss = 172.55355834960938\n",
      "step = 18600: loss = 2.015270948410034\n",
      "step = 18800: loss = 1.663015604019165\n",
      "step = 19000: loss = 1.4152570962905884\n",
      "step = 19000: Average Return = -200.0\n",
      "step = 19200: loss = 1.6229565143585205\n",
      "step = 19400: loss = 2.645112991333008\n",
      "step = 19600: loss = 1.1349916458129883\n",
      "step = 19800: loss = 1.6348649263381958\n",
      "step = 20000: loss = 1.3682937622070312\n",
      "step = 20000: Average Return = -200.0\n",
      "step = 20200: loss = 1.3760722875595093\n",
      "step = 20400: loss = 297.1860046386719\n",
      "step = 20600: loss = 1.8339649438858032\n",
      "step = 20800: loss = 1.9610815048217773\n",
      "step = 21000: loss = 1.018798828125\n",
      "step = 21000: Average Return = -200.0\n",
      "step = 21200: loss = 273.34552001953125\n",
      "step = 21400: loss = 1.672917366027832\n",
      "step = 21600: loss = 1.6388473510742188\n",
      "step = 21800: loss = 1.3309929370880127\n",
      "step = 22000: loss = 258.2220764160156\n",
      "step = 22000: Average Return = -200.0\n",
      "step = 22200: loss = 2.0326499938964844\n",
      "step = 22400: loss = 306.3079833984375\n",
      "step = 22600: loss = 3.2615208625793457\n",
      "step = 22800: loss = 244.7099151611328\n",
      "step = 23000: loss = 1.4821091890335083\n",
      "step = 23000: Average Return = -200.0\n",
      "step = 23200: loss = 165.18130493164062\n",
      "step = 23400: loss = 1.1591641902923584\n",
      "step = 23600: loss = 216.6128387451172\n",
      "step = 23800: loss = 1.6499378681182861\n",
      "step = 24000: loss = 1.3626344203948975\n",
      "step = 24000: Average Return = -200.0\n",
      "step = 24200: loss = 0.7552565336227417\n",
      "step = 24400: loss = 1.389145016670227\n",
      "step = 24600: loss = 1.1140241622924805\n",
      "step = 24800: loss = 189.36923217773438\n",
      "step = 25000: loss = 1.621147632598877\n",
      "step = 25000: Average Return = -200.0\n",
      "step = 25200: loss = 1.6191864013671875\n",
      "step = 25400: loss = 1.421419382095337\n",
      "step = 25600: loss = 267.63037109375\n",
      "step = 25800: loss = 231.1041717529297\n",
      "step = 26000: loss = 2.405816078186035\n",
      "step = 26000: Average Return = -181.5\n",
      "step = 26200: loss = 0.5363744497299194\n",
      "step = 26400: loss = 0.9880754947662354\n",
      "step = 26600: loss = 1.4607874155044556\n",
      "step = 26800: loss = 3.9646434783935547\n",
      "step = 27000: loss = 161.58448791503906\n",
      "step = 27000: Average Return = -196.3000030517578\n",
      "step = 27200: loss = 245.29632568359375\n",
      "step = 27400: loss = 1.2855298519134521\n",
      "step = 27600: loss = 186.5594024658203\n",
      "step = 27800: loss = 1.3132104873657227\n",
      "step = 28000: loss = 1.8004684448242188\n",
      "step = 28000: Average Return = -200.0\n",
      "step = 28200: loss = 129.57333374023438\n",
      "step = 28400: loss = 123.43187713623047\n",
      "step = 28600: loss = 187.31674194335938\n",
      "step = 28800: loss = 11.108392715454102\n",
      "step = 29000: loss = 0.9799323081970215\n",
      "step = 29000: Average Return = -200.0\n",
      "step = 29200: loss = 1.5763804912567139\n",
      "step = 29400: loss = 0.9923160076141357\n",
      "step = 29600: loss = 204.55902099609375\n",
      "step = 29800: loss = 0.5047417879104614\n",
      "step = 30000: loss = 0.6975933909416199\n",
      "step = 30000: Average Return = -161.60000610351562\n",
      "step = 30200: loss = 0.727336049079895\n",
      "step = 30400: loss = 1.1883225440979004\n",
      "step = 30600: loss = 1.1767020225524902\n",
      "step = 30800: loss = 4.7303547859191895\n",
      "step = 31000: loss = 3.3465023040771484\n",
      "step = 31000: Average Return = -186.10000610351562\n",
      "step = 31200: loss = 4.238785743713379\n",
      "step = 31400: loss = 2.3829665184020996\n",
      "step = 31600: loss = 1.8111076354980469\n",
      "step = 31800: loss = 3.604924201965332\n",
      "step = 32000: loss = 297.551513671875\n",
      "step = 32000: Average Return = -196.0\n",
      "step = 32200: loss = 2.7956008911132812\n",
      "step = 32400: loss = 286.76568603515625\n",
      "step = 32600: loss = 1.3037843704223633\n",
      "step = 32800: loss = 361.4361877441406\n",
      "step = 33000: loss = 6.648776054382324\n",
      "step = 33000: Average Return = -200.0\n",
      "step = 33200: loss = 209.28179931640625\n",
      "step = 33400: loss = 3.2707247734069824\n",
      "step = 33600: loss = 2.1167874336242676\n",
      "step = 33800: loss = 2.7931575775146484\n",
      "step = 34000: loss = 1.894374132156372\n",
      "step = 34000: Average Return = -127.30000305175781\n",
      "step = 34200: loss = 2.155670166015625\n",
      "step = 34400: loss = 2.6547741889953613\n",
      "step = 34600: loss = 6.883125305175781\n",
      "step = 34800: loss = 3.098145008087158\n",
      "step = 35000: loss = 3.085402011871338\n",
      "step = 35000: Average Return = -170.6999969482422\n",
      "step = 35200: loss = 1.6354496479034424\n",
      "step = 35400: loss = 1.9267804622650146\n",
      "step = 35600: loss = 1.9859334230422974\n",
      "step = 35800: loss = 2.9368367195129395\n",
      "step = 36000: loss = 16.316640853881836\n",
      "step = 36000: Average Return = -176.1999969482422\n",
      "step = 36200: loss = 1.954035758972168\n",
      "step = 36400: loss = 5.18684196472168\n",
      "step = 36600: loss = 1.202953577041626\n",
      "step = 36800: loss = 0.9427918791770935\n",
      "step = 37000: loss = 1.0006691217422485\n",
      "step = 37000: Average Return = -159.8000030517578\n",
      "step = 37200: loss = 0.647455632686615\n",
      "step = 37400: loss = 0.6206694841384888\n",
      "step = 37600: loss = 0.6928130388259888\n",
      "step = 37800: loss = 0.7330414056777954\n",
      "step = 38000: loss = 0.6467442512512207\n",
      "step = 38000: Average Return = -150.1999969482422\n",
      "step = 38200: loss = 0.6450039148330688\n",
      "step = 38400: loss = 0.7295260429382324\n",
      "step = 38600: loss = 5.618474006652832\n",
      "step = 38800: loss = 2.053513765335083\n",
      "step = 39000: loss = 0.8704434037208557\n",
      "step = 39000: Average Return = -142.8000030517578\n",
      "step = 39200: loss = 12.273080825805664\n",
      "step = 39400: loss = 0.9719730615615845\n",
      "step = 39600: loss = 1.390453577041626\n",
      "step = 39800: loss = 6.500281810760498\n",
      "step = 40000: loss = 0.7494403719902039\n",
      "step = 40000: Average Return = -144.5\n",
      "step = 40200: loss = 0.764910101890564\n",
      "step = 40400: loss = 0.5501222014427185\n",
      "step = 40600: loss = 38.866363525390625\n",
      "step = 40800: loss = 62.81218719482422\n",
      "step = 41000: loss = 0.5622703433036804\n",
      "step = 41000: Average Return = -141.1999969482422\n",
      "step = 41200: loss = 0.4314548969268799\n",
      "step = 41400: loss = 0.8303044438362122\n",
      "step = 41600: loss = 1.6598987579345703\n",
      "step = 41800: loss = 0.36182039976119995\n",
      "step = 42000: loss = 1.1625226736068726\n",
      "step = 42000: Average Return = -124.0\n",
      "step = 42200: loss = 0.565359354019165\n",
      "step = 42400: loss = 92.78759002685547\n",
      "step = 42600: loss = 0.45986002683639526\n",
      "step = 42800: loss = 0.45155054330825806\n",
      "step = 43000: loss = 0.5731791853904724\n",
      "step = 43000: Average Return = -109.9000015258789\n",
      "step = 43200: loss = 0.45101404190063477\n",
      "step = 43400: loss = 0.49047034978866577\n",
      "step = 43600: loss = 0.4640918970108032\n",
      "step = 43800: loss = 0.5216720104217529\n",
      "step = 44000: loss = 74.53167724609375\n",
      "step = 44000: Average Return = -134.0\n",
      "step = 44200: loss = 40.1696662902832\n",
      "step = 44400: loss = 0.3871489465236664\n",
      "step = 44600: loss = 0.5138094425201416\n",
      "step = 44800: loss = 0.4232468008995056\n",
      "step = 45000: loss = 0.56064373254776\n",
      "step = 45000: Average Return = -144.1999969482422\n",
      "step = 45200: loss = 0.3817915618419647\n",
      "step = 45400: loss = 0.4722285866737366\n",
      "step = 45600: loss = 0.46051841974258423\n",
      "step = 45800: loss = 0.5315571427345276\n",
      "step = 46000: loss = 0.4442427158355713\n",
      "step = 46000: Average Return = -107.0\n",
      "step = 46200: loss = 32.476654052734375\n",
      "step = 46400: loss = 0.449830025434494\n",
      "step = 46600: loss = 0.5024228096008301\n",
      "step = 46800: loss = 0.6951592564582825\n",
      "step = 47000: loss = 0.6928755044937134\n",
      "step = 47000: Average Return = -124.4000015258789\n",
      "step = 47200: loss = 0.554938554763794\n",
      "step = 47400: loss = 0.42645812034606934\n",
      "step = 47600: loss = 0.5850996971130371\n",
      "step = 47800: loss = 0.488827645778656\n",
      "step = 48000: loss = 0.4310251474380493\n",
      "step = 48000: Average Return = -121.19999694824219\n",
      "step = 48200: loss = 0.34438419342041016\n",
      "step = 48400: loss = 0.41022419929504395\n",
      "step = 48600: loss = 0.43883031606674194\n",
      "step = 48800: loss = 0.7659772038459778\n",
      "step = 49000: loss = 0.5820002555847168\n",
      "step = 49000: Average Return = -108.5\n",
      "step = 49200: loss = 0.5409033894538879\n",
      "step = 49400: loss = 0.29609215259552\n",
      "step = 49600: loss = 0.3694336414337158\n",
      "step = 49800: loss = 0.4322910010814667\n",
      "step = 50000: loss = 0.3768649101257324\n",
      "step = 50000: Average Return = -107.9000015258789\n",
      "step = 50200: loss = 0.30988091230392456\n",
      "step = 50400: loss = 0.557005763053894\n",
      "step = 50600: loss = 91.31373596191406\n",
      "step = 50800: loss = 0.5331803560256958\n",
      "step = 51000: loss = 0.3493969440460205\n",
      "step = 51000: Average Return = -113.80000305175781\n",
      "step = 51200: loss = 66.56422424316406\n",
      "step = 51400: loss = 0.28786349296569824\n",
      "step = 51600: loss = 0.6237547397613525\n",
      "step = 51800: loss = 0.2796592712402344\n",
      "step = 52000: loss = 0.7864711284637451\n",
      "step = 52000: Average Return = -135.0\n",
      "step = 52200: loss = 0.5909547805786133\n",
      "step = 52400: loss = 0.5065231323242188\n",
      "step = 52600: loss = 0.5639764666557312\n",
      "step = 52800: loss = 0.517177164554596\n",
      "step = 53000: loss = 0.3201450705528259\n",
      "step = 53000: Average Return = -118.0\n",
      "step = 53200: loss = 0.6857271790504456\n",
      "step = 53400: loss = 0.7884677648544312\n",
      "step = 53600: loss = 0.46784430742263794\n",
      "step = 53800: loss = 0.34054023027420044\n",
      "step = 54000: loss = 0.465827077627182\n",
      "step = 54000: Average Return = -119.30000305175781\n",
      "step = 54200: loss = 0.7674059867858887\n",
      "step = 54400: loss = 0.7605465054512024\n",
      "step = 54600: loss = 0.40324071049690247\n",
      "step = 54800: loss = 65.42993927001953\n",
      "step = 55000: loss = 0.5189172029495239\n",
      "step = 55000: Average Return = -136.5\n",
      "step = 55200: loss = 8.725676536560059\n",
      "step = 55400: loss = 0.39906075596809387\n",
      "step = 55600: loss = 0.6281685829162598\n",
      "step = 55800: loss = 0.6710991263389587\n",
      "step = 56000: loss = 0.506929874420166\n",
      "step = 56000: Average Return = -123.0999984741211\n",
      "step = 56200: loss = 0.5431150794029236\n",
      "step = 56400: loss = 0.42272740602493286\n",
      "step = 56600: loss = 192.0155487060547\n",
      "step = 56800: loss = 0.4215163588523865\n",
      "step = 57000: loss = 2.1252708435058594\n",
      "step = 57000: Average Return = -110.69999694824219\n",
      "step = 57200: loss = 0.6285210847854614\n",
      "step = 57400: loss = 0.6775389313697815\n",
      "step = 57600: loss = 0.7167645692825317\n",
      "step = 57800: loss = 112.62378692626953\n",
      "step = 58000: loss = 89.11244201660156\n",
      "step = 58000: Average Return = -103.5999984741211\n",
      "step = 58200: loss = 0.3990233540534973\n",
      "step = 58400: loss = 0.4530278444290161\n",
      "step = 58600: loss = 0.8217556476593018\n",
      "step = 58800: loss = 91.26980590820312\n",
      "step = 59000: loss = 0.6207707524299622\n",
      "step = 59000: Average Return = -117.30000305175781\n",
      "step = 59200: loss = 0.4252859950065613\n",
      "step = 59400: loss = 0.5148676633834839\n",
      "step = 59600: loss = 0.446825236082077\n",
      "step = 59800: loss = 66.52481079101562\n",
      "step = 60000: loss = 0.436618447303772\n",
      "step = 60000: Average Return = -116.19999694824219\n",
      "step = 60200: loss = 0.5918711423873901\n",
      "step = 60400: loss = 0.6344032883644104\n",
      "step = 60600: loss = 0.31102454662323\n",
      "step = 60800: loss = 0.39368611574172974\n",
      "step = 61000: loss = 0.4601929187774658\n",
      "step = 61000: Average Return = -137.5\n",
      "step = 61200: loss = 0.31593966484069824\n",
      "step = 61400: loss = 0.5930667519569397\n",
      "step = 61600: loss = 0.20666959881782532\n",
      "step = 61800: loss = 0.4578821361064911\n",
      "step = 62000: loss = 70.3861083984375\n",
      "step = 62000: Average Return = -162.1999969482422\n",
      "step = 62200: loss = 1.1734107732772827\n",
      "step = 62400: loss = 0.5232793688774109\n",
      "step = 62600: loss = 0.6870477199554443\n",
      "step = 62800: loss = 0.6041246652603149\n",
      "step = 63000: loss = 1.086165428161621\n",
      "step = 63000: Average Return = -162.10000610351562\n",
      "step = 63200: loss = 0.5567318201065063\n",
      "step = 63400: loss = 0.679974377155304\n",
      "step = 63600: loss = 25.598045349121094\n",
      "step = 63800: loss = 1.225219964981079\n",
      "step = 64000: loss = 11.370491981506348\n",
      "step = 64000: Average Return = -141.10000610351562\n",
      "step = 64200: loss = 0.4964916408061981\n",
      "step = 64400: loss = 62.1190185546875\n",
      "step = 64600: loss = 1.4057806730270386\n",
      "step = 64800: loss = 1.1238958835601807\n",
      "step = 65000: loss = 0.4450625777244568\n",
      "step = 65000: Average Return = -112.30000305175781\n",
      "step = 65200: loss = 0.37030792236328125\n",
      "step = 65400: loss = 0.35875004529953003\n",
      "step = 65600: loss = 101.84883880615234\n",
      "step = 65800: loss = 0.6083029508590698\n",
      "step = 66000: loss = 0.7798521518707275\n",
      "step = 66000: Average Return = -124.4000015258789\n",
      "step = 66200: loss = 0.31243330240249634\n",
      "step = 66400: loss = 113.02030944824219\n",
      "step = 66600: loss = 0.46789440512657166\n",
      "step = 66800: loss = 0.5053248405456543\n",
      "step = 67000: loss = 67.95134735107422\n",
      "step = 67000: Average Return = -109.9000015258789\n",
      "step = 67200: loss = 0.49867767095565796\n",
      "step = 67400: loss = 0.28982123732566833\n",
      "step = 67600: loss = 4.146189212799072\n",
      "step = 67800: loss = 0.3152801990509033\n",
      "step = 68000: loss = 0.38336989283561707\n",
      "step = 68000: Average Return = -117.19999694824219\n",
      "step = 68200: loss = 0.5405252575874329\n",
      "step = 68400: loss = 0.4560774564743042\n",
      "step = 68600: loss = 0.40844112634658813\n",
      "step = 68800: loss = 0.6913823485374451\n",
      "step = 69000: loss = 0.42685702443122864\n",
      "step = 69000: Average Return = -111.0999984741211\n",
      "step = 69200: loss = 0.3843200206756592\n",
      "step = 69400: loss = 0.2714919447898865\n",
      "step = 69600: loss = 0.31160974502563477\n",
      "step = 69800: loss = 0.3372397720813751\n",
      "step = 70000: loss = 0.22373494505882263\n",
      "step = 70000: Average Return = -104.80000305175781\n",
      "step = 70200: loss = 0.1381256878376007\n",
      "step = 70400: loss = 100.7229995727539\n",
      "step = 70600: loss = 0.6024311780929565\n",
      "step = 70800: loss = 0.5032723546028137\n",
      "step = 71000: loss = 177.0787811279297\n",
      "step = 71000: Average Return = -95.19999694824219\n",
      "step = 71200: loss = 0.22442904114723206\n",
      "step = 71400: loss = 0.3189679980278015\n",
      "step = 71600: loss = 0.29617559909820557\n",
      "step = 71800: loss = 0.1799534559249878\n",
      "step = 72000: loss = 0.6163396239280701\n",
      "step = 72000: Average Return = -104.5999984741211\n",
      "step = 72200: loss = 0.5982755422592163\n",
      "step = 72400: loss = 0.317963182926178\n",
      "step = 72600: loss = 0.2872551679611206\n",
      "step = 72800: loss = 101.96402740478516\n",
      "step = 73000: loss = 0.6228230595588684\n",
      "step = 73000: Average Return = -125.19999694824219\n",
      "step = 73200: loss = 0.5017848014831543\n",
      "step = 73400: loss = 0.5241666436195374\n",
      "step = 73600: loss = 0.49205899238586426\n",
      "step = 73800: loss = 0.38282454013824463\n",
      "step = 74000: loss = 0.4628649055957794\n",
      "step = 74000: Average Return = -129.1999969482422\n",
      "step = 74200: loss = 0.2801496982574463\n",
      "step = 74400: loss = 0.2430807650089264\n",
      "step = 74600: loss = 0.31881046295166016\n",
      "step = 74800: loss = 0.42440474033355713\n",
      "step = 75000: loss = 0.608900249004364\n",
      "step = 75000: Average Return = -107.5\n",
      "step = 75200: loss = 0.29147112369537354\n",
      "step = 75400: loss = 0.44198593497276306\n",
      "step = 75600: loss = 100.97027587890625\n",
      "step = 75800: loss = 0.5624759197235107\n",
      "step = 76000: loss = 0.3378872871398926\n",
      "step = 76000: Average Return = -114.0999984741211\n",
      "step = 76200: loss = 0.5307297706604004\n",
      "step = 76400: loss = 0.2317030429840088\n",
      "step = 76600: loss = 0.32632869482040405\n",
      "step = 76800: loss = 0.27636462450027466\n",
      "step = 77000: loss = 0.522885799407959\n",
      "step = 77000: Average Return = -110.5999984741211\n",
      "step = 77200: loss = 0.697445273399353\n",
      "step = 77400: loss = 0.29605552554130554\n",
      "step = 77600: loss = 0.20125609636306763\n",
      "step = 77800: loss = 0.4089502692222595\n",
      "step = 78000: loss = 0.6991039514541626\n",
      "step = 78000: Average Return = -126.0999984741211\n",
      "step = 78200: loss = 0.4258035123348236\n",
      "step = 78400: loss = 0.30875810980796814\n",
      "step = 78600: loss = 2.376960277557373\n",
      "step = 78800: loss = 0.3761083781719208\n",
      "step = 79000: loss = 0.28831085562705994\n",
      "step = 79000: Average Return = -100.69999694824219\n",
      "step = 79200: loss = 0.2102629393339157\n",
      "step = 79400: loss = 0.33838212490081787\n",
      "step = 79600: loss = 0.2660742402076721\n",
      "step = 79800: loss = 0.2920684218406677\n",
      "step = 80000: loss = 0.33951425552368164\n",
      "step = 80000: Average Return = -113.19999694824219\n",
      "step = 80200: loss = 0.4174422323703766\n",
      "step = 80400: loss = 0.33881622552871704\n",
      "step = 80600: loss = 0.3906961679458618\n",
      "step = 80800: loss = 0.3558235168457031\n",
      "step = 81000: loss = 0.43234819173812866\n",
      "step = 81000: Average Return = -149.8000030517578\n",
      "step = 81200: loss = 0.5570191144943237\n",
      "step = 81400: loss = 0.4401687979698181\n",
      "step = 81600: loss = 0.29387086629867554\n",
      "step = 81800: loss = 0.2856552004814148\n",
      "step = 82000: loss = 0.3739621937274933\n",
      "step = 82000: Average Return = -109.30000305175781\n",
      "step = 82200: loss = 0.6631527543067932\n",
      "step = 82400: loss = 0.5727154612541199\n",
      "step = 82600: loss = 0.4504397213459015\n",
      "step = 82800: loss = 0.35360342264175415\n",
      "step = 83000: loss = 0.3663370609283447\n",
      "step = 83000: Average Return = -169.3000030517578\n",
      "step = 83200: loss = 0.44031110405921936\n",
      "step = 83400: loss = 0.3975064754486084\n",
      "step = 83600: loss = 0.28951266407966614\n",
      "step = 83800: loss = 0.20437783002853394\n",
      "step = 84000: loss = 0.6185266971588135\n",
      "step = 84000: Average Return = -151.8000030517578\n",
      "step = 84200: loss = 0.33805111050605774\n",
      "step = 84400: loss = 63.74332809448242\n",
      "step = 84600: loss = 0.9923534989356995\n",
      "step = 84800: loss = 0.5191457867622375\n",
      "step = 85000: loss = 0.31924450397491455\n",
      "step = 85000: Average Return = -101.0\n",
      "step = 85200: loss = 0.32058626413345337\n",
      "step = 85400: loss = 0.35526666045188904\n",
      "step = 85600: loss = 0.2961931526660919\n",
      "step = 85800: loss = 0.36849021911621094\n",
      "step = 86000: loss = 0.4058135449886322\n",
      "step = 86000: Average Return = -99.9000015258789\n",
      "step = 86200: loss = 0.40321892499923706\n",
      "step = 86400: loss = 0.36020591855049133\n",
      "step = 86600: loss = 0.36280903220176697\n",
      "step = 86800: loss = 0.4578882157802582\n",
      "step = 87000: loss = 0.3512507677078247\n",
      "step = 87000: Average Return = -173.3000030517578\n",
      "step = 87200: loss = 1.2149078845977783\n",
      "step = 87400: loss = 73.50067138671875\n",
      "step = 87600: loss = 0.5647056102752686\n",
      "step = 87800: loss = 0.665656566619873\n",
      "step = 88000: loss = 0.366718590259552\n",
      "step = 88000: Average Return = -112.5\n",
      "step = 88200: loss = 0.7545472383499146\n",
      "step = 88400: loss = 108.42544555664062\n",
      "step = 88600: loss = 0.5358704328536987\n",
      "step = 88800: loss = 0.6032979488372803\n",
      "step = 89000: loss = 0.5680385828018188\n",
      "step = 89000: Average Return = -114.30000305175781\n",
      "step = 89200: loss = 0.45886728167533875\n",
      "step = 89400: loss = 1.3992648124694824\n",
      "step = 89600: loss = 0.2346123456954956\n",
      "step = 89800: loss = 0.40501272678375244\n",
      "step = 90000: loss = 0.752665638923645\n",
      "step = 90000: Average Return = -109.30000305175781\n",
      "step = 90200: loss = 0.37190771102905273\n",
      "step = 90400: loss = 0.5797309875488281\n",
      "step = 90600: loss = 0.3897077739238739\n",
      "step = 90800: loss = 0.5278350114822388\n",
      "step = 91000: loss = 0.4066319167613983\n",
      "step = 91000: Average Return = -108.69999694824219\n",
      "step = 91200: loss = 0.4409242868423462\n",
      "step = 91400: loss = 0.8102807402610779\n",
      "step = 91600: loss = 0.5145227909088135\n",
      "step = 91800: loss = 0.1775338053703308\n",
      "step = 92000: loss = 0.34711137413978577\n",
      "step = 92000: Average Return = -124.5\n",
      "step = 92200: loss = 0.21558302640914917\n",
      "step = 92400: loss = 0.4926773011684418\n",
      "step = 92600: loss = 0.44812947511672974\n",
      "step = 92800: loss = 0.5702827572822571\n",
      "step = 93000: loss = 0.25395435094833374\n",
      "step = 93000: Average Return = -103.80000305175781\n",
      "step = 93200: loss = 0.49373528361320496\n",
      "step = 93400: loss = 6.938502311706543\n",
      "step = 93600: loss = 0.21877187490463257\n",
      "step = 93800: loss = 0.36506834626197815\n",
      "step = 94000: loss = 0.4381645917892456\n",
      "step = 94000: Average Return = -102.5999984741211\n",
      "step = 94200: loss = 0.3293270766735077\n",
      "step = 94400: loss = 0.7488445043563843\n",
      "step = 94600: loss = 0.4719129800796509\n",
      "step = 94800: loss = 0.42126965522766113\n",
      "step = 95000: loss = 0.3882034420967102\n",
      "step = 95000: Average Return = -161.89999389648438\n",
      "step = 95200: loss = 0.5672906637191772\n",
      "step = 95400: loss = 0.46685662865638733\n",
      "step = 95600: loss = 0.42255106568336487\n",
      "step = 95800: loss = 0.3635067939758301\n",
      "step = 96000: loss = 0.6050471067428589\n",
      "step = 96000: Average Return = -123.4000015258789\n",
      "step = 96200: loss = 0.6603639721870422\n",
      "step = 96400: loss = 0.3912055194377899\n",
      "step = 96600: loss = 0.2921093702316284\n",
      "step = 96800: loss = 0.5151944160461426\n",
      "step = 97000: loss = 0.4884377717971802\n",
      "step = 97000: Average Return = -121.5\n",
      "step = 97200: loss = 0.6112030744552612\n",
      "step = 97400: loss = 0.22873663902282715\n",
      "step = 97600: loss = 0.3244364261627197\n",
      "step = 97800: loss = 0.6035676002502441\n",
      "step = 98000: loss = 0.9424381256103516\n",
      "step = 98000: Average Return = -157.0\n",
      "step = 98200: loss = 0.5292041301727295\n",
      "step = 98400: loss = 0.7514873743057251\n",
      "step = 98600: loss = 0.7113637328147888\n",
      "step = 98800: loss = 0.5487024784088135\n",
      "step = 99000: loss = 1.2772902250289917\n",
      "step = 99000: Average Return = -98.30000305175781\n",
      "step = 99200: loss = 0.36270561814308167\n",
      "step = 99400: loss = 0.777353048324585\n",
      "step = 99600: loss = 0.5854484438896179\n",
      "step = 99800: loss = 0.38097959756851196\n",
      "step = 100000: loss = 0.5110788345336914\n",
      "step = 100000: Average Return = -102.5\n",
      "step = 100200: loss = 0.33512061834335327\n",
      "step = 100400: loss = 0.5247542858123779\n",
      "step = 100600: loss = 2.420322895050049\n",
      "step = 100800: loss = 0.3258488178253174\n",
      "step = 101000: loss = 0.6005341410636902\n",
      "step = 101000: Average Return = -123.69999694824219\n",
      "step = 101200: loss = 0.43613433837890625\n",
      "step = 101400: loss = 161.74940490722656\n",
      "step = 101600: loss = 0.3806614875793457\n",
      "step = 101800: loss = 0.5729905366897583\n",
      "step = 102000: loss = 0.9701560735702515\n",
      "step = 102000: Average Return = -109.0\n",
      "step = 102200: loss = 0.6497703194618225\n",
      "step = 102400: loss = 0.31414949893951416\n",
      "step = 102600: loss = 0.37996619939804077\n",
      "step = 102800: loss = 0.5109719038009644\n",
      "step = 103000: loss = 2.005337953567505\n",
      "step = 103000: Average Return = -107.5\n",
      "step = 103200: loss = 0.4212349057197571\n",
      "step = 103400: loss = 0.41145166754722595\n",
      "step = 103600: loss = 0.6865883469581604\n",
      "step = 103800: loss = 0.4054263234138489\n",
      "step = 104000: loss = 0.6538684368133545\n",
      "step = 104000: Average Return = -102.19999694824219\n",
      "step = 104200: loss = 3.1637864112854004\n",
      "step = 104400: loss = 0.3438819944858551\n",
      "step = 104600: loss = 0.4462803602218628\n",
      "step = 104800: loss = 0.931227445602417\n",
      "step = 105000: loss = 1.2154667377471924\n",
      "step = 105000: Average Return = -146.3000030517578\n",
      "step = 105200: loss = 0.3655542731285095\n",
      "step = 105400: loss = 0.6358363628387451\n",
      "step = 105600: loss = 0.3916677236557007\n",
      "step = 105800: loss = 0.4213525056838989\n",
      "step = 106000: loss = 0.6271750926971436\n",
      "step = 106000: Average Return = -117.30000305175781\n",
      "step = 106200: loss = 7.0761637687683105\n",
      "step = 106400: loss = 0.7493945956230164\n",
      "step = 106600: loss = 0.588207483291626\n",
      "step = 106800: loss = 0.7891076803207397\n",
      "step = 107000: loss = 0.7737072706222534\n",
      "step = 107000: Average Return = -167.3000030517578\n",
      "step = 107200: loss = 1.6702125072479248\n",
      "step = 107400: loss = 0.634340226650238\n",
      "step = 107600: loss = 122.94220733642578\n",
      "step = 107800: loss = 0.4743691384792328\n",
      "step = 108000: loss = 0.8347681760787964\n",
      "step = 108000: Average Return = -102.5999984741211\n",
      "step = 108200: loss = 0.7443569898605347\n",
      "step = 108400: loss = 0.4519672989845276\n",
      "step = 108600: loss = 0.4913448989391327\n",
      "step = 108800: loss = 0.4077921509742737\n",
      "step = 109000: loss = 0.6408796906471252\n",
      "step = 109000: Average Return = -103.5999984741211\n",
      "step = 109200: loss = 0.9239710569381714\n",
      "step = 109400: loss = 1.6462962627410889\n",
      "step = 109600: loss = 3.836256504058838\n",
      "step = 109800: loss = 2.766324996948242\n",
      "step = 110000: loss = 1.504535436630249\n",
      "step = 110000: Average Return = -166.10000610351562\n",
      "step = 110200: loss = 1.5912108421325684\n",
      "step = 110400: loss = 0.6484516859054565\n",
      "step = 110600: loss = 0.579429030418396\n",
      "step = 110800: loss = 1.317299723625183\n",
      "step = 111000: loss = 8.786698341369629\n",
      "step = 111000: Average Return = -105.5\n",
      "step = 111200: loss = 56.1147346496582\n",
      "step = 111400: loss = 0.7032892107963562\n",
      "step = 111600: loss = 1.234471321105957\n",
      "step = 111800: loss = 1.0569159984588623\n",
      "step = 112000: loss = 1.3981897830963135\n",
      "step = 112000: Average Return = -109.19999694824219\n",
      "step = 112200: loss = 0.847652018070221\n",
      "step = 112400: loss = 0.9716850519180298\n",
      "step = 112600: loss = 0.9974056482315063\n",
      "step = 112800: loss = 0.6456071138381958\n",
      "step = 113000: loss = 0.63614821434021\n",
      "step = 113000: Average Return = -115.19999694824219\n",
      "step = 113200: loss = 1.1929348707199097\n",
      "step = 113400: loss = 1.5056982040405273\n",
      "step = 113600: loss = 0.6059123873710632\n",
      "step = 113800: loss = 0.5932788252830505\n",
      "step = 114000: loss = 0.7038949131965637\n",
      "step = 114000: Average Return = -109.4000015258789\n",
      "step = 114200: loss = 3.937884569168091\n",
      "step = 114400: loss = 0.6021729707717896\n",
      "step = 114600: loss = 0.4717215299606323\n",
      "step = 114800: loss = 0.6605657339096069\n",
      "step = 115000: loss = 1.1954305171966553\n",
      "step = 115000: Average Return = -130.89999389648438\n",
      "step = 115200: loss = 1.5781409740447998\n",
      "step = 115400: loss = 5.370121002197266\n",
      "step = 115600: loss = 3.0703439712524414\n",
      "step = 115800: loss = 1.3281588554382324\n",
      "step = 116000: loss = 4.332205295562744\n",
      "step = 116000: Average Return = -128.0\n",
      "step = 116200: loss = 0.40393882989883423\n",
      "step = 116400: loss = 0.8576816320419312\n",
      "step = 116600: loss = 0.36277705430984497\n",
      "step = 116800: loss = 0.6539143323898315\n",
      "step = 117000: loss = 1.2071068286895752\n",
      "step = 117000: Average Return = -124.9000015258789\n",
      "step = 117200: loss = 1.2744730710983276\n",
      "step = 117400: loss = 1.0274239778518677\n",
      "step = 117600: loss = 1.0284696817398071\n",
      "step = 117800: loss = 2.0183186531066895\n",
      "step = 118000: loss = 30.374757766723633\n",
      "step = 118000: Average Return = -160.10000610351562\n",
      "step = 118200: loss = 0.6977053284645081\n",
      "step = 118400: loss = 2.0114378929138184\n",
      "step = 118600: loss = 1.7313703298568726\n",
      "step = 118800: loss = 0.941273033618927\n",
      "step = 119000: loss = 0.44555050134658813\n",
      "step = 119000: Average Return = -178.8000030517578\n",
      "step = 119200: loss = 1.4306906461715698\n",
      "step = 119400: loss = 0.5832569599151611\n",
      "step = 119600: loss = 3.20827317237854\n",
      "step = 119800: loss = 1.276860237121582\n",
      "step = 120000: loss = 1.711029291152954\n",
      "step = 120000: Average Return = -152.89999389648438\n",
      "step = 120200: loss = 1.4950385093688965\n",
      "step = 120400: loss = 1.8018162250518799\n",
      "step = 120600: loss = 30.959503173828125\n",
      "step = 120800: loss = 1.4832819700241089\n",
      "step = 121000: loss = 1.0606706142425537\n",
      "step = 121000: Average Return = -152.10000610351562\n",
      "step = 121200: loss = 1.8038291931152344\n",
      "step = 121400: loss = 0.7704334855079651\n",
      "step = 121600: loss = 0.5948957204818726\n",
      "step = 121800: loss = 0.7293468713760376\n",
      "step = 122000: loss = 0.6748934388160706\n",
      "step = 122000: Average Return = -163.0\n",
      "step = 122200: loss = 2.1750149726867676\n",
      "step = 122400: loss = 0.9757784008979797\n",
      "step = 122600: loss = 0.637741208076477\n",
      "step = 122800: loss = 0.6922115087509155\n",
      "step = 123000: loss = 0.6643770933151245\n",
      "step = 123000: Average Return = -200.0\n",
      "step = 123200: loss = 2.0206384658813477\n",
      "step = 123400: loss = 0.9745556712150574\n",
      "step = 123600: loss = 0.904291033744812\n",
      "step = 123800: loss = 0.5707050561904907\n",
      "step = 124000: loss = 3.2749550342559814\n",
      "step = 124000: Average Return = -177.8000030517578\n",
      "step = 124200: loss = 0.961729109287262\n",
      "step = 124400: loss = 0.9700394868850708\n",
      "step = 124600: loss = 1.1344363689422607\n",
      "step = 124800: loss = 1.1637187004089355\n",
      "step = 125000: loss = 0.9283990263938904\n",
      "step = 125000: Average Return = -169.0\n",
      "step = 125200: loss = 1.4870567321777344\n",
      "step = 125400: loss = 1.6999062299728394\n",
      "step = 125600: loss = 1.281639575958252\n",
      "step = 125800: loss = 0.918417751789093\n",
      "step = 126000: loss = 1.4868347644805908\n",
      "step = 126000: Average Return = -177.60000610351562\n",
      "step = 126200: loss = 1.1103203296661377\n",
      "step = 126400: loss = 1.014410138130188\n",
      "step = 126600: loss = 1.3766567707061768\n",
      "step = 126800: loss = 0.6987866163253784\n",
      "step = 127000: loss = 0.5701096057891846\n",
      "step = 127000: Average Return = -138.1999969482422\n",
      "step = 127200: loss = 1.5460848808288574\n",
      "step = 127400: loss = 0.5868433713912964\n",
      "step = 127600: loss = 0.9141882658004761\n",
      "step = 127800: loss = 1.148700475692749\n",
      "step = 128000: loss = 1.9843652248382568\n",
      "step = 128000: Average Return = -144.0\n",
      "step = 128200: loss = 0.510900616645813\n",
      "step = 128400: loss = 0.9612910747528076\n",
      "step = 128600: loss = 0.9170152544975281\n",
      "step = 128800: loss = 0.9705835580825806\n",
      "step = 129000: loss = 1.057412028312683\n",
      "step = 129000: Average Return = -130.89999389648438\n",
      "step = 129200: loss = 0.7270577549934387\n",
      "step = 129400: loss = 0.7533315420150757\n",
      "step = 129600: loss = 0.7960114479064941\n",
      "step = 129800: loss = 1.5513643026351929\n",
      "step = 130000: loss = 1.398240089416504\n",
      "step = 130000: Average Return = -143.89999389648438\n",
      "step = 130200: loss = 0.5096763968467712\n",
      "step = 130400: loss = 0.45356476306915283\n",
      "step = 130600: loss = 0.6065458059310913\n",
      "step = 130800: loss = 0.35763686895370483\n",
      "step = 131000: loss = 0.6083338260650635\n",
      "step = 131000: Average Return = -156.60000610351562\n",
      "step = 131200: loss = 0.5015829801559448\n",
      "step = 131400: loss = 0.30171459913253784\n",
      "step = 131600: loss = 0.3264118731021881\n",
      "step = 131800: loss = 0.33234769105911255\n",
      "step = 132000: loss = 0.395613431930542\n",
      "step = 132000: Average Return = -129.10000610351562\n",
      "step = 132200: loss = 1.2067952156066895\n",
      "step = 132400: loss = 0.47456231713294983\n",
      "step = 132600: loss = 1.9478998184204102\n",
      "step = 132800: loss = 1.9882861375808716\n",
      "step = 133000: loss = 0.7069636583328247\n",
      "step = 133000: Average Return = -190.3000030517578\n",
      "step = 133200: loss = 0.3432629704475403\n",
      "step = 133400: loss = 1.7317535877227783\n",
      "step = 133600: loss = 0.5165981650352478\n",
      "step = 133800: loss = 2.3622660636901855\n",
      "step = 134000: loss = 0.47483885288238525\n",
      "step = 134000: Average Return = -121.19999694824219\n",
      "step = 134200: loss = 1.2761523723602295\n",
      "step = 134400: loss = 0.35144928097724915\n",
      "step = 134600: loss = 0.5172302722930908\n",
      "step = 134800: loss = 0.3962189555168152\n",
      "step = 135000: loss = 0.46635517477989197\n",
      "step = 135000: Average Return = -171.39999389648438\n",
      "step = 135200: loss = 0.6933421492576599\n",
      "step = 135400: loss = 0.5304311513900757\n",
      "step = 135600: loss = 0.8253049850463867\n",
      "step = 135800: loss = 1.5171022415161133\n",
      "step = 136000: loss = 7.14658260345459\n",
      "step = 136000: Average Return = -200.0\n",
      "step = 136200: loss = 153.91001892089844\n",
      "step = 136400: loss = 3353.73876953125\n",
      "step = 136600: loss = 8671.48046875\n",
      "step = 136800: loss = 18567.44140625\n",
      "step = 137000: loss = 142704.109375\n",
      "step = 137000: Average Return = -200.0\n",
      "step = 137200: loss = 67264.90625\n",
      "step = 137400: loss = 1167405.75\n",
      "step = 137600: loss = 2078612.5\n",
      "step = 137800: loss = 397221.125\n",
      "step = 138000: loss = 471662.875\n",
      "step = 138000: Average Return = -200.0\n",
      "step = 138200: loss = 1016745.5625\n",
      "step = 138400: loss = 4684640.5\n",
      "step = 138600: loss = 1604384.0\n",
      "step = 138800: loss = 2480013.75\n",
      "step = 139000: loss = 10499373.0\n",
      "step = 139000: Average Return = -200.0\n",
      "step = 139200: loss = 2142740.5\n",
      "step = 139400: loss = 3806344.5\n",
      "step = 139600: loss = 4333441.5\n",
      "step = 139800: loss = 5696290.0\n",
      "step = 140000: loss = 6502767.0\n",
      "step = 140000: Average Return = -200.0\n",
      "step = 140200: loss = 68033912.0\n",
      "step = 140400: loss = 8454950.0\n",
      "step = 140600: loss = 55909448.0\n",
      "step = 140800: loss = 1078087296.0\n",
      "step = 141000: loss = 65945864.0\n",
      "step = 141000: Average Return = -200.0\n",
      "step = 141200: loss = 20397080.0\n",
      "step = 141400: loss = 90133488.0\n",
      "step = 141600: loss = 26420004.0\n",
      "step = 141800: loss = 121781408.0\n",
      "step = 142000: loss = 149476256.0\n",
      "step = 142000: Average Return = -200.0\n",
      "step = 142200: loss = 23936594.0\n",
      "step = 142400: loss = 36876144.0\n",
      "step = 142600: loss = 163091216.0\n",
      "step = 142800: loss = 26870854.0\n",
      "step = 143000: loss = 40685136.0\n",
      "step = 143000: Average Return = -200.0\n",
      "step = 143200: loss = 186867072.0\n",
      "step = 143400: loss = 249735200.0\n",
      "step = 143600: loss = 61844428.0\n",
      "step = 143800: loss = 524397088.0\n",
      "step = 144000: loss = 85247256.0\n",
      "step = 144000: Average Return = -200.0\n",
      "step = 144200: loss = 100848208.0\n",
      "step = 144400: loss = 84356728.0\n",
      "step = 144600: loss = 470342688.0\n",
      "step = 144800: loss = 62415860.0\n",
      "step = 145000: loss = 893314112.0\n",
      "step = 145000: Average Return = -200.0\n",
      "step = 145200: loss = 101169216.0\n",
      "step = 145400: loss = 3975596288.0\n",
      "step = 145600: loss = 1141808384.0\n",
      "step = 145800: loss = 656895040.0\n",
      "step = 146000: loss = 115456888.0\n",
      "step = 146000: Average Return = -200.0\n",
      "step = 146200: loss = 13752522752.0\n",
      "step = 146400: loss = 808994816.0\n",
      "step = 146600: loss = 128749648.0\n",
      "step = 146800: loss = 215920448.0\n",
      "step = 147000: loss = 142417120.0\n",
      "step = 147000: Average Return = -200.0\n",
      "step = 147200: loss = 174143712.0\n",
      "step = 147400: loss = 213009232.0\n",
      "step = 147600: loss = 269364448.0\n",
      "step = 147800: loss = 212239952.0\n",
      "step = 148000: loss = 2213019648.0\n",
      "step = 148000: Average Return = -200.0\n",
      "step = 148200: loss = 312682720.0\n",
      "step = 148400: loss = 1384176128.0\n",
      "step = 148600: loss = 24735526912.0\n",
      "step = 148800: loss = 1821627008.0\n",
      "step = 149000: loss = 358104768.0\n",
      "step = 149000: Average Return = -200.0\n",
      "step = 149200: loss = 341986752.0\n",
      "step = 149400: loss = 363974144.0\n",
      "step = 149600: loss = 2471229184.0\n",
      "step = 149800: loss = 386033408.0\n",
      "step = 150000: loss = 2314682368.0\n",
      "step = 150000: Average Return = -200.0\n",
      "step = 150200: loss = 384924160.0\n",
      "step = 150400: loss = 651187840.0\n",
      "step = 150600: loss = 468464704.0\n",
      "step = 150800: loss = 526789760.0\n",
      "step = 151000: loss = 5127379968.0\n",
      "step = 151000: Average Return = -200.0\n",
      "step = 151200: loss = 3203724288.0\n",
      "step = 151400: loss = 2852789760.0\n",
      "step = 151600: loss = 2624046592.0\n",
      "step = 151800: loss = 488071008.0\n",
      "step = 152000: loss = 714322432.0\n",
      "step = 152000: Average Return = -200.0\n",
      "step = 152200: loss = 888024064.0\n",
      "step = 152400: loss = 550143168.0\n",
      "step = 152600: loss = 698669824.0\n",
      "step = 152800: loss = 3981325824.0\n",
      "step = 153000: loss = 641412992.0\n",
      "step = 153000: Average Return = -200.0\n",
      "step = 153200: loss = 4038550528.0\n",
      "step = 153400: loss = 754261504.0\n",
      "step = 153600: loss = 98266161152.0\n",
      "step = 153800: loss = 814043392.0\n",
      "step = 154000: loss = 4631388160.0\n",
      "step = 154000: Average Return = -200.0\n",
      "step = 154200: loss = 5041916416.0\n",
      "step = 154400: loss = 1242900736.0\n",
      "step = 154600: loss = 78032216064.0\n",
      "step = 154800: loss = 5019489280.0\n",
      "step = 155000: loss = 935111808.0\n",
      "step = 155000: Average Return = -200.0\n",
      "step = 155200: loss = 1030749696.0\n",
      "step = 155400: loss = 14662864896.0\n",
      "step = 155600: loss = 1445432448.0\n",
      "step = 155800: loss = 891816384.0\n",
      "step = 156000: loss = 1392692480.0\n",
      "step = 156000: Average Return = -200.0\n",
      "step = 156200: loss = 1156675840.0\n",
      "step = 156400: loss = 1568855040.0\n",
      "step = 156600: loss = 1347309312.0\n",
      "step = 156800: loss = 12356618240.0\n",
      "step = 157000: loss = 1016869312.0\n",
      "step = 157000: Average Return = -200.0\n",
      "step = 157200: loss = 6906783744.0\n",
      "step = 157400: loss = 1675151616.0\n",
      "step = 157600: loss = 1317323904.0\n",
      "step = 157800: loss = 947782400.0\n",
      "step = 158000: loss = 6803627520.0\n",
      "step = 158000: Average Return = -200.0\n",
      "step = 158200: loss = 1240541568.0\n",
      "step = 158400: loss = 1514098432.0\n",
      "step = 158600: loss = 135444561920.0\n",
      "step = 158800: loss = 1170626048.0\n",
      "step = 159000: loss = 1262889984.0\n",
      "step = 159000: Average Return = -200.0\n",
      "step = 159200: loss = 8274695168.0\n",
      "step = 159400: loss = 1395246336.0\n",
      "step = 159600: loss = 1123070080.0\n",
      "step = 159800: loss = 16617979904.0\n",
      "step = 160000: loss = 161868611584.0\n",
      "step = 160000: Average Return = -200.0\n",
      "step = 160200: loss = 1578836096.0\n",
      "step = 160400: loss = 1276719872.0\n",
      "step = 160600: loss = 1508525312.0\n",
      "step = 160800: loss = 10115740672.0\n",
      "step = 161000: loss = 2019592192.0\n",
      "step = 161000: Average Return = -200.0\n",
      "step = 161200: loss = 2027342592.0\n",
      "step = 161400: loss = 9298364416.0\n",
      "step = 161600: loss = 1869318912.0\n",
      "step = 161800: loss = 14266172416.0\n",
      "step = 162000: loss = 1880632576.0\n",
      "step = 162000: Average Return = -200.0\n",
      "step = 162200: loss = 1512204928.0\n",
      "step = 162400: loss = 2246151936.0\n",
      "step = 162600: loss = 12004539392.0\n",
      "step = 162800: loss = 211708248064.0\n",
      "step = 163000: loss = 2185136384.0\n",
      "step = 163000: Average Return = -200.0\n",
      "step = 163200: loss = 233523200000.0\n",
      "step = 163400: loss = 214216687616.0\n",
      "step = 163600: loss = 263591968768.0\n",
      "step = 163800: loss = 2109934592.0\n",
      "step = 164000: loss = 1823108608.0\n",
      "step = 164000: Average Return = -200.0\n",
      "step = 164200: loss = 12301916160.0\n",
      "step = 164400: loss = 14972204032.0\n",
      "step = 164600: loss = 2369169920.0\n",
      "step = 164800: loss = 1798249344.0\n",
      "step = 165000: loss = 1856069120.0\n",
      "step = 165000: Average Return = -200.0\n",
      "step = 165200: loss = 13227908096.0\n",
      "step = 165400: loss = 248676941824.0\n",
      "step = 165600: loss = 2206602752.0\n",
      "step = 165800: loss = 14163340288.0\n",
      "step = 166000: loss = 1710412928.0\n",
      "step = 166000: Average Return = -200.0\n",
      "step = 166200: loss = 219883667456.0\n",
      "step = 166400: loss = 2646441472.0\n",
      "step = 166600: loss = 1752062592.0\n",
      "step = 166800: loss = 14358718464.0\n",
      "step = 167000: loss = 15736673280.0\n",
      "step = 167000: Average Return = -200.0\n",
      "step = 167200: loss = 151757963264.0\n",
      "step = 167400: loss = 2485110016.0\n",
      "step = 167600: loss = 2457943040.0\n",
      "step = 167800: loss = 2115007232.0\n",
      "step = 168000: loss = 2200062976.0\n",
      "step = 168000: Average Return = -200.0\n",
      "step = 168200: loss = 18781323264.0\n",
      "step = 168400: loss = 3282611200.0\n",
      "step = 168600: loss = 1623553408.0\n",
      "step = 168800: loss = 3300338944.0\n",
      "step = 169000: loss = 249472532480.0\n",
      "step = 169000: Average Return = -200.0\n",
      "step = 169200: loss = 2548097536.0\n",
      "step = 169400: loss = 2788047360.0\n",
      "step = 169600: loss = 13514267648.0\n",
      "step = 169800: loss = 1824663808.0\n",
      "step = 170000: loss = 2130153856.0\n",
      "step = 170000: Average Return = -200.0\n",
      "step = 170200: loss = 2154733056.0\n",
      "step = 170400: loss = 2383067392.0\n",
      "step = 170600: loss = 29468964864.0\n",
      "step = 170800: loss = 18574018560.0\n",
      "step = 171000: loss = 2854784000.0\n",
      "step = 171000: Average Return = -200.0\n",
      "step = 171200: loss = 315332329472.0\n",
      "step = 171400: loss = 2259649536.0\n",
      "step = 171600: loss = 2489656320.0\n",
      "step = 171800: loss = 2110720000.0\n",
      "step = 172000: loss = 1622189824.0\n",
      "step = 172000: Average Return = -200.0\n",
      "step = 172200: loss = 312083218432.0\n",
      "step = 172400: loss = 1846043648.0\n",
      "step = 172600: loss = 2168798208.0\n",
      "step = 172800: loss = 2717519872.0\n",
      "step = 173000: loss = 2293511680.0\n",
      "step = 173000: Average Return = -200.0\n",
      "step = 173200: loss = 2151879424.0\n",
      "step = 173400: loss = 18949412864.0\n",
      "step = 173600: loss = 1557519232.0\n",
      "step = 173800: loss = 1657405696.0\n",
      "step = 174000: loss = 2231601408.0\n",
      "step = 174000: Average Return = -200.0\n",
      "step = 174200: loss = 2301654016.0\n",
      "step = 174400: loss = 296663515136.0\n",
      "step = 174600: loss = 20127922176.0\n",
      "step = 174800: loss = 2005029504.0\n",
      "step = 175000: loss = 1810959616.0\n",
      "step = 175000: Average Return = -200.0\n",
      "step = 175200: loss = 347206483968.0\n",
      "step = 175400: loss = 15680151552.0\n",
      "step = 175600: loss = 2290627328.0\n",
      "step = 175800: loss = 1610420096.0\n",
      "step = 176000: loss = 1976656384.0\n",
      "step = 176000: Average Return = -200.0\n",
      "step = 176200: loss = 1832099328.0\n",
      "step = 176400: loss = 2260278528.0\n",
      "step = 176600: loss = 293974245376.0\n",
      "step = 176800: loss = 2569707008.0\n",
      "step = 177000: loss = 2844995584.0\n",
      "step = 177000: Average Return = -200.0\n",
      "step = 177200: loss = 1242597376.0\n",
      "step = 177400: loss = 2101317248.0\n",
      "step = 177600: loss = 1747170048.0\n",
      "step = 177800: loss = 2056465664.0\n",
      "step = 178000: loss = 2086316032.0\n",
      "step = 178000: Average Return = -200.0\n",
      "step = 178200: loss = 16329919488.0\n",
      "step = 178400: loss = 19091953664.0\n",
      "step = 178600: loss = 432270508032.0\n",
      "step = 178800: loss = 1914034176.0\n",
      "step = 179000: loss = 2071098240.0\n",
      "step = 179000: Average Return = -200.0\n",
      "step = 179200: loss = 2112622720.0\n",
      "step = 179400: loss = 1647688192.0\n",
      "step = 179600: loss = 1875458432.0\n",
      "step = 179800: loss = 17547429888.0\n",
      "step = 180000: loss = 2090656256.0\n",
      "step = 180000: Average Return = -200.0\n",
      "step = 180200: loss = 1613333504.0\n",
      "step = 180400: loss = 1995071488.0\n",
      "step = 180600: loss = 2357167360.0\n",
      "step = 180800: loss = 1709848064.0\n",
      "step = 181000: loss = 306129502208.0\n",
      "step = 181000: Average Return = -200.0\n",
      "step = 181200: loss = 2258643200.0\n",
      "step = 181400: loss = 2026467200.0\n",
      "step = 181600: loss = 16328310784.0\n",
      "step = 181800: loss = 2427332096.0\n",
      "step = 182000: loss = 346767851520.0\n",
      "step = 182000: Average Return = -200.0\n",
      "step = 182200: loss = 381230153728.0\n",
      "step = 182400: loss = 1863851520.0\n",
      "step = 182600: loss = 1942385408.0\n",
      "step = 182800: loss = 2254324992.0\n",
      "step = 183000: loss = 1511310080.0\n",
      "step = 183000: Average Return = -200.0\n",
      "step = 183200: loss = 1831538944.0\n",
      "step = 183400: loss = 3998000128.0\n",
      "step = 183600: loss = 1963404544.0\n",
      "step = 183800: loss = 2947434240.0\n",
      "step = 184000: loss = 1134104576.0\n",
      "step = 184000: Average Return = -200.0\n",
      "step = 184200: loss = 299853217792.0\n",
      "step = 184400: loss = 1452442624.0\n",
      "step = 184600: loss = 1950591232.0\n",
      "step = 184800: loss = 1987049984.0\n",
      "step = 185000: loss = 1351569152.0\n",
      "step = 185000: Average Return = -200.0\n",
      "step = 185200: loss = 1824784512.0\n",
      "step = 185400: loss = 1970120448.0\n",
      "step = 185600: loss = 1388736000.0\n",
      "step = 185800: loss = 1865633024.0\n",
      "step = 186000: loss = 1328883200.0\n",
      "step = 186000: Average Return = -200.0\n",
      "step = 186200: loss = 18738114560.0\n",
      "step = 186400: loss = 150133948416.0\n",
      "step = 186600: loss = 1143054976.0\n",
      "step = 186800: loss = 14584103936.0\n",
      "step = 187000: loss = 18604398592.0\n",
      "step = 187000: Average Return = -200.0\n",
      "step = 187200: loss = 998407296.0\n",
      "step = 187400: loss = 1820815872.0\n",
      "step = 187600: loss = 11433517056.0\n",
      "step = 187800: loss = 1846211712.0\n",
      "step = 188000: loss = 261496750080.0\n",
      "step = 188000: Average Return = -200.0\n",
      "step = 188200: loss = 1035033472.0\n",
      "step = 188400: loss = 2010471296.0\n",
      "step = 188600: loss = 966997888.0\n",
      "step = 188800: loss = 1057006016.0\n",
      "step = 189000: loss = 1603699968.0\n",
      "step = 189000: Average Return = -200.0\n",
      "step = 189200: loss = 3126054400.0\n",
      "step = 189400: loss = 1865054720.0\n",
      "step = 189600: loss = 258731589632.0\n",
      "step = 189800: loss = 1444390912.0\n",
      "step = 190000: loss = 14472286208.0\n",
      "step = 190000: Average Return = -200.0\n",
      "step = 190200: loss = 266495819776.0\n",
      "step = 190400: loss = 1321220992.0\n",
      "step = 190600: loss = 1235745792.0\n",
      "step = 190800: loss = 260924915712.0\n",
      "step = 191000: loss = 918468736.0\n",
      "step = 191000: Average Return = -200.0\n",
      "step = 191200: loss = 2175743488.0\n",
      "step = 191400: loss = 16043145216.0\n",
      "step = 191600: loss = 177303502848.0\n",
      "step = 191800: loss = 1070691968.0\n",
      "step = 192000: loss = 1332197120.0\n",
      "step = 192000: Average Return = -200.0\n",
      "step = 192200: loss = 299844403200.0\n",
      "step = 192400: loss = 10641838080.0\n",
      "step = 192600: loss = 1406736384.0\n",
      "step = 192800: loss = 1704759040.0\n",
      "step = 193000: loss = 1419563520.0\n",
      "step = 193000: Average Return = -200.0\n",
      "step = 193200: loss = 1011030784.0\n",
      "step = 193400: loss = 1060743360.0\n",
      "step = 193600: loss = 1103831296.0\n",
      "step = 193800: loss = 860898112.0\n",
      "step = 194000: loss = 178240241664.0\n",
      "step = 194000: Average Return = -200.0\n",
      "step = 194200: loss = 1660168064.0\n",
      "step = 194400: loss = 1360270720.0\n",
      "step = 194600: loss = 733323136.0\n",
      "step = 194800: loss = 1181650944.0\n",
      "step = 195000: loss = 8428152320.0\n",
      "step = 195000: Average Return = -200.0\n",
      "step = 195200: loss = 812445760.0\n",
      "step = 195400: loss = 1079251712.0\n",
      "step = 195600: loss = 66853347328.0\n",
      "step = 195800: loss = 861510400.0\n",
      "step = 196000: loss = 496094688.0\n",
      "step = 196000: Average Return = -200.0\n",
      "step = 196200: loss = 152246566912.0\n",
      "step = 196400: loss = 6982455808.0\n",
      "step = 196600: loss = 980159872.0\n",
      "step = 196800: loss = 691650688.0\n",
      "step = 197000: loss = 155390967808.0\n",
      "step = 197000: Average Return = -200.0\n",
      "step = 197200: loss = 148455735296.0\n",
      "step = 197400: loss = 817141632.0\n",
      "step = 197600: loss = 738939392.0\n",
      "step = 197800: loss = 831705472.0\n",
      "step = 198000: loss = 135955693568.0\n",
      "step = 198000: Average Return = -200.0\n",
      "step = 198200: loss = 495243584.0\n",
      "step = 198400: loss = 486034016.0\n",
      "step = 198600: loss = 620256384.0\n",
      "step = 198800: loss = 141700988928.0\n",
      "step = 199000: loss = 6133465600.0\n",
      "step = 199000: Average Return = -200.0\n",
      "step = 199200: loss = 102970556416.0\n",
      "step = 199400: loss = 118793043968.0\n",
      "step = 199600: loss = 188685271040.0\n",
      "step = 199800: loss = 324711424.0\n",
      "step = 200000: loss = 498266368.0\n",
      "step = 200000: Average Return = -200.0\n"
     ]
    }
   ],
   "source": [
    "#@test {\"skip\": true}\n",
    "try:\n",
    "  %%time\n",
    "except:\n",
    "  pass\n",
    "\n",
    "# (Optional) Optimize by wrapping some of the code in a graph using TF function.\n",
    "agent.train = common.function(agent.train)\n",
    "\n",
    "# Reset the train step.\n",
    "agent.train_step_counter.assign(0)\n",
    "\n",
    "# Evaluate the agent's policy once before training.\n",
    "avg_return = compute_avg_return(eval_env, agent.policy, num_eval_episodes)\n",
    "returns = [avg_return]\n",
    "\n",
    "# Reset the environment.\n",
    "time_step = train_py_env.reset()\n",
    "\n",
    "# Create a driver to collect experience.\n",
    "collect_driver = py_driver.PyDriver(\n",
    "    env,\n",
    "    py_tf_eager_policy.PyTFEagerPolicy(\n",
    "      agent.collect_policy, use_tf_function=True),\n",
    "    [rb_observer],\n",
    "    max_steps=collect_steps_per_iteration)\n",
    "\n",
    "for _ in range(num_iterations):\n",
    "\n",
    "  # Collect a few steps and save to the replay buffer.\n",
    "  time_step, _ = collect_driver.run(time_step)\n",
    "\n",
    "  # Sample a batch of data from the buffer and update the agent's network.\n",
    "  experience, unused_info = next(iterator)\n",
    "  train_loss = agent.train(experience).loss\n",
    "\n",
    "  step = agent.train_step_counter.numpy()\n",
    "\n",
    "  if step % log_interval == 0:\n",
    "    print('step = {0}: loss = {1}'.format(step, train_loss))\n",
    "\n",
    "  if step % eval_interval == 0:\n",
    "    avg_return = compute_avg_return(eval_env, agent.policy, num_eval_episodes)\n",
    "    print('step = {0}: Average Return = {1}'.format(step, avg_return))\n",
    "    returns.append(avg_return)"
   ]
  },
  {
   "cell_type": "markdown",
   "id": "4f12707c",
   "metadata": {
    "id": "68jNcA_TiJDq",
    "papermill": {
     "duration": 0.073886,
     "end_time": "2025-02-25T13:22:30.031886",
     "exception": false,
     "start_time": "2025-02-25T13:22:29.958000",
     "status": "completed"
    },
    "tags": []
   },
   "source": [
    "## Visualization\n"
   ]
  },
  {
   "cell_type": "markdown",
   "id": "b118e3d8",
   "metadata": {
    "id": "aO-LWCdbbOIC",
    "papermill": {
     "duration": 0.074628,
     "end_time": "2025-02-25T13:22:30.230742",
     "exception": false,
     "start_time": "2025-02-25T13:22:30.156114",
     "status": "completed"
    },
    "tags": []
   },
   "source": [
    "### Plots\n",
    "\n",
    "Use `matplotlib.pyplot` to chart how the policy improved during training.\n",
    "\n",
    "One iteration of `Cartpole-v0` consists of 200 time steps. The environment gives a reward of `+1` for each step the pole stays up, so the maximum return for one episode is 200. The charts shows the return increasing towards that maximum each time it is evaluated during training. (It may be a little unstable and not increase monotonically each time.)"
   ]
  },
  {
   "cell_type": "code",
   "execution_count": 33,
   "id": "a34d0ece",
   "metadata": {
    "execution": {
     "iopub.execute_input": "2025-02-25T13:22:30.378056Z",
     "iopub.status.busy": "2025-02-25T13:22:30.377702Z",
     "iopub.status.idle": "2025-02-25T13:22:30.581265Z",
     "shell.execute_reply": "2025-02-25T13:22:30.580392Z"
    },
    "id": "NxtL1mbOYCVO",
    "papermill": {
     "duration": 0.278251,
     "end_time": "2025-02-25T13:22:30.582560",
     "exception": false,
     "start_time": "2025-02-25T13:22:30.304309",
     "status": "completed"
    },
    "tags": []
   },
   "outputs": [
    {
     "data": {
      "text/plain": [
       "(-205.2400001525879, 250.0)"
      ]
     },
     "execution_count": 33,
     "metadata": {},
     "output_type": "execute_result"
    },
    {
     "data": {
      "image/png": "[encoded data removed]",
      "text/plain": [
       "<Figure size 640x480 with 1 Axes>"
      ]
     },
     "metadata": {},
     "output_type": "display_data"
    }
   ],
   "source": [
    "#@test {\"skip\": true}\n",
    "\n",
    "iterations = range(0, num_iterations + 1, eval_interval)\n",
    "plt.plot(iterations, returns)\n",
    "plt.ylabel('Average Return')\n",
    "plt.xlabel('Iterations')\n",
    "plt.ylim(top=250)"
   ]
  },
  {
   "cell_type": "markdown",
   "id": "0f2bbdbc",
   "metadata": {
    "id": "M7-XpPP99Cy7",
    "papermill": {
     "duration": 0.073527,
     "end_time": "2025-02-25T13:22:30.731447",
     "exception": false,
     "start_time": "2025-02-25T13:22:30.657920",
     "status": "completed"
    },
    "tags": []
   },
   "source": [
    "### Videos"
   ]
  },
  {
   "cell_type": "markdown",
   "id": "49a00b6c",
   "metadata": {
    "id": "9pGfGxSH32gn",
    "papermill": {
     "duration": 0.073801,
     "end_time": "2025-02-25T13:22:30.879222",
     "exception": false,
     "start_time": "2025-02-25T13:22:30.805421",
     "status": "completed"
    },
    "tags": []
   },
   "source": [
    "Charts are nice. But more exciting is seeing an agent actually performing a task in an environment. \n",
    "\n",
    "First, create a function to embed videos in the notebook."
   ]
  },
  {
   "cell_type": "code",
   "execution_count": 34,
   "id": "c91bbaba",
   "metadata": {
    "execution": {
     "iopub.execute_input": "2025-02-25T13:22:31.027035Z",
     "iopub.status.busy": "2025-02-25T13:22:31.026728Z",
     "iopub.status.idle": "2025-02-25T13:22:31.030759Z",
     "shell.execute_reply": "2025-02-25T13:22:31.030095Z"
    },
    "id": "ULaGr8pvOKbl",
    "papermill": {
     "duration": 0.079614,
     "end_time": "2025-02-25T13:22:31.031966",
     "exception": false,
     "start_time": "2025-02-25T13:22:30.952352",
     "status": "completed"
    },
    "tags": []
   },
   "outputs": [],
   "source": [
    "def embed_mp4(filename):\n",
    "  \"\"\"Embeds an mp4 file in the notebook.\"\"\"\n",
    "  video = open(filename,'rb').read()\n",
    "  b64 = base64.b64encode(video)\n",
    "  tag = '''\n",
    "  <video width=\"640\" height=\"480\" controls>\n",
    "    <source src=\"data:video/mp4;base64,{0}\" type=\"video/mp4\">\n",
    "  Your browser does not support the video tag.\n",
    "  </video>'''.format(b64.decode())\n",
    "\n",
    "  return IPython.display.HTML(tag)"
   ]
  },
  {
   "cell_type": "markdown",
   "id": "4e5e7fdf",
   "metadata": {
    "id": "9c_PH-pX4Pr5",
    "papermill": {
     "duration": 0.07435,
     "end_time": "2025-02-25T13:22:31.180863",
     "exception": false,
     "start_time": "2025-02-25T13:22:31.106513",
     "status": "completed"
    },
    "tags": []
   },
   "source": [
    "Now iterate through a few episodes of the Cartpole game with the agent. The underlying Python environment (the one \"inside\" the TensorFlow environment wrapper) provides a `render()` method, which outputs an image of the environment state. These can be collected into a video."
   ]
  },
  {
   "cell_type": "code",
   "execution_count": 35,
   "id": "9c9b6f05",
   "metadata": {
    "execution": {
     "iopub.execute_input": "2025-02-25T13:22:31.329346Z",
     "iopub.status.busy": "2025-02-25T13:22:31.329088Z",
     "iopub.status.idle": "2025-02-25T13:22:44.127078Z",
     "shell.execute_reply": "2025-02-25T13:22:44.126161Z"
    },
    "id": "owOVWB158NlF",
    "papermill": {
     "duration": 12.876175,
     "end_time": "2025-02-25T13:22:44.131162",
     "exception": false,
     "start_time": "2025-02-25T13:22:31.254987",
     "status": "completed"
    },
    "tags": []
   },
   "outputs": [
    {
     "data": {
      "text/html": [
       "\n",
       "  <video width=\"640\" height=\"480\" controls>\n",
       "    <source src=\"data:video/mp4;base64,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\" type=\"video/mp4\">\n",
       "  Your browser does not support the video tag.\n",
       "  </video>"
      ],
      "text/plain": [
       "<IPython.core.display.HTML object>"
      ]
     },
     "execution_count": 35,
     "metadata": {},
     "output_type": "execute_result"
    }
   ],
   "source": [
    "def create_policy_eval_video(policy, filename, num_episodes=5, fps=30):\n",
    "  filename = filename + \".mp4\"\n",
    "  with imageio.get_writer(filename, fps=fps) as video:\n",
    "    for _ in range(num_episodes):\n",
    "      time_step = eval_env.reset()\n",
    "      video.append_data(eval_py_env.render())\n",
    "      while not time_step.is_last():\n",
    "        action_step = policy.action(time_step)\n",
    "        time_step = eval_env.step(action_step.action)\n",
    "        video.append_data(eval_py_env.render())\n",
    "  return embed_mp4(filename)\n",
    "\n",
    "create_policy_eval_video(agent.policy, \"trained-agent\")"
   ]
  },
  {
   "cell_type": "markdown",
   "id": "3796c6dd",
   "metadata": {
    "id": "povaAOcZygLw",
    "papermill": {
     "duration": 0.096909,
     "end_time": "2025-02-25T13:22:44.315323",
     "exception": false,
     "start_time": "2025-02-25T13:22:44.218414",
     "status": "completed"
    },
    "tags": []
   },
   "source": [
    "For fun, compare the trained agent (above) to an agent moving randomly. (It does not do as well.)"
   ]
  },
  {
   "cell_type": "code",
   "execution_count": 36,
   "id": "03e763c5",
   "metadata": {
    "execution": {
     "iopub.execute_input": "2025-02-25T13:22:44.472575Z",
     "iopub.status.busy": "2025-02-25T13:22:44.472260Z",
     "iopub.status.idle": "2025-02-25T13:22:52.838446Z",
     "shell.execute_reply": "2025-02-25T13:22:52.837518Z"
    },
    "id": "pJZIdC37yNH4",
    "papermill": {
     "duration": 8.447655,
     "end_time": "2025-02-25T13:22:52.840757",
     "exception": false,
     "start_time": "2025-02-25T13:22:44.393102",
     "status": "completed"
    },
    "tags": []
   },
   "outputs": [
    {
     "data": {
      "text/html": [
       "\n",
       "  <video width=\"640\" height=\"480\" controls>\n",
       "    <source src=\"data:video/mp4;base64,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\" type=\"video/mp4\">\n",
       "  Your browser does not support the video tag.\n",
       "  </video>"
      ],
      "text/plain": [
       "<IPython.core.display.HTML object>"
      ]
     },
     "execution_count": 36,
     "metadata": {},
     "output_type": "execute_result"
    }
   ],
   "source": [
    "create_policy_eval_video(random_policy, \"random-agent\")"
   ]
  },
  {
   "cell_type": "code",
   "execution_count": null,
   "id": "3034a3bd",
   "metadata": {
    "papermill": {
     "duration": 0.08096,
     "end_time": "2025-02-25T13:22:53.005650",
     "exception": false,
     "start_time": "2025-02-25T13:22:52.924690",
     "status": "completed"
    },
    "tags": []
   },
   "outputs": [],
   "source": []
  }
 ],
 "metadata": {
  "kaggle": {
   "accelerator": "gpu",
   "dataSources": [],
   "dockerImageVersionId": 30919,
   "isGpuEnabled": true,
   "isInternetEnabled": true,
   "language": "python",
   "sourceType": "notebook"
  },
  "kernelspec": {
   "display_name": "Python 3",
   "language": "python",
   "name": "python3"
  },
  "language_info": {
   "codemirror_mode": {
    "name": "ipython",
    "version": 3
   },
   "file_extension": ".py",
   "mimetype": "text/x-python",
   "name": "python",
   "nbconvert_exporter": "python",
   "pygments_lexer": "ipython3",
   "version": "3.10.12"
  },
  "papermill": {
   "default_parameters": {},
   "duration": 4495.602015,
   "end_time": "2025-02-25T13:22:53.809318",
   "environment_variables": {},
   "exception": null,
   "input_path": "__notebook__.ipynb",
   "output_path": "__notebook__.ipynb",
   "parameters": {},
   "start_time": "2025-02-25T12:07:58.207303",
   "version": "2.4.0"
  }
 },
 "nbformat": 4,
 "nbformat_minor": 5
}
