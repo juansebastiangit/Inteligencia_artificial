{
 "cells": [
  {
   "cell_type": "markdown",
   "id": "fab6a3a7",
   "metadata": {
    "id": "klGNgWREsvQv",
    "papermill": {
     "duration": 0.009652,
     "end_time": "2025-02-27T20:57:00.093925",
     "exception": false,
     "start_time": "2025-02-27T20:57:00.084273",
     "status": "completed"
    },
    "tags": []
   },
   "source": [
    "##### Copyright 2023 The TF-Agents Authors."
   ]
  },
  {
   "cell_type": "code",
   "execution_count": 1,
   "id": "37e46196",
   "metadata": {
    "cellView": "form",
    "execution": {
     "iopub.execute_input": "2025-02-27T20:57:00.113896Z",
     "iopub.status.busy": "2025-02-27T20:57:00.113487Z",
     "iopub.status.idle": "2025-02-27T20:57:00.118292Z",
     "shell.execute_reply": "2025-02-27T20:57:00.117465Z"
    },
    "id": "nQnmcm0oI1Q-",
    "papermill": {
     "duration": 0.017258,
     "end_time": "2025-02-27T20:57:00.119957",
     "exception": false,
     "start_time": "2025-02-27T20:57:00.102699",
     "status": "completed"
    },
    "tags": []
   },
   "outputs": [],
   "source": [
    "#@title Licensed under the Apache License, Version 2.0 (the \"License\");\n",
    "# you may not use this file except in compliance with the License.\n",
    "# You may obtain a copy of the License at\n",
    "#\n",
    "# https://www.apache.org/licenses/LICENSE-2.0\n",
    "#\n",
    "# Unless required by applicable law or agreed to in writing, software\n",
    "# distributed under the License is distributed on an \"AS IS\" BASIS,\n",
    "# WITHOUT WARRANTIES OR CONDITIONS OF ANY KIND, either express or implied.\n",
    "# See the License for the specific language governing permissions and\n",
    "# limitations under the License."
   ]
  },
  {
   "cell_type": "markdown",
   "id": "dfbf7848",
   "metadata": {
    "id": "pmDI-h7cI0tI",
    "papermill": {
     "duration": 0.008339,
     "end_time": "2025-02-27T20:57:00.140450",
     "exception": false,
     "start_time": "2025-02-27T20:57:00.132111",
     "status": "completed"
    },
    "tags": []
   },
   "source": [
    "# Train a Deep Q Network with TF-Agents\n",
    "\n",
    "<table class=\"tfo-notebook-buttons\" align=\"left\">\n",
    "  <td>\n",
    "    <a target=\"_blank\" href=\"https://www.tensorflow.org/agents/tutorials/1_dqn_tutorial\">\n",
    "    <img src=\"https://www.tensorflow.org/images/tf_logo_32px.png\" />\n",
    "    View on TensorFlow.org</a>\n",
    "  </td>\n",
    "  <td>\n",
    "    <a target=\"_blank\" href=\"https://colab.research.google.com/github/tensorflow/agents/blob/master/docs/tutorials/1_dqn_tutorial.ipynb\">\n",
    "    <img src=\"https://www.tensorflow.org/images/colab_logo_32px.png\" />\n",
    "    Run in Google Colab</a>\n",
    "  </td>\n",
    "  <td>\n",
    "    <a target=\"_blank\" href=\"https://github.com/tensorflow/agents/blob/master/docs/tutorials/1_dqn_tutorial.ipynb\">\n",
    "    <img src=\"https://www.tensorflow.org/images/GitHub-Mark-32px.png\" />\n",
    "    View source on GitHub</a>\n",
    "  </td>\n",
    "  <td>\n",
    "    <a href=\"https://storage.googleapis.com/tensorflow_docs/agents/docs/tutorials/1_dqn_tutorial.ipynb\"><img src=\"https://www.tensorflow.org/images/download_logo_32px.png\" />Download notebook</a>\n",
    "  </td>\n",
    "</table>"
   ]
  },
  {
   "cell_type": "markdown",
   "id": "ff2cf92f",
   "metadata": {
    "id": "1u9QVVsShC9X",
    "papermill": {
     "duration": 0.008328,
     "end_time": "2025-02-27T20:57:00.157264",
     "exception": false,
     "start_time": "2025-02-27T20:57:00.148936",
     "status": "completed"
    },
    "tags": []
   },
   "source": [
    "## Setup"
   ]
  },
  {
   "cell_type": "markdown",
   "id": "50620e7e",
   "metadata": {
    "id": "kNrNXKI7bINP",
    "papermill": {
     "duration": 0.008267,
     "end_time": "2025-02-27T20:57:00.174056",
     "exception": false,
     "start_time": "2025-02-27T20:57:00.165789",
     "status": "completed"
    },
    "tags": []
   },
   "source": [
    "If you haven't installed the following dependencies, run:"
   ]
  },
  {
   "cell_type": "code",
   "execution_count": 2,
   "id": "d8079103",
   "metadata": {
    "execution": {
     "iopub.execute_input": "2025-02-27T20:57:00.191989Z",
     "iopub.status.busy": "2025-02-27T20:57:00.191753Z",
     "iopub.status.idle": "2025-02-27T20:59:01.088559Z",
     "shell.execute_reply": "2025-02-27T20:59:01.087508Z"
    },
    "id": "KEHR2Ui-lo8O",
    "papermill": {
     "duration": 120.907629,
     "end_time": "2025-02-27T20:59:01.090273",
     "exception": false,
     "start_time": "2025-02-27T20:57:00.182644",
     "status": "completed"
    },
    "tags": []
   },
   "outputs": [
    {
     "name": "stdout",
     "output_type": "stream",
     "text": [
      "Get:1 https://cloud.r-project.org/bin/linux/ubuntu jammy-cran40/ InRelease [3,632 B]\r\n",
      "Get:2 https://developer.download.nvidia.com/compute/cuda/repos/ubuntu2204/x86_64  InRelease [1,581 B]\r\n",
      "Hit:3 http://archive.ubuntu.com/ubuntu jammy InRelease\r\n",
      "Get:4 http://archive.ubuntu.com/ubuntu jammy-updates InRelease [128 kB]\r\n",
      "Get:5 http://security.ubuntu.com/ubuntu jammy-security InRelease [129 kB]\r\n",
      "Get:6 https://r2u.stat.illinois.edu/ubuntu jammy InRelease [6,555 B]\r\n",
      "Get:7 https://developer.download.nvidia.com/compute/cuda/repos/ubuntu2204/x86_64  Packages [1,319 kB]\r\n",
      "Get:8 http://archive.ubuntu.com/ubuntu jammy-backports InRelease [127 kB]\r\n",
      "Get:9 https://r2u.stat.illinois.edu/ubuntu jammy/main amd64 Packages [2,662 kB]\r\n",
      "Hit:10 https://ppa.launchpadcontent.net/deadsnakes/ppa/ubuntu jammy InRelease\r\n",
      "Get:11 http://archive.ubuntu.com/ubuntu jammy-updates/restricted amd64 Packages [3,824 kB]\r\n",
      "Get:12 http://security.ubuntu.com/ubuntu jammy-security/main amd64 Packages [2,645 kB]\r\n",
      "Hit:13 https://ppa.launchpadcontent.net/graphics-drivers/ppa/ubuntu jammy InRelease\r\n",
      "Hit:14 https://ppa.launchpadcontent.net/ubuntugis/ppa/ubuntu jammy InRelease\r\n",
      "Get:15 https://r2u.stat.illinois.edu/ubuntu jammy/main all Packages [8,705 kB]\r\n",
      "Get:16 http://archive.ubuntu.com/ubuntu jammy-updates/universe amd64 Packages [1,533 kB]\r\n",
      "Get:17 http://archive.ubuntu.com/ubuntu jammy-updates/main amd64 Packages [2,955 kB]\r\n",
      "Get:18 http://archive.ubuntu.com/ubuntu jammy-backports/universe amd64 Packages [35.2 kB]\r\n",
      "Get:19 http://security.ubuntu.com/ubuntu jammy-security/restricted amd64 Packages [3,676 kB]\r\n",
      "Get:20 http://security.ubuntu.com/ubuntu jammy-security/universe amd64 Packages [1,235 kB]\r\n",
      "Fetched 29.0 MB in 3s (11.5 MB/s)\r\n",
      "\r\n",
      "W: Skipping acquire of configured file 'main/source/Sources' as repository 'https://r2u.stat.illinois.edu/ubuntu jammy InRelease' does not seem to provide it (sources.list entry misspelt?)\r\n",
      "\r\n",
      "\r\n",
      "\r\n",
      "ffmpeg is already the newest version (7:4.4.2-0ubuntu0.22.04.1).\r\n",
      "The following additional packages will be installed:\r\n",
      "  freeglut3 libegl-dev libgl-dev libgl1-mesa-dev libgles-dev libgles1\r\n",
      "  libglu1-mesa libglu1-mesa-dev libglvnd-core-dev libglvnd-dev libglx-dev\r\n",
      "  libopengl-dev xserver-common\r\n",
      "The following NEW packages will be installed:\r\n",
      "  freeglut3 freeglut3-dev libegl-dev libgl-dev libgl1-mesa-dev libgles-dev\r\n",
      "  libgles1 libglu1-mesa libglu1-mesa-dev libglvnd-core-dev libglvnd-dev\r\n",
      "  libglx-dev libopengl-dev\r\n",
      "The following packages will be upgraded:\r\n",
      "  xserver-common xvfb\r\n",
      "2 upgraded, 13 newly installed, 0 to remove and 138 not upgraded.\r\n",
      "Need to get 1,689 kB of archives.\r\n",
      "After this operation, 5,037 kB of additional disk space will be used.\r\n",
      "Get:1 http://archive.ubuntu.com/ubuntu jammy/universe amd64 freeglut3 amd64 2.8.1-6 [74.0 kB]\r\n",
      "Get:2 http://archive.ubuntu.com/ubuntu jammy/main amd64 libglx-dev amd64 1.4.0-1 [14.1 kB]\r\n",
      "Get:3 http://archive.ubuntu.com/ubuntu jammy/main amd64 libgl-dev amd64 1.4.0-1 [101 kB]\r\n",
      "Get:4 http://archive.ubuntu.com/ubuntu jammy/main amd64 libglvnd-core-dev amd64 1.4.0-1 [12.7 kB]\r\n",
      "Get:5 http://archive.ubuntu.com/ubuntu jammy/main amd64 libegl-dev amd64 1.4.0-1 [18.0 kB]\r\n",
      "Get:6 http://archive.ubuntu.com/ubuntu jammy/main amd64 libgles1 amd64 1.4.0-1 [11.5 kB]\r\n",
      "Get:7 http://archive.ubuntu.com/ubuntu jammy/main amd64 libgles-dev amd64 1.4.0-1 [49.4 kB]\r\n",
      "Get:8 http://archive.ubuntu.com/ubuntu jammy/main amd64 libopengl-dev amd64 1.4.0-1 [3,400 B]\r\n",
      "Get:9 http://archive.ubuntu.com/ubuntu jammy/main amd64 libglvnd-dev amd64 1.4.0-1 [3,162 B]\r\n",
      "Get:10 http://archive.ubuntu.com/ubuntu jammy-updates/main amd64 libgl1-mesa-dev amd64 23.2.1-1ubuntu3.1~22.04.3 [6,848 B]\r\n",
      "Get:11 http://archive.ubuntu.com/ubuntu jammy/main amd64 libglu1-mesa amd64 9.0.2-1 [145 kB]\r\n",
      "Get:12 http://archive.ubuntu.com/ubuntu jammy/main amd64 libglu1-mesa-dev amd64 9.0.2-1 [231 kB]\r\n",
      "Get:13 http://archive.ubuntu.com/ubuntu jammy/universe amd64 freeglut3-dev amd64 2.8.1-6 [126 kB]\r\n",
      "Get:14 http://archive.ubuntu.com/ubuntu jammy-updates/main amd64 xserver-common all 2:21.1.4-2ubuntu1.7~22.04.13 [29.1 kB]\r\n",
      "Get:15 http://archive.ubuntu.com/ubuntu jammy-updates/universe amd64 xvfb amd64 2:21.1.4-2ubuntu1.7~22.04.13 [863 kB]\r\n",
      "Fetched 1,689 kB in 1s (2,401 kB/s)\r\n",
      "debconf: unable to initialize frontend: Dialog\r\n",
      "debconf: (No usable dialog-like program is installed, so the dialog based frontend cannot be used. at /usr/share/perl5/Debconf/FrontEnd/Dialog.pm line 78, <> line 15.)\r\n",
      "debconf: falling back to frontend: Readline\r\n",
      "Selecting previously unselected package freeglut3:amd64.\r\n",
      "(Reading database ... 127400 files and directories currently installed.)\r\n",
      "Preparing to unpack .../00-freeglut3_2.8.1-6_amd64.deb ...\r\n",
      "Unpacking freeglut3:amd64 (2.8.1-6) ...\r\n",
      "Selecting previously unselected package libglx-dev:amd64.\r\n",
      "Preparing to unpack .../01-libglx-dev_1.4.0-1_amd64.deb ...\r\n",
      "Unpacking libglx-dev:amd64 (1.4.0-1) ...\r\n",
      "Selecting previously unselected package libgl-dev:amd64.\r\n",
      "Preparing to unpack .../02-libgl-dev_1.4.0-1_amd64.deb ...\r\n",
      "Unpacking libgl-dev:amd64 (1.4.0-1) ...\r\n",
      "Selecting previously unselected package libglvnd-core-dev:amd64.\r\n",
      "Preparing to unpack .../03-libglvnd-core-dev_1.4.0-1_amd64.deb ...\r\n",
      "Unpacking libglvnd-core-dev:amd64 (1.4.0-1) ...\r\n",
      "Selecting previously unselected package libegl-dev:amd64.\r\n",
      "Preparing to unpack .../04-libegl-dev_1.4.0-1_amd64.deb ...\r\n",
      "Unpacking libegl-dev:amd64 (1.4.0-1) ...\r\n",
      "Selecting previously unselected package libgles1:amd64.\r\n",
      "Preparing to unpack .../05-libgles1_1.4.0-1_amd64.deb ...\r\n",
      "Unpacking libgles1:amd64 (1.4.0-1) ...\r\n",
      "Selecting previously unselected package libgles-dev:amd64.\r\n",
      "Preparing to unpack .../06-libgles-dev_1.4.0-1_amd64.deb ...\r\n",
      "Unpacking libgles-dev:amd64 (1.4.0-1) ...\r\n",
      "Selecting previously unselected package libopengl-dev:amd64.\r\n",
      "Preparing to unpack .../07-libopengl-dev_1.4.0-1_amd64.deb ...\r\n",
      "Unpacking libopengl-dev:amd64 (1.4.0-1) ...\r\n",
      "Selecting previously unselected package libglvnd-dev:amd64.\r\n",
      "Preparing to unpack .../08-libglvnd-dev_1.4.0-1_amd64.deb ...\r\n",
      "Unpacking libglvnd-dev:amd64 (1.4.0-1) ...\r\n",
      "Selecting previously unselected package libgl1-mesa-dev:amd64.\r\n",
      "Preparing to unpack .../09-libgl1-mesa-dev_23.2.1-1ubuntu3.1~22.04.3_amd64.deb ...\r\n",
      "Unpacking libgl1-mesa-dev:amd64 (23.2.1-1ubuntu3.1~22.04.3) ...\r\n",
      "Selecting previously unselected package libglu1-mesa:amd64.\r\n",
      "Preparing to unpack .../10-libglu1-mesa_9.0.2-1_amd64.deb ...\r\n",
      "Unpacking libglu1-mesa:amd64 (9.0.2-1) ...\r\n",
      "Selecting previously unselected package libglu1-mesa-dev:amd64.\r\n",
      "Preparing to unpack .../11-libglu1-mesa-dev_9.0.2-1_amd64.deb ...\r\n",
      "Unpacking libglu1-mesa-dev:amd64 (9.0.2-1) ...\r\n",
      "Selecting previously unselected package freeglut3-dev:amd64.\r\n",
      "Preparing to unpack .../12-freeglut3-dev_2.8.1-6_amd64.deb ...\r\n",
      "Unpacking freeglut3-dev:amd64 (2.8.1-6) ...\r\n",
      "Preparing to unpack .../13-xserver-common_2%3a21.1.4-2ubuntu1.7~22.04.13_all.deb ...\r\n",
      "Unpacking xserver-common (2:21.1.4-2ubuntu1.7~22.04.13) over (2:21.1.4-2ubuntu1.7~22.04.12) ...\r\n",
      "Preparing to unpack .../14-xvfb_2%3a21.1.4-2ubuntu1.7~22.04.13_amd64.deb ...\r\n",
      "Unpacking xvfb (2:21.1.4-2ubuntu1.7~22.04.13) over (2:21.1.4-2ubuntu1.7~22.04.12) ...\r\n",
      "Setting up freeglut3:amd64 (2.8.1-6) ...\r\n",
      "Setting up libglvnd-core-dev:amd64 (1.4.0-1) ...\r\n",
      "Setting up libgles1:amd64 (1.4.0-1) ...\r\n",
      "Setting up libglx-dev:amd64 (1.4.0-1) ...\r\n",
      "Setting up libglu1-mesa:amd64 (9.0.2-1) ...\r\n",
      "Setting up xserver-common (2:21.1.4-2ubuntu1.7~22.04.13) ...\r\n",
      "Setting up libopengl-dev:amd64 (1.4.0-1) ...\r\n",
      "Setting up libgl-dev:amd64 (1.4.0-1) ...\r\n",
      "Setting up libegl-dev:amd64 (1.4.0-1) ...\r\n",
      "Setting up xvfb (2:21.1.4-2ubuntu1.7~22.04.13) ...\r\n",
      "Setting up libglu1-mesa-dev:amd64 (9.0.2-1) ...\r\n",
      "Setting up libgles-dev:amd64 (1.4.0-1) ...\r\n",
      "Setting up libglvnd-dev:amd64 (1.4.0-1) ...\r\n",
      "Setting up libgl1-mesa-dev:amd64 (23.2.1-1ubuntu3.1~22.04.3) ...\r\n",
      "Setting up freeglut3-dev:amd64 (2.8.1-6) ...\r\n",
      "Processing triggers for man-db (2.10.2-1) ...\r\n",
      "Processing triggers for libc-bin (2.35-0ubuntu3.4) ...\r\n",
      "/sbin/ldconfig.real: /usr/local/lib/libtcm.so.1 is not a symbolic link\r\n",
      "\r\n",
      "/sbin/ldconfig.real: /usr/local/lib/libumf.so.0 is not a symbolic link\r\n",
      "\r\n",
      "/sbin/ldconfig.real: /usr/local/lib/libtcm_debug.so.1 is not a symbolic link\r\n",
      "\r\n",
      "/sbin/ldconfig.real: /usr/local/lib/libhwloc.so.15 is not a symbolic link\r\n",
      "\r\n",
      "/sbin/ldconfig.real: /usr/local/lib/libur_loader.so.0 is not a symbolic link\r\n",
      "\r\n",
      "/sbin/ldconfig.real: /usr/local/lib/libur_adapter_level_zero.so.0 is not a symbolic link\r\n",
      "\r\n",
      "/sbin/ldconfig.real: /usr/local/lib/libur_adapter_opencl.so.0 is not a symbolic link\r\n",
      "\r\n",
      "/sbin/ldconfig.real: /usr/local/lib/libtbbbind_2_5.so.3 is not a symbolic link\r\n",
      "\r\n",
      "/sbin/ldconfig.real: /usr/local/lib/libtbbbind_2_0.so.3 is not a symbolic link\r\n",
      "\r\n",
      "/sbin/ldconfig.real: /usr/local/lib/libtbb.so.12 is not a symbolic link\r\n",
      "\r\n",
      "/sbin/ldconfig.real: /usr/local/lib/libtbbmalloc_proxy.so.2 is not a symbolic link\r\n",
      "\r\n",
      "/sbin/ldconfig.real: /usr/local/lib/libtbbmalloc.so.2 is not a symbolic link\r\n",
      "\r\n",
      "/sbin/ldconfig.real: /usr/local/lib/libtbbbind.so.3 is not a symbolic link\r\n",
      "\r\n",
      "Collecting imageio==2.4.0\r\n",
      "  Downloading imageio-2.4.0.tar.gz (3.3 MB)\r\n",
      "\u001b[2K     \u001b[90m━━━━━━━━━━━━━━━━━━━━━━━━━━━━━━━━━━━━━━━━\u001b[0m \u001b[32m3.3/3.3 MB\u001b[0m \u001b[31m37.4 MB/s\u001b[0m eta \u001b[36m0:00:00\u001b[0m\r\n",
      "\u001b[?25h  Preparing metadata (setup.py) ... \u001b[?25l\u001b[?25hdone\r\n",
      "Requirement already satisfied: numpy in /usr/local/lib/python3.10/dist-packages (from imageio==2.4.0) (1.26.4)\r\n",
      "Requirement already satisfied: pillow in /usr/local/lib/python3.10/dist-packages (from imageio==2.4.0) (11.0.0)\r\n",
      "Requirement already satisfied: mkl_fft in /usr/local/lib/python3.10/dist-packages (from numpy->imageio==2.4.0) (1.3.8)\r\n",
      "Requirement already satisfied: mkl_random in /usr/local/lib/python3.10/dist-packages (from numpy->imageio==2.4.0) (1.2.4)\r\n",
      "Requirement already satisfied: mkl_umath in /usr/local/lib/python3.10/dist-packages (from numpy->imageio==2.4.0) (0.1.1)\r\n",
      "Requirement already satisfied: mkl in /usr/local/lib/python3.10/dist-packages (from numpy->imageio==2.4.0) (2025.0.1)\r\n",
      "Requirement already satisfied: tbb4py in /usr/local/lib/python3.10/dist-packages (from numpy->imageio==2.4.0) (2022.0.0)\r\n",
      "Requirement already satisfied: mkl-service in /usr/local/lib/python3.10/dist-packages (from numpy->imageio==2.4.0) (2.4.1)\r\n",
      "Requirement already satisfied: intel-openmp>=2024 in /usr/local/lib/python3.10/dist-packages (from mkl->numpy->imageio==2.4.0) (2024.2.0)\r\n",
      "Requirement already satisfied: tbb==2022.* in /usr/local/lib/python3.10/dist-packages (from mkl->numpy->imageio==2.4.0) (2022.0.0)\r\n",
      "Requirement already satisfied: tcmlib==1.* in /usr/local/lib/python3.10/dist-packages (from tbb==2022.*->mkl->numpy->imageio==2.4.0) (1.2.0)\r\n",
      "Requirement already satisfied: intel-cmplr-lib-rt in /usr/local/lib/python3.10/dist-packages (from mkl_umath->numpy->imageio==2.4.0) (2024.2.0)\r\n",
      "Requirement already satisfied: intel-cmplr-lib-ur==2024.2.0 in /usr/local/lib/python3.10/dist-packages (from intel-openmp>=2024->mkl->numpy->imageio==2.4.0) (2024.2.0)\r\n",
      "Building wheels for collected packages: imageio\r\n",
      "  Building wheel for imageio (setup.py) ... \u001b[?25l\u001b[?25hdone\r\n",
      "  Created wheel for imageio: filename=imageio-2.4.0-py3-none-any.whl size=3303892 sha256=9174068603807663fefde61647362a81fe89668d4e4d398037e8759bf9f4bcbe\r\n",
      "  Stored in directory: /root/.cache/pip/wheels/8a/d8/1c/eb9350a4bd3ae8e8814a2f7f9cc832fedad8ea5a926181d60d\r\n",
      "Successfully built imageio\r\n",
      "Installing collected packages: imageio\r\n",
      "  Attempting uninstall: imageio\r\n",
      "    Found existing installation: imageio 2.36.1\r\n",
      "    Uninstalling imageio-2.36.1:\r\n",
      "      Successfully uninstalled imageio-2.36.1\r\n",
      "\u001b[31mERROR: pip's dependency resolver does not currently take into account all the packages that are installed. This behaviour is the source of the following dependency conflicts.\r\n",
      "moviepy 1.0.3 requires imageio<3.0,>=2.5; python_version >= \"3.4\", but you have imageio 2.4.0 which is incompatible.\r\n",
      "scikit-image 0.25.0 requires imageio!=2.35.0,>=2.33, but you have imageio 2.4.0 which is incompatible.\u001b[0m\u001b[31m\r\n",
      "\u001b[0mSuccessfully installed imageio-2.4.0\r\n",
      "Collecting pyvirtualdisplay\r\n",
      "  Downloading PyVirtualDisplay-3.0-py3-none-any.whl.metadata (943 bytes)\r\n",
      "Downloading PyVirtualDisplay-3.0-py3-none-any.whl (15 kB)\r\n",
      "Installing collected packages: pyvirtualdisplay\r\n",
      "Successfully installed pyvirtualdisplay-3.0\r\n",
      "Collecting tf-agents[reverb]\r\n",
      "  Downloading tf_agents-0.19.0-py3-none-any.whl.metadata (12 kB)\r\n",
      "Requirement already satisfied: absl-py>=0.6.1 in /usr/local/lib/python3.10/dist-packages (from tf-agents[reverb]) (1.4.0)\r\n",
      "Requirement already satisfied: cloudpickle>=1.3 in /usr/local/lib/python3.10/dist-packages (from tf-agents[reverb]) (3.1.0)\r\n",
      "Requirement already satisfied: gin-config>=0.4.0 in /usr/local/lib/python3.10/dist-packages (from tf-agents[reverb]) (0.5.0)\r\n",
      "Collecting gym<=0.23.0,>=0.17.0 (from tf-agents[reverb])\r\n",
      "  Downloading gym-0.23.0.tar.gz (624 kB)\r\n",
      "\u001b[2K     \u001b[90m━━━━━━━━━━━━━━━━━━━━━━━━━━━━━━━━━━━━━━━━\u001b[0m \u001b[32m624.4/624.4 kB\u001b[0m \u001b[31m12.0 MB/s\u001b[0m eta \u001b[36m0:00:00\u001b[0m\r\n",
      "\u001b[?25h  Installing build dependencies ... \u001b[?25l\u001b[?25hdone\r\n",
      "  Getting requirements to build wheel ... \u001b[?25l\u001b[?25hdone\r\n",
      "  Preparing metadata (pyproject.toml) ... \u001b[?25l\u001b[?25hdone\r\n",
      "Requirement already satisfied: numpy>=1.19.0 in /usr/local/lib/python3.10/dist-packages (from tf-agents[reverb]) (1.26.4)\r\n",
      "Requirement already satisfied: pillow in /usr/local/lib/python3.10/dist-packages (from tf-agents[reverb]) (11.0.0)\r\n",
      "Requirement already satisfied: six>=1.10.0 in /usr/local/lib/python3.10/dist-packages (from tf-agents[reverb]) (1.17.0)\r\n",
      "Requirement already satisfied: protobuf>=3.11.3 in /usr/local/lib/python3.10/dist-packages (from tf-agents[reverb]) (3.20.3)\r\n",
      "Requirement already satisfied: wrapt>=1.11.1 in /usr/local/lib/python3.10/dist-packages (from tf-agents[reverb]) (1.17.0)\r\n",
      "Collecting typing-extensions==4.5.0 (from tf-agents[reverb])\r\n",
      "  Downloading typing_extensions-4.5.0-py3-none-any.whl.metadata (8.5 kB)\r\n",
      "Collecting pygame==2.1.3 (from tf-agents[reverb])\r\n",
      "  Downloading pygame-2.1.3-cp310-cp310-manylinux_2_17_x86_64.manylinux2014_x86_64.whl.metadata (9.3 kB)\r\n",
      "Collecting tensorflow-probability~=0.23.0 (from tf-agents[reverb])\r\n",
      "  Downloading tensorflow_probability-0.23.0-py2.py3-none-any.whl.metadata (13 kB)\r\n",
      "Collecting rlds (from tf-agents[reverb])\r\n",
      "  Downloading rlds-0.1.8-py3-none-manylinux2010_x86_64.whl.metadata (1.7 kB)\r\n",
      "Collecting dm-reverb~=0.14.0 (from tf-agents[reverb])\r\n",
      "  Downloading dm_reverb-0.14.0-cp310-cp310-manylinux2014_x86_64.whl.metadata (17 kB)\r\n",
      "Collecting tensorflow~=2.15.0 (from tf-agents[reverb])\r\n",
      "  Downloading tensorflow-2.15.1-cp310-cp310-manylinux_2_17_x86_64.manylinux2014_x86_64.whl.metadata (4.2 kB)\r\n",
      "Requirement already satisfied: dm-tree in /usr/local/lib/python3.10/dist-packages (from dm-reverb~=0.14.0->tf-agents[reverb]) (0.1.8)\r\n",
      "Requirement already satisfied: portpicker in /usr/local/lib/python3.10/dist-packages (from dm-reverb~=0.14.0->tf-agents[reverb]) (1.5.2)\r\n",
      "Requirement already satisfied: gym_notices>=0.0.4 in /usr/local/lib/python3.10/dist-packages (from gym<=0.23.0,>=0.17.0->tf-agents[reverb]) (0.0.8)\r\n",
      "Requirement already satisfied: mkl_fft in /usr/local/lib/python3.10/dist-packages (from numpy>=1.19.0->tf-agents[reverb]) (1.3.8)\r\n",
      "Requirement already satisfied: mkl_random in /usr/local/lib/python3.10/dist-packages (from numpy>=1.19.0->tf-agents[reverb]) (1.2.4)\r\n",
      "Requirement already satisfied: mkl_umath in /usr/local/lib/python3.10/dist-packages (from numpy>=1.19.0->tf-agents[reverb]) (0.1.1)\r\n",
      "Requirement already satisfied: mkl in /usr/local/lib/python3.10/dist-packages (from numpy>=1.19.0->tf-agents[reverb]) (2025.0.1)\r\n",
      "Requirement already satisfied: tbb4py in /usr/local/lib/python3.10/dist-packages (from numpy>=1.19.0->tf-agents[reverb]) (2022.0.0)\r\n",
      "Requirement already satisfied: mkl-service in /usr/local/lib/python3.10/dist-packages (from numpy>=1.19.0->tf-agents[reverb]) (2.4.1)\r\n",
      "Requirement already satisfied: astunparse>=1.6.0 in /usr/local/lib/python3.10/dist-packages (from tensorflow~=2.15.0->tf-agents[reverb]) (1.6.3)\r\n",
      "Requirement already satisfied: flatbuffers>=23.5.26 in /usr/local/lib/python3.10/dist-packages (from tensorflow~=2.15.0->tf-agents[reverb]) (24.3.25)\r\n",
      "Requirement already satisfied: gast!=0.5.0,!=0.5.1,!=0.5.2,>=0.2.1 in /usr/local/lib/python3.10/dist-packages (from tensorflow~=2.15.0->tf-agents[reverb]) (0.6.0)\r\n",
      "Requirement already satisfied: google-pasta>=0.1.1 in /usr/local/lib/python3.10/dist-packages (from tensorflow~=2.15.0->tf-agents[reverb]) (0.2.0)\r\n",
      "Requirement already satisfied: h5py>=2.9.0 in /usr/local/lib/python3.10/dist-packages (from tensorflow~=2.15.0->tf-agents[reverb]) (3.12.1)\r\n",
      "Requirement already satisfied: libclang>=13.0.0 in /usr/local/lib/python3.10/dist-packages (from tensorflow~=2.15.0->tf-agents[reverb]) (18.1.1)\r\n",
      "Collecting ml-dtypes~=0.3.1 (from tensorflow~=2.15.0->tf-agents[reverb])\r\n",
      "  Downloading ml_dtypes-0.3.2-cp310-cp310-manylinux_2_17_x86_64.manylinux2014_x86_64.whl.metadata (20 kB)\r\n",
      "Requirement already satisfied: opt-einsum>=2.3.2 in /usr/local/lib/python3.10/dist-packages (from tensorflow~=2.15.0->tf-agents[reverb]) (3.4.0)\r\n",
      "Requirement already satisfied: packaging in /usr/local/lib/python3.10/dist-packages (from tensorflow~=2.15.0->tf-agents[reverb]) (24.2)\r\n",
      "Requirement already satisfied: setuptools in /usr/local/lib/python3.10/dist-packages (from tensorflow~=2.15.0->tf-agents[reverb]) (75.1.0)\r\n",
      "Requirement already satisfied: termcolor>=1.1.0 in /usr/local/lib/python3.10/dist-packages (from tensorflow~=2.15.0->tf-agents[reverb]) (2.5.0)\r\n",
      "Collecting wrapt>=1.11.1 (from tf-agents[reverb])\r\n",
      "  Downloading wrapt-1.14.1-cp310-cp310-manylinux_2_5_x86_64.manylinux1_x86_64.manylinux_2_17_x86_64.manylinux2014_x86_64.whl.metadata (6.7 kB)\r\n",
      "Requirement already satisfied: tensorflow-io-gcs-filesystem>=0.23.1 in /usr/local/lib/python3.10/dist-packages (from tensorflow~=2.15.0->tf-agents[reverb]) (0.37.1)\r\n",
      "Requirement already satisfied: grpcio<2.0,>=1.24.3 in /usr/local/lib/python3.10/dist-packages (from tensorflow~=2.15.0->tf-agents[reverb]) (1.68.1)\r\n",
      "Collecting tensorboard<2.16,>=2.15 (from tensorflow~=2.15.0->tf-agents[reverb])\r\n",
      "  Downloading tensorboard-2.15.2-py3-none-any.whl.metadata (1.7 kB)\r\n",
      "Collecting tensorflow-estimator<2.16,>=2.15.0 (from tensorflow~=2.15.0->tf-agents[reverb])\r\n",
      "  Downloading tensorflow_estimator-2.15.0-py2.py3-none-any.whl.metadata (1.3 kB)\r\n",
      "Collecting keras<2.16,>=2.15.0 (from tensorflow~=2.15.0->tf-agents[reverb])\r\n",
      "  Downloading keras-2.15.0-py3-none-any.whl.metadata (2.4 kB)\r\n",
      "Requirement already satisfied: decorator in /usr/local/lib/python3.10/dist-packages (from tensorflow-probability~=0.23.0->tf-agents[reverb]) (4.4.2)\r\n",
      "Requirement already satisfied: wheel<1.0,>=0.23.0 in /usr/local/lib/python3.10/dist-packages (from astunparse>=1.6.0->tensorflow~=2.15.0->tf-agents[reverb]) (0.45.1)\r\n",
      "Requirement already satisfied: google-auth<3,>=1.6.3 in /usr/local/lib/python3.10/dist-packages (from tensorboard<2.16,>=2.15->tensorflow~=2.15.0->tf-agents[reverb]) (2.27.0)\r\n",
      "Requirement already satisfied: google-auth-oauthlib<2,>=0.5 in /usr/local/lib/python3.10/dist-packages (from tensorboard<2.16,>=2.15->tensorflow~=2.15.0->tf-agents[reverb]) (1.2.1)\r\n",
      "Requirement already satisfied: markdown>=2.6.8 in /usr/local/lib/python3.10/dist-packages (from tensorboard<2.16,>=2.15->tensorflow~=2.15.0->tf-agents[reverb]) (3.7)\r\n",
      "Requirement already satisfied: requests<3,>=2.21.0 in /usr/local/lib/python3.10/dist-packages (from tensorboard<2.16,>=2.15->tensorflow~=2.15.0->tf-agents[reverb]) (2.32.3)\r\n",
      "Requirement already satisfied: tensorboard-data-server<0.8.0,>=0.7.0 in /usr/local/lib/python3.10/dist-packages (from tensorboard<2.16,>=2.15->tensorflow~=2.15.0->tf-agents[reverb]) (0.7.2)\r\n",
      "Requirement already satisfied: werkzeug>=1.0.1 in /usr/local/lib/python3.10/dist-packages (from tensorboard<2.16,>=2.15->tensorflow~=2.15.0->tf-agents[reverb]) (3.1.3)\r\n",
      "Requirement already satisfied: intel-openmp>=2024 in /usr/local/lib/python3.10/dist-packages (from mkl->numpy>=1.19.0->tf-agents[reverb]) (2024.2.0)\r\n",
      "Requirement already satisfied: tbb==2022.* in /usr/local/lib/python3.10/dist-packages (from mkl->numpy>=1.19.0->tf-agents[reverb]) (2022.0.0)\r\n",
      "Requirement already satisfied: tcmlib==1.* in /usr/local/lib/python3.10/dist-packages (from tbb==2022.*->mkl->numpy>=1.19.0->tf-agents[reverb]) (1.2.0)\r\n",
      "Requirement already satisfied: intel-cmplr-lib-rt in /usr/local/lib/python3.10/dist-packages (from mkl_umath->numpy>=1.19.0->tf-agents[reverb]) (2024.2.0)\r\n",
      "Requirement already satisfied: psutil in /usr/local/lib/python3.10/dist-packages (from portpicker->dm-reverb~=0.14.0->tf-agents[reverb]) (5.9.5)\r\n",
      "Requirement already satisfied: cachetools<6.0,>=2.0.0 in /usr/local/lib/python3.10/dist-packages (from google-auth<3,>=1.6.3->tensorboard<2.16,>=2.15->tensorflow~=2.15.0->tf-agents[reverb]) (5.5.0)\r\n",
      "Requirement already satisfied: pyasn1-modules>=0.2.1 in /usr/local/lib/python3.10/dist-packages (from google-auth<3,>=1.6.3->tensorboard<2.16,>=2.15->tensorflow~=2.15.0->tf-agents[reverb]) (0.4.1)\r\n",
      "Requirement already satisfied: rsa<5,>=3.1.4 in /usr/local/lib/python3.10/dist-packages (from google-auth<3,>=1.6.3->tensorboard<2.16,>=2.15->tensorflow~=2.15.0->tf-agents[reverb]) (4.9)\r\n",
      "Requirement already satisfied: requests-oauthlib>=0.7.0 in /usr/local/lib/python3.10/dist-packages (from google-auth-oauthlib<2,>=0.5->tensorboard<2.16,>=2.15->tensorflow~=2.15.0->tf-agents[reverb]) (1.3.1)\r\n",
      "Requirement already satisfied: intel-cmplr-lib-ur==2024.2.0 in /usr/local/lib/python3.10/dist-packages (from intel-openmp>=2024->mkl->numpy>=1.19.0->tf-agents[reverb]) (2024.2.0)\r\n",
      "Requirement already satisfied: charset-normalizer<4,>=2 in /usr/local/lib/python3.10/dist-packages (from requests<3,>=2.21.0->tensorboard<2.16,>=2.15->tensorflow~=2.15.0->tf-agents[reverb]) (3.4.1)\r\n",
      "Requirement already satisfied: idna<4,>=2.5 in /usr/local/lib/python3.10/dist-packages (from requests<3,>=2.21.0->tensorboard<2.16,>=2.15->tensorflow~=2.15.0->tf-agents[reverb]) (3.10)\r\n",
      "Requirement already satisfied: urllib3<3,>=1.21.1 in /usr/local/lib/python3.10/dist-packages (from requests<3,>=2.21.0->tensorboard<2.16,>=2.15->tensorflow~=2.15.0->tf-agents[reverb]) (2.3.0)\r\n",
      "Requirement already satisfied: certifi>=2017.4.17 in /usr/local/lib/python3.10/dist-packages (from requests<3,>=2.21.0->tensorboard<2.16,>=2.15->tensorflow~=2.15.0->tf-agents[reverb]) (2025.1.31)\r\n",
      "Requirement already satisfied: MarkupSafe>=2.1.1 in /usr/local/lib/python3.10/dist-packages (from werkzeug>=1.0.1->tensorboard<2.16,>=2.15->tensorflow~=2.15.0->tf-agents[reverb]) (3.0.2)\r\n",
      "Requirement already satisfied: pyasn1<0.7.0,>=0.4.6 in /usr/local/lib/python3.10/dist-packages (from pyasn1-modules>=0.2.1->google-auth<3,>=1.6.3->tensorboard<2.16,>=2.15->tensorflow~=2.15.0->tf-agents[reverb]) (0.6.1)\r\n",
      "Requirement already satisfied: oauthlib>=3.0.0 in /usr/local/lib/python3.10/dist-packages (from requests-oauthlib>=0.7.0->google-auth-oauthlib<2,>=0.5->tensorboard<2.16,>=2.15->tensorflow~=2.15.0->tf-agents[reverb]) (3.2.2)\r\n",
      "Downloading pygame-2.1.3-cp310-cp310-manylinux_2_17_x86_64.manylinux2014_x86_64.whl (13.7 MB)\r\n",
      "\u001b[2K   \u001b[90m━━━━━━━━━━━━━━━━━━━━━━━━━━━━━━━━━━━━━━━━\u001b[0m \u001b[32m13.7/13.7 MB\u001b[0m \u001b[31m81.0 MB/s\u001b[0m eta \u001b[36m0:00:00\u001b[0m\r\n",
      "\u001b[?25hDownloading typing_extensions-4.5.0-py3-none-any.whl (27 kB)\r\n",
      "Downloading dm_reverb-0.14.0-cp310-cp310-manylinux2014_x86_64.whl (6.4 MB)\r\n",
      "\u001b[2K   \u001b[90m━━━━━━━━━━━━━━━━━━━━━━━━━━━━━━━━━━━━━━━━\u001b[0m \u001b[32m6.4/6.4 MB\u001b[0m \u001b[31m90.8 MB/s\u001b[0m eta \u001b[36m0:00:00\u001b[0m\r\n",
      "\u001b[?25hDownloading tensorflow-2.15.1-cp310-cp310-manylinux_2_17_x86_64.manylinux2014_x86_64.whl (475.2 MB)\r\n",
      "\u001b[2K   \u001b[90m━━━━━━━━━━━━━━━━━━━━━━━━━━━━━━━━━━━━━━━━\u001b[0m \u001b[32m475.2/475.2 MB\u001b[0m \u001b[31m3.6 MB/s\u001b[0m eta \u001b[36m0:00:00\u001b[0m\r\n",
      "\u001b[?25hDownloading tensorflow_probability-0.23.0-py2.py3-none-any.whl (6.9 MB)\r\n",
      "\u001b[2K   \u001b[90m━━━━━━━━━━━━━━━━━━━━━━━━━━━━━━━━━━━━━━━━\u001b[0m \u001b[32m6.9/6.9 MB\u001b[0m \u001b[31m104.7 MB/s\u001b[0m eta \u001b[36m0:00:00\u001b[0m\r\n",
      "\u001b[?25hDownloading wrapt-1.14.1-cp310-cp310-manylinux_2_5_x86_64.manylinux1_x86_64.manylinux_2_17_x86_64.manylinux2014_x86_64.whl (77 kB)\r\n",
      "\u001b[2K   \u001b[90m━━━━━━━━━━━━━━━━━━━━━━━━━━━━━━━━━━━━━━━━\u001b[0m \u001b[32m77.9/77.9 kB\u001b[0m \u001b[31m4.6 MB/s\u001b[0m eta \u001b[36m0:00:00\u001b[0m\r\n",
      "\u001b[?25hDownloading rlds-0.1.8-py3-none-manylinux2010_x86_64.whl (48 kB)\r\n",
      "\u001b[2K   \u001b[90m━━━━━━━━━━━━━━━━━━━━━━━━━━━━━━━━━━━━━━━━\u001b[0m \u001b[32m48.4/48.4 kB\u001b[0m \u001b[31m2.6 MB/s\u001b[0m eta \u001b[36m0:00:00\u001b[0m\r\n",
      "\u001b[?25hDownloading tf_agents-0.19.0-py3-none-any.whl (1.4 MB)\r\n",
      "\u001b[2K   \u001b[90m━━━━━━━━━━━━━━━━━━━━━━━━━━━━━━━━━━━━━━━━\u001b[0m \u001b[32m1.4/1.4 MB\u001b[0m \u001b[31m51.2 MB/s\u001b[0m eta \u001b[36m0:00:00\u001b[0m\r\n",
      "\u001b[?25hDownloading keras-2.15.0-py3-none-any.whl (1.7 MB)\r\n",
      "\u001b[2K   \u001b[90m━━━━━━━━━━━━━━━━━━━━━━━━━━━━━━━━━━━━━━━━\u001b[0m \u001b[32m1.7/1.7 MB\u001b[0m \u001b[31m61.0 MB/s\u001b[0m eta \u001b[36m0:00:00\u001b[0m\r\n",
      "\u001b[?25hDownloading ml_dtypes-0.3.2-cp310-cp310-manylinux_2_17_x86_64.manylinux2014_x86_64.whl (2.2 MB)\r\n",
      "\u001b[2K   \u001b[90m━━━━━━━━━━━━━━━━━━━━━━━━━━━━━━━━━━━━━━━━\u001b[0m \u001b[32m2.2/2.2 MB\u001b[0m \u001b[31m72.2 MB/s\u001b[0m eta \u001b[36m0:00:00\u001b[0m\r\n",
      "\u001b[?25hDownloading tensorboard-2.15.2-py3-none-any.whl (5.5 MB)\r\n",
      "\u001b[2K   \u001b[90m━━━━━━━━━━━━━━━━━━━━━━━━━━━━━━━━━━━━━━━━\u001b[0m \u001b[32m5.5/5.5 MB\u001b[0m \u001b[31m100.6 MB/s\u001b[0m eta \u001b[36m0:00:00\u001b[0m\r\n",
      "\u001b[?25hDownloading tensorflow_estimator-2.15.0-py2.py3-none-any.whl (441 kB)\r\n",
      "\u001b[2K   \u001b[90m━━━━━━━━━━━━━━━━━━━━━━━━━━━━━━━━━━━━━━━━\u001b[0m \u001b[32m442.0/442.0 kB\u001b[0m \u001b[31m24.6 MB/s\u001b[0m eta \u001b[36m0:00:00\u001b[0m\r\n",
      "\u001b[?25hBuilding wheels for collected packages: gym\r\n",
      "  Building wheel for gym (pyproject.toml) ... \u001b[?25l\u001b[?25hdone\r\n",
      "  Created wheel for gym: filename=gym-0.23.0-py3-none-any.whl size=697715 sha256=f5338e3d100fc5c84bcd1a27928167d615133f6794b42691cf2371ff09d36541\r\n",
      "  Stored in directory: /root/.cache/pip/wheels/3d/6f/b4/3991d4fae11d0ecb0754c11cc1b4e7745012850da4efaaf0b1\r\n",
      "Successfully built gym\r\n",
      "Installing collected packages: wrapt, typing-extensions, tensorflow-estimator, pygame, keras, dm-reverb, tensorflow-probability, tensorboard, ml-dtypes, gym, tf-agents, tensorflow, rlds\r\n",
      "  Attempting uninstall: wrapt\r\n",
      "    Found existing installation: wrapt 1.17.0\r\n",
      "    Uninstalling wrapt-1.17.0:\r\n",
      "      Successfully uninstalled wrapt-1.17.0\r\n",
      "  Attempting uninstall: typing-extensions\r\n",
      "    Found existing installation: typing_extensions 4.12.2\r\n",
      "    Uninstalling typing_extensions-4.12.2:\r\n",
      "      Successfully uninstalled typing_extensions-4.12.2\r\n",
      "  Attempting uninstall: pygame\r\n",
      "    Found existing installation: pygame 2.6.1\r\n",
      "    Uninstalling pygame-2.6.1:\r\n",
      "      Successfully uninstalled pygame-2.6.1\r\n",
      "  Attempting uninstall: keras\r\n",
      "    Found existing installation: keras 3.5.0\r\n",
      "    Uninstalling keras-3.5.0:\r\n",
      "      Successfully uninstalled keras-3.5.0\r\n",
      "  Attempting uninstall: tensorflow-probability\r\n",
      "    Found existing installation: tensorflow-probability 0.24.0\r\n",
      "    Uninstalling tensorflow-probability-0.24.0:\r\n",
      "      Successfully uninstalled tensorflow-probability-0.24.0\r\n",
      "  Attempting uninstall: tensorboard\r\n",
      "    Found existing installation: tensorboard 2.17.1\r\n",
      "    Uninstalling tensorboard-2.17.1:\r\n",
      "      Successfully uninstalled tensorboard-2.17.1\r\n",
      "  Attempting uninstall: ml-dtypes\r\n",
      "    Found existing installation: ml-dtypes 0.4.1\r\n",
      "    Uninstalling ml-dtypes-0.4.1:\r\n",
      "      Successfully uninstalled ml-dtypes-0.4.1\r\n",
      "  Attempting uninstall: gym\r\n",
      "    Found existing installation: gym 0.25.2\r\n",
      "    Uninstalling gym-0.25.2:\r\n",
      "      Successfully uninstalled gym-0.25.2\r\n",
      "  Attempting uninstall: tensorflow\r\n",
      "    Found existing installation: tensorflow 2.17.1\r\n",
      "    Uninstalling tensorflow-2.17.1:\r\n",
      "      Successfully uninstalled tensorflow-2.17.1\r\n",
      "\u001b[31mERROR: pip's dependency resolver does not currently take into account all the packages that are installed. This behaviour is the source of the following dependency conflicts.\r\n",
      "sqlalchemy 2.0.36 requires typing-extensions>=4.6.0, but you have typing-extensions 4.5.0 which is incompatible.\r\n",
      "altair 5.5.0 requires typing-extensions>=4.10.0; python_version < \"3.14\", but you have typing-extensions 4.5.0 which is incompatible.\r\n",
      "langchain 0.3.12 requires async-timeout<5.0.0,>=4.0.0; python_version < \"3.11\", but you have async-timeout 5.0.1 which is incompatible.\r\n",
      "langchain-core 0.3.25 requires typing-extensions>=4.7, but you have typing-extensions 4.5.0 which is incompatible.\r\n",
      "nibabel 5.3.2 requires typing-extensions>=4.6; python_version < \"3.13\", but you have typing-extensions 4.5.0 which is incompatible.\r\n",
      "openai 1.57.4 requires typing-extensions<5,>=4.11, but you have typing-extensions 4.5.0 which is incompatible.\r\n",
      "pyopenssl 25.0.0 requires typing-extensions>=4.9; python_version < \"3.13\" and python_version >= \"3.8\", but you have typing-extensions 4.5.0 which is incompatible.\r\n",
      "pydantic 2.11.0a2 requires typing-extensions>=4.12.2, but you have typing-extensions 4.5.0 which is incompatible.\r\n",
      "pydantic-core 2.29.0 requires typing-extensions!=4.7.0,>=4.6.0, but you have typing-extensions 4.5.0 which is incompatible.\r\n",
      "tensorflow-decision-forests 1.10.0 requires tensorflow==2.17.0, but you have tensorflow 2.15.1 which is incompatible.\r\n",
      "tensorflow-text 2.17.0 requires tensorflow<2.18,>=2.17.0, but you have tensorflow 2.15.1 which is incompatible.\r\n",
      "tf-keras 2.17.0 requires tensorflow<2.18,>=2.17, but you have tensorflow 2.15.1 which is incompatible.\r\n",
      "torch 2.5.1+cu121 requires typing-extensions>=4.8.0, but you have typing-extensions 4.5.0 which is incompatible.\r\n",
      "typeguard 4.4.1 requires typing-extensions>=4.10.0, but you have typing-extensions 4.5.0 which is incompatible.\u001b[0m\u001b[31m\r\n",
      "\u001b[0mSuccessfully installed dm-reverb-0.14.0 gym-0.23.0 keras-2.15.0 ml-dtypes-0.3.2 pygame-2.1.3 rlds-0.1.8 tensorboard-2.15.2 tensorflow-2.15.1 tensorflow-estimator-2.15.0 tensorflow-probability-0.23.0 tf-agents-0.19.0 typing-extensions-4.5.0 wrapt-1.14.1\r\n",
      "Collecting pyglet\r\n",
      "  Downloading pyglet-2.1.3-py3-none-any.whl.metadata (7.7 kB)\r\n",
      "Downloading pyglet-2.1.3-py3-none-any.whl (962 kB)\r\n",
      "\u001b[2K   \u001b[90m━━━━━━━━━━━━━━━━━━━━━━━━━━━━━━━━━━━━━━━━\u001b[0m \u001b[32m962.1/962.1 kB\u001b[0m \u001b[31m18.4 MB/s\u001b[0m eta \u001b[36m0:00:00\u001b[0m\r\n",
      "\u001b[?25hInstalling collected packages: pyglet\r\n",
      "Successfully installed pyglet-2.1.3\r\n"
     ]
    }
   ],
   "source": [
    "!sudo apt-get update\n",
    "!sudo apt-get install -y xvfb ffmpeg freeglut3-dev\n",
    "!pip install 'imageio==2.4.0'\n",
    "!pip install pyvirtualdisplay\n",
    "!pip install tf-agents[reverb]\n",
    "!pip install pyglet"
   ]
  },
  {
   "cell_type": "code",
   "execution_count": 3,
   "id": "68bbeab8",
   "metadata": {
    "execution": {
     "iopub.execute_input": "2025-02-27T20:59:01.136905Z",
     "iopub.status.busy": "2025-02-27T20:59:01.136640Z",
     "iopub.status.idle": "2025-02-27T20:59:07.764058Z",
     "shell.execute_reply": "2025-02-27T20:59:07.763347Z"
    },
    "id": "sMitx5qSgJk1",
    "papermill": {
     "duration": 6.652368,
     "end_time": "2025-02-27T20:59:07.765641",
     "exception": false,
     "start_time": "2025-02-27T20:59:01.113273",
     "status": "completed"
    },
    "tags": []
   },
   "outputs": [],
   "source": [
    "from __future__ import absolute_import, division, print_function\n",
    "\n",
    "import base64\n",
    "import imageio\n",
    "import IPython\n",
    "import matplotlib\n",
    "import matplotlib.pyplot as plt\n",
    "import numpy as np\n",
    "import PIL.Image\n",
    "import pyvirtualdisplay\n",
    "import reverb\n",
    "\n",
    "import tensorflow as tf\n",
    "\n",
    "from tf_agents.agents.dqn import dqn_agent\n",
    "from tf_agents.drivers import py_driver\n",
    "from tf_agents.environments import suite_gym\n",
    "from tf_agents.environments import tf_py_environment\n",
    "from tf_agents.eval import metric_utils\n",
    "from tf_agents.metrics import tf_metrics\n",
    "from tf_agents.networks import sequential\n",
    "from tf_agents.policies import py_tf_eager_policy\n",
    "from tf_agents.policies import random_tf_policy\n",
    "from tf_agents.replay_buffers import reverb_replay_buffer\n",
    "from tf_agents.replay_buffers import reverb_utils\n",
    "from tf_agents.trajectories import trajectory\n",
    "from tf_agents.specs import tensor_spec\n",
    "from tf_agents.utils import common"
   ]
  },
  {
   "cell_type": "code",
   "execution_count": 4,
   "id": "2452a55a",
   "metadata": {
    "execution": {
     "iopub.execute_input": "2025-02-27T20:59:07.812556Z",
     "iopub.status.busy": "2025-02-27T20:59:07.812013Z",
     "iopub.status.idle": "2025-02-27T20:59:08.292220Z",
     "shell.execute_reply": "2025-02-27T20:59:08.290995Z"
    },
    "id": "J6HsdS5GbSjd",
    "papermill": {
     "duration": 0.505329,
     "end_time": "2025-02-27T20:59:08.294273",
     "exception": false,
     "start_time": "2025-02-27T20:59:07.788944",
     "status": "completed"
    },
    "tags": []
   },
   "outputs": [],
   "source": [
    "# Set up a virtual display for rendering OpenAI gym environments.\n",
    "display = pyvirtualdisplay.Display(visible=0, size=(1400, 900)).start()"
   ]
  },
  {
   "cell_type": "code",
   "execution_count": 5,
   "id": "2e0abca5",
   "metadata": {
    "execution": {
     "iopub.execute_input": "2025-02-27T20:59:08.374812Z",
     "iopub.status.busy": "2025-02-27T20:59:08.374464Z",
     "iopub.status.idle": "2025-02-27T20:59:08.381354Z",
     "shell.execute_reply": "2025-02-27T20:59:08.380433Z"
    },
    "id": "NspmzG4nP3b9",
    "papermill": {
     "duration": 0.045463,
     "end_time": "2025-02-27T20:59:08.382918",
     "exception": false,
     "start_time": "2025-02-27T20:59:08.337455",
     "status": "completed"
    },
    "tags": []
   },
   "outputs": [
    {
     "data": {
      "text/plain": [
       "'2.15.1'"
      ]
     },
     "execution_count": 5,
     "metadata": {},
     "output_type": "execute_result"
    }
   ],
   "source": [
    "tf.version.VERSION"
   ]
  },
  {
   "cell_type": "markdown",
   "id": "de79fada",
   "metadata": {
    "id": "LmC0NDhdLIKY",
    "papermill": {
     "duration": 0.046603,
     "end_time": "2025-02-27T20:59:08.474002",
     "exception": false,
     "start_time": "2025-02-27T20:59:08.427399",
     "status": "completed"
    },
    "tags": []
   },
   "source": [
    "## Hyperparameters"
   ]
  },
  {
   "cell_type": "code",
   "execution_count": 6,
   "id": "735b2015",
   "metadata": {
    "execution": {
     "iopub.execute_input": "2025-02-27T20:59:08.535853Z",
     "iopub.status.busy": "2025-02-27T20:59:08.535585Z",
     "iopub.status.idle": "2025-02-27T20:59:08.539154Z",
     "shell.execute_reply": "2025-02-27T20:59:08.538553Z"
    },
    "id": "HC1kNrOsLSIZ",
    "papermill": {
     "duration": 0.028194,
     "end_time": "2025-02-27T20:59:08.540454",
     "exception": false,
     "start_time": "2025-02-27T20:59:08.512260",
     "status": "completed"
    },
    "tags": []
   },
   "outputs": [],
   "source": [
    "num_iterations = 150000 # @param {type:\"integer\"}\n",
    "\n",
    "initial_collect_steps = 100  # @param {type:\"integer\"}\n",
    "collect_steps_per_iteration =   1# @param {type:\"integer\"}\n",
    "replay_buffer_max_length = 100000  # @param {type:\"integer\"}\n",
    "\n",
    "batch_size = 64  # @param {type:\"integer\"}\n",
    "learning_rate = 1e-3  # @param {type:\"number\"}\n",
    "log_interval = 200  # @param {type:\"integer\"}\n",
    "\n",
    "num_eval_episodes = 10  # @param {type:\"integer\"}\n",
    "eval_interval = 1000  # @param {type:\"integer\"}"
   ]
  },
  {
   "cell_type": "markdown",
   "id": "1151644a",
   "metadata": {
    "id": "VMsJC3DEgI0x",
    "papermill": {
     "duration": 0.022311,
     "end_time": "2025-02-27T20:59:08.585092",
     "exception": false,
     "start_time": "2025-02-27T20:59:08.562781",
     "status": "completed"
    },
    "tags": []
   },
   "source": [
    "## Environment\n",
    "\n",
    "In Reinforcement Learning (RL), an environment represents the task or problem to be solved. Standard environments can be created in TF-Agents using `tf_agents.environments` suites. TF-Agents has suites for loading environments from sources such as the OpenAI Gym, Atari, and DM Control.\n",
    "\n",
    "Load the CartPole environment from the OpenAI Gym suite. "
   ]
  },
  {
   "cell_type": "code",
   "execution_count": 7,
   "id": "ca173a04",
   "metadata": {
    "execution": {
     "iopub.execute_input": "2025-02-27T20:59:08.630860Z",
     "iopub.status.busy": "2025-02-27T20:59:08.630608Z",
     "iopub.status.idle": "2025-02-27T20:59:08.668217Z",
     "shell.execute_reply": "2025-02-27T20:59:08.667607Z"
    },
    "id": "pYEz-S9gEv2-",
    "papermill": {
     "duration": 0.062163,
     "end_time": "2025-02-27T20:59:08.669690",
     "exception": false,
     "start_time": "2025-02-27T20:59:08.607527",
     "status": "completed"
    },
    "tags": []
   },
   "outputs": [],
   "source": [
    "env_name = 'MountainCar-v0'\n",
    "env = suite_gym.load(env_name)"
   ]
  },
  {
   "cell_type": "markdown",
   "id": "63828741",
   "metadata": {
    "id": "IIHYVBkuvPNw",
    "papermill": {
     "duration": 0.022094,
     "end_time": "2025-02-27T20:59:08.714990",
     "exception": false,
     "start_time": "2025-02-27T20:59:08.692896",
     "status": "completed"
    },
    "tags": []
   },
   "source": [
    "You can render this environment to see how it looks. A free-swinging pole is attached to a cart.  The goal is to move the cart right or left in order to keep the pole pointing up."
   ]
  },
  {
   "cell_type": "code",
   "execution_count": 8,
   "id": "d221e301",
   "metadata": {
    "execution": {
     "iopub.execute_input": "2025-02-27T20:59:08.760643Z",
     "iopub.status.busy": "2025-02-27T20:59:08.760382Z",
     "iopub.status.idle": "2025-02-27T20:59:09.326552Z",
     "shell.execute_reply": "2025-02-27T20:59:09.325509Z"
    },
    "id": "RlO7WIQHu_7D",
    "papermill": {
     "duration": 0.590862,
     "end_time": "2025-02-27T20:59:09.328351",
     "exception": false,
     "start_time": "2025-02-27T20:59:08.737489",
     "status": "completed"
    },
    "tags": []
   },
   "outputs": [
    {
     "data": {
      "image/jpeg": "[encoded data removed]",
      "image/png": "[encoded data removed]",
      "text/plain": [
       "<PIL.Image.Image image mode=RGB size=600x400>"
      ]
     },
     "execution_count": 8,
     "metadata": {},
     "output_type": "execute_result"
    }
   ],
   "source": [
    "#@test {\"skip\": true}\n",
    "env.reset()\n",
    "PIL.Image.fromarray(env.render())"
   ]
  },
  {
   "cell_type": "markdown",
   "id": "eb050c76",
   "metadata": {
    "id": "B9_lskPOey18",
    "papermill": {
     "duration": 0.022947,
     "end_time": "2025-02-27T20:59:09.376997",
     "exception": false,
     "start_time": "2025-02-27T20:59:09.354050",
     "status": "completed"
    },
    "tags": []
   },
   "source": [
    "The `environment.step` method takes an `action` in the environment and returns a `TimeStep` tuple containing the next observation of the environment and the reward for the action.\n",
    "\n",
    "The `time_step_spec()` method returns the specification for the `TimeStep` tuple. Its `observation` attribute shows the shape of observations, the data types, and the ranges of allowed values. The `reward` attribute shows the same details for the reward.\n"
   ]
  },
  {
   "cell_type": "code",
   "execution_count": 9,
   "id": "7e4a3a27",
   "metadata": {
    "execution": {
     "iopub.execute_input": "2025-02-27T20:59:09.423290Z",
     "iopub.status.busy": "2025-02-27T20:59:09.423042Z",
     "iopub.status.idle": "2025-02-27T20:59:09.431536Z",
     "shell.execute_reply": "2025-02-27T20:59:09.430705Z"
    },
    "id": "exDv57iHfwQV",
    "papermill": {
     "duration": 0.033039,
     "end_time": "2025-02-27T20:59:09.432755",
     "exception": false,
     "start_time": "2025-02-27T20:59:09.399716",
     "status": "completed"
    },
    "tags": []
   },
   "outputs": [
    {
     "name": "stdout",
     "output_type": "stream",
     "text": [
      "Observation Spec:\n",
      "BoundedArraySpec(shape=(2,), dtype=dtype('float32'), name='observation', minimum=[-1.2  -0.07], maximum=[0.6  0.07])\n"
     ]
    }
   ],
   "source": [
    "print('Observation Spec:')\n",
    "print(env.time_step_spec().observation)"
   ]
  },
  {
   "cell_type": "code",
   "execution_count": 10,
   "id": "f8f8ecc9",
   "metadata": {
    "execution": {
     "iopub.execute_input": "2025-02-27T20:59:09.480493Z",
     "iopub.status.busy": "2025-02-27T20:59:09.480232Z",
     "iopub.status.idle": "2025-02-27T20:59:09.484327Z",
     "shell.execute_reply": "2025-02-27T20:59:09.483680Z"
    },
    "id": "UxiSyCbBUQPi",
    "papermill": {
     "duration": 0.028582,
     "end_time": "2025-02-27T20:59:09.485599",
     "exception": false,
     "start_time": "2025-02-27T20:59:09.457017",
     "status": "completed"
    },
    "tags": []
   },
   "outputs": [
    {
     "name": "stdout",
     "output_type": "stream",
     "text": [
      "Reward Spec:\n",
      "ArraySpec(shape=(), dtype=dtype('float32'), name='reward')\n"
     ]
    }
   ],
   "source": [
    "print('Reward Spec:')\n",
    "print(env.time_step_spec().reward)"
   ]
  },
  {
   "cell_type": "markdown",
   "id": "a55bc136",
   "metadata": {
    "id": "b_lHcIcqUaqB",
    "papermill": {
     "duration": 0.061344,
     "end_time": "2025-02-27T20:59:09.569842",
     "exception": false,
     "start_time": "2025-02-27T20:59:09.508498",
     "status": "completed"
    },
    "tags": []
   },
   "source": [
    "The `action_spec()` method returns the shape, data types, and allowed values of valid actions."
   ]
  },
  {
   "cell_type": "code",
   "execution_count": 11,
   "id": "df369124",
   "metadata": {
    "execution": {
     "iopub.execute_input": "2025-02-27T20:59:09.617439Z",
     "iopub.status.busy": "2025-02-27T20:59:09.617128Z",
     "iopub.status.idle": "2025-02-27T20:59:09.621458Z",
     "shell.execute_reply": "2025-02-27T20:59:09.620630Z"
    },
    "id": "bttJ4uxZUQBr",
    "papermill": {
     "duration": 0.029422,
     "end_time": "2025-02-27T20:59:09.622667",
     "exception": false,
     "start_time": "2025-02-27T20:59:09.593245",
     "status": "completed"
    },
    "tags": []
   },
   "outputs": [
    {
     "name": "stdout",
     "output_type": "stream",
     "text": [
      "Action Spec:\n",
      "BoundedArraySpec(shape=(), dtype=dtype('int64'), name='action', minimum=0, maximum=2)\n"
     ]
    }
   ],
   "source": [
    "print('Action Spec:')\n",
    "print(env.action_spec())"
   ]
  },
  {
   "cell_type": "markdown",
   "id": "8378cdf7",
   "metadata": {
    "id": "eJCgJnx3g0yY",
    "papermill": {
     "duration": 0.022719,
     "end_time": "2025-02-27T20:59:09.668446",
     "exception": false,
     "start_time": "2025-02-27T20:59:09.645727",
     "status": "completed"
    },
    "tags": []
   },
   "source": [
    "In the Cartpole environment:\n",
    "\n",
    "-   `observation` is an array of 4 floats: \n",
    "    -   the position and velocity of the cart\n",
    "    -   the angular position and velocity of the pole \n",
    "-   `reward` is a scalar float value\n",
    "-   `action` is a scalar integer with only two possible values:\n",
    "    -   `0` — \"move left\"\n",
    "    -   `1` — \"move right\"\n"
   ]
  },
  {
   "cell_type": "code",
   "execution_count": 12,
   "id": "ce859eec",
   "metadata": {
    "execution": {
     "iopub.execute_input": "2025-02-27T20:59:09.715604Z",
     "iopub.status.busy": "2025-02-27T20:59:09.715320Z",
     "iopub.status.idle": "2025-02-27T20:59:09.723151Z",
     "shell.execute_reply": "2025-02-27T20:59:09.722486Z"
    },
    "id": "V2UGR5t_iZX-",
    "papermill": {
     "duration": 0.032662,
     "end_time": "2025-02-27T20:59:09.724416",
     "exception": false,
     "start_time": "2025-02-27T20:59:09.691754",
     "status": "completed"
    },
    "tags": []
   },
   "outputs": [
    {
     "name": "stdout",
     "output_type": "stream",
     "text": [
      "Time step:\n",
      "TimeStep(\n",
      "{'step_type': array(0, dtype=int32),\n",
      " 'reward': array(0., dtype=float32),\n",
      " 'discount': array(1., dtype=float32),\n",
      " 'observation': array([-0.5658804,  0.       ], dtype=float32)})\n",
      "1\n",
      "Next time step:\n",
      "TimeStep(\n",
      "{'step_type': array(1, dtype=int32),\n",
      " 'reward': array(-1., dtype=float32),\n",
      " 'discount': array(1., dtype=float32),\n",
      " 'observation': array([-5.6556416e-01,  3.1626283e-04], dtype=float32)})\n"
     ]
    }
   ],
   "source": [
    "time_step = env.reset()\n",
    "print('Time step:')\n",
    "print(time_step)\n",
    "\n",
    "action = np.array(1,dtype=np.int64)\n",
    "print(action)\n",
    "next_time_step = env.step(action)\n",
    "print('Next time step:')\n",
    "print(next_time_step)"
   ]
  },
  {
   "cell_type": "markdown",
   "id": "5ac35b03",
   "metadata": {
    "id": "4JSc9GviWUBK",
    "papermill": {
     "duration": 0.022705,
     "end_time": "2025-02-27T20:59:09.770282",
     "exception": false,
     "start_time": "2025-02-27T20:59:09.747577",
     "status": "completed"
    },
    "tags": []
   },
   "source": [
    "Usually two environments are instantiated: one for training and one for evaluation. "
   ]
  },
  {
   "cell_type": "code",
   "execution_count": 13,
   "id": "497cae46",
   "metadata": {
    "execution": {
     "iopub.execute_input": "2025-02-27T20:59:09.817092Z",
     "iopub.status.busy": "2025-02-27T20:59:09.816879Z",
     "iopub.status.idle": "2025-02-27T20:59:09.822288Z",
     "shell.execute_reply": "2025-02-27T20:59:09.821612Z"
    },
    "id": "N7brXNIGWXjC",
    "papermill": {
     "duration": 0.030371,
     "end_time": "2025-02-27T20:59:09.823549",
     "exception": false,
     "start_time": "2025-02-27T20:59:09.793178",
     "status": "completed"
    },
    "tags": []
   },
   "outputs": [],
   "source": [
    "train_py_env = suite_gym.load(env_name)\n",
    "eval_py_env = suite_gym.load(env_name)"
   ]
  },
  {
   "cell_type": "markdown",
   "id": "37cc2543",
   "metadata": {
    "id": "zuUqXAVmecTU",
    "papermill": {
     "duration": 0.024596,
     "end_time": "2025-02-27T20:59:09.873901",
     "exception": false,
     "start_time": "2025-02-27T20:59:09.849305",
     "status": "completed"
    },
    "tags": []
   },
   "source": [
    "The Cartpole environment, like most environments, is written in pure Python. This is converted to TensorFlow using the `TFPyEnvironment` wrapper.\n",
    "\n",
    "The original environment's API uses Numpy arrays. The `TFPyEnvironment` converts these to `Tensors` to make it compatible with Tensorflow agents and policies.\n"
   ]
  },
  {
   "cell_type": "code",
   "execution_count": 14,
   "id": "330f7326",
   "metadata": {
    "execution": {
     "iopub.execute_input": "2025-02-27T20:59:09.921119Z",
     "iopub.status.busy": "2025-02-27T20:59:09.920907Z",
     "iopub.status.idle": "2025-02-27T20:59:09.932048Z",
     "shell.execute_reply": "2025-02-27T20:59:09.931192Z"
    },
    "id": "Xp-Y4mD6eDhF",
    "papermill": {
     "duration": 0.036628,
     "end_time": "2025-02-27T20:59:09.933426",
     "exception": false,
     "start_time": "2025-02-27T20:59:09.896798",
     "status": "completed"
    },
    "tags": []
   },
   "outputs": [],
   "source": [
    "train_env = tf_py_environment.TFPyEnvironment(train_py_env)\n",
    "eval_env = tf_py_environment.TFPyEnvironment(eval_py_env)"
   ]
  },
  {
   "cell_type": "markdown",
   "id": "896d8d97",
   "metadata": {
    "id": "E9lW_OZYFR8A",
    "papermill": {
     "duration": 0.022955,
     "end_time": "2025-02-27T20:59:09.979499",
     "exception": false,
     "start_time": "2025-02-27T20:59:09.956544",
     "status": "completed"
    },
    "tags": []
   },
   "source": [
    "## Agent\n",
    "\n",
    "The algorithm used to solve an RL problem is represented by an `Agent`. TF-Agents provides standard implementations of a variety of `Agents`, including:\n",
    "\n",
    "-   [DQN](https://storage.googleapis.com/deepmind-media/dqn/DQNNaturePaper.pdf) (used in this tutorial)\n",
    "-   [REINFORCE](https://www-anw.cs.umass.edu/~barto/courses/cs687/williams92simple.pdf)\n",
    "-   [DDPG](https://arxiv.org/pdf/1509.02971.pdf)\n",
    "-   [TD3](https://arxiv.org/pdf/1802.09477.pdf)\n",
    "-   [PPO](https://arxiv.org/abs/1707.06347)\n",
    "-   [SAC](https://arxiv.org/abs/1801.01290)\n",
    "\n",
    "The DQN agent can be used in any environment which has a discrete action space.\n",
    "\n",
    "At the heart of a DQN Agent is a `QNetwork`, a neural network model that can learn to predict `QValues` (expected returns) for all actions, given an observation from the environment.\n",
    "\n",
    "We will use `tf_agents.networks.` to create a `QNetwork`. The network will consist of a sequence of `tf.keras.layers.Dense` layers, where the final layer will have 1 output for each possible action."
   ]
  },
  {
   "cell_type": "code",
   "execution_count": 15,
   "id": "2c5e92b6",
   "metadata": {
    "execution": {
     "iopub.execute_input": "2025-02-27T20:59:10.026347Z",
     "iopub.status.busy": "2025-02-27T20:59:10.026142Z",
     "iopub.status.idle": "2025-02-27T20:59:10.050242Z",
     "shell.execute_reply": "2025-02-27T20:59:10.049420Z"
    },
    "id": "TgkdEPg_muzV",
    "papermill": {
     "duration": 0.049038,
     "end_time": "2025-02-27T20:59:10.051667",
     "exception": false,
     "start_time": "2025-02-27T20:59:10.002629",
     "status": "completed"
    },
    "tags": []
   },
   "outputs": [],
   "source": [
    "fc_layer_params = (100, 50)\n",
    "action_tensor_spec = tensor_spec.from_spec(env.action_spec())\n",
    "num_actions = action_tensor_spec.maximum - action_tensor_spec.minimum + 1\n",
    "\n",
    "# Define a helper function to create Dense layers configured with the right\n",
    "# activation and kernel initializer.\n",
    "def dense_layer(num_units):\n",
    "  return tf.keras.layers.Dense(\n",
    "      num_units,\n",
    "      activation=tf.keras.activations.relu,\n",
    "      kernel_initializer=tf.keras.initializers.VarianceScaling(\n",
    "          scale=2.0, mode='fan_in', distribution='truncated_normal'))\n",
    "\n",
    "# QNetwork consists of a sequence of Dense layers followed by a dense layer\n",
    "# with `num_actions` units to generate one q_value per available action as\n",
    "# its output.\n",
    "dense_layers = [dense_layer(num_units) for num_units in fc_layer_params]\n",
    "q_values_layer = tf.keras.layers.Dense(\n",
    "    num_actions,\n",
    "    activation=None,\n",
    "    kernel_initializer=tf.keras.initializers.RandomUniform(\n",
    "        minval=-0.03, maxval=0.03),\n",
    "    bias_initializer=tf.keras.initializers.Constant(-0.2))\n",
    "q_net = sequential.Sequential(dense_layers + [q_values_layer])"
   ]
  },
  {
   "cell_type": "markdown",
   "id": "43983a3a",
   "metadata": {
    "id": "z62u55hSmviJ",
    "papermill": {
     "duration": 0.023288,
     "end_time": "2025-02-27T20:59:10.098200",
     "exception": false,
     "start_time": "2025-02-27T20:59:10.074912",
     "status": "completed"
    },
    "tags": []
   },
   "source": [
    "Now use `tf_agents.agents.dqn.dqn_agent` to instantiate a `DqnAgent`. In addition to the `time_step_spec`, `action_spec` and the QNetwork, the agent constructor also requires an optimizer (in this case, `AdamOptimizer`), a loss function, and an integer step counter."
   ]
  },
  {
   "cell_type": "code",
   "execution_count": 16,
   "id": "ec7e2e6a",
   "metadata": {
    "execution": {
     "iopub.execute_input": "2025-02-27T20:59:10.146302Z",
     "iopub.status.busy": "2025-02-27T20:59:10.146086Z",
     "iopub.status.idle": "2025-02-27T20:59:11.273495Z",
     "shell.execute_reply": "2025-02-27T20:59:11.272537Z"
    },
    "id": "jbY4yrjTEyc9",
    "papermill": {
     "duration": 1.153156,
     "end_time": "2025-02-27T20:59:11.275062",
     "exception": false,
     "start_time": "2025-02-27T20:59:10.121906",
     "status": "completed"
    },
    "tags": []
   },
   "outputs": [],
   "source": [
    "optimizer = tf.keras.optimizers.Adam(learning_rate=learning_rate)\n",
    "\n",
    "train_step = tf.Variable(0)\n",
    "update_period = 4 \n",
    "epsilon_fn = tf.keras.optimizers.schedules.PolynomialDecay(\n",
    "    initial_learning_rate=learning_rate,\n",
    "    decay_steps=250000 // update_period, \n",
    "    end_learning_rate=0.0001)\n",
    "\n",
    "\n",
    "\n",
    "agent = dqn_agent.DqnAgent(\n",
    "    train_env.time_step_spec(),\n",
    "    train_env.action_spec(),\n",
    "    q_network=q_net,\n",
    "    optimizer=optimizer,\n",
    "    td_errors_loss_fn=common.element_wise_squared_loss,\n",
    "    train_step_counter=train_step,\n",
    "    epsilon_greedy=lambda: epsilon_fn(train_step))\n",
    "\n",
    "agent.initialize()"
   ]
  },
  {
   "cell_type": "markdown",
   "id": "d15d95e8",
   "metadata": {
    "id": "I0KLrEPwkn5x",
    "papermill": {
     "duration": 0.025284,
     "end_time": "2025-02-27T20:59:11.325585",
     "exception": false,
     "start_time": "2025-02-27T20:59:11.300301",
     "status": "completed"
    },
    "tags": []
   },
   "source": [
    "## Policies\n",
    "\n",
    "A policy defines the way an agent acts in an environment. Typically, the goal of reinforcement learning is to train the underlying model until the policy produces the desired outcome.\n",
    "\n",
    "In this tutorial:\n",
    "\n",
    "-   The desired outcome is keeping the pole balanced upright over the cart.\n",
    "-   The policy returns an action (left or right) for each `time_step` observation.\n",
    "\n",
    "Agents contain two policies: \n",
    "\n",
    "-   `agent.policy` — The main policy that is used for evaluation and deployment.\n",
    "-   `agent.collect_policy` — A second policy that is used for data collection.\n"
   ]
  },
  {
   "cell_type": "code",
   "execution_count": 17,
   "id": "9de78f12",
   "metadata": {
    "execution": {
     "iopub.execute_input": "2025-02-27T20:59:11.375123Z",
     "iopub.status.busy": "2025-02-27T20:59:11.374839Z",
     "iopub.status.idle": "2025-02-27T20:59:11.378219Z",
     "shell.execute_reply": "2025-02-27T20:59:11.377614Z"
    },
    "id": "BwY7StuMkuV4",
    "papermill": {
     "duration": 0.030815,
     "end_time": "2025-02-27T20:59:11.379553",
     "exception": false,
     "start_time": "2025-02-27T20:59:11.348738",
     "status": "completed"
    },
    "tags": []
   },
   "outputs": [],
   "source": [
    "eval_policy = agent.policy\n",
    "collect_policy = agent.collect_policy"
   ]
  },
  {
   "cell_type": "markdown",
   "id": "7cfa9ea2",
   "metadata": {
    "id": "2Qs1Fl3dV0ae",
    "papermill": {
     "duration": 0.023818,
     "end_time": "2025-02-27T20:59:11.427287",
     "exception": false,
     "start_time": "2025-02-27T20:59:11.403469",
     "status": "completed"
    },
    "tags": []
   },
   "source": [
    "Policies can be created independently of agents. For example, use `tf_agents.policies.random_tf_policy` to create a policy which will randomly select an action for each `time_step`."
   ]
  },
  {
   "cell_type": "code",
   "execution_count": 18,
   "id": "ee3e8b68",
   "metadata": {
    "execution": {
     "iopub.execute_input": "2025-02-27T20:59:11.477555Z",
     "iopub.status.busy": "2025-02-27T20:59:11.477274Z",
     "iopub.status.idle": "2025-02-27T20:59:11.480882Z",
     "shell.execute_reply": "2025-02-27T20:59:11.480239Z"
    },
    "id": "HE37-UCIrE69",
    "papermill": {
     "duration": 0.029298,
     "end_time": "2025-02-27T20:59:11.482170",
     "exception": false,
     "start_time": "2025-02-27T20:59:11.452872",
     "status": "completed"
    },
    "tags": []
   },
   "outputs": [],
   "source": [
    "random_policy = random_tf_policy.RandomTFPolicy(train_env.time_step_spec(),\n",
    "                                                train_env.action_spec())"
   ]
  },
  {
   "cell_type": "markdown",
   "id": "ece93a43",
   "metadata": {
    "id": "dOlnlRRsUbxP",
    "papermill": {
     "duration": 0.02393,
     "end_time": "2025-02-27T20:59:11.530165",
     "exception": false,
     "start_time": "2025-02-27T20:59:11.506235",
     "status": "completed"
    },
    "tags": []
   },
   "source": [
    "To get an action from a policy, call the `policy.action(time_step)` method. The `time_step` contains the observation from the environment. This method returns a `PolicyStep`, which is a named tuple with three components:\n",
    "\n",
    "-   `action` — the action to be taken (in this case, `0` or `1`)\n",
    "-   `state` — used for stateful (that is, RNN-based) policies\n",
    "-   `info` — auxiliary data, such as log probabilities of actions"
   ]
  },
  {
   "cell_type": "code",
   "execution_count": 19,
   "id": "4c40a530",
   "metadata": {
    "execution": {
     "iopub.execute_input": "2025-02-27T20:59:11.579234Z",
     "iopub.status.busy": "2025-02-27T20:59:11.579002Z",
     "iopub.status.idle": "2025-02-27T20:59:11.586100Z",
     "shell.execute_reply": "2025-02-27T20:59:11.585226Z"
    },
    "id": "5gCcpXswVAxk",
    "papermill": {
     "duration": 0.032833,
     "end_time": "2025-02-27T20:59:11.587250",
     "exception": false,
     "start_time": "2025-02-27T20:59:11.554417",
     "status": "completed"
    },
    "tags": []
   },
   "outputs": [],
   "source": [
    "example_environment = tf_py_environment.TFPyEnvironment(\n",
    "    suite_gym.load('MountainCar-v0'))"
   ]
  },
  {
   "cell_type": "code",
   "execution_count": 20,
   "id": "57084461",
   "metadata": {
    "execution": {
     "iopub.execute_input": "2025-02-27T20:59:11.636582Z",
     "iopub.status.busy": "2025-02-27T20:59:11.636308Z",
     "iopub.status.idle": "2025-02-27T20:59:11.642917Z",
     "shell.execute_reply": "2025-02-27T20:59:11.641809Z"
    },
    "id": "D4DHZtq3Ndis",
    "papermill": {
     "duration": 0.032223,
     "end_time": "2025-02-27T20:59:11.644039",
     "exception": false,
     "start_time": "2025-02-27T20:59:11.611816",
     "status": "completed"
    },
    "tags": []
   },
   "outputs": [],
   "source": [
    "time_step = example_environment.reset()"
   ]
  },
  {
   "cell_type": "code",
   "execution_count": 21,
   "id": "c1e2bb74",
   "metadata": {
    "execution": {
     "iopub.execute_input": "2025-02-27T20:59:11.692904Z",
     "iopub.status.busy": "2025-02-27T20:59:11.692677Z",
     "iopub.status.idle": "2025-02-27T20:59:12.518795Z",
     "shell.execute_reply": "2025-02-27T20:59:12.517906Z"
    },
    "id": "PRFqAUzpNaAW",
    "papermill": {
     "duration": 0.851804,
     "end_time": "2025-02-27T20:59:12.520207",
     "exception": false,
     "start_time": "2025-02-27T20:59:11.668403",
     "status": "completed"
    },
    "tags": []
   },
   "outputs": [
    {
     "data": {
      "text/plain": [
       "PolicyStep(action=<tf.Tensor: shape=(1,), dtype=int64, numpy=array([1])>, state=(), info=())"
      ]
     },
     "execution_count": 21,
     "metadata": {},
     "output_type": "execute_result"
    }
   ],
   "source": [
    "random_policy.action(time_step)"
   ]
  },
  {
   "cell_type": "markdown",
   "id": "d5d1c511",
   "metadata": {
    "id": "94rCXQtbUbXv",
    "papermill": {
     "duration": 0.024507,
     "end_time": "2025-02-27T20:59:12.569415",
     "exception": false,
     "start_time": "2025-02-27T20:59:12.544908",
     "status": "completed"
    },
    "tags": []
   },
   "source": [
    "## Metrics and Evaluation\n",
    "\n",
    "The most common metric used to evaluate a policy is the average return. The return is the sum of rewards obtained while running a policy in an environment for an episode. Several episodes are run, creating an average return.\n",
    "\n",
    "The following function computes the average return of a policy, given the policy, environment, and a number of episodes.\n"
   ]
  },
  {
   "cell_type": "code",
   "execution_count": 22,
   "id": "b354120e",
   "metadata": {
    "execution": {
     "iopub.execute_input": "2025-02-27T20:59:12.617325Z",
     "iopub.status.busy": "2025-02-27T20:59:12.617033Z",
     "iopub.status.idle": "2025-02-27T20:59:12.621806Z",
     "shell.execute_reply": "2025-02-27T20:59:12.620968Z"
    },
    "id": "bitzHo5_UbXy",
    "papermill": {
     "duration": 0.029957,
     "end_time": "2025-02-27T20:59:12.623140",
     "exception": false,
     "start_time": "2025-02-27T20:59:12.593183",
     "status": "completed"
    },
    "tags": []
   },
   "outputs": [],
   "source": [
    "#@test {\"skip\": true}\n",
    "def compute_avg_return(environment, policy, num_episodes=10):\n",
    "\n",
    "  total_return = 0.0\n",
    "  for _ in range(num_episodes):\n",
    "\n",
    "    time_step = environment.reset()\n",
    "    episode_return = 0.0\n",
    "\n",
    "    while not time_step.is_last():\n",
    "      action_step = policy.action(time_step)\n",
    "      time_step = environment.step(action_step.action)\n",
    "      episode_return += time_step.reward\n",
    "    total_return += episode_return\n",
    "\n",
    "  avg_return = total_return / num_episodes\n",
    "  return avg_return.numpy()[0]\n",
    "\n",
    "\n",
    "# See also the metrics module for standard implementations of different metrics.\n",
    "# https://github.com/tensorflow/agents/tree/master/tf_agents/metrics"
   ]
  },
  {
   "cell_type": "markdown",
   "id": "279e7b18",
   "metadata": {
    "id": "_snCVvq5Z8lJ",
    "papermill": {
     "duration": 0.023335,
     "end_time": "2025-02-27T20:59:12.673440",
     "exception": false,
     "start_time": "2025-02-27T20:59:12.650105",
     "status": "completed"
    },
    "tags": []
   },
   "source": [
    "Running this computation on the `random_policy` shows a baseline performance in the environment."
   ]
  },
  {
   "cell_type": "code",
   "execution_count": 23,
   "id": "0ddceaf5",
   "metadata": {
    "execution": {
     "iopub.execute_input": "2025-02-27T20:59:12.720003Z",
     "iopub.status.busy": "2025-02-27T20:59:12.719794Z",
     "iopub.status.idle": "2025-02-27T20:59:21.389894Z",
     "shell.execute_reply": "2025-02-27T20:59:21.389133Z"
    },
    "id": "9bgU6Q6BZ8Bp",
    "papermill": {
     "duration": 8.694917,
     "end_time": "2025-02-27T20:59:21.391264",
     "exception": false,
     "start_time": "2025-02-27T20:59:12.696347",
     "status": "completed"
    },
    "tags": []
   },
   "outputs": [
    {
     "data": {
      "text/plain": [
       "-200.0"
      ]
     },
     "execution_count": 23,
     "metadata": {},
     "output_type": "execute_result"
    }
   ],
   "source": [
    "compute_avg_return(eval_env, random_policy, num_eval_episodes)"
   ]
  },
  {
   "cell_type": "markdown",
   "id": "1fdac81a",
   "metadata": {
    "id": "NLva6g2jdWgr",
    "papermill": {
     "duration": 0.023106,
     "end_time": "2025-02-27T20:59:21.438573",
     "exception": false,
     "start_time": "2025-02-27T20:59:21.415467",
     "status": "completed"
    },
    "tags": []
   },
   "source": [
    "## Replay Buffer\n",
    "\n",
    "In order to keep track of the data collected from the environment, we will use [Reverb](https://deepmind.com/research/open-source/Reverb), an efficient, extensible, and easy-to-use replay system by Deepmind. It stores experience data when we collect trajectories and is consumed during training.\n",
    "\n",
    "This replay buffer is constructed using specs describing the tensors that are to be stored, which can be obtained from the agent using agent.collect_data_spec.\n"
   ]
  },
  {
   "cell_type": "code",
   "execution_count": 24,
   "id": "596e8aa0",
   "metadata": {
    "execution": {
     "iopub.execute_input": "2025-02-27T20:59:21.487867Z",
     "iopub.status.busy": "2025-02-27T20:59:21.487605Z",
     "iopub.status.idle": "2025-02-27T20:59:21.504269Z",
     "shell.execute_reply": "2025-02-27T20:59:21.503418Z"
    },
    "id": "vX2zGUWJGWAl",
    "papermill": {
     "duration": 0.043688,
     "end_time": "2025-02-27T20:59:21.505661",
     "exception": false,
     "start_time": "2025-02-27T20:59:21.461973",
     "status": "completed"
    },
    "tags": []
   },
   "outputs": [],
   "source": [
    "table_name = 'uniform_table'\n",
    "replay_buffer_signature = tensor_spec.from_spec(\n",
    "      agent.collect_data_spec)\n",
    "replay_buffer_signature = tensor_spec.add_outer_dim(\n",
    "    replay_buffer_signature)\n",
    "\n",
    "table = reverb.Table(\n",
    "    table_name,\n",
    "    max_size=replay_buffer_max_length,\n",
    "    sampler=reverb.selectors.Uniform(),\n",
    "    remover=reverb.selectors.Fifo(),\n",
    "    rate_limiter=reverb.rate_limiters.MinSize(1),\n",
    "    signature=replay_buffer_signature)\n",
    "\n",
    "reverb_server = reverb.Server([table])\n",
    "\n",
    "replay_buffer = reverb_replay_buffer.ReverbReplayBuffer(\n",
    "    agent.collect_data_spec,\n",
    "    table_name=table_name,\n",
    "    sequence_length=2,\n",
    "    local_server=reverb_server)\n",
    "\n",
    "rb_observer = reverb_utils.ReverbAddTrajectoryObserver(\n",
    "  replay_buffer.py_client,\n",
    "  table_name,\n",
    "  sequence_length=2)"
   ]
  },
  {
   "cell_type": "markdown",
   "id": "21fe62af",
   "metadata": {
    "id": "ZGNTDJpZs4NN",
    "papermill": {
     "duration": 0.023079,
     "end_time": "2025-02-27T20:59:21.552064",
     "exception": false,
     "start_time": "2025-02-27T20:59:21.528985",
     "status": "completed"
    },
    "tags": []
   },
   "source": [
    "For most agents, `collect_data_spec` is a named tuple called `Trajectory`, containing the specs for observations, actions, rewards, and other items."
   ]
  },
  {
   "cell_type": "code",
   "execution_count": 25,
   "id": "d2756e4c",
   "metadata": {
    "execution": {
     "iopub.execute_input": "2025-02-27T20:59:21.599034Z",
     "iopub.status.busy": "2025-02-27T20:59:21.598789Z",
     "iopub.status.idle": "2025-02-27T20:59:21.604708Z",
     "shell.execute_reply": "2025-02-27T20:59:21.603908Z"
    },
    "id": "_IZ-3HcqgE1z",
    "papermill": {
     "duration": 0.030714,
     "end_time": "2025-02-27T20:59:21.605907",
     "exception": false,
     "start_time": "2025-02-27T20:59:21.575193",
     "status": "completed"
    },
    "tags": []
   },
   "outputs": [
    {
     "data": {
      "text/plain": [
       "Trajectory(\n",
       "{'step_type': TensorSpec(shape=(), dtype=tf.int32, name='step_type'),\n",
       " 'observation': BoundedTensorSpec(shape=(2,), dtype=tf.float32, name='observation', minimum=array([-1.2 , -0.07], dtype=float32), maximum=array([0.6 , 0.07], dtype=float32)),\n",
       " 'action': BoundedTensorSpec(shape=(), dtype=tf.int64, name='action', minimum=array(0), maximum=array(2)),\n",
       " 'policy_info': (),\n",
       " 'next_step_type': TensorSpec(shape=(), dtype=tf.int32, name='step_type'),\n",
       " 'reward': TensorSpec(shape=(), dtype=tf.float32, name='reward'),\n",
       " 'discount': BoundedTensorSpec(shape=(), dtype=tf.float32, name='discount', minimum=array(0., dtype=float32), maximum=array(1., dtype=float32))})"
      ]
     },
     "execution_count": 25,
     "metadata": {},
     "output_type": "execute_result"
    }
   ],
   "source": [
    "agent.collect_data_spec"
   ]
  },
  {
   "cell_type": "code",
   "execution_count": 26,
   "id": "1b73348e",
   "metadata": {
    "execution": {
     "iopub.execute_input": "2025-02-27T20:59:21.653518Z",
     "iopub.status.busy": "2025-02-27T20:59:21.653271Z",
     "iopub.status.idle": "2025-02-27T20:59:21.657562Z",
     "shell.execute_reply": "2025-02-27T20:59:21.656739Z"
    },
    "id": "sy6g1tGcfRlw",
    "papermill": {
     "duration": 0.029541,
     "end_time": "2025-02-27T20:59:21.658863",
     "exception": false,
     "start_time": "2025-02-27T20:59:21.629322",
     "status": "completed"
    },
    "tags": []
   },
   "outputs": [
    {
     "data": {
      "text/plain": [
       "('step_type',\n",
       " 'observation',\n",
       " 'action',\n",
       " 'policy_info',\n",
       " 'next_step_type',\n",
       " 'reward',\n",
       " 'discount')"
      ]
     },
     "execution_count": 26,
     "metadata": {},
     "output_type": "execute_result"
    }
   ],
   "source": [
    "agent.collect_data_spec._fields"
   ]
  },
  {
   "cell_type": "markdown",
   "id": "624d8a75",
   "metadata": {
    "id": "rVD5nQ9ZGo8_",
    "papermill": {
     "duration": 0.023334,
     "end_time": "2025-02-27T20:59:21.705502",
     "exception": false,
     "start_time": "2025-02-27T20:59:21.682168",
     "status": "completed"
    },
    "tags": []
   },
   "source": [
    "## Data Collection\n",
    "\n",
    "Now execute the random policy in the environment for a few steps, recording the data in the replay buffer.\n",
    "\n",
    "Here we are using 'PyDriver' to run the experience collecting loop. You can learn more about TF Agents driver in our [drivers tutorial](https://www.tensorflow.org/agents/tutorials/4_drivers_tutorial)."
   ]
  },
  {
   "cell_type": "code",
   "execution_count": 27,
   "id": "2472165f",
   "metadata": {
    "execution": {
     "iopub.execute_input": "2025-02-27T20:59:21.752882Z",
     "iopub.status.busy": "2025-02-27T20:59:21.752655Z",
     "iopub.status.idle": "2025-02-27T20:59:22.030671Z",
     "shell.execute_reply": "2025-02-27T20:59:22.029925Z"
    },
    "id": "wr1KSAEGG4h9",
    "papermill": {
     "duration": 0.303186,
     "end_time": "2025-02-27T20:59:22.031941",
     "exception": false,
     "start_time": "2025-02-27T20:59:21.728755",
     "status": "completed"
    },
    "tags": []
   },
   "outputs": [
    {
     "data": {
      "text/plain": [
       "(TimeStep(\n",
       " {'step_type': array(1, dtype=int32),\n",
       "  'reward': array(-1., dtype=float32),\n",
       "  'discount': array(1., dtype=float32),\n",
       "  'observation': array([-4.7104314e-01, -4.5053972e-04], dtype=float32)}),\n",
       " ())"
      ]
     },
     "execution_count": 27,
     "metadata": {},
     "output_type": "execute_result"
    }
   ],
   "source": [
    "#@test {\"skip\": true}\n",
    "py_driver.PyDriver(\n",
    "    env,\n",
    "    py_tf_eager_policy.PyTFEagerPolicy(\n",
    "      random_policy, use_tf_function=True),\n",
    "    [rb_observer],\n",
    "    max_steps=initial_collect_steps).run(train_py_env.reset())"
   ]
  },
  {
   "cell_type": "markdown",
   "id": "f8c7a5aa",
   "metadata": {
    "id": "84z5pQJdoKxo",
    "papermill": {
     "duration": 0.02384,
     "end_time": "2025-02-27T20:59:22.079693",
     "exception": false,
     "start_time": "2025-02-27T20:59:22.055853",
     "status": "completed"
    },
    "tags": []
   },
   "source": [
    "The replay buffer is now a collection of Trajectories."
   ]
  },
  {
   "cell_type": "code",
   "execution_count": 28,
   "id": "d4d3d439",
   "metadata": {
    "execution": {
     "iopub.execute_input": "2025-02-27T20:59:22.128179Z",
     "iopub.status.busy": "2025-02-27T20:59:22.127926Z",
     "iopub.status.idle": "2025-02-27T20:59:22.130955Z",
     "shell.execute_reply": "2025-02-27T20:59:22.130244Z"
    },
    "id": "4wZnLu2ViO4E",
    "papermill": {
     "duration": 0.028587,
     "end_time": "2025-02-27T20:59:22.132120",
     "exception": false,
     "start_time": "2025-02-27T20:59:22.103533",
     "status": "completed"
    },
    "tags": []
   },
   "outputs": [],
   "source": [
    "# For the curious:\n",
    "# Uncomment to peel one of these off and inspect it.\n",
    "# iter(replay_buffer.as_dataset()).next()"
   ]
  },
  {
   "cell_type": "markdown",
   "id": "dbc4c422",
   "metadata": {
    "id": "TujU-PMUsKjS",
    "papermill": {
     "duration": 0.024023,
     "end_time": "2025-02-27T20:59:22.179618",
     "exception": false,
     "start_time": "2025-02-27T20:59:22.155595",
     "status": "completed"
    },
    "tags": []
   },
   "source": [
    "The agent needs access to the replay buffer. This is provided by creating an iterable `tf.data.Dataset` pipeline which will feed data to the agent.\n",
    "\n",
    "Each row of the replay buffer only stores a single observation step. But since the DQN Agent needs both the current and next observation to compute the loss, the dataset pipeline will sample two adjacent rows for each item in the batch (`num_steps=2`).\n",
    "\n",
    "This dataset is also optimized by running parallel calls and prefetching data."
   ]
  },
  {
   "cell_type": "code",
   "execution_count": 29,
   "id": "18a455f7",
   "metadata": {
    "execution": {
     "iopub.execute_input": "2025-02-27T20:59:22.227136Z",
     "iopub.status.busy": "2025-02-27T20:59:22.226916Z",
     "iopub.status.idle": "2025-02-27T20:59:22.787596Z",
     "shell.execute_reply": "2025-02-27T20:59:22.786664Z"
    },
    "id": "ba7bilizt_qW",
    "papermill": {
     "duration": 0.585934,
     "end_time": "2025-02-27T20:59:22.788913",
     "exception": false,
     "start_time": "2025-02-27T20:59:22.202979",
     "status": "completed"
    },
    "tags": []
   },
   "outputs": [
    {
     "data": {
      "text/plain": [
       "<_PrefetchDataset element_spec=(Trajectory(\n",
       "{'step_type': TensorSpec(shape=(64, 2), dtype=tf.int32, name=None),\n",
       " 'observation': TensorSpec(shape=(64, 2, 2), dtype=tf.float32, name=None),\n",
       " 'action': TensorSpec(shape=(64, 2), dtype=tf.int64, name=None),\n",
       " 'policy_info': (),\n",
       " 'next_step_type': TensorSpec(shape=(64, 2), dtype=tf.int32, name=None),\n",
       " 'reward': TensorSpec(shape=(64, 2), dtype=tf.float32, name=None),\n",
       " 'discount': TensorSpec(shape=(64, 2), dtype=tf.float32, name=None)}), SampleInfo(key=TensorSpec(shape=(64, 2), dtype=tf.uint64, name=None), probability=TensorSpec(shape=(64, 2), dtype=tf.float64, name=None), table_size=TensorSpec(shape=(64, 2), dtype=tf.int64, name=None), priority=TensorSpec(shape=(64, 2), dtype=tf.float64, name=None), times_sampled=TensorSpec(shape=(64, 2), dtype=tf.int32, name=None)))>"
      ]
     },
     "execution_count": 29,
     "metadata": {},
     "output_type": "execute_result"
    }
   ],
   "source": [
    "# Dataset generates trajectories with shape [Bx2x...]\n",
    "dataset = replay_buffer.as_dataset(\n",
    "    num_parallel_calls=3,\n",
    "    sample_batch_size=batch_size,\n",
    "    num_steps=2).prefetch(3)\n",
    "\n",
    "dataset"
   ]
  },
  {
   "cell_type": "code",
   "execution_count": 30,
   "id": "f68a6ffc",
   "metadata": {
    "execution": {
     "iopub.execute_input": "2025-02-27T20:59:22.838048Z",
     "iopub.status.busy": "2025-02-27T20:59:22.837814Z",
     "iopub.status.idle": "2025-02-27T20:59:22.912292Z",
     "shell.execute_reply": "2025-02-27T20:59:22.911615Z"
    },
    "id": "K13AST-2ppOq",
    "papermill": {
     "duration": 0.099854,
     "end_time": "2025-02-27T20:59:22.913422",
     "exception": false,
     "start_time": "2025-02-27T20:59:22.813568",
     "status": "completed"
    },
    "tags": []
   },
   "outputs": [
    {
     "name": "stdout",
     "output_type": "stream",
     "text": [
      "<tensorflow.python.data.ops.iterator_ops.OwnedIterator object at 0x7c084edeb010>\n"
     ]
    }
   ],
   "source": [
    "iterator = iter(dataset)\n",
    "print(iterator)"
   ]
  },
  {
   "cell_type": "code",
   "execution_count": 31,
   "id": "97ce41df",
   "metadata": {
    "execution": {
     "iopub.execute_input": "2025-02-27T20:59:22.961437Z",
     "iopub.status.busy": "2025-02-27T20:59:22.961174Z",
     "iopub.status.idle": "2025-02-27T20:59:22.964071Z",
     "shell.execute_reply": "2025-02-27T20:59:22.963425Z"
    },
    "id": "Th5w5Sff0b16",
    "papermill": {
     "duration": 0.027952,
     "end_time": "2025-02-27T20:59:22.965214",
     "exception": false,
     "start_time": "2025-02-27T20:59:22.937262",
     "status": "completed"
    },
    "tags": []
   },
   "outputs": [],
   "source": [
    "# For the curious:\n",
    "# Uncomment to see what the dataset iterator is feeding to the agent.\n",
    "# Compare this representation of replay data \n",
    "# to the collection of individual trajectories shown earlier.\n",
    "\n",
    "# iterator.next()"
   ]
  },
  {
   "cell_type": "markdown",
   "id": "f333edf7",
   "metadata": {
    "id": "hBc9lj9VWWtZ",
    "papermill": {
     "duration": 0.023237,
     "end_time": "2025-02-27T20:59:23.011995",
     "exception": false,
     "start_time": "2025-02-27T20:59:22.988758",
     "status": "completed"
    },
    "tags": []
   },
   "source": [
    "## Training the agent\n",
    "\n",
    "Two things must happen during the training loop:\n",
    "\n",
    "-   collect data from the environment\n",
    "-   use that data to train the agent's neural network(s)\n",
    "\n",
    "This example also periodicially evaluates the policy and prints the current score.\n",
    "\n",
    "The following will take ~5 minutes to run."
   ]
  },
  {
   "cell_type": "code",
   "execution_count": 32,
   "id": "d1f597c3",
   "metadata": {
    "execution": {
     "iopub.execute_input": "2025-02-27T20:59:23.060072Z",
     "iopub.status.busy": "2025-02-27T20:59:23.059860Z",
     "iopub.status.idle": "2025-02-27T21:48:48.770756Z",
     "shell.execute_reply": "2025-02-27T21:48:48.769828Z"
    },
    "id": "0pTbJ3PeyF-u",
    "papermill": {
     "duration": 2965.79864,
     "end_time": "2025-02-27T21:48:48.834296",
     "exception": false,
     "start_time": "2025-02-27T20:59:23.035656",
     "status": "completed"
    },
    "tags": []
   },
   "outputs": [
    {
     "name": "stdout",
     "output_type": "stream",
     "text": [
      "step = 200: loss = 0.7425886988639832\n",
      "step = 400: loss = 2.362727165222168\n",
      "step = 600: loss = 3.2060186862945557\n",
      "step = 800: loss = 2.2954699993133545\n",
      "step = 1000: loss = 2.31195068359375\n",
      "step = 1000: Average Return = -200.0\n",
      "step = 1200: loss = 194.34718322753906\n",
      "step = 1400: loss = 3.2695693969726562\n",
      "step = 1600: loss = 4.671794414520264\n",
      "step = 1800: loss = 4.207550048828125\n",
      "step = 2000: loss = 4.562841415405273\n",
      "step = 2000: Average Return = -200.0\n",
      "step = 2200: loss = 3.03045916557312\n",
      "step = 2400: loss = 3.8960494995117188\n",
      "step = 2600: loss = 264.8183288574219\n",
      "step = 2800: loss = 4.903241157531738\n",
      "step = 3000: loss = 365.5659484863281\n",
      "step = 3000: Average Return = -200.0\n",
      "step = 3200: loss = 5.651791572570801\n",
      "step = 3400: loss = 4.540342330932617\n",
      "step = 3600: loss = 4.401895999908447\n",
      "step = 3800: loss = 4.744900703430176\n",
      "step = 4000: loss = 4.461859703063965\n",
      "step = 4000: Average Return = -200.0\n",
      "step = 4200: loss = 4.075929641723633\n",
      "step = 4400: loss = 3.646357774734497\n",
      "step = 4600: loss = 5.147148132324219\n",
      "step = 4800: loss = 11.413110733032227\n",
      "step = 5000: loss = 3.8191494941711426\n",
      "step = 5000: Average Return = -200.0\n",
      "step = 5200: loss = 297.8753356933594\n",
      "step = 5400: loss = 3.044389486312866\n",
      "step = 5600: loss = 470.98748779296875\n",
      "step = 5800: loss = 486.52606201171875\n",
      "step = 6000: loss = 3.344851493835449\n",
      "step = 6000: Average Return = -184.10000610351562\n",
      "step = 6200: loss = 455.04840087890625\n",
      "step = 6400: loss = 868.119140625\n",
      "step = 6600: loss = 3.620384693145752\n",
      "step = 6800: loss = 3.1251540184020996\n",
      "step = 7000: loss = 4.491196632385254\n",
      "step = 7000: Average Return = -200.0\n",
      "step = 7200: loss = 6.848265171051025\n",
      "step = 7400: loss = 4.967267036437988\n",
      "step = 7600: loss = 5.368682861328125\n",
      "step = 7800: loss = 3.857229709625244\n",
      "step = 8000: loss = 9.694570541381836\n",
      "step = 8000: Average Return = -200.0\n",
      "step = 8200: loss = 3.639162063598633\n",
      "step = 8400: loss = 6.213435649871826\n",
      "step = 8600: loss = 82.48723602294922\n",
      "step = 8800: loss = 31.364213943481445\n",
      "step = 9000: loss = 20.555112838745117\n",
      "step = 9000: Average Return = -200.0\n",
      "step = 9200: loss = 2.972853660583496\n",
      "step = 9400: loss = 1.5389602184295654\n",
      "step = 9600: loss = 1.904597282409668\n",
      "step = 9800: loss = 4.692558288574219\n",
      "step = 10000: loss = 7.2835235595703125\n",
      "step = 10000: Average Return = -200.0\n",
      "step = 10200: loss = 2.6599130630493164\n",
      "step = 10400: loss = 5.890946865081787\n",
      "step = 10600: loss = 3.472193717956543\n",
      "step = 10800: loss = 322.0758361816406\n",
      "step = 11000: loss = 6.556084632873535\n",
      "step = 11000: Average Return = -200.0\n",
      "step = 11200: loss = 2.1953518390655518\n",
      "step = 11400: loss = 3.548344612121582\n",
      "step = 11600: loss = 2.2497990131378174\n",
      "step = 11800: loss = 3.2514567375183105\n",
      "step = 12000: loss = 0.5165901184082031\n",
      "step = 12000: Average Return = -200.0\n",
      "step = 12200: loss = 192.70339965820312\n",
      "step = 12400: loss = 2.4843685626983643\n",
      "step = 12600: loss = 2.1338887214660645\n",
      "step = 12800: loss = 1.5556986331939697\n",
      "step = 13000: loss = 2.6386337280273438\n",
      "step = 13000: Average Return = -189.0\n",
      "step = 13200: loss = 1.5473392009735107\n",
      "step = 13400: loss = 0.8438881635665894\n",
      "step = 13600: loss = 2.308596134185791\n",
      "step = 13800: loss = 1.524245023727417\n",
      "step = 14000: loss = 0.6777398586273193\n",
      "step = 14000: Average Return = -200.0\n",
      "step = 14200: loss = 3.5584402084350586\n",
      "step = 14400: loss = 235.3484344482422\n",
      "step = 14600: loss = 482.43695068359375\n",
      "step = 14800: loss = 1.814154863357544\n",
      "step = 15000: loss = 1.9429481029510498\n",
      "step = 15000: Average Return = -191.10000610351562\n",
      "step = 15200: loss = 163.28089904785156\n",
      "step = 15400: loss = 1.1848468780517578\n",
      "step = 15600: loss = 0.6512600183486938\n",
      "step = 15800: loss = 1.2774709463119507\n",
      "step = 16000: loss = 2.063220739364624\n",
      "step = 16000: Average Return = -123.80000305175781\n",
      "step = 16200: loss = 174.1614227294922\n",
      "step = 16400: loss = 0.887089729309082\n",
      "step = 16600: loss = 1.5182042121887207\n",
      "step = 16800: loss = 1.3350439071655273\n",
      "step = 17000: loss = 208.74288940429688\n",
      "step = 17000: Average Return = -200.0\n",
      "step = 17200: loss = 1.5005443096160889\n",
      "step = 17400: loss = 157.1661376953125\n",
      "step = 17600: loss = 1.1147574186325073\n",
      "step = 17800: loss = 1.0663597583770752\n",
      "step = 18000: loss = 0.8884751200675964\n",
      "step = 18000: Average Return = -146.60000610351562\n",
      "step = 18200: loss = 1.0040255784988403\n",
      "step = 18400: loss = 176.90513610839844\n",
      "step = 18600: loss = 1.9655277729034424\n",
      "step = 18800: loss = 129.38980102539062\n",
      "step = 19000: loss = 0.7439286708831787\n",
      "step = 19000: Average Return = -200.0\n",
      "step = 19200: loss = 1.6718776226043701\n",
      "step = 19400: loss = 2.1223223209381104\n",
      "step = 19600: loss = 2.1093740463256836\n",
      "step = 19800: loss = 1.0750571489334106\n",
      "step = 20000: loss = 236.11585998535156\n",
      "step = 20000: Average Return = -200.0\n",
      "step = 20200: loss = 2.513092517852783\n",
      "step = 20400: loss = 3.115365982055664\n",
      "step = 20600: loss = 9.393508911132812\n",
      "step = 20800: loss = 1.936421513557434\n",
      "step = 21000: loss = 5.536691665649414\n",
      "step = 21000: Average Return = -193.0\n",
      "step = 21200: loss = 2.3069236278533936\n",
      "step = 21400: loss = 1.3663758039474487\n",
      "step = 21600: loss = 5.476652145385742\n",
      "step = 21800: loss = 1.731337070465088\n",
      "step = 22000: loss = 1.063410758972168\n",
      "step = 22000: Average Return = -200.0\n",
      "step = 22200: loss = 1.4177957773208618\n",
      "step = 22400: loss = 1.3384003639221191\n",
      "step = 22600: loss = 44.48609161376953\n",
      "step = 22800: loss = 89.06607055664062\n",
      "step = 23000: loss = 0.5249943733215332\n",
      "step = 23000: Average Return = -113.5\n",
      "step = 23200: loss = 0.4026368260383606\n",
      "step = 23400: loss = 1.1087967157363892\n",
      "step = 23600: loss = 4.2970991134643555\n",
      "step = 23800: loss = 0.7593396902084351\n",
      "step = 24000: loss = 124.43746948242188\n",
      "step = 24000: Average Return = -163.6999969482422\n",
      "step = 24200: loss = 0.5613344311714172\n",
      "step = 24400: loss = 1.7219791412353516\n",
      "step = 24600: loss = 1.1211285591125488\n",
      "step = 24800: loss = 3.035770893096924\n",
      "step = 25000: loss = 1.137673258781433\n",
      "step = 25000: Average Return = -179.5\n",
      "step = 25200: loss = 1.2964861392974854\n",
      "step = 25400: loss = 0.8820725083351135\n",
      "step = 25600: loss = 0.7715710997581482\n",
      "step = 25800: loss = 0.43719756603240967\n",
      "step = 26000: loss = 1.7356140613555908\n",
      "step = 26000: Average Return = -149.60000610351562\n",
      "step = 26200: loss = 1.4614055156707764\n",
      "step = 26400: loss = 4.551858425140381\n",
      "step = 26600: loss = 0.79313725233078\n",
      "step = 26800: loss = 0.6289999485015869\n",
      "step = 27000: loss = 0.6479141712188721\n",
      "step = 27000: Average Return = -122.4000015258789\n",
      "step = 27200: loss = 1.849448561668396\n",
      "step = 27400: loss = 85.54866790771484\n",
      "step = 27600: loss = 3.4924745559692383\n",
      "step = 27800: loss = 79.88988494873047\n",
      "step = 28000: loss = 0.5544655323028564\n",
      "step = 28000: Average Return = -181.8000030517578\n",
      "step = 28200: loss = 0.8364260196685791\n",
      "step = 28400: loss = 0.33567047119140625\n",
      "step = 28600: loss = 51.804466247558594\n",
      "step = 28800: loss = 1.4419283866882324\n",
      "step = 29000: loss = 0.9557251930236816\n",
      "step = 29000: Average Return = -156.39999389648438\n",
      "step = 29200: loss = 1.527869701385498\n",
      "step = 29400: loss = 0.9491832852363586\n",
      "step = 29600: loss = 1.3162915706634521\n",
      "step = 29800: loss = 0.5575398206710815\n",
      "step = 30000: loss = 100.52489471435547\n",
      "step = 30000: Average Return = -113.4000015258789\n",
      "step = 30200: loss = 0.8389191031455994\n",
      "step = 30400: loss = 0.8970037698745728\n",
      "step = 30600: loss = 125.13384246826172\n",
      "step = 30800: loss = 1.3347885608673096\n",
      "step = 31000: loss = 110.25271606445312\n",
      "step = 31000: Average Return = -116.69999694824219\n",
      "step = 31200: loss = 0.7130659818649292\n",
      "step = 31400: loss = 1.3436930179595947\n",
      "step = 31600: loss = 0.6104000210762024\n",
      "step = 31800: loss = 1.2296441793441772\n",
      "step = 32000: loss = 0.5565185546875\n",
      "step = 32000: Average Return = -148.5\n",
      "step = 32200: loss = 0.49788588285446167\n",
      "step = 32400: loss = 1.0540428161621094\n",
      "step = 32600: loss = 0.4991064667701721\n",
      "step = 32800: loss = 0.47117161750793457\n",
      "step = 33000: loss = 0.8076190948486328\n",
      "step = 33000: Average Return = -145.89999389648438\n",
      "step = 33200: loss = 82.08761596679688\n",
      "step = 33400: loss = 0.5746736526489258\n",
      "step = 33600: loss = 0.7011029124259949\n",
      "step = 33800: loss = 283.0869140625\n",
      "step = 34000: loss = 1.094630241394043\n",
      "step = 34000: Average Return = -184.6999969482422\n",
      "step = 34200: loss = 0.6581335067749023\n",
      "step = 34400: loss = 0.7194383144378662\n",
      "step = 34600: loss = 0.9695757627487183\n",
      "step = 34800: loss = 0.8633381724357605\n",
      "step = 35000: loss = 1.0736815929412842\n",
      "step = 35000: Average Return = -159.10000610351562\n",
      "step = 35200: loss = 0.4265764057636261\n",
      "step = 35400: loss = 0.915749728679657\n",
      "step = 35600: loss = 0.7644814252853394\n",
      "step = 35800: loss = 1.7714533805847168\n",
      "step = 36000: loss = 2.3699371814727783\n",
      "step = 36000: Average Return = -152.6999969482422\n",
      "step = 36200: loss = 1.174576759338379\n",
      "step = 36400: loss = 1.712135910987854\n",
      "step = 36600: loss = 1.2749985456466675\n",
      "step = 36800: loss = 190.11444091796875\n",
      "step = 37000: loss = 0.6988030672073364\n",
      "step = 37000: Average Return = -158.39999389648438\n",
      "step = 37200: loss = 0.7443894147872925\n",
      "step = 37400: loss = 0.7837690711021423\n",
      "step = 37600: loss = 0.5897752046585083\n",
      "step = 37800: loss = 0.45974451303482056\n",
      "step = 38000: loss = 0.5567280650138855\n",
      "step = 38000: Average Return = -112.0999984741211\n",
      "step = 38200: loss = 1.0748991966247559\n",
      "step = 38400: loss = 2.7064456939697266\n",
      "step = 38600: loss = 0.46009838581085205\n",
      "step = 38800: loss = 1.041645884513855\n",
      "step = 39000: loss = 0.5896213054656982\n",
      "step = 39000: Average Return = -109.0\n",
      "step = 39200: loss = 0.45378124713897705\n",
      "step = 39400: loss = 0.9575356841087341\n",
      "step = 39600: loss = 0.5966207981109619\n",
      "step = 39800: loss = 0.5764175653457642\n",
      "step = 40000: loss = 0.5520439743995667\n",
      "step = 40000: Average Return = -130.3000030517578\n",
      "step = 40200: loss = 1.0401678085327148\n",
      "step = 40400: loss = 0.7802470922470093\n",
      "step = 40600: loss = 0.8116694092750549\n",
      "step = 40800: loss = 66.67372131347656\n",
      "step = 41000: loss = 0.5816618204116821\n",
      "step = 41000: Average Return = -161.0\n",
      "step = 41200: loss = 1.1387776136398315\n",
      "step = 41400: loss = 1.1754047870635986\n",
      "step = 41600: loss = 0.5652995109558105\n",
      "step = 41800: loss = 0.5698603391647339\n",
      "step = 42000: loss = 36.65312576293945\n",
      "step = 42000: Average Return = -150.60000610351562\n",
      "step = 42200: loss = 0.300329327583313\n",
      "step = 42400: loss = 0.5517736673355103\n",
      "step = 42600: loss = 0.4704023599624634\n",
      "step = 42800: loss = 0.33391737937927246\n",
      "step = 43000: loss = 0.7815778255462646\n",
      "step = 43000: Average Return = -162.39999389648438\n",
      "step = 43200: loss = 0.805220901966095\n",
      "step = 43400: loss = 0.8265639543533325\n",
      "step = 43600: loss = 0.383518248796463\n",
      "step = 43800: loss = 93.38836669921875\n",
      "step = 44000: loss = 1.6831903457641602\n",
      "step = 44000: Average Return = -165.39999389648438\n",
      "step = 44200: loss = 1.4533507823944092\n",
      "step = 44400: loss = 0.7177294492721558\n",
      "step = 44600: loss = 0.4159749448299408\n",
      "step = 44800: loss = 0.5715858936309814\n",
      "step = 45000: loss = 22.591407775878906\n",
      "step = 45000: Average Return = -138.60000610351562\n",
      "step = 45200: loss = 1.1739963293075562\n",
      "step = 45400: loss = 0.748629093170166\n",
      "step = 45600: loss = 0.40652143955230713\n",
      "step = 45800: loss = 0.39885109663009644\n",
      "step = 46000: loss = 1.3212577104568481\n",
      "step = 46000: Average Return = -125.9000015258789\n",
      "step = 46200: loss = 0.3504182994365692\n",
      "step = 46400: loss = 0.47535064816474915\n",
      "step = 46600: loss = 0.510200023651123\n",
      "step = 46800: loss = 0.4765472412109375\n",
      "step = 47000: loss = 0.2835836112499237\n",
      "step = 47000: Average Return = -135.60000610351562\n",
      "step = 47200: loss = 1.5443888902664185\n",
      "step = 47400: loss = 0.570744514465332\n",
      "step = 47600: loss = 2.4452571868896484\n",
      "step = 47800: loss = 0.4351574778556824\n",
      "step = 48000: loss = 0.6172124743461609\n",
      "step = 48000: Average Return = -117.5\n",
      "step = 48200: loss = 0.5381076335906982\n",
      "step = 48400: loss = 0.46008092164993286\n",
      "step = 48600: loss = 0.31373101472854614\n",
      "step = 48800: loss = 0.445295125246048\n",
      "step = 49000: loss = 1.2611496448516846\n",
      "step = 49000: Average Return = -151.60000610351562\n",
      "step = 49200: loss = 1.142930507659912\n",
      "step = 49400: loss = 0.3287176191806793\n",
      "step = 49600: loss = 0.9487086534500122\n",
      "step = 49800: loss = 0.4589906334877014\n",
      "step = 50000: loss = 0.32399052381515503\n",
      "step = 50000: Average Return = -135.1999969482422\n",
      "step = 50200: loss = 0.4542551636695862\n",
      "step = 50400: loss = 0.4366376996040344\n",
      "step = 50600: loss = 2.7088046073913574\n",
      "step = 50800: loss = 0.4383069574832916\n",
      "step = 51000: loss = 0.518927812576294\n",
      "step = 51000: Average Return = -114.5999984741211\n",
      "step = 51200: loss = 0.622687041759491\n",
      "step = 51400: loss = 0.5285041928291321\n",
      "step = 51600: loss = 0.45360273122787476\n",
      "step = 51800: loss = 0.43705683946609497\n",
      "step = 52000: loss = 0.2893272340297699\n",
      "step = 52000: Average Return = -119.69999694824219\n",
      "step = 52200: loss = 1.1236257553100586\n",
      "step = 52400: loss = 0.7823569774627686\n",
      "step = 52600: loss = 0.3289565145969391\n",
      "step = 52800: loss = 0.520689845085144\n",
      "step = 53000: loss = 0.49237266182899475\n",
      "step = 53000: Average Return = -129.1999969482422\n",
      "step = 53200: loss = 1.0046333074569702\n",
      "step = 53400: loss = 0.30328458547592163\n",
      "step = 53600: loss = 0.24988070130348206\n",
      "step = 53800: loss = 0.29943448305130005\n",
      "step = 54000: loss = 19.986263275146484\n",
      "step = 54000: Average Return = -129.89999389648438\n",
      "step = 54200: loss = 0.999846339225769\n",
      "step = 54400: loss = 0.860736072063446\n",
      "step = 54600: loss = 0.3752427101135254\n",
      "step = 54800: loss = 65.46123504638672\n",
      "step = 55000: loss = 1.2777984142303467\n",
      "step = 55000: Average Return = -160.60000610351562\n",
      "step = 55200: loss = 0.4590277671813965\n",
      "step = 55400: loss = 0.25864481925964355\n",
      "step = 55600: loss = 0.7725605964660645\n",
      "step = 55800: loss = 0.5919839143753052\n",
      "step = 56000: loss = 0.3987930119037628\n",
      "step = 56000: Average Return = -161.89999389648438\n",
      "step = 56200: loss = 0.36869844794273376\n",
      "step = 56400: loss = 0.5769403576850891\n",
      "step = 56600: loss = 0.546301007270813\n",
      "step = 56800: loss = 45.323341369628906\n",
      "step = 57000: loss = 0.8959388732910156\n",
      "step = 57000: Average Return = -145.1999969482422\n",
      "step = 57200: loss = 0.511487603187561\n",
      "step = 57400: loss = 160.88958740234375\n",
      "step = 57600: loss = 0.3551687002182007\n",
      "step = 57800: loss = 0.3860628604888916\n",
      "step = 58000: loss = 0.32829195261001587\n",
      "step = 58000: Average Return = -115.80000305175781\n",
      "step = 58200: loss = 0.23385953903198242\n",
      "step = 58400: loss = 0.5557224750518799\n",
      "step = 58600: loss = 1.1140210628509521\n",
      "step = 58800: loss = 1.043186902999878\n",
      "step = 59000: loss = 0.9875236749649048\n",
      "step = 59000: Average Return = -134.10000610351562\n",
      "step = 59200: loss = 0.6726122498512268\n",
      "step = 59400: loss = 0.8696925044059753\n",
      "step = 59600: loss = 0.5966553688049316\n",
      "step = 59800: loss = 1.1222444772720337\n",
      "step = 60000: loss = 0.5402776002883911\n",
      "step = 60000: Average Return = -114.0\n",
      "step = 60200: loss = 1.2012126445770264\n",
      "step = 60400: loss = 0.3921107351779938\n",
      "step = 60600: loss = 0.357249915599823\n",
      "step = 60800: loss = 1.2668390274047852\n",
      "step = 61000: loss = 0.6388278007507324\n",
      "step = 61000: Average Return = -113.30000305175781\n",
      "step = 61200: loss = 0.818215548992157\n",
      "step = 61400: loss = 48.81907272338867\n",
      "step = 61600: loss = 0.6604204773902893\n",
      "step = 61800: loss = 0.38963499665260315\n",
      "step = 62000: loss = 0.5484840869903564\n",
      "step = 62000: Average Return = -110.9000015258789\n",
      "step = 62200: loss = 0.6507513523101807\n",
      "step = 62400: loss = 0.8879572153091431\n",
      "step = 62600: loss = 0.8158307075500488\n",
      "step = 62800: loss = 1.3691356182098389\n",
      "step = 63000: loss = 0.3032267093658447\n",
      "step = 63000: Average Return = -166.0\n",
      "step = 63200: loss = 127.5037841796875\n",
      "step = 63400: loss = 0.5220487117767334\n",
      "step = 63600: loss = 0.40429407358169556\n",
      "step = 63800: loss = 0.6573412418365479\n",
      "step = 64000: loss = 1.6589422225952148\n",
      "step = 64000: Average Return = -165.60000610351562\n",
      "step = 64200: loss = 0.8379683494567871\n",
      "step = 64400: loss = 1.6760765314102173\n",
      "step = 64600: loss = 0.44712474942207336\n",
      "step = 64800: loss = 2.010798931121826\n",
      "step = 65000: loss = 0.6591849327087402\n",
      "step = 65000: Average Return = -158.1999969482422\n",
      "step = 65200: loss = 0.42793965339660645\n",
      "step = 65400: loss = 1.0952941179275513\n",
      "step = 65600: loss = 1.0445678234100342\n",
      "step = 65800: loss = 26.245447158813477\n",
      "step = 66000: loss = 0.490734338760376\n",
      "step = 66000: Average Return = -106.69999694824219\n",
      "step = 66200: loss = 0.7393859624862671\n",
      "step = 66400: loss = 0.6697045564651489\n",
      "step = 66600: loss = 0.30720067024230957\n",
      "step = 66800: loss = 0.5465309619903564\n",
      "step = 67000: loss = 0.554634690284729\n",
      "step = 67000: Average Return = -103.4000015258789\n",
      "step = 67200: loss = 0.6097617745399475\n",
      "step = 67400: loss = 0.5967816710472107\n",
      "step = 67600: loss = 1.369322419166565\n",
      "step = 67800: loss = 0.3951027989387512\n",
      "step = 68000: loss = 1.58928382396698\n",
      "step = 68000: Average Return = -104.0999984741211\n",
      "step = 68200: loss = 2.178271532058716\n",
      "step = 68400: loss = 1.1972832679748535\n",
      "step = 68600: loss = 0.7402410507202148\n",
      "step = 68800: loss = 0.1908472627401352\n",
      "step = 69000: loss = 0.44918984174728394\n",
      "step = 69000: Average Return = -122.69999694824219\n",
      "step = 69200: loss = 60.52992630004883\n",
      "step = 69400: loss = 0.8268375396728516\n",
      "step = 69600: loss = 1.179856777191162\n",
      "step = 69800: loss = 57.21494674682617\n",
      "step = 70000: loss = 132.5048370361328\n",
      "step = 70000: Average Return = -115.0\n",
      "step = 70200: loss = 0.5930988788604736\n",
      "step = 70400: loss = 1.050801157951355\n",
      "step = 70600: loss = 1.0600366592407227\n",
      "step = 70800: loss = 0.43075764179229736\n",
      "step = 71000: loss = 0.4420827329158783\n",
      "step = 71000: Average Return = -96.5\n",
      "step = 71200: loss = 73.56112670898438\n",
      "step = 71400: loss = 1.1162731647491455\n",
      "step = 71600: loss = 0.420120507478714\n",
      "step = 71800: loss = 0.6335686445236206\n",
      "step = 72000: loss = 1.0898054838180542\n",
      "step = 72000: Average Return = -122.0999984741211\n",
      "step = 72200: loss = 0.6883074045181274\n",
      "step = 72400: loss = 0.7517708539962769\n",
      "step = 72600: loss = 0.7494193315505981\n",
      "step = 72800: loss = 0.9410006403923035\n",
      "step = 73000: loss = 0.6612436771392822\n",
      "step = 73000: Average Return = -126.80000305175781\n",
      "step = 73200: loss = 0.8002619743347168\n",
      "step = 73400: loss = 0.5983604788780212\n",
      "step = 73600: loss = 0.4661155343055725\n",
      "step = 73800: loss = 0.5326560735702515\n",
      "step = 74000: loss = 0.6240488290786743\n",
      "step = 74000: Average Return = -102.5\n",
      "step = 74200: loss = 0.46893078088760376\n",
      "step = 74400: loss = 0.7196683287620544\n",
      "step = 74600: loss = 0.3739956021308899\n",
      "step = 74800: loss = 138.72080993652344\n",
      "step = 75000: loss = 0.7705217003822327\n",
      "step = 75000: Average Return = -101.9000015258789\n",
      "step = 75200: loss = 0.8405968546867371\n",
      "step = 75400: loss = 0.5462896227836609\n",
      "step = 75600: loss = 0.7594472169876099\n",
      "step = 75800: loss = 0.5870818495750427\n",
      "step = 76000: loss = 105.43148040771484\n",
      "step = 76000: Average Return = -104.5999984741211\n",
      "step = 76200: loss = 0.8215575218200684\n",
      "step = 76400: loss = 0.5071099996566772\n",
      "step = 76600: loss = 1.3560408353805542\n",
      "step = 76800: loss = 1.367940902709961\n",
      "step = 77000: loss = 0.4641890525817871\n",
      "step = 77000: Average Return = -123.5999984741211\n",
      "step = 77200: loss = 0.6519915461540222\n",
      "step = 77400: loss = 1.1229451894760132\n",
      "step = 77600: loss = 0.6834956407546997\n",
      "step = 77800: loss = 0.7804842591285706\n",
      "step = 78000: loss = 1.1407437324523926\n",
      "step = 78000: Average Return = -117.69999694824219\n",
      "step = 78200: loss = 0.9928064942359924\n",
      "step = 78400: loss = 1.104356288909912\n",
      "step = 78600: loss = 0.6495810151100159\n",
      "step = 78800: loss = 0.6528759002685547\n",
      "step = 79000: loss = 0.5696826577186584\n",
      "step = 79000: Average Return = -109.9000015258789\n",
      "step = 79200: loss = 0.6404328346252441\n",
      "step = 79400: loss = 0.6396170258522034\n",
      "step = 79600: loss = 0.9362829923629761\n",
      "step = 79800: loss = 0.6555664539337158\n",
      "step = 80000: loss = 1.6529769897460938\n",
      "step = 80000: Average Return = -134.10000610351562\n",
      "step = 80200: loss = 0.46532654762268066\n",
      "step = 80400: loss = 0.736290693283081\n",
      "step = 80600: loss = 0.8449819087982178\n",
      "step = 80800: loss = 0.8441910147666931\n",
      "step = 81000: loss = 0.9099128246307373\n",
      "step = 81000: Average Return = -152.39999389648438\n",
      "step = 81200: loss = 0.8573307394981384\n",
      "step = 81400: loss = 1.6506783962249756\n",
      "step = 81600: loss = 0.8147119879722595\n",
      "step = 81800: loss = 0.6234771013259888\n",
      "step = 82000: loss = 0.7284268736839294\n",
      "step = 82000: Average Return = -109.0999984741211\n",
      "step = 82200: loss = 0.6001448631286621\n",
      "step = 82400: loss = 0.6176873445510864\n",
      "step = 82600: loss = 0.6157559156417847\n",
      "step = 82800: loss = 0.5557315349578857\n",
      "step = 83000: loss = 0.5767823457717896\n",
      "step = 83000: Average Return = -105.80000305175781\n",
      "step = 83200: loss = 0.8541193008422852\n",
      "step = 83400: loss = 0.5751962661743164\n",
      "step = 83600: loss = 0.6130417585372925\n",
      "step = 83800: loss = 0.8418924808502197\n",
      "step = 84000: loss = 0.891889214515686\n",
      "step = 84000: Average Return = -117.5999984741211\n",
      "step = 84200: loss = 0.42911070585250854\n",
      "step = 84400: loss = 1.0738574266433716\n",
      "step = 84600: loss = 0.8866778612136841\n",
      "step = 84800: loss = 1.4839234352111816\n",
      "step = 85000: loss = 2.921517848968506\n",
      "step = 85000: Average Return = -164.1999969482422\n",
      "step = 85200: loss = 0.7161124348640442\n",
      "step = 85400: loss = 0.6155866980552673\n",
      "step = 85600: loss = 0.989096999168396\n",
      "step = 85800: loss = 0.6471274495124817\n",
      "step = 86000: loss = 0.6485050320625305\n",
      "step = 86000: Average Return = -110.30000305175781\n",
      "step = 86200: loss = 0.6703656911849976\n",
      "step = 86400: loss = 134.62255859375\n",
      "step = 86600: loss = 0.6172326803207397\n",
      "step = 86800: loss = 0.4781777262687683\n",
      "step = 87000: loss = 0.8555705547332764\n",
      "step = 87000: Average Return = -110.4000015258789\n",
      "step = 87200: loss = 0.6308664083480835\n",
      "step = 87400: loss = 0.44990426301956177\n",
      "step = 87600: loss = 0.7369499802589417\n",
      "step = 87800: loss = 0.7574738264083862\n",
      "step = 88000: loss = 1.1973986625671387\n",
      "step = 88000: Average Return = -103.5999984741211\n",
      "step = 88200: loss = 0.7679227590560913\n",
      "step = 88400: loss = 0.5236309170722961\n",
      "step = 88600: loss = 1.0075979232788086\n",
      "step = 88800: loss = 1.635223150253296\n",
      "step = 89000: loss = 5.477894306182861\n",
      "step = 89000: Average Return = -119.9000015258789\n",
      "step = 89200: loss = 1.4518980979919434\n",
      "step = 89400: loss = 1.16151762008667\n",
      "step = 89600: loss = 0.5699877738952637\n",
      "step = 89800: loss = 0.6830114126205444\n",
      "step = 90000: loss = 0.4338493347167969\n",
      "step = 90000: Average Return = -105.9000015258789\n",
      "step = 90200: loss = 0.8573911190032959\n",
      "step = 90400: loss = 1.2201273441314697\n",
      "step = 90600: loss = 0.8277935981750488\n",
      "step = 90800: loss = 8.827360153198242\n",
      "step = 91000: loss = 0.42258667945861816\n",
      "step = 91000: Average Return = -137.0\n",
      "step = 91200: loss = 0.41468754410743713\n",
      "step = 91400: loss = 0.7778308391571045\n",
      "step = 91600: loss = 5.737833023071289\n",
      "step = 91800: loss = 60.34705352783203\n",
      "step = 92000: loss = 0.6687115430831909\n",
      "step = 92000: Average Return = -119.69999694824219\n",
      "step = 92200: loss = 0.8951253294944763\n",
      "step = 92400: loss = 0.5346146821975708\n",
      "step = 92600: loss = 1.358547568321228\n",
      "step = 92800: loss = 1.0161842107772827\n",
      "step = 93000: loss = 1.0433030128479004\n",
      "step = 93000: Average Return = -149.39999389648438\n",
      "step = 93200: loss = 0.6871546506881714\n",
      "step = 93400: loss = 1.9123694896697998\n",
      "step = 93600: loss = 0.9035998582839966\n",
      "step = 93800: loss = 0.7274783849716187\n",
      "step = 94000: loss = 1.8033978939056396\n",
      "step = 94000: Average Return = -152.60000610351562\n",
      "step = 94200: loss = 0.452396035194397\n",
      "step = 94400: loss = 1.8109245300292969\n",
      "step = 94600: loss = 0.36581850051879883\n",
      "step = 94800: loss = 1.1590733528137207\n",
      "step = 95000: loss = 2.7857532501220703\n",
      "step = 95000: Average Return = -170.8000030517578\n",
      "step = 95200: loss = 0.6812699437141418\n",
      "step = 95400: loss = 0.6838910579681396\n",
      "step = 95600: loss = 0.5212167501449585\n",
      "step = 95800: loss = 0.6928284168243408\n",
      "step = 96000: loss = 0.42179709672927856\n",
      "step = 96000: Average Return = -115.80000305175781\n",
      "step = 96200: loss = 0.6274204850196838\n",
      "step = 96400: loss = 0.8596237301826477\n",
      "step = 96600: loss = 0.7567969560623169\n",
      "step = 96800: loss = 1.325377345085144\n",
      "step = 97000: loss = 0.748137891292572\n",
      "step = 97000: Average Return = -133.60000610351562\n",
      "step = 97200: loss = 0.4341113567352295\n",
      "step = 97400: loss = 0.7761609554290771\n",
      "step = 97600: loss = 0.6826114654541016\n",
      "step = 97800: loss = 0.7483762502670288\n",
      "step = 98000: loss = 0.7446892261505127\n",
      "step = 98000: Average Return = -150.6999969482422\n",
      "step = 98200: loss = 60.087013244628906\n",
      "step = 98400: loss = 0.4638673961162567\n",
      "step = 98600: loss = 0.8850257396697998\n",
      "step = 98800: loss = 0.8746532797813416\n",
      "step = 99000: loss = 0.6015267968177795\n",
      "step = 99000: Average Return = -150.60000610351562\n",
      "step = 99200: loss = 1.2708332538604736\n",
      "step = 99400: loss = 0.638424813747406\n",
      "step = 99600: loss = 0.6637365221977234\n",
      "step = 99800: loss = 0.8900455236434937\n",
      "step = 100000: loss = 2.167405366897583\n",
      "step = 100000: Average Return = -138.3000030517578\n",
      "step = 100200: loss = 0.7155396938323975\n",
      "step = 100400: loss = 5.12730073928833\n",
      "step = 100600: loss = 1.0045416355133057\n",
      "step = 100800: loss = 0.8645799160003662\n",
      "step = 101000: loss = 1.7718851566314697\n",
      "step = 101000: Average Return = -135.1999969482422\n",
      "step = 101200: loss = 3.7865493297576904\n",
      "step = 101400: loss = 1.7579436302185059\n",
      "step = 101600: loss = 0.8929897546768188\n",
      "step = 101800: loss = 0.9339515566825867\n",
      "step = 102000: loss = 0.846983790397644\n",
      "step = 102000: Average Return = -164.5\n",
      "step = 102200: loss = 1.9901608228683472\n",
      "step = 102400: loss = 0.7515901327133179\n",
      "step = 102600: loss = 0.48679181933403015\n",
      "step = 102800: loss = 0.9457564353942871\n",
      "step = 103000: loss = 0.6805379986763\n",
      "step = 103000: Average Return = -104.30000305175781\n",
      "step = 103200: loss = 0.9693370461463928\n",
      "step = 103400: loss = 0.8977241516113281\n",
      "step = 103600: loss = 0.5271807909011841\n",
      "step = 103800: loss = 0.5502477288246155\n",
      "step = 104000: loss = 0.8299589157104492\n",
      "step = 104000: Average Return = -104.5999984741211\n",
      "step = 104200: loss = 0.6139364242553711\n",
      "step = 104400: loss = 0.6995782852172852\n",
      "step = 104600: loss = 0.8086227178573608\n",
      "step = 104800: loss = 0.5001169443130493\n",
      "step = 105000: loss = 0.6852162480354309\n",
      "step = 105000: Average Return = -107.19999694824219\n",
      "step = 105200: loss = 0.8717255592346191\n",
      "step = 105400: loss = 0.7013773322105408\n",
      "step = 105600: loss = 0.5589741468429565\n",
      "step = 105800: loss = 0.9493483901023865\n",
      "step = 106000: loss = 112.83425903320312\n",
      "step = 106000: Average Return = -98.80000305175781\n",
      "step = 106200: loss = 0.724104642868042\n",
      "step = 106400: loss = 20.709386825561523\n",
      "step = 106600: loss = 0.8695933818817139\n",
      "step = 106800: loss = 0.8128718137741089\n",
      "step = 107000: loss = 0.5247547626495361\n",
      "step = 107000: Average Return = -121.4000015258789\n",
      "step = 107200: loss = 1.3493659496307373\n",
      "step = 107400: loss = 51.0694694519043\n",
      "step = 107600: loss = 0.8345597982406616\n",
      "step = 107800: loss = 0.5268627405166626\n",
      "step = 108000: loss = 6.94174337387085\n",
      "step = 108000: Average Return = -117.4000015258789\n",
      "step = 108200: loss = 24.42163848876953\n",
      "step = 108400: loss = 0.48938629031181335\n",
      "step = 108600: loss = 0.5746361017227173\n",
      "step = 108800: loss = 0.6275737881660461\n",
      "step = 109000: loss = 0.8155447244644165\n",
      "step = 109000: Average Return = -146.5\n",
      "step = 109200: loss = 0.4411792755126953\n",
      "step = 109400: loss = 75.44405364990234\n",
      "step = 109600: loss = 0.9012824296951294\n",
      "step = 109800: loss = 0.8119240999221802\n",
      "step = 110000: loss = 0.5847811698913574\n",
      "step = 110000: Average Return = -162.3000030517578\n",
      "step = 110200: loss = 0.9264999628067017\n",
      "step = 110400: loss = 0.5160796046257019\n",
      "step = 110600: loss = 0.5855295062065125\n",
      "step = 110800: loss = 0.554095983505249\n",
      "step = 111000: loss = 1.6994582414627075\n",
      "step = 111000: Average Return = -128.89999389648438\n",
      "step = 111200: loss = 0.5303335785865784\n",
      "step = 111400: loss = 0.4638214409351349\n",
      "step = 111600: loss = 1.1228352785110474\n",
      "step = 111800: loss = 0.6343830227851868\n",
      "step = 112000: loss = 1.3494722843170166\n",
      "step = 112000: Average Return = -175.60000610351562\n",
      "step = 112200: loss = 1.5005465745925903\n",
      "step = 112400: loss = 0.6956788301467896\n",
      "step = 112600: loss = 0.5481152534484863\n",
      "step = 112800: loss = 0.9386911392211914\n",
      "step = 113000: loss = 0.9200073480606079\n",
      "step = 113000: Average Return = -159.0\n",
      "step = 113200: loss = 0.6573450565338135\n",
      "step = 113400: loss = 0.988527238368988\n",
      "step = 113600: loss = 1.780678153038025\n",
      "step = 113800: loss = 0.7855477333068848\n",
      "step = 114000: loss = 1.1872379779815674\n",
      "step = 114000: Average Return = -133.1999969482422\n",
      "step = 114200: loss = 0.7966517210006714\n",
      "step = 114400: loss = 0.4970878064632416\n",
      "step = 114600: loss = 0.6477915048599243\n",
      "step = 114800: loss = 0.9000644683837891\n",
      "step = 115000: loss = 0.6438463926315308\n",
      "step = 115000: Average Return = -101.0999984741211\n",
      "step = 115200: loss = 0.7629584074020386\n",
      "step = 115400: loss = 0.5346379280090332\n",
      "step = 115600: loss = 1.9469151496887207\n",
      "step = 115800: loss = 0.8285374641418457\n",
      "step = 116000: loss = 1.2766982316970825\n",
      "step = 116000: Average Return = -97.5\n",
      "step = 116200: loss = 0.9910107254981995\n",
      "step = 116400: loss = 0.7808116674423218\n",
      "step = 116600: loss = 1.0049062967300415\n",
      "step = 116800: loss = 0.946458637714386\n",
      "step = 117000: loss = 1.4570858478546143\n",
      "step = 117000: Average Return = -147.39999389648438\n",
      "step = 117200: loss = 0.5476400852203369\n",
      "step = 117400: loss = 0.6776654720306396\n",
      "step = 117600: loss = 0.5359845757484436\n",
      "step = 117800: loss = 0.5604754686355591\n",
      "step = 118000: loss = 0.7006856203079224\n",
      "step = 118000: Average Return = -99.4000015258789\n",
      "step = 118200: loss = 0.9062648415565491\n",
      "step = 118400: loss = 0.6991196870803833\n",
      "step = 118600: loss = 0.6187055110931396\n",
      "step = 118800: loss = 0.4121968150138855\n",
      "step = 119000: loss = 0.9403729438781738\n",
      "step = 119000: Average Return = -98.69999694824219\n",
      "step = 119200: loss = 1.0512171983718872\n",
      "step = 119400: loss = 0.4814630150794983\n",
      "step = 119600: loss = 0.6112260818481445\n",
      "step = 119800: loss = 0.6804078817367554\n",
      "step = 120000: loss = 1.8049368858337402\n",
      "step = 120000: Average Return = -125.30000305175781\n",
      "step = 120200: loss = 0.8938603401184082\n",
      "step = 120400: loss = 0.49427932500839233\n",
      "step = 120600: loss = 1.4015049934387207\n",
      "step = 120800: loss = 1.4788811206817627\n",
      "step = 121000: loss = 0.8931693434715271\n",
      "step = 121000: Average Return = -153.39999389648438\n",
      "step = 121200: loss = 0.8688471913337708\n",
      "step = 121400: loss = 0.5815740823745728\n",
      "step = 121600: loss = 0.508502721786499\n",
      "step = 121800: loss = 0.5181532502174377\n",
      "step = 122000: loss = 0.6939467787742615\n",
      "step = 122000: Average Return = -130.0\n",
      "step = 122200: loss = 0.45155537128448486\n",
      "step = 122400: loss = 1.2205783128738403\n",
      "step = 122600: loss = 0.4081248342990875\n",
      "step = 122800: loss = 0.7897334098815918\n",
      "step = 123000: loss = 1.1388213634490967\n",
      "step = 123000: Average Return = -123.80000305175781\n",
      "step = 123200: loss = 0.9596176147460938\n",
      "step = 123400: loss = 0.8249621987342834\n",
      "step = 123600: loss = 0.8107872009277344\n",
      "step = 123800: loss = 0.6302653551101685\n",
      "step = 124000: loss = 0.7633695602416992\n",
      "step = 124000: Average Return = -147.5\n",
      "step = 124200: loss = 0.4788490831851959\n",
      "step = 124400: loss = 1.4795277118682861\n",
      "step = 124600: loss = 0.4842242896556854\n",
      "step = 124800: loss = 0.8639997839927673\n",
      "step = 125000: loss = 0.606257438659668\n",
      "step = 125000: Average Return = -113.5\n",
      "step = 125200: loss = 0.6300039291381836\n",
      "step = 125400: loss = 0.7116358280181885\n",
      "step = 125600: loss = 0.5008805990219116\n",
      "step = 125800: loss = 0.6458806991577148\n",
      "step = 126000: loss = 1.2629536390304565\n",
      "step = 126000: Average Return = -188.1999969482422\n",
      "step = 126200: loss = 3.28782057762146\n",
      "step = 126400: loss = 0.7343205213546753\n",
      "step = 126600: loss = 0.8723695874214172\n",
      "step = 126800: loss = 0.6157353520393372\n",
      "step = 127000: loss = 0.6129510998725891\n",
      "step = 127000: Average Return = -151.3000030517578\n",
      "step = 127200: loss = 1.8452785015106201\n",
      "step = 127400: loss = 3.2677512168884277\n",
      "step = 127600: loss = 0.4731276035308838\n",
      "step = 127800: loss = 0.4011680781841278\n",
      "step = 128000: loss = 0.3412891626358032\n",
      "step = 128000: Average Return = -176.3000030517578\n",
      "step = 128200: loss = 0.3241586685180664\n",
      "step = 128400: loss = 1.0165733098983765\n",
      "step = 128600: loss = 0.6934572458267212\n",
      "step = 128800: loss = 2.7726383209228516\n",
      "step = 129000: loss = 0.7624740600585938\n",
      "step = 129000: Average Return = -182.60000610351562\n",
      "step = 129200: loss = 0.452430784702301\n",
      "step = 129400: loss = 0.945641815662384\n",
      "step = 129600: loss = 0.6388636827468872\n",
      "step = 129800: loss = 0.8953260183334351\n",
      "step = 130000: loss = 0.5409921407699585\n",
      "step = 130000: Average Return = -118.4000015258789\n",
      "step = 130200: loss = 0.7235367298126221\n",
      "step = 130400: loss = 0.9895648956298828\n",
      "step = 130600: loss = 0.5262016654014587\n",
      "step = 130800: loss = 0.4806533455848694\n",
      "step = 131000: loss = 0.42570388317108154\n",
      "step = 131000: Average Return = -144.89999389648438\n",
      "step = 131200: loss = 0.4673970639705658\n",
      "step = 131400: loss = 0.4441600441932678\n",
      "step = 131600: loss = 0.7965607643127441\n",
      "step = 131800: loss = 0.30888837575912476\n",
      "step = 132000: loss = 0.5994213819503784\n",
      "step = 132000: Average Return = -133.6999969482422\n",
      "step = 132200: loss = 1.0801441669464111\n",
      "step = 132400: loss = 0.4460779130458832\n",
      "step = 132600: loss = 0.18564411997795105\n",
      "step = 132800: loss = 0.4919319152832031\n",
      "step = 133000: loss = 0.931193470954895\n",
      "step = 133000: Average Return = -200.0\n",
      "step = 133200: loss = 0.4346025586128235\n",
      "step = 133400: loss = 0.551293671131134\n",
      "step = 133600: loss = 0.30482590198516846\n",
      "step = 133800: loss = 0.6867879629135132\n",
      "step = 134000: loss = 0.36670249700546265\n",
      "step = 134000: Average Return = -171.89999389648438\n",
      "step = 134200: loss = 0.39989131689071655\n",
      "step = 134400: loss = 0.5116875767707825\n",
      "step = 134600: loss = 1.5236955881118774\n",
      "step = 134800: loss = 0.29026854038238525\n",
      "step = 135000: loss = 0.4594602882862091\n",
      "step = 135000: Average Return = -143.1999969482422\n",
      "step = 135200: loss = 0.577242374420166\n",
      "step = 135400: loss = 0.6551212072372437\n",
      "step = 135600: loss = 0.77451491355896\n",
      "step = 135800: loss = 0.7172294855117798\n",
      "step = 136000: loss = 0.7773275375366211\n",
      "step = 136000: Average Return = -108.80000305175781\n",
      "step = 136200: loss = 0.5131329894065857\n",
      "step = 136400: loss = 1.015773892402649\n",
      "step = 136600: loss = 1.2066733837127686\n",
      "step = 136800: loss = 1.0735759735107422\n",
      "step = 137000: loss = 0.6594902873039246\n",
      "step = 137000: Average Return = -191.60000610351562\n",
      "step = 137200: loss = 0.6976372003555298\n",
      "step = 137400: loss = 0.788497805595398\n",
      "step = 137600: loss = 1.006882667541504\n",
      "step = 137800: loss = 0.6775233745574951\n",
      "step = 138000: loss = 0.8950885534286499\n",
      "step = 138000: Average Return = -122.19999694824219\n",
      "step = 138200: loss = 0.6879823207855225\n",
      "step = 138400: loss = 0.40283289551734924\n",
      "step = 138600: loss = 0.9329624772071838\n",
      "step = 138800: loss = 0.7054433822631836\n",
      "step = 139000: loss = 0.6872003078460693\n",
      "step = 139000: Average Return = -151.39999389648438\n",
      "step = 139200: loss = 0.4338633418083191\n",
      "step = 139400: loss = 2.0876641273498535\n",
      "step = 139600: loss = 0.3293303847312927\n",
      "step = 139800: loss = 0.3550887107849121\n",
      "step = 140000: loss = 0.5821436047554016\n",
      "step = 140000: Average Return = -130.6999969482422\n",
      "step = 140200: loss = 0.35269665718078613\n",
      "step = 140400: loss = 0.4739103317260742\n",
      "step = 140600: loss = 0.3991934359073639\n",
      "step = 140800: loss = 0.4425404667854309\n",
      "step = 141000: loss = 0.30631357431411743\n",
      "step = 141000: Average Return = -107.9000015258789\n",
      "step = 141200: loss = 0.6981843709945679\n",
      "step = 141400: loss = 0.8417676687240601\n",
      "step = 141600: loss = 0.263672411441803\n",
      "step = 141800: loss = 0.28514739871025085\n",
      "step = 142000: loss = 0.31627359986305237\n",
      "step = 142000: Average Return = -110.30000305175781\n",
      "step = 142200: loss = 0.66422039270401\n",
      "step = 142400: loss = 0.6396023035049438\n",
      "step = 142600: loss = 0.2219354212284088\n",
      "step = 142800: loss = 0.4941985607147217\n",
      "step = 143000: loss = 1.2462164163589478\n",
      "step = 143000: Average Return = -123.9000015258789\n",
      "step = 143200: loss = 0.8064914345741272\n",
      "step = 143400: loss = 0.41533347964286804\n",
      "step = 143600: loss = 1.2928135395050049\n",
      "step = 143800: loss = 1.0820441246032715\n",
      "step = 144000: loss = 0.781876802444458\n",
      "step = 144000: Average Return = -137.0\n",
      "step = 144200: loss = 0.6930129528045654\n",
      "step = 144400: loss = 0.6910048127174377\n",
      "step = 144600: loss = 1.2138261795043945\n",
      "step = 144800: loss = 1.4665052890777588\n",
      "step = 145000: loss = 0.5667115449905396\n",
      "step = 145000: Average Return = -146.6999969482422\n",
      "step = 145200: loss = 1.0636019706726074\n",
      "step = 145400: loss = 0.5921878814697266\n",
      "step = 145600: loss = 1.0735713243484497\n",
      "step = 145800: loss = 0.309235543012619\n",
      "step = 146000: loss = 1.379020094871521\n",
      "step = 146000: Average Return = -178.5\n",
      "step = 146200: loss = 1.0976040363311768\n",
      "step = 146400: loss = 0.2865394055843353\n",
      "step = 146600: loss = 1.4030288457870483\n",
      "step = 146800: loss = 0.4573005735874176\n",
      "step = 147000: loss = 2.0270652770996094\n",
      "step = 147000: Average Return = -200.0\n",
      "step = 147200: loss = 1.7021363973617554\n",
      "step = 147400: loss = 0.4970053732395172\n",
      "step = 147600: loss = 0.39984652400016785\n",
      "step = 147800: loss = 0.7325571775436401\n",
      "step = 148000: loss = 0.6544091701507568\n",
      "step = 148000: Average Return = -118.9000015258789\n",
      "step = 148200: loss = 0.40747666358947754\n",
      "step = 148400: loss = 0.5136188268661499\n",
      "step = 148600: loss = 0.2875732183456421\n",
      "step = 148800: loss = 0.35146141052246094\n",
      "step = 149000: loss = 0.34689027070999146\n",
      "step = 149000: Average Return = -113.80000305175781\n",
      "step = 149200: loss = 0.3781709671020508\n",
      "step = 149400: loss = 0.9721580743789673\n",
      "step = 149600: loss = 0.6707277894020081\n",
      "step = 149800: loss = 0.5065151453018188\n",
      "step = 150000: loss = 0.24810349941253662\n",
      "step = 150000: Average Return = -105.4000015258789\n"
     ]
    }
   ],
   "source": [
    "#@test {\"skip\": true}\n",
    "try:\n",
    "  %%time\n",
    "except:\n",
    "  pass\n",
    "\n",
    "# (Optional) Optimize by wrapping some of the code in a graph using TF function.\n",
    "agent.train = common.function(agent.train)\n",
    "\n",
    "# Reset the train step.\n",
    "agent.train_step_counter.assign(0)\n",
    "\n",
    "# Evaluate the agent's policy once before training.\n",
    "avg_return = compute_avg_return(eval_env, agent.policy, num_eval_episodes)\n",
    "returns = [avg_return]\n",
    "\n",
    "# Reset the environment.\n",
    "time_step = train_py_env.reset()\n",
    "\n",
    "# Create a driver to collect experience.\n",
    "collect_driver = py_driver.PyDriver(\n",
    "    env,\n",
    "    py_tf_eager_policy.PyTFEagerPolicy(\n",
    "      agent.collect_policy, use_tf_function=True),\n",
    "    [rb_observer],\n",
    "    max_steps=collect_steps_per_iteration)\n",
    "\n",
    "for _ in range(num_iterations):\n",
    "\n",
    "  # Collect a few steps and save to the replay buffer.\n",
    "  time_step, _ = collect_driver.run(time_step)\n",
    "\n",
    "  # Sample a batch of data from the buffer and update the agent's network.\n",
    "  experience, unused_info = next(iterator)\n",
    "  train_loss = agent.train(experience).loss\n",
    "\n",
    "  step = agent.train_step_counter.numpy()\n",
    "\n",
    "  if step % log_interval == 0:\n",
    "    print('step = {0}: loss = {1}'.format(step, train_loss))\n",
    "\n",
    "  if step % eval_interval == 0:\n",
    "    avg_return = compute_avg_return(eval_env, agent.policy, num_eval_episodes)\n",
    "    print('step = {0}: Average Return = {1}'.format(step, avg_return))\n",
    "    returns.append(avg_return)"
   ]
  },
  {
   "cell_type": "markdown",
   "id": "6c141d58",
   "metadata": {
    "id": "68jNcA_TiJDq",
    "papermill": {
     "duration": 0.060363,
     "end_time": "2025-02-27T21:48:48.955359",
     "exception": false,
     "start_time": "2025-02-27T21:48:48.894996",
     "status": "completed"
    },
    "tags": []
   },
   "source": [
    "## Visualization\n"
   ]
  },
  {
   "cell_type": "markdown",
   "id": "b5f958de",
   "metadata": {
    "id": "aO-LWCdbbOIC",
    "papermill": {
     "duration": 0.061161,
     "end_time": "2025-02-27T21:48:49.076480",
     "exception": false,
     "start_time": "2025-02-27T21:48:49.015319",
     "status": "completed"
    },
    "tags": []
   },
   "source": [
    "### Plots\n",
    "\n",
    "Use `matplotlib.pyplot` to chart how the policy improved during training.\n",
    "\n",
    "One iteration of `Cartpole-v0` consists of 200 time steps. The environment gives a reward of `+1` for each step the pole stays up, so the maximum return for one episode is 200. The charts shows the return increasing towards that maximum each time it is evaluated during training. (It may be a little unstable and not increase monotonically each time.)"
   ]
  },
  {
   "cell_type": "code",
   "execution_count": 33,
   "id": "eb053210",
   "metadata": {
    "execution": {
     "iopub.execute_input": "2025-02-27T21:48:49.197906Z",
     "iopub.status.busy": "2025-02-27T21:48:49.197585Z",
     "iopub.status.idle": "2025-02-27T21:48:49.388213Z",
     "shell.execute_reply": "2025-02-27T21:48:49.387396Z"
    },
    "id": "NxtL1mbOYCVO",
    "papermill": {
     "duration": 0.252691,
     "end_time": "2025-02-27T21:48:49.389606",
     "exception": false,
     "start_time": "2025-02-27T21:48:49.136915",
     "status": "completed"
    },
    "tags": []
   },
   "outputs": [
    {
     "data": {
      "text/plain": [
       "(-205.175, 250.0)"
      ]
     },
     "execution_count": 33,
     "metadata": {},
     "output_type": "execute_result"
    },
    {
     "data": {
      "image/png": "[encoded data removed]",
      "text/plain": [
       "<Figure size 640x480 with 1 Axes>"
      ]
     },
     "metadata": {},
     "output_type": "display_data"
    }
   ],
   "source": [
    "#@test {\"skip\": true}\n",
    "\n",
    "iterations = range(0, num_iterations + 1, eval_interval)\n",
    "plt.plot(iterations, returns)\n",
    "plt.ylabel('Average Return')\n",
    "plt.xlabel('Iterations')\n",
    "plt.ylim(top=250)"
   ]
  },
  {
   "cell_type": "markdown",
   "id": "7ed057fc",
   "metadata": {
    "id": "M7-XpPP99Cy7",
    "papermill": {
     "duration": 0.061818,
     "end_time": "2025-02-27T21:48:49.516858",
     "exception": false,
     "start_time": "2025-02-27T21:48:49.455040",
     "status": "completed"
    },
    "tags": []
   },
   "source": [
    "### Videos"
   ]
  },
  {
   "cell_type": "markdown",
   "id": "a5616043",
   "metadata": {
    "id": "9pGfGxSH32gn",
    "papermill": {
     "duration": 0.062326,
     "end_time": "2025-02-27T21:48:49.640146",
     "exception": false,
     "start_time": "2025-02-27T21:48:49.577820",
     "status": "completed"
    },
    "tags": []
   },
   "source": [
    "Charts are nice. But more exciting is seeing an agent actually performing a task in an environment. \n",
    "\n",
    "First, create a function to embed videos in the notebook."
   ]
  },
  {
   "cell_type": "code",
   "execution_count": 34,
   "id": "de033fcf",
   "metadata": {
    "execution": {
     "iopub.execute_input": "2025-02-27T21:48:49.764102Z",
     "iopub.status.busy": "2025-02-27T21:48:49.763814Z",
     "iopub.status.idle": "2025-02-27T21:48:49.768009Z",
     "shell.execute_reply": "2025-02-27T21:48:49.767326Z"
    },
    "id": "ULaGr8pvOKbl",
    "papermill": {
     "duration": 0.068109,
     "end_time": "2025-02-27T21:48:49.769158",
     "exception": false,
     "start_time": "2025-02-27T21:48:49.701049",
     "status": "completed"
    },
    "tags": []
   },
   "outputs": [],
   "source": [
    "def embed_mp4(filename):\n",
    "  \"\"\"Embeds an mp4 file in the notebook.\"\"\"\n",
    "  video = open(filename,'rb').read()\n",
    "  b64 = base64.b64encode(video)\n",
    "  tag = '''\n",
    "  <video width=\"640\" height=\"480\" controls>\n",
    "    <source src=\"data:video/mp4;base64,{0}\" type=\"video/mp4\">\n",
    "  Your browser does not support the video tag.\n",
    "  </video>'''.format(b64.decode())\n",
    "\n",
    "  return IPython.display.HTML(tag)"
   ]
  },
  {
   "cell_type": "markdown",
   "id": "2f0bf54e",
   "metadata": {
    "id": "9c_PH-pX4Pr5",
    "papermill": {
     "duration": 0.06159,
     "end_time": "2025-02-27T21:48:49.892758",
     "exception": false,
     "start_time": "2025-02-27T21:48:49.831168",
     "status": "completed"
    },
    "tags": []
   },
   "source": [
    "Now iterate through a few episodes of the Cartpole game with the agent. The underlying Python environment (the one \"inside\" the TensorFlow environment wrapper) provides a `render()` method, which outputs an image of the environment state. These can be collected into a video."
   ]
  },
  {
   "cell_type": "code",
   "execution_count": 35,
   "id": "6d24d83d",
   "metadata": {
    "execution": {
     "iopub.execute_input": "2025-02-27T21:48:50.016303Z",
     "iopub.status.busy": "2025-02-27T21:48:50.016036Z",
     "iopub.status.idle": "2025-02-27T21:48:56.994277Z",
     "shell.execute_reply": "2025-02-27T21:48:56.993355Z"
    },
    "id": "owOVWB158NlF",
    "papermill": {
     "duration": 7.042165,
     "end_time": "2025-02-27T21:48:56.996096",
     "exception": false,
     "start_time": "2025-02-27T21:48:49.953931",
     "status": "completed"
    },
    "tags": []
   },
   "outputs": [
    {
     "data": {
      "text/html": [
       "\n",
       "  <video width=\"640\" height=\"480\" controls>\n",
       "    <source src=\"data:video/mp4;base64,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\" type=\"video/mp4\">\n",
       "  Your browser does not support the video tag.\n",
       "  </video>"
      ],
      "text/plain": [
       "<IPython.core.display.HTML object>"
      ]
     },
     "execution_count": 35,
     "metadata": {},
     "output_type": "execute_result"
    }
   ],
   "source": [
    "def create_policy_eval_video(policy, filename, num_episodes=5, fps=30):\n",
    "  filename = filename + \".mp4\"\n",
    "  with imageio.get_writer(filename, fps=fps) as video:\n",
    "    for _ in range(num_episodes):\n",
    "      time_step = eval_env.reset()\n",
    "      video.append_data(eval_py_env.render())\n",
    "      while not time_step.is_last():\n",
    "        action_step = policy.action(time_step)\n",
    "        time_step = eval_env.step(action_step.action)\n",
    "        video.append_data(eval_py_env.render())\n",
    "  return embed_mp4(filename)\n",
    "\n",
    "create_policy_eval_video(agent.policy, \"trained-agent\")"
   ]
  },
  {
   "cell_type": "markdown",
   "id": "d025aae9",
   "metadata": {
    "id": "povaAOcZygLw",
    "papermill": {
     "duration": 0.063764,
     "end_time": "2025-02-27T21:48:57.125530",
     "exception": false,
     "start_time": "2025-02-27T21:48:57.061766",
     "status": "completed"
    },
    "tags": []
   },
   "source": [
    "For fun, compare the trained agent (above) to an agent moving randomly. (It does not do as well.)"
   ]
  },
  {
   "cell_type": "code",
   "execution_count": 36,
   "id": "bb6b88bf",
   "metadata": {
    "execution": {
     "iopub.execute_input": "2025-02-27T21:48:57.254557Z",
     "iopub.status.busy": "2025-02-27T21:48:57.254250Z",
     "iopub.status.idle": "2025-02-27T21:49:05.414039Z",
     "shell.execute_reply": "2025-02-27T21:49:05.413146Z"
    },
    "id": "pJZIdC37yNH4",
    "papermill": {
     "duration": 8.226341,
     "end_time": "2025-02-27T21:49:05.416192",
     "exception": false,
     "start_time": "2025-02-27T21:48:57.189851",
     "status": "completed"
    },
    "tags": []
   },
   "outputs": [
    {
     "data": {
      "text/html": [
       "\n",
       "  <video width=\"640\" height=\"480\" controls>\n",
       "    <source src=\"data:video/mp4;base64,AAAAIGZ0eXBpc29tAAACAGlzb21pc28yYXZjMW1wNDEAAAAIZnJlZQAB8zRtZGF0AAACrgYF//+q3EXpvebZSLeWLNgg2SPu73gyNjQgLSBjb3JlIDE2MyByMzA2MCA1ZGI2YWE2IC0gSC4yNjQvTVBFRy00IEFWQyBjb2RlYyAtIENvcHlsZWZ0IDIwMDMtMjAyMSAtIGh0dHA6Ly93d3cudmlkZW9sYW4ub3JnL3gyNjQuaHRtbCAtIG9wdGlvbnM6IGNhYmFjPTEgcmVmPTMgZGVibG9jaz0xOjA6MCBhbmFseXNlPTB4MzoweDExMyBtZT1oZXggc3VibWU9NyBwc3k9MSBwc3lfcmQ9MS4wMDowLjAwIG1peGVkX3JlZj0xIG1lX3JhbmdlPTE2IGNocm9tYV9tZT0xIHRyZWxsaXM9MSA4eDhkY3Q9MSBjcW09MCBkZWFkem9uZT0yMSwxMSBmYXN0X3Bza2lwPTEgY2hyb21hX3FwX29mZnNldD0tMiB0aHJlYWRzPTYgbG9va2FoZWFkX3RocmVhZHM9MSBzbGljZWRfdGhyZWFkcz0wIG5yPTAgZGVjaW1hdGU9MSBpbnRlcmxhY2VkPTAgYmx1cmF5X2NvbXBhdD0wIGNvbnN0cmFpbmVkX2ludHJhPTAgYmZyYW1lcz0zIGJfcHlyYW1pZD0yIGJfYWRhcHQ9MSBiX2JpYXM9MCBkaXJlY3Q9MSB3ZWlnaHRiPTEgb3Blbl9nb3A9MCB3ZWlnaHRwPTIga2V5aW50PTI1MCBrZXlpbnRfbWluPTI1IHNjZW5lY3V0PTQwIGludHJhX3JlZnJlc2g9MCByY19sb29rYWhlYWQ9NDAgcmM9Y3JmIG1idHJlZT0xIGNyZj0yNS4wIHFjb21wPTAuNjAgcXBtaW49MCBxcG1heD02OSBxcHN0ZXA9NCBpcF9yYXRpbz0xLjQwIGFxPTE6MS4wMACAAAAMx2WIhAA3//72rvzLK0cLlS4dWXuzUfLoSXL9iDB9aAAAAwAAAwAAJuKiZ0WFMeJsgAABLJacMUhkBK9KK/W/ny0ktZ1tau3psL5Rg1c5GYvUpY3fPl0QBuRZZ8tED2jxR8+8CSu2UQ2X/1d6gqmu810Z2wSRMaMcXBicos8j2CRQp0468VhYNxqi/oU6y14tKCUaj5DJzpWf09aO1pF6Yo43/2wxbTTes6SOyQ8WiRwgCsG35ugD2JgZmDcTiF4FSFLW5219tw/XHu533pVm9ZEAADATdCn+IBMOhGCqQtOvxN9jXGzHcmWj44bVO7lP9xWYubl3uWXgl0rUWHePkDgauhKFFzcSvUMHQlYGEGnzxgNIwHzG4JmJzTKuF5+Fn2tJ0gdtNa5hE9c4HZrVoPmaE2YpdMVkm/fdggpnXxoOcN0OJ48oGwbfCI5AtN8mcO6NpwHc7VliDAqeK8vyUA2FiPZGt7Y5Ss9Ob8/JQZrf0iELSr0gejU5BOby0ANZwCvBE+PUgMGfV7PnWgeq/wce41NueRjh4B9/K/XyuH84mmMo3n6SYIrsJq58Iemti05idxANbp0Gr2AYKu06UOjs0IR5ZtxZCoI+QtpFbtFmSy7ZJnzFUzg7xZ+BCjmgLbgdNs8DaM8W5PC06SD6qHytpNjqKAJTKAQFv4eAyq+VtBMwpTolIGwUTKJyGveqgBUPBJCQUPMurPDj94KPvCe8Zza/ptz0zqu1ij95YU3LADPDhNivI1TD4PjE0ZmISYNVcEfD2TECVN58w1iJezdEDzU+uYqT/JPg6UeX6tI2vTQqolEW9SwCW7RdQKjVRs++Etjc6FtqXOqOc5UuErENldDbArjVC/3ptldPoqhYwxi0TVaqqQpFk1+MTt/a3lZ4rQB20PFEq8Fp5AGkk0rcquH7kZj1Sht+ozuzaNrmDix3ye6CBpXxdtPoZp9tOZrETeAO3vUt9ArmmOltRr3HV1XIe8p7QGn2oKr/fnVNOVRUfQ1BOuGQSYEPNs5UNCCl6xW39Kvpyjb6fnezx8KHwRP38ZJRrxWqyRrt6NEyK0t7D4vHwdSeneBLdExVDJ7F0uRQhkiHIhEB2P08XiHfqMYg2sGh0JyIFg8LmPFVAq2W13RE0R17wAAAAwAIlOrJABjjFJmSnH9a2oI3r6C4ASI3ejROVSblnRdyTT07CKZGCDcTqH7j5z+MO1WQsbQxReb4Gvx7F+++wvNXgvCagNAAhMXs6An+BU9KWX6Vus+MjNEBp9xHtkauOy+8Hz+GkCNzxSKfyshW4wrRieAMNfmMbczryXEJp6mNi6eMsgmAANpXoiehPW2lNzFWMYHYaCkZR0M29EgNwktSA88rO/E5CvQQf3hWwicChwvyHJsSAtbFRJG5VKhLZex1b5AydeIALYDr3841nbNHxVJV3oFsVvqDI4wEfRfAeoX0a/RROZ58GD2ytPr4KZgoBS/rw+gZr9kfpgJecFNWGo2ZvwK34dmW+24hI6so9n54BVI0Qh+cP9CYBBYgv2Tvg0q4V8N3Qi3/EnISK2amsqj3wmbE2LD7NUx2N1ivtBmwTsRr64BNHgZWPitMcB1NverOY+SHdVkPEXL2dOyHDDT9ZQ6eKl+ilrA0AXyV4ocUmd6C3kXNUo6zbB0+KGKrl8jno37HCV0giLjhUUA5MknT6+QurNQ3q23bwnc5SFJmeX/J8cUBXuVxwGGmzSLqB7LPTTHi/YLp6G5fo+K5FTzdrT48tzs5HOfGR4bH1/3Lr+4IDhhXqFA71QzW2B0oG1MZGPb08DOCcUuPkTTiGXVZcSIX6vbv4BSft0eP+tjEnSkyrgDSfHe+KLfYcqMzUFM0bnmr9m51mkiu4JWHHAYZkY+9t8Olydl5NgPRkZJl6XHErnvYIwxFKg2gEG70q9dzc1NaziR0h+88mZj/xGFNKocjgB552jbrqiD6DkO3uDZAaLD/CTbPhG6e8RxpQvpuXcdbkpg1NtzLTZFYSSSyIF2UWPBZdrlnAAHIC7pyeD5VPik49ZQjFSZ6FyABfu6ub0p+r3lwB5mc8/YLG1rdeFwtVtEGmohR3x0KPP1wljoZKfhKZeoVvxH3812B0odbuQrt9H1qqQDRWxADpkjICRwf1bVn3CD30aKe7KeQFGV3YUlv4wLPmLvzrqYXsxEA3M6IvdslssuqhRi5BTii5D4PW7LcJtADyg7zcZkpbJqge3GA7fHIF0vZhMagkyRMyGtL1UIxxCQwPf7BZD9UimNFZJWkFFdD46QNw89Ow5mvFRtX0gcRjdue/fMglN/wC0uhNXl18zFjTs+S5S1FPpr3gRXWYkIbnQqc2vsdTxhYsgDRzfUWTPUZfBtL+po65N8AUmdlhFaiR18yisEJSx0AEIc/Cydwnzk6HbsAAYHv24xYzViFCLDXCaBi03UDkqiqXhrzCbIS9zBIhFoM/U3u0PNc92ab2ssrVPhVPMO4FfRjhqoXgfU0dk4uYMQ92K1FkKTgGuE+lZVCttFdvI9nVPTDcpIOT3T8hKJGXkgYW24Bodn2/XwP7J2RXBIMluMKpUYN9gq9CjnGHZTkVnsYi+7P48QSABbyoVVqrDj75QKTAGoZsNKpXdTMKsGr8QNl13tp/6pAc2VdOFHCxUqR+nC3rcDsprZvICNKE6vmV6613twXuIFpjMbrd7Gv8j0u5T0yZctrgAfvftDb26q/zVuvoDtXkvLX3FxBfWUiMOx1b5GZrdl/+D2oFiGNncAJrn9pd2U/Cl+ogcpXnQABiaOWhT3shci7PjFQX/pYURYhEiA+prBADKZQt0wZwheXbRy+PibXHqVanyGg+/MXp/tfwCXLsdMttjHmjOckNNQio9kkS+UFnK1eVjm3hZ0KIsbKChYeD8nQFDrjjGJ9uD92ns8OanFi/wCkhCiFMHkIqmgNt1QlMjPZledcc3t6KkMBJ8ILTh3MXGWN1PbNZclEFnaOtFgpW1TeH+7xKZDizYoAAWvOLnpCvGmonrWVfaV9UNSsM3e9pTman0uadYgTDgpYs5zf5m+7o994y8mQQuoHb0AxiLNE4MH7tGJ0A2LliuQNAFe3oc+Y5wxMuiR/CtdfV+w91AowHO+/SMgVKbmHV6L++LmE6qHbi6msd5Zy0uBmN7jm81aWsS5+Kuxr5lIAChijZaRQjF9gNBKX5SsZMANU2nrXWz/tAAeDXpUaHDuUSj5r+099AqjsjXOx6J7lsniuR6FAC5oq4Hkqxqkt9V2oKNY5BXmoMDkbbrWWNF9xmNgLCmkcMpyxWry1TYmanX/kukPL9k+RoQtmZUTezILTGaF0BqedjxJTbEu7b2Fxx7hodwxQsqNARsAALflhmCbolxKfBNZTm3v8H0tXdjl/1cPnjeBdFTZer1HQEzHY49fbwHJEMhCy9FovK/TUqgBnitd0zaoHnGawz5/jaOPmlWsulnRDPcKxszp67LXzap6Wwn2gNXXNpFSuZQ9O4fzPNrp+Zs1DRZ+k6div5v5jDN8NmcN5JPlMVlkxppZGzU9apsiQw1fAAX3wxMR1X5C8vZdTEFF48DWOJf+LvvBMWwQ5pxPxY+v/oabQ63wkkDfbVYhD+v61YFghIyfbnyKi9W4ibSPTgsmOz7D0Ls+bGknoAoTNj8exd9hKqT/7l4UMpNMULF5wxVoPu2+A4Uyq/eHQPlBgrHS5Wu40uq3e2aTAZeuppZT3xJwbwq2DRa3d586JymQ/C4bM2p00lOsDgRR0bRJ+J/txKQze1HyCYizsPLti5oqFR6v2LJG+/eSJTIXzpS2Px57+dcdmr0jKf/ilwaBsk2H8QnL2gpisR9OFnpTR3p8ZFN00uX4+c76ZPvvdD8LfVKKzvENcNpV0ikdrishufKsQi3Lk0TJsxKRAmdD2AM4dPdtWJxeVNWruKh3kR2rBAITlu9lgtv+cB/3j8cDmy5n0JKfgBrXkwB1kFhAAAJ1XCg4/iQfkQSMmAj+b3JEgr+0vlknptV0ntxBXrA22PCQFyirhFcEQUp/0FGTdqpupnpWyhdFXA8Nb7I1Y26iamFxk7CVPmKq/klFhGXMNy1yzzDZUyyz/M0V2hwJJcGYW74MBsoOinC/9VQENJc6NVrIY1kbUkwVPwI0QUJzprBYW8ce0J4tx8F4q7mufY7n5FCXx7fgqqC3tfm72xf20qT/90nEAgduBmAWPD2DVT9zJVmEHUJe4Lz9MdOZG43gHB+ko0KWAD6sntPZhSLoQPwV3YfQCdxUkU+z/xCsa6jxRXElfieE8xzMB/NWiVnPlb0Yv+KaJ5OHsBlBF0DTvv6iTuj3Kv9p5/MIrpIpZbLN0gl+uf8ABLbhsZvz4AKmAKqEAAAD/QZokbEN//oywADpNt2wDQAUNRbxPhAB8HqA5x6RtTyNQhaJZCCp4IQeLFHBEKhXXe5vdx0HTLkd4z/z2GFmRV5LOanrPAdgcr3apzDuxDl+iJdcC7kPN4cK8ZGbnc6PKwMvGrXFjv3hgBho3fXiXd+0zK4qY3gVgnuWeWeuGYl1Lq1e3V4kntFnMjfmEvFw4Q77fQH1mZ84zVRN2G+b3WZimsYqEuhrC0+VtA4oeE8wKHfeQVHURKpt8unSD9v02UUS+XBCzSpFuABEnZIH+tVLs0YRxSuB01Qz1NA9qyHyO6sawKJ9j4dfShPxmBqddMFMXpY2ggwTFQS/O/K78AAAAT0GeQniFfwAS164AAIAmQZogXcNvHGw0zZ/RUYVfAdhHjzub55lfjwgBNF/oCYgwQ8aiMQL65IcOa1HJTvRTrTN41DJgNM0oQXGDCluwD58AAAArAZ5hdEJ/AE+7WWqAAT7KYSaolYgpi67rFWRwcmWTeCO+8YKDprPrn5w03AAAAD0BnmNqQn8AT8e9QAAzeREZ8CUdVMkz+wREp/nWYCP73Sas0xyABATZT6uJNfDpDZLMKJ1ANR6oIWmEdWgZAAAAtkGaZ0moQWiZTAhv//6MsAAAAwABKFG1L6FPZAY4wAhSpLbZnOPq2L7Y02h0reZw/YugZIYC4TOyqbC2rcx4VdZ3qd9ScFWnjZM1LtTU8Nq3mTOtUWp3D21/a0UySBOpm4Ts7Uq74qFsjaNCm+p3HwICnLSqF72UuDDdqB4PGB/Xt+ahdd4f/Q95my25C4Aavs7qHI9izEaLv018HC3dJENb8MqsMpr8FvZQ/xXP1Kb2zF6eEBnxAAAARkGehUURLCv/AAADAABeTdPf+iv7jezM32lyjHcqm1At6Po3IL3IYk02r3iTVRpN9GAB6NfUA56IEfXWd3t6RnCY+ljThq0AAABBAZ6makJ/AAADAACWx6AY6qo15EUqE/udz01Er/lGwYjCumf393ABB2VfOXDmNGbZu+zwGrZkKsPFP3Q3x6IPLMUAAAEBQZqrSahBbJlMCG///oywAAADAAEoD1mwA44P8+axGYSFRz3s5z3hjEA/i9US/HtqkTz9Lawh3T0hovRG1efUs7/fzh4rfsi9vsClm6SOn/CR0zXb9fCDj/6cVJAMigTe/d0Hw7mVEupY+KYl+NsNs6N8w+QB7XYls/gWU+Bsf0/EAX+ezvKeqg9VAi1TV98ioT+QeUUEuYaTSKOMeLxN0kq/i4U+GSHNH2O48c4nVBxP3WN/9JcpSSFi8sA8fTdIMYFJBnPaRa0Bi8S8sggjPYKX1m+98sH0SluUW6YMI0i9SuFaR7qD85mTo8be+s+OQ7ypi2dhb41u2VPzsO3heWoAAABQQZ7JRRUsK/8AAAMAAFq0oHZjnONDnbopQdgso00yooV0i6H3Ji5pHKhEAH6SOzT4hat512b5B2fg+0BpqO+qWTHee0yzbuov/0OKHi8wGcAAAABBAZ7odEJ/AAADAACXAZiGickYtNTAAtm69w9HwQ0b+KD6cCfjcperzSFfZo4GNZ/ZI/Vuqo/LzaUZTfcem7EeAXsAAAAoAZ7qakJ/AAADAACW9lazELViXLG0hdXyRPayj1oHlPLlwh0uZKYbUAAAAQVBmu9JqEFsmUwIb//+jLAAAAMAASigwe4AW3LB5HTJCK3ZNh2m4ELfzZwWJXJO3vWCCpEIAa0G4OHcKbG+GKkWIGMnvhnXgvnNRvyinF/+xearllytm2sgldTOMRmUmvWmP7iTsEevVTKzoFUxpUaA5KbLjJhb97rBqppN6MvxrmZ8iEzgwneYr+3omgqpfPD9cj5m2Yyw+6psWtg6UaXjTkMhlTvoLEdx9bT84xoWa3NR8aR7sBzKjn86l0FUaNtV7FdH9lJtMXk6+ttwkKfhscfZqE0tPC4jZsZ0nYT+3pgH8HQASgcpS2ye0CKQoBPHmKLpus/TVpNKkSRlPqY+73Q+TuwAAABiQZ8NRRUsK/8AAAMAAF8XmbW7OWs4OTnFRxvGr/txslbzVO/CLK1k/M4GX5kFna2OxPAB+tuPjygMt4ohHQTmvxqpmf+DGomyU8y4pwzxZGBgh4I2tPx9nhGvb15QW+A2ApMAAABAAZ8sdEJ/AAADAACWoY9hONCbuN7k5/OWym0udOouABsSL/ndA1vXTYhNEQ9f+7j7NVU0NEJgzL8m18mOirZ1PwAAADwBny5qQn8AAAMAAJau9/iYQ9oPgfeEekBzsQKinmJO9tZn/u0sYaSlUpQawU4zu2huS/OFVGhDAfJLN9cAAACyQZsxSahBbJlMFEw3//6MsAAAAwABKem9Nd9SkuWjyzAUZgH+cHHb+/44o8qZTT7Bd7gwKjdRD8hSj2W5XskDTHLZOTnBgzHb7lehGpkOgwt/qOJ/xcO9PlzGIg1xno1y14MgLojI04jQgYsHXc0kFvrS3y902tsn+kkpptZDWxY/6bCM+9Svc5utZlxJcaSMmtgB3wyMs0PDqVCxQ26Wrzy23H8lIX8wip1lj+ToOWweOAAAADIBn1BqQn8AAAMAAJbHMN7zbYnqKtNwYo22bJupx98G4+N4ADYl0BeCO2/rDA0bv/AdMgAAAPNBm1RJ4QpSZTAhv/6MsAAAAwABOAPUaYgBCPRYPgYMNZwfyQJEcrbMhnt7WS73YI5c9ZGEis0r8eo6aUPlp5wmJc1l3a1Jjz05ouTH627XqMaQ9l/sCbRJjEAWyHiIGNGlSddnmt0JGPxyvGuhmhSb9TcBMi7q3X9Up9V4OZpb+QmFNAt2+osaWKQHOFXfudGO9beHHoeVkQ6SHkKxLRGVfD7dqJ6Jzo8I3tkwCYtCmatwz/7CzpoHXTr8hNJiKvt/J6kAmDDutB6Nt7+dsbeQ/ulobHNJ4FLE9Lf4j1oe9SFNZzsgOWbG4eqtx4G+nHttwqEAAAAyQZ9yRTRMK/8AAAMAAGSmDwLLH6Q/zQADW9LPaRPg8bQAS+msmgPQK6oDazfSZCPggUAAAAAxAZ+TakJ/AAADAACfZhILDtmovE3vQt32xANw0+8MdaCCL94glK8ACAMsMKVZznq/wAAAANhBm5hJqEFomUwIb//+jLAAAAMAATgFFGmIAFszVme0IPiHb8bgzDJI/MYD3ue3ssnZsuXwYGVH2Oh/W3kGEr3yj/rqcc0FAHeOYjMlZhunbjFF/Z7SEYwibXWdN5wPQgjldKMT5zKZIZ1gVaf2OuJoH6VkbTRzfKKNtiBFEu8SXAIed7AWxf3cQH35Rka0qe823RlxlPj9XaLmYW57mt53LzSpZ5GO2dSItlT1Xnpjh/fzqqmxbWOQ5JNvEPszdunJISUwA2IT6Ena/IA9dlrL1HSlfkwXQCkAAABBQZ+2RREsK/8AAAMAAGShjK/bs05dpFrWJzMGniW1gBkAITURgkJWneDWMPPV6UNM8TZVa9HEVr1RrfYeFbvPFIAAAAAuAZ/VdEJ/AAADAACfAWDnV0xmXiC197cbaCRg2iACBzTVcDLZboAQbBS/UOxhuQAAACsBn9dqQn8AAAMAAJ8VTac6uzD/AAXyQbGWVwSvVlrA4JBwDcb4Zyuck3W/AAAAXUGb3EmoQWyZTAhv//6MsAAAAwABOEasLhbwBiJwA1z8wB2gEfGmfX4mCuWDHxEaysqqB+JFvwC3mxaLdBtIyXLAApu0atfFfeaantAh1A/4cURhHkIAfdSU+W5hgAAAACRBn/pFFSwr/wAAAwAAZKYG6rKpz8M9jUjnUj4yoAbWh3YM70MAAAApAZ4ZdEJ/AAADAAA6mSu2bMol2AAvroqBt2uBSkRMOfG3DOLKqmJx+LgAAAApAZ4bakJ/AAADAACfXv2YMSDeYTEU2ABc+dQTrs6zdLAEy6rXIc6FChcAAACCQZoASahBbJlMCG///oywAAADAAE4A9rO7nKiuJ/SX3UGbgUBJB73F4wUAIbH4Z5cpq3cGRNDT7yLRG7C8vT/3GWFIVMfgfOO53AcoxmqL0dJsmsnQMRkj/8PkiNU2oB9O+l0likSGt+usNcPDG4nOTeefvXSQ0G94T9lnk32vYA4cQAAACZBnj5FFSwr/wAAAwAAZH99Pv/A9wyHTnQH2SQwSiYHpTF6FYR29AAAAC8Bnl10Qn8AAAMAAJ8Lfb5AAuCPcSLTYNr3eKkXH4lAY3HPo51nnwIsJ//CJaFQoAAAAB8Bnl9qQn8AAAMAAJ8Uf4ar5pvPKpS2+Z5oP+grrW35AAAA20GaREmoQWyZTAhv//6MsAAAAwABOem9Oc0Li6SyhFpwfWzMRvYwAs3j5s+KEKWcTzN5NUq7Cnsv2hIcpobCkhD23FLO0VMwcZwyA4ivH1iAFTD0cU3F3IatVDbTLvSAwal2aXf3TCXRghUyoayjXDpB3ncS1zQBjDpxSQIlBFy1bD5cQqIh+XDszTUBYrLdZnEMxm87iITU/qJLIC3Al3OWzI7HlqEdH9m+bIefJcxfd8/OyvBNcIN4CBGULP6CSKEer5G450+37kIMU1aqWwzYDt0kfq4Cr5/yoAAAAFZBnmJFFSwr/wAAAwAAZIms2UxTnH11LsIe5yKb1je0+xQB0ALB5C/dFlzo9FMonle3RiFGlNlSrp/4xt16Yg4NqaZEqaSIieHD744M0EUt0idzHnGu7wAAAC4BnoF0Qn8AAAMAAJ8KTUk4mzQe/BbXHz45mzq/UfTFTaMGegAQiaBjPRIcwt6fAAAAKAGeg2pCfwAAAwAAO22RJe1y5RHZ6yOcACbutVNdDZNB/hkQ99+kzIEAAAEZQZqHSahBbJlMCG///oywAAADAAEoHuQnzvsBBCzFbO/XvFdyZXF3PVd3gg9maSaIxwDKvsXSj0ErCigVv2+pXQzP6aKJ2zcCAaDW7LYGbG9mnzXrcxQyhdyayoF/hbHvvrhSg3sMx59VgQ6YOPV7AUu2m3f7/KFvY8MXR99ZOAmn4RfwEBE4k06+UmWqs0/9bgGicdH/rG9+Gylv/D9Qc0MCi/OhmYlad5UNW9HpjDW9Qhuc7G50psQbOlZJ/fE9A7ZM6WeSXyjV3f/tYr370cGrLMjIDTQgWu2ZhDgdZGXaBP4apoCDUf5UW9j2d+tjMznsgn1YV2QMMzSgX6Aq7wWNPrHtfeOq57y69coqW7qmC1x9wEPta8EAAABaQZ6lRRUsK/8AAAMAAF99JgwfTIZiXdTLL7d9I80hsAIFXK9DGgHS4z66l5hWTftStF3GjkkuqL2bcACgd6CshbebBx0u95sAsJkezhuUy38zase7IpXOj1LTAAAANwGexmpCfwAAAwAAmx9dvAKXKS+ZpZ8JN1SsI29gTjYuwnF6iyABCW+LJZSJx7ttg0FpG5L9aW8AAAD7QZrLSahBbJlMCG///oywAAADAAEo5PWpAEKtVr9srfHC59dDOjB++73OhoHS7PvJB/CCdW0isFOxoYSiQb5E9UvEvJSN6T1vJHKP2Y8JfB0DwpcNTH4qhcgfm6XYmIDkKzulQZ7T0PG2DLiAxnPxpnd4H6GAFdnsLG8hjvUQkIZV2ZlZnCrYjf4vSyjK7F5G296toEUSbl6GMmoRva8kKGzklkcQYyH3hpL0OyWtjVAxBmFcYbqcK/9E53gW1cnnz85qMd2UwUjVsJRzDboC32qcazxVmHNvsJD2npRoAwRSZWj+r3FL7l1lnINGNI7kaW4bqMyqImFufIAAAABPQZ7pRRUsK/8AAAMAAGIvkDqMtAFbwa2qKfJKypl3oe9rrKaetQvhFSsg3wAbzC2NsjNyMoY3fy7MacPVZSRRRyy/hzpko71MUU+XOYrfdAAAACcBnwh0Qn8AAAMAAJalZdEvvpffAXpJ6JBjvk9IIWAAnXQMj3aoBGEAAAAwAZ8KakJ/AAADAACbHvR0xUGRNcw2JHo727lN+R8RLZjE9bx7JunDwAfyFWcI0opAAAAAX0GbDkmoQWyZTAhv//6MsAAAAwABKAvZY2OTKgBf+Yqd2ADg8B+7q7HTySBMjDKmjtMiKFwIH3ZAynXo1qssjhCayTieT2H87pLf5nHNmcxplE0cEnGv5+bSNAWvfs9wAAAAHkGfLEUVLCv/AAADAABfpohcBpeFcqCG9jmo0YPbNwAAABwBn01qQn8AAAMAAJL8ELgM1Lx310HnkcVik6fhAAAAekGbUkmoQWyZTAhv//6MsAAAAwABKBHrApZ/JunKBEAdFdw4365LRTCmokzMOVuS9MWdxfKRHqbGQ3VZ4yj+NJxw+h6SV06l3+z51n2LRysB/X++IujJeJ8BpHhybciQMJ3tGI5CJkZCbzDtVh9CTzFk4auAIzQXRGZpAAAAPUGfcEUVLCv/AAADAABfphumQvv+yGvpAAh+DywS1xtLGMu5r9DfIrCQ+x5kj6cPZFXmHCYfcTvov4WYIUAAAAAkAZ+PdEJ/AAADAACZLRzyc0mv00aG8SQAgSeqQkp/lxFPFzdwAAAAJQGfkWpCfwAAAwAAmS0XgmHJw2l4o/JQuiyAEHuZU5+9tHDBrGEAAAAnQZuWSahBbJlMCG///oywAAADAAEoRwLyFKSfPAGjtYy0ZMPJnlnAAAAAMEGftEUVLCv/AAADAABfpezfvnfklBSlEAHwcZ+roYhl9Ci2VlEzQ2gn8SMoP2oZnAAAABYBn9N0Qn8AAAMAADX4VvTAv3ibbT8hAAAAHAGf1WpCfwAAAwAAlsjyXfQMd+HFTrz/8oujxaAAAAC1QZvaSahBbJlMCG///oywAAADAAEo5+++WMAE6mz9wjrBl89ao4BMeYrahE/qiNkW+LhLEzSti9S1IVSOFfa6DiPfzoFKQJ3Ff6elusKELDbwQLm+qAfkNMOwwKNUeRogen5lgcDwsyfBkjvNlcIHYSEMs9TfdDXahhSPfdlzNr73tQW0mePXVHlycBLdd0AjHljFWoQtfHz9YSviTQ/NGeQ4qEwfNDvHoUbtOYNhHes2Q/5aqQAAAD9Bn/hFFSwr/wAAAwAAX6K37qoZXi0vEyMDLQLuQHFiFA3T2gAS2g5t3ReFfabUe/tnr3ZbzzQvr5t9HvFvIiEAAAAgAZ4XdEJ/AAADAACOp6yEowzM7GJSc15fALjuXdKdoiQAAAA5AZ4ZakJ/AAADAACSuDPQs8ZltfYsAB2QCn+4iQXJ6oMnk6J6pFxUJA9idKdMmLpKo7yQSA2gCIZBAAAAwUGaHUmoQWyZTAhv//6MsAAAAwABKE/bIAI6qFm1ZTR4eE34HNfVzaUiLjrPq8tPE6Xd7xRdFGKnj4LIdXwlkyJXBWSIs31zC3HbUf+kPffcj+tmi5a38l2XK+uxgWQsiAoC6ZWD2zCzu65xzW0Cff48nHDVoyqTBQfwiSh8RZl4OTSV2AccwmRIUUZ4gW1PUWSIfTQPfaNvV1a2iSTJ3AD6uXG8cNQh0xL8R1zYCctogvutW0y0jANarBYv14Sy+PwAAABJQZ47RRUsK/8AAAMAAF9/sHqBtTA2plyWAVR2HnqiouzMAGzN1T84lVuW+V2vxXtDUlrmg73r8zZ78eWSZN0rIl6r04U2/8OUgQAAACoBnlxqQn8AAAMAAJK5eacIq29nSdOCUkMqkEKANIigAbTtxP5m61ndvQsAAACyQZpBSahBbJlMCG///oywAAADAAEp+Jyc7KUA6cIZBQDU+fUHNZq2e6AaBQJuxADS+wOsl6EfZKAw1U1Evj4UEl4gpZxJRgJqBS8Wke1io7grSUU+DM0PIm7P8lNV16HP8449v3y5pOLIxFWRkZ/I7+7QkFsW7UUgYVsV+jH7bMMNkEWr0R/c1eiHeEYkux+0omkcvU4ixxNLlgrt92Ki/OADORyCNNALIATDQvSZ67bvzgAAAFFBnn9FFSwr/wAAAwAAX4mtIgcsn+d6flt2Md6Lck4XhJGM8bBABHyDUHnxL1z0RiwFYSxWbUyn9sTO/5RswPZD5g9piXTckuWmcIrb2xNmK2AAAAAfAZ6edEJ/AAADAACW6xnCuBMGDUQ0mOP2gh9ecB/syQAAAB4BnoBqQn8AAAMAADtvz+JyFUv1nq/Pp5WsqIB4bRAAAACFQZqFSahBbJlMCG///oywAAADAAB0eE1nRlw0jNaw2ZSAC0DdBDXS7cdUcBOMelNEVLvGP+rk7blD5QIRmsjGSHoy9o96uJ2QFtB64FKbZXvFEwNacAVdkoFJ+1vAy4spCkuG75H4C9jsDcjpLJlYQi1Vg3bmVMmW7u2RXz4rcmr7BbqJwQAAAEJBnqNFFSwr/wAAAwAAJa1AcT1jBXwTWujDtwxoAZdtHG1mBWHMhRds39xnjUana8aqpmkxKNBDc0RBTFEo3C9vBtIAAAAhAZ7CdEJ/AAADAAA7Tf34ABjtAni36Qy3YajBCnOBnxjpAAAAGQGexGpCfwAAAwAAO2/SmlS5VocUQ5bFr+EAAADfQZrISahBbJlMCG///oywAAADAAE4QwI9O4BqrhfzeZHXrIcetzS1pu/8vGF1yO5WPuhe8b8iy5IDhXYpAkx1FHgo9usS99fHqlEUN1V+PpTCP1/Cb9GbODYbX+lPRlLkCG0qgFUEnAWQ2lFUNrZBKWFtjSggbzaGOpgHsSUUDBs/wzrbOO8yPR8hlT1uM2PAOS6b0hM1nPwBmHtqlGdbdjCqJq7B28sMw6XjKL326F6MBM+YgcpOlyYaKS5bYE9G8IWgsXhWdv3BO4YZZKZHoebtazIn02msjQZ/zYyyswAAADlBnuZFFSwr/wAAAwAAZKVq9ipEAUT8YOiMi4Tw3RE9pg2dWIDKvmAAt3ArvbKIjTQnmtxR9tu9PHkAAAAcAZ8HakJ/AAADAACfZhILABiuqj92U0oHUkBicAAAAIlBmwxJqEFsmUwIb//+jLAAAAMAATgDss6jOTsgoEvgf5AC1dG4J+E5lOGjBIylXgFkzOKqNTX+mnCIW2pJMMoI/Bwc2HgJTla7E+ZKgjjHwEENc39elof0Pj5zVPI3PlywZLO1dOtI7dUpfoo5QixmeBedUUtq97OaapPZIHatVDsw5JBrB78wRAAAADJBnypFFSwr/wAAAwAAZIImQ0aJxwRsHzk9da0WvDYmKAD5jwY5LvCzcK0fqP5vHjPCgQAAACEBn0l0Qn8AAAMAAJ9tZyA8xyJMDY9Yjt5ctPcrG1iF55gAAAAZAZ9LakJ/AAADAACfZpqkkXndaM+5EzejsAAAAQVBm1BJqEFsmUwIb//+jLAAAAMAATiQ5Guy+lPEANsEKOhvmupKeCLrawRuFj8Xqde0dMc9wu4ZgQKaGUowkAkW2S+2PW+F9bImGrmCgMkWDao+ZmVRLdAJMQFThK2lXE1neOuMdU2zFBqYWYnebCOX+az+N1/nYZrikRCpfnPrzR4aLnmhdP60vjCMc4OYJisUOs+7is4kiSIgBv3ZAaH33C5fuTewAXzPB2GVpJQAzU+0ttTxWJh+3dLwxlErjBI1kfg8lB382YvIf55uSocNgA4Q98uf+xHt0R7pnxJDLMwTxFgHUvB+I6pXrJ9a+ouT/md5FeLaTLyd7P0SHmCbpu1qx48AAABWQZ9uRRUsK/8AAAMAAGRou2ShlRuqJLbpPOW2FbENYBMqRc8D00FX+Y3ZkARGpyPvQM9BFq0YOp9qmGJlRi0Wb0U4/zu1GPplsrih7eW70DK0+GI45X0AAABBAZ+NdEJ/AAADAACfAWA4rBKnXRaB7BMWWrHU4/1EAENZ6nfFp90ZH/FmfrXoqSufHyzC3H1FWQ9IrZsSvOWybcEAAAAjAZ+PakJ/AAADAACfXqOVUD1icBk05dk69YM0C9P1TR5QQcAAAACpQZuUSahBbJlMCG///oywAAADAAE4kSecL8nKy6zUAJT97+EANNIZeExJxEnLGtGXJETQVCvVC3PLBePLL2Wuk0k9Hg2boG07SJmXwRM2UE7tFymG4mMyZufT/Z4kSgXyTTtfzXqV4j3VItgwPJT3J5m7Yt7Jqe5Z0IiMStZoIWrTFN14TXsDBjExdtLfWxdA+e14Z0289NNtinTTl0Ei//kZ/mljbuphwAAAAERBn7JFFSwr/wAAAwAAZKFY75piEdRGERi8JFEAHhSpIsWJP2M2iLxwiY0jtS2hgr31RNfCoybgqj6sVXNspYdw85RFgQAAACIBn9F0Qn8AAAMAAJ9scfYmhEfEDCN2CDig87lbBsWWwNJAAAAANQGf02pCfwAAAwAAn2X2HmV10sRqtwAF8ySqXlWsuk1fsMp5b9x8T2GTPKTRVqNsDTXxnVspAAAAH0Gb10moQWyZTAhv//6MsAAAAwAAbTeds3GS8Rhu50EAAABAQZ/1RRUsK/8AAAMAAF+3gWPgf0RIxk+oAJdDmsLlET+MyMxSS8DXgawXuYsuGy5JElrqJoD7GhThOaXhlhnf4AAAABkBnhZqQn8AAAMAAJb8f3B7yTy2wjHdqNAfAAAAqEGaG0moQWyZTAhv//6MsAAAAwABOAWi4LLABfFTgRIUw7jjqpDdXS9fYD7Af1EGbNnmZGmRbhch+AMVRXcIU0rA1xgaiVRFYxQi2Jf6a+2xjV9VRRzo7e9HneIf8cRATLdrO19iJyeM1Bq1jC1E7d5eiShiJIrbZXEpQy+b8oBOiblTkbKEEB6uql2k5m89Qm3AFVOCVKp2fB28JN9bvHVKEbHHXeS5LQAAAGRBnjlFFSwr/wAAAwAAZFxVEnexCw+Qt0oiB7lgbQ4+x2YANvk+5nH/zsAE5pIq+4n4d6g8ZifeW/OkmOzi27Ug3Xriln5ZfJLkCC/vz0eKlpmLAZT/iGRbA1BnCSNCS2mNGInqAAAAMwGeWHRCfwAAAwAAnwDkzEQu0dXBNsDAAOcCOHkPfqi29x4c/VkP1CDzKo/YuRr6eMmgoQAAADkBnlpqQn8AAAMAAJ8I5kFe10seJdzSu5saPQ9nVoAA2KbX02gMniqstqXMDG+ObhQupmoeOKZgEaQAAADgQZpfSahBbJlMCG///oywAAADAAE5+JxH7RZ1QpJ/+BSgq4AFoG4uHCPYejoj2hgOPEb3VEVxNC99pOXKbUtWwyWokPtuZqVwvy1ePUNTTo0eWZH1u84f4hF3cc5c/PyAHLLc1Z/TqkYhgmYYD/+vlz0uL/96Pke2m5upE/mCDNYXmm606gnnb7t3jnO6OQPfA78pv/uVNYBiG0LVoCwASXnc0f4zW6DQ7xZ6VGchXpOB5gc3FKy0ot4l3P3bivXLEWJjIk+F4uyLQBqsEfiQ6QxCrtHSW0Z8TjFBX9h7X/EAAABuQZ59RRUsK/8AAAMAAGShnFBHhuKvK1kKKThstPJiajgAPfjtK3TfnALI5VzEsbdYfMvpQlr9GUIn0YXaAK/8Vja8WdLUN9fsRssrSgj/HsEbtvuMtkcb6s0CyE38/bammRr/x8xTd8/ap6xKPIEAAAA6AZ6cdEJ/AAADAACe/j45kgSRuR9bQ9cp+FC3244qIAIWwPRHCcD9FAR+INCTD5FTjaPa8csJJFOMfAAAAEUBnp5qQn8AAAMAAJ1EF5K40RoudepUCLiALqEomz3y1F1n15er6d+CAA99k0PgmfkfVEL/9cNNxhyVNIRqwz0njNBnRdwAAADuQZqDSahBbJlMCGf//jhAAAADAAR2sJSCAaB+XZGTS4VXjbH9E8mTU6SYYsrs1dM9teunUYkcD1SoYDHdo9E2ea5JWUAGpbluQcxBOegG0Gx4ZiCuQ/bsPUC7f1BnPn+s+9aom8iRtdp8XphWvG7q/+pv+DIfNP22yHNPLl6V8TU0ve5V7wVzE2w7kXmwug0hPrjGnD3b1/ofVOrLiy01l0VBrOHcwA56Ou5UjWugp/hk78lmI+9KKu2+5Y+CyPIN9VYuPB/UcpoKNwQxPaiS/pXbIGG2QjKrguZDVRYpc7NyTpVOMVza59BLv+LN3wAAAHNBnqFFFSwr/wAAAwAAY372ZvNToG8bocT/QjyfdBr4ieq/kaEAH6gczRwwSMyp0VKRZcfu1ZNIEmBOOOKRvuiBQX9sLGV6Hx+m1fc4G3KNtLO354QWsRcJPdy5dwg3LnJAQ80r9B8yCDdv08c4EKCQinaAAAAAOwGewHRCfwAAAwAAnwrikEd4LiQKnwHe7aT7bMhdQAIEGs1mMBDC9MsiDyx7LEZ/qdqGHEnEzjvNtjDTAAAASwGewmpCfwAAAwAAn2Y+Cj9/UoUohaWch6syeGQ5XfJ9sAAEIIo0CBdcz/zJeZK2VuUsmWPctD7b2nFQfiCuTc09xP23uZkqiYSSgAAAAKlBmsRJqEFsmUwIZ//+OEAAAAMBxIjzQBa/U+IhepYg2AVoWPOa8qjm8pwInvknWvGOdm7bVoHqx6nXrwzrI3U11WUfIkcKw6UZUSC7YdOhaVDSb7ATuoteooNP023qikQZAWwjFcfRL82t7v0AYgssnPHzUIvn/U3BGdqTkSeUfw8tGDVeuzQrEEDURRr/aOLZsFF+N3DKwbh2D7Q9OjEUMO8PN20S4y4hAAAA50Ga5knhClJlMFFSwz/+OEAAAAMABHQLHYKDcI75IIuGnQnA0dR1Mh9wzBneCPh6t7cf+G6qU1s0fuzLhP52uJzLWUOVlvAsCFT3XdOJCSU0LPtwSKfm5wI4ffNOPa0RgLhhbhUuKr3tbYN1yFyLjbzP+1B+8VTbdKWHj60XP9ReFGcyD5I+/6QbjEdi9TS9iIFIhaa7nDIxgEfcQMks4+OiTxMmmbHWkcU+7ikpJjabg+uLCbCJee18KcWxYEYl+XvpCfnMq9reSo0I5worYpNowEGy+N+Ius0v4oFSkA2fCg/79WLGrQAAAFwBnwVqQn8AAAMAAJaOow3aEcQQIw8IlnjFmU+oIEly9/CWmtlW5uvQZX8TcwAEwfhJOlRSY/Ntl2RzI4WpSz3xo5+ee/F8LkNK7KzUafO+C5qxxJ/IE9WVl7KeYQAAALlBmwdJ4Q6JlMCG//6MsAAAAwABKAVo1CHsovkFcAEV78RL126rYsgJYLEcZiOYTUQlW3eFWp6FXRuOby1Ly0UaMN5XuTql/vfAu/gvzvFd6YT6TN2miRNtGqXs7VK7/C/8wrelxMTlXXyZFwLOHFpNwoRti9Scg9e5QWw5eAYPqpx1Vv6i3a5T52F7X9qid5XPaOxORbEOYUpgKv1dRjr01DxVNeoGHnUDXV0bVPHDP7SvVe4HdXAVgQAAAOJBmypJ4Q8mUwIb//6MsAAAAwABKERlzAIuQAWurTB/Iz89AYDbqNzO44UZ3+X40yiMF07ZXzuI76wupjBkg/iC4XEq+cddM1rb631oro21NqHUM8aQmXpk/ZKkvzDObEd7bZf8GPAUeYqIErkYMkoN1YMo99AqrqiSqd7bKtSRehbbfIMyK+KoNjyOaHY333uQL9tZl/BKbeC0es+gBlbfbxSCUcEqcZBjrF8fMTHSv7aobTxmCCVhiH5aLiKzK+PpHUHC0zZkRPnwBFqZp1frGPT/Jz/08+ETAdNDPUdAfFmyAAAAT0GfSEURPCv/AAADAABffMcmR7r8uBc5GETEJG1H7Dl+VYwf3HzUtqjlc4PD43t2TAYfSb45hWFGAlXjnIijcV+fDyvpSNGkG6IvbnEezLAAAABKAZ9pakJ/AAADAACW9c4pJKpyKvkwGSxLvu9JaPJ95dePn+ACHfGq17QHeCSgyGAnfl8IrMCM0oYwg+7xwdwjCxvSxZXL9va/SJkAAADmQZttSahBaJlMCG///oywAAADAAEoQqS/dBYmo0ALcMP9anf972vposB2n59lCgPGOIsesE26ZyOuJRtR+gzLphY0CQSXaHChQrhssmpcWhEG+FcScDWGVpQ9njS9g/irgbITu9F7uH1WOBp9jKKPPYyJNhePxG4nLHXxhzutIIPaClmZItET01GyHQh0KlCswacKbHSBWSFDXwS94JmbMIpkxaxMRnLEsup+9ZZW+0A6JsUz5Oa4IEzTJD+Y1o09FbbMo3pw2/Ag8XvEnB/bVFpfVqumOJn9dC7Q/+n97y+2ZJI3fIwAAABRQZ+LRREsK/8AAAMAAF990AhPQ+RRTYNMoRGZjDOEYAP2gIpDSxZmknZG/UDMPjyNjbp1diJa0yc5rKO3IBbsV6xcrhBlWcWCloyPhmlWgQVAAAAAOAGfrGpCfwAAAwAAlvJzR90sn9q19ZJRa09I3a/Cq61Gv0hZAs0rgX6ABBxQi0HyhnFfWmhNWrrtAAAA8EGbsUmoQWyZTAhv//6MsAAAAwAC3MKc4pEAILlbvYWhB1bnM1jR4qjeHCEgThk51t5Wf043KBapUplaUgbzcDmHn8SuRhpoSgWn2vCQaZN/L8n29iYfCtwhpOvcHKFU2rK1USNZfTQv1Kfojx7HI5hgKi7hinvFC2RrLTID5dhwlvpBvKH/6BFTonFOLjCsNBUZe5eHjOe66ez/iZob7xoqmE+vB6o3UjDDIMrAevcxDGPKUYJxr32isztEeOmjj/vmAn/ZUTwnUz0SnpKiFUL0fCvi/AuVEkviUb9jBRxfY1aRZYo7K7AJX0QD3bCXzwAAAE5Bn89FFSwr/wAAAwAA6G5EAAiKNn6SQaQ5knZRktoQn9TPgfKyDS9JSn+GACcUXZ/4fSgeW+S1y5AXATEQHjJhE3AjQTNpQ9MDR9hT0U0AAABAAZ/udEJ/AAADAACWr9LVbj8QZQIGRzXro16d5Ma+ablZV86+qACX886m9DHUqBTc5pOmdSZLOz9UQGKz5nwqwAAAAD4Bn/BqQn8AAAMAAXTNd1YEy9sNMDi3dCBCAC8SMaMgERGGsxaOunb/WKXSxjWuWGGcdspblwLLYE3eS410iwAAAI5Bm/VJqEFsmUwIb//+jLAAAAMAAQ/KfhQ3RFACu+vf3F1UsuPtpYrVrM/+HBNPXjki4PXT9yArnFqPy7Q+CLJTHVDNfWTrrDQRVUL/qy8e9cIwZd8DeyJU2MJUnnNHUdtjDn3WEQ5+MNDR4omLAIuFJh9oh8waswqPOskSR7Rd89LktRXW6ukwOasJS9XXAAAASEGeE0UVLCv/AAADAADn7a2AodNe/YLa4XUZ8P9VNi3qku/LvgA2prLAF22aap1JRaS37lv8rJ44kstX0tpMCq1G9+ipPUEGYgAAACkBnjJ0Qn8AAAMAAXQXPP2OIHfPV0Ov0CwAOFLZHZrLRuTkspNiX8ubWAAAACYBnjRqQn8AAAMAAXTNdpezOuKeaGznWnAANtLZHZrRNnApZCDipwAAAHNBmjlJqEFsmUwIb//+jLAAAAMAAt/MuYwv0PKc99uc3szrSjWdTCLQAsu+zFhBY2sz6zJ1ngZYtKLVs418d5kOkZhgkeMYYIGRmkxCyw134H6VgNPtB1jVG2jW5TPKQyItHqym1IKs6QrLWV78I8nezEr0AAAAIEGeV0UVLCv/AAADAADlLvdtNwCuMsf3bfYSkt8Uq/ThAAAAFQGednRCfwAAAwAAiq/hsBOVM0m/swAAADMBnnhqQn8AAAMAAXRQLibZLmd9FRaep61ajneixDEO0gAeKd3dkSdxYx3K3wFACmNVQ4AAAABlQZp9SahBbJlMCG///oywAAADAAEgCAkyW8wnqwvFTUzBDgAJOTJm8lPwpfh99/8PNj3s1bhxxKqgiNdbrSY+uChWfJ5gG78xnfrROqPQONAs9bL/2GaENyfsMdmMcQ+Qze8bwsEAAABOQZ6bRRUsK/8AAAMAAF0NHtuza7lxjNVHG+90gyd74ZrAAm7FPnd2ddbYB1hpuRaJZFBblWN+ND3tjUUaLmGbxZFDQtmA1A9jYPwheof8AAAAHQGeunRCfwAAAwAAkwJndx7HSUDAbAeHpjPFu9fBAAAALgGevGpCfwAAAwAAkmYjYC1Rtt4w+AACZXrPcjGjbSkehKn3vYgWyvUP95CEjgMAAADGQZqhSahBbJlMCG///oywAAADAAEoD1mwKn1KEyc54xTnT4Jr8UiixhmOVCnX/kvN76kfzyGz35IufBfjiClx+4VbL9qOnzd99eF+8ffgvlttL4RI1ioIEUcLS3KxevEoKFjFOssiokq3EwOna9Kbgj1N5Ihxzu0QFvctCv0+QCiqSaFtd3mO6Hd2SmHstPsaTdiSsP+l++4wi7E9xTB0+g27JwOf5e0vhE/GeRJIU7ktu8B8ZUIbzwBFRxU7kwfqdL/EzUKAAAAASkGe30UVLCv/AAADAABfpd4G18Vqgter6iezg44cFyclCwJrULgAPce5rVsvgEdXyUL9jIfcBOfICSvQ4ZZeJ5Wq+2fHThvawxEwAAAAPwGe/nRCfwAAAwAAko2QhA8gbl+xfW1zdq2SA4ACAto4GUGtYRInGkdXGGdOdvQkPE5PVAB2dlBIh6IajtjPjQAAAC8BnuBqQn8AAAMAAJa6CFqldppTQUSt5IIKd3A8CymFaqEt9UAJq1E2JD4gmZb6uwAAAL9BmuNJqEFsmUwUTDf//oywAAADAAEoElG/LKKW94BrQU4IG52ql/0Xih9kYqLgHbHUqrqmUlWcoK9Rw/feKWtRaasb0vs1cyqhtMH6sNByKx6AMS8X2OndDTdWF4v+RqRIBDZsIqf4wRh5Ql3/CK2FV8kQJwIbke7FEt5B3tiGCK2f1aETf2jXiFCSJulbyKvP5LvM//gc6nooICv0En5jyaiy/yEAD2mBZkRVHWQY+HcF7ipEm8mMSZ+TVYphmQAAAEgBnwJqQn8AAAMAAJb0ml84V8TZwje4wg0CNMVlvl1uACD7gsoVCSqHpc8Wm46ZEnWeFxghOQEN6vCmk4UcpAgeAPBO9oWEUMAAAADzQZsHSeEKUmUwIb/+jLAAAAMAASgE+YMAIxdb/mPa8ABqlT0TP04/SSgSnQyanjaa0N7V1GVSggYmkyMP0ldaFGjMXDKOBR3jvk2XbNbC9cv07RLWDvA7KpBuhzu7uC6N/gxkdCO8YkW6QppPX5Voi9Mv6j4kd3Z798AAoYc0bQwnbO7XxwcUw6xa6jMc0NSRVCkZZBwBTJyYorr4pK75XO5TYmNPyk/Dnb664wTP1yH3rF9JFpAjQg/V2wQsgJI2qFL3JBSgmsNQPrKk8cYSeFvKa6LPJzvA2QIaLghhvg8DL1kKPWmWF5TQaFf9Ov3v+ZZBAAAAZkGfJUU0TCv/AAADAABfgVI+OcD7Gtrvp4C+WAlkAEC1bVwuEIPqIic3njBF24djNF97uImoK2S3UUmNLV66TJsB8C0UmG8pibbOLgeXzR7c+IRkwzzkT9UgQZsSO7rwu6s3658QkQAAAEQBn0R0Qn8AAAMAAJao+cbNmmcPDtwNIeHM8VwCEf+/XcADmLBIu5yzjQJOsNOOZXtVwXJSLA0cG6W6d9Jm9qwAOqzOgQAAAFABn0ZqQn8AAAMAAJbGmVTVEzPaa6/Pi5p2txafUrgRgZq2ACBJQCLWEdU2DhAxWj8YDoQyAbJGvGbaa55SzpMaKzSMrBsrwvlUENPTRQPrxQAAAJlBm0lJqEFomUwU8N/+jLAAAAMAAShD9y0XX+/1WMx2CF9sYPTORhQ6z3naACDqL14C8EQjPf5HrFsHRTyuRrUBfvkwKF84lctRJBqZWbyvzI0ZgeCFfwaGJy489qtiO+5KCm8+2VjmlsrDCz62KPBOeOEunv+FvQ03fgJ58a6mSQQNWH+CCDZK/cL4dIoiqtfrA9g97vzukW8AAABBAZ9oakJ/AAADAACXHG40xtDHtiDOvOPw0LLxbWjdZ6F/wZEQlPEbAAh/Qqe1ZGhBlojGhk03HNC5O3RDigk/vMgAAADZQZtsSeEKUmUwIb/+jLAAAAMAASgIYxoXEACox6yPhVZ/7aZw+FUX4Rtxn8NWJT8kruArV3a4xe37Su0hBNRZfMQ2jOzCgbiucuIuBgMXBPOwYJzJOt0kwBjFwt2Pulh9fa1CvPJbZN5JzMgz63+t4rBmxwt8pId53BbpZYhXhvwFba5a8uC6pP+KMI30lOwrpF8010IdWji2OKAy9sACWGU7lG/PFU3p0X9frShP5bo3NldTqzsWivBfN/zoboAm0/t3l45UFepdG6Z0FvKtKui+8PuO71/x+QAAAExBn4pFNEwr/wAAAwAAXPjPF+QtlzrZmvTL+XUrS5WlieBZ8I0ACc40QuwEzOAu3SRpxhRtJ6TkRS+50keGQxGPS4Zh5eKE9BeY2HWAAAAARAGfq2pCfwAAAwAAmx78fe2yd64U+xOSo0XZ7WwAOs2XXsBRGmT5XP0O/WuEU583Pcj1Qv0t3AnzVtoiF9zhbIDMaxqQAAAAzkGbsEmoQWiZTAhv//6MsAAAAwABMem9Nd8cupPxaP3x2TatpgBBjvDPt1yLnoYPshrJXCKDviGC1wjq6qxTV4F7Xg+Qiblwh8eJazh1ukEyXsG83O1kTXNbpaz791oQ31j7PcFX/D+VtBZvqIhLa79IxRf5BCEeJxyfY4bXiP1KZonBy8wCYOFV6NQIZ35FG70jJP19LfI7cf2Gi4sD/0y5Hn+g1ijMl9sdYsfJ+FOWYjGDAk97DeLN4JnOALUJi0bk5kjChdM6wOKxtyNxAAAAa0GfzkURLCv/AAADAABiCzheIPd4nC6Si09OsQ0R1nytWfzy74AB2gXE0K5cA2RAVp0qWXWX2jwloJeJattd287GPUAsK/o5YlncEnR8Zsa7xZUESJEYO3UEasXQt8G5FMSeRImzlB7dDqUpAAAAXAGf7XRCfwAAAwAAmq+t2tBPUDD9eZ/JOJuFTs666eod2H1d6zfdYALQEflFsQx/VqJZ79F7JNd1UW0qrldj8DVcIkCKNK9DtlT/Ny7KXbXOAuL7/rSIjg36QskxAAAASAGf72pCfwAAAwAAlsP6McUdR0jKVJtYXahdR0jgsihbQXtBYwAIbVWTF0Yu6mWsdFBO7BRQusVBs5c7LMG7v9M8dvGxz/OpgAAAAOVBm/JJqEFsmUwUTDf//oywAAADAAE4BejX8sALWEYzLU+NQISY87dbJM/8vUOfOOS0KMsX2iYom0LfzN+wxuROTZCWCZFj0q+6R/1kaCnu9tZbiKPvqKrpPXWYIHoftvNARoEe5lbAU2+C2cRBE441NAHMtsGQ8+UXywPwJl7q3gFwUnQ61m3HSB6qotc06d599m/g4A39MeFaq9ZomVGcAJmK1Cm8Dpmf7I7LxR/K9mVxrUYD83n2a3h8U7F2lxZWhUfIB2Ob2r4q6yfROaa9v2/3F1zY/WfGY3jZ93s5nMlYa1EcAAAAUgGeEWpCfwAAAwAAnwqhWiIUo+ivBvSXgCXyKZSAAJf42kkHDPihgFdWL0GFv0CczULE6WyHmywZ1jUjtWb+N6PytuEnFcRz4kg6796OoP/v7U0AAAD/QZoUSeEKUmUwUsN//oywAAADAAE4BZjY0YAJ29GXifu7ID9jBWO7J9e6vEr31WUl562DzCeTFIhdfJmT8JPnW/4V99rmoE4XilYCZEOweG4cq/3rhLWld8R+MbXnpFEsG/mZnJERJTbWKNWXN0OAfJhWEDTgGLtPtxr89ACSJiNqaIIqtBxzPncWu6JVu70KwoioYa4K/oQdtrxwCXncicVjYhgXqijRTSOZZb9xx0ocudVX+CXOXIkTfJ07VpRxgnSpXQYJPjxdroh04R06doE3CREZeR//RVVtV68Z/EaI/XUPUCGXl2oEjTrgMOi83eaBARKIX+yViaun9Y/AAAAATwGeM2pCfwAAAwAAnwsS0KxEXOO23cHxFaMZJnC3TQym6A8vie8anz2nzYAEOpQnu+Dmpe4gJua42IEHFg1a8ohZ0Oi+nBS38gN/+uyb59EAAADeQZo3SeEOiZTAhv/+jLAAAAMAAUCo6nkqwAlRkWCLmGDfq1hF0boRGOKpekl88UbrpSWAEjMbH9amDougrdYVxlh2b4bNZewdbUufwH1N26wDgEt6G2C8JQn9rzs2+WorT6LcjgRtShvZT6HaRPQo+raFPQjQqRm5hqli6CilEr8r1uyJDGagp7BFIj0wfhY6JrFkoutydGJyat92olrNv9lvK4/l/OiuUAb9mASXjSfJrl3XXel+XrADaer2LK3JdQ/lJko5ly+0lmmhBpmaB1d87Hs6ZPGXHmKhe05ZAAAAXkGeVUUVPCv/AAADAABm/ecjLB9M66yJETakmeQ17SNC2h7rthzzUleFuoASj93OeeE76LLSoJD+4CP3hbEbBgXA7XQiPpUT4Wq/kUNWGbmQFnvl/Yv/6y5+HgQbR4AAAABQAZ52akJ/AAADAACjkGZe9iM41yKaqg98qmRP7YAHY/Hg+SUCkbLhW8NjydSa84DMu27lmwDjdVw2eMEfa4SUn0JYUeEYLwfFbC/NAnlBeRsAAAESQZp7SahBaJlMCG///oywAAADAAFAZTBRqzCz0WxnyoXACFNDxtlGrZsjtTL4Meb/kTjia0JCcbzHk6HWxN8byMUj+XgKwCz3V8HCu9HvnhPsfWB4hlDCdKFFfPdGTYff5tfuZEC9IXHfJ059RLjf7VUV5oi50uhmg+Ln3Qff2IJcXgB4Ee7I6Bu+2GM3JxD9hACXkZOwpNmKR7OKhk5+aRdJ7rw6MC0fUA9Zq6gaGhSm/2lIDxphxkTurFOVKZpQcbFwXombZEJwtoT2VqRnhRXiXLshc/nZBYNCzNKeJYy89+Tr3cjQUF013hP8WqSO40QMXVn454NEBpGNBCOKOIcDqJv4N45x8AuPcqXJd/hAwQAAAGNBnplFESwr/wAAAwAAaJb7vRQ0CWnKMPCJPb58sJWGqecLABknB9QqXJRyhaEJEYkzzF+/sbJHtMczlt5+6pwSdDtS60ZLZ6hpQITIVFMz2CcfCReEucBuKmKP3dPGiFW+t6gAAAA+AZ64dEJ/AAADAACoCsxUNmD1JCw92z450gkqyBqBr3Zq4FcyZuvJsZ3QAQk4gx+YmNtLLvlYE6EtfLHDpY0AAABDAZ66akJ/AAADAACoZWcILVSxc5dyDQBRzln/5Zzwj2TrbUXmyrS0UNBjuACAbgLPdiykE5bs/TvTo/A2ZNm533rSdAAAAOhBmr9JqEFsmUwIb//+jLAAAAMAAUsrO71o27nQATb9nlQ9sgqub5tbdoJbiUBTalpHaPj0LPE1vxl032+IImLjhPMf5o+QqeW3FbeJRXxDICu18cNunM1ejdZxEHfo8zcOjJG1jMdevHSUwtFTIEFVT3eyufU4caVOoH8ubY9Z6711RgMTmvm4Qowl9Nkn4YqWwAY4aNBNmQaWJCx2d5H41Cz/iFtqHv52I3IYYFc3cpAjPFjflB1+CK/j9TYIVmj1kS72Qh1CbxsaPuYztnS0XkIZTjyWzd17bdldlTpXN+VdJsQk86fXAAAAdkGe3UUVLCv/AAADAAEN5QsfvcGbV00da2GLsYfdbJyB+dwAhTxv3x3tcXyYz6M4juzwnpoHEIaC9R1X3IPgRP7rMO4C2cj0DVSVyM/aU0VTA9r96f8xvuSIDfXeYUZsGPqrLPlfCF+XWkW9fEW6cwHfJ9wiJA0AAAA8AZ78dEJ/AAADAACoeJDzXT9iDWDYE1OFAsGGaC0nV2ln6CuV9EvpTlMKTgLh/JwAbTOvZFkIxL5tQ1gLAAAATwGe/mpCfwAAAwABsJPymji85/g7TzX7lBuyYf4/+G3AAbMLy1kyvwAvgnEUUXbyAP27TjXyc5kSmTBNYz7mtPA1l+N3YfBasIpkgmQSuiQAAABdQZrjSahBbJlMCGf//jhAAAADAAT7NOSZFgAna5a4sKZ5cOVflKbjyC5L3V4nnz3AWfmaBca/Zk6tTbzRQwcwTb9y/f3j9f3kuafU4yEtCYw7JpwGfAG/4sUeDhVBAAAAIUGfAUUVLCv/AAADAAEOKgULjgqjZ8UThaoOp5oYEkLpwAAAAEIBnyB0Qn8AAAMAAa/CuFbWABfV86lhB7EhZ+dfsBk5lXGvlK4/fcfLHI44n7UgDDasNLx/LrkASXAOG4CqdIz2+0cAAABFAZ8iakJ/AAADAAGwk/JdubReAAcmAs8DugoJ+xjAcqOLg5SzjVaMN6YnbO2APlpRZlyerk7B0j8hYIAZJNcehOQEQH2wAAAAgkGbJEmoQWyZTAhv//6MsAAAAwABSbBrH2ACcQeUxuh27TWy+9fOWwXjED3vSkQo6nwIAcKg4z0SKxdO5tHD5AKfk99oMhb++gF3oigcYNe1l76vrbLU3Gcvmy23m2iM3Na1Xfpyn53FHSM4ypOnVjMmp9JZcyySQTAwhpbt8LiujIEAAACwQZtISeEKUmUwIZ/+OEAAAAMABP+pRkXsC2FOYOBgqMB6jhLvdKnwsAG/dkMOtQeFQHqNrQRl3whPWqOCjOebJtav1qGvw9bz0susdukCPkAL5f99xJBsqjr5HCO/kU1lBwsK7TyhlFbI5CgwdgYcPoasuEgvZtNYFBFVRCjX1hRj6pOozLvmON7lW8YOZuGliWx1jAJ5qqNBsjW2RSgBnsj+qwIioIzxlqr4Swhtq0EAAABGQZ9mRTRMK/8AAAMAARYp9hUlGtYkHW6HIRub2wK+rpFhAlc7f1s0sYFqHRA/M3hwArC8jV7ula5JJs9xS9AIbD2ykNkSgQAAADwBn4V0Qn8AAAMAAbnCbwAtgdl+hNPrtjr3NxAA15MLmnSaT/dlDR5bFLXgJ8xJTS69O8hFaV0vNo0bISkAAABLAZ+HakJ/AAADAAG6k7tIs9eEXyhg6wqrrki/tXsecBEMAEKMzcCogsRIjwvmacy+Ac+tOz11FAv9QWVgLZM77veAk7i5RUU6vo8EAAAAykGbikmoQWiZTBTwz/44QAAAAwAE/5Pqf50/Szg/rTNycADrPhr8V/XiRi1xbXJhzO5zV69FSgz6j1AfCypPhOBPsDzi2Ik+vMlLxymamhkAEcly7hJ7ZzdF2cfyH6+DRSrXP30xD1BjiJXR7xE0PAnpB+NrpuqhcTtqK+TjbsRdQRBDLSjiEWYjuuNLHraNKkDEhD+FKca97r8xAYerH7k6ECvSO9cd/V03n8C+M8h/B/pZsdgLgX+oxMKPT6sj3g4fYeY1u3qtw5wAAABPAZ+pakJ/AAADAAG68fYOdTnosIivbBFo9dLSS+2VkZlGZaBBPAAJ27P2+7tx1/na+BzP13L/xvB9aSs1O8QTFM46X74q+963KILlj9lIGQAAALhBm6tJ4QpSZTAhv/6MsAAAAwABQKaaBasAGwca7fH425av8l2YGJ2Uow1/pLykSMCJ5UskC58ED/kwbOU7ZNndSv7xyRG3f7/Q8/BkF8ztG9geJjpx5bgOrkHwGGrIw5TotX1MgZ4+MXJMMhNrPNV0CBcS3+2v/kKdHNmxI6btIc8Caar+wURRWh8ZcTbvslJCJVjIrakxBt6bzfZs2w/WgE9E9b/a/PImKXiGB7KLVxr/sdxKJ7pXAAABMkGbz0nhDomUwIb//oywAAADAAFC5lx52VSvDwADRhPguM/yycXxM9TbBlOb6WCN0rzx+g+fqrwDN/WR9nuA/7kT01np8HDbAui5tcaBTN1ig+jvnqZNgtv1uzyzUZM7NPt/mt2Qkl/xNxhC9O/JkNskHYdYAr87Q7GR7n8poPtaDJ47jmvDZ7GUf4nGSkNirYj1sXFq+5mH1RVsHH5KzLB3FMzvuXmLtxqymJpAzqVZ7wsqa/kMGX+C49hAZCUgYhHUNb7WRfzetjAqZMA379TiEsZs1cU/JN17hxFEd4jEiZPMpRurqKE0c0zgFs32fuVwQiZmo8ulCx98aQbMqiIOGkTT70AbqbjIQdVCm/awQAvB2e5HF8Br0CdoMTx31FMzNkBkkFAa16vMclNFOpI2LwAAAIFBn+1FETwr/wAAAwABFgpfb1jtqjt2hkqjc84J3OBDTB0D29L7kV33eWxaYYIW/bO/WpI7RgitKIAP3K0+mJ/DZYj9imCTpv9AA/onXM9RBQ4xRrxSzWIamgZ88jq47PtqNES2oXAH6tpGQHReKqOQsjNfYq//r5QrQiJ4f/21GMEAAABUAZ4MdEJ/AAADAAG5wl4r8FD6cuU7ekbIaBLhaPOFJAALf0FB61G9JOvgx65/nPQ/8bvoolPNR07L7IdEwobT0ZJYYyWbrXhG1S3xkDwV0Mu8bL/BAAAATwGeDmpCfwAAAwABupO1OlObpeNaY8/xXk5YMB3ySKb5ljlxOU2Ab5XvvMgQ8Jtj/tkAIEhK9iyQR7vxWrFYcKGoDqwulcaQ7BLm5KMhwUEAAAC6QZoSSahBaJlMCG///oywAAADAAE56b013xy/jsA5/sB7jYfm/XVvNfvAqVWJedpWNB47XyHRUZMTEDhz7avO/41yuZLgafqVF1lYsvAKjtChHSVB19AAM8eRkvjV0u7zeVjNpAxppkNxk+qnwtix1RauviXaUtOfWrG0tOTmQ4w6O57ObGbGZ5MiFAmk8L69jDgICrf5N/ph6X1elJ+bpxtfFQ5/12KYPs1FS5j63MWeGjTI1y6q5SK+AAAAaEGeMEURLCv/AAADAAEWKfZQDkJjwdk/VFer5AOtYS1mODcc2w7WEGuk9WevN5tAYNYipv3/9jgBB4WuMssDiwojpDcxoKCeY5UcqvAvpxtqsIWD1FvoBJORBUzJ5NxMTPNMfok70RO7AAAAYQGeUWpCfwAAAwABupO1m18Ox6zD66B4w2y3A5Qntd/lzHjfUMiHjDpKwAHXA4tGJ5784HZjmId+x6WZipILnnNqgcEwJS7uSek23ABk1NilmwfZKslu3StC/rMccCl3GJkAAAD8QZpVSahBbJlMCGf//jhAAAADAAR7iXgZkRQD4nrwx50lW4/z0jKALKVCM/vprM/aLjjmCipmptG/qN3EqcA/ft4s5Md+p6QlufTCU3O6REMowhRl+T+bH6oRwI0NphmHbvq95RL6NfcgwtrWCOXOzhaIAzyyxYyDuMhKS03MXpfcMEZ2ZH84a+z9h8JnfMJNR3XAQhP18VBweB58Ry8itjviFuTswC7liEaiu4jS+gW4b86HiqUAx9bLOFqAH8KKmi08yPNgZoXSnxesqvRwEc0hMNRr5CYlpSVCwY0I2z1OXLwuytSq6KfvyTfJTz9Ws0JiWPdgu1IRyUWgAAAAdEGec0UVLCv/AAADAAEWKfZP6aTF6JUfxWQ+OfQAjPEpNZurcAfQBtmQ7ct2rh/mePHMd0rlGZ96eEjNrADPothhDydRbEKyGlOKDPQMkLP8y6iS3tw9l36ruqbAnl+DeDVdk23EzU935eIEDeBOd/IUVbQMAAAAXAGelGpCfwAAAwABupO1miWhyiKwDHwglrAYPYFV43+CAAuakOU3lzrIDBBtBJBeXvWosJgF+gDQvk3gw+PMck8pYXZJE7oHUMkP+8rO8yiSs7xQznhzh8TllSTBAAAAqUGalkmoQWyZTAhv//6MsAAAAwABIJgFhyKlzbD8p0NoDngAHT+ZpRkNtcptCaZgdlW3ukZlF5nb3zLpMClemaXPf8B+83jWter2dxkfhy8BjFPVgrkPYLab4UvZ0fLUWa83grIAyiPeK6TK2ap1dUPCAMNd4l/hEX5Q7kLjWMV81HDBqY5z8NFEzXYM+3PUwzJwksS5G7ad8PtpbJYizWrchLQ6f/9xNGAAAADnQZq4SeEKUmUwUVLDf/6MsAAAAwABMem89vEtMAX2fxqWUSugZqQpKdwHT4M9atrgFr+Z9ITHgi0niWcMlSNoiwORFH6VpaKJ6s6Sja9wn01JbUcpSfyAEY0SswhvRaQn+1Dci9rrIPvpppzuXCyLYpz4I+sWpZURNS70P2MbAoukkRsWHwhMWbUWA1pvzY6VU8qoGV/VgkTtpEMMWAQoFU76X7yAQ1b4xIUzwIhG7x3nWfGP2QfICJxl71vOzwybrHnEacUeTux3pG2lBCv/9kU6BfH5twCIphxwy0/psjzzLWT6Z2GJAAAARgGe12pCfwAAAwAAmseheblP1Kp32Z2NyV8QgiqfMMTE9YmKpEl0AAcblltEyNHn1rpj4/t3nNoG8zPIDAdqL3WgsYtuok0AAAESQZrbSeEOiZTAhv/+jLAAAAMAASgGjsaYgFSuzthvwGmWFFaIhBh2jDiLAKtPJRYwT0CVQvQyJYjFs/LQnL7poaWivyrlx5wVJtrCaveKRPRAd/TratHA8hHkOAZaiWOJSr62WjDvHyWEMHq3HAa8Q1iDWVG1uFN+WN9yrlM46mFs0RAC5pxcT1a/zfm/so8kZgl55vM1YdiY2agNIofXFzMKmpMvvQ929b8f6wgIjryw/QTpfjCz6cZsD4649V/W6kj7sSYRW+0QR6xbMUsr02X7PoDZABc1jG36C0L6L0TF7gGGgqGslsEem/ZaDeZeuLsATE/1TRPRcE93B8uwi56Ft5SP0DI4+flvkKT3ngr3IAAAAGlBnvlFFTwr/wAAAwAAX3/hNX0hJo0Id55iAMnYAE6yIkvw2R1Mrps3/XygeDfnUr9gpftQojUfBPLxxfeRRcPxxy32gBmftn/625aOd2XagTqFWAyHWhPlKHzfJe2+Ti2qDbW+Qg+1toEAAABHAZ8aakJ/AAADAACWtxbgk3e1iD3CW78+aJvomVP393AA5krPe/nCPrb2NjJ66W3DcgZx08Jp3jB2NbKESWbu3nzzH41iP8AAAAD8QZsfSahBaJlMCG///oywAAADAALcwyFLSRACDlOTfi78o82KDq3PvydkYHxPiFvlMyju86IxHM3vrBoBE6U+pHdLzj57X8jwvpDYQo5MxRbuoadzOnDrdjvktLKUGxJuhgO2+Zn88KW42nWmUCRX7IoVf2mFhz43Bgx/lEeNVDcLoz16IW5Ff1HnN/glUCowyI7nCbtSOQyU3mZ1w1U4l9sXQrzI1Qq5UKtT5sIjisztuDBUeBh4b3xr0sc16EpBrvSQhFCsFaxioInZ0cvd/5kSAEq3ixX0DnOZrlp/OcmmMXIG95S+3Aw4m+Fsd1NnObJQNJLeyFSouslRAAAAXEGfPUURLCv/AAADAADoRIAVwXiCeHiNBWiG8YNTtMX5Bm0xcmPwiQd+JcAJli+d70G1vAcgPfxIg22qoGIqVG9KWRVUBgfYp84fG5b039C3E8YfpnLCVGmZQrvRAAAARAGfXHRCfwAAAwABa/SHBNt8NVRc6aMIheva7a2ffG+rkNmGBx180LUxmxhAB/Zi0wqeOBFrLfQLG3NFQky/sfVm5h+LAAAAQwGfXmpCfwAAAwABdMx8iio30M6NDGAUG8QZz2Q1omNl3BOOiYQQn4QAD1g4KaL7ZhmeyHQuWUs7xS1xJPRad0ipCoAAAAChQZtDSahBbJlMCG///oywAAADAALbU2MgUeupL2DXbcWsAE4Ix+sq7PUOSaiLg4JfqmX+bM35GP48xyeFKndvzB7sHi7NN+BiqJ4wowAmJKc/8u47aeSGCNMlXXSyonY+LRNlafX1ousKokjJpx2goodShq2sZ7WkctNd8HmOCQJVsjMzIiGN70L403Z6G/rmvuMTQBh6nGJOwtddrl+8Tb0AAABVQZ9hRRUsK/8AAAMAAOUdSIPGnMTA1oqSgu3KO0sjr/gAjoF7ySnTmOtx5QAg/uxUYuj9oMl7dD8krVZ/rVPr7hCLYILmcjkq633i3yY5p3UD+mWR8AAAADoBn4B0Qn8AAAMAAXQClYnyZy5FBn49KgIC18H9oCdjWO/o9mqfa4JfLgATs1HJLPZJ8ro3OnjM98IVAAAALAGfgmpCfwAAAwABdMvs2DXlhaphDxxIADsHbGuk9TxKLptdyDXRiNbbhqjrAAAASkGbh0moQWyZTAhv//6MsAAAAwAC2/Usf8JPwKBk84AEuusNzIBIVeWL59rJBF1/HAUPibFYHeTkMnNSjNSkCWXXPwFxDJmDMzZVAAAAH0GfpUUVLCv/AAADAADn/0pDV4ka3MZHFU9XXWgEe9UAAAAaAZ/EdEJ/AAADAAF0FJsvPPU5u8BF3xla6zMAAAASAZ/GakJ/AAADAAA1/tow3YBZAAAB9EGby0moQWyZTAhv//6MsAAAAwAC3+5nqdmqAfB4L1AC6j1x4WPPpNl18k/4RWjrKaGQLlNaNP+k2+FUkRM340Rpj/3oh9YCGXxAvakwFIMTFF1oc95Jl00+CrkeT7WVzKtZykHBJkSpb5fYBIXQLkl1YpnbZYMzA5m8MC5bK4R8GwWJ9PfoxTgk3ATQt+w3LRzveMG4MTPMP+eTnhoi61kSrAI7Q+PQSVav1CNRS5plwHcQgX5tG/Nnfai+Q8tOGgTZIRF0eBRKqBTJmsSzLqRhvmmNjbfmdGlP9m5n2jZO54dcMSSuQdtXaR9eTO6hOPQXj3jZ3W6s6qfUSn4Bk3XTY/w8h+NC2soh9TjvGaQMjBDRUTmXcMqPYKgMsBCEWvCtuYWHvqX/jQ1wcrbaAArfN2Gfk5BXVgOY7wH5gGQYeUuo+6nxhq+MEjc2PF09AuaU4rs8DL9ZODtkW9mQ5Vb0C96iqCsO9wNASpaGpy++7QJJiRoYPeB+9fn8pNDnASNVlZNt3z5vN4ObhKbNyvvBTrJR/TF1ihpKVTQZBCrq33+VbsMkz5e4BbEjNgyriUAuLzQTex0/KQaul5EFSrXt5pGuR78ouZB5DJp6zK2XwQX5+RUxfCuw8c8yIdvr5zvbUVrL1rh0ABCQdq9Q4o+aYzVAAAAAZEGf6UUVLCv/AAADAADn/0pae2eX+D/XaVnXz7jlsuJc6BKzgBMkieLg4qEx8kwcDP/OI7KvmMlVv1l2dxqcyrh90QMjfe+zo31w3HzLtEXvGyJgVt2S2wjnI5Bp26LpGHdoCoAAAABAAZ4IdEJ/AAADAAF08vv+ovsCkmg3hKfga63pmPL9vpyr4AEI8RaZfpBqs08BaXRpe+i6oJrHj6MQquaqeDDUgQAAADoBngpqQn8AAAMAAJ9mDQWyKd/wz6TJwBgBCWL2MJA3af7UH6BGSbQRo4glU7W/xA53w30eotp+bQfsAAAAm0GaDkmoQWyZTAhv//6MsAAAAwABOAvZb+7gL1lHan3RAC1f3UDraHan2pFsh5SWV3pklWBo5aPr3EkgbdDWVZzo6PTpyrPy+fIw7YzGH++sErXZ77zF14HGX1jx5istl1XeqZpxHM3GjMhuE/O7j+PCT9voEJPLiBKN2V+RO4aptazQC8atuiH1DfDLLvZxyfATWCZ/xGG8nOfgAAAALkGeLEUVLCv/AAADAABkga7k4NLACow2s5nc+LMABsi7etPnj9QcwigN1lMNrKEAAAAmAZ5NakJ/AAADAACfJY9QE9OUMg4gAHG0KXEKWciIs1dajkatftEAAADnQZpRSahBbJlMCG///oywAAADAAE3z4+BotnWAEsSjVSluweX/+x+2tFwcIUMUOLElwkSHQfJpccr7/2jvbUBfDslj/Jf6opLmDFygOuq/pO2dp1fHZEnRHPeWZYjkdeTBaipOM15rpeRaucvHDPdhyU6mbjcMVy4eIIzWQApDH4wwMuasqfaFrodcZLX63QYBxRGjc9fXdVj8SGzaeKhl+9NymzxDxVqOznHAbqrlvgsfFvut3L4pTO82qjhDeoILauUny3Go0KxOekHuyN2o7QHWbu0+nDoIL9KnBU4iFkf1oV+bcERAAAAMUGeb0UVLCv/AAADAABko1FVwenp5CE+qQyNKN+ui21Oss9PAAzquubGx+8Tnnz3ZjQAAAAyAZ6QakJ/AAADAACfFHc7scbdRsb3RVnFFtu/0NlfvDlgAIYn6jfyYx4N6TYhAO6x0UwAAACxQZqVSahBbJlMCG///oywAAADAAE4BTyVSiKL77Of1qxL7OuAIgDI5VGDVSZm/pa/vVxOqIwzHPqk+1iUwlsAoIb2dtQqbxQVcZqScQvAELU9T2dD/nFPXKgBO/oYPHlXvWDZMEU4ciXHfjDvjgc6cTEkcYDq9GFKLBtyawvZ98mAMpULe9B/dpCwA0KvFqJlOVNgaYppV4Vnc2jmHwn+RSIR9Dtr1JxZty/JlnP3B7uBAAAAREGes0UVLCv/AAADAABkf3t4yx94WKQAa0v9X2iuMAXt14omyist5/ddT5o4EflUE74YFGiYgAGzdiEmSQxNV2XEi/AoAAAAHwGe0nRCfwAAAwAAn23wj4VNbWSCHyHL+iIhrnfk6HAAAAAhAZ7UakJ/AAADAACfFH+0L6AGLprM+TVi69+4J58zylPBAAAAW0Ga2UmoQWyZTAhv//6MsAAAAwABOAvf5oLDGrI17EJ4nZAEPiAjuzGWiWbWvIFNE6RT8sjjPYokG7nGvGnACRGKoNfvugG3FmtuGTLOvdzxY3gp/AOMQZuncwwAAAAcQZ73RRUsK/8AAAMAAGSBsj+7/RPVFojQT+yl1wAAABIBnxZ0Qn8AAAMAADX4Uo3cZ0EAAAAXAZ8YakJ/AAADAACfJ8u4n1636kjxdB8AAADIQZsdSahBbJlMCG///oywAAADAAE5+Jyc6+UqWOjBuAG2G5FAjzkGKEEIIjVwBZ7tm9iNK3B6yQObKWhSXKU/GR4KKOdB1QxyCuGToF2/jaU7sBstYrq4ZZ8nHt8ZhkZx/WMPTKob/NaH1gORgU3BPedwh+IAc7LFDAeg9R8YqMbLVaYbObkL4y9lVy5NAtdcNVttMAh7vv8WEDPo3AgKn8Hj2wpfxIesZhN99XfjJBrW2SnfUNRrUePWwmNYLHx2r+Ob+iB4BMEAAABIQZ87RRUsK/8AAAMAAGSJrsytJSR5tPAUSVXdG9Z7FVpLKPgA3Dc2Kg7yABtwapTFNOO+P9RVGNhIABxFl1dWIIBFO5urVd+AAAAANAGfWnRCfwAAAwAAn3iprs41oMZNuVOXPKwAA5nsbRWUldXCNNUJ+Q2qp407kpmBxrk5JIEAAAAoAZ9cakJ/AAADAACS/ICSq+Nr9/ZHG2vcQ+Arwhb2pMTK/b+nXWk2RwAAAIBBm0FJqEFsmUwIb//+jLAAAAMAASH4nPLVVz0xClaS/o15g3Y7qfrupNsd0lTELfHZvp3DhptQBuiB99A0O5/J5Qgw+kMvHIvPWcbPjxG8F1UZk6RBJAz56PT+FyY4B8+xLZm9saeRQ7JxX2XfCbx6KukwswGJXGILvv1VzOT7gAAAAChBn39FFSwr/wAAAwAAXRWAEvQsb8MJdLir2M344lLLDTyrIvOwbWvAAAAAGgGfnnRCfwAAAwAAkrENtCWxYkdd+r63fKd5AAAAGAGfgGpCfwAAAwAAO3Lk8sj5PIBrpGw5lgAAAH5Bm4VJqEFsmUwIb//+jLAAAAMAAHU4TngWk1jvOf18AAXABwc26VHgexNP7uZ5wjoNnj3KeTY+b2Yqi+td2gWeo5jkr3hsm7uYfOnwf2/EYYofVxjwjmH02WCqpQRtyE2HC8yFW0CnSXaHKfGEpX1p9+CaNMIiicaEBGts8oEAAAAvQZ+jRRUsK/8AAAMAACW8aYeAgALUiTYxltrDwRReafobrKzA92beyYklSJ6mYkkAAAAbAZ/CdEJ/AAADAACTDR7u7xMmudq/AxnC4A6BAAAAGgGfxGpCfwAAAwAAkx8je+kqViZMnWq0wj7JAAABGEGbyUmoQWyZTAhv//6MsAAAAwABKAXfG82AOTLF2IKpmy3I7/eODat8Kc6X8NjYweLZDG0/QffTajW51SuZ9zdobZ8yP4OvEdGxPGJ32d1fPtzw+Tn2sVWCKdRfgtVxLLn9Zwl/3+2LmF/pOGpVke+64ooeAvuyLq/YaokxuVmxDatUK2ONGa0Wi8mcvM+W28uzK5dcFYku6MRbGW/Sq6YhXTcQJsZ56h6X6WlW6s0Rv9aVQJHoHgAGeIFUUzDAHyA6FLgQpfCMQXJd33N+HxQhie4ZKb1qnLBmscI6qPRP0T5HAIWFnwzg4i9NNIsCgAJUj8vUWenNwQhFXUhmd/eHHhuyU2Wp037TJtTSQIRTQSM/vm0na+sAAABWQZ/nRRUsK/8AAAMAAF9+VA6sZsc3kLVntm+215EmmsbXtxgbqjKI2wqAE329pdvtT1oPAe8I4WxU6iAbNHwLU3bTKvKQKDM76fdAPabgNsDiepKSeBcAAAAfAZ4GdEJ/AAADAACbDFarvMfi/nS7hQEr3dD+BdmcGAAAAEcBnghqQn8AAAMAAJse/gwA22/TvQeuMdEq77+rZSUoQANqNTX/oK1aH35Fn2Eq7XrdPsfO2P4EgxXYxjKR/Qng95eHoxB2wAAAAMlBmg1JqEFsmUwIb//+jLAAAAMAASgFsGDAPg1wSJEhitkVml3W0VLxOHDOYxqZNgBaWDHtxIawLkLMVBCd1eWyg7lAk3fHc4ht22VpevK7gU6Ru9901+nVuwyY0DuN3mjdefGie0tyeYri3FIxW03AgLUHZEE7ihvjHWF5oreC3llQ20FK42m8dCuZgYLO5XWoYxpxmh6+zcdAywOpBN+qUrnqohMdrRRPLV7tvGloXR4nWWp0Pxy3HtQ5l4fG6+H9JxBSNZ2srS0AAABDQZ4rRRUsK/8AAAMAAF+iossaPgvjqp90doNCXLXVXQAtmkpAQEHz7fqZoytJp9/CXhNOeSKZfyhFE0f9CHT3kOdhfAAAAB8Bnkp0Qn8AAAMAAJKoICfXAUZ65JsChwv6bbmuBftiAAAAOgGeTGpCfwAAAwAAlma2NeEU3wkCGABaRBUz7nDnvCez0OrFXNdvREkl8jh1f2nS1NnGsfKowWxgo8EAAAD1QZpRSahBbJlMCG///oywAAADAAEglLdfmYACBmA3mPnirISTLXbJK/FQp73xlE1hmx1ed6Dluh7ROOBc3VRZofKRi+11gdh/685DQ5CdQqNackIs+X3LarLN4T2ADyCRqOMPd4uW60meyy7DjXTSLUK2zcu+5rVa+jFwfLSkPNTMID0Tfoj30Bv23ArEBDbXcGi7Li5kfUU+vvveA5a73jkY4pBlD6HluIVEl2Vf3B1myBo/H9iglmYBuv4eVGcwhW8YNKt/9yIZ56fZosIIiN3GBphjmCGNgiWdh106bdOcj7NxKQxrOjG/hbcxOWy+OGniL8EAAAA+QZ5vRRUsK/8AAAMAAF+CmRwhPifXZ0WUxzbuLxE48bLYeBrewwAfxPp9AIS5Dj4Q6FoF80hLq0vM3TFAE9cAAAAsAZ6OdEJ/AAADAACXAf6V54jD7lndxGJMqA9k0E5CQaAANp3rfz2MGvwc10AAAAAgAZ6QakJ/AAADAACO/ICYZuEiZTYj19rT7pfPNJDPAiQAAAAYQZqTSahBbJlMFEw3//6MsAAAAwAAAwNDAAAAIgGesmpCfwAAAwAANVhbwR9pcgQAOrhB70j/PHhPzMjFzfQAAAAWQZq3SeEKUmUwIb/+jLAAAAMAAAMDQgAAAENBntVFNEwr/wAAAwAAX1FQjIKGlJPbAA4sH+Fow2NFXbRDwUluXYk+M9sQm5MDhhdzKF9bXaul94WXQQ+NscaK5NppAAAAGAGe9HRCfwAAAwAAjw0cIT4n8pI4DLvzEAAAABgBnvZqQn8AAAMAAI7I8v0ZDeI40pJpYXEAAAAwQZr5SahBaJlMFPCv/eEAAAMAABFOHAk/GH8H+65NwTWDvAtC2PhAAsq7Ql0/WqsnAAAAFgGfGGpCfwAAAwAAkqOLXQNqVbLB/pwAAA6nZYiCAAQ//vdOvwKbRZdqA5JXCvbKpCZZuVJrAfKmAAADAAADAAA3ZVWldqu8+yPxfpyOqoBfo+yVlAdhQAAAZL+HDJOvkER7ASvzKqE0JYfjzSGxCTGqIQEvo+di+Bc1/yb0ZwUrIV94OCxoOICJUjsJiouc2GdsISRTErcswuInTDlwXyViESTLrSF3wsR1JMz9O+xMXqmpYK9qjnTxyJfCnLurWJ92sQJEg7TCEkhZ1Tqy6cOO/X0osLxGDQ0dv3oyvBERFZIs6q8O3rnYaQCHGzaYrZzZ/9iNY6gA6Vzb9e2a2iyi7tT3BkvECRsmebWASgAAi34vYOFBeZhWMTPbbL9B5A3WIjMJzAPNLEvAjWTAd3lGsbnTdow+azyAn5TRpUZP6sPGqMPa2SwUd2lcpOzm9j4ByKStniymQ4gEyXM2ODbl4XCusBBBngrsfE0fnOz64YfbI9z+74ozQOZT3vRG0C7+SEqHp/HR99/l+CujgDATLNLTeRzDR1zvOvcyO3bX5qJQVtobMUMKFql3Lo0SDIQh5IM+VnS6ndKGovgQ2tP5x9s13TCjtDMtmI9HSVx2DPG+gO3wYyZk2XPUmPOAYSVERgFK2i/VkYE42/T3hVeyB1ntYAAqdA2Yw2pux3j7FdqU52SieVxSL/LyAOmBBeOQo47wnTjbpxmGTGc66opPHUFYYocVGciXyynXiTopAMkd4xytGcud1HHH+LeDtmRsg+k9GlqlIerlN3A6BHhHeCo9FNTOQuOHf9gehnLBB9VbkIJQfbFuc3c/wZdbml9VE8kl7XhHNm1CTcb4GFNYJYvuN78jPwq0qyNAnfFWTtAWkW8bYD1ICBb0AjdXdvZo7pkJvJW2TghwZ+lducUsXvxPpbIwVJ7zaiyglbbKSdENQWfxWcWqOXvX8xyCjI4PKDMvuruGT5RW5Lyh0MweXMUO5jFf7RRH9M/4VFLKwqZ9+Pp8sYYAm4aQD6b9cEaGxpDheG9px6KUmE3wVV2yMr3705qYVLTruNqn3t9J3cbkuf22ronRTpKeLHgli/e045KOn4ulwF4OvdKIzLHUn1FR+GfFNb4yP1QBVYyOgaehdd6I4PGPsd+bGpAq13ojIvcLJgZEQtjlam7wa60l5pjZ0HuFU15SpBvguFBZVQ4fNb43ZqEWeGHQznwN6KA5ud6/H6OXqJ1I9nSUDuPUv5OsobIY/ft4ASqKj3YS3tp4LbfIZgI1QDzH2A5okvHy1UIcX42YT18y5isaF4Bv67yEgHpyrKIRJNm7/oEXdqs6qLN9DaF/F501SiE69ZIZzThcxAjkXeDh+YUqvtR3BzqQEDqCc+CnRPMUZazNVSDgTnrsDdxgWhM8btNYFU1SxQ/Jk2CdA2pxOtNFRGD2qe9IAQNu7fQD2WbbxeN/WPLjKzVDefrt+nQMoVMxvJ1Q2vwGkEHZw+Yny+Po1qZwRk1uddU/+UOZg+Iwn7Jqp+DVhmngac/eMIuEampK+EBnQDJ4V7/RWRPwrn9tzFcXeZJGnNnXNeDr4jgUpadtYEGfu1KoN5x1suRodv2cFmNzeaS62EAhe6TtQ1Ckt8vE+o6lwAEcGtkF6fvZotuzOSwiCicv0a34Vw2AJQiTpk93N3BIAPc1t/sYX47KAeSEQp0tg7SULDv94/bMc6eVn1Quax+BHHdbUWEnaEeIns4j4bW19Ar7BrtgL0H8Ja1E3ReSPPjdjLj9arZZas0ZLPVX2bJZa31GRyPER6X0AYpmRupMpgAthAC/FgZfhy17Z5siFUIvc40Sz58T18LICpI4AKkmhYIuqSpHhdRE0VPzaS+0MRFrik07botyzFGLYL7BPxVBoYj9Rxkt4JYzFGUo4e0HoijuGH0HtXAOu0LCdEs6Y3weszDKntSyjvyKYevPcsQUNTAdlXPM++j5C4y4TvplK8BW+uO8QDsMzY3764FwCdjDWmy5hc3LkHwCJbUVqk9sK3pKWR3wdFt1axt5s7Rdx/znhdluaanFEoT3pHlnE/M05VJb/BrWmxCGbA0opNnu9QEE2qp/9hUfzYk/Vd11EhbQhmgVZS2exDveSD4xl1NLu3dLYbs75Mz0rmiSjg45bJkAto/+F7jqyRKOq/XJZb7r+8DK2K43XIUjO0/ZJXnWBJuMpviAfQ9ZjdH2sUpZAWM2yVcWBD98BXf0xSIgAAAMDPwdiy4K4PPIXqk1yN71MzH/mH1K9LG5re5d5CXvi/Jz9SUc0OAZVUfQRPBUlsfcLkvi5l2GU+VhU5tGUSggHfmfesGg8Bx5QRtVcF/iAxnNV2ad9lP/pAr4JYkPfJVci5FN7H0VE8fb0NF1r2iv0dTZI1xfNZKQQu/etD5Bf52LphXA1QRbHtirPdzPMTPaJXxFD4J8r/nVjojdrAYUVPupgQ+QgtIAAAMAtbzPbwxzkl+dyMGcJ7kWNT1u/SJXQd/z7mbKZ3bw7f5qx1genWuhHyCwRFtKWxnN3/jwXpZbK4qlMqs/bWxXwZoJ+/lJV3VgY+MVgC750mj0CiHR359kaUwAAmzDWCbd6mCkaWQw6sPylrQF0XvtapssY9Pg4RHUfnAgj5rms3nhTYANQFFB9L8/NiuVwGrPy3cBt3O6ZB/0shC2IgmxMhj+dbwSwjsZQJ5Kt3/xzF2sjQVLXc9317/OnA9jN4fETCvoWBWMpGF2TEq/fYB/RSYuszkAFtvA0d3K3b2e9MExQ/S+GPJBV2baZ7bF/pBJB98AKCSA0VpMmXxn5AHB7/m1Dt6xu9iDSoIdW9MUwIBki3WWGxhYYsSN93Gehm7S33Rl1HaMZQOEbbDSnADIQ8jTt/5sZRF+Rkwqau/AxJMbEde1wBaaqntS2EnZ5s9i1Mwm0SvyF4Op5qKxUICFHnWHFUsXfu7viSL0kQNmGW4u7TdCRlrhbW8XNilY3yvqMmKmNCDf66nn3oIbCuyah7Owg/iln2D7ahUAIFgL16m7cOBf0qwAAB6GiIL9una1Q3eCJWHl432O2y9Ms04nLBHQBLPEpnwmZfpb6KFt9lcFBcbQ+RtTpJb0AR0pNRLq+vr7Sjb1OEYExmdOHGF2LIPmZs65mKKEryZv4vnGfPc0ly80135cQK9JDb04HP2pHyBQwO85my7hBDIt7CHzpJVKKXBoktpd2UlHVByCYE2wlaCrd3sdmKNfkrbC8LMCHjKicfWK6vfJb1pB+4w8C5JR0zuhokw17SpqwugFS35obMsHgyH6QS67I+P+ANcT0O/VGiHWUEHSixRYO/TIWMjyjRrI7+4tt9e/W8Ej8hRlir5EEJh83kW6c/0okJ3P5aa9JIMDtU32QE9idmatPGgnmkhZS6J3aCdi8c3gIMWRkoeRbi7i/81vmYWvgOLTS5xYG0Ah/23unzgQZos+LRCwQb0qTouwCG6wQYinorCaAioAN48xJjbOrgQ8i15lqu2GVZk5tFHYwuXhqFwEVR7QgDH/S2ZbVb07l/QPoIcxNZlEs+0w7NJb+Muvb6lU32XCUNVxzqifcCN+Ny8TwhAXPYAAbubB7GhqXDbfyQ9ctZCucmzmHqHt2e5vvQHgr5mDvNJucL5Muex9Lz3eJSDr9aWjUEHi86jIn/eb172V/6SSfFOkjzxxk+ybRZsdJ4ZnPqq7Mk+enBuN6SYFrGrjmRXUBHJ7ro6+jLyhI5hTcKYUEIdzKgiFRJLKs3KRcnhey+iwBoCK70slPfXgT038J5XiGmGuf4ghBxqR3YmUMLniF+ixK6g8RjasS4hcjTu3YjO39I+6jwvfPKlgVK9MlrWK/kuf1Gz9cpdQN5v9I/kRDAAj1BzNJhACiJ2s9fu4DARM01qbpH7q3TwuP5wHYs5xPdoGq56thBORhC/EO7nUzhY4gbJevWIr3KPmBy0hwgAthncNoW2948EKl5JD/wAqFv27N2SmxrC/uwPdVMhN0QviQrsLQQXxj4CWPXpnOI8fqlj8KF73Q0fWeOlayAy/GXkBvo3+jvTl9p/SMeAAAMpD7Z+PZKL9AnE80T478BmJYc5o1mqffefOXQl77mwCeM5qJmpKGNGmycu+nTvn5QpGbcf4EkZbSK6ton3cSsHACfqdlcdQtbKdrcOh4/jP5tTB9HfkwvEc4i/vvfgh5+ixw5an5kJl2pkHTDjJNB1A4FnLy1JY2up9lxt1hiassa/LOj46ZxI1D3wumuR9ob6MEJKZ2Zl/TnTpgWIOtljHGCMosFW/kAZzFWx/enLDInD2t+ParMKArHurS1fZXrhYN/L647aOpNi7+waNrsr5710gMMz71hwWDg/Gdh3FjIIaNiOiJi55Y3AzmgmMDaulP3lyvoEj8cKmZmtRhUAtCt5FkCEXAEzhLVMVsQFFhk0W1dZheynBSsU3Tz4RQFahkyP3A6Q2e5+qEvwTL+qb2sET+tV0dWn/GVJbyDpxFsOW6EqPdzEeb9XGdLx3vstXoNrpgjgdOyn1ZYvwJRImxPP6Dc/18lLxFeKiBdQ4whNXGh+GAAHaltDhjAU0CCG+lBDgPpiqTIGrwXfjjQTCHjzsKaK5IJyYloCj1/PcA3YiICEmiHP4/5RvmoTiCDnxeP0hlR4nbPg9eb41NVuMisuyrAgRhUQhBaH/Yy8FvAeq4sFu3pzxF9eBRLziNJkZTmbhO964Wv2QJjeXMc6CnrHNVk1jUjIn1PqLwLlIXHMTYruxLAH0TpkFTvHCR6J9SpfItLI7kMxbiSFdLeemCCb6sNC7/yQ+Ls+slHdyAxoN9JN5Xj/ZygNmqsGht3v/kGtaKd93Zeq3mzsc4MFSdu9GY0u7O7wrjhRkLrbXZ+WybqdzpAtHnO9nxp2Pcxr74FEp8q6kUxAAJXcd+lZokkIlp54bxXiXLRukxXIGxLA6hCl2eV6tA2fM/dm3bDTicpmT/UV1JINM6La8+ot1YtoHoJZRr7Bkzb2RPINN32rF+2id2L2LcbGUlLDSb4sp0NnAk4C3+Y8ECD0Mm5sl9ergB+oMCQAAAJNBmiRsQ3/+jLAAAAMAASg2rp9HEbE9Ke1LKOrgjnwanYCuREWyMQALqAQWWjAGouNItx8rQwhcQSZQimkvRKN6HDOXWBk3tQR10+f68rFpkv2TYESVUxqOKCw5i5b5ZjdpmXca3UGaIL52FvwzjjvfWCUhMEOcBFYkY7L9rnvTvKEscdQnviIlfoxF38LyJ7jcf5AAAAAnQZ5CeIV/AAADAABfqkPjoQ+PvSsNIiGrL9cKjZnZ0U/i4XUwsUdnAAAAFwGeYXRCfwAAAwAAlw0ccAhYGRPNIo1NAAAAKwGeY2pCfwAAAwAAlvWU+Vi6OWAOdl7HdtsZeAzEcx4awATVECbI8QMwp7wAAADLQZpoSahBaJlMCG///oywAAADAAEosjwj8QAtU8ZU2bVRpNshVegbOGKKo0UAeGvtWe+pERJUWx15h0dF+gN4BImxV57/xv+5slrB7ciJk16zNv/Iy11P5z901ITHA8y+XXVEgoR+gIIWvp0cu56DUl0HmRYl115bMndpI9inrLrfhj6bnbfh5BEx0hY9ZnDiJQMVnSbL9qcKgzxTrPFqsoHt67zuZg7BSK+3W5JklaYgeJ39EVbqyvOE7whjSFKR6KVI3H9ES43A8oAAAABKQZ6GRREsK/8AAAMAAF+ijkrQkV4mZ9d0pk0IXCU6kC0CakQwAJQWOJvhMCX8H7t1vmBmLQnVcqLxehRjyksKmjVz0ocRKtHEwLEAAAAeAZ6ldEJ/AAADAACPAmtGF25we2AVV3T6N26pNemMAAAALgGep2pCfwAAAwAAkrvUBeyCRpRa/UZG3LLAAhe8+dNf182LJu918SSPZ+C6Oz0AAADlQZqsSahBbJlMCG///oywAAADAAEp+Jyc58DE56Utip0UtrTwAhqj7GUoLFzbsO+sRmgxXof9ftWcrQoWxu9Bwu7FCpLV6u39fdJ/SLMBdg5aKrWTMUCwwPPlLsqVqzl+mQG5ctp+H+RwGYvQUILW9cgGxUPfA7DvUuhT2LPlp7SnqKFU5cDkpWo8RGg/t2S0V2jxU2hBmqgt9ayM4KwqUSxQnWV+hQoFrfouSvEKPAPwmkuAaQzeBTMDZ5FT84F3fsU2YU15EpnRgp/0ms3tYYTtXYBpVgbKMBQfJQd81DbchTcD2AAAAGpBnspFFSwr/wAAAwAAYP7rNALDa4scGg9z3WHwaXBd+HdnVSkCuXJcALqOwOzpwi6bDPG/dhv7YIWX5VPtWToCnfSfdEc6VU6nBBy95OBKeREDv3hhZgesD6PcQwYeSOvJa9DqlqUFgfB9AAAALgGe6XRCfwAAAwAAmq/Rtm5J2s/3VAjeESbtfv8jAY/t6EAA9uM9zIQ3NcoJr4EAAAA1AZ7rakJ/AAADAACa+qGgy4IKIUnX7HJLVVOGbRYkwAQw7OyjPKln26t8UvD+gqO7E0VyLMcAAAEPQZrwSahBbJlMCG///oywAAADAAE4BiTJOQAsy09Sy9fgZvqaQtf39YgzO/gcm3SqaIk3hywj3ajvaMPv34+iAOfb93DdoZGb7tnzK/4uz9zVTgCTkEGJE1e8Jqpuu42GCbFiZZPJYCCgvWRw7d+ZY0UOs1u1plYZ1iB9VHu5c47Gond5HT7oe5HGCkpF8ZOdr96NAmAH2SiFrLbdcogzXjtNMTX+6fXiV8luQkIs+B56+FdzjBJpTK2J8arLxN57sCqPk8HbVeJY+Tx9YUpH5aKDq2kVAaHBIlKCs+6bWnNriRyKaRrfSAPRaACjY/jBOu3VV+uHj8AsE1AiIDSc+GDuFp7U3w24xE8wJ7U+QwAAAF1Bnw5FFSwr/wAAAwAAZKYcV+ah3ae1zijfd1TWT/62gA20KJlaUsfAEYAFdKANjmXBQ/iQz/hlnhAagLEJ+6AX2Es7Nn2MrpP9BmCzPA25c+Lhp6XtOOD8FNsH3CgAAAA4AZ8tdEJ/AAADAACasQlIgDuimfN9IFKZ8FLQoGMAASEntNeTatERsXErmEa+UYJrTBlRfUIvVHQAAABLAZ8vakJ/AAADAACfFU9M9N6/7UYkRIcAAOUgpYkQjL+vJucGT+RLuqTa2LxUulDp6/S74KWO9wcPm5y08GNYAJD48RowQf7xpA/NAAABEkGbNEmoQWyZTAhv//6MsAAAAwABOJKd6vu5pykAIx25znYJmdNPS8XYpp4J1cD/6hbqfAa9OFuC4Cg4fgu3P2rL95PJMxvMfH3+Oob3lUav8Cg0D81zgRrvfcBXdxdQbTMn2vqZAaCoX7DLePriZT4vOozG6BsgUV4kGUbM/J0MO+Oj/vgPr5yfzbvLjr2xNdBUgHbhPZL0S8w99rG/H/vuxEi1ryDpimUt+JXz3Q4Ywyb1A/w34z11pi6O4lQPFiuqRnS+0kLHxasQWev+k8mKsKtnOE8Kq0nP1GFmf3X+57GOjqds5C0X3ripSIXEDrsaBP5Ml1eiqxJ2ylhr8icQEGwwURIgA9npBF6ZC9GXTCoAAABSQZ9SRRUsK/8AAAMAAGRoxKZTwtZiXNEHArDGWmNZt9cglKiy9fd/f+EULfyqeAAnJZNfKpymGpMGl4SLpc0ITU/g4Wtge3sm0y+2jOIph1pgwAAAADgBn3F0Qn8AAAMAAJ8BYMZD9wRrhp8bRTbdfs6GxXGx9pAA2GDc3yOVnKWb1IPe5HgtzMu5muXSEQAAADQBn3NqQn8AAAMAAJ8QZm6YtWYXKUDop6LPI/+dgAhs0UBWOGbSERa26KZYCXv3u0CHIZznAAAA9kGbeEmoQWyZTAhv//6MsAAAAwABQMY52pB3KQTGz/INEARjPFnAbDpM8cu3RJ584Z8EYtN9qvjVcYh1igNzE2jkrQdyO/HlZqJGPcnNGkyOlZzHU9Su4Prjwy/4QNnHDsOoYpGIMV6zADQV+MTRxV1UgSya1D1XuzYu1WgFPtMcyEI35yO8SlKk+s74lhh+hBlxpP2UfiqmcIKpmS3rEW+b3rXM0qjiDWaoJH2VK2vJybECrsDM4jJNXirU2VzZhb3grTRTVZS0iFKLb1f3Myx0szhTuet+96K27I1le1SGh4VX6MVwy1lfZaHojZ0DE0MtOCCsgQAAAEVBn5ZFFSwr/wAAAwAAZyX0tTA10zMxiCrGjb8AC0PH8hv4riveOyEvqoY+dZk9+2aN4E+QN3Ez0nOKyORY4ckPaIir4MsAAAA8AZ+1dEJ/AAADAACfAWDTpLSEDT/oSCvdlRB3zzLU2sAEtUGX+DBSImUiRGYuXKvZhK5aOQejuHnPzL8iAAAAHQGft2pCfwAAAwAAo+YUCVAgWajSOvc/ImoiuYeJAAAAbUGbvEmoQWyZTAhv//6MsAAAAwABQuZcmUni1DGj1lPEBZRK3IAiP2zFQMrYwMYMMQ1aDub4V6rO6+CYTHPur0jKJEfr6wuGhH1rAQ+oeg/DDTBPfn0tRtZTQkgiRMryBI/mCurUJt2r9dzlA0AAAAA9QZ/aRRUsK/8AAAMAAGcsxFmNsRkM6rMvmyqVLeHhOyURF0WmxOPP0GQAZ+RRqNtNbF0IBA0pg2tu2MVOkAAAACcBn/l0Qn8AAAMAAKOY/k0zMp6u2iUxNgAQ16n5BfATNuk1wrx0CWEAAAAbAZ/7akJ/AAADAACfkBQ1oZIVTE09a5nym0NYAAAAUkGb4EmoQWyZTAhv//6MsAAAAwAAckk7ftQs7FhP5+AXcACKtdWkFOU7JwYViABGERbXjyOQR2F/0ku8OqMcklYfoiaaPuaHFQbtPmo4Hv+cDaEAAAAbQZ4eRRUsK/8AAAMAAGIGCIhNmsC0pDSxswDxAAAAFAGePXRCfwAAAwAAOfD7TYRMJWEuAAAAEQGeP2pCfwAAAwAAOK/6rgzhAAAAU0GaJEmoQWyZTAhv//6MsAAAAwABMEcDBm2jx/OM9afzogBuXW8iIBGkR44D/tlqEosN16+SAqMHEQZ3W+vgk/b7Kn9Wo0qcJeRvSZx2ic9ke+VcAAAAN0GeQkUVLCv/AAADAABkga+wO7RxZ8i5+Ts4zXEdQpkamLfd4AXHfU+PrFv4NXItwq4VKok7NBsAAAAaAZ5hdEJ/AAADAACfCk2S7QVy6A2Gv+XmlsEAAAAmAZ5jakJ/AAADAACfKBMkTcMDC2djPt9v7/ABr036DRDQnaYpmOQAAACmQZpoSahBbJlMCG///oywAAADAAE4lJ9IIOUuR80ltzh7hV19AA4siZ8Dff5L7taUGwGMc36aYsflrgCxHmENDEEFKVS2WmpoZ/5odSQ5SrVnQsHKmjaH4IcaYG5TNIKMzzZXY2ZUFasKhiJC6SpsMn6Bs89PcaA5/R1lku+O9TOY3S6pZ8BNmUNn4sjLSECVC43Q2zm8TmHJt52nLp1AlbRSy9CHYAAAADJBnoZFFSwr/wAAAwAAZImgHpjmL3et9LBsq7hkKHckGpegA04x9xo0Lq7+nqQ8VdQFgQAAAC8BnqV0Qn8AAAMAAJ9t8KSYGe4UYKk04tGMvrhABLOUbtZWXWua2QtMWRDQJ509DQAAACYBnqdqQn8AAAMAADtZJf/Cd1rICQNfjAAfy0ca2qsjcxtP+06IvwAAAOZBmqxJqEFsmUwIb//+jLAAAAMAATiRSOPcyiAA/aAfVwPqKg0AtD6RDOE7OYmKN0wNsmUSMghjlNZbOzeyzPaHiZWYi9uEl2rpbs07dlWxBfNrUrSULuueRX3FsMKETjXhtTkNxcSB/zRtoHy57bRTGkfP1M+EW0tl99vFwB2aEps0JzNle1xuuT3iSct6XiV+dEQ5SsaComipEVGYfO7URshgyPPnYHKxliM27G1rZDqY+5Jmln74oR8y+VIxsaGzI+LNUjRmdFgrbCtXsCyTfoNXTsx7kanPxHvT8B4onhWNUGX3gAAAAEpBnspFFSwr/wAAAwAAZKJ917ggn/lKYe8hZRp5oPdoAWsBmL4pp4bQN+5IfBPb03xhoxiU+af5cLkPMDcNpMb9hUO9LdOzQujwewAAADkBnul0Qn8AAAMAAJ9t+peeA3O/tFgARB0MESgIBtyfG2lqWvrTUmuvKSweldABDfyql5pcKF95eCEAAAA+AZ7rakJ/AAADAACfFHc8t4bnXev7ogv4euIAJ26FP1oPIxsJyi+HUco67cI05tncpMnqwDcjf1APSqMH3dEAAAClQZrvSahBbJlMCG///oywAAADAAE4BTyVQSEy4t4Bv9VACpaer7N4HSLFw7W/7c8cf5zrtdwnmWgzkraPgN4y86JqAOSS5l4NWkR1zBdHvbZnq9rs1H5KQ0LPlf2Ab8cQHHeJ5tG0G7J88R+9+caBZ8W9b+dv7KvIZpCdVx/wOApRE1zqShTm6noDdIcxetzU1SPqdJHyqZqUQeEbtlZ/8IWl1e1xAAAAMEGfDUUVLCv/AAADAABko1FVvWY0yoHtDWklVzY2u0hRXWlEgBBMEQ+q/Buj2tY6bgAAADUBny5qQn8AAAMAAJ8QAmJG6LwAVRp77ahIk4DaNzA/689QAIUqhoysRAaXIaO1gpn6Cej2wAAAAMdBmzNJqEFsmUwIb//+jLAAAAMAATnpvTXfUHi0eTHANT5+8y/KCvACvJ2RlaWVgLzdMUAxVsZ6jOf0H9K2VRk/Br6jcdBkfrKd/N/fF2OES80MUplK4h6dBhCvrt+0o3O8OecbkqZ6RV7dqewTuhn4mFeh4tCfMUANhelmZFf/G+oJRoxWErTC86WoJGw4vCIVrOyQnpPazNjzFGwNa7HYoQleMnIeJo2cTPWbydcns/bWug3H0gUt3+DkCL6fKHxLRp+TCChLAAAAXUGfUUUVLCv/AAADAABkia606oNjls0qzbSxGPpkz/pEp4IOgv5NOWMABEALM8FrnOOomceapAdRd3ZWGd9z+3NUpBP06oIK9AQ5WIEvU+Kkv+ePWX+u3e/60DrdIAAAADcBn3B0Qn8AAAMAAJ8AaBiORv8a7OfWk1SyjaSVGBifoAJSfoDlZZeCYfn6hd1ttzDk+K9uaZCKAAAAOQGfcmpCfwAAAwAAkvyAkTrgmt0gDs1La8c4osDPz9AB+0AAAylrFldbjY6Kh0ZH/3YjObBvKyTDpQAAARlBm3dJqEFsmUwIb//+jLAAAAMAASiwWSQAv9qtDGnaxSv/AxeXslSjGAmSdy96wraYmpK7ih8figQDevhUpo2ShjY/+RPf+effYDb1xgj1CdNB00Ara+z+FbPXyFw0tW/t6F4kohIMBggz8edsne9m0LZksVSITSwc4e7zghrxoStmOUzGj67RIRDLyeSq1pxGVamVepJTTxVEaq/zETpIOLqzCTRKy+/S2F+0YzAxGo/G33c5anqYrEbPw+GxCquonQaOlNC8qtBEM0IVBZpzdpVoNy83flbHunJ6HC7JX0EFhNJz5IpoolEuoWmRFb7kK4A0PkzBAmBt2j9UuHKjEwLpe6wwqWEjM27fjM6cJDHeH41foP/vgQAAAFpBn5VFFSwr/wAAAwAAX34jFEdeMdzYj+pP1qEx1eXdVD9PyBTin/aDNcCuC4AP2nmZpfP+XeDmHhkGmcU5AxteRKkw+OzIcKqdWBDxSpu4dsChLKWy/EcgCYEAAAA8AZ+0dEJ/AAADAACXCbO44HkME4C3cYciNPjDaHqI6JTUP/WIAIT365nFP/H6QGJYV6vTTjP+YFkP/uneAAAAOAGftmpCfwAAAwAAlrKNsHpyhfStvb3dD2igyYZhRaJ1ogAQp0VUc9xUP/WSlqCXwR3qFw8Dh8CAAAAA9EGbu0moQWyZTAhv//6MsAAAAwABKAWIYMApJ379nocRg0XBFe4h2FF2GpW6CrKSkqv/s4HF9+49OYl0ln89Mh1e5tBVimk5IWo57aSZo2bBVRIFGLit0NpUQzD1C+Aky11nHPqw2BbkzhCEWAOkn+jqcYyfh2XrZmasCUIw/uKRMSYbbYpeKOzCV6YOqwKy91GoQHRMQgXtcT2d0iFnCfaVAyINAxhucE9q5AzgxWJpaTqZ04Dg1VleQLbO2nrXtwfNyWdQYrIhUNkjgs/uqH8rIj2vDR32HAM5zWuenoKpyZO0rpsu294V3m2W2adKOPTtbcEAAABWQZ/ZRRUsK/8AAAMAAF99P+PSkM4HV9PGsZHkmDJul1ACaT9Hcvz7iseFmLHZjD6f9BJI6MQRTUwoeH21YdfEinR8Ix0S3RyeXKUVHirC1m5zjg5AUkAAAAA5AZ/4dEJ/AAADAACXAuN+zHnrn9ZEvbhRLOXNh4RTqEqWP0AHuiq3xF3dkmod4Bk8X1gyM3d4xNGAAAAAIQGf+mpCfwAAAwAAlscrvWawbhBlWh7GK9iE+jckmcT/+QAAAFdBm/9JqEFsmUwIb//+jLAAAAMAASgL2WNjkyoAX/mKWNIbzgCicoHYHUo4gt9FOFjZGZJ0WIJHeRDhAin/JIX2eLbXY7QAHpHnNLbnUEPMVx/mL/1rCdAAAAAtQZ4dRRUsK/8AAAMAAFrxRA5UrSu74fmSI2ADLrs+JwGvFFqoca1PzXISmbBHAAAAKQGePHRCfwAAAwAAlwu3r7eTB9JC0soBjL+1gAmPyDjNPJlwPztcfRB9AAAAGQGePmpCfwAAAwAAlsrP2WWyGTRj3lY3TuAAAACMQZojSahBbJlMCG///oywAAADAAEoQxkco4geaACds9odaXCAL/5Ks0nMG6lMH9KrTc6J8IHslGE94j0tGJImm4haWuPLMXbX0p76bdUs9UY14QrXM/nXa9GeqKJlQVIvFWqomvahTTZewsYp4OC2x/QiYmBor2HLJtHhT15Y2sCCj5MZxy9dtzn8TZUAAAA3QZ5BRRUsK/8AAAMAAF983j2nUv26hTcfmrTHeKkndjg8Jyn+zxYAJQ9C4ScOSiyK7v3R+3LZgAAAABYBnmB0Qn8AAAMAAJaxCVCQWpSVWF+xAAAAGAGeYmpCfwAAAwAAlscrvV/RawqX6Z7vMQAAAE9BmmdJqEFsmUwIb//+jLAAAAMAASgIw57suQw+S9+kA2E8qACGR0J4emItBgyv8RhqCNysRe2s7dKISl3s8PdLp3E/2Wy73cvcHD2ew9j6AAAAIEGehUUVLCv/AAADAABft2zwhjakenueLX9Pph4+2j8UAAAAJgGepHRCfwAAAwAAlwxcU0dLrvpOVgABxqzs2fuxNo2kO5VdIyTRAAAAKQGepmpCfwAAAwAAjvyAvsgNIJtX/adtRQIAA2BivwENmLuKLWMwVH4wAAAA7UGaq0moQWyZTAhv//6MsAAAAwABKAjCgZqxFyWxoATV3/Rp0p2lf7EczHLktwjWvQjDx/27xZnZuvts3O4wCN1oGfPsaK89tx4wzN68k31/lKtYzsxqS0xFcyp53LmgKy99FtoDii7enyjZHjd6UJfZ++D5Cn4uBhg7nT3+ySITOxUcLfK9eRF+mLD1NR7vJnYhAK7s2MQIFxWiYhArdWLL08DdMIp7JoDEciBQ04oydBzu9SZF/I5YE2SaMjOodX20Y3rA0O7XIHnWevwfYEs+W0jWEJ0c2+7p0LHgeiL2yspe2vCjN+pcxlnVYQAAAFNBnslFFSwr/wAAAwAAX0FUy498d5mgUG3sXLabIRkFIiRLTtlLwXzABsdIouj6yf02YiIv+s+pD0zZ130OMbU/ZZ78afBT34xGFNRfA1WID+w4FgAAADsBnuh0Qn8AAAMAAJcCZ3drgc6BFcy/Em/BTf3FLFKACGldDBmVN90YdM6hfPJE1ZFZsxpQ+vsrq/6aTQAAACwBnupqQn8AAAMAAJb34KxDi+J2MD7honkhT5cuLQAmjtDCIT/scGl5gwJNwwAAAPFBmu9JqEFsmUwIb//+jLAAAAMAASn4nJznwMaArnphbABgmAftvkH/aRyI48VktHx6Ah+r6xupwgi/HI5C8+ncDWvounY+3mAhAkxuvlvis1eE2m6dwWxbFdwDAQVM8BCkv7nfScG/J55kglWDOwDyD+tt9KCzV0ypSLzKNCHnBGyaq2ow26tRGOIg55S+GJtg4Zx7YAbF/qcxJ+blj2zY/7/g+aWywSNWEHPmDJ35+JObPftpxjfA82PKJui5c3vGI7ODswmHSFb+EiFSgxEisP90syPTmyDfazwSENYHSeP2QW/OEVU7S2Yd7zVF7elxAAAAYEGfDUUVLCv/AAADAABeS5zcZkLkQP10PvMN8yRZOlsIvqMtJ+/FSMLgRCJEACZP/urZmLrAd8unvFm2iRj907Ns/uoh5TXxFJ85PL78MLkSMtPgQDxm6QKPy/WZ6Cl0wQAAAEEBnyx0Qn8AAAMAAJKhj3l6WAIuTksNSraWMlHaidnIgPDsfsAEOWwlv/+Nr0LaOu8gEdyO6yJpf0XT1pIL3fLhXwAAADgBny5qQn8AAAMAAJbHMOB8GsxdO+NLIQr1gwcF78LWAKLjg7wsAgANbcNRMYfb2NO0yLqyagH9QAAAAOFBmzJJqEFsmUwIb//+jLAAAAMAATgFhRpiAEI9G0y4b9w6DaXEBdyDMevIapo9ZsDm3eJuC+CvCTw1Zj6h5tEq6c3ChB7oi86I4M2azDhJQ/XIIVOIjF/juCpaKVQRn+N2o6pS4Z1A3XseRkHFiJ5nO4U/g+7CaOg66rI3xUvmsHb2JdhhRfLnDh4Ql4X+eLTcP7nEwMZiLn09qMt7zgt4xTy6QtFOrzVLFMgkwiAjo9RJkup+MPdXjwUQq8Ttzw5L4TMF8zK9eCp7yvtvxxA6hlfyJdVU60RJJadvV3D+ItUAAABXQZ9QRRUsK/8AAAMAAGSmDzaMxuPuxaFuXps08Xi2uEvwACSEiX2je4qtw8ogIffHsPLkHaC/AKYzifmrHg98Xy/etqK6L7/W1XT/dobpp2mMQeq6/0mAAAAAQAGfcWpCfwAAAwAAnxBmZk2c5KDA5YwYW2eG43bTXIfttkAA9v7JyuexytF6XX4fu7qz5CINhxQFfv8hOH86RxoAAAD0QZt2SahBbJlMCG///oywAAADAAE4kksa9+CcpABxpi1FepBcKdqPCe6cQZ9AopJhugTcXJzeC1hiCO8Pv8AxsEXejJ+t4o2Dik3rfAMZNWrtVD1OwxAwBOD+ao45KSGds6IuO/ItOpzMS9W38D5XnSvxZdjCApxze8lI+Vvp249ZN584YdsZjEg6ASwuvNNAP5IC7iPOtYqT+Y+TQzm9022Iq28FQKl66M6F43zTN/wXnVXZ4ON79kD2+6WJbq1CQZulp/zajCh0TNfbCe1KE0VC81AQIZQgJ5FAeRTJlYMmn7Lvh4l/pHY5c6nzhWOaRa8AEQAAAGRBn5RFFSwr/wAAAwAAZGjuYqDVQvIOFzNkGFy1lOOr8wx26BzoKh6T+R/OwATiFoPV3GOBXzghuPWh3QwzEzBgDafnPukKds1QXETSCv7bNwLQJggcPiuICOXeNmiaBRLrdV9FAAAAJAGfs3RCfwAAAwAAn21ch0pWdL/wzg8YrBqCvNqcfoB6Y6nWgQAAADwBn7VqQn8AAAMAAJ9eoNwFlE8mmOZpaXYuJxwHzsAEOpU1DCpKGgeA1SlenFSykshKoVRMSCwN/GUlclQAAAD5QZu6SahBbJlMCG///oywAAADAAFAqNLB8ghuBZvFIbwqM/CuXDgx5aifm056nikNn9Bb+V92exUXRRMB1Y04IBARPNoLNwzzb9cDiGvYrSrb571hoK4lx+OvuEYBvgIWMOvW/FwZWHv7Djrlo6mCWM/d/K+AlwTTo4YggzZIR5Mh+VkygZg2owEepbAhpEkG8kbXKz1bnLlYzCaUtSSSnfj51MJb8k0zvCuFPFq8iT78F7peZHbtl2SYmDk9hcyN6dzFDYQnBQyR9s5uQfO951UO9eKPwZS/ICCwRqaDYv0pX3latRE7GulpZpvh91TlZuKj/YmZlHlAAAAAWEGf2EUVLCv/AAADAABnJeRQ/ROeaVgkljK/KeRXQAXzKhwCky3/UmaBsDuH7g2XPKnBKyWrXss3EbSSI2wqyr/gfaKzPOTt+MC+xB6mi8Or89yvpZJcRUEAAAA3AZ/3dEJ/AAADAACfbVyYIO55UIQQ8guxpGhKkkLTrABB+hAbqzFlsXdlKjH2ax4xqMwIynBK5AAAADYBn/lqQn8AAAMAAKPmBkNEt4J546BO+oEp3XVLc2ABOfBEuZ9s3PgnCfizv7aoBr/6BCQzn5gAAADkQZv+SahBbJlMCG///oywAAADAAFApsnkqwA3rTrf+HyDE28MFYo+EKuLkOkBXFe9bV/gGXoozdEW+5LFVElE8kp0kuG/ZgB4fp+ZxohzFYwa+McGHX7UDEHm023LZfeiZzrsGBMfwGAkj+i7WkOeGioMrmS2tkG45sS6C0EazQpbQSN50s9HlM8ro4ztX8MQldUR80XgZhZP++tiHaNy6CdFmrw9MkaxvGlgChFzM4DlocNZ2pp90OXJWPyrwTWQWxt82dSOurCEgtrNDcy+HfqAa6P9vM+7n77GE9q4Kwhe7cNBAAAAVEGeHEUVLCv/AAADAABnInqUpQAXTGUV4vWeAmKkkdOokI0pss2RuQn3Z1exmkHGjW/m5wzt0ygF7N82gHq3ebbDuMC962ENlLy50kf4mZ/GN+6c+AAAAE0Bnjt0Qn8AAAMAAKPtXIairofaYHxdh9VrG6PPdekwl+jBABs8PXL2kJ3j7ZEqCz/WVzxl7SfcjGOGO7aL4zh8dFCnA5PKF2wqz1EJgQAAACkBnj1qQn8AAAMAAKPeoxN+m3IIN23kTfpK04uFciAfKMszmdOaMGh/rQAAANFBmiJJqEFsmUwIb//+jLAAAAMAAUI6GukxAAtdZ1GTF7/+3tFwmufHK1Z/MBDKaG5JvnWDKTVo/GQ5sM6M2RRRuaw3XUm9lY87Nc+TB457/yztydIZZwnyFNkhUgfEOBQ8+Q9sFRlO3k4hHrq3GVg54YNpseBt/zYmeOEp0K9EXwan790JJPwAN40Bfj4jCiPd2AMz+xsPaTK4S8SX5pptHLwNwTx8gVAbzxUDkGyXk/Bfz524KlhpwI7kVGdAyeovAta43XcZ2xyf0twtrcWe0AAAAE1BnkBFFSwr/wAAAwAAZzXFS/JmdhFj/laxwDHlfQAbD00pDB8p2zQvaLyFwuC1+qHV4XoPLPAnIcnQV9ejT6+m4J2rWthl9q21kZuSzQAAACIBnn90Qn8AAAMAAKOBbAzSr9k4/Xq8gOtmfIrZ8BVSuij4AAAAKAGeYWpCfwAAAwAAoxjLA0YbFz6/U5t3KVZ2wBSljocKCENTp90jPO0AAAAaQZpmSahBbJlMCG///oywAAADAAAQH6FW3REAAABVQZ6ERRUsK/8AAAMAAGXqF/U3WsaX6swCnt82ADKYrgU2GqpEdWZe0Q+5drxw6k6vsir8VMPc+96AyHACnvJK7zX0967k9usT7yfJfnMuPf0JW+sDIQAAACEBnqN0Qn8AAAMAAKP7QC/DYq0NuACaSnUO4T0fCFACFigAAAAhAZ6lakJ/AAADAACjpfw6KML8zBAAnUqFCVuv8NClrj/hAAAAjEGaqkmoQWyZTAhv//6MsAAAAwABQK/jkAB+wHY6Pi2xLFNOJQFYY3XVOMiNyo/J2HA3bM9dgm9WrArTztdJFdQOry/4/bWhdyK1eLDCJMrzoGqz8rRaF2e0JxgbfHsatBROmubUFGv1jDt4rghmkN4zqE3lEJpCQdoxmvF09mrMccaPsJxNcufCGrzYAAAAMEGeyEUVLCv/AAADAABlwVX6fQACBjek7KYzVlyW36fbk1qFGbzurHDGZETbSuI0YQAAACEBnud0Qn8AAAMAAJaxDXd6PQAHUUtfjiMFuHWEM+VrShAAAAAaAZ7pakJ/AAADAACjpfw6KRDCcAtxAZqlCSEAAACCQZruSahBbJlMCG///oywAAADAAFA8wPvXcAJq97ZLbF1F6OSwS15NwLwp0PL8dhFCVkzS8EM6y4MDRjNROYnOEgQvxkUmZwBXyIOAUogDB7Fd6e30JMHcOy9e93Bgd+IMbbngyAixVgxjTfy+REQiKaf0C7v3bCP2jG8KIitMOLLcQAAADpBnwxFFSwr/wAAAwAAZv+mHRaQk2mzZGuih01lHJVEALGOcOBVF1VNZLOx0k7wbKkY3SEAYmFvqirxAAAAIwGfK3RCfwAAAwAAo4pLCoisDHFrlwnUaBbPgpAEsO5ZEZ+BAAAAKQGfLWpCfwAAAwAAoXpLVe09kP39zYt4eAYG/SRb3GFp2/sH4zu2mBzAAAAAzEGbMUmoQWyZTAhn//44QAAAAwAE26Jrc3WAutWzgBCc9IH0exF4efADqmTGil+WiGHCbtthHz/+bKPFoe4qVR8AHQo06q5OhpcBiE6umZYsw+DNbaB+nlnh1p50N7tClJ+qWLFPo4EmRqtp3eVPUAVniPAQUDJ6vquslt1BlZbP7XHC7ofN1SKFkYvHlq/ITGYy9b/l4ZF5BG98VrFF7DySIE0i9S1WEFKYPzTYdqm/WaJJjGt0IQK0A/kjOWulWF8VuyfuiyYIT1QPYAAAAD5Bn09FFSwr/wAAAwAAZyJ9us/eq7Gk6x6U1yQHFf6CDhLUAGhwqkJZQ80MStS8HVkKfCgPkI1qEovpklibCQAAAE4Bn3BqQn8AAAMAAKOQUQZQzYrvjnJeC6GLjdDx4NZ3HXQ0LfgAhCl5LNZSdwFpA46Hquqx6QqTeOcLFsiMl3uKT2TIph6f7lWhyc8wO1AAAACyQZtySahBbJlMCG///oywAAADAAE4lJ9IIOTlUz+gLg6YkZPJiCQ4roAR7ujO2L0Uu6sXyXnh/7ilbiCN8L1ULRQziYMcCIYlXQC+WZLjYCq4/n0qIcJe37TbwB/fhJnDwY8NV10NqYEkSuY07b3fGtDMa5KweQV/t9aXH+76PdkVUlXVgUyBZ1QAMUHJJ1JT4QonVeFnuax3o3HBY9HUTV/TVYvzNMoGDh8c/1mr9+5RgAAAAORBm5VJ4QpSZTAhv/6MsAAAAwABOAXe0DkAB/M2D2C+XfrcviDChYMrcYJJ8SfuFtYFAiTWSrrPDzlrQjNvAcZubWPa86BI3t2wGwim+LcI5yIs23lNZ//7hiVr6nHBkwlWedniHBqrwtKZ1wxkof61hn7DvBaJZ98ctIEABWHCXcDlP3aDIvSUTXbl3jaqB5x4+60QG964vh1qSpjcu8VPiLvkYIrtuSaA6dZ0ZWUgBMNaTX650p7Vf34/SGG7O5CGRVGqyBn48+998kQi5/p6Bnehl+ZUQZFfsZV1fjNjvN7szXEAAABTQZ+zRTRMK/8AAAMAAGYW+3+Rt+PifCqC5SP4/Xf1W8ZJINDXnnOQAtMrCzZxT6P+U8vhmsI/jGN5KbhaGBLNABpZaIv/6qkG0/hWvd9kDtE3NZEAAAA+AZ/UakJ/AAADAACj5gZ1Lx9zhIhW7vX3c0jS8H8IgAhspFRHTjOZQUDSTZZ1idEQPdwNlv1bL2MqqZi+25sAAADVQZvZSahBaJlMCG///oywAAADAAE56b0131B4tHltQ3hpDnWw8C4vwA1gO3uMlDZi5eaCA3IPqg5BLFV/wcNaTCxw13Kk/UtmTq43KdGSll9cxWl7QjcXlqtKcvt2cmNDrHSVy7AbJt85/vvQpgmRIErEVxv6HVDPTI61e1OK9ihPN6cZm7gOf05wynW5ViRPI47z+pq836FUfh5ac9mQLvoxbKpMdvhIT/pqEQnI7GARCPCB75SiM9FwCMPlbOP9gie9h0pjFWWNhfYaL6/KcH5MJvYoAAAAYEGf90URLCv/AAADAABnN2NieWPHUousGf8/xXUq8Z/a6ERVF5UvVXgRABrlN4Uvi5tF2DTo50m+bjhqNWrA86SvGRohjbDb/kIqeNIDZvE7Jhycd8uKfgItmLOqT+xK8AAAAEYBnhZ0Qn8AAAMAAKOKOqhrhH8QBqoAHaEx6MggZar0sKYQk4jX/mqp2bd2iDvviqF6NYKmIzZQ/l3yGl8tlrACpgbjWYDxAAAAOAGeGGpCfwAAAwAAo+d7zJ06nv3DxfPvUeghBhs+tkLEgJD+gA/aAGBD7P/VTMvErxNSzup3zMAWAAABC0GaHUmoQWyZTAhv//6MsAAAAwABKB7m26hhEJ5usBRISJNfObIAtlaTWx9fQ5QAAk2R1jc4z0Av3RPeOorZBsRuBhEu5TzQXD2bp+5wUqB1PDLqWsEf2tAaE5ax2Y32VHXEWVyKpeNDZRb1tv6I6JxesR7h3c4HRk4q+vqUS3rKTjmrsmCsfmXUzRt25YIPdi1gw1Ssej1AYeGYGCi55MY7F6tzAenDtp+fn08T6ugf6wsGUOqS31Ek2ugIw9/b0PcUinS5s+HHZLuoWgExI957JF+KENU0tmKXeQHoS4e8krVlnWfWQEotiCi9tpMzT09wGFNK0ohEWj5MW6syR8m+xvjljQ06ifsiAgAAAHlBnjtFFSwr/wAAAwAAZzea03NHehZxMwxzWdijOarZS26XVDiQURF2Jj4AQci9Z/VoCVeDM68qmlwV21Mw4wpoh0TcYLtKktmbpkdcEcG0gmX88SoTiu3LlB9e4O/5KWjy2bLIZwOVBjELJDoJQSrFqRR6Yl6hOGLhAAAAQwGeWnRCfwAAAwAAo4zBtuxxo+t78f5PAz4k+Dssusz6UAENdePW1aqj/TuDFytLRO0cQnYdHnrC9PYvMVVrB1MNGkAAAABJAZ5cakJ/AAADAACj56seI/gqPCQmu0bpW3CnPE/xEjX5fYQYVKtm4AIJnSNhIQokVXYjNjqd2Trk9mRM829to+hvrUDpIRa5qQAAAOhBml9JqEFsmUwUTDf//oywAAADAAEoRNZsEk6hglRLy9ET+dMY0RWdk5HTztxwAvdqEANpRY7nntyVLtamrdicVArENuViWJn51dpj+HMKizpXUD4FgYv9qK2o2n1bPSNmnDvfSCvnFVZFYkhx4h/Nnkxww34JElbasf0xRycX2ExPUurB4VdOy8NgBv0iMqgiOg/dm1ff2+cLH4YfETpxD8byx3KowftTRtg0sJ0/dPx4CwqPHN38x4OEp8f4rFAAypsReELg0+ZMl27R0cR9EVC26W+8DumnpL62mivrDfeMK/5mJNWZAAAAQQGefmpCfwAAAwAApBCQPbpYoBS/y9X65YyEdOvjxzFSQ12xIW2i7TcACc288FF2L5ymDXLlOjPIm4N+58VletcmAAABBkGaYknhClJlMCG//oywAAADAAEoBrayTkAEe7Wvf8KRDYzNX18fkPsBYb3Ils8fu5ox2vfyH0wiOP0FjQ6gHV7Te0uXd1luTb08yKyGV/mD4YHSwn7Vd65Hwo7j3z3LY/hjfjiAA1vPujWyW4K8a7s2132naKOvbCs+niHnPS2L29hTGGpTLQjE2s8cyKMucZQpYrWlRhsPVdneH8EoqEtsLvaXR8urZUfcmfW2LEvDzgJhf6KkDKHj0VKwEtJiiDt+4rhUTRIEkjtLKcxZkyvTluDkOxusjgXKHkmZNoCf6nk5saT4e0T5NFCuyY99HLvoC0W9h2qKuuSC18tvXnCa8Jk8svEAAABtQZ6ARTRMK/8AAAMAAGcvrSkhZamjOY+myeFgVpARlQ1RTxuaqzrkkAIfYlpxM18VjNs7CZ0KeWNiEspsKNnCH+eXrQ7PZZ65TBxGmCIxJf6ztzaojX7K+DoTu/0jiNzXguTznbbLfDXzqv7f7wAAAFMBnqFqQn8AAAMAAKPnqcCRRkb0ynyIxMToIk3YkJA7RsCi/1oYcfaCqagOVgyFs6I7FelNggAbRTrudJpTdUu/jAIboQdlhdw/bomNA+kWbe26PQAAAR1BmqZJqEFomUwIb//+jLAAAAMAASnjf4Gn6XXUoTLYe9+KAq8TA4+vQhBCt9CRjYfwZvRDjeO5EnKF0lQJF+MJeg0PImxmCSFQQSa+0kli2xBI6VY5GgVirl81xT6oWZgNzIlT7I3a5jVx4KzvuMB6COFaoUcKXm2ZYEwsR3pC5y/EGOLI6PT7+0hlrxG9YpU4b4d3+z5sfL6GpuaaWgGNEB7NdRsd/4UEUVmp8d3R6uOK5Y4pU/95sjSWy+sr5zDZVTOZj1hd6XAe9ET3+cLH+9RbpkGgrzxQvLRS3+qPwmpAlQW0iSaj94N0LJURKUZi+EhdvlHKaW0W6+YhOMxZVGCU4/YfQOQwRQHpjAg/w6gJIDSwv1+5X+PUyVEAAABeQZ7ERREsK/8AAAMAAGc3neYkLOHkMn5jsCSTb8ScdfH5pT5IWaMZABD8HjmCgtPyJCEk8H5lQgN33tMpAekQWVZYO9x5OyTnP3ZBIxWG9lbE2Ma9xtuCj4svw1pBPgAAAD8BnuN0Qn8AAAMAAKOMvauIM/+OrzsKiNwtk9JsKTX4W6Z/wFRWKWuw1aKDAAH5D0Mwc+XX6CiJUy0s+A5Hh14AAAAxAZ7lakJ/AAADAACj56m6YNlpDBq8fL7m4Tdr6uJIdXPiWPZAUQQANQKppeT4gKwRsQAAAOpBmupJqEFsmUwIb//+jLAAAAMAASnpvQYac8YBgBbPQwpXO7Otkwi5Conzlv5QG/xC4Kg+ANGFg/mVA/1Ya406GrK43DW8xQMjznoeogMRDytYapMR4NiL+3iqxMBcrvRdkyjTkkJt9r85b6NMd9Sli2L5K15ShhldfE/09wqLeSIK9ywupcLp0I2z1PG69xSHJeSoX/ejk5MBbR+ouN9G/FuuUsp5WJnIjS7eS6SwyGDM9vQXr6Sh37lZDLn9P9pSa+ma/JPwC9Jk7QE/l4BLwEAYgyyQmrmMWTXh82FcZoaq/sMUVj6iKlAAAABcQZ8IRRUsK/8AAAMAAOhEhk021m6Y1wuynTm6FzASm6gBGRqU9le19p1KjDuthhhvlyACZbVOtFLd0QtZC9VdOgnwntQIpGt7oGew0yTXhtXzIz0fjkBmDBIXU18AAABDAZ8ndEJ/AAADAACjjL20jd00yf1zIZE80LOcKxF4ADahyfMYlUEs5MWpp26VF67xxSO8/EjyoeUDdVjcLqJHIfPxaAAAAFQBnylqQn8AAAMAAXTNiWLUFkRIWw9FC6siPQp9YYKikQYgBIEPOxABD8kVM9C9HHzhrS33zP9xMsKLAp3G8fbbQczYkwOgPbkoPjGPxXADCRXh3s0AAACpQZsuSahBbJlMCG///oywAAADAALbV5x+RemPRltoaAFuoXcOwQyQt8V5D7UCPjcHfA50wXtN7Egfjxr//7qaj/QWrx7481dq6zTU4lUJ7PFZpKESaRBE+u/PdNDpjMexxV0LXMWJ0aCEKhUgFUECu3KnzKCvhCyejvHmOpWFfw8g9LRnJ0kNAXshj4nnI/9KFNouthitpMdvhky3IRoa0iP6LM3j9Y+lSwAAACpBn0xFFSwr/wAAAwAA6AEqCm2wVqkhJ+WrxO+sOpzrAXFw8qHn0tKX4mEAAAA5AZ9rdEJ/AAADAAFwiDzI57xEdwGuFW1oVq/JjqT4OLysD6JI/I6CACdiXIDc1Fm2vRVm2O2tEetnAAAANQGfbWpCfwAAAwAAo+epzFMR+FaUcSLfhPVCKuL1gAOsd/FF7EL5KvDxLq8+AgA6YlXE+STKAAAAU0GbckmoQWyZTAhv//6MsAAAAwAC38y5jC/F3D6nA09mnifrA/tkQ0sDaZaBrGK9IAFrhl0AD87D/NNXL5Zjh1p6ZIdAv3aRSRSZWkrCZ333WYCAAAAANEGfkEUVLCv/AAADAADoRIZNNtgbA135rz8k9FPWwbfimr+InuABoHsCjO8+RuIDy5ukz/EAAAAZAZ+vdEJ/AAADAACjjL3JD/vPJrBKZ0rlwAAAAD4Bn7FqQn8AAAMAAXRQUs06MAg5gew3w0o/DAZQl3rHgQfZTd6JizMAEp/sARBUfANGu+zkHXXQIM4bdg3oZgAAAJRBm7RJqEFsmUwUTDf//oywAAADAAEp7Hi08uxW91RFLmdEmDlxHf1x8neRogRqPJZEPc7NyiU0qOizrMvQPqq5CEmFLFRHaZHo/ucapq95ciCLJCgGViOcIt8crwApqFm7PHKB51dGqrsyyFziDSv1851I2WHINLcH3imSOhWSLvZYSuPX0KK9RD3ypDAjgaul/tt5AAAAQgGf02pCfwAAAwAApBCQqj6TNLoG/lgHKUgAOz1/glm+cvw0pr9neoqKk8a7eRZt9pmklfs3Qfc1KROAQZOIrq8ixQAAAMBBm9dJ4QpSZTAhv/6MsAAAAwABKKUTM5NDX4fZgAdgbHQj2bbYWK6haUL2iANub6mHm4SgkupNU/y2h7tHivAkrW84BPNQ1YoVypFXkNjzd2UwYTmSxw60qnU8Aucp+QDFCmogCkGpBPeKsZtARkqh6+LgHj6GzNHFp6QD3RcZ3h9v9YT0BRCR7ggx0pV6ndETo5AoAjbvaTUOYChBvG1rR88U1NR36Gs00NJGrF5786TItrjEBfT2YNmIEEIE8acAAABEQZ/1RTRMK/8AAAMAAGcvriLowbJQXobhYlyJGSqDBsnFCcNLKQxiLLBlHWRZ4QdcnWO3eABDSMFsf3iqkM6Tmx3iTMAAAAA7AZ4WakJ/AAADAACj56m96NCnWV/C3FTfF0EIMXj+uYMh+p5R/6jmlEACEPTAt77yFLaD6pVw48z6oTAAAAG7QZoaSahBaJlMCG///oywAAADAAEp+Jyc58AQVKZp1ygXSNDLUKef9SAGsEEecLb8zVEjgnhnqgPtH9zl9/6SXWKjNJpWzBfSVLbCD9JMM+DQ45cv8weiPvTppPn+03F/9N9A8LajdoKXZt57XRApZ6ASqDQ7Ik5Cjr6U0Wye9bAKrPIaPBVI/BEMLOCCwGjlZdZ8aMUcIDsfJs/S65hSASZv1uOwt18KCPbOKXzItE5NtxEOanDX6IGYBmzkOaRHBLY10sfSJfhEBgk8l6hsnIzs/pRskT4nNBfmhsAZGpWS8/AgBXmDQw6hBD684JWZgJhrk6jsE5oir+iCtM9CotHMX2Jb8D927C+GjLjTK6JLNnBMQJoNt5mwZ9aa8ntnDeA4qDBgKNEfc4Jh/u3bHxa/Rm6iXyrRxqQp7PYu5fMZnNsT+C7QFkbFRu0/2KwyhOYHsAnZRpVD/HBaY3QCNp9T1rzKNYEdX1//xzgV72lVdhKcmyQraC0+wDySqidHVyzT5u4Hnj7reoTx12XpYf+dl+Z8zaxZnTZDzF906HwtM3XmeqRq26nqBOOiHZ9Bt/SOMbx8NfsuSCEAAAAgQZ44RREsK/8AAAMAAGc3nebtpWtPIyvwWxTJvbn59aoAAAAXAZ5ZakJ/AAADAACj56nERU6DO0osbsAAAACJQZpeSahBbJlMCG///oywAAADAAB1NadOEP4rDDwDy/R8Tam/5wmZoEARP1kWtlE1Ot2xyM/X/BMYbqe27hsCkaiPibu4n+bgCEooUbI65eBNWdJ/YIYQvjxQDuh81UoZtSOM+DmKLQ+PEhU9oZvrVQLVkSfAGnCH29VCXjAf0mlXDlqzKBjd2J0AAAA7QZ58RRUsK/8AAAMAAGc3nedCe6bCu9sACZqMiAnZcK0cil3mbCrQ1EoXPyBxPsPzfahDpEYSfS4hkYQAAAAdAZ6bdEJ/AAADAACjjK+49VFfXvw4A89DlAxwAXkAAAAdAZ6dakJ/AAADAACj55qr9Gfyfd1+eeY2yue00tkAAAB2QZqCSahBbJlMCG///oywAAADAAB0//00T5bYz5zeXJI4/AEPmNkPuPhz3VQX8sQhuhH2Gb6ez29TV1MEaimDFJES8GNpvC7DTbUdBFZ+rIqzKHvIGFiy8YDofln2WzTmivtdcosj0C433uQLOJOhDEYCmAR0gAAAAB5BnqBFFSwr/wAAAwAAZzecPu2bnHzx6lVzCf7l6YEAAAATAZ7fdEJ/AAADAACjjL24iQ7VXAAAABcBnsFqQn8AAAMAAKPnqcQBgykGHoT3YQAAAIpBmsZJqEFsmUwIb//+jLAAAAMAAHR59VL7M9qMxWHnDAEPknBuHq6mu4qQHJr9Q8BBtpWkXRuBuFRx6VrrwTFGAAsrNM2lb6t8QFtKrZwNqX4NaHuAXtJc//NjkmenmPVoh/0kg7uC0cfrAkSKuj+2jgDdA7n89lt2ifExvtz8K4bXMZVFbTj6R4cAAAAlQZ7kRRUsK/8AAAMAAGc3nedCjYk0gZuJC2CB+HxY0IvT5oBX1wAAABkBnwN0Qn8AAAMAAKOMvbjSYhYRnUkbZRRsAAAAGgGfBWpCfwAAAwAAo+epxE8geqMn2S8VnT9BAAAAGUGbCkmoQWyZTAhv//6MsAAAAwAAEARwLD4AAAAYQZ8oRRUsK/8AAAMAAGc3nedATQRQrSvBAAAAFQGfR3RCfwAAAwAAo4y9uImfF0B14AAAAD4Bn0lqQn8AAAMAAKPnqcROvsEtwAIVRH/Q0P2tP+iKfDoMUs7x+3rHO6ZiB1xofmXzMY7TDPqerhxg8zsXMQAAAFxBm05JqEFsmUwIb//+jLAAAAMAAHR7jEfb++YpYZWh5A4nAEIpwh1TqUhZWVEhQcgpVloyy32bgcMsm2BcpaHCJZtXFfYOOj6Tiw8uDPVLkeCS3Um1M6uhBbfZRwAAAB1Bn2xFFSwr/wAAAwAAZzed50KROOsnPIpXDHK5sQAAABQBn4t0Qn8AAAMAAKOMvbiJVp+Q/QAAABgBn41qQn8AAAMAAKPnqcRPIHqjJ9kCZzAAAACdQZuSSahBbJlMCG///oywAAADAAB1OE54FEivOIJLrfx3vwBKrDi8EwBUZma7Zrynf34T8M6zsxpPV1mCJAHTUk4pxZTIZ3Nh1xGZUuDK8hfg4FTW+8nTFPCCitUB6vMvXpcbYBAs17Le4qBgXtC3Vc7Ekz3UQ1xapEKxv4AL7D+7ppoxlYGQ6M4SFjGLionDli8eYcrUgpU+zH3VoAAAACVBn7BFFSwr/wAAAwAAZzed50KQxNstojd1dU8hj3EESBsNNgRBAAAAGAGfz3RCfwAAAwAAo4y9uNG0br8mx4Rn7wAAACwBn9FqQn8AAAMAAKPnqcP0O0oAATMLqjd7nlFueLbaxjtkl9aSCmQGB91gvAAAAHVBm9ZJqEFsmUwIb//+jLAAAAMAAHI9wGOAG13dW5PcSTad4ByUP7ZFFUOieT215SlayW30oNqB8S8S/xLquTGvHOkLaDCKtJJwYbkvhEjiL6guuxX9Cf9HimrBDz8oCychmN53MTG1pEQ1cQUdbN+4pO6JWE0AAAAcQZ/0RRUsK/8AAAMAAGc3nec/IEK/MEYu5L4jKQAAABkBnhN0Qn8AAAMAAKOMvbhOc9uGKdK6x2bhAAAAFwGeFWpCfwAAAwAAo+epxEkOgmzap2CoAAAAn0GaGkmoQWyZTAhv//6MsAAAAwABKK3BWBTz0v0MrAwOFRygQnJjtOUDuBjBLWu9GeR+Qk+7VzI466EKaD8GHeT/S8KumvseYogkV8Ic3okuWUh22/UGP2lz9O0owS+GbEubZTdJ8AlB5gPMPBEcruirJ8mLfcuW/KSgSm8QPTQcIGrb1ausVYfYnU1ONww22Phg23PumFCuvapVqswvdAAAACRBnjhFFSwr/wAAAwAAZzed5ubvkzpjtv4t33opFSiJpErEQ5kAAAAhAZ5XdEJ/AAADAACjjL2zD+gbwbNOyeGYn+SNyPD+gYyVAAAAGQGeWWpCfwAAAwAAo+epu0+voZDb8mdpbfwAAABkQZpeSahBbJlMCG///oywAAADAABxpEPQPafMWRBAgBbJ58OzOP7P6Zw4P5a3lSt+zypHk4V8kK/dXjrlyyu7AIe9LzV0Dc4Sga++KwSyYhFwa/6nyDszhwVhTUBQK3A/3Zg7YQAAABxBnnxFFSwr/wAAAwAAZzed5z8gQtL4IxdjZB6AAAAAGAGem3RCfwAAAwAAo4y9uGCGl0iLgIUDMwAAABcBnp1qQn8AAAMAAKPnqcRJDoJtThOfwQAAAI1BmoJJqEFsmUwIb//+jLAAAAMAAShBuquil1I57yXAgDUrkiYHCP4A5Rd8dhahq8T8/qBZIztItuyA9vAxb0T/6/yuEi7TPopTXDJRPbJzBmbiWhRWKU/g6Fbh2fCMPGVueacFbFE/zBEuuj49nliTcEbPU2v49gECYaOPIfOTqn/S2bquchGzJaD6UugAAAAmQZ6gRRUsK/8AAAMAAGc3nefBv42afU0QPw3DJHOXJM+ztnLuGnUAAAAaAZ7fdEJ/AAADAACjjL2zD+jBBT+J6YOyXzAAAAAbAZ7BakJ/AAADAACj56m6hhRoDjiYTgb3QjMxAAAAjEGaxkmoQWyZTAhv//6MsAAAAwABKAYK8kAOkDclc49lRKLN05wmsSVWbNrw/+1UqSeJfBxyzWBMuUp0PpovRViAU5dErU4vKy8MLfR2ecleK8eCyJBXh4RwOKZrhB+hCW9ONOHDPJiA1slBDd7ONk3umAn03n6TrPmMB+tC4JErxrP77V28MoDiwZHlAAAAMkGe5EUVLCv/AAADAABnN53m5u+SIa0W4fvYRDdoRKw/Ln2GAFkk33K1WDVvy/DpbZbgAAAAOwGfA3RCfwAAAwAAo4y9q+m0Go8UkS57s1EqVsAC+rYVwQVjIULYMJm4hOze1PAmF1OD81AUuBByJfnAAAAAMAGfBWpCfwAAAwAAo+epvnpx9cnoWlYkgAHaErVk/sQU5vpOEmxsNhuVkUnqQzugaQAAAK1BmwhJqEFsmUwUTDf//oywAAADAAEoC9uoXtyyqKfOS96sAF0E05h37T+dM2IA2BV6lJ9dIPewdn0yeFCYiBLnIIEH7uBNXEbogHdrxPl4bRXJuNsGtXUB7KcdYRKK6bJHgeROW1bp9ohLlibkfD9/13pTy8meHlYGU+2jCH3zn6xwUO0y+ongP9bQDHnOwYetBlx7F2OK1nqmY6/8R5xSaVAQgItBxbs1pFOFkAAAACMBnydqQn8AAAMAAKQQkKpAOHYEmrANOEMvrEQHhdmn4iDYcQAAAFpBmyxJ4QpSZTAhv/6MsAAAAwABKEbDIDzJ/0JZQ6g0aHQAQ9U4Y9/VXiye5DeDiirSzKgUjspxeTNOutbtmPDitMTwi+MR8A82b5R3N2IUY4r01JvBDoD8nAcAAAA8QZ9KRTRMK/8AAAMAAGcvriL/DHxqWOSPKiw1wEVCSmmgAPbquUcewkwmwdmnFJs7qnvZaV3sWFBgShHxAAAAOAGfaXRCfwAAAwAAo4y9mRHAD0jt5/jqvGLt955LW/Akn8Wi2Q0/t1gIkksbkUUnr3ghrVEPXZBRAAAAGwGfa2pCfwAAAwAAo+epznae3LZXDuvD+HxEMQAAAKNBm3BJqEFomUwIb//+jLAAAAMAASgEypgElQnIkkh/X13rk4EdtPWgANLB5DcFx2I29Mg0r1UWUeOyCn6tUbGEBg0EKK/qyNPBf0sdAM8sWu1lEV6FsdpbdeqsQsu5qxeQEkZz4oAt9AWvJ6hN8mGVn0h+Yuv1q4qhCwEBJzfjYlQZzJT84EFLTefj02nH8SrGpoTj73dQc5WF2F/sw/2xPXGVAAAAUkGfjkURLCv/AAADAABnN53m4bh80m032vzDnVB/6Xa/5t8fyKymH98EAJod0rc1WFyY0R9KWsobKsE0WwoDOoahTVOMMOXfDWtWo3v6hX3YRooAAAAwAZ+tdEJ/AAADAACjjL2ySgsLTalkKYLfIFaoM2QgAHklqjFfhWWprr4HaE0vzx+AAAAAOAGfr2pCfwAAAwAAo+epz/U64b5pCbGJXUgnULAbKCh+GEjLkACEwSG2OFA4vGl2fzlxPuC/1avBAAAAlEGbskmoQWyZTBRMN//+jLAAAAMAATHpvTXfPfCKd26eWaA9xsPzfrq3j8jKP26AUl36nK1jQuc8dactBy4FepBtI1EMTf5Q1s8JsKlveUEA8ppbHHndr5JLqicyNJCss3s2rNndfaRr1ZDAFXyonjW7bcy5s9yYL760ow523/VikYMcDmOCOWnE+HOvkZ7MP+UbHYgAAAA7AZ/RakJ/AAADAACkEI+Z1brTY/BeTagj5Onl5bommibgupCN6chA0ACDmYFWiXyweM1/Mqo57DDzssAAAADMQZvUSeEKUmUwUsN//oywAAADAAE4BRRpiAEI9GVOUWRTsNDIwl6xRXXKDg2Z/ADDtQcM1O5WPAbo76jFV5qS+gbZtbI/wG7mH5IEiSznjU6KVsYMXFj3e5IzR44cJVbXeaHw6Sclmqowp5y9C1LBaGez9PiWGTVgMCCUSNK/0lLwQanRJ34C6joLj+jdE18hEnLSwyVP+O9A2EHHrTMeeJkKlamJYRW3zlntolQNlVm8Xd+owKBFcz+fbhaVyV5cTDrn0vsmqb1RtLX5AAAARQGf82pCfwAAAwAAn2YSCxi/GnBZlOM3eYUHnqPZJ44AHr+69iFnPgBjaKHFYLkeRd02R/QABpLOVTTjj86v/5b992MyiwAAARpBm/hJ4Q6JlMCG//6MsAAAAwABQuZceb0bLCgAnZ4Oib70FFc28NCYSaXfu9yrPLHjzCy22gd9E96m9m59rP1ZPiXJmy5uwLlVJezUedxT4uzV9Umc+ETQ4rZRYs7FsuO4MAy/dD59zJzSeiAm9S63HmOptG5bYNzhpAyWDhAxlBb0lLHIe4gqBLBkQQsaNPVURSeHmifOITn43mFpovulQPGo2/1DMd8cu/qurXR7CTKsWQq8JpGWPAJrWEXVd30ftKZ+mbKzILQVJ4F7dEhvG4ibpK/6B2W+E3JC7omp0dJhfcwp6/BWdLUZTKZX//10TjCjdZHK5byyrEYr69bxmzbmN50GrVTH1AAt81B2bk1fEXLue+RIi0EAAABfQZ4WRRU8K/8AAAMAAGcJ2ydNLGH0tNaMQ0Uu8soS2lB5eLTHv6iACc11DzvCPnq7MI9c/koLmHOuqLT0Z/KW6IkBU1l21UAnq/0F5LZ0pWyloqlKHUX00AHCPTNeP+AAAAA2AZ41dEJ/AAADAACjitCEEQ15MgSvm3iADjERzHBoA/26Q/uMf/80Bd3QdcHJya4Cvz8QOSxXAAAASQGeN2pCfwAAAwAAns5UveIqsu5UKZOle8afzc4gE/I3F7P1eAEI2kPKwvNCgCbFc49olZcVrEKu04+Y+Y3F0I1BUSl+DXS2S58AAACqQZo5SahBaJlMCG///oywAAADAAE4kB6bSyShyMgBHT8VyiUhVD6OCj2Wecac+OVT8NvKuPIJY+BDmhREwJuk2+B5ww1/oeIVSHpfd12Cbf7VlZIQWJbH42mT8d4JHOF7xBNMmrKnpbdxfWecGwTp8JALyNoSmT6Ir0pmmaXgkFWU64Ed6x9RMwBfBR3w0Vun0duv41lTVQTAbtmCsRxV2ks9/Wz+2y2hsj8AAADjQZpdSeEKUmUwIb/+jLAAAAMAAUCpShekCAFd6JX0P96iyhY5aN5P1N2eJZU98m5OKU4yRX/IDalRodP+IsbVhrFk15Tje5WwpJmsP18zzVXAeT/oA+4KlPXEoqMJmv3rq8scf/uS6A/xCsZUFwUAFOFV6lDe3pbEd7ECKC6V5wfSfDq/Hjwfyx/HOr1jtcaGMbaH8VRz50vFFyPc1YUQUiBShu4VePzkjR+kfx77Q9ns7xWTVlHZ0rG5TjDCV03KdRtVZglASeSgkmi+FgvhE7ADTz04coylSM1u5EhjNBM+CJAAAABaQZ57RTRMK/8AAAMAAGb9598ElQN5qUe4CJdyADOygeQJs8MtAoxEW5GT5AXv72rjJbJXPh2FVfRfPCCN5hUKCdJp3U+gxjxEHuC8T3koq7zte/jM4hilTEXhAAAAPwGemnRCfwAAAwAAo/liQcc8ADy0wVtvPTGbP7OjkW7GgASuE1A2qCI5dGyT7S+2yNC1qNRPlcNeJB7+ZUq9wAAAAEgBnpxqQn8AAAMAAKOQtrjw/RBPS7GR2fzSfMfgABzC5+ZzhdVaEC6rxTAy7+LKkCQ5U5FKmwyKg8SYYIoLs7YA6WQ9BKA3nUsAAAETQZqBSahBaJlMCG///oywAAADAAFAZTERq0h97C8+mACINMEGeu9hNfVxCGKnZOqBAQmIKOO7X4zOpVolZGjEAOGzhkS1ulZ/+y5VHsYwoZblmTZOWta1W+eJltf/xggXQmSZiR9Diru2YSl94lzjXSS6DNJcpAe08ROOz++XnIHJ9cWAVVweqL3m/vF+PxjAO9Sm8vzKd4JiIAVLtCaSJegQi+aVUCHU2ExkEsOU0bE1yfkcneh7QH3sW3SJgez0jkzLLdnE50YRmqyiYjGuum0tfB9ds0oOuet/TDT5PumCU6DWdlucAb7UtZxmBcD65oTuX3r/Y4BUAi+pQ54nsDU6hyVbQNKsYW8tPxTh6qTAsTkAAABdQZ6/RREsK/8AAAMAAGh+7a5d/yPAFSBexwcRy5t145a0+EFpKcAHPwEVEsQWKjIyg1VEPNiANWJgfV8tEjrwm4XRuWX1P/IXghpKiL4PjiRzyd8VCpFC7plVXeCvAAAASgGe3nRCfwAAAwAAqAn8IKDN404eTWKmo/73OmbX4gAdoBH0215lQcRCJ99Txp65KWAFrtyiDS4zO99IwpPBzldNOOvcLftOOnnBAAAANgGewGpCfwAAAwAAqGW0OLtJ/2dCtp182yXlIKbzioMoMF8d+JTaGjHyAQAQYGx2nuqY3qquJAAAAMhBmsNJqEFsmUwUTDf//oywAAADAAFLOhrAnIAQjbrMZD6lPwa28oqOMQWNRTkNtA1OOVWSEfpqlml112gnCcoC+oXdOxi/e/8c+TXqflm5HLAysx1l2e6GgyfpMN41xZT01CZi+U/3aAfxLz7zWK6X2k6AGiS1+sS8CzU/3F63ymPX59Y9pV3KUEjW1ghWCX4K7LQS3gbbVZAKrbhIIoAktkylQWdRaM4ymkIujoIIQXGwmMyqEgahXqVn+pEzCKUgbkpmqtXIbQAAAC0BnuJqQn8AAAMAAKgV/UR7HUb4/bM5DFpWKwJrzQjc9nHQ36OzAbh5/c5b34EAAAB0QZrnSeEKUmUwIb/+jLAAAAMAAHoEUsAN16QsMPX8RK+29oG4jzleQPDNKUops2HLyPhDLv3aYIwkWNTTbC7Fet309kr1uZBniWS+/EhmT+aTCv+2ie7Ry/eg+LDMHS/frVDBraVqPcbwt3FkZt3vOjXHIAQAAABKQZ8FRTRMK/8AAAMAAGmB5+UrC1V5FTfsNKGMbw5ThdgAS1M+lPDP78Yyp36h/xMCxpOvkUpxDij6fX5FSZ4DvQjAu+ecQckmUXgAAAAyAZ8kdEJ/AAADAACoQtPOGw371Y1fu6zUua8mxnoqf9weCAAvAbvibWYuT+lJsmTw5WEAAAAZAZ8makJ/AAADAACoZhIIn2L9NA1zK/YcPAAAALFBmytJqEFomUwIb//+jLAAAAMAAUvmXHMrI6iD/+/YkMSOgAP91Lip6YBTEgtluQfQInRmYnAy1G7nKsH7Mdkrqnq6ntx9UxKWj/ZHpqvhHu7znRn2oHOXou/a6zvq4uEKyPm+QtT7EB+EFEu/q+8lmmUHC2WDdBHHdV5xuRsi5Xg9sKTRunf0Xf6ILZGxLbROSL5CGjJWI2hEZQ9l6q9+q38DPZIt77EcX9GrPPZeFbkAAAA6QZ9JRREsK/8AAAMAAGk1IeR3upWnm0FklQZpuZVXbRuTw44MWVsAqBap4/FgAkiw5+0eTzJt86CxoAAAADUBn2h0Qn8AAAMAAKh5fEzcFeN9HzsAELZ/xvkTptkpZUn9QcYlCLt+rHiRg91DIAhyADQ18QAAAEoBn2pqQn8AAAMAAKZEEwpWMnDKDGclgl1cY+MQAljxiueNj7EVe9HfxP3qPPJEvju+zs7X0E9KoKkwE5/2ZW2eVDYpxTpe4JI55QAAAMpBm25JqEFsmUwIb//+jLAAAAMAAUvmXKblpMtPgAIRIEkPWxelZBl1Y2sRQxD/7Vrx3wW942ugl+Mxam8v+cGJv8Epp/8ASOGiQa72hDjxJrRiJw41tVOHHZLuHXPZ2erKLRWdfex+bHJwPq+2y+FcS0H2JA73bwCGZ11KLnxYpOzxuWTEVtHExtHzj72l/f2cen2g42HRNXhb7qDRW3KsCwt1WujDdHC8nKkFlQajPAeXruPIRS2v8uZKmvmgSYRV6zSLlnI178OdAAAASUGfjEUVLCv/AAADAABlzid9oRquP7SjQzhGrxfbjf1MvcnnXu9e/GxRiraxk2JABsXCipd/ru2LH8iOx8wSyx7z+bMPOQiYBfEAAABQAZ+takJ/AAADAACjkFIFnB5VBOq8zl0Phd0h0ZvxwAP45A3EsXSmN/UitkAqEYXR+gP0o1Q47YFguqY5PC+vP0lgn5Ly7MTLlHhcEx0Wr8wAAAESQZuySahBbJlMCGf//jhAAAADAATbomq2kBAFlABfQoG65JYtGK1UfbfbK4C1qhwnZJek3SkVFr+25LX8GY4Oak175+eaIBmhWcgw5FrXDph983TptDNKkoNUZP+VOtvCdT5pkPX1YD0Bkuz9UKTAPWOmAFoYlL1gLmLlHZeuySs/Z+bxkVqk/fKm235tVRFMUhdU1uRJ3KJk0OKm+DrYW4Yl0b1zgBmAxrPV/CMOBtLum9dxn642hKShimQeqhZHUDmTFjKR6jZN+kHnMQz8/YIwYtA6NemH8sfTfV1kumySYRuTZK/TM4xchbs6D9Oq8v3RACyPDgt0m0qd/eYwxlA0pYJ8OQxeKGojCdGA1XsewAAAAGpBn9BFFSwr/wAAAwAAZv5HIfTuhvbkNQxQP/WrrMx2iZO7JssAB/NYs+vGm9OZUVrHnL0x56LpyyftQtrOkXcIoF/rMC/sNIdPOUCHIiNLLYroD8unvEKxman2aAjfGK8WAt/D2OkDzQxBAAAAVgGf73RCfwAAAwAAo35vDKQMO52uvzom4YeKInDPEA11XwTAA7J17rIFv2aOGbz8fx/waHizPT0KNmF83d+iOcDek542OKX/zcyl7FjtcyivqNYTwRrgAAAARAGf8WpCfwAAAwAAoccptIVfUprjKFZTu2yKq05SQ+AECeajqlRu/ZHFbWJXI3CLH8hNRIuDIkXQLm7uQXoN1eHb7SAgAAAAukGb80moQWyZTAhn//44QAAAAwAEssjbBhbilgAh6NqQeGL/CYsHkfjV308yysTZYVPh2isgMCI6FoEOCDTy45I14UQRHMnJ4WYvAsOp8uL5oZjRZM9nSKkvH+8G//Ijpv4RBHu2d9qslpORpfvVgSxZu4a6DX/ZVqu1fN5nk05jd5UQirc72mG4E8KXA9o/xiJqLC67VqG5nyRPMZaSbq1I/qloLMVXyPZykNCpKwy3+ensy24nx3zBEQAAALBBmhRJ4QpSZTAhn/44QAAAAwAEs8dKNwariCGa7YO0Sh6QAtXQMe6L5Oe/IPSle+J33LgWWVYr0iEnGssLQe6ihlmRX0ydhT15+6NFf2Z0RaeaxrOKu/V+AcKKLaR26sOnnv2nkI6nZPdGt2f2P842OJISgy79jsFio2P18bUNXWTozncARHJwjnYtcPwgGYPYJhm6YM9BFsC7Wtjea1ijhPsBSmwLgCvzu3eT3u1zvwAAAONBmjZJ4Q6JlMFNEwz//jhAAAADAAS7omy8f7wVvgmRbXj/5pswgA+3+C5i5fN7/ltrfJd71zBoPADtu+oHvuRzGy4H2vKsvs4cxjuDe5gVMYs9IxxR90CmRr9Hfxe0/s11zeXcOGRjlvvw6GrkCYgO9ktni+31AZmO27T6u4U5in0umaMpKoZLiWyO3O6HW0IWGoQwDuNwpjSO3KGE3petnmlr0EjIBYBHnc8IdGwYS6tuik190q0mDqrYeI0kxdWcVcEcMDo7fHemkZtlnrg/LJiJMRfXV6XZ/LSg1VqCQYcbsQAAAEwBnlVqQn8AAAMAAJ8iFj1em5D1dppafkO07EniVm+wfMMBbrbk9PHAA/efIKX2nN7N8KPwbTtqYdOFjxldL47DvM1/kLRh/zSwzd/gAAAA80GaWEnhDyZTBTwz//44QAAAAwAEe4l4GZEUBiz1uW+jtaS3ucjKAT+y6OHUCOVnZBD3yCjj3fjglQC4FwO/dcdtdKPnDcMlpx32mYDkybwOLfaps3RMPSHf1EOX2gDyxBVLJeGna0ajem3q4RCrt9p3a2cAFSHCrxqCU6ANXBJgAan2Jv7FSEItVnpVdgEJ3fyEVdLdo/8mVgMz+KPX4OT+y1b3kWx2x0bl7KoieDytd5SFNIwsPEAChnMdAHaODaOZxTRE8uFLrYow2kgjKX/EscLCvBt78UYKw/Ak3IHHVReJhDPHEjjvCSeWjGFZOEKpdAAAAFkBnndqQn8AAAMAAJrGU6EH1ApM5oL/AAiBmBb5psANUPrkLHcRGu/Q3aF8/j0XTf9SXOIs71Zs3DZ6si01D9WuABy4V4G0lwRgozL5eqpdD0QZhdrw0h9SYQAAANZBmnlJ4Q8mUwIb//6MsAAAAwABKA2+3AyfRr3om0jxR7RUCUmZXbLB6Kr6nu/PII4P6cJuVLggJ/rBeiBiIiJk90oeewEWwNnEkLroh0xKlrxtA9cFgiSis9xXIajsccWtO2bA2HVnwN+43D77T3IbgrebE6yAWUITaqnW7wCejtUmQXdnt0whKXQc0ILvBLaCLFjJogO6z7lWuSPa2uWu5HV87AVIv98CO6aJosUbBDBdZ1bWB+wDh5fihXdjnxsG6V+u8xwaVTVl94bzxE3/HGxL+wqAAAAOV2WIhAA///728P4FNjuY0JcRzeidMx+/Fbi6NDe9zgAAAwAAAwAAtTi0FyWuY1Jv5KR7vD+6dEqLVYAAAH2rbmfzYSGYYZ6YKqM2MSw/Ei4YTGekRI+zfQ5SrRyCMRMMISaFBTU7ezyHT7KqmewmDzrzdDyTpDpiVuWRxxZStt/+aCqqhTLrR32f2RzBmso9mb4jtAxYKVO6nNUdaDDFVdrWJ7He/jvpzG8YGb2luO69Ncg/FKV4yy97pL+5TWD28f3ttoabMqg1sGdcEUd6CfrZzZ8DYUL58HvzWI9fQMwFFjJ4q0WgnaRsc+/Mc6WW61gAEg76U+vB5YmYiuFHoNt2/djK3q/a8BtG++opW7wDvQ+6fTRUqModr4pRTu0xYiVJEdsyNCiKri5PLd4+JlK+QxH7RYerlki2GWFR+LoOybqmK7SYWQCM6EcMZkjaF9c63gMv1YhoOSxX1mJr7nnspD524LVGzuEqr1K8fbU/81gXAbZ94R1iL17eOzp35q4OHsFbnTWc96o25B5ib4Fkyhqhm13S0BnEbp5ndmeLUPGAHtE2/ro4EzI+LFdmhunQ/e4CkarG0ZI/L+aN4xNIbqffMaxzKDJP1j5CZHxg+yvdlE0aDsfTh/tOSvBOnLJ85kUvk4X6eSJxBqszbsS1L7SuYAAAAwAQCILoxdUkJs6pZzOhGVR6m2+3dJ+sbQvQ1ZQn6FnSttVVZGjQVGP7t0sGUCrFNjnzZ8iri6Ngt7ppiRP4vcd0hxrmJDcnTruQhIMLvifleN4zuJ9KS0N7Rz6hXlf+XlIf1pl5ds4eF9xvfkZ+FWwwz19N0xqdeQbpy/JVHFTicfvXYi/AAABNRGDfXlRdKbg3ag40WjYo16IJUC9+J9Lfcvp91vW2RD4qu/AQPz1T9FZxap95b19hsdQ3qOwSwnX2LBHXK3Jmw3Oi5NDwP1yNaIlOcf0z/hVUfunbkn4+jPOAmIe2nFX2c+rgBgIDOgFVadD6t6XibWJAZbbqhNP3pzUwqWnXckO3HuColDSaIGFqz5E6KdJTxZGnj8X1Fi2t0/sxycS+a90qiw9e8TgMJWNtcmYKh49AFWgL5kq6Fw2i91mO9XLKQ8/wAslhf5TlFTjUQGRELY5Wpu8S0N9TmN+mRKF5k0O0l2GXaNNjYomMl1sRG9t8h8XMPmg2Oml0C+53r8fo5jE8sxrgxQO49S+044mEZlRZpuYD2ICaMke6eGSndghKjlr1sfYDmiS8fLVQhxbk6hzt60CTGIYyXHlpCt4P72leIQ6AghKEQT7Rzz6S0vEOsbI8Jp1wAZobcZPBOU/Wb0HXeRHMqztx3BzqQEDqCcCCnRPMUZazNUieF2xdvQZ8KP0C/6swhjwMpYofkzTA+gbU4nWmiogBb/YLoAFerUxA68lk3u/xtne2AZWaobz9dvs3fFoX2N5OqG1+A0hw7OHzE+Xx9Gs3OafwRzi76UR8Zg+IukJfziQXe0ahuJZ7Ef2vTtGpEABmCvEP7A2qGJgo3iLHFiViXvEUDapMZlaGfZTcOTFz9OFflzx5VSPxG+paAuSBVb0507f6LewB6ElnH6F77W6tEVkDGBbrYT81LxnzWPV/dv0VR24jQ7yALYDNprOv7LCbEDpB1e7BCJpwoSaMG9neAQY9PCKSf8ptckXDPfRipGn73ob+dD7QnYyhpWyIAVAX2jRcfkx7RnSBdVT93PoWirzYUru3pZwcHPzkLPiBP0fdB70atovzZ45u2EGG3WGWuv3HviS0S91PaAAFsIAX4tzQ/PGvbPNkQqhF8/atp/V8d+SaTcoRYA5pPoem8PWH6LqKnKx9I4OKmRu0j46bFHhi3AVl6RCDwNP5x2LWKQzzaJcv+99xZB2CbqzoAYeMyMr+ZeKMIzKijkHOAxQj00dT6+P7uu3dlCas96woCwRnx+aSJaE5u+LdbO/gGqlzLWY79d5UwAHIs/P9YOUF7hJKI/6eKmKBSj2/4mo/Wv7XcK0H0/cbIDCLtahxC3brUY+yHnB4O2GtF+cEB1eXZRnr3rTsctUy7ycS+y/yf/5O/V8kLNMlxwiiJzHbgcTJv3bYsGUdySeAsM/EMsm8aijUCn2zECEsILwMMmWVg/ktfdE57LtTVafZO2a3R/+7+XnUZpGfuAr8642DV8bgVNSvk5wZJOz3SLbWyV/1rZAKHWpZYLG0Gr8iyxWkm/mVzMFmSPLu/aN5hJk2Exu7IRIFJw6sSZ2GQzRiq3dX+PKC5XMR8VQd9K6rPfivWX5m1Fvm8+rwVFzF4/N81OcPLHlwJCqKKjiwoOByUl0kFJg6C6BKIQQwXV0eDmry2n1OaC9UpBC7960PkF/XPRR8VPuWVswR1vryzHmJntEsM8RFxb+HPO+MVSX0Ll/mZn3drcsDFANvtCnIzqAF9DH6YTTtvIWp63fpBsgO/59zNlM7t4fP6wqMAenWuL1KCwRFtKWxmtJvjwXpZbKkK7JbHl+HzGEAyH4OrUq7qwMfGKwA1MBGqpq2F9+fZGnmsAAF6HcScaHyjMteSOlWlrQF0WythdWIy57713RNgIFt0ufQ2G4yVhZxfheSKTZBaUcqyWQhVRB5I/4ut2ui5/V71esrbJF4TYd12/BlGgVu/+ORxnG/3SLQj99e/zpwPlHT5ZOVX0LAvgpZDyTEq/fYEPBqYuszkAFtu/5o8v3b2e9MExG/S+GPC0c4DaZ7bF/pBIexGAIPdY0VpMmXxu/AX5p+bUO3q32QCKe5PknMyYV1rk+jDkNjCwxZPKC2HygXPsk8PdZFgnXbQCHFKFOAGQh5Gnb/310Ep0FJhU1d+BjkmNutyZdG3at3h9p6EciAs1AnlOevMRoNTzUVioQEKPOsOKqLO/d3fEkXpIjebE1wJFkXbi1SA1N4uauKsPlfUZMVMaEG/3778YFI5EA2qHs6aZOKWfYPtqEgAgx4vXqbtw4F/Sq6wAVez6OTPYq78qfBKATQu8yb22RD/kAu07bZgWcM/OIIk0olvoodKDwdxG9+HiNK4xKojCiivDreFOTraUbjZ0YXwmdThxhkxQ5y1XCZAPGcLWfFhuj7nGSNJcvNNd+XDLjKQ29OBzhIA7rFEI/Cc5FDxq4MobpEsNMmFlgcJLaXdlJR1QchJr8m3oLllkB8LRRr8lbYdf9gQ8ZUTm6xXV75LetHT1u7wAAGPAEFTvSXU7SpqwugFS4Jsmfxsg4vXvuOu7OB/4AsJPRF6niIdZQQdKLFFhbX6g2MeVNHdK2L9tvr3srCCpKxMP6eQdcsPl5WgIOcoI5GInwKr117I/ODGMrIj52iihk0E80kLKHdPaN6aFDrPobIRB8LswVVrsfb7aamvS17EwlKizxHHbdTzDJvy7G/JgEwoIN6VKUv2F+ZYIMRT0oJGAoXs2AADN/2oC1Ta8+oF2AzpxEhWx2MO8TdKSuDUfEeqmhA4fv9OV24f57Bl9co4BxhxodVQX3ZMYPN4xC1dxtu4ayxRNMZ+p6pioV8lQ0gUAcRmUsCZvi51jIkURYRJSQBNnMPUPbRDnVf6Yd0zNkGsTucL5Muep4Cz5qaqvQofDs2AfQw7lBIe6jFfwnlY1K+T6VVIEV9TqqLNudTjM58JGNcbFPO9zTvYnyIhrRFzHK0sA7J8AAXBrVo8Rh18gnztZO6EgZgAiLAbaFa4MnDvA7ezte5C0ibzkFOYABtnrrlJDpItj23DPSjvT/G1+3Wz4HHsqopdHjHRxsco4KkOKFQZGN/Qsg2wyfpdcFbcKoAHb70/TLhU4atUQWwea8xY2xavE/mJfgqP/yU9zzNCple3JX4iEAo0iO3iAoATEJG/kUFDPTQvhY82R7x1M4tVMosb8F/LDg9SN2wzC0g/04s8J4BLsXxXDhJp0bwAdisb3Ayk/FIk7axnlLgFOnY6ZbDbmPG5SzomLq6rzIJ3rj3GQB4lLNHRxQBa3P6Ekfa8twSM7LqRmHTGMyNh4HCK2ncJ8epCOHbxgAL6XJhYJSUBjQjBCyOzaKC3A1jiV1+SszwG/26+py3AmxiTP0sjFhwQUD52SKU3Ay+tz40aJGelHKae2UuAogSuVH8qJ6fXPVkbP+zmX38lAejav8+pGxpLI+pD7AxH6L7lpGtmiacJ49BNDcqW3Ge75dub6SEYHqq+3kmFOUZeM0abU2IuHGRH9/pHUNPAgey4Kua3d3fGmO3mP7OvEHTyi3zrnj6gIZg9moQJVudSQx34MhZt8qfomOKMZnVasQ4doeE/wScrxNFWWsDWr/5sT38WbwzkaUoKzbhVffnXW0OZAdqhyH616l+vZYq9VaKpw14S29xCDI7u5c0gdBNZAuytGbGSmysj5HeDp08tHnG0LWteW2n/s77xvZz7qBO7uzNC6jtRF1NNTCs7xdjRaaecqAX8PLeI+qCGG1EkA5w3ngk0poB+vgAAAMAOrO/ydowLeJqjhsB1P2h0yZW0Lab4zPLGszA4I6RgJLXwlCAVtdpqgRtkNo+CVCSkq6VYwDSfjtPV/0JLanpfCIcnZ+PfEuVYrJt4Wr78jl8oiwbPUzRXQx3aDWPtu1TzJwnrk9vpZY5mftPZo3WJ7ClrVRCh1Gdcdj/FzgLvqUDSsoV832ERqbRU0QbGbFsBEErdOU94K4Y4NCT/RsosfyIYE5PWJj1B94HJ88QNEP41EW3vb7s92UKReNte65gxCKoSNU3XWWHfAI7iIFNyp9Q4FUYNsGJLgOxDVghobdjUzm62XHFQ0okuHJ6ZwgcmUZayjradNMTe1Uk9DkMf4lwZY//hOtAIhxksPxfIx5q02PI1KDN0oV/jEfJzmfr2mYTXAvxtPsuABPd7OR0ilu+NIV+rwnZJp2anCmujxn71jgB7D3xqm8ZBrgV6BOQAAAApkGaIWxDf/6MsAAAAwABKPxeLjxa/7IAL6ayXmFgesdBT8SSHXzYP1NnjSWDmFps5CQnFFjQWcqMS70v2IAK/YQjvyts7gTEv3m7WPua1TXo6yACj+uOvB6eaznas9kMEtrxQ0j8B5H7IyCWG5KHaXRS3Q2NU79NAr/lFi1QJuhm61BLjWFoSBXPF1X0Z6HXrxDmDalhoPvS1bHaWRypS/zRWvpgJPEAAAEJQZpEPCGTKYQ3//6MsAAAAwABKENro4D+UKJeGnUSOPTtQ/t3WRAcZ2Wu9ENmWoS6Jk8qyU9wpQgGldZ8bVTxnnqlTkIAfwJ18hZmq6VyS4jJUlLfJDqH1zlieQL+6G7Ox4NgbG0bupW/7Qj4WiudGg/92BJ83AnaK23BCJb9oBAOyvUpGfqg/RMiYPm5WsKuWBXbG6MExEknVik4c2vXyJ//IEXCI9uL58QeNKAeSj6GD3Hj2odmITWg3qykfuQJj2Ai9E8YzjJFI61yRPy8WGvJFshZ+C5v0gtLu9rWeTLGuI95TdIQpWo9lSAdUTQdXYzg7SsxSGR0G+z/hA1WXX+1po3KyFIt4AAAAGxBnmJqU8K/AAADAABfbKBQdMi+OMvKlr7G2NgYVBT4gFmRUVnIbyl6gj5SuXEFz+uOBIAL5YBFnmVo9gmOsPwG3geNMsD7zf/UU9gl8SUmmjh7RlPG4K2HiTzgd98jCVLn+bFrAfhXO5gNQGkAAABLAZ6DakJ/AAADAACWtRgmKLFT1g2v+db8bOtMdMntAVnIAPdWE6EnNJ4VYv0z+gFeIAA2K2Z5P8+9V3OJP8WMFfrbSvI2waZma4f5AAAA1UGah0moQWiZTAhv//6MsAAAAwABKem9Bir8aTuSAEHiH2H4FHRKAISwLFDf5YBpdLjdyuyVDv3f/N1sXpx+CL3gAMzZSdFJTvFKVz2eE/iOOpzlxe6wknpzG6hy91OHU0VevjdnPSJ4Yc21VdX59+txWtPIiNPR78kn7LWvtkJp7WyWkcZPxqdRCNVBcf51ap99HpY4k5gkWL3tU+IR5NI+Lww5Rd5zJi7DsMSQ+JiAx/3SBagpejHE1L21I7iQjkgl1G6o4/RQwrLMbJ2apGO5o39KlAAAAEBBnqVFESwr/wAAAwAA6ESAL8UtjhGlXCgXCRFV/VBWCKxFXYAIg1jP3a9fBz7Hi1CUK16dC+PalrKAIp9wuCCBAAAATQGexmpCfwAAAwABdM17jJ997MD7G2Bq78VcLJoqsgH8TixjPDJ38gASt3ISC25MVJOfxWjJ2NPE7qaYGy6+xRxx3Lh8Rj+/0daWQLUoAAAA6kGay0moQWyZTAhv//6MsAAAAwAC3PUQ14uFgBxZr9PiGrlo0fiV4kPWMn1+dsUL+mU1YD7nStz5x1BrcSkWIgYgklpe0k40p4th+Iag76I5ViwTm+DIKS7A2zWpbyjJyHF2sSlM5MmcdiNhIU42xrAMfywVoNtgGw6krPD8L7Sujjm/aUwwo1UABFU3+iVJckYPvXZ6cxjfsOhkxiXEm0Cwyo6u32INEWVcNTVYT8yo1LygV7fbYCDaU6ebKTtAKdicUKIqRJPB8yiI/+0mIPuepJ2cxJuKD4QOnd8EY3/3p0DfxvHEzPeawQAAAF9BnulFFSwr/wAAAwAA5+gVGbsvfvphhXn2aUe0Uz5GKSKsfl/sl/lwopIJQAmZVwM/fnbZfuXKcIVZMxoqw0eofRDs83NNtiEZ5l+/sLh7tbSG/wUeHnx18Vt9QE2vgQAAAEUBnwh0Qn8AAAMAAXQClYnsq03I9wIPUoS9e204gAdY1hxD9BzjrNdmSBIMVcu7nHQBkf4F9pQCJvVF8IfzAi2N9hevq4QAAABBAZ8KakJ/AAADAAF0vfumAYJPBp2J3k0wTjUzYAuU2THRu4AITlrDbR+fvmyE6Nvk1xpe5YndZag7W85R5VE6FZUAAABaQZsPSahBbJlMCG///oywAAADAALbV6FqDBKGGx7B+xpLABD7swt9FNtUASlerRT05JUIIZIYIskZiUydRm/Hl4689PXnFSIOQ/Es9/cAUtu7ICE4zE/wIWhdAAAAS0GfLUUVLCv/AAADAADn7MN/PsI7G60fA5AXAQQ1CbxhL6kAJYx9GXAcMS3TcncbFeItHaEVL+fc8HEb33cuNO75SFYAIGnWFxUXgAAAADIBn0x0Qn8AAAMAAXQUmy9cZgx5DbAoADktrMorYNnXg7RGTW1KNe2fV3fsBSFbg4iFgQAAADQBn05qQn8AAAMAAXSp5fX52gAcJD2gmyWMjqSi7R8wdIixueMG2509lHAZqSc7ZJ9oR0rAAAAAvEGbU0moQWyZTAhn//44QAAAAwALDF/XkH/7mjLNtd5C4d3KmE96CM0fqF3ferJJwAD6vcgyRqcDiSeHywd8vrprYYMqDq92Lsvv3P47QKTu+rNRe8tKVireicu5IQ0vcNoPbhGxkfkWuAO6Ar5IBVYLcF6N+rP2VUQXgjMJKLP+CbHvTkrTK/j6Cs1/8qhqadmLw/Y5B1CzmJI98VcF0sxV5ssGmA38e+4Ll0yjQZy7YaFQUZz+rbGjPz8pAAAANEGfcUUVLCv/AAADAADoW0zxiet2qJZnpKTmAZQVzpHagBT6yETOSpzeCOKtrnJ0BTx4eMEAAAAxAZ+QdEJ/AAADAAF03SdPaCo4xJGVHcAYA8gPzhxF5lMgAPwsM9PXxfk/FsJQmZ5GcQAAAEEBn5JqQn8AAAMAAXS91W6BAchlcp0POYkvb/6MAAQl4a4swYLDHxgjunHXKezWWZEaScBe28+OlTwKkoO3Ym9Q8QAAAJ9Bm5RJqEFsmUwIb//+jLAAAAMAAt/MuYwvuJYGJUAHJUAzcb9MgXs2DTMuQ7Opa6ijMDylCqhKsUv18Tlf9WH5ykkhDNXrq48tb26tg9zU0uqt8eZPH5vz0Xp/nPH6ieCa4LSxXiRPMWb8x/OZteeFq07Sww4ipmZQB50tQz8D9m1A6nobc4ng08X2e+36Xkl96+yU/PeFys7L1Gf7beAAAADaQZu2SeEKUmUwUVLDf/6MsAAAAwABKAaWM6Pc1X8AB2J4/3m7QNDH5FhuW3U1958tUTu9UL0K7rtqc9YIk6Vn8cZmFArukRBPpbFKaPlfjgFRV3TWiN0KJhsrWbz4G3g9FFnTfsi56YSy5svj+pBEFkws0jEK1fz1lSyHjkU4pNcy1Qomgn+Ba1p8+ZuR4Z5AbXLrLLB4SE0n8+NM9fokoW0x2Ica11r2/6ixTeqzod/3F2+lrfYcUTVVGrDK1uFKyY+M2td54CB1SPlyFZ2y8z2+jNhy+em/E2AAAAA/AZ/VakJ/AAADAACXHswZgnHOTzKre6jhqxZDjWkT1Ct4/eyws7imH+aWxesT0gAQ0UItA6VJYnRz0Wbpzmw/AAABJkGb2knhDomUwIZ//jhAAAADAARzkHYALpQCkv8auWEm2UIdaxlQtW8THQpCIg1yMg4BKX8dlVOKWtcSYkXIFHAgHXGY7ONSLzVYk93iFdUeI5jStWlA/yc3zcaYJ2xpgYQH03OEklKwG3cT5Wp0BdcF1I/xRwgumrKlLr5/reMnkq7CaDb038s7k6Bj6SXAgaiZkdHV4EpC4FIw+AkvfQZ3Z0dd8pLmL8BxbfRvpCKy0THeqHtRqMzSzqCiYQElGoQST99LrXStiQeu557Vaf3znqwjjQ30lGK8Sx+/tYflKwBA4gAKEI6K0BbEo6UKnmmPQKdEnCwQLS/Of7EyJXAw450uMWV5IMd9MQtGxu9XrLHG/zhPDxyaCi1gMVT2ccUoMvwj4AAAAIBBn/hFFTwr/wAAAwAAXkyTAjqP0bs9zkrMX5kA3uCmjwTPZYT3s7PEdRiW+f5lAM5mnhGHOaiQeKCe6I+gRuXFlZqzlqCPLL+r8cebLhDrigd91ctnhOGoIZ8Z+33NuUYGqME7XXrO4p/v6lE8L5gDX5dMW24ZyowV09WE4t7JjAAAAE0Bnhd0Qn8AAAMAAJahqpOD8jh0F4BG7ls4vFgseN0ZuieQ3/AAcz/mCVlOTu7iRBUH7QLud1mRhjWzudFU+075wx08DmjQ0kteBHUnMwAAAGMBnhlqQn8AAAMAAJa3IND6rCXXEMh0803Nx12BQCvIRBxOrVe8K+I+/3MABMeW4HKws2ljtxzPIMVCM+3zgfqIQjhvfbAcMhEjwfpAn3sgBDLEyw90NEAlPe8EAJP5Vx69/uEAAAD7QZodSahBaJlMCGf//jhAAAADAASz1VpkeiAKy7RcZvKMwziDv6AffLEoxzwcWuxdyJ4mZgk3vUG2MKmWPwwmoRHGjbwgtzlvTF61hKzCxahZ6KB4t/gCNd9EepxrKWbRVefXiFqN9Vu2wDQIL5MoNwtD4HeKCHLKJiY90I7wnzNb//akTpeHIbTO8+VsAvytHTH1kTA0QbTqnNs8nMlUREwask55913aXXvTIWVOIL/pGhTGmpUE/5QNpzJjumsRTWw3z/8WsY6fPdsjOw9//UdrAymgO/A28UygG+vMy6BLW9myHBgLwsBiuxUAYGzhOl4gw/vP+CRdjeEAAAB8QZ47RREsK/8AAAMAAGSmDyD7gDl+tS3ZBbe4AZP/7ReHczreikb53DdTxaoZ+/UQbrc+e7BbpVwYYNHd5p5YCEaimgrJmwDMGZ3lSr6W/OiGNfbd/zifpDj/5BIQCLih/WnkEEVlOcTiCmZCXUz6MZmmIjXU4Cl+6Kr5gAAAAFsBnlxqQn8AAAMAAJ9mPSadBQnDD4wLESoACH6OoZ5DfQpbGw8Ld1iOqmQcxQ/CmB607/d+UT4yAiVC0rqOK6e/LYdKIoVmm+Bpv70SstOalnmGltykqCltJUwgAAAA3kGaXkmoQWyZTAhn//44QAAAAwAEs87QAAkAJqc3DK21AzCgnYk55AJq91zKD+TVIPy24oJOD8QRKv4u8wqNwqYKIeCTsj6vqorQTKHMY1m9glm/klmz3stO9iA2+pGY7uoMMzDX3l3yWKh5eRBvNk0GqZg30/fby8e/HWWeF8Z0UvjYD8JWq3dLSx3iOS8UyBXHpwPcsV4KfZl0xCWFYBaJ6AfIqc/Hxles33llaG1m8Suq7+rBi0jydKC1N6e+IQM9bgzwsapxX682nAvTcVWhcO72tVOEKm9zrcSnQQAAAN1Bmn9J4QpSZTAhn/44QAAAAwAE05CFu6yLG9obcxy47iUALfrGBAmiau2rlPeP6503UvMwvqKbBrzs3nrN4qUHTYTcvnL7BpA3fRorBvUOX/90gQlZMe2J2XAknna+T2icLs8x/6IU5pdtJVuZb3wFLZnciScNvzVRtxO+0AUaxZf8x4l3bU/0mfHkyEP+I5C6pv8EJXZoEuCiyyIJK/c1dzldAVugesmC7PDBNaYY46yXCRBpB94xoPKASNE0pp4jdKou/Wxgo9sasfdM5rSmXzGM4YLHwvhbcBS40AAAAR5BmoFJ4Q6JlMFNEw3//oywAAADAAFAqaiLuqwAfpV2Sq6r3/LBxzKTpYST/CtRVQiQgQbO4xbD7WeO7Fmmg54vuz1FOnRVF5Z3XT+6zs6jQ8a5yID6S3BWlDqpzPNrQkbRZ1kzyim2V73SAh5UeAnoN+DdnnBWTyKP9BvnrnOWKR/EqbWRNbRTDE75QqU9S4//+Zfx1uIaBNTN+XrZxUdGkxAYWuVGWjuuPUcnHumJf4mN+nNEvsR9WJP4CghM3U4nvYSk3nMEK0Stm87zkefllHVS0f85S9+SXZkH15DrdfVzjOGzg/AN1kQzBL+Qj+FvHJW+zdXqhyNOsBeUJkTn2cWrxCh/9b6H9i1QM4+U7HpoGXz5xhQGGgHNvN7QAAAAYAGeoGpCfwAAAwAAo9sXfX5ACB6l0D1cBRYEQuSGj1wM4SUbLh2GeG80pJmvsLdv3seEex9mKV3FUQ9PDkE2wK7oxL55mLADFxUSKosHy/ECtS3n+zvsdH4xGuDN0m3xIQAAAKRBmqJJ4Q8mUwIb//6MsAAAAwABQGvupkrn/KLn1At1PO5S5QG3zQMG/rCAB4my1uAejtVwcFbw20EL+etA6TBRuSNDB+FAV+wuze30OdTG3kPctRF7pqSXro3J1ydxJP87YlLGjNCnTfg9xVZ2bstT8Z8yuHhmqm+p9ASwEP4yaD6zoRh4H0Oh2vQ5C6HVasnB8Z2jGA4NyUKyJ5lgccV9WlgToAAAATlBmsZJ4Q8mUwIb//6MsAAAAwADZLQ1LMHEAC1z1BH36teaY5IBd3hjCUmh2ZCn/8ofdUJ+iyY4LskInODjDhaZLiji+RN21HsSCmy6ocgA4qgC0DnKNUx4ydRStZDmQHypEXGsdbE3mVosOVyHrBQsin3oa5DD0w7oHllZ1zD7J04DWJ5VxhzJYPOarZIKAGkG+GRO4jpAWCMpKyAaZkSfjWvL+wb8QWt5Ud3bwd/jFPURZlcjwWcOGi4s2N0BJ/k9hoeFbFQ8E0i1BVhGFgaTdhrgTjZ4oTe6wqmwzizeDRJ1wD5iB/FvnM98/TBd1N/zQXrEUS5dP9mP+tiiaBPyeBRxxeRuxCvSQtxPh/FjRuOR0BXDfhg7s6QhlYBbbAy7uzfbupLAdDpm/o1gW6XDRg1/r/5IOViBAAAAVUGe5EURPCv/AAADAAEV5DzJj235MJdmk3j0PBCcd9wfr8l6fFcch0ACE5RmDWUYsmZUW0WnVBv4TCqr62nAY1/rxcbg90a134hdHfgp8Q2Hjp34XoEAAABFAZ8DdEJ/AAADAACn+wlDb8oHHLoQzdPupJz7CYScjmEJI1hALfrV1wBkh4AAB1Lwh1URLCOzZjsbagO85cAHm2D3inygAAAALwGfBWpCfwAAAwABubkol9YFx95z6vLXY4PIQBP9fJGkNSjZEUuQQ6M2WWw2AumBAAABDEGbCkmoQWiZTAhv//6MsAAAAwADeLJkajEAIQW9D3FOxZ5zHYRD4sc6BWZcT3R8aIKNsqz+CdUPNULABJVLq5419qTpKTv7udOobmaosqMjSgtaReUgLHkUu99l5cXU+qR9wJksCbzrWx/HqytlmeY7WsdhH8FJtP/jKcD0Q6QcPur+Pg8taBSf0cZbIrtDj1iybfcO2CrxuVojZS2av/zKKCZ9U5hBMDzYN4vDEUEhV0n2m3YFzhH9FlpedBVCvXOvQ0XYUzBAvJOrqLWTyYAfnKuSVtfIx0O7WLzGUZrku2RonBg658O+lt675SeDWoE1rH6gYEqdibnmvXGfu/ZpV/BaRrY8khbdWhwAAABVQZ8oRREsK/8AAAMAAR3jTPownr9KTogADV1+XZJisbA5v/1TLVgjg3z+zogOSgkiNauDrGIjD9HzdBSbEvY1mbk2yFtyiwscpVxkekeVJ5x2Nqb2YQAAAEEBn0d0Qn8AAAMAAcWvMVDhqafUAE7dCqbclQqLKdCg7kMLwvCjXi890EKiSM/GJ3MhIJToUTMqCIxSMP0uE+DrgwAAADUBn0lqQn8AAAMAAcUqv4g+QXmXA8kvvag2wXbBKcXac27KU9NTs4/p7295eg4AsXejBEwJhAAAAHVBm05JqEFsmUwIb//+jLAAAAMAA3oq3oAQ0A2zqLCfNB2AC4aGPQsKYgliNLPGQK7aeRR6Kbi52B92ki8nptaulRgTlXpVj3mmzgDpftrfZ4Kgeym1b7/Xs7pIlqzFUHqUfrAHWKGf0090t4VRLFOLjv/+4G4AAAA9QZ9sRRUsK/8AAAMAAR3j0pDm+W7L11/hL4TNNT13McIIATRaR2fa7lkVlJCgO7ij+6GYYg8/dHQ8P8FdmQAAABkBn4t0Qn8AAAMAAa/CuE53q+Feqn49RInwAAAAGgGfjWpCfwAAAwABxX6U1/rB5q3ODke7nd/XAAAAjEGbkUmoQWyZTAhn//44QAAAAwANjtJdoQCjKPE7CEVPBGnOYAIK0ngdttB2CqoGXEOhQ67XQD6RmZh2kwTS8aipKvhamByQEDIYaZ7u7UxS+oOloLofYn/aaR3t0T7tKBQLDXTLySm9QyIRF+xCCokrMkotlZGzVqN44+7pRax+wMSeNuSPH9n1CAiwAAAANkGfr0UVLCv/AAADAAEdfw02yjvGGfMFqzdTFJ2niOUKqJyw/wASY7eE+nMH9Yvgw0wnRBBvwQAAADoBn9BqQn8AAAMAAblCxQYpQ56bSQVVL3fw6AEBbZAZQllqs0rOfrY47sSzZ2ZvVQCNBQtkIYc1d+zBAAAAmkGb0kmoQWyZTAhv//6MsAAAAwADZLedA5AAtUKqzJBBuQqZyr7PvlMHYNXp0JUIUFD9B9wmqm8LEjxbzdoQLutg+EC8IF3mCYSzEflo2ewIq5hzhU/TQ/du9P+zvkrhaV99CSKN/lQJ5eQaEkPlP2wze0eSl5Vlo24OVNbkrowJUaA3OMG/pDduKQa6NwfXjULcWmP6JJIyhTkAAAD9QZv2SeEKUmUwIb/+jLAAAAMAA2nCdNd9OjVnWj7sQCjo7cWkrQ+9AhdFEVukX5G7VpkMgWbB9J4iKy41btP44FKL6v0mQkMxLfiwetYvZ/rJ7xo3UZp0i2GiTewIfHFLZHAvhaT58yCf6oCteZQlGvBm+W3ZO3L/kdXCp7iFtIWvj+sSCSv4U1/dXSIClyMdWdz8E1viI/1QwSHblllPCKtSLp3lDDN6e/B3fHVkby1Z6Z3b1ZNYarAReTIFa9oO0DPz79Wxe8sumASW8fVIS5GshGe1zvfNifyeet45NcOEInfVsQ8F2aXSc5irwCMRkFySxyzxV6kC/R4U3wAAAGdBnhRFNEwr/wAAAwABFXuH9qvxjocz67Og7lrqVM+RZ5UosRHwduUEo5IHoAS040ddGqIm3JY02eXZxjUCqZEvywayyXSaRWNKHSvtdUrPzz1rqvVwChuHahTC5qysL7wQUjChyHMkAAAAQAGeM3RCfwAAAwABupdpd/KuzdPVKcCNpRC0986yuIQlKpCY9usAENJ5UmnkYyOs4/N8gLTeocQIrdoqnFo7bdYAAAA2AZ41akJ/AAADAAGwk/I/oSEMdyYe2ToLO5tyGwtW//dHYWztpwmFd4UAC1FBkiDvjAEx3AANAAABE0GaOkmoQWiZTAhn//44QAAAAwAE/5Pq8sKvrpWwAfiQyGG4OmKy+MGm0UzkgsEmbi6NYnj6QT+E6VvOXiRHQrMp7KHT7xFwqbkWaujXupni4SOHrWB4DDXDWahdUzcEbQMlfn85ZryR6DO2ZHiTwqRe1WsEp6ZcgtONuWpDoiN68/sf+C0heIzVTql1E5EcStOXs5O7/1O4urnP6WgPCzcfMu+r3vyUBqIZ4orMb/1iv1e+E0f57WpPephUD697aDKxQbz/BGaEm5MM57LgDyISKRsTJE4ffzlglvZeEwz5uXdwqxaKngjCjuzwUmN563ZiK5XujbCDUq0+8rpAGjmlsMBPBpQrIjS7IpvVqc61af4gAAAAdUGeWEURLCv/AAADAABolvuYxxgbZU2co0d15w7odFgXhvFfMlxKNgx6XclqJCZCDIdhsGAEKFvkoI/B3AThX//oDbK18e3RUNqhfuHQN4yoUIX2/1FKMbnUZDqFAO3rPmDCxD1m+HI7FSw3NmeYP3D8iYjIgAAAAFQBnnd0Qn8AAAMAAKgJnHO99PwYUi7A/UNwFz8j5ovi07gATjQhpGHpEzFn+pqYvhh005ektBo5U3qNnrlfxSL3/8AwkVgnsfYJnTE32de6Wk+vBHUAAABqAZ55akJ/AAADAACoZa5YLXtgsgospvxD40fRgaxdxO6PgAALlVRzpqsVkIOGgk6NyaF6P7bDdMMOIAztJM+6RYYj/QUym2GRQZoWLeRe0BugrTPJJOAlg9yzgN6gbz2GidPJH7hm5bZyKQAAAOhBmnxJqEFsmUwUTDP//jhAAAADAATbomq2Me02UAFSQHX6VC+b/pPh96kIvMgMBuL8PVfqTmv15PGw9Aq7B3VHkBatWJeWRqnSSPDGBryA4aaF3siMqyeVPEDCLdZwTNvcpaypmi50Pv5xzPoMmh12AAc+2ufhYIJCq5yYuIAyrpGqoigbdX/g82NSWk6tN4WusNd5cIkdBSN3Wg0AUJrX57JesxJwbRu3VCJqfpwi0BgzeNT2IUyaKJDsesGq71tWUj97T7Ugh+Ft1JE2k3DRx2gjlvdSQaBNGsQ0pix8qDw34xZce/FJAAAAUgGem2pCfwAAAwAAqJAaavt9v4oPKI7Cwy4QqccFXH5qcvyBABcA9kV2szT++AAuGDkj7gVHc4cX9lHgQTdIemLkGpoOxk7/SozanpQcor7T7vQAAADQQZqeSeEKUmUwUsM//jhAAAADAASz0HSa0QAmbGj+beJAsI6/YAkE6xJP+B/GMHMcfSxL33VVuH/VQJg1SZCZXKedlDi3r+0V8UOacUPLbQmC3QJHmU0zg3uyeWmG0v4XmjTHSOL59+32wd2/ESVa8OZg0ubn/i+Pyr6S3u5NrRSgEPCw9y4Ii5B73nFWpnHoSAdQDKWR8MzP0JyGEsX3jaTJy07LP3Uz9TPGb4lE+UHmtwfMWnUk1IHWuR4KfX29IZwCHW2LxUd8lXaEUrFelAAAAFYBnr1qQn8AAAMAAJ6d0vx1VVpCX/xZWPHmo3lrPBK1RnGS9/crmas2XjOTrxuKyzYAEMUR6KH7//4V+dfnWXh0bgAmXqTJTQRuJm2LgzR4C58E4/6f1wAAAI9Bmr9J4Q6JlMCGf/44QAAAAwAEu+CFv5X3tnHQMVR8nAASnPW9B8oKwITSEKPw5dJukcdMfEvrvpazGTLUy/AeXkqjYwbbm/lJUCce102mKJLGqCkSOY3fD12tNOj6cbmSBtZiugHXt5va+vLaJrARLfmU6R+z+p7R51Cwxm56IcC1fXXnCfyRbvT8JM78agAAAPVBmsFJ4Q8mUwUVPDP//jhAAAADAAS74Itpak8wB0jokNoldbVk/sFyUf96xQOmAWu2cCp9oJxawJphfctC7TvB6iXVHeoi4IClFz3+GcckT4kAIS9sj9F+xiMLXzaqXLcaUds6q3hfl0esWSVkDS6F40Xi9xzw+HYtPvb6Q1WOmrE//5qCY6VwDt8JqvV8+z9F8DKUVn+7iZbgMOYLtriRcFpqq3m/jB+HlTaOW39FRrh/0LyOFxyK52o1n8fn6Tu2lWoKQI/7bhk34QC/70RXewgaS/sCXvdfN4RH3s7bvqUkYfZAdCdqxSzrdHz1OEgfsGyMtgAAAF8BnuBqQn8AAAMAAJ8moS+tl1Hw2u+zqp/0Dk2dzmg4BiXq8upyZf8p/iAANRpANPy6xhoGE1ow7Cq5fljz61oL7UhDV6J97H6AYd9nexrLaa69vnYeNFjGegCBEaqGYQAAAJVBmuJJ4Q8mUwIZ//44QAAAAwAEc8/6MQm94PmxIJ7d0tCaN25CwOwZbloO3R1sYSDtMlmv4ai+DqKmEsnDC/9W4T9693XiZIgNbjm0GcuBPJxAaKskpi/egmpR7drNONJyx6n6qbdL+SBOCHB16/RpU/f9QpfGRXh2qeT+Lx69xOxEQaphB3uypJ4FNoD5ISSA37aZgAAAAMVBmwNJ4Q8mUwIZ//44QAAAAwAEc+RDxAf2Kc2f2mBSA84BMgzPixejnG2osrz0xZWF+1C3F+M4S2BBhqmqWvDDZZj/Kmo/k95XIgJ4wA/tOAjPpGrXgWCyxGQj3TMvMlVQe8lhlAqdSWADPXLptYlBppS3OOIgVDNIKRe/vm1qM/k4X/4W+2pRVi2zKr3fLgib/p07Zt3jQo6hZQoR4sQrsTtir63yib/5cLt0ORCCtFe+2I0TZwsWor2J80C+50l+Zi9DEQAAAK9BmyRJ4Q8mUwIb//6MsAAAAwABKAMTUIeyl5jJimEmsJABeEnVNAhPGIj1XRt8hBhK6W8i9twCdqpTgm3sDSrkkvfNVehF6EqPrwDgNnouB105HafwpWGpwGbLRRyBrD95tijVFxS1Rh34ks+gKxR5XO+Z9wANWLu9s8FEuwLnL+fD7vM5gPncl6sNUHYfJUidgXU//I8Y8ecAalT4MdOBb224BRlE7qddz73MZ7u3AAABIEGbR0nhDyZTAhn//jhAAAADAAR7omqj5KgA2gukUyaYTEaveZITZyMtIte2GpEHt3J2yt2ZwYCjr1KLn+qpIYj3szuaJRKeFYG6T2EeEGzSNl/OKaDv3B+M+29A4VtsHkhHMkQ97WXD3tSfKV+Ff1cBx1ESj3GDWGIhhp2PuLU8+zXhjikOdY9Xj49EFLFkjwbqKpaCuMN8c6/R5f9eSxitLjl8zw4tc+Q+rQ+VHJvqXryrMvkcrNtuQxmBCsuGtKhRXjqp37Qi3Yx5pX1IIBssqDDhIeYygRvt9UeVaoBdVMFvhwwidzxhlPzNeWh46TiFawVinokszdWAk89vlQ4VTlmrv7UzOOOEJTkWNpuPumL30lB6wN+whEsi7wosHgAAAGFBn2VFETwr/wAAAwAA6ESAS44h8GQ0Ks4l/y4ODzxTk5um3PuU5ngQAXEKi2jGf4nSfjCzrHElyP12fLaa7iJbRuqAsecGasEuIS4SUDHXhXK8ZyhxWI05ZxZvlrHuUhmpAAAATQGfhmpCfwAAAwABfpKl8DLbZQ12x5TDig64k5a54xzRLM0IpWbh2JXBeF7pCui4xjXnk1UYqVRmHlCvI0ADT8a+B7S0NQQEeTB+uLzAAAABA0GbiUmoQWiZTBTwz/44QAAAAwALExczxyHsAK/fnwlfHtDUPqW1yFhqWod1zUNqMejB/06JDEEkUfbkGan4sRjLwdI2vxmsvYhAQChOuiav07dGt6DTUKunqVs73INrFIbFZ+lzIy+CaW63DexjElTb/tnO94n9Qeh0Riqa8KagixVb+lhMg3azmWmYqcUlDta9sEhXmDva/Rkmx8UBm2u5cNd9YyKwyGsiQYjgTrA31fDMmOFscUQ7feLpTAHzV/dekUuQ4ICHPiRhkfjkzQ8PjCqrWlAK4gmc+FeuC7zY+X4wiai81JyvuBGHZIBJw8/5fwQCDuNGsT48CRryBSjyE4EAAABRAZ+oakJ/AAADAAF+8SruOKI5RK2YYyaI+YXmmn3YvfyHMFoXxog8UJVRfiJ3F/MzrlPBxAQNnDQcABNuB5qvZCNofuU/M0E39TotQkWYM7mlAAABGEGbq0nhClJlMFLDP/44QAAAAwALEqM67PI5IAbpqp7HWHXDp6saMKtDv05opjoRvB8PeyUWl51zztZcixBZzdGkUHOJsvgZkMJYd305baYalTgdv0o4MYAcx5QlmMojSgvcbBD6P6NhB6p9d55ZFcJYJSalHLArw0lvm9vSWzLfjRqtFnsdb9gC84T3WlxjtjYWaz4I2rEA3CPkTxWrlDS+ZJLcW3U0I9u4NYZJwJ0pfToH6mcyQ0fhSPw6CAZh8uxOpcHyHDX5ztNmBq0XzPjP2RgisD9Q7BKSCgA31soQSBL/XN8NRNAY8MR1bF6N+oP7X+cDcl9tKsKd7cXWydS3DjQ9wgcEA/MWUCUALlfN/u3zT2QBRZEAAAA9AZ/KakJ/AAADAAF+8cTndEUP4VFF3/Z4RrmIAHZzUVUgDMpnef3haN3gG3m2D3Urag/axoazwmaITJWkrAAAAKpBm8xJ4Q6JlMCGf/44QAAAAwALZyfWj+qn8RAAtB+YnPoJ/RrdoWOa5VJInJWeKWjDZWpSAHn35qy2GsfAhXXJugQop6DtfoVCtSfspM91yxmvadluspD3LIjCQPS7LmKFojcsQKJUc5nEggt4pGGnFR8UQkiQHxVopP4X9UBMoIZ8WOo1uvdFVTDb4lA2gIMaLEnAD7CUepUewUisR5VMbRHZtfdJOjovmQAAAI5Bm+1J4Q8mUwIZ//44QAAAAwALDEPbhzABxnqJx5RCuOzRavn4nCdfXUnES1efRf0voOvQogHa5Dngh9x5Q4MgWFoao1stOPgALqWZUGV0x9wmY/HieSLIcxxH+rwwDze44nBoVRwnKB2gsdqRN5SsKXOX6kz0NLM1kugV3qFsUdRs/t0KzGpNdKRv2UIaAAAAmEGaDknhDyZTAhv//oywAAADAALxzLkZTx8341gAB/O8mYuq2fLsjy0K71yBd9E9Dl7QiVTMuoGcHJNN/ojnQJalO+dRZkVqKeyUD1UXU8sWyFBVn92b3p5JRERkSfQUPCPrfcHT3Y1yKjPZ01uX8CgZSwFHY7/tIZ5Uvr7ipx9rXT90PF6bN3ryrCeQHZPhJ8MxJT5DhnfhAAAA5UGaMknhDyZTAhn//jhAAAADABw8bHHIewAjHLWJgtga5ISsIkdoQL28RGUruAtRFpB5eR9fWDKOJ3AR/vmCuitpcjccaH9H24H6a6In5CDGE6bniW8sTD+G92QrNeds8joWR2iZqbFlke0VN00gt3GJ/3P3LwsMDV6/fganW2yvJhgDeMHle7Yjfs5vHwRSJ4oLEVb2gMEy4NKkPDeNmCtCmx1F74dy0bSd//PCpTPIbLiu3MdsubeFVJEvSLZ9NLZrdbG3nCMaC/6p4Cp0IEz/Ygk042Cgoz3kmTE4aH6on7Tj3jIAAABZQZ5QRRE8K/8AAAMAAlnTXuGa2p593BVeK3wsUBSRvXABylcg+Rc0qP+fkS9DQndYPmgTWu34Q3JKKJ97s/5V3OvEEJ8Z591gPbbMbrp4bgib/Ks/707wkLkAAABMAZ5vdEJ/AAADAAO3ZElOKi0KJAwAO0L0O6UTY4TvrMklr069gAVDeAyM7bP4gm3vNhS0e53Sfg20vkpechM7n+VNo4yNW+DjbG3bOQAAAEEBnnFqQn8AAAMAA7U4hxRc3UD8l3lwpF2jcPMvPRABa8SZuyF0OMQ660Ec4t0evatcTU33xGwiGXt1/626DbrtZQAAAHZBmnNJqEFomUwIb//+jLAAAAMAAttfS7XZ7sfHQAXFjLiKCaQbpGJWdYXELAHAanPu3olDRvgqkZNhtPZwpRaxIHdgpycbNKDpyz/2L8dC2uwoAkSHRd6v/UA5MAP7j/TabxBK8TB5dtLwtXcAW88+G4qoNXCBAAAAVEGal0nhClJlMCGf/jhAAAADABxFJ8k3NHWlQi9VPRrngADjwCWHEhVV1u+WaTRdfuHTpAN67y3WL7di78ASYuoGZjL7yq9cFx+kLInwI7v4B93yUgAAAEZBnrVFNEwr/wAAAwACW8h6Cjxkz7fU47fZMp3IALUeu5D88Xcfhcp9Vb41Bu1akVNoRDT7lvZuB6QlO5UvAE77IWdb7QJgAAAAFQGe1HRCfwAAAwABfcKz8x0GFUi+QQAAADoBntZqQn8AAAMAA7b9LlMzwMxL5AKjTOD8FhxAA7ICEyPYbLUeBThz2CMypxPAle3o7K8UGdQE5I2AAAAArUGa2UmoQWiZTBTwz/44QAAAAwAcbf+ls9qOQAQwX0nmfa9KApNlH3cgeIHiY9GEeNlFCZuR4U81/p5N8h3wNG4kXLDCVSotazDU6puh3HL01fzyzVmoSJE5RcUkM5BmX6cqO0rF6j1PjmD4LU1Fx2KcLXpkS7MnPbRSPKKiRbwMHXQz5mhl77sILPYFAeNHT6ZgW/EXN1j0/Zi6W2MkqEk8txCLWY47zpYljnHYAAAAPwGe+GpCfwAAAwADq+554B9NU2u9WIVqLwsva72x6AMNaUadu4BXS5c/YoAP0fMQzXMG7BG/rDO9ojKqo1TIXQAAAI1BmvpJ4QpSZTAhn/44QAAAAwAcbf+ls9I51JFSntcAHKC4HdTozOCdw+WuP9pPxfj2pS4Z4jgKz+SdnVv+MnqlyCzSf8OQ2BNqEo2YjbYoOg2gcoKbOIy14oH6L11jmC9jVaPdaXKHtEsKkvuHA1BGm6GgrlDNDQxHPLALYwHpQthGdhWLhBMQb9jwISkAAADsQZscSeEOiZTBTRMM//44QAAAAwALGbtauUUgA5v7qjrLONseb9XEhqiR1Q8JxiCu6p5m1T9JzZBqrh5YISqrJ0nThlKPh3g7FRziDx7lBnhiTy4pmZYVir1EQ92DLaaIBWFWk4GM65uSntV1zq27BRc1hOFwwgLCga3Wtu4ZKbLny8JI3ca8ur5LvuNshFNdkIPtAG/+0iBEhvtVwMwDp4pI3ixju01316ZQaOjyoqH7iouwV+Hoy0R0da4NvzIzmlNs/za1WQwwXt68yy3qSvB6++f/aH8NxAzLHDbniynz6d9AZI/7Zl7PaXkAAABCAZ87akJ/AAADAAFv1b5+xrgFhfyEFtd1l/jzBHMRFZ26PMeySCUUE+46IAHLUSZ554Yx4H1kq0n+ATi96tyihqpAAAAA+EGbPknhDyZTBTwz//44QAAAAwALHyfZeP2KSknM3VLYLkAANi9Nx+CM9uZ9HaeBrnPt4xHZqHIy7yh02U7Wl97w3WIZIfvGKdHN80ZNzsqLJcJP/ZQflXLJpOqeK7JsDIaf/mP5ftI0USB9HFGeXafdvbWBRXOA61v5unOEMTuRMAXSh3r8L7DbNEWqP7Tg9NJZ8V+ig20YXxuyDyViN537WEStEDL+LV1n2BjTFO1qG0rqwM7rM0oSkBJll9ZlmxsUcZUWypcG96aqR1q156b34KVaoQg5Z6cMajoiMplKIRCrN8ujRHvEHC2TLj6lx+kA4d/OV3KMAAAATAGfXWpCfwAAAwABc3kGSmIlKTMwgQXhFdTJ3NbQ+M52EG5ZdTLzTicjeMEuFMYjymSO45zYAEPulVUXrRZF1+rhxp8YMLuySrUR2S0AAAEDQZtASeEPJlMFPDP//jhAAAADAARz1CqAwiAIldr8ewJ9NneBKXKQyPotPdMpvROIp57Eb7al7nSZoxSiDn/DKyYDXwNEycCTCa3oASjnDhIedSSjakgVbv+GiyUQRrGrxcjdAMPD8htGMSYuR9eYwDWrNa52Qehrvkk1UlAssdJ1R4VmRROfUmCQ6Gc30puNUa/xnlR0urrUyTVKzKc+1emVqWsnrczlIC3vsbQEG0KPzuGjGWey4aDO+EhfZSFFdRL+0Q10Ou/iEuoSpMGXwc4trtz3ObTgI2X8Yj8SSpEc1o9URnM3cNJ4zDXjy9r4BrWaLr6z1mDY8hqWSd+cghP3IAAAAGMBn39qQn8AAAMAAJbzWMK78aqxATGgXnkSC3xERTktcDWe1oV2J8y4xABOrl3UiL1LXAds2H5K7lD0LLxz6rMUq9QRbHy3z3yXurfax4B2m3gaYa1yHheETRQ8uVagPFo0iYAAAAEFQZtiSeEPJlMFPDP//jhAAAADAARz9PuABbFwcUGQphvCWNnTi2pA/5T0rM6JWWx7ucaJHBKnr0zlbAEzelcOWvR6V94Y64ckmCrem3JZ65J5isK94gpC/vWyeXLdwnL7tUVQNlJDqpbw50rfxcPqwkuM0scfCFa1WCbqBjs9Z9OBOBx0sr0kD8f8wX1nrq9qZli1j5zbwS+XAJV74OPdUCw2eRempzrC5dQYsMHjfmv3t9MXlkM7kJysiaR5buU6R8GAe+W4/qWtjQwMiGeX9DL0mIrt2t4tlLyBrWUrdIstKSVztXWdL1aWpNxagc11DkQ0ch7HFIyOM0wWECKEaD16Z5y9AAAAWAGfgWpCfwAAAwAAkng+RBi73eCXSQGylynotnBRMO6XXQsdQPM11KWfOG05J9LDyzR///YgARBPJE2RawRpc9OlqHnLgJgNnJw476UUEREmSq1Cj2eWnnUAAAEHQZuESeEPJlMFPDf//oywAAADAAE4HuQAhHqUJluyW++LVLUA1SrYsf6xBmceRIwFTqlwfqRSJLzf4MkTkfCByTrCs2Uj8bKJSAtPgMO9CJga293o9jmkswM2rnF5qTLZG/EEkOjn6VQbzc1MfWcimsbTPhUMO2595AhuRurZQ8PaGxsxMvFAS6cLtvOFoJwFRAtZL3V7Qu+jnuL8B/np5TEsNmOv7I81FsVpfrg5nVa8S1pheghcKnBWrrF2dcInkyg10feReoK+0HtJdYdGamjHBT+OTmZaHJAT3GUyynvg+/ZPP8gaPm6DPeOS1AqR+QH+jSPICiqOzzY1dYXZvAXsU4cOSGEAAABnAZ+jakJ/AAADAACfZhP9/FZDLS6/Yq7JhsxK62QABc3Oi4J5Ale3+GTeCQJbHCPpF8yTGflOVSDrdBbmRbBKEDAxU8fmVgkn5Zw7Q4eC9cfJ7hCYKBCg7fIcBfNES+9LbPBn7KjFoQAAARBBm6VJ4Q8mUwIb//6MsAAAAwABOAXpQ0sAN01h/bGnDNjMW1sTxYucmTP0SxHDySP7tXCfFdFfa5H7UxpZZjtzYmU/+oNWp7iomE5k1ikEzU70Hi81eVSinbUBvMpUkq9M4ZVoPzOUL+jNaGYX6Nx/on85EtoC2O7BAJE3RdrHik8LcEtyhfdAHM/mWbclgsfPlzN6P0QUvgacNlTUVttWxKjwzW0HnMsd6zcyZwQRZvZu1xFVItg4D/KA28w+2xf1UAOM71yL36cn95dlGGSMBSXdHfdtn3ue9MRyW3OAIN2q+Fmurj49pHIOaOJrltDTaukFnN6CemV/B6d+gGywM0POATfJMD+Cqm1PpbVjVAAAAT1Bm8lJ4Q8mUwIb//6MsAAAAwABQKnqj8OIAEp2m7urQUeBV9i0/tNULDSofZT/fqWVEQQtr7Fkr0hgi+x97MPpEgM13PzVUsFO+88/eeDaWQzaM4gvSfIPQRL7HM8a7AdFoSMoeZkqKL8cuV4aqa+pQSk1vUuByw9Qss0f+ERvE2J8lxoI0e/T2tzZhPWO0VYs5yT31iTKs7DUQd00YhyUMQBkUzDvuNSVls9g9fBEwwWt5mTTDb/loMzWOn25+LiR8UbNzGkgV9TXq9PA6H6iHogI1Hp5LZAca7ZqlFBuBDLWN4VsXv5guSjWoQOFwYcaeLRHAMLPyUIgC1+NMlwXDfRDJ6KGkXylBMH1BOZiNjgqO/CZ0Ob2jQ9ixMCPLZe9XN579IwkiOsKSWbj1/NAVUj01q4YT5/d3+spoQAAAD9Bn+dFETwr/wAAAwAAZwmrGPXQKHCuNP9syTkfeic24eTmYLgBris8HkOebkz4wILofXTgeBk2/TkLLbUyKK8AAABuAZ4GdEJ/AAADAACjLc4UgU0hc4q6SAByT4elcb6zdJiYBA2ALTT2lVCAOV57IQHLPeLPBEN3COIxR5D6j9mTLAFk3lcBiOyFEF6bx3gc4djW2fp8eHOlKaKtMpoKPNaWrQo8GRTZySgqQOYy600AAAAbAZ4IakJ/AAADAACW/ICwe4LkHbNinjStKz5xAAAAhkGaDUmoQWiZTAhv//6MsAAAAwABQKvRJ+8Spwn4RwSlXgwAQiQkoHoaSwCsKPgO2+j/2GbKkzxTRx4o9N0Tsld2qKRJ1dGIkB/FtNrLWyOkjxhAuJfOxt20JSlzxhLBSdG7+NOQCyFGtOEg7tn7qe6G/gMnF79+YHgTE2BV57tlulCnrP8QAAAAPUGeK0URLCv/AAADAABmtRndt+8nx5IT2ukAH5XFQMXHv1/sASH4kZrWd4a/oS6LOoY2D2bvBxkgBqLR/ugAAAAsAZ5KdEJ/AAADAACj+XxR2fNgGVbN2MFPAnqDMsMAEC269J4DomLUDZfg6MMAAAArAZ5MakJ/AAADAACj5hIK+JpohgAB/O0qWRYA8ipGHFKBfP/psafnri/cCgAAAM1BmlFJqEFsmUwIb//+jLAAAAMAAULmXIscfwCx/skAGVv6IQ2cfgURfaqgdxUYDVC1OnNrudn9WkxLf7cC05ylhdUp7AFgreZamf6T6Jtth99A8h+2nUTOg5S3L+TzFlsRu11VFvj2k4p3kVB5H22wfVu7iiV4w5iiQ7oKB7pxelxNDpyZ7V/mghe4BixgVOlPWrtA9Pdyf+8UXuQpdFU+bQF3F8B9igSHtv0lJE7wW10DWgDmwH2iqHCLDAky1AA0wk2dJEz2sBTUe6VxAAAAY0Geb0UVLCv/AAADAABm/TvLSgA4x8hoy8Wzkbu+5VlqUwZdddOodU5d3IjquC17/G4GMl0hgtvUA42bV2g0Nef/SzG7v1thrdBG3L4UTlWLEDsBKMsHpHKCNrr9whF/aWUajAAAAEUBno50Qn8AAAMAAKPt8KRINYHUFVPtIQenDZtO54AA61+uUEC2C6Hn/4YLKujxhMLeBIQkZHABFlGNTSbv+13YRTwfWBEAAAArAZ6QakJ/AAADAACjpooza+Ku+vzWz4UzYjhLU2C6c32DBr6Rm6TQsjg2JQAAAPdBmpVJqEFsmUwIb//+jLAAAAMAATgGk5t9IADaWKmpkR/rEGY+dk0YyjIaVd8Sj+YKooyi7dOaBbLAB8GeiAHUCWV3dhnZoMts5djNY9qLvzSpMRozA7xmZph2ZbhRwzcZrFBUI7foL1viEO9wQgy0dEhOM6DOSej5vSqJpmBxq4akjBVrZ90fZmMsQ7jxI6zdAm8TeWkH4utzdtE0LxscMOdbejZ6qsKk9WoMXVGtL8fvT97Kq89qCF1G5YFUR0F9TIVjxGupWM5E9keNTzgEj1LgDfBPF6uZ47UXZ2LPKmG8fNVLlCiAgES+UJ8uvq5HS161Rj4rAAAAhEGes0UVLCv/AAADAABmFvuZqiJNNDKZnFXDso0fpIdUpZ/gACGfVrMjUJjsJk8Mym5E4NyYtwfwJw1VVj43KLjcM2eDp7bGhO9X+LbzQp4gfjbawTSqq3PbNK3eNDemADhThAogSze8lXHgPnTjRlkCrLg/ISaRDVf7U305FPEjP5KelQAAAEUBntJ0Qn8AAAMAAKOKC2Q/xvHCOIi53jPQ+4jOgA4yVAtEkLL1REMM6r0a0W3r92xmfm0WMqbfOwGTitBfRBBLZSuYDgUAAABLAZ7UakJ/AAADAACj5gZyfszMq4bRVU2xFK88zJCGjl2r4dhpcQbww+bfjbZUACHsCHSk7gU7w7d9CDPjJA5f8fciEhcn+TOTHPawAAAA4kGa10moQWyZTBRMN//+jLAAAAMAATnpvTXfHLqT66pKikx0T9KpzdkKCwADHBzx57I5RpppuZWAfJbC0/PAWimsUlnEtGiQcbiecs3JbenlUi4vaV8mB9Blkgg/7Kl9zmP/Yiu6jLh9fGTI7mHxQY75sWuS9c/RVhG8QMCrQ1gKh+NaWPHj8GVuCJ58Un8xq9+xlWs0U0kFXkkda1oiMhwjiD9kOnUdATsuX+Dn5qFluYL+gibhqMtej9/n0VsxE5DeckEHHMriPO2bWsNrSPGbd2ew0yzc8fBiY54zU3C0QYEAAABWAZ72akJ/AAADAACkD/iBS/qndZdlasecAvBnjLBx6j8zg/ROqISUF83Qy8DpwW8CsdoAE06E+HoNOL2o+jemkTmFJd+30g66XcwIahMrvRsI6xmG2QQAAAEiQZr7SeEKUmUwIb/+jLAAAAMAASnjf4Gn6AfPoxhKkNoE0vdUk/sALU2/r4afZcQzrC81neA7BMooPm6JXakKfGVEsV/K4wP+rkKvvI6oItY7CRfe2XoFmeybcwx+02+Co7D6E7hrC0wQqB9XXMxi3dpflMDeg5v5Dl33EwdXkhSdKaywq9m04RIMdi2JgymHM9HPykYLQ+KPKHYjZiosJP6BBZsbFpIZYNi+4//Gjdik9Tt+N22+2JFOhbZpHn4GRveH7u/6c6Vkei9LkDN6XKyKDcxCZCf4sMnnxEyq+V+GYtK05thvh85udaCSEdrGcshBlhaxksEUTBqVTq7Hy5uxqImgBJFQhNIkfB5or6NLkSCyzQSeY5vmgixCfBJmWmoAAABgQZ8ZRTRMK/8AAAMAAGcvrEOighC4pDcLjXYBoyKyo6GIv7rbaCKJg4WAB2NxrYRQ2dy9nnAA9/XyosIzI+2LRutPbNp2sG/F5Xean+BrT7/2iGYz7uORW1gEvXT8I5c1AAAAVgGfOHRCfwAAAwAAo4zBtyc0FXzD7onVltXe/sLqx0tCyGzVyKwClp5ZEGEWRJPb9DWmysEax4rfU1IloSmt0EII6pQ0rv9NjMv0Kfz1lxim4djtpNabAAAAWQGfOmpCfwAAAwAAo+enfiDSJYIsLaB0qog61uIkFkEXkZE+H5tlVmlrwAF9U58rQ0sGvgQHyiKbBPEHI1oVMyB7vJ37VOOoXp649R3n5PQtPburxHNCVeCBAAAA5EGbPUmoQWiZTBTw3/6MsAAAAwABKAT5gwATtf9BivdYux0fqMsCkFx4JVUFrtwcxfCIyOG2gZqcieTiFmrf3jnRpINgL8HzxooxBkzFpDB4xr++al0+JUgjHwJANT3vYGWt+GJj99MUOJJlBtq0m/T+Co4XmhyGqqsKjMEJ/9x1sV/CZNN593idoUCw21Hju7btg1g34j8AzZHQQtYDrn/6bB0BAsfUcH3HzBPe6qt5K6EzEj+uWJMacNUUZvY5diiGG0kaadWKlMLBBt04Wh0zsoXVX3iDH1fQ62RkhA6tPtOpOAAAAEYBn1xqQn8AAAMAAKQQh7zCnviZ5Y5PHIZFDdoFJaZO+iyrGcKC92oAEO480fffcD8Ibcpt1r+1+v6YxRNeXo5XEfaYc3q4AAABFEGbQEnhClJlMCG//oywAAADAAEoBp26nGAEYRXYnnid47+jg7JztyfbJjTtDzZH6+j8RZ19VVEBfIU8VrfRic2Zyy45wFVIBdvCmfKFCfZ7KoqO1w550xwwkZHU0JtoBH/uccVq3TLa+SUyydSdRvNtNX+RMKrugYVoehKx6r9ge8e0/TNnXMZQYDsvXisWcZ6Nfj/huL8tH3/2Vc4ugqs+Vi6/tb2Wy02B6T6CvuBis0CpQiHz2iXP2fURQr/SxofcfaFG//PpNOvxzPCB7nnUhX0opg8tK3vR6I8HhBwrg5ldQGfaMcnK5ayWuIUT9iUHG+yefSXtVUAqA8TubeuRZvzxUNz9GiZ7qmRJJZR14ew+iwAAAGpBn35FNEwr/wAAAwAAZy+sQ4iN3LAQYP2wIzIbnlQABdpfiVMA9XF6PTjmv+f/93j6IL9AQTlAKUVYSUmZrYMOagHf8Tgwp28KCSmZ9LDRi+wFJy1xsriW+YocLMMFUiJvH6rYVEIdhU+AAAAAUgGfn2pCfwAAAwAAo+eQebahsqvLbdnqZasXyzgAS3qUaWxQBzMN+5A5BObQnpdXMwONujD/wrfR0+Rnn6o304sIYoMT6yBPQ34400Op5uAXwhAAAADUQZuDSahBaJlMCG///oywAAADAAEp6b0bKGgUJQAQ/RXc6SIVlzmTJGmdh9IEf88webnSKcQnvxo5z4kL/db3NYBLMCXEYXsi4Lsv9utnJ2ow4yONjoW1aXSLUD5HFXS9dK9GjBdemTdpPZt9BR5tdd2bAScAfuaT/Vfg5b+sSasoKNSJL8uYesl6gsvoN0fwmqrFpb7oNsG01CVzXks9RN0uP35/Qx9NVKA53TL3XRDPBk0DrmNRscA04sNNklwN2oQogT3u/CUgaUNAUtZ5H6zWxpkAAABaQZ+hRREsK/8AAAMAAGc3mwia5E0Sk7xttBtGJYhGtv6QF4bJNJ8yg5u0AGv828oDZqazHnlW3UjjRICTqFUzsUCLuCtWbyd3GQ6rm13jG76vTVXO+zy72tsTAAAASgGfwmpCfwAAAwABdSCUcNpTF+YNWq6G9u6+iZT6lJemIxNGYVEACBDDOw46U3vStXX9H14h6QZAdYONHI0TplyqP5KbdXFt+LeBAAAA+UGbxkmoQWyZTAhv//6MsAAAAwAC3PUSV/BlgCOIEfKpY3nR27v2bAE7UmsI1857T54y0uAd1UHCVOkxBZ/bjrJjmrAQuElKFk1RSk8I8e/CEfWk2CELxH5Ix0y6q5GzX/2pojQO8mncE5ukzJHOYtxzQif06orKMWPpRas5V3Bk2/yua06t4Y8xQMBk6ORuaI44vQMe4x6443Gyw8FESMQ1wlNF5Vmee2gD9szS9Vasa9SkQwzQH0mqwNPx7V9HVCKkTwO3MmXGAjBbMGdmn0ClnWbpMICulDHv7qfV8eBBnBmpBoxus+N4MWjDr37X8v+ihjZ+w+K1yQAAAFNBn+RFFSwr/wAAAwAA6FtVW+mgW/q3zdrfdtZustwAAEQV+BL/Ts1GAnwvxJlYPpY5L/WutGFwhHKunNoloxd0Oo8xSalfc6HTmEzBwtAidzNA+AAAAEQBngVqQn8AAAMAAXQqSvTTDq1CESoA87CsJHqPKiFg+qErMd1yxfvCIsRrcACYxC+GFqUYyWzHs0Yn56HgBz+9olO6cQAAAN1BmgpJqEFsmUwIb//+jLAAAAMAAttRXGhCdIjACxEqnn/AU/VzBMup/5u/q4L4AEB4IcQ1QdM30Pr+8FMd44b6+dp1tH706QJ+WVdE/fD/gWFM7vLEH+7+VAPVSI9jRmYY+KttPTuDhlBm58nWduMa0TIfRLhTDkC8h7kqCFUojWU9//B6OcgjgCouCFOmqxdmpefPVkglOBZ2oevAULavNrWn28+ZXt7ayn7YQqI9UUu1W4X0nqXR8Xz2T1ZcUpEmmFGagAckkMJ5iqqPeKwvgZUXjTxRjccg9ETFgAAAADJBnihFFSwr/wAAAwAA59Ly5pUD6lS6hoOu6fhO0ZDrEhKzGLz9wQNj5c9VwdsHvJyF5QAAADwBnkd0Qn8AAAMAAX64BKC8Dpcxk08xw6M/EgNJYxiS3yQAC4squrfFu4i9FoBG3ixLnQGTWQtfFubxX90AAABAAZ5JakJ/AAADAAF+8TuzhjGJZzkY4t4HuVPjSou40EZoAA4Vbh3+yWg8x+izTG0YgHMGRc3061HRYhzVQO5HgAAAAI5Bmk5JqEFsmUwIb//+jLAAAAMAAtzGVa4AW2w9xzkV6pKTRlxmKU3z7EMi8L2fB0Z+aonaYUucAij2ydFvIvH2/5EVD1DRjSeMpKs1XGcvoK6LNdDOkrdUOn+qDuLB/tPNxX8ThS5GM6r4hiTmOyd7ueYna7i4ccdCrgSxEuQixoC59YYJuqxmcJb1c36AAAAAIUGebEUVLCv/AAADAADt20UXLLQZTaTz5HHNIhgNfSCbpQAAABwBnot0Qn8AAAMAAX3AFiUC71sjQYaaqXR+3WCAAAAAFwGejWpCfwAAAwABfpQE4g9KKXlc6ZiRAAAAb0GakkmoQWyZTAhv//6MsAAAAwAC2+wYYU29jACWlYmRijEr0D7SSE65q6rggr9BqblvZFojUuhaazglw421hp6dMeIRpH45j0KxlCurJw3BC4bJWighHeS2RF7ylqsV8EZteD1gPMA1zwmAzAsvoAAAAD9BnrBFFSwr/wAAAwAA7e4bUp5hr9GtWA5COpQAhOBUhCVV0QlomW0d0oEQUkXp2BtztYHjcQ1aGH+yhqdcA4EAAAAaAZ7PdEJ/AAADAAF9wsxRGOmMDm0OqfZObcEAAAA6AZ7RakJ/AAADAAF+keijrsqT0vdXyrINcZ0WSABcGEuoOG+i5V8HqLRgwfX1ATA0MsWY04aOWoUxYQAAANdBmtZJqEFsmUwIZ//+OEAAAAMACwxk6A0/5XiHo0l7gsAB+/ODcgKU2+Em6pazWGFI2phf8yoxWhPagDWVxyiOAEhukvN/GotkARYuq19earGQXHdu4NlNl/Ph1Ue74cpin1yd03l6yRyeEuhGM1UweUHKIaNKeYzMYGVl3PG8e9LWiUwnZhPa/gESHPEK+dF3aVUYHJhsX42sj9fqqNpFKR5fdM1HbpHAPcPbCDMihaw38fjHPzqjoMoiclQDMXmuYZU62vUCskpkte1ngsh7pCf/rzBUYQAAAGVBnvRFFSwr/wAAAwAA7e3tnQ8ki1LJZUT5s2OaZFc+13hQiTpjMABEE5c3Pj+iDiA9rJ6oh0RSir0/FmzaVBuhDGWsOfcGtZh7pWIPIsS+a4GAVGPYPP5635BOUIIzIdrEAbCWgAAAAFMBnxN0Qn8AAAMAAX2/bdzwx/5gAM3DPwDUTE8HNN/qa9n96mxH4HsOFC84xN5wNCrmGCwo3EFhTS9JgjAV0WgZOoTSKBk8t4JSzJSjkjv5P0BbNQAAAFMBnxVqQn8AAAMAAX6SowvgqM3FqTJYxkLHVTQ+IQoribscUXt/xAgPBfBeprEVgAS/J7I3fubiSBCDpJaFdxJUm9kHQCG+bbH4DN+EcpHOQAjF+wAAANZBmxhJqEFsmUwUTDf//oywAAADAALxzLl4bqUIg/ebZuZ8l03Zq8gSEGl5FI7NzGuigIj+CSnybsWmkAVOOUMkN798HXxHc/L4MJam0gpsCBObN12BOHaxukjfD0U9kB4wXZJUrIOt0V9C7GJz7WZZwOgosl+kByI//FfgZJr1W2lA5jgYHmlNe70yBm080Yb/dKnOYPjQSeE6axp2Y3nDz16BpRV4mZwC6xrAO0YPzjf7t9GjtkbjKYZFY+oZLHYAbq06FGtDycdmvIn3KUGc/ykiDK6AAAAATQGfN2pCfwAAAwABfvBp3IlHfI+v8hz1RZPtupg/0ZqAbLHsw37TSRt1l8Ul/XNW7ZAB+6sg+141aPAb0i6HpJSdIyxfj3PovjRFT4sQAAABIEGbO0nhClJlMCGf/jhAAAADAARz1P0NYiAIiPVh/ttilHKUhLskUgkvcQTq3HVET8h6yOVcrJ3w+NrEIgiqUC6hgk/xpTN/IUMU672f4NUq7n+IvTXaD70iye7JtcRMu34QRaf3RAdULx4oXwDyyCwaRZ1EVGHu/AbaRGm//f4ClYsELpUwWyblSoBW0FvxXNXfAvKQ7zTvEazrdiQj2t2qDqOOOMTUD0mYkMwptUO9b3VHXSnYdqofYe4r21e9NxMNhp9YDpqfcGid7LVxR269U0o/l8gnpEJnr4czkbJZCR2/3H6jWVJgxJ54plo7oJijyaPMLuTjR5AVyVytbJfRsyTSelt2xW6W/T9dVX2D9/f/JksZpJp4jkhYRrJsgQAAAGxBn1lFNEwr/wAAAwAA7dsEvxCoZmJokYD7Qqav1V4n7eIVZd7d/a4BQAffHjBTkvAQpS3wD7dNLneAHZ7O6Tw1ZW6W7egE6YF9afhLdmtAvwxaDV/RYs313njd4n1h9WfIz76rLs07m+8pEJEAAABRAZ96akJ/AAADAAF+kqX/OMVd/gg2c1nze4EwgDvyPfRmxfjoAF8m7debIC0LdwoZ0ISa+efgz2AsDNFoJlenADIVSc54gkD75a0DtiBt9k2BAAABCkGbfkmoQWiZTAhn//44QAAAAwAEdIXEgBbwJjvJWlAAfkPLCS+TN2e9jt+sbPpUVklsgma3/YeQIMSahkJvStn6D2KrZSC6RZ7mgXHAPxSWJN9WO/f+UZRhq2EqYgOVJ6vutMM5YnaB7YMY23Bj19Z2eeU2iJeNPsbyhazeJvbO/MpDVcMAeerP3ArtQXGogYQxCtY0xzQRZMXo0QGGD3ik55vfRKbb9AZNoZvnPXZaWsAjYefkSZFnFwrUEQmG+kLsRGHMMFKVfFSu0vpj/oL6rLSuQhd95Ng8smpXGJPSzOutE1LbeZIltbhVsPhiT7w6S94NXINqtTSQol6M4nlspA0RRqDNRyZoAAAAa0GfnEURLCv/AAADAADt7gADPYOJqup9tuOtHKhAsT/2VpcedWaIBlEpu0ZeUKQP5BEke7zyNjnVVmv0YJeywAIgZZmkblnZ96H44MPzHyF7EL63Nnl3tADeYU0u9jnex47beKfuIM35XnERAAAAUgGfvWpCfwAAAwABfpQE4tQnaBLvC+bxcmTUTioNTOhF4QuKCj+omoGXLSABOX0Mx/tsUfia+wDqhfnsgyELnmDZfdRyuo1Z82UDrQHzJg2C8+UAAACkQZu/SahBbJlMCGf//jhAAAADAARzzWMJSXJQAOxd6KaYE61oGLHitg0iCYG/+bc1LazT4nO/2ji1cvGpIel49DH8uajpAasAKn41jJOygBW1SLBcRgVwI7d2hmajLbyk3XX00QsDSbgjAvASk4u9zUj4QX5fVX29eTiE2fvHtj+12MzjzKQGMCiMl1yzs/dZUcHlzcyHhiarcHOrlTNTbr04i/AAAACiQZvASeEKUmUwIZ/+OEAAAAMABHvghxOw/FPPLp7UvMAE3eBkYrBuqmivp5f1vNQKJ0X+Ae6e9ZTf943McZvK7erlbsMaeH9R4TTcGoONGsOXwYlzeFNdOqYegNPAmVSBr2LN5j2NgGXqw8Z0wKixOtTE99RVeRm1DoJNy5n+XoR/D+dH5P9Up8jtBqp8VjeoCwYP1qc4blYBw6Bl3Di1vwHgAAAAq0Gb4UnhDomUwIZ//jhAAAADAASzznOaLABxswFFTgq5ZBZ3a9+9lu46Gi+apfsMytpE520fwkkppttiO54NElZ/49B2okrALl6UUi0xdNs9FV/f48CvuvKesF838BmYaTCqOYfi8qpA+fbqkwbIWBAXBgFvHw7NEh/CZQ2QVDXC8l93MV7bqgs/ZMi+lZ5CVMc3EAcUqKijqtMBeK9O6e8RCrbKB96/Jht7yQAAARlBmgNJ4Q8mUwURPDP//jhAAAADAATUQvASTnR2NN73m+q3aUChGd8SU8/tg+Pi6vyz8q3nX836PPh1ptJgQjN2ZtnDK7h7H39TQeb2WCZzFx9+mms+b6qNkGJuEozsXDb8k6/F1nC/FNKXvoVwJiqIhEHbgjUfZjvn8YXQmEIC95J+sOaky/Z5uczRRXm7zyFa8n/nK8GgYyA4YmiK0d5qRQPWHGRmYsuC8n+JwEh4/z6JjY8POykqdUKcZzLvV2Owliatq+gmkr221vy5HVtaw6fr56wTtLdJUP11lq0zp7xxZyb9D/LSesDgJJZd6r1IqFELUF0QypORExr16uve7624cWCPGfubDLChjqfMuMx71zh5DtIloAAAAGYBniJqQn8AAAMAAKHHJe0XfFcZt12zH4LHhAM4h+RQHgSIHiExhTRio3imKQXaH+BwAf+RyiRyIm9EsfIf+zjfN8GQwBcJsKXWOYGvqvWupqhgVjfixKGnEKSfN9nhdQoEi3c1oSEAAAC2QZokSeEPJlMCG//+jLAAAAMAAUCn6eSrAB+4f7ZOL13ujnI7QPLIurm+MfGoM0CqEM5VQVJsQhyHfumNgWw+IWq9LZdzZoqgUwyM/jJhOwOsGY16+yq+SA/sIWCwgjwCIXBkbgj6+FrXjnn7bO27MIYNzocOS3jooYF3iDUZIkBr5AyEM6kdwjz67LsLI0VQJNBVZmJcgW4V4twvdGZ0br2YDcR0+3/3XBEQqfQXff2XSsMZ04EAAAEPQZpGSeEPJlMFETw3//6MsAAAAwABQGUwUatBsdfSddNABzcIaXQMagE4OHEzrWd4CEaZ2S66v+USbrlr/1ZiRkOi2KAuN1kwCmxzXrcaltHKEXYdqcDnpdImI+7eTfnb89hAnO2pI+VTq4mmvLL3AC7fEkiQYc8wWOHyF2K5ENE90ZNbJsoe/Gl7F+VLcNmiO4Fp/EBv/lInS4VZgNvJ6w9+bBEhsUiaFxOOcvTG2aLBzVFDsRuPn3IqK5zBdopOqOEEOYOhGbftcqgXMPOcxZIyLpyTKvJ0r3UTc7rC7ASx7mSqqQYvpWnmvZXtL964jRc/V3vh33KhAPi4Kx3nJpgaRzZb6M3+8WPLgnwMwAAAAGMBnmVqQn8AAAMAAKhliTrLHxgGyZkmn+9M8H3tiGBQAHaBCkOjqyVuVkHlVR3dmgs3h+2EFNvzVpQh6wCRrcKpc6an5HCoFOwunRZZ2NacwNPdTUvo4hf8+w1K3w27AsNM+ekAAAFGQZpqSeEPJlMCG//+jLAAAAMAA2QgfxBHOW+sGwAg/hQmSnZy6/cfpT2E4ZERnrUPwG0JS9h+J+asf6pl1EGCHbj+Evd7NvSuzuOPc2AO1aBMLkkm5bC9AgvfcXHmfJQe3XJrY1wDR1MimXMiirVqsyhpwJcH6nvUOfGWOUEKdJYkq3rHnFM3eFvq8aKVh/5TR+UI91pDK8eXtBbyMpEdOVyu5F6IU3IdJNhy1bUYzB70q4LkyZnjvAL5WSiIum4rgno1uFMITfx5E4bzAcddvSP2Ait6o/1UIRXHtYZjSLzUPzzynOGEBGq+cLsofxZt2mtUZ7e0gybz5kGMml3oFOP8Rw+A1sQgysXVLlmIWTC6ySJnDZtKrugJbEM8qO5uGKS2wBm6rTGSzWKvhVok5HdZ2f/Q0EyBcx/BgVY70gUrzs8RzfAAAACZQZ6IRRE8K/8AAAMAARUiyknHsXyObhx+eSL3mzp9JF5nbQAbP2YexjNCmL9jLgOxWGW5+BiikgIgR5M6ph+y9f83U4JLfecNlOcIiv2/W8YRhhnG7QzXJICoxfhgJXEJl7u445invGrXNm6O3XpR20LCUzPlmlwAlzNNFKihQj12NUrpSsbUg6qRb0jdAfEQstJuR6oae+jBAAAAWQGep3RCfwAAAwABurulp8uCWRlk1XQRwjrv2LvViWQrrquSfnKsfH7UtuAAIfctWivdsNVLkweMYkMntPqrMRXsdX44nstE+r6byL6ETbeEeICrvzN3nKCRAAAARgGeqWpCfwAAAwABunlq0BH1FgorAu/fxgqa1v569tIerEGpvP1s69VGFt1R1YACcd9VEDSaC81kZ7XjJZgrGe8kUOKIvHAAAAE1QZquSahBaJlMCG///oywAAADAAlEnGUP1sbHaOwAca0dz/pzae6Ai6bt4LFrZf5fYJq6zdS5bcvEgmRuy/LMCZO7ogsb/ZxTQ8fnyLv0PGtkt23DiuyHcaKc74XqH2P1mqQKs/43JCebDy1KCHzUNJphsSoMC2apzLZe3IAuR8h48SJu0zL1XtJyF5bvYWvqk1XvCvi2WNknL6yzU3ny7hKJyoxOgLKABkapUAdGGcMtuEF/asrqKAUiHvH/4CO/DZqKAMyor5RsfqHrQj8PZ2QTWTXU0Y3l3hSzNz/1v66R3UsNAOtQ5nTAQpPuHjDcbe0b39sGyz3o7SELaKRXumMx2H8ly2m6CEbQz0bBAtiqHWZ+RCxCTqftZkr+d6R1xdXlfg63We3uNvLZC9Bkzb+yvI1cAAAAi0GezEURLCv/AAADAAL9MHoHuvjtGGPymAJ/ACFKs94fKmywTg64b9YhEVJzfvHQ6qlRWXBAzZVMes8E1+9hONBY9Z0HOdLsF1BGjDpkcZnd5kauHbumoSgrWZQEJDUtg25Pj2bhMdyZC76TjjOdyHC9S5+zapyh6lpuR/RdSMkBl1y7PJQGBnO06GEAAABFAZ7rdEJ/AAADAAHFelWfDK1iKJkIetAOR1SABtNxuuOysHOTWr+KZpj8S1e4Ihx4GX7zcKd6OiOFETpzY8ULpU/VqLNAAAAARwGe7WpCfwAAAwAEt+CFtDi8c0Z+nplIrKeFuOOn+AD8380Km+MUvTWsLFFPB4pzfiJexkRxgpiDXZ1r0qs2XnMB2PEIvLoNAAABHEGa8kmoQWyZTAhv//6MsAAAAwAJilZJcTG9r6DcAJpky0JQ0FDseSzAY8O86isWbnaBhx7RzM8smhPWKoc6dA2MHg75vz+kH1L94NcELsx591iuy77tYki87BinZ4OuCiO7vMc4uVLFY3Fq0VoFHvY73eN6/+lPWKemyS6BY3DkuzDyuBYbbG4jwVNN6fuetB7WTLfircFXR1L/rdsQZCSS8uRps0Ya9qBtxB0obl80RnJ7IFaWCO+2Qu7talSiEYhNxzXeiwXuT4oP6x6C9OZ8wRzWAaCYPC+qgyh/wq6Ap1J06bv8BJEDkHbH6GbXFwdbuiUMZUKfNAUEvUYGq8GzXHQjlHMMxqEOXHXwG6m386M3O5F29bVygaNmAAAAakGfEEUVLCv/AAADAAMP/sadicZoyeo3swo7wU8/+iKhrGSsSgARitXGxcP211s2jSsDgspIAS5uttmsICeLsjV3EA/9WSUb6Lasih9h/zmhVp/42iTHQPMm4R1FRzUYyktNXlM01PvP6fsAAABJAZ8vdEJ/AAADAATYXDoAO0Vk7BBypm+sw30Isd9ECzCCPYkHXEIqE8+g6qMZjZ2pYAIgkm9HdwG/loN9ZT6BCXVmufb5qYILQwAAADUBnzFqQn8AAAMABNWtjOC+AAo6m1lquoazy5jaMsb2LwjREnAA1nJ2pjTh834ypHNDdcClwQAAAHlBmzZJqEFsmUwIZ//+OEAAAAMAJJ7Rkbum1XpCG5Oj4ANzF1jQj8U12Iz4XWL8agmeSiRms6NDVJwwA2Mh1KPG05wjiElYmtnGW+haeAdqJz3Nn2Z6iGzlLAttrbmMfZwrjJTwy5C1wHrsDbOkC1rbaVe3x/ZhoCxPAAAAY0GfVEUVLCv/AAADAAMO2tpJ05EACcZ5V6Y8P6NuO9YkE6fez8k38C1Umx4TCjYoettxVDrUaLqaScGnYs8VKmfsRbJ8qGymVqAAofx4CGiFRJ8+jnQtHMb4Pf3Ym0a4i3USiAAAACQBn3N0Qn8AAAMADOXdLVUbKia84+p0c4joIAifV1L790cRF6AAAAAZAZ91akJ/AAADAAzfto6hYFW3ckK6EsF9IQAAAF5Bm3hJqEFsmUwUTDP//jhAAAADACSqjRwSAXJAAnbtgyvbQAPR01ElkM9uqdW4dc4n+C+9vElwaHBwkx3MTZEAyNFYoSp6HBjUkfpl111c+AHaLapoQ7hobrNkn/ygAAAAHwGfl2pCfwAAAwAE1cqi1BfX0tP38a6P77wxtMGWxXAAAACcQZuaSeEKUmUwUsM//jhAAAADACSeOgbNjwoA803gA/J/A9VhEuITnrO1DS5YkkkedhtChDzINMjM9x6Bsg308MbqCl0aTY0pD2rcsajN+JNZHLnzx+BvUIXer9RKPHlsOMGcgq+fhwy5NKXUJAXh1gQUZ2bQi5xXCnJ9K8jrjUx1YNvbwwx+1ZZn6xIFYROWxFxNlkj2RJF52I6nAAAALAGfuWpCfwAAAwAE16bhTPA229UwoIM9xsjkNQSh+KQALDU1tYnyRheNOyqRAAAAlkGbu0nhDomUwIZ//jhAAAADACTdE1Wfqja2ADZ3FhnScuXIaB0tdm2UGwfZQqft2IrwSLABzNP5SwIVXf2gKEsWjiyuqTKaCnXp2b8bV+FdmVQsEb9x98hf6cAAC4U2j6KEbePzyA7LMLPhkIlBA+GMTeNiWrYfrqRwyoTL739haoTUTvn0ZdaLJm+nFzD4Eo9RQ69hZwAAAINBm9xJ4Q8mUwIb//6MsAAAAwAJj03oVJXxzSsHbR5wJp4BZTRoOHbo/1hOcFC8q81c5+YoLQcLU4sSpNttcLNagzlQSdSBSOtZG/b290zbsZ5Ofuq6zIpn4u0/0sH3oKlYx2ENeFPyImlJFM+9NSJmh5J7vdRsG7y1/03fzXqGGK6NmAAAARBBm/9J4Q8mUwIZ//44QAAAAwAj3wRFNYFCfLgP0sU8VLMC8iTCjmuZNBjanvlI7aZNmbLi2LrAIMuqVDhD3Q/CU5MqglUKT9+HyFeOT0fF8ohDDMhngRO0ONp7y5uC3NkESWsVX/VWm5zXbLKe0SPI9VNP8WKjNzFcyQrOsyF40tBEcNDwTj4m8mLRXPgcRDsna4615QniREDsmWmeG2S7InxlRtJWVJ/Lm3+dTKJ9cY35ryRKv6bWWEbOmNjIyZdy103ZSxUY02SHAQoZj73YDeIeopfaYH2kErnLaOWusp3/4tcG2i21Sy2o6VKLiYzbvZNBFdiJdPMDR2Dk9+5rVYysmUsq0bBGBrb9NTwNcAAAAGRBnh1FETwr/wAAAwAC/FCBB1/RVdunQfvPhyf+ADjbLrnHTZbOSiffWJlx8ebPrUxyjOP9l0Lxcsg3ppYjNyCcSmlBpgfpdtFUJJNySKM070J4rUl3OmDhLYyRLjh+ahtv9a2BAAAAWgGePmpCfwAAAwABvxEHFSETRwr7x70hZbnHcTwZWe04TP6xxkx+EdgAiDctSsqcMmIwnvtHGV1LUDPkJ5ZMsPqxk9LCzD+Vl7d4Sjt9zY6AjXT9c/Bm3R2EgAAAARVBmiJJqEFomUwIX//98QAAAwAAIN8AtZrd1nuLyzac0wD3n6sjmyAEowNn/5Xf8PxAgGpBG3vsRZucTVu24ZGOg2OHV2PAE9J3N3wqcg5KUFBwuSdEAVQeYBtv08Sdt65m1yU2GMWNn0vqy3v15V0jx4GL62LhnB29I12NK5q90KbYjgC3UoEg+emfSUUxT6zCAxXmP71InwM6NW767aa4R5QzHurCnRYmF4cNcOH7xc9yUJx0hWVuG4tZVyXpjyghC434ls098iSPQE/1ln3ppAQj/5I9Y9e7c5BAeGlagx2UtscXL3j2GMzdLpKyTMfwhrJv/Rj5MBdcSaiGA2DXHNo2H4ltJdyxI1yKHYy2N/QNGIelAAAAdEGeQEURLCv/AAADAAEan/UCaN+eJjn3f3tBTyFgAuouOWwvdo+ckMirm+ksjgSbr0U5xjbJPGcrGVyIPcJV+5GJi9wPnJ+wjXzlsfsSqYmdig/5v13/U73xjSEadkzfksm8YRrS/sTZ8GZuS3OjSm5OXIOpAAAATgGeYWpCfwAAAwABxX2yDLpkzf0wty6CS1XlHHnS/RoNlU+mP51GjCbC/QwQAbAbbTc0ph/s12UPuthFUm1tJgEU2veBJlQeaBb+rPdZUAAAAKVBmmNJqEFsmUwIX//98QAAAwAADE6m4EbFbitK6rojWP4yT4AOvjGXZJZpw747uedj7uwTgOgsb8S/6aNHPX5sd9vAImhevIWtlECzWHKlymPVj9hmY2TvlkMmJuEDQejz12C84bWXjujwWAKQ0nWh4O4XyfEGJQ2jI0k7RPKQET0MblUWs2GqWgoUEHvwXpklXkbHKgaiMRRGFB0r+AI/oLeXv30AAADcQZqESeEKUmUwIZ/+OEAAAAMABP+T60LXMRP/BAoAQlHflqUWAlv/u/vD4cfALtoHU4RaSw7sDJArQk58FM5lqnj7HhVn06/HXBrpoPGtfAuO8mXqdkFRc/b5uHCLNndbDgp+L/7ix63pkXKp/VcOPDlSmLWShQjHb+sdksH+sIToRYNyJkhcvn4Uc82KZb7RCGdTP5sijzyLH8y7afmZDw/SxvZ3403I9by1LeZHxzo+GDJWSbBUVOdulGdR+SWr1LGNEI+fY6kwY1eEw/uwVyGxJxS51fpkfAoZgQAAAI9BmqVJ4Q6JlMCGf/44QAAAAwAE0878/oiAE1Y5XxE+Th85C1XvZsEbxFyG11d9IjwT1mhiqMz1T9rYgwjTy723ff+wqJ7X7Kn6QyLsOFIgiIamYSHyNh+l2C7coQ9FD2NjLa78NJrXD+xv2hn2iBgQ+zLkKjHovinEHQr+i+6oKc7tAlXBulLZu0R1oEyGLwAAAMxBmsZJ4Q8mUwIZ//44QAAAAwAE26JrQlYC+iv/OADK09m6lPmErQf8N1QTaxDJ6DueA2g2quX1+gUefjhORsr/2nmQWrN5b68ASp6p3aiqf/h9Y4MR2oXVuRO4skpnZ5hPT1DRq0pgH5XbaaEunf2VN+jinwsmdWYJLqRHR8VxmrT42oVXyIML/PqOT8/qD6WRbQZvLg46xbX3y7Wdq27L9Xubh3FyCAyv80KVxG85oOQfjS6+7O4QMP5pViCd2g96oBWvtOFLgj2OlcEAAACrQZroSeEPJlMFETwv//3xAAADAAALr7ENZr/peyRHqEJMAAnEF7OkM8BVyEKY3+V0bERv5w825TZQh9fb0u1+JVeSzPSPp3sYcJ6OMrfERoxZhbedv7y4AgJLjeOng7WASmWvHOHaY+zSCh2+b0MuXbOG6dxo/HrP8GkLokuuy4vcrt+lIV3ZE13nA5TeOKBERT95Xer2t9em1/TB+fGHkbNh4hPssRpM+xhgAAAAXAGfB2pCfwAAAwAAnwzNvr1OQCSRydxqC8mX11UDVNPLwZt8FefLIaN/16M6nybABCFmA2ifz8eR5D5encwINT7mVIHkB295bAZm5wKiHGhHeYvLwCOr/6DFwQk9AAAAnkGbCUnhDyZTAhf//fEAAAMAAAsTlEvCbJd8rLKxeJLFqWIDYrOivF2lBI5unjJeR1bU5Nt7v1sRMhQeL/UUtiSz5mNmYAzWOSY8Q7ouDjORo8LQnu4O3Uet0XqDsRpSxX/IXj9DcXaU6oJHPUmPAkDMBwXWwEOjmBw0i4F5t2Un0lOnj1Qfk/zL0hJdo7k5tOUamU7qayLgO/UN9bTvAAAAxEGbKknhDyZTAhn//jhAAAADAARz/J2AUTWTb/vtMIjBu0QZmeytPbRFI1z80YHkv69jpG0eic744WGStBCvuQS/wXPSglmM9LXyt7gfFoO3Sjb6qJLkvOv4vpq4nV12V/oE8qg/F/3vMn3MBPbrXklbyeKZI1rgjjJSluOkL6JJ8wfnd6yuzAs+rOoMpgu7XSf8SFvwson8XkHP5X48pMIj2w4/D31nme4DVYNoL1qaMCbvGCbqNyu2LBNOsaZFYtph0YAAAADbQZtLSeEPJlMCGf/+OEAAAAMABHPvm4AQcMgxsg4q46+v2zIDlMFKiqQH2UH9iPiGcahzLgi5JJAxc3j+v4NOLRbI6q1LN3NyunHhMZy0Y2TDmvhQ3p/liCPacX/U+kqFqeT+vf4jQktOvulFz25h9Qpm8LHKgEnDmc8JLG46nTBMQe1v186LNScp8cGuZS8GjKcZ2z8ZbzhI4j2N61KLeAQ0xcyYzuf6K10Tk2d2+jXINJVsNOz1Aa8RNrcX8thBgeVwvA5eaBNCWa1c32TPRrWiT3RcOUt9oJdAAAAArEGbbEnhDyZTAhn//jhAAAADAAR2ilUsALAYLJrvGbzSX+Fbt4IuPTjw+ngSNkdf1ks5gHGdZzSNCa/M8j6FKKQ2tkoXejkpHr+qho+KJWl9vX6aCKhDPLtYXYnGSNbYgHXu2B2oLrBmrNKOBHQyNSbGuMeXFZcilUn4CM6T0Z38yFJO+4cL6lT86v1OSCbzoKZLfIgiAICMxtOqNtLWVdh+8hjWryT+jibJ9LcAAAEdQZuOSeEPJlMFETwz//44QAAAAwAEdOCU0jQRfnR2NWqx8e4XWrC2ebyRetPKDLwV0yI0Cj5zRzD6vOCEBDW3Hj9a5iVOFhcypkWzU6te5ofdnk1GbhaEidImwyG/Etuh0uhizzN+KFMGjTmXLddNjvD2xWfh6NVHgNvzDeLFPc4Y6u82GvRq/pu3z0y7uQM8rLtWtJkVHnQx9cRfas+nRIfAiUfzGhY93KC/NYs4CD3jHnAk4LYEtfHzaYHKE1Z4FEGR+1hLXVByO/7s6zExHTgVP0+QpxImGQkwRW0oy5LCnPIwxXTpRdkuygyUOQC8FA+7G+9qc10qBACWOCr4yjdFhR22fwwZChKOGGg9VP1Al0SGLuPvRWpMU0fwAAAAYgGfrWpCfwAAAwABdM17dwgxEfSTMgcSXN/HMgZYio1os1LClzvPf0oVlnxG2ACdSDPvM5IcGIFTR5pLz5CXzuqoyKkBicmHVEbkH9f8LHrybr1ZcQbYacsm5Fy9PqTOl5yBAAABG0GbsEnhDyZTBTwz//44QAAAAwALExcMhorsAHCPprj90Suu1cOdGWoEzlE+u4jHqL/zzlfOtCTUjPyc1xECTvqwa9n93eP/fS0JoynYGOqbNKkklrMwPZgVMrCeb3JRqF0fKcd6lu1E6+UDUP5NBkScIvREJF0hcQvFRLnayRPHZqt8ElN7dMlI7jEKqbAbsNHz4vlsD3ZDuJSPbwmbAsgvUzMnxK1FVhImKiZOOFJLvJ0FUW+s5WkDWF0c5eNiN7eK8JXtxzG0LtFfnx3w0EHVavrMn/+BOWaqZ/QXXg6oDE9G6NpaCMLQubZdWHR/1IVzQQ0foV9qF2f1vXXuiOSgGE9jOwjcrqfoQUl5qKrvWLRdP+wuj2XxV0AAAABWAZ/PakJ/AAADAAF+kvwfaqqrT77uCSbra/K80fsUn0YAqAe+zoYpUN1d9AWtICR0idLgNFd+ZgAmYagHqhBFoehW0QzwaurkmGoP473cpyoUkdg33UsAAADWQZvRSeEPJlMCGf/+OEAAAAMACxKCtJD8SwXqGZ9AA2EpbC9F9PiVbrEtCjNGZ2Lz3om+Cry69D/t/+jTQoLmfFzzkViL3hCePMq826I8cqUWccrnEycpJnXuF7ZKO/udtr8PnhP4HJQqvOb5uz85o3QVIhFqeATxn7szDuN39rPu3maiAyF/2fgs8XkFuNkuL/pPiglrw2e4XaxquDD4o1Iwwa4Xb05lafNxRaTjB/rPCUdqVkBBe6/z1vTN3prPjXsacoKeI7tyJ0+hxFXTq47PC5rY0wAAAIxBm/JJ4Q8mUwIZ//44QAAAAwALDF9V554TQOL/gZ6CrQgRHc9Px3xAYDMO46cfsm/E4BpuUN522IYzaY09GVfcnuRmBuYQ4MvAFJNIC1MxWTMZbFZQAGWyQSGWkrSG78RbahRe0HqTkJYcv9H83FTLU2fPTKvyjz+84OHKNXCLkjOb6VlR8o/mMVPMBQAAALlBmhNJ4Q8mUwIb//6MsAAAAwAC3ISjTMOFfz8BQcdW50QsjUGzYANi8I7vglvKB/upWNvVuhGkI14t0JnYw6SXIWMYrlcz5SuZ+PKECUN5ZNgPUPGzqVVgPUbL8/+rQkFpHbColfww5JVNijVHxcHQStBVR4YlEwPrFHxKWLYzVZWKv2Jv6nWJKyP3cUW/Hp78gSS76+ORxD2uW4mZAOaRN6ZStNXaTuIYUT1QEU/sNomf4WH6JYQWgQAAAOJBmjVJ4Q8mUwURPDf//oywAAADAALcnz3GK9SQ8QAP0QxUjP39IeeKDnD9x3nlaJcNkoacTNeU9vmNv9zKA2X1RM7Nz1aq89DDOlx4k1pl5ODj7mZh9GKfec9KrS909npbJrTv0fCfEYEIkVdnlPVk3qWi4T9RuEMRumacQ1sufKiZZ1jdtLELAlVnm56i5fgia6RbdMLtGjq28VAkRsXNhXb/J+k37r1sneW1On7QHzUKUZwISx26CS+lFHYFItkiGuoxUonobu9k833O8/jREYGPd2aMma3UE2fzcSUuQdrgAAAAYAGeVGpCfwAAAwADtwAuvgh5gILRPKO6R2pUAEXS3t1Df0yLzVfvuACabPAVYw6U/JsL+AOjSHwZTTUfZbPoesgtUJbEG+JqvBGPoTp3xoJc2hbMHusOVrFPNMeiApp4PAAAAM5BmllJ4Q8mUwIb//6MsAAAAwAHR48MIZuAFs4ITth2ERxcuyYJ0vrVInLe0vyxX42V9GpPm/D6y+RDJbNOIr3PCGMFFQi6xZCL/OxOaILi1O5U1gBn6NS3pTnD1rPJWOHLd31LQVe12hCdjlxrwgXOFzv6T2R3CwCfxEhrGWwALrVXu/LRVMWQl4G1NlilIY2glcxc9/XIglSHqb/2cNwG3EtxFes2Pmc2inVzJrBK/yEJjU/SUjeUvLN3E8/v28sTg9hN485r33JT/GU47QAAAE1BnndFETwr/wAAAwACWsaiMLXSnH4BjmRQqUgUprog2jWCyPnfeD8AIvcMdrq49JpZ1+MDxvEC7C20oV5zI+KAyJj/KAJyY+xqi66mwAAAAEkBnpZ0Qn8AAAMAA7cb8Qezfej5o0dLkaADfA+EXoXmOfkSduKxoJ3vtf0ODtMSTuojM85urvv9yDyfr3ufrH7UvjiWH8CdizRtAAAATAGemGpCfwAAAwADtTiGAXNB++UWA3dwAF6m2rC2LAay3xjVtMJDRxwtcdn3QqX097ustDwxI9bVBHrg5HDJ75BMc8bdRhdOrzIDpkMAAAAhQZqbSahBaJlMFPDf/oywAAADAAEQbcXr3NNGicUvWVVbAAAARwGeumpCfwAAAwABfvKY5zvM3Z/FGQAO0HyH9YMMWExG7xnqTjkKpcY/yUoIXzZVzsVHmF/djG6qwqDi1ig7pyBAe+ByMkWdAAAAvUGav0nhClJlMCG//oywAAADAAdThOmu+pSnGQNgFQAXzP972r+hy+NqabJhk4YinB6glKqQP1LyRiE8THGEJVo8KDQxNEsYfuVpjREc6cKY8rVMVFYf+7So2peefc2UxCHI8JUoQZ/R9su7z4a38Y6UmcPkXhPDwVdlvWquejDr72NVZTLCqkymJlbKoQnpF7q69hdvnzgLjNdByz8blsoJAkD6+G1OT/zEZwYGDxPrfvlD1ZzpbASbWWPzkAAAADhBnt1FNEwr/wAAAwACW7JSIg3rQT7ePLpIWa3XMpxKbWiaAEGobB61VrExJnjaD1Z4lzslLI+iFwAAAC0Bnvx0Qn8AAAMAA7Tf34IsViYUwhFTgNgdg/K2wAQhP5eeHpRL91Q+ss8Vt7cAAABLAZ7+akJ/AAADAAO2zDZZeHk/IUXAkmxN8yG0Y5YejAEyGirJgAJz/zngAlhdQzdv6tw+ZH+ynSyqy2CW3v475Qup3k0GK69m4yOAAAAAxEGa4kmoQWiZTAhn//44QAAAAwALEoX+twQGRI0I8Y+7mcAJiacTIjm6sYHnhQsvuEw7kSdTsFGi1iiChav6rFoWAyz9tEXfJ0tPpMcFUq+Sv+4y6GAW1+AfbjETuP5w2L+L503ujyANUnwiN4a1mD9ZYtQjX3JeThUuanJ8oXezeH7a3jxvh623e+DMVGOBnc00676LdvpFTBSgzBU6mMnRSP8W7vCKirNHrshLk3mLXuqbtskNeOjQgNzEYKkD/04d47AAAABRQZ8ARREsK/8AAAMAAlSiox6s5AYOuofm3JobeHjc27t40V504foAIdvegPeFwqyaYxWVhr8kQAA2po2uLrm9nG4GSGGqL3wDL+VtzQvo2yOBAAAAWQGfIWpCfwAAAwADtwAk5H7NavtJcRlqcIgW4lKtfyqD7A6x7ACVILKAiheEAEys04uqnEVVv27kokXhGzXnZCuBmb9mcu+bcCzUrIy686fBPD6r453up+UcAAABKkGbJkmoQWyZTAhf//3xAAADAAAbHf9rMan/rKKEnSbmvSgATt48wDPSkzX0deZnmtbRwA3iMt3W0nJAVFCFHYqNTx/Yrbrr3tOcObfWcr4JGhubqInV/O/0bSLXhf29MQtCAHIU5j+35IT9G/+VGIN8zxBYdn/I7MibXUTdPDesYlP6B1CTwdGEII2iDPbiMZMvh4WzGQ+9RUAumcv29TLISu0sOLgjD2wliuFRg6Bzm1BtwnaHeKGMAF3Q8beKikaHqX3sXlJjru2f6U0GPuNGIsVNu40U5bJ+bsQ5lRApInUqFebruBp90hPwVFqS6hi/4aoDT/9bo/naJG3IFDQc3/waXbQRDc7t4fENoOAAiUZdw/Lcsr59QRYV9JwBKcSYI7O3P9+yzeEAAACZQZ9ERRUsK/8AAAMAAlxUC1sdd/zL0tYAE6YExitdM9byQGly3eBEKlLa5URjLhIdziTr2NdQeH86lUOgk+f9ptV+DPgQmmbPHD0kpzHuKgBRCs+GN/vtNroKnax300t6MyOspvpVlCRNsIZcr687SL8KckwPXOmUEF4kIjQ8JAqIWrryTpSJs1RFxQ9///+xhADj87pZzsTtAAAAWAGfY3RCfwAAAwADtRTwHHzyNIZcgoxm2jDAXLPmvoZ3ZWGaAWABzRc0UWs9ddoOkzbCFg5VJtmQw6BMABAoVt1dMV3P5zl5BRXX88dz0YPKLL/aZzxHs1sAAABgAZ9lakJ/AAADAAO3AC8p3c/BbGI0e+7gknjyjJWG0qvTe3q+QHQYqgADpMrLltn8vMmDO/yx6ceK3JaBelBGKuenxNHe/a1fthFPGnCR+5zCvpCVJQ/+0+T3xyXKrkCBAAAAv0GbZ0moQWyZTAhf//3xAAADAAALC+OPfo5uwAmkkd7M6an8qakTKYEXSfdabq9hR5RBPfHa3c48TdnN5h1lCynKOgPNpDZ0VoufENw1fpXEQUdtV5JEHDB17gNY2L2eHpMgv4pQTH+MywujjvyO/brVW8qFF83uIFxA9b2kgbbkVN5iboIstd9WEDukxkcGqQ2ma4iqFrg+BLWpVP8ngXFKH86f8RrzvDifUo+knRzY6SF9s8RRZuswDeD7W1AQAAAAuUGbiEnhClJlMCGf/jhAAAADAARzynnAADizNKin8lKTx4txjqyF3kB7MBJibela0iLXQ6/qvGwMTK5pj44BnIHibBz0yQY2ryGMNXgONaY8uRwdwVOMaCFzT/UAgA3uioUCiyS3+NK4lhfXKXrajDDX7eBGtcRRwyC7qyjEVLFfdeMHLWFxCiS/l9KLSPWpturgJ0+tVqGzH0kn6QFg6sYyU/dSCPetNFEr7kZVobo+eHmETv/7j8t5AAAA0UGbqUnhDomUwIZ//jhAAAADAAR05U+74r1wbHh1k2qADLTI6pDW+sk9L2pxCZ0Ki8ayJgTCI7Z70Fpo1qvBcMAWxQQnDpti/RncrIoPw6XrVYr+LuvCcgcnV0xKQbgAugZaUHoMTXvAuuGuULPasCZleTn0+eSIZCT9FXwtZe5dFEiB4liahj07Ubqs4sN4ZPpDlSxbIauOKTgxLj0oDINH2d4ip9pwsPj3UnWfKUySappr0kzueyJb22D4ivSdpIfrmI03Cy5eKNvhdT5EvkuFAAAA8UGby0nhDyZTBRE8L//98QAAAwAACwvLWjcIABc713LsV3mbPJyA3kAP6o1lrU357D9tFu/9blCSfdTxoWnvwC6B+LIsipUw0A1FTcIQS1gdoDikzArFXlSrPLdojZZY8PmTTgbHqDlQdG0knePV8R4nuyN6zLFe1zfiHRwU7gqrTUvHA/UCccO8dlHGV3BfDkEFvspHoO0tHkYQWuqnuXEEujN/s+V0O3UWqhQePV7PnM5FPCqfWmq+cBLLbvl9xKIB03pJ5WPq9kHR4W9/gL6xRs8f7z4MbMW7+TnYSH0jmbjCmwbnV23rrDFKpzpFPcAAAABdAZ/qakJ/AAADAAF51zzrtjBDTmw5+eUtkJgk+oAHVwc8mSJwEiSO8jr/2nkiyI5HKfragQa1cY7rkmTe5YFQc+ys9zVZlf69ElVFE5at3SiP30Qt0ekGZNJkTQkQAAAAsEGb7EnhDyZTAhf//fEAAAMAABu/TdjneWn6MIkTmni430m81bGgAdWki7fsAccBhyt5EngtD6AlEQNZdt6cnhQ1DcToc1Pr2InID1CT9tEsEwgxsYWLxm3UqK2MEwrQ1MkO3I7mhxhrMoHrVkMZPpJtC9m5cuhKo84R2m0M4E1tkvVgmNr+GGTPkM70ZOfuSja+9w4EpWCX0K3laEVFOi0LAxRaCKYA9BNv/6aonYapAAAAyUGaDUnhDyZTAhf//fEAAAMAAAubvUrGEMiJBoqAByNxEEG9axkTPOaHwrHsYW9ZQmdTNPWO4tn4OzZg2Fmdv+j38du5EWxAFMNddpTZrdl6DtR23gxY+FDFN0mFUTKU/0kgUJxCQ6gQwXSxIQtlRYsHivSePqVkAyLYxXPs2wV2zh/gpEOtDrFe7I113GP5aMhrwnOnbMpt+PDsIz2oYyMwmwyUh6ejYiIBLoT7EE4RsTLvRGGzGFaJyiTrN5yCfm0iGSTyCmPXzgAAALdBmi5J4Q8mUwIZ//44QAAAAwAEs85ziMpRUKQwA4sxIlQu2TeaHFICQuRtx/6ABTDVjhsqJxDDWUqru0p4gVYtBcSMnRb2CMR5iEMPKx8CGOguj1CvsHOWXU1YJImO43/9sDFq66V9Un4QX29tF6/mH/lG/5A1/T6eM1gOKj/vyRvn65jT1FzyH+eLZlRfEtMR34oYe0aDve9FrDF3TIzA+GJzRW3RCJL3mDxHXsVrgSfpiid0uacAAADEQZpPSeEPJlMCGf/+OEAAAAMABNRCR0t6b0+i/iCBsACHOhc6wQIpg5TbQmnRIDrZzrVyGQl4Pij6d4bVahlOPDvJhrjfJJ5kTJD0p+QNVIVWhMXh0XhJtZlVK+jxU7aNMIWj3sPwrgDc/N3tDu/8tjfRdg8bnMVHQw3v69Zfpdf9eh88CfanyEnceSEHr8CYy4YqiyQEtwqxXi4xC66w8cVH25VQi1dD1cse4bf4ZRoqBcTOFoBuoWUIYlFzXlyQLdS8lAAAALhBmnBJ4Q8mUwIZ//44QAAAAwAE087OL6iAEvS81BzhxFKoFGaEBfKq2LCsuZ55+kD146sa5wWgF3+c+IFVMv//RfevzMG2jh2Jg56G3Hj2yVdWDg/XQevDdnXLGkl2QkJt5/13kLaTsc6O04nkUx20G3pYn5sU3r14UZoCpOA2jT4i1unijLuUUAvgBqzPtMEFIYe89ym8CsqfWU6CoQ6jFeyE0ETAnBHXUwtR8Pg4cps6SLO9E8UhAAABC0GakUnhDyZTAhn//jhAAAADAATZFMXchP1jorACEtjQsngYI3Z52cLJUGALVnP3BX5N0OJLLEE8B+9nKTSNK8iaJU+AGbdeDIBITse0gQyktdNmuq/m2GVytUGhlHi5uGUWckzbo/hTxSzeNDYtsae1DNodNOZ0a/JY0URXgoTMBWyeKKkwVwY1jD+SIc3ysApef07uz5esSDjQulBwg6Kyxk3H2jtbL0GYHdevuxnEUhH0wrAJstjFA6Bx2MdJQLAeG2UHJEfd/4VrWxaioIpyE+oznM2/3q9sYVhS/DBipi/T49l+5HNT8iLeNCq9jON9neLLO9bC+O7rgfqREnJ2nF2nLZ6e9gB0oQAAAL5BmrJJ4Q8mUwIb//6MsAAAAwABSajS0WOAFoi971ZguCp6YzxD152/Vpc8t+16KTyNR7TRSZMJo6x5emA/pzSiqzkIt+cjMjsLjZEzjF4Dk6y4VUuLQ2PaKScM2zNxfneGTPXfuEt+unwPNumW3osuLIp8hfm9wBYtlUF8wOoVJQu1erLdhJwAtubYb9LNJsIZ8tk6ktd/jas+I/cwXGUUNp795tqgCF4eI7TX7tBzfGH6voWXZgJM77d2pP+BAAABRkGa1UnhDyZTAhv//oywAAADAANkIH71nJlAkrAA/nqXqmzqS1JgEvhzb3DCUcqrdflntpDcELJ50mIRbpGwx706Mn7p5h9ygamjRallrPWLIfE7u4w4Z5CYIyo5ac8hCA4VbOTi0Fa4D+q2mmuITDUD99Yo8Wn94eYbeUbz1+9jad6efLOgXF2rBJ0/cTOUK4nDwgSYQF2+/XxF/x9aD0ZsBzV/42UC1jweB3flbevRibNEnPwsXuul2Ma65l9rjvOXEj3C/DRsKZ6xsG9CWPD5T1aokLEGL5ps5lCmbIULx1+0+C/brxaNEEnHDGBSBPW+GEsHk3SetKWy/a0QgLQ5GyFllFYukk/17o4iW4sxIfh1aEBf3/f7nwfc5h1D6gRf0gj/HvejNKhRyn7+IHCNCm6RYS3z6ONDYC7mSs/d9JW8dw1FAAAAbEGe80URPCv/AAADAAEaUUkYVdZJNiF70knHpgAXkBtQuaDANTMYsJll7iCrJ16C7yz/nPCzx1zZo3UfqAOLvYoqGVvabBWvuDy6lsoAz0kCs9fcHr85a0i0G0/T8NpNZJoGfeIo/RJuaV6m2gAAAEcBnxRqQn8AAAMAAcV+dYaHr10xPZGZntTyzIacKytzGaD877e5ywxc6X643YvhCfquzo+Uk5kAB94uGW+ZnITw6pwlKUXCOwAAAUhBmxlJqEFomUwIb//+jLAAAAMACUA2GWEREAEcgL5XAN7dMDiidpTxa0E1sKgJKuEuCfxR9eAFHdBvxceAglB7uI6m8YtYAJIw/e1oCM4A3RMgsEKg7fzLzQpM2mSpCZt+ZEAUMbEGVB+OOv4yXqUgkpalE5Ja4Afi55V1eDePehK9nSlqtING8xk9zSexw6MRmlQ3sjHx2y+jf9A+UDmY2qVvyYr/XOehpIqJCQP8/DdydZPQrkhaxOTde/sKc15bG50FFheU5cWlzhZYmlFyTRv0oB4okTS40NjFza7Vt/3c8dEa//lFhCulV5RMoxxr7k/bY+gPyS+uVc/jNTKDxRVQXFW+XNXZmgmYlhwlrg6ezxfqozr1isPmNewOsm4cR8D5eEeLH/yYfVRY5Pp46a9yc9zkQyaZ533Eg63b4VAAk64T8xM9AAAAdEGfN0URLCv/AAADAAL9K1e+zwP+iSTyS85dXoPv9JsHgADajSXM11BXexXtkkOxBW5tNNt5Z6xWZwju83K18EJldn5VOWErULXUNcqU8UkIFRWUqHt5pIPTpV4Vl8JiiDi/ch+2BkBDgk5pP1fy4azwK19QAAAAPQGfVnRCfwAAAwABxAShvdNGnEC3RYmwpzuaYAC+APnvTSDoZYFsNg91JqWmKd0XtsT5KCr6u/vKcRJUmoAAAAAyAZ9YakJ/AAADAAS34IW0Nh+ZyZBkkMBxm8xyxKI8/tUf0bDona6p+EtQBe3jgL9hsoUAAA5lZYiCAAQ//vdOvwKbRZdqA5JXCvbKpCZZuVJrAfKmAAADAAADAAA3ZVWldqup5dCaeE+/xAPHTLC1oAAACd+25n83xhR+wEr8yqhNCWH480hsQkxqiEBL6PpF7JFaiDu9FkNKyFfeDgBbvhot1I7CYP7Z7N9ENSRTErcsjoy0Cmb/85o19kmXWkLvhYjqSZn6d9iYvVNSwV7VHOnjkS+FOXdWsT7tYgSJB2ipSPL7VTlK6cOQBkgzw8MQbuDMzXoyu+W2kEizquL/dBdzjaFu/tOcghE0H7Eax1AB0rm36/BVsV6j7nyhMfp3S5msj5qOGQAAV+sdRuC/6O+z8hkOtmGTz0KR9fa8BtG/avpW7wDvQ+6fTRU1NZtr4pRTu0xYjEH9dsyNCiKrmo0rMHhje5jF4A2yNWbpVNI9x7mA0ZRg911c6VU+YBGdCOGVCRtC+udbwGX6sOwPJYr6zE19zyj4cZoe+stuzOiJ6KJjERi7J8LgNs+8Jn03dajJKn5hlxuS5nJiNyx/4IZ8g8xN8CycehfixbpaAziN09KvmWHujdoyvivTKyYKZkfFnNzQ3TofvcB8eVjaMkqGAVGtYmkN1PvmNZKZBkn6x8hMj4xPxOWIW2Vxl0pFVM3dSmxxgJih+4Vj1M3K173NUtILCbI3Ox0BZpITZ1SzmdCMs+p2t9NbXMiH91DVlCfoWdK3J5c0SNBUY/u3SwZQMtAZWfNnyKuLo2DLcRJQCB9gzGGgzALh+SdOu5CG0Z2emTUOCGdxPqSWhx0/bqBwjmzahJMucamA1WtlnG9+Rn4VbDVPX03TGp15BunL8lluKn+kgn19g1PwOSkrNR+vZ/Sm84+CViT/5HKoU4pYvfifS0593f1wMfj+Ocv4CB+eqforOLVRHLevsNjqG9R2CgFfYuGT5RW5M+Hp0XJoeB+uR9REpzj+mf8KqkF07ck/H0l5wExD204mzD/EikHdMQkLlPZII9om1iQGW26oTT96c1MKlp13GHYZqOhmgLkYwtWfInRTpKeLI0vfi+osW1un9nBI3u8nmD5s496T6ioFKCfJmCoePQBVoDCZKuhcNpvc9WHseC7GpAlXODEwqnGogMiIWxytTd4IdaS80xs4isaXQxiXYZdo02NiiYyXYxEb23yHxcw+aDY6aXQM7nevx+jmMfyzGuDFA7j1L7TjiYRmVFnm5gPYgJoyR7KKErwd4Pi5NVZdU9OaJLx8tVCHFpzqHO3rQJMYhjJcdikK3g/vaV4hDoACEoRBPtHPPpLTcQ6xsjwmqbgGbP1YzIcLOw2TTsScPzClWd2O4OdSAgdQTiQU6J5ijLWZqkTyu2Lt6DPhR+gX/VmIUeBlLFD8maYL0DanE600VEAMf7BgoAkjlhoJHss2zHYuQEJGZzgf7fnLTatrbsfdKxpfDOyFSw8Ozh8xPl8fRrazgi6XY66p/8oczB8RdIS/nEgu9o1DcSz2I/tenaNSV7wDbbWTwr39ikdfZXP7bmK4u8ySKu2v++e7r4jf09WdtYEGfu1KoLyx1suRoc75Ewl48noZ62EAhe6TNQVCkt8vE+o6luAEW/IbjQCsqyG3ZnJYRBRj41Fb8K4a1Af2111e7m7gkAHr62j2L58dlAPJBIT6WwdpKFh3+8XtgHdPKj6oHNY/AjjutKLCTtCPET2UxTjuafT4jR4dq8g0ijxv6W0Xkjz43Z0u/Ws2WWmbgHj1V9myWWt9RkcjxDOl9AGKZkbqWKYALYQAvxX2n0cte2ebIhVCL2+NEs+fE9fCyAqQOAChJoV5BIxUjwuoiaKn5tJfaGIi1xSact0W5ZijFsF9gT4qg0MJ+o4yW8EmAfTKUcPaD0RR3DD6D2rgHXZ2y93jN2QfzNdhlT2pZR35FJvkkd+cU4pgOyrnmffR8hcAgi5ec4tllvrjvEA7DM2N+/oBcApQzTpsuYXNy5B8AiW1FapPbCt6Slkd8HRbdWsbebO0XcZ854XY3scxxRKE96R5ZxPzNOVSW/wa1psQhmwNKKTZ7vUBBNqqf/YVH82JP1XddRIW0IZoFPpopXjZx52xBI1NHx56U7AlKSKocKFiSjg45bJj2do/+F7jqyRKOq/XJZb7r+8DK2K43XIUjO0/ZJWZuBJuMpviAfQ9ZjdH2sUpZAWM2yVcWBD98BXf0xQ9wAAANyvOkhDSLPctqdokpAQ/NKl/mH1H77G5ai3WTBUZvmM/q+pNWAy5LR/QRO5ZPMfbXfNYFajtL26x25tGUSggEK2fesGg8Bx5Pj1VcF/iAxnNV2WzkOw7uuf1LEiOPxfsjJAexctRPH29DRda8+j9HU2SNcXzVSkELv3rQ+QX+di6YVwNUBGx7Yqz29GK+iETpPedVifAJSk1hahb0PkToQIw9ksPgyAAABdHme3hjnJL8LnYMywnFEieqrZk0LvOYBfnE9SNANWf3IzNYQdLYA3jIh8LaUtjObv/Hg3Sy2VxVKoEZ+2tivgzQT9/KSs1aSVYnT5noOqMl/ukrzpn6h0RgABNOGqk271MFGyVDh5aD9GVwp764EEjsVWMqyPHvMkIJoDzXNZvPCmwAagKKD6X5+bFcrgNWflu4Dbud0yD/pZCFsSrKCZDH863glhHYygTyVbv/jjptZGgqWu57vr3+dOB7Gbw+ImFfQsCsZSMLsmJV++wD+ikxdZnIALbeBo7uVu3s96YJid+mD7d14KuzbTPbYv9IJISYQEIusteEITMBQAEld+fXd8/YhiMRT3J8k5mTCnvkpUYchsYWGLR5QWw+UC59knhYEANGMoHCQNksiCxMIeRp2/82FU6dgyYVNXfgYzaNiOva4AtNVT2rfATx1nAJoD/4nmf49z+p8lvENJC9SdCWX2CtRIki9JBzDOo6Lu03QkZaL9gsk6VXJMcC6E8mAw38wHLyu+MCkciAbVD2aCB/FLPsH20nYANplPwJo3cOBf0qugAMKgTbTNYq78qfBJ9PQNl13tqvACr9ndXwJvR4ZprLByX6W+ihffbXBQXG0PklU6SW9AEdKTcRavr6+0o29t+7NMZnThxheC+D5mbOtqCc+Lk48+xyCkll9Humb3W98xEDfavxHCegvIFDA7zmbJsyG8KXsIfOklUopcFSS2l3ZSUdUHAMgTbCVoKt3ex2Yo1+StsLwswIeMqJrpwrq98lvWZ2dxYAAZESCeISC9TtKmrC6AVLfmhsyweDI3b9zLuDF/gDXE9Dv1Roh1lBB0osUWDv0yFjI8o0ayO/uLbfXv1vBI/IUZYq+RBCYfN5FunP8dGvUqmItAUbshUrIvFN569UecgHdO3aOWntMiAIwrRYLEaWR7UBsdC5HG1+g+61UQm0PtjQrycv5uSnv2O8s+BP7fNj/W4u4vvT7FmFr4CrztwWizxHHbZfNiDz5djfkrvRKgPu+ZZSmXmAYEGIp6NvJALyuWsQAQdnFz1cX3lrVdZwQS3ySvDUSF4GcNB8mISpoFt6GOeAFy+y11wjpxVy1nok3Rhx7+sZJdm8/xS6MoEqp85giMJqRbBGTVglbKStaZtH2KwLkIlgYKB1PUxvT4jma3tRW0VH2XsaJ4qbuVbefKk+l1bGClPZ4zrVmluXZdsmD8P8xrYJD7AKozQSzkmM7Lvq5uEIXCveUgZ4S8Jc+V9d5QBnDqNCovTrOmpL/J3E1pDMRuDsqhVPEjIbJjuORETPhaA3jU6NpC1cwPZseDIBYdfudn2MHC/j/bBlDiOLPPlHA3QVsmbE0mNsVeBlIb/LCYRbJUDHDffF51FjzhB80Yv0gkSTUizW72Zft2bHU9ke56O6xqJg4GT2UNAzQS0/dPAUrHSPN70gAIPPPZyaZQu3JEWf1JDc/2ES7HR4izfvj/VUAVaDTLl7PJQ5y0ABQnIKH/S7uXo9qxP7n0Vqr6hRtVKqi/XPh1WgH/jhfTGk19kjNM+YCZTANGoZdTMWrJFd+daPMQ6Uuz0oyi/RxDMg3n94zIZEi9Bbw/UKsze1i8uL+Weetq2vkjGaxuLMbgnZy9I7r/XtsICS+GhSDzynE2rtC+QEdsA2/peKMQ5wIpEgIf9dByZXhyh+EcyfxIRFQoT/z0M/q2Wdt2ZyHut9DuV16N6ByZSIypaVTAW//Zlrh5y+A9DCFyfFJsg045Q98ozTJALC4GHyA3K3sz3p7xneVm5xVPzYgPdcbFNfOWzPaNpYULW/Ip9lPlw3aQwNm1xAAB9q9G+ji54Flam043WRJ/wWkybPIJhGm28WyHfxIk7MimfzFGjvEnGBj1HSxl25ZB/lLbwvWlxJe25FksZMdGcZMiuqe2HxjTkJ2+C8vMR25ykxFkwtcQZwvtWitrxmLVO1QzbhEudFZZbl+RnZ9F1lr3Hp02ldW/yUcZsWKYYPzFi359ZQ2ClzL2kg176jyQKrV8uDujMfAWc/6v3vgx+yIYOg4pTLbp4aubPw36EvBSTnun8d7yDsn99ArGND0dpWxCAV+xGVCODjuRQ1ABM5s9t+YrXVdyIAAO2gTB7N/0+V9abXPRFCmlhyMWvK+hXBMs1CGBK/NrViyHtRxh1Y+18jymszzfEChou1ciBwIDCEbx8O/NY9mGLXWFG6J8KE7s/tqJdkKIdfUnknLrjdHWy7cSw3E7xrDe2l4ju85xSrJJK4oBfoA6M3sEiA5zrNXFs0Ncq/kNrYtzFm+nHWSXML2FfoW5LQFDChWz7OvOOJo1xzyPzzCRucke3D1tb3lqO0E0DcgZuJO3wqlbiIZemzl5vZC1ev3ipROfnzr9tfqHTFA1OxycFEtShYxzgCXRgLZ1YCKiFCWY9799FU3mf9ac/EdZVh9oXb7hmJdJ6FKZYUD8943D/AayH7urqzxX6LQyqCzCmcTKiOwUu1eSW+y6BgBAtDUpAdnyUtMAhoQAAAMhBmiRsQ3/+jLAAAAMACYD/UNOYAoEDRk8/++loMOd0f3CCCJg//WwJBj0dGqfAAQViC2GOj2QExUU0WYPfuT/eBsOC0F1am0xG/Gx3e5ks2FEpQFKiXnMtj83PDakaFirN/8G9KSMYP7pUQYsDtv3vf/fhosJWKm/auggqjYoUp149HWhVf8Ke9LISJluBoZbLT8kH+eMkUUHOuv+Pz/g+xUK2du4idKkEvg7Tp9Rd0BJ9Z6qSoeicGP65+fPO+klFNT8aIRzPJwAAAEpBnkJ4hP8AAAMABNhLzkMC8Vto6k1Ye8Y24wANSVY570jVQinMZJAi3EUY6sEJCnqjvxjhKmWkTzAKIcczXLU1RtazoFTJRhEfuwAAAEMBnmF0Qn8AAAMABNhLakESsvDGsF6BdO7GS76btsnONwzQAEKanIb/6A9PGtR0v4+0kETKXYMnaB6j8fXKmv4PsF9SAAAAOwGeY2pCfwAAAwAE1fuvT/YFqA4T8tY5H9bSD+XVWd7nxQsUsIjhSkWjyTbu+m/5ZACQ+HTVFv+CxsDBAAAAS0GaaEmoQWiZTAhn//44QAAAAwAk3RNYDmqDGqDd8JbmD7a6Wo4UALP/43DsliVGFmYeOmLBlA7Eclkmgn7WDGU3Ge4NFLLZUR7MeAAAAD5BnoZFESwr/wAAAwADD+hGSx4D/W+FGGGGmmg8wACE4H95yQx//0aIIV625bOr9GrCxM7TjWqVPNbiXeKdgAAAADMBnqV0Qn8AAAMABNhi3QNE6/Wsj9zGl3RL0tthqMAA2nvDx/AWR49DZhRw4o8svxe+R1kAAABJAZ6nakJ/AAADAATWPRBLxeQemABqinkj2bZFyTykfAXYhbwpy5xf831jTKTNwsdt+MioerUnXprRdLkt/9IeoHhYyzXu7xeaCgAAALJBmqpJqEFsmUwUTDf//oywAAADAAlAKdHSQ+8P6AhIIEX5XndeDB70ZFoqCEAr9lOgDWHOhz/WmGmQA5bl84F688b9LOEyDKo+x5KsWFyXkcaZLrmJcmPv1LpAIOpGXZr/nExnyB5hQY9eDMdGVY26w4mEPAysKqHaZv/viRCbPXGDeREOIjdyyop+hJEwhfktSQmOyNxhkwq8bF1KH5PEKc8m6y++tu4YSH5csfF0+jGzAAAAMQGeyWpCfwAAAwAEt6bhVs7+AD7/icr6qFxANYAE5JIIYb86M+0bGwydB4fK/ysOJaEAAADcQZrNSeEKUmUwIZ/+OEAAAAMAI90TaAz21ZrSpvLxRkb0ADPLNm1yYGxo2860y0jqIctQi1rKVxsHVFTV8c2rF97P5NjrBQi1rg4hsf6fufqjZio0rnx9Wt4hCuj2NFXzOJVl0G3MkNKF0d5bnJUK4AgpWmyw1QxxcwhI9KzMBGExbNtg6osJK27Bhzf542DC11JYDENwkNqo/190Ply7MuznXpdYhUobKaZQp86Wppra7afqgIpRrJwSJzXj+CkNBu5rLlkIk+KlnGhVv5bNwjn0Uf2f1RJSNr76FQAAAF1BnutFNEwr/wAAAwAC/FLrZkoCkW8lRwTqtkZTYd8guFAdiLHlIAB1hXWFsWxTMR/AQneZDgVHzvvQeQgjePvy/XCSYxU9rPoCBVjXoctHCYN92kVR1UOj39YIatkAAABSAZ8MakJ/AAADAAHDy1XTxE/BUENXiq44acyUABAqJfcC551f8zQsTM3r975jyWyD2wOTQlOjYNWfgARsxaKsYBkPCpLBsu7lb5IbO7As7Wc/qAAAAP5Bmw9JqEFomUwU8M/+OEAAAAMADSy4CJ5wtgCgwJ3yS5x/eoO1GPRgY5wAy7AbVbcTUTxh0vxCZw6GMfSs5luiTEtPBIEMuL4+GgxeRf89DfDRmwXSCV1BSNgJKEAcZ/2OtB2HgVN/En8nlh5Ml/rDknLsOmhVerK1DWWpgbxF6c5rMrM39Y4p7LZbx0TRa7bN3ZXxX/xoAxsuNlXMlZpP5LsT+pbZDf4DZtzzpaS3KkuU8TG3aOXsQjaMaBT1NgxF9aF/9chrtpz+F8u3mpRS0gk7Uc0B27v6mwXr5g/iMSm8jvcKibdKrVutFKvCWIiNhiTuMOTTxGfhNOWVQQAAAE0Bny5qQn8AAAMAAbm+mrn2oBBlsGhSFPfAALhUdRfEDr9B4BLLH5Sxm2bFv9GBBJ/Y2QlkO1VL71WtODtNXDmzYA1eq7ZiN5Rie/o/eQAAAQNBmzFJ4QpSZTBSwz/+OEAAAAMADT7/0jRkMU+RiyyjGh8SADmo9oQgy8OklW2OMxY/Xv+d4eNvbwritMCRGX1kQNQ48WlSIArcA1bCFGBzCqcl+dAg4NIK94SET8vBS4ScXS4WrD8u/C//TS3zrgUGbxNu60/uEtRM9FqeisM+SKfVAhIAsOEoWYbu1X4+ZyfCwI5itVu4BQqISgnIe7XknbNBdmm4mUzOzaV8P/IRbXJ2yf8OPEmnnLXX7eW0P4zGDbigAVerqgxt5BRLcAg05AFAH8XWjGwU6YDt3JTU0mBJrlzA97SymA8qgd6Nv+BaG1ajjbzoX142WTfXSBTbw56wAAAASgGfUGpCfwAAAwABufbRxyXaGhcF3sbazl+HQVCNJd8PsmoOabCKmZOoAGeyXrXKrmX2lnD3lY/nCpmahIfIwzy3TIo6dJgmlKxYAAAA3kGbU0nhDomUwUTDP/44QAAAAwAE1TxkvxY7bAY3azSfKj6gmSGnQ0XM7n7rzcRUzRYI1Z7J9I7qFOAa6HEOoPkG6waLdSBF7Bq+1qmJnLtrZUnU8sYiEUBwfRxUE6MVLjanzC8GCuV8gDQSeDSWqJoqBHj+F7IHlviaq6uaRMVNkDDuWehsljt8QS7svbeBO8aN2H096vCxANQm5DL3xheMUsPplDF84B90jIkQL89TOHIpHLieVtK0Ozd8cPQRFCz7GFO19mqCdl4fy2N0EkULYCVxfpk4XPtz+VlluQAAAF0Bn3JqQn8AAAMAAKNITG9C1jZYQAHJ/pRCtPkRSiLV5pCp3baDQDLd1ucllXu4NPcQO30ZzRspNKH/5GhwMNHHVUGWMgG3gH19Sf9ggz2EjRWBjZS/f5MpgVB3d6gAAADqQZt1SeEPJlMFPC///fEAAAMAAAv/ppMBMNgxACcvi4zJ+CS1csgsy0eZylC/CR30Qn0NZCKMVXS1zFKNUm1fhq0sP6rE69APOuGTuFg2yMU1KFovOeJ6VqvhTvUGKDXg9t+goHIBwJB6ZEKMTQUh67Na2QCxTNvxkW6dSkbrlbglaAJxX2NkaE0wq2U4fIk1bVEzn4mzycGPiDvk0I6Z72THATERWwKezBEbuiiGtr5fZJwJefoTzQ0zKXJ+yj5UTPVEaWFXaDGh//SpomnTb9rt0i0APYStjuiqmjEkfwHvHrZkQir0dDQFAAAAVAGflGpCfwAAAwAAo6aHJQWbqTZiDBMFRuIfSwPG95ODNICojzGvqF0SC0aUx6ohNGPWFPABd4BsJAADZFcMc2jDStsLoChpVSlQ5/VXBbmuA+FuEAAAAK5Bm5ZJ4Q8mUwIX//3xAAADAAALr7ENZsTxNwt4XTO4AtFAC0CWSbEa3deHqdiE62pM+K/LD11H71ONsT/GFKsC6KSrDS0XZdQgmeT/5/XUFCnhqayjx8USaUFYVLyT7Xno1ki3ASTsJnIHrTYL8KptiNcQ6ss9jkmxXu/a3eawlpv1sSXy+xCjkeeB8CUYBqTJ0kd5p65SgrDGwS90RMVT4lArtUnZWF76N5PpwxsAAADCQZu3SeEPJlMCF//98QAAAwAACxOUS8FdNMxTFcFxJYlykAmpQr1xSJbrLCYMB0pA9x1OTFG6HDisCFpKmK/IF6sbc9a70CaUMUCGzWnbL6GYPHoS4/eGWOg2BQ1DZp3/7wSaWtS1lBv4GHvqfiPncd8wG0oROehnJJ8FYna3LbOiNnztMHtcAtcPHka0P3xLT0GZDv3rWlKW3XnMkfFdgt6yRZXKnzZ2cuviNjL5tfCyMyYkrOdzCI9nfNlm/D7jPSEAAACvQZvYSeEPJlMCGf/+OEAAAAMABHPEn8QDVz2uUx1iz0Ou/kjop/PNsLm09vSwaFAT0uMQmFD1czU5G4euRsP1G0x8Z5TJ8fXSuwjKuSUdU0eP9JITidLY7YS3pqegRvs1xTwV/D/v+b/SG8Ihh7pkxbYYPRfRCHheHZ8a382UxP40NqrA0YvRv2b8yiMwwlCePE9RSReA4Rha+enN9tDhoxLvNKOGLsP/3cIrP5C8IQAAANFBm/lJ4Q8mUwIZ//44QAAAAwAEc8bQxAfpVNYGeBao8riq6M4PYOc5/vb+hGqTiWH720hE+06q6UhUUhbg+2x2gqV5lQx2g4I2n3S6jPyEG7N70vEE12O8Jfruvdgt0iY/u9JV5LoT1KMgPriGB2aQcDASyLvttM3/zqqF9vLobs3SKlMZJ/BKppnleG8GaqVEPk728StE/vwBDmzZreRcepIqP4c62Q8DChvSYjUpCo7la9FYZUiW0iSlo4A+7lHh3tUGHoyfPfTNYMYv75oi2wAAALtBmhpJ4Q8mUwIZ//44QAAAAwAEdoWohsAOe7xIQG51qJ0OznjNlzW6y0HAHt/ZdaBZbG8H0u8anJD5sTBd1/eF+ddUfM5aMEq9YiLHlTxt87wp5Te/x+L6v+K+YDsuIdGhQU0uaC6yy6NNu0Bn6wiDMPisty48BJDqD3A6G2y+5VIRls8qdwoxz1DU1Cds+Won1WbNSWJjDMx4dLh/XnqFbgm27i7qFYR2+AC1/BG0ezBj3H2s3PyRhRMKAAAAu0GaO0nhDyZTAhv//oywAAADAAEoBNGDAKQlGNcLMx1uocsmHF/n4MNatROgChlGTIH4EY9FPMCN/jSqlbFNtzEuFHce+lL8DwjK5Acu/8TfKYInLoaF11cC2EPYMr5kQke7jcPR09ncdYg/a2cTmgLowPJGKfpVocqGgT5h7gffbCllJo1lG9Jh0mHwDTLetTCTjXiFxjf0TuRXh+I2Z3KbBfLXhPKkrhj6sXsfvPOLhLr8of967tPWETgAAAFvQZpfSeEPJlMCGf/+OEAAAAMACxMXs108dIAiY7XcYin36RrAZgoFs+OBLQB8d1sfMtTHoCGIiG6De7g4iAFzVnPstTch3XxAp99WmXYlyjRQZVfU7Jt592lGo5wiU633j0KtAikJ5nOqqsrUu5fjC3X8Jtgpsz7szZZAyx7RCeKJ5SqCHUEvspglvaHswdPBe5tE7ciCo7Btsr8c0cf+siKU4pRRDKdA3KPbAcLwLZ/g29viSgELx3RkEHnVXiPVoFfUVofybzQ2c6hEUKZE/3pT3YXSGXzsPGLGCOHyUGD50/1LP4+DDLbR84mOCxQv8ntdX8AMgh5VlgEbzIzyleV+KZSadG3qaEjzGKaNIteobp9pIiTfqdKHqGe7DMegvbiiIqq/gz87pHfOhV2v71KLwVmnA92cRZ9hKdAgj06yGmR9z+2HzvWlU9ziyzTMJo0w7I8bQAYuYuc6AcbU5x0WIuGTqOWeyaGkIXlMhQAAAIFBnn1FETwr/wAAAwAA7cPjnWZLMuCQ8QUDwU0fl5kEPGLkykqs5NmaepPur3YAX4OYyrDz+JAqugO7aPeEAJPBf3GJOME7U0O2QInmrvXTd+I7Ce58/snpwlJO4A2EjsMOxqbRHmOqG30UTdglxAztLL7NufsJXdDtgiCXT7202OAAAABVAZ6cdEJ/AAADAACXBETbmrJBjO55oiSlHFxePhlyeBCNR8bJ6GUuBLLRLl1kzIgAgfp+0QvndIzqyRR+DwoPN//RtAusskbKzFmPfjGI+WKABMAfCQAAAFwBnp5qQn8AAAMAAX6SpBahI7fs4s2pOH/x0onGeq+gWcg/xrcYxa+wzIAOXOhHsz4B3KwG58zhmAPTlPSXdRnZDiWYAgTJOs3Rt57KIcO7MRtM1oTn6CXt+MAA+QAAAMtBmoBJqEFomUwIZ//+OEAAAAMACxKttxelAADgyMh/YzPYNYISqpUFDMG+qEMLwMJmTcivb9c4CosKPXcQ67tXNaG2uWQvojCdjH1UETcm5dKvQDMXNs0mez0oNRIWAuKtWDLm10SFDfzMoYrePjHOtaoe81KUN8Yk89VSio8Trxri9ZAhuxHU0I6qHIFHvyTnoNpKGDKn2gZv3N+LqSohdutZbf5U18HxHpI3N/tSQyL5D716fqgiWehYQ+N3665GA8kpjbw2vmTTBwAAAKRBmqFJ4QpSZTAhv/6MsAAAAwAC3nRDB7TKlCo4fsFgCq/OKCBr4IM1aqGqiPxREtnOfls/Sv5vClNCENPai3/d/6Zysm0Dx3jgzhc47J8qG0NHATGZXeYEzauEf/e9SWtIDoQZMcrA2lEQgc75/+bFe63i4xpXYfuMF4hxTV3IkHpze8R9IDGo1j9/iG9qAGtPocRNGXtjTNnklfJ9WPkUX1lEDwAAAOdBmsNJ4Q6JlMFNEw3//oywAAADAALcno5IrR0PEAD+cns67Iy31Sp8ZVR08glt62SgVU3Q7d3JEsS0u48r9kPvb/Cr1VEopBVnJ8H1R/GpUgSqbuz9dPcWnD0rolGHefcDsaD9s+ZXUuh9LAAqVHm6DGIbIkQOnwfM1LMnlp/zcSpOG+tbGTf9R6B/4zH4YEzxMIvgtFxKSWGT0cMDCCNx3KH3h9QuxdjWlMh32C2huzpufB07bE0g/P/f9uWLWNpzb6upnbSQZaUuzT/tGlLFfIuHaosMmKtAIi7A4QTuNvKsrrZuHEYAAABHAZ7iakJ/AAADAAF51yLQOBRFc2w8D5msuzYZkoy2t5NrAanFnIAgoEr6vHMAB912mOPS9hnTAOP8NA1W+GaW4sZBgZnhfkAAAADXQZrlSeEPJlMFPDf//oywAAADAALxzLkV0NLAVp4wAfy3D4EWrAyKECVxQ1IwshH9PDU0+hMFZnFf0HztpSrvXLdCfKI0JyJ3ig3HUHQ2GaaiijSoaJWCuYOEk5SOltlvmk3ws1zZhvP/kYO4ytx+Z9NZPmesowXDh9obIrmUyaMdFhuzAQpGnED4qwRjpM55BFh5AM9vUjCA6qxaTp+sWA/mlT7hdVH1vXUD1a/YwYA03Hw1APuwD8C/IMibg9U/vM2L9gjYGKgYvSNiJkHJvf95+3BlNIEAAABYAZ8EakJ/AAADAAO2/S5SQ/8n53TK295FAD5UFbYEFu49n6EgtK1r8fxYIANB/PU8e+yLa+Vfb4Z8UU3tPrL8dz//6EkndLCj+Vz4MQEAQDqV4g3h0ilWwAAAAKhBmwlJ4Q8mUwIb//6MsAAAAwAHR5AU+VuAFvHrDpo25Lgsc3VN10JNrnopPI87FFkwKPz+iLURvSyC92AX0XUy9ivOQkljmBK/jdF900uVT/Wy3OfqO6iYiSkCojot63JMlo42Q1dp/7OQqNTRuI5OZq7OYMn0KcUT8ii4rk49hXutlhvqvyaxNmwJoNc8xEMApSyIloCqCUjjbvUTwl/UZiOZOeCTY7AAAABLQZ8nRRE8K/8AAAMAAltnIS15JVp8oBakwEZ+lnYAC+R4t+dQDQAqHeCMCxjyyNvEhHKqI624YqCmc0GRTv4jeTBJBOJRydkmWyfhAAAAPwGfRnRCfwAAAwADq+55hnnr3oKLHAA7QvSr01GW9TGcGhzaXTH8pUXKcVgiSo1tZHI0YCJ0CwlGrOubw3R0aAAAACcBn0hqQn8AAAMAA7Wb9zLEmu2X1yiuFZxtWzQwbrk6MFFSbYDztaEAAAApQZtNSahBaJlMCG///oywAAADAAdThOnw7/GFpWmW+HzyPTyujUQ+SkEAAABHQZ9rRREsK/8AAAMAAlxRU4kZ60o77+DGdCm7EkAJflnghEVCCoyuVlu24APgXuPMzFGvjVtf+QugVeW8ve1BeulS57bzKXAAAAAwAZ+KdEJ/AAADAAO3ZEw/nTOQvgAAmYjI0C9QreAqGGH3LlPq+0R0VoI6ReRWqEbPAAAARQGfjGpCfwAAAwADtZVjrUYrUPbCVDohc7VAAP4wOpoDfXRsqY9ofheKxLsMrqOVFSYHyMwgWnRVyUZ+OMz4a/Yo2BXkcAAAAPtBm5FJqEFsmUwIb//+jLAAAAMAByfW8BayzStbwQAKk0Pf5NS3u4VjfxgjYNTQWbH6DS8nkFDqADA5dHWcVGkOEGsYsVkB3JUNjhZW5nz+uWi3SwJ5Px6OjDBDZ0FNadWPA6oCSVXCqYsIMccPbizUIGrC9GqvE/o7Xq1fB2Z/9IYNp/97E4ATE7cFVxmAU3wT3t5ayNx41SsM3JC8IlXD152i7yp3nSwStkRolDxfxVN90cB21c6y4hd1goZDEYViyhgxNFL6dtnfVRIKYadrLKogKru4wbMj6hpWJ5vchbBGGGbJrjytNl35sKPt1JVupTcokCl/ZdAaoQAAAGtBn69FFSwr/wAAAwACSwM8S/Vjeokg75S8p9OIryY01ha/t8x7u/RyqRPyXOBSBAAhr+QNnojXDJocFYs73HKMEBvxr24rlb7OXlFI/fJSwJp/eBmMffK4fTnyc7wIEaKQb6oDUChA+GtTYQAAAE0Bn850Qn8AAAMAA58VBJYGRjwrvZOsdFZLh6+8Ex1PShSl0l5Mg9zwgAbOtWAuEsQv+tbP+jTYa2lhxsEX/v5D5hq8Ub13h3rc334rWAAAADsBn9BqQn8AAAMAAX6RBVOcPZojr5T6QQYiqzlFMeorupIJWviezAADm7OndMFhsRfdtzYMH9kU05rQpAAAAN5Bm9NJqEFsmUwUTDf//oywAAADAALc7ebhff6bgBCZTCtlibHnVKiK8oSeVVtvtPeIn96lvw5H4qsuAr2ur+opG1yFsdztV5kGqR7//b5A+aos+sjJhPRkmaQZm3JGO+ZPnvhXNcTv6Q/EFptRhCEn8Prtr6BG/J1Tx7cY6H9ag7rI4Y2+XvsGTvEN2jy7vi0Xjkq9067BaFWsqRcSxWewWmPqxfEVMkbbzRj8hLuek8RgXXCSNXmOzvX19ApAaCWFJ0otKoTcOaRmCTONL7ZrBlIvO/dLEZJ/dAJ6X8EAAABPAZ/yakJ/AAADAAF+8Tzsz+8ag1+YUvkGQl9IBXKWtmc7SUTa801sGJzsajqABDfcsKSixYBGHaun7zbZsboNn9WJGS3f2HthanVouH0RuAAAAf1Bm/dJ4QpSZTAhv/6MsAAAAwAC3+5oeWX/BRqzAEVipBREJXXAxXqFD8yIvf4ACLowalxwfRR+hvBBjhkz0IWbVEoXEUnnjm2tNSgYGY83kuqKcFPMgaf6IcC5W1LdfsTqTN73swuD3czLFG0p7WTIlVJU8zloJEVUzLX2ReDheZ/7qHuA6JC7m7tjo5Uci7CRtnq4N0UeNxn7vpjXl834PpO1jY5cfGwpsC2nFXphb5Hs/IyNLaD6mSJfGyXFDEdSlgOPc0qv6SmVJyMOKmCikfcPCWMS8jKSY/FHVCKB12M91r3UCxPOpnnPTiqeJ/luNa7+HzRecyYJ9xz1PJxthOcUJBnROyi9d4CMzP513qMmGHYbkijODi9DzYQj2F6WX2gvrrIpkYQIvmWbJ6oVhcRJeCi9dn3x7ey3Lbu0jHQSmKFR5huJ6fhpjgaqcrnpJ4zOtT6BRpN3xTAv1/4Q1CoEM4iqck6q8v96Y1Y8JfGty1uFmmRP14OwdbNTFm+kyd2/TUVd7qiA4llVmzA4Q6s5nL3PGkq6bNbce+s5ZvGUmgWcvdknBqoXbt8kP7/iMYfZLB9izNBksUmKqVdYIRjLY4IySEisZC7zTLG9pPbtlItXXCoNGNk/6OLjRl4Rugo5Zc84deZHEae0x6CIv6iLAOWw/ND67ZO8wQAAAI1BnhVFNEwr/wAAAwAA7dtEd7gN9c4M8ACDNEFm++pEhdyoAAdnt9QWBQgCtNI/RLtlseMYNSBLOE/Qb11Dc5Uif5fhzQwLL+vAg+QDQ5/47ZcqtflJ04TQEgTD5/NxDRoF4aIj5N2+L6kQaxJu0D/n6+gp/dFGCTIOUszpvtvh/+dsupkFPOXEYwuzhMAAAABWAZ40dEJ/AAADAAF9dlB9gStaKIJGRoUOuSWOhbrn2QAREEB5XZuODNaFvD3AAeBU1IcF1LpVHH1YcQUD+xoWE7U0tz7z1uxKrKJZ8PoOdD2GYpX/ZMEAAAAuAZ42akJ/AAADAAF0TT5Xh1C7l44JgRlTpOrMm/6CSR9UlFmQoOuNimHWaEOY2QAAAJ9BmjtJqEFomUwIb//+jLAAAAMAAUCj8buAIeyHgdrZOgIM4mp2kc8Kns2WVYal+J6Unu6UwGE9IJtOhnRRPlNfRtjdyFtfrzfk94ocgxuk867VB/EtqNyCE2tlx288dYd5OvfYi5z33Jpmakb8yt9VxxnSrvhEcbKRkxyLuc40IW+3VwsoNtTsHyMH0HvBCgITe2Q8EInFzwPxLsCQNjEAAAAxQZ5ZRREsK/8AAAMAAOLuRoAjNfTctEXv0gtreuAwAAk0fQKCk6aFApgxdSl+9f8EhwAAACMBnnh0Qn8AAAMAAWsXVdNcPnq0RFR/mpQ14WHmBH4Ckwt+ZgAAAB8BnnpqQn8AAAMAAWvNgGIqdo1yYavhfm2By7tBu2eoAAAASEGaf0moQWyZTAhv//6MsAAAAwABQkN2U0pAJ7AYEUFgADyJU5Y0O2/NyGw3dbrdNqCT843lWO4vk/NPPCHmRvjkFE8f/sVpIQAAACRBnp1FFSwr/wAAAwAA4u5GiUHwpOf7lDQxcHBzaj6Ralf+9eAAAAAZAZ68dEJ/AAADAAFrF0dQnosqc/+X4KwYLgAAABwBnr5qQn8AAAMAAWvNjYzrAxEzDDV5oNrnM1qBAAAAt0Gao0moQWyZTAhv//6MsAAAAwABQKvOgcgAv9CD9SlvZZVLXf5tmeELFspwtY6phN+5Hmu3WzXCIIheI/JJRUVkRDZ9j4ievd+X75Yxwy8X2dg40hlBkSfrokcthpBSxp/CFaf6k/Tc0usjXPa6mM4ThhNTrJ0QPdKS74clCkcwYA+ePa803lxHDBsX5HNygE10Y1OKQ36LextNPAlWzhjY7mcoLO9T6tn16Sut3gOd0rOen8NzpwAAADhBnsFFFSwr/wAAAwAA4u5GjkRdGn+o1AvXPZTggiKUrxZABakdC4gxM3Ob9ebzPCEmVFrq4uCF1wAAACIBnuB0Qn8AAAMAAWsXVwRfn90VqzUBe1jwodMdKOxV5AGAAAAAMgGe4mpCfwAAAwABa82NeVQ3JAxF6fBuOQZ9W7G73fqWDjgjq9AATJAyysw6Xr1QmCoUAAAA/kGa50moQWyZTAhv//6MsAAAAwABQuZcebRcRCgAnaDERsxTPPHj2YlKRkT3HeIwFbjowL/M9n05/zkP9DoLWyt3wnfG7VDGtFIfwZNR/935mjCmp6X7ls8NSvM0XilPtgW16I7gK61G3HqwIUaQ62JWyyVVmOCtyRRNCJ1Dng7wRzpS3QJCUbF4zr8bRWoNs5W2W1rWIxkCH3y8GlXvmpWMgp7EWCSBF9Y7F9bpA9kOKDw25BWOaixrmswcEk08v+TOSos4EVEjAlglgu7tJ5zztckz/E7SwoAs+9rswFsOu/8dNreoZVrfcM5bBKdcYGMVkvOTcbvv5CARi6VxAAAAekGfBUUVLCv/AAADAADi7kaACIo3Flwa0f/5VKai6I+kcAK9rHaMimRQLUVJkefeykEpwGwwKkwKn88fJSD9pFGl5RX//NW6lMc6XwnGcLKzXUn7Ki135bqn63DdjirP7g3O6vKdfSUteThvznQaZqCJFmpr3WdUmIXIAAAAOgGfJHRCfwAAAwABaxdWxyEg9zcSZL4PvAnnntWTiNmK2QwNnm+iZSg3ubj0gAaMWdwaNgO03FPK3DAAAAA1AZ8makJ/AAADAAFrzYlWBIOIkleoctxUNC5QGYcE5eA70W0tJY9voSACGoFrQiVroNzUU8cAAADuQZsrSahBbJlMCG///oywAAADAAE4BT2JHACaLGQEstp6evxfIo7Tlh6iPdojWTWKmi5uQX0lH7FHHJgYP1J1DOLj4VvzSFEGtNLP5jbvhnhpgIKw6W/0AwiAzEtSBAB1Il+CJoMCE1yLZ1oKZBB7ht046+b56zt3XpPkzarV8q0Nm8BGBYhKJ+/B7lnuWHtHUuCmmb3NLrO+1QARB8Tf/dEpN032RJi4c9ke1tx9kdqP19RcDAhGJZhZVNKjHPfIqnlSBcAoy7t3jURd4A2/k8HWsmK2wJtTNmFsIjrqQULPv9ZK/VI2rJryp7tKNwAAAF1Bn0lFFSwr/wAAAwAA4u5F3SXUuNSDsZ9d55lkTp7LcAJTTrwfFOWUYILml++q8MmTp3cK3w5ae+/6lWjqh13667YUa29H2M0C8nYZEWiDc+2FVdvUQTkVrDA7G9UAAAA6AZ9odEJ/AAADAAFrF1xiEjAn0QR6/W8dAChXfpuICFsABCK0FNFLaxAf4xVkCmrV6316aW3DL6QlgQAAADkBn2pqQn8AAAMAAWvNkpXH84lMNu52ri9DlS8cxqHZ1HGJS6AEIbPojdj0l6XlyHMc/hZ8gv8EueAAAACpQZtvSahBbJlMCG///oywAAADAAE4BTyVT9wiOICfyjoPwdPIDlgDarEYbF4utfEo5N1FE5GMCfyDkVt1yN92o6emd1njkS9sLYGSp1i9I6PrgtxdxwOAQ2snBiqoJzvycpMLWKeDf7aIALQrM1WWOMaWYEjy8/Ys/4zPPx5WzRuuOfs7u1d3J9u9vQpuc7fblZNsyAuS96id4N7mX7ZcqFyMRYWejfGCIQAAAEpBn41FFSwr/wAAAwAA4u5F3SXXvbqesahNJEATC6uy/80qXJM2AAmzmxf8ScCrRJrtTkC3srjQp6+VVi4bp5CQ6hR5xNWBKO3HSAAAACYBn6x0Qn8AAAMAAWsXUTv8VnhI6eVJSj7HAQRCmal/4c5ONiQfbQAAACcBn65qQn8AAAMAAWvNiPipJx7WMiwOLic1hcIQtAHvQdb4WtmSIkEAAAC4QZuzSahBbJlMCG///oywAAADAAE5+JxH7RZ1Si3TyzQMQwD9t8g/7M8FWBy8Krd41IADX26U0X3tILzLedD6EiiRQTeRr3oa3umnhb10QUE979Yd/OA9hQov4y4sgSrACCbpKjhWUEB+FZQy8ijzlXWzZHfCL5PnCWwk8giK8kUFg2rsfvrSrQK9A7UxqxnU0M7rMdya/4GoYRt4RbwPW+9TZteCvIH9u4zu3t6riqEjXb8eMwgVTAAAAFJBn9FFFSwr/wAAAwAA4u5F4CM7gu6z8iC1luRS6PjlDGbXqs0r5K5AAjII9YzJvQC/8VYDHD53CnmP+kQBlX7toGJ6LBsCh+hbm/3QQm9lNdRAAAAAJgGf8HRCfwAAAwABaxdRTJFoD/VsB9yPNC+xcq4Egv1trkNj0j9BAAAAJgGf8mpCfwAAAwABa81WbxFzDGucKdrwtC8tqDpr17NeUtD+7TeAAAAA3UGb90moQWyZTAhv//6MsAAAAwABKK3BWEQVWwWkzbi9MEnljJDYZp68vgwTWbDfqwMRUGmlhl5xOL8ceV7nzAfnbuVGYiVTn7XexXX/LhlF0v40JWucEOAwDVu8xPrmudHNvHSzq+fxy9j93VUqoZrTq1Mr3LEMy4tnTljnd/H/wOSzzR03Jt/7sX3nWamRnvl7JHkMeA7xaEJFvrJ/OHsXc2iEwt5XPYBYGvfcAtkHB9pjkVgiyqWuI9PYAj0OGOzqAd2vIlgCVGcVmDfFw4bH86U8iF/PcnBTtzDhAAAAR0GeFUUVLCv/AAADAADi7kSo+K3Xj8UkrEiyNUV/cRPtAu+riRL2/AC0QFf2bY9VnqJilsnbbW50Bzrbfb6sz0SOqf6ZC178AAAAIwGeNHRCfwAAAwABaxdCULa2DyCcPfJjac4daLfPW5f1qPk/AAAAKgGeNmpCfwAAAwABa82AYC2/MHV/cs5Td2bB1IwhWpqHd/2cJK59o02P7QAAANVBmjtJqEFsmUwIb//+jLAAAAMAASgEq8kAUGAFg1zxGIK54rmokLk+wwsO5WiBwFlfAxlbDY9rrUOyvXqvzoRS14VssEaRvWipS7LG7zVOOIZ3bLGYo398/ZqWncEx663xN8nPPL2Ud0ICpyR+89/F93SzShgOQyb1XRgq/bPfi7OcVDaRyLn9ra0LTtTOXo9LqEwnXVI5RNaTZ7ojkOFmpI9qmX3dG8LAXFdc8nGOsEoIAa4sx6/rktH+zn0Lhxtf3ZjsmGP60laL9uXHksb7W2JtHCkAAABZQZ5ZRRUsK/8AAAMAAOLuRKeiUcDbVP5vN7rpRH8nH69ZYIu1D1YirBFtQAQ8Q03kkNq6idvOkMsCFvI/HlYv+I3itnbNzoXGCjw+lgWeZOcibo2XUYLa1MUAAAAoAZ54dEJ/AAADAAFrF0fRzejEveKINd6YsQgujc9eYGEslesr3KL/eAAAADIBnnpqQn8AAAMAAWvNf/qcrsR1rNjfdAUnIUq7VYAJmRGE5h8dY91LLcbzlaNSvhOeMgAAAOxBmn1JqEFsmUwUTDf//oywAAADAAEoBYhgwKYUo1D4LXksMmSNaXVv62kOOoSAJ82NVHC6J+dP4eyHAqDgGZ3VNjUIYs8hsaVrw708dF2ipjvxjkzeUm1Au8V78hcHveNjIjk1HzuX5yYiF8PS1YH2WOXkCOgqEIipj7AhVxECebHYko8I9I0o/7BiuoubBMaCaDIfa3XTCR/iNupK05cpgARQ/9oMmui/9ec1pV+0vcVhdRn3UpMwn1UTIK3uJWAaQ+2tljLzfGCh2wfyUFY13R1FTjNLT+kQJsigcX9isw+ddgD0sH+AHJsExwAAAD0BnpxqQn8AAAMAAWwgky/0FYF82gy6qfz4Nk9odPQw+2IE0k9sxdukrVADgAIPZAJpm6EJ5KTo/Oik4OmjAAAA+kGagUnhClJlMCG//oywAAADAAEn60rAqW31LEc0V0JngQIvR1B2ed5Mm4TH8ABWmL5TZDNdMzSMtD6GOIep+XOQPRuvCMz0Ap2cszmTTtXI/3ZYgf1ZhVjM/tk0NK+CAFE884ePOEY2B+SGZokW16yxzW1Y5f0OEVZHO0jgLieEBGVRxKQqluIgjunBQFg2hwQdke3TQkvHo9EMNeC6aEPk2LsvRQ323HmwaVsvf2uolEKsqAQqn21lVJNp4+Q4lcuwV/RjvbUjNohE02DDhu8fBxYdhu11S8YSCbYRhDfth7vdF52K9AdPz/ERA6cgBt+kKXxmKxF+nIgAAABRQZ6/RTRMK/8AAAMAAOLbaqdb3c34XqzQsIEZPn6oSYhnHPSeYxXDnWA1VlagBM8aLjaEPF1+dQGnq8mLOXC7tT8a3OFDfvcbuaadBMWlYHVzAAAAPQGe3nRCfwAAAwABaxdMTHWk5L5IvdzU88PFTNNUkQxrgtGgr6ig5DyVsABBdeQhA2N7IqbvBzZaNrrvGhcAAAAqAZ7AakJ/AAADAAFrzYTfnZdR7InBGVKUefBLMupBYbtt0qQZLn2k2DeBAAAAzkGaxUmoQWiZTAhv//6MsAAAAwABIJgG+bYAiXShCzuORxjAN4hzczPwcgVMzX/zich44XcGq/orCj3jQQPN2emdDZlDWAnygRTRWOLF0X6oR4B3UMcRMdb5XqUPp2+XWNIoqhblMF384gCDmDr0WON4GjG3mNzkFeS+w8BIjZHBoN0zHMSV1vDW7nTiaGB2K426JkR6xIfoovWVSfGyh727jUvKHQHbz6AXA33WEY4KG6o7BrtQ5oENw6dC6NRF3j/tt6331zqymrwzoHj0AAAAO0Ge40URLCv/AAADAADi7kVANhqtxImo3qybuj5D6H3FOgwU5uDAATt3cgMpcFLCYjXDduigQsRXyEvwAAAAJAGfAnRCfwAAAwABaxdMTCv86YqXu7HErykSij063OyMM8WThQAAABsBnwRqQn8AAAMAAWvNgGAo6IYS1VVas9M0okAAAABDQZsJSahBbJlMCG///oywAAADAAEoRrAVuwHtPS84JgA4FEdxTukGlBBILNvCXk/Y13rYSvH3xnLK5amNfdH1Q1mYjQAAACFBnydFFSwr/wAAAwAA4u5EqXytux39aUxuryz/HJvaLiEAAAAlAZ9GdEJ/AAADAAFrFxWZIy3XQ2JViMAAhj7/wG7vj7j70Z35wAAAABsBn0hqQn8AAAMAAWvNgGLUSVZLts5wUQvpO/0AAAA7QZtNSahBbJlMCG///oywAAADAAEoDZNMWuDl4QGoMq6GBQTLAAJT0VlldqZ15aS/T5l5JFHeVaSvsoEAAAAfQZ9rRRUsK/8AAAMAAOLuRKC/l0L4sjqHsBTO23vn+AAAABsBn4p0Qn8AAAMAAWsXR+g7irwD+v5aWco8/8EAAAAUAZ+MakJ/AAADAAFrzVVvNS1v8qMAAAAjQZuRSahBbJlMCG///oywAAADAAEoUwITJGkkvRSpc3OMOeEAAAAcQZ+vRRUsK/8AAAMAAOLuRKAjPAaKZgBbXAzMRQAAABsBn850Qn8AAAMAAWsXR+g7iON1Daq1/W0BGbAAAAAcAZ/QakJ/AAADAAFrzYCVD6r8wz4VvSeNvcZ7gAAAAKNBm9VJqEFsmUwIZ//+OEAAAAMABHNF3t5HWqZ9CmOFnBWAa8vQAz5h56whU9dkf8MK5LTeKPU2hOzC97YabaBEeeBmagKeBC+odkwGiFwPC/vco3JxDDI54kPN02qTovtE+0FbrTow6jpurGonPxHP4/AbM5x3YZEfy2gJO7LeXsFwlP/tHOHP1Jdn7vMDbDqrJwH8P/5gL2ct9LHWMOPspNeBAAAAREGf80UVLCv/AAADAADi7kSdVmbubo1YY4niMNRN0gdUx7yIR7fa377GAB1HRGZGbeFYchr5tEjnJ2MDTmZgWs7UJVv0AAAAHgGeEnRCfwAAAwABaxdH5CVNCSiqvwzlXApwsKuA7wAAACwBnhRqQn8AAAMAAWvNf/mFsKHbuaFHK85ZRQdQuvDI6rAUgANJgubU+x2qMAAAAHlBmhZJqEFsmUwIZ//+OEAAAAMABHPmL7erdIs26AA4oaSyst41ZDTtfD/x1g0nk1jQghVdFwIe4cS3wvKJBEreoug7/vs1yl+VXk6k68O6uVdi4NpEaZq1UIfj0ZAoU3NCuwU3zYvw19r11V3kFpu7tzkxfpxqiwjzAAAAuEGaOUnhClJlMCGf/jhAAAADAARz+mEW6ouAAresouiIHalBH9sFmh6Zr4HEMU/rHdHU5K4hXQuGlr7pWkKG5IwBZPKzlLprzLN+x5Z5BSC6fk+FWl6+MvjrEnqM5XfZXmeynpPEbnGElqiOPIjgoI4iRkPJffcfqIZ7mznJZSZfywvXMYJpxKAY3kJIVz2Fize+M5Nw129dYvhylb9vdbbvOvwLqKzK5t1wjSgWu0f4X3Ca175n620AAABJQZ5XRTRMK/8AAAMAAOLbak9CDBplaNzsLBYhgxaErQ46tMXv9GUlJ+idnAAQ1z5XBK95cRyDHrp6rZYDGU8PWfTT0jjygUaYFwAAAC8BnnhqQn8AAAMAAWvNf/mF5R41rQ3p/vKr9g9Z2AVFmArMJNgATtvQkLTegFh0wQAAAGtBmnpJqEFomUwIZ//+OEAAAAMABHT9lIqBFAKHfLBu9B7h3dgBx5vc6cxsCaz/dnGhX8rhp+N8np1tvIiEkavIzfVYhxgYebxO8TicFjGVNqh243/jC/H4ZVMfLZivBpLG+DZz0NxDjr+2VAAAALdBmpxJ4QpSZTBREsM//jhAAAADAAR2iCE4AQcnsF188V9zgFZRcinkjERrPIFebMc/Ev/aEPC5uXixWo9Cruz8YmZbDnI0zPBUVQiqTUiWwvlWDU3T/JQVscgkh/Ey5P2J8TF0pSKGT/kMwNuClaIWalVJ+COjmmTHADA7qkYWnWHa2gJIcgEFsIKGKXSlrwPO85PyafXYwJZBA4719kH0Mptk4QnxKaREmuXpeiPClALV5unYmoAAAAA4AZ67akJ/AAADAAF51zzv79Ead1I5NQcTAAWzLbcAJjQbkjeIzIKb34n8wPOzbQTfmp+iNHwAPXEAAABsQZq9SeEOiZTAhn/+OEAAAAMAC2e1t8tJ57CaPY0HkLeZRuAIjNNL8TXHBTmSV0CmMzzIhNQryCwaeOIGjn2MWNzG7oECmxtRs3Vdgz9pTy74M3jhJd2UzJAoDCUhpII8pfjRDLaDXnMgmvdgAAAAlUGa3knhDyZTAhv//oywAAADAABxqCDm+WvxqXABxvFwaDIAVns36lIEzT1sQn1dEkR+t2TPazTHyuxvyexFEvQg6ptMSpJbb0blqS1peyc0eFegAohMnZa2+Y/nbUIB9fUB4RCecIpa6GSmdfqqHwnm8rAiX1sAod5jbSk+NrQD7E74ZvpbCc97wfLafARQd+FmAQyCAAAAr0Ga/0nhDyZTAhv//oywAAADAAEoBhRgwGM3PrsviXtEpjCU8X1cqNDnV7FMDXNatP2oRh4//OreV1aJ5nFJfT/yYrQRB+kKcIGqUIYCqjUpyj8UHrJvbPxGkKJIKEZ+4oEoW02bYBD4ie7NfuhkzXZNt+RFXSUWbJvQqRYwmFsi7fdspVPQma8AfqCrG31jgGTyLgFtBH++radhMHqMykqlSIDFCsOASm6OBj0+2VEAAACFQZsDSeEPJlMCG//+jLAAAAMAASgJKA4mP/JwAnvvn/4QArm7RQdyX4SdQlBDZqQhbFEvcNFOyCwZxCF2rDUp8BjCzPOboNTBeqKKFQ0dbxgpBXPQDJPxQHh/vEK+7qlODoSAakV3nZy9WVabzTaqxKrK562rqpoLjJI2QM9LmKgP6Ju09wAAACpBnyFFETwr/wAAAwAAX4mrH4jOdpfTx4KFX7Ou/KprW5OuWS2scO9OERkAAAAZAZ9AdEJ/AAADAACXDF3rcKP+gCIW2ZaFzAAAABkBn0JqQn8AAAMAADn5KMqYTW+LHl0BFs9AAAAAcUGbR0moQWiZTAhv//6MsAAAAwABKA7nsoT1c5AQReE9tJZe10BTAZBbBaNzdbfEtbBvxp8w9ZdUJGR3jVYBL2bK76n3rZ5ciaR/8JdeiFeVgyspQLXdctzuwunsnVQ+IjRdvZqoyf+keOuRR3+2fVdHAAAAHkGfZUURLCv/AAADAABfia0dsQXe+E5O4txnk8fQwAAAABkBn4R0Qn8AAAMAAJav4azGPS6YbkiNF7K4AAAAEgGfhmpCfwAAAwAAMlJ6reIUQQAAAFxBm4lJqEFsmUwUTDf//oywAAADAAEoChNl+3sPYLgAkYqu34wxTIETOCEwFgFmOv1b+OfziJOON5D7P65RH5t2SfaWoxf8BmRsQxCPD7fA8MyfsG7tV8P/bX5TQAAAACYBn6hqQn8AAAMAAJL8frGQ507Z43aiu6oAHWQXwxPyYKo+7DBZOQAAAL5Bm61J4QpSZTAhv/6MsAAAAwABKficnOylAOnCDskwA0h3ffA5yhgm7255c7rE/ACrRJ07O4z8PXgTQincZbQiMeU3DvYIl5deT6taonRCq65tGPf8Row6XHS5fe+h0CTm9nceHzv6SBiO5c96nI2fTr3nwZ+diZb/up+f5cdY9AARhji8gMxEuOx9EMlfqVKlQH4G7M9K/djcugMVQ9yimZo21IhnYC+rSSYzGTDZ92CP75NTTKF3eHC7WNwrAAAAU0Gfy0U0TCv/AAADAABfia0h8YrLghh7FVbQiAFkIct8LyMEARbB1g9yB4mn/hiRphuSxdoQGT7MjnZGnKc+PcJb/mC+bKgnCrC3xR3aMf3VpvzgAAAAIwGf6nRCfwAAAwAAlq/hsI1hZRndaDsuqIYByNLtnhM7JVLBAAAAGQGf7GpCfwAAAwAAO33fMBLqqSg5NbWA3C8AAAB+QZvxSahBaJlMCG///oywAAADAAB0j9vLHcJKZnzLe81UnAZtxk+MdR3koYsml2YzCP10HAjUMpVINRXQo1FE0pSNG/92Kfaf1oM6VVolnsjCG+YPi849H9ylI1Aa+uMyp0y3LcZFmsCfTrNA7T51+WNiY4M7BU7P/PXM1LFBAAAAIkGeD0URLCv/AAADAAAlvHpbbTIQ4XTuzzwvFsOH6zmrPMkAAAAVAZ4udEJ/AAADAAA58X+OliSqMfWYAAAAJgGeMGpCfwAAAwAAO3zrJQoT2eH5l+HwAOALHfxvYz/MXtbXYBmbAAAA3UGaNUmoQWyZTAhv//6MsAAAAwAAdPcyZ/XYAODaOvrH18aL55OBjvjSenMmcd9f28kCRKEJ2pmGgnUh2s1jMI+TeQ79l9AqJ25LzMqzDMfjjK2xOBFD/bXsWNk4tf9KQmvzqxkZz1BgflrF9iRzp4edVQgIUzmE4leIsgR0vHUfj41WqUEi78+Uia9PqmB9seQFkV8da96wsnjy3ziffRNVxfqhLCMS6yuzhvyASwCUeD3j0IvkonxbueyrWs027HKqqp8s5N+s6xVWnZM+Vd/YiJRhJd1j58+i6fWlAAAANkGeU0UVLCv/AAADAAAluxUoxDXZhuUpjHJkbVdACVg4nNJ4cOMft3aWd0o7UnNg3R0p8AyJUAAAABsBnnJ0Qn8AAAMAAJ96GB+7C+1XsYv3dc+ZV2EAAAAgAZ50akJ/AAADAACfkD5clO8ltluRxDBHYZAbS5qSBw0AAAC/QZp5SahBbJlMCG///oywAAADAAE4A9RY93kXDQCaDn6XafxAWBeNvGxdbP/X+mYSO2CEBXXXy5KQoQqcRLZPlY2ZnFE8eBH0Gs3q113gHjVBKhLRJY+Nf2Og+CE89w0ZxOCUDJtzeThDghWXNgK3Y8aXBnOXqN1B85f50B0EJTLa8RmnN059CQfQcIwaHIZ0M1Sq9DHtorZS7TczFuQ85A4l896pWH/nN+jqA44wfywBEQGR/ZevLm/hfHfcd1UAAABQQZ6XRRUsK/8AAAMAAGSCHvDssne/O/exb+5QRqTz1QABOMJ3BTx6PAUIvkKUcWelwsLNyY7ujc7D4ggKO/l5ZB7rxLk9cGqMLS/yfqfvEIEAAAAuAZ62dEJ/AAADAACfAWDGWufhcgA5gI9c2UAemqG6RPHQpt7t4k/FJVEiHbym4QAAABwBnrhqQn8AAAMAAJ9nqyDvrZ1X6RuyfveR4ZS/AAAAV0GavUmoQWyZTAhv//6MsAAAAwABOAs+KKzoXfX/+WswCg2MgBtppyZNgcA6v5KInfl5jeu0npguV63y250LhQmGFIQjXYEG6s474c7ZCP3fepUWH/0PcAAAACBBnttFFSwr/wAAAwAAZKX0t2iWMgoPaFHB1qczjNX1wAAAABMBnvp0Qn8AAAMAAJaxBT7ietUXAAAAGgGe/GpCfwAAAwAAn2YSCxKFzr9iaUJZYHeAAAAAGUGa4UmoQWyZTAhv//6MsAAAAwAAD0IyLF4AAABIQZ8fRRUsK/8AAAMAAF+3fFBlQFZkE7gA9spiKrJD9Q91YZR74oqje8MyhBqoLj+/0hizaJJK29gyZ6+qBOVO5ZgFhm+nkzaxAAAAGQGfPnRCfwAAAwAAlrDsJkyXMwbd0S7kY6UAAAA1AZ8gakJ/AAADAACW/H9lgf4JU+pWyF4+7ypiHABAUt1RYs+/L4Azp+sryfpJaAOB8D0yuSEAAACzQZslSahBbJlMCG///oywAAADAAE5+Jyc6+VyOT/O0ALh/nGhM+CZfeS3tYAebx/YTADscaxhQrmURe/nLJ31l+rMfHiFocu47TcH7U3lNrtk1ei+jZYRAIbrR3bIWTjJ0LOBGlmUNPXGdvDJWEsCvv2HDIJsWCoH6bF/BzhuP+W245EDJP/HHzwb/1J91tgGq/f5yjasrYNAkuiXexy4iNfZG28A5VctL7OMX5RvPE/mCIAAAABOQZ9DRRUsK/8AAAMAAGSifbrQjT+dMAAbUb8Bxas4wZw5zPnZyC9782nmpKOXkkBY9Az3j2LeEp69/X4ITSHP2Naq7HXsZrOGNNsYRJ7AAAAAJQGfYnRCfwAAAwAAn237IDzKIs8xaIy9S/3PMOdI0BRHbt92f4EAAAAmAZ9kakJ/AAADAACfSxgHF95o+05z49banvuE7Z8y2V6vSdOlg3wAAAC6QZtpSahBbJlMCG///oywAAADAAB0tJbhtAYNo0Qq76Y0pJMUQz4zdO8lAnFnmIWf/FUN9M0BkGX/zR2wvHj5SrgM1frlSFDW1YY7pdwpJk6jF84PXD/Kiz4EFe4M2JKYcoBAS7gFqDLnIUAUgkv/0Cizb/h0Clqpe/dfkmro/M3S5hLI7qkdDBRBr69zmdgwLflinKvbh5UVftUTak87v1WngLXzUTgdN9AuvKyeCrUmsp4c6n0TKWeoAAAARkGfh0UVLCv/AAADAABft4GGNRR6XwtkydUxAp2iMxOrYMZAJLIwAkQ85tzfSdnOT1SkW793tThmsR/tyKPT0eDI6SY+MM0AAAAjAZ+mdEJ/AAADAACWsQu1GWCnntkZMtqyfPk4dW9q98fsrHgAAAAjAZ+oakJ/AAADAACW/H8P4kf/XmwkLcDeJkPHpVbnASZ/QQ0AAACeQZutSahBbJlMCG///oywAAADAAB1PlpQZF5WlnYpGkyABIsGrEeGkkIU5JZQ7BKQM0TVXgJk9iBmUCcy1Kzt5YLWgBxvT4puRW9xOyzzvdrzqHQeCyLxKxu7M9zNnHO4lQfepACSZyL2OHL9Dy2VlpbkU/vnYqKyyga4VGI+tNcA2wONDUGZzd/tAbOrrpWSbjHg4eedCnt5YtuLZYkAAAAlQZ/LRRUsK/8AAAMAAF+3gWlzl6o8ncL6h8w03B8cEmMVsAgKEAAAAB0Bn+p0Qn8AAAMAAJaxC3TgIo6C8/+NXiq5jb6ScQAAAB0Bn+xqQn8AAAMAAJb8f2+GYeK/27E0wrMbt0/tDAAAAJpBm/FJqEFsmUwIb//+jLAAAAMAASiwVGYAWCf9qB7U+yN/DwMpT2Q5G03vXm2/t9GXL/smrXbej3sxD6NIZYGorhjP9U03r1JQiEyCAyvWCPxDZkVUvh2Di0x4EGSgh6Tqf3a9sCH1od8NcAzngrufBWJLssfzyBRMuraj+w1hYSywMIRvvefcZt9FeTtrn6Kp2BpUJhcyDv8tAAAAJEGeD0UVLCv/AAADAABfia0iGVc3CF22NxNyf7Ye/0psu6cFcQAAAB0Bni50Qn8AAAMAAJUtGZTQof+fClVw4MCMdu0iQAAAABgBnjBqQn8AAAMAADtvvdtHCwuuEJGCL/oAAAAdQZozSahBbJlMFEw3//6MsAAAAwAAar1zoEJmAZkAAAAbAZ5SakJ/AAADAACWu9+8q60G+wrNKsQYRZPOAAAAm0GaV0nhClJlMCG//oywAAADAAEp6b0131KS5aPLMAwTAP23yD/u6DLQMJzXiy/x58QcndaXsDrPPyX2pUyONAC5sehOCLOnGhhgK6oXKSKUMPGAxxIj+r2taEvBRGWVKn1LiodQrvwzraGVa3pLIDoQ2y7XMDmVO5MqeBa25a/kkIGyNC7fIuumR96lXWmPzIYFJefzkWqdFOQhAAAAMUGedUU0TCv/AAADAABfia0iBvKwhxfKTPlZvtQsVzK1CvlowAVClYg4/9NfraDNhoAAAAAnAZ6UdEJ/AAADAACWr+GwEz/xCEAAcL/x3dk3PsKtUvCo+oUTGK1JAAAAJwGelmpCfwAAAwAAO1MJ+cR7ITWRvtELzdLFF9dlIlwee3lTWCxRDQAAAOlBmplJqEFomUwU8N/+jLAAAAMAATgD1GmIAhVqf+xIB/3MPzn38GGIL1r/k82hLwgevxMm5HCnq8tjXt9v0MZsC1iAEusQkV6cRhlo529r0FT0+ZeMbwOdXuUwupKOpx8OLGFJUuVsvBhMzwf41ZRBSg7tMrtfDMfI6fj7lOr/mRrv3hG+3LeO4m+EesrIzoYB77qpkxMkoKo2llj8QlQSHiC7E0NUeLH0yYqXzKkg3MX1xhTvgElTJ6fMJqzs/GCy+n0+/qvCGTliR58HOIfQpiSWfnZFasV/rGRJfgAy3spG4gRtTNmFQQAAADMBnrhqQn8AAAMAAJ9mEscfT1ZgHu40wkXq/WRWqc0r+gAkVNnFAkz8LdhdnOfQEddnMx0AAADkQZq9SeEKUmUwIb/+jLAAAAMAATgFhRpiACPZq4+++TToVdm0vhtXgbvOX1FKrPN4vTVer5yXX15WU/YhL9+Y3YWC5anLGDz5BxGdctemqK56eJ5BAoFaBTAl1kl1oCML7wPFiVRLF33HVqq+XgUwRdz3rybOxfG+76U/DOfo4gse/kfJ4HO9e6vStHLclrD1dIBCiaqu9DyxjHFjGRW/xvVCx8Pqb4vwD5TlZqzVMbiVVILNQvQUkLfyg/vWlrsjr4pc7EHFVjHdvtttK147Hy/vTBpWVdjEeYY9it/c+cp7WpWwAAAAVEGe20U0TCv/AAADAABkom2382mC+50h0a5Yw3jrtRZH1LiD20nDACAH7ZMvoORZoNbz1vvazgG9By1yOOzSKnutA8TgN6dAdC3bSvnEf/+0VAN1wAAAACEBnvp0Qn8AAAMAAJ9tYCiDf/niss3JJAtLUEgcwcJfpbEAAAA6AZ78akJ/AAADAACfFU9MK4GxBy4Z4n2d3WKSLH//BgAg7PU6GvzhBpfFzBMsLGDkFMCvmaxxzVIE4AAAAMpBmuFJqEFomUwIb//+jLAAAAMAATgEJQ0sAN1ifqdhd9Q1hfgC8WMFhNdeojE3yOyYd6Sp860cdX6UQCJE1Z9G+PApzOJAbPmc+emUTNB+Iq5PAw3DlDa4qHWy0e8sKfzWqVN6QQFHqXMwAUK83GPH6EbjPuWq41mYUaG7u1r+e2jrB35mTMQ0VtB7Ila9cIU60NY/i5RP25ua6t7xUqUB/dioXJH0xYNwOrRgJ+FGMECOjztBZsHeDcsghB4NQ8ATPGvBtjbS9s0yAAAAMkGfH0URLCv/AAADAABkgh7wrlFlPYF/aU1yLPhi3sOoGWU4AWgnCWU183NYCecUxtxhAAAAJQGfPnRCfwAAAwAAnwFgxkaGWqglE609ph7GJYdVHBhbXEP1ylcAAAAcAZ8gakJ/AAADAACfKfPb8uKFIfXmrrMR9PaGgQAAAEZBmyVJqEFsmUwIb//+jLAAAAMAAHTvskdgAugjHTGvvJJWYEMSz3J8cQlzIP9HlZPGUclkKlx/RXs/4kYEuhI/wDq2tziAAAAALUGfQ0UVLCv/AAADAABkga7k7k9nvA4NrJ4AFzpm3AD1AsIdyfKiFgiamc88WAAAABgBn2J0Qn8AAAMAAJ8KTTbAVq/HFo6fmBEAAAA8AZ9kakJ/AAADAACeosEK0gCSm7nfsaJrN1oaR0pEBqQgAuIYUJf0UL2FQwIfCedkyB4h52P8le00Nu+AAAAAUUGbaEmoQWyZTAhv//6MsAAAAwABOAvaKWTsrAPMfoWu3RIAWBoa0WYmao8YhMEFUaUY5/l5NmFnGjNHMBEOiK0ZYAW0rtcizORTef8Co7+5vgAAAB9Bn4ZFFSwr/wAAAwAAZKYOSHe3Kz76JIXS8USSuNmZAAAALQGfp2pCfwAAAwAAn2epw1l4/HGUl5e1sXU4OEm54QAQF9KWr8HTfN974bEdyAAAAGxBm6pJqEFsmUwUTDf//oywAAADAAB0Yu6kRMHxoAWhpU9+8QAWbww/GwbvtA9TadijxandByeZJRpFpj284iJVEighPbisTR7X830HYf0hKk/mwOA7mB+Jm6mCvH6bnTL7d0dFV9FlkBnMIYEAAAAsAZ/JakJ/AAADAACaozvpmtrQWvTg0YS1R6AA2jji3WT3M76dGJgox5RSDHEAAACcQZvMSeEKUmUwUsN//oywAAADAAE4kD/nzr8wATpU7cIbKFoFwZ0UtJ5fZmkigaxH0jFPLizLTbKY0iHu4cdREo35WMHw11NQpqqZme74XqWB8HpyuQy+LPj9/c3MSyWDdXFEnlPiM+Cxd46meLqqVfvkefMN9FerRIlPorZqXNhkEQs4T1jXzce7gvPUc/roOq5t2A0n1Qc6fx84AAAAOQGf62pCfwAAAwAAnuOuUNUXGIGr2n5HwY44IqK8EJoW1k0AAa90wafIl6WjBXEX4zI9DpfSiyVXoQAAAM5Bm/BJ4Q6JlMCG//6MsAAAAwABOficR+027dUkL2jCrqjCACG/Qo8mpMiOIn4R62I3UoYBAnbpbXn0fcSYF5yYC4moqtVg9HA281LqZa235ypUMIukw3Qkk1h5lGcFqOqs6CGbjI7DR/FmgdGC5AAkx/aXNGnS+5t75mAwZzz4/xAdO7wpPJoiHtwmBCw2/1ejHrFFD53fL2Ahqd0iG2vPMQMbtOXciqhbIv94UzGlV52iKsd1IlWv5j7cRfwJ5mtVsvxW6pYI+nPy6lJZhgAAAEhBng5FFTwr/wAAAwAAZH0KXFeB02wgmAb19s1UhhY0a7udZMx62AAlLhRkWdv7QrfX3vghVJLzLz0i88QJ7IACZriJ/YuUZR8AAAAsAZ4tdEJ/AAADAACfbevvEGvWyI4EaIUyLGGzPU7tpNxZpCEMre6hXMGdU4EAAABBAZ4vakJ/AAADAACfXv2pAtnUIS8cOjiGsHXYXmnXn3tCcBAB/OxTiD7fabt0tYUKtouKO9uhY+rL+L1iOty5ZSIAAADUQZozSahBaJlMCG///oywAAADAAB1OE547RaZUFEhbfTj7roAP7kkgxXecg6gLLfpEWWE5UVAJ9BKIBmyCNnVQpOPHj0bBNLOaY4O8NDBG4UcT4N4xICtnygni+sIwBhFfo3VWQtuKH2/3hcGMHAaV6XRpVUv2cEmA6IePGrI/znn6QTBdL59VAJ7T11svwQ9aYjD5l0HidfWx2Gv7hH0WpLZ2vO1Khv8EOCt1++Ij+t7IujUtgkNUJxaTmC4kkHY7j0A2rcaq9ztTs1/WCBT1KneyYAAAABiQZ5RRREsK/8AAAMAACWPEYWWVBmuZSKolp3lIPE0ujd9A75/i9mlr20Im2cKMmb4AA92gLHn4o67zXJkhwdg5FPNknL9K0V8BAAPgN/wc9MMQd0SnmfEeUGQb5TvHn3TyOEAAAAzAZ5yakJ/AAADAACS/ICZERaQ0FmMDwEiqWThV6KABr0ouEi8Wbztbed4DKX6gGZ/7gogAAABCEGad0moQWyZTAhv//6MsAAAAwABKeN/gafoFR6MXL/ddNfVhKSpB/FFhCprTOTYrx7bXkij7Ji5bvNckuFSPOzfmpdj3WqvIEiVzR2gdIEUwplC3PhybtrD7aCNl0Dj+y7HFdqI/p8SsmL9B5/Wig8sEpMm75G1s5qIulibTFkyEINc7tMkCPN5p9K/Ayk02TFGEGSMceiex7f/IkQSBnavKrQX2VgqBjfCHbIuo9nrpPiccCrcFePS/mB0tzXUn4GIvdA5LjymvEovuFNoAUsPQLP4DVDcXg91itB40uSZkuPtOTS550N8n4hWCb6ZJLZFpCdO2IU6/0msTEbRFemZV/ir6oK3oQAAAG9BnpVFFSwr/wAAAwAAX2jgwfYrAJbSKL4ALbZtUXagQncV2EkXEKxt/TILGecDNQMeLlPzTt7SC4hbHNyfZv9iSfd7mZY/TnmHqeRh0iGszy+rs7V8g6IPK0dEWNV+mmbb5cmhJficjYa02JYrc1AAAABJAZ60dEJ/AAADAACWSmQuU15IyabF9oF9fczCVUFlRSFqGNZvb/SABqcfjZIL7Rm+Qtt4jOlh9GrpAsKyYBR4JSjqQ6MXOT7SIQAAAD0BnrZqQn8AAAMAAJL0vk7VRbtlserzc12jUEUsT0aYAIPdeOqDvnGfkAcrteEoKs33cEduzWuXZsSD1hjdAAAA70GaukmoQWyZTAhv//6MsAAAAwABKB7kAqfRlsjrvWaXz8z2mGHTNIG2JBNAlaiJZxYX2MY6uwj5fczYdDo5XpLm5JLFSXJVwVzBuqVapElsCyQOdVhztP2ufALmypdWL3gmS1aoBf0DdSD34UnuGx+t04uiuIAMUfDbat6qfFHAbWa7nVSB8oLrMSePAsehoCXmRdTsACv/bqzwuMik0DQD+Vtz5/uUpRT3i1/EYuxUgEicX0azjiFZgbXFghS4LvAfLy5wIl+yeVwsSIDzQoXvEb4b2iQUf84dBZ7lVwGy9ybIYQHG2pP0HcPXi/XBAAAAVkGe2EUVLCv/AAADAABfaPMTxHXukfSOVyiU+603VmC1EASr3kw2N+gA/cVgBOjt2dNbO0dEH1/f+ez5O80UpmjsusFzvWbuHCqr/HkCJYDPn6hRk0/BAAAAPQGe+WpCfwAAAwAAlvS//dkBKxLey1hI+z2WaafyHh0uR4FxOcAAQpfApI5hCNDLqDAVyfwRxTXIVRD4pY8AAADPQZr9SahBbJlMCG///oywAAADAAEoAxNQjLKZlw+jADcGESUW3gcMPG9V8TS+eJkS2BtAJ3FiGdEJNmrzE1qUl73iOV5wn4omIFPsqthDLMrTiIAOrUIyiwAdJwdI9TxiMMm1fHvWK83X6sYZMVbfyJftywG2NbP8XPv9CEenS0THfjtv/PIvbgOHp/ao5H7yb7zeI8xuz0nQ6EB8YTqN7BeoTNpClkYWGtsNAVvu/dSRcxDStXfntsKvsVK3WcE2q6lXzhxy0bomVDEH5E9KAAAASUGfG0UVLCv/AAADAABfpBNBGzk3MQ3Pfjhzcn8gZxWVpiZN9outCAD96im7bB3NRGDHK/L4ida+iEH72U4ydJQw9WbuWS+CU3EAAAA4AZ88akJ/AAADAACXHG6OkdO+b87SVeGfF+LLKZg6MVV4hsKKRmfRRQAa0fnHS7ZKb1c3X/B1vsAAAADoQZsgSahBbJlMCG///oywAAADAAEoUgRFgM1g6mD3DzQX9Wy/9nRHk5ZqYcxI5tk6N0bxTSLaJeaACXNxGugNwFZ4SIIrsKg6LGi6NriWXn/omxrwlNxgsHuaAQe0ok1sTCEkvYNDTU9wmPMolLP3k6cYazXsF7CJvup3fDksJII14sMpcOWX/5aoEEbYpaDNx3hp5Ra+pEi1rAAaLcB5DptD+raFbFkivEJZp6Ndizjtg87D0diDQoWFqjWoGkt3WoGxYoMnn5cCUY5d8aIqqES+XfBjru2ukpien5s1n+U7u2ze/jCrXAAAAFZBn15FFSwr/wAAAwAAX7Z4+qt3OBeRltemTkplFCNtCb6FnjmZjeAAb0J60QQaFw8nvWXMyQwfuBasTb6b/JPC5q3O4OBRMFXWwFFhkuLhFYhqxyajOQAAAEMBn39qQn8AAAMAAJaOnpM28MF4pQ/f+mMztQa4Z99s3KBCprBiACWT++KqOpnE+DYXultNBUCCV70o41s741wQnRaBAAAAwkGbZEmoQWyZTAhv//6MsAAAAwABKAyBYUl6OZhP/8PzqFABOO8asIsTqD0cYamMyH3GKpXJZuQDRIo/Pw7JuINSCdP7/4kpNJ5jdM5NNFrqBkWItSaKx+vQ53iiVmP4vyYVhpUkD89EKq8aW6gfbAPkHXW1YhXNQ0151ZgsmbmaM0rYrBHbYXVv88h4OwSAtbrKPh0aGA6srgBasxwpt5yGKtegorVjgnhVMew8p1v7d306KQufQXa9el25bls5Z5vBAAAAKEGfgkUVLCv/AAADAABfiasUnPosQK0sriVBex2X1D5VmGPcFgdI6vAAAABAAZ+hdEJ/AAADAACW//raQOsc4qxEUdWXGn2JFnPAERuj7tJHyK7jvZ7X00gA/eeb+gvLTYi7cb1RnbM2FCBYWAAAAEcBn6NqQn8AAAMAADiY3UPyVPPhAARBa7sz8yqUPEkMbV3apmMPB+klVccdTaJLZimaNw5VQRC7bsByNG4qUylrmEY2/q/psQAAAJ5Bm6hJqEFsmUwIb//+jLAAAAMAASgR109CgzAFNY8FHiWkAHGLCM5CJ5j07O2ZKfPnu5cFjMqpSfMzqbCDnwR5GP8OoQW1icouka/6GvTy0Uknfi92EXvfyWWIod5z1X+GB5W7EmPrkUGhTqqQIwIaDj2xTxb/WowU3U1UITxbGTuF8AO0zxsFBQXsAQ+VdInE+E3EKXlhiPkSdzjMwAAAAE1Bn8ZFFSwr/wAAAwAAX6MqUX4dWO91+GPxhMJ8PYAE3aihn9f8ibj9lil0Tzm8cGZHdwP//D/6mhSRYYQypN9Hp1RlnViBowU8qdZ0CQAAADIBn+V0Qn8AAAMAAJKbfYz8h3uhoEWuUHJZc5v/kgANXGbCwTL0yF/la86Qwa5IRBsFfQAAAE8Bn+dqQn8AAAMAAJcdJCqXg+XJZqjSHIMMu+/5BPbB8AATNMvGz3+euov3iGR0JEMM7bhWd0TL7+d1zdicvvLFiSe1TxrY56ntQ5H/SFfAAAAAtEGb6kmoQWyZTBRMN//+jLAAAAMAASgDaYMAHGwHi7GNNS7GXbDPl9DPkyOOtZjX2DqY2N25oHNn6L29fur89kRsAxk7apL2IKhipIxxI5QzFswzNs6PR98ns2dyFu0jH/zs4hp4vq6EULwt0+nd6PELFPPfTUBd68z8t6i31KzChJnT2+TmDclcxZJrl8C3+vj6XXSnm6XjGq6lTs8A+BaYRvd2Huzce+BF89QbxFBV9e4s2QAAAEsBnglqQn8AAAMAAJa5iAiSK6TNa1pBOGnbsec1emPVTzXABAzhmBCM3KVM5zwovC949xYTbk15cQTWbJCcJ/NGRFChapNbZELnxYkAAACjQZoNSeEKUmUwIb/+jLAAAAMAASgGYM6PaOyKx76TdkAGyW0Hg/vnrIPaD/1oDpk+DLbdFerEbYelbkYLtEiEXFES0m+DauGKbTOhAR3sm4lv5fm37I8sz86KBSzSVq2BxSIzj88mOMd/A3fyUsVaV3R0XGzIjiyqyprZpliE/8DXx+t+xZB0824GOVPZpExdy40Na6R50cKwzyV5/aWrc+bDPgAAAFRBnitFNEwr/wAAAwAAX4FSPknbPj1TOati3mCLjS2BzPhDkGAAiBvwf6qrIedSrrwUPH5TkHy1TvrWWm3AeOh4s6v+j3AveByqUgyHRu5YYAfPoYEAAABCAZ5MakJ/AAADAACWx/WTv/2IIfeTm4aLBMVAfl+Xvw8aNi3GwMP94ABDXnf4x966D33hmEDs/18k+g57mQPH8OrwAAAA7UGaUEmoQWiZTAhv//6MsAAAAwABKA7exhqVyABUmbBDUSqgbufqRG4uMC7/1R4WYKW4bNLtZkTXjLhxU6t3NOpN0D542CFeV4MW+odG+qSIF6xAY+c+8tqr1sui5fLixQw1PtkFUh9DbcbmUqYrzKLIQUAw+coybvq6KA4xJTF7wKbbC6NFGzioyKfTOfTbo/80Kb8ORafKJmOJIvbLoNaV/UKzMRO/wLc7Z/ppaDS2XubCbmsN3TnmKG0YT8q99XZEidP16B3I9qSI1UGHRouAUODOFQOVTkgAMqQRtg4jlmCsV5/HCOfyDFdXgQAAAFZBnm5FESwr/wAAAwAAX56RVRiP5cmW6kQbjgB8mxowvIgbDVjY6p5hnB6AD9EWPh3ZbMbrsbltjN7p5MpcWgalZXsUEHnSh5JEmi2UW4xD8vFgvChZgQAAAEYBno9qQn8AAAMAAJsimj82oTQOjorCReSNe24zjQPQAfoOWdgzbWsRJgUgcT8zVFgLctfkpVfqeMh+mnbbSa+vKjLnX6RAAAAA0UGalEmoQWyZTAhv//6MsAAAAwABKem9OczqdolV4B+XQAWMbD2RL+U5xDL68IYejwlBIrgQGoGte9P8NbbdxKtCiFg0//3MWcBKw0qFfO/Zw2tMJUGnL9O+kt5QXJ8RXjXwnw11JK/liWu2RlYwfX1RYwpieIMObxL6oSG4C4LcFxvze1fl1WKqkULYIFrVpYiPAsZOrRhu+oiNzZHZrGHWdAW1hPdipua3Z7fUmMk78GqBOP1sjvwuAGjNTMNRU00rOXWpVHgFN/P/njP0DF52AAAAZ0GeskUVLCv/AAADAABiMMtJw5tXqIbV4A0H8VLHIvUwysWI3h65hRCkxQFfrbvK97bcU4ckCJwhKpeAB7H7QmKOF3/fQH1WnvN4GJU0O70RiLVYBsfJwrYqhyygO0Hx+sl+pf3s9t0AAABLAZ7RdEJ/AAADAACar61pULSIoIxt5B3OEH+AN0WTb/uIADtCOJN5apg/prsO7s6DnzfC434FmqcC5hmPcfAqXAhMGXW2+i0BjtXbAAAARgGe02pCfwAAAwAAmvs+kt/0R8iH+diqttV3AADnIOw/XCn6x0lfmc9jitS9Rn1GtTBXbDZZ2nEc2WFg1+xYB+x7aijRpMEAAADoQZrXSahBbJlMCGf//jhAAAADAASz0bv8lgA4lXh898PAtYe2MIgE63juTdb2YvBBChzr3lcG8Ky95MU4168xqNvmxIc38TUxBQvNcoL6clh4hN9RUexXSvQSOwAnnpe72q5511QLD5zJYga5OIql7Lj1nmcIEsljabTj05B1KtYiGx+mPs+NOjnY60k0swD7xPFmtiw2bulKIkxhxFGpH2fgwYCN9CdiG+rpqzNPuDnHZT/vgAjrU7bCXZK5kqf6Oc1Ok3E3B/p9YeJJI+km2kIiLjKcveLv7ks+WWQ8B95TdkESZ0s00AAAAGdBnvVFFSwr/wAAAwAAZLds9ZcMT7dF8asP/zCWnUCW8N8DzAveRwHFYEzSqrkBancGdXAAicjYASF+2z2GwtBpBdDTzEBmrqRr38jEMVhyGYYmObIE55Jr6RwmnrIK/4rSIqtleoXBAAAAYwGfFmpCfwAAAwAAn1zvEfYp+E/cTApsAC6iTgclUjy4pLNyOHibc6HcNc+9bZeIDNCAhydWhLWEpJNT6onvtUIEev0TEH0QYkl3KNamHFAb/QrbnPR7emkpx/DguBr2+f7tgQAAAM5BmxlJqEFsmUwUTDP//jhAAAADAASzznKACQAmrBOYCKIp/XmpzPRJaA1hthnyDWfhJAzHnz/0vRPvHQIM5dny9wt9ufl0ypc387u0C5eOJ1F57kzwISlG7YxKAK0u1AGHXi84HNiw1+V9Td048Y5clvKn2qye5q/djwy5vKiqbj2rdWxPTUBRzf6fPsh/Rr1XKahEA61F05W+cwn4ktYS7t54Ywl4F1+grrtey/1dzJp640dBKvN18fLzkDvNB+W8Iht0ODbqvDljJHIucQAAAEwBnzhqQn8AAAMAAJ66X1CGzRh5ZQFoNuPOy0U9x0lckqABBktDiQRvqiAGju7Zvk0hMP3ihPB60cH6RVgvEIpnEB4xg/36Jy+dpZGFAAALbGWIhAA///728P4FNjuY0JcRzeidMx+/Fbi6NDe9zgAAAwAAAwAAtTi0FyWuY1Jv5KR7vD+6dEqLVYAAAH2rbmkvf0B0HPUT3kcLNYFu9w6y27EVuOxnm/esg0YKGrZz+/41epklsrZrtseHCxn+8DeHUqls60Po8Lr6IDr/xOrySw0VrzAke61gr0C9STW7yEarlzRYurh1xe5Gfoor1Ae7vV1raHUv/Q+u+b3Ew1M1VuIbD3QSnAd4xivahKGYqoAAY9DCKsQGzMl4FSK18pWFHiSgep/u7v5UeRCXQdVMkPTxJtbI9opGrra6ySs/EL4pb/sB6aFMBidojqhI9SZz8YpC2RUf9WKOjsBom1IBIOglC/Xb9Qq0xICa/bRYO3mgHQyCkhJJr4f62s+E0Py4sNWyQWn4+mmlhGg3NVITJDMUkH0m+GTJoMGO496g6syyyCN06GIMFqbrkTSDBVh92FXcjq6PEF8OMf08gjutqgTHjD/u1ZLha23dlhX3Dce94ImdqjHX4AAAAwAJdONlzi2cSOfeKK1YmA09bXF2OTZ7bc34Mr/Ld34kkqp1m+zhOe1w6IwZQfuRnx2fUnh1e4r1DVn9zV9KKEbjM6O8O5gXekxAb5Kv4k3/8nm/r+wS6ZA0qEYccORlpgvxyUaM+sOnXd7bCnGAAA5oM2AZwY9roFRrx7Q9Hivyc+tXe3Ln1XU60XTjU8YHgyqz+ZsgpMf9xIn8RfGsj/S00/BkNt64LD5KeZ1ud3J6kylkdcgkbatn1QyQWGAqlNa46o/i9HBSjFTmaCJgRj92m6MCzx79w3M/461OWirx6wgaI0rv/njaFDWWMIwt+1iy44PfqcSULZ8v8wBGIWavuhxAHyAqqZyRFjmBCBqoQd95oooqtBRwFYaXZy3kLfeip4PW6Sq0RYmiLut3zUbJjodL5zN+yaSYAJySvY8Whvt4Ad7z7JE8py8JM9E0ngaaY7e9Hx3h9EXxhHO0kU2/Wmd8B8A4X/IMkdu9vRUQIB3Ftxk8E5TLvU0rN7Qm00fq/WD+XifdKszCXhF1nJvabxk7lmIxzpMXKZmL3pZJ/TY/zyvRRQqIP2IVckfVagngOQaFAnhUtVojVaznv5sZdoGiBGie3+eYjMrt1F3J1uQOs1kJi/igK/LAUQj/j3EbHpIFBW9Il9X3DNTedEVXvJ7JRK0Q+LhgasVz/VGM0QRnroKQW7F9lPFrcH+gmxxng2GSlEvc5gOhSS7gBeXWAuo2XtcGSB0ZAztL85t63//0dAruYMbfR/vE1XK+8aHzdyl+EhDYW5k6i1+MJeF3jLnJxWw4GV+wo+6cFc+odoFklCPFAz6n07J3sPTXORq7fSgIeEbmam4EPdXaPPyZITGwXiI0VDOozRFR+S8+MBvY6z5QTazeb88PmWvsdq8Zgm/yBWnpqf0v8sgCCUrJeElZKTt876CaFu1Y4Hu4/Z3giTWZqm/vgIcTDUrbP/pRPwybstVGq3hxp/asQcekSmUftUuD2LMAE6c99617xp9goFKpAeDZSOuKPylLZEojGsly/QrZwK9JXzeOSs7tIhu1HIJvSrA2dKFDURIrMTfZOC/CUOgLXA5ymwBra4UWJaBcu7KJHC1T473xRb8ZiVQd89JBj1xA+sgaK8gI+liBsx0EgzB7P5OnnXl4WcJsx8U61A+VuADBMd7zZ0iRoHWoh4z6LY8Ad4MBN9gjNHvKU0n92H9msnt8+v2r2ZnHC8TIv55CQISDVXIxZectMkGXYkYeVtA1bxFoAeSLunJ/w3D9fbh7p1Vz1/WqsWN6RHjQ90yS4lkNzzH1/gApSHzyu3Rr6J0k0lZGN6hpTZp5kQsXwMhcZAfEHih1+cBctUgnMIAQ9hQJHfz2EpEFheplxvZBMebVYJSf7HjWXVifffpIoJeV3d12uU2HdAFjXp/ZDBwO8Cp6FsLXACq1gnWsqtulPrkwwG+cCHcWiCC92dPDiARmyurBrcJPlSD3hTlZs/CvYY4Uel0pTebDsCho8C0IfQfoaJH/yk4R3bBCRzv6F4cs0paNVZfoZGwX2cXq2mMnPDkwOPVLP6DAlc0Z2nmIp+JuYyXBVVIqZqpUUpolXL5Hgb+WwAjDfn13fP1+ddzAwVxr9YY5WqZsJT0tYYgkGKtddJepsBWSDMPabhRAy81aF6alqPFuKKFJ+1zPKsxKAMWD/3fV4m+bAanW/iId9ja+VHgajlmxBWlnvtP6uP02N8H7shZwnXtlV2GQgAlBZuXqgHw70enj/ATajwm11wAHGm1HItJVJln93duce1Octda8K271sA5NcpeaSNqTo7HDBgpbvTVMu4YAV4F2MLbSoyL1UP3AeUgIrHwYBajeWw+3tVItmetDCpfmjPhfWUuWvasZfvGm+t+Baafk40J9b+L6jDuEqzAAjyztSQ5x3BiCfETCc/OCv//ioJesRwAGYucWJFEClH3DB7TfxjzGukewMgXH/P42Y+3zDok3do154CEXd2HXDs+IAhla4nO/gv3x0bqE6FBpl45pATEQAvtT4SZ//llJCFHKI86jRvTflLE3ADgCnINmx2Lxs7ynsiG0yFqxH553zohmF4ZV7lMlIx3v/ewAWLOLnaDKcnnkVd+yPe/WTydZ3BI+c0ibzJQm8JYmJYY7ECGx/hb5HpbrLytfZGiRTfW0SV50+7FQSjFa3aX+iJCBwync1/XX1fsQEEq0m90nG1oJ9lxkBWmmgOGQ+ZUWeTV97Paa9t7//8uCyozuTq4MQ/3b0u1Rn+k3+wnpGR3BYBgaAmAACPT89+hUoeVl0ShOg6+2Ix5mKihXvVQN+HS5p3wKXJ64s8B/at2qVeQCbBLznzSdYsYwXuE4BdfCrVmt6gHsRKlbpq1hJ63WRhuXiLP1Lmha/J1nPC4n14yegEgJkBkzoY26+UltSArnaiTm0Ksme612AAsHMJUSWqKNUdV1RKkM5pZiy5i4RaMMEVY98NQ/WT6gvOOE5sz9DsI9QTtx78zSmctNPElTcXEiy7eXmx2y6Cj2e5OlZikf1GLWcXgXnFyfR85FBoNQAFnarHNdVCXtzcZNlwu3A1jiXmVLdJFqo1cZvaFLXjWbmWxdbf54yAPGuksUpEmMDMMOVa6Pm+l+1R8NKiUQgMc1mvZTmSyk0+4ovj3PSccaxZpRSNlFxE24vC1nleTXH0Hruvvm/AP1kGR7xbNzjOaFrbbuRU+euAuEt29ZDs30miRchCUfvJHBMvqszpvNpOlcGOjenLKsq5q/d1+L2rPuTctCkk9WLJ3EFDeNZptteYhu95tBq7NuVK1/yZx0oqRCR0FhLtzqDopqqkHLZUVK8uCzFPwbz+xH670ZxuZR0P/2YkJGr5taDyv+94v3r6kGoMTXaNZ6XIp+y3zG/8dLl2SLkPrumX6bf2ggdUXJLnPvnlyAIah+FgD7DKoD4YWSseMRTzTUKx+B1DgAJNnS/JjMhLRob9J2k2Id2GqUXZp0SWr9/OITt+Z2LU0CaKoue/cJ+duzGj5xBrX0PKq/VcMmb4YEWCuBoLC/nE4Mdh18+FVSDTFssKNm4x8KBxOAf9Sbqr8eNLvoKX8S9k96gnGgTY4nGC7p41iSzGUK5q0mgyUV0sZE1DECSRadVO/Wu/jN8oniA31+r0flKd+JUShxYaxmbBE0qjT5P2UDiEEErvfT+vMBlXlWFiF2W6tDtIi2z5mmKVa8+BOwn79H7ErSpU0kAXWqFUDa/5PgyA7kjVLMxKp+twEMkIOhqGnk2k+X1O8nfPee80BTFLDr50KAwCK6d54xBw/rtDzVvWR+oHsQJMh57DwIyQa4qxY4lYfG2BpOYCQ+A12y1edKUWfE7yWnnJboYmqp2oCx5nm+SvezL1gAABXwAAAAmkGaImxC//3xAADhy8jVA1AVKft3fgN0ZadEkor8ToeLfHRxYAJ28lYIrlwzO5tEZwIotBNhXmEcPcwHyxcumAO0TK0fsLhmokjLkishNSH2nIyi6hGldZidxR/Z1l5YjJ8mf0fbHkWHRox3hLqzzemyhfLjCO2c1M9ruCa02F1FPCi/IF8khIAWGHanzD7qb3+34EavBmDBTYwAAABKAZ5BeQn/AAHazfAyO71nKfEGxuy5950n6lIZWWgZgfqKdqlL4UAIUcF93UNumxtqxUcyx4Og9DPP4EpE8hT3rCU1XC2qfBOfy8EAAABsQZpEPCGTKYQn//yEAAADAABJLP08cIAHZCqsXtNf+XJB4+e5r96jh+xMIyd6jd4HbuGlUDEHMx/FntiahAvtm/y8nVsi7KT2qLhJU+A5CO7X6PJ9+oF2L5cDITi0fZ4UYK0V681sb54zO5zgAAAARwGeY2pCfwAAuexEyIXBfs25VDzim4VFaaqGUa867zrGGiC7mzqHWnC61AAINEgo6ijL6ByldWVRdVP6SSl2/CHemGN9zyr0AAAvvW1vb3YAAABsbXZoZAAAAAAAAAAAAAAAAAAAA+gAAILcAAEAAAEAAAAAAAAAAAAAAAABAAAAAAAAAAAAAAAAAAAAAQAAAAAAAAAAAAAAAAAAQAAAAAAAAAAAAAAAAAAAAAAAAAAAAAAAAAAAAAAAAAIAAC7ndHJhawAAAFx0a2hkAAAAAwAAAAAAAAAAAAAAAQAAAAAAAILcAAAAAAAAAAAAAAAAAAAAAAABAAAAAAAAAAAAAAAAAAAAAQAAAAAAAAAAAAAAAAAAQAAAAAJgAAABkAAAAAAAJGVkdHMAAAAcZWxzdAAAAAAAAAABAACC3AAABAAAAQAAAAAuX21kaWEAAAAgbWRoZAAAAAAAAAAAAAAAAAAAPAAAB9oAVcQAAAAAAC1oZGxyAAAAAAAAAAB2aWRlAAAAAAAAAAAAAAAAVmlkZW9IYW5kbGVyAAAALgptaW5mAAAAFHZtaGQAAAABAAAAAAAAAAAAAAAkZGluZgAAABxkcmVmAAAAAAAAAAEAAAAMdXJsIAAAAAEAAC3Kc3RibAAAAK5zdHNkAAAAAAAAAAEAAACeYXZjMQAAAAAAAAABAAAAAAAAAAAAAAAAAAAAAAJgAZAASAAAAEgAAAAAAAAAAQAAAAAAAAAAAAAAAAAAAAAAAAAAAAAAAAAAAAAAAAAAABj//wAAADRhdmNDAWQAHv/hABhnZAAerNlAmDOhAAADAAEAAAMAPA8WLZYBAAVo6+csi/34+AAAAAAUYnRydAAAAAAAAHc0AAB3NAAAABhzdHRzAAAAAAAAAAEAAAPtAAACAAAAACRzdHNzAAAAAAAAAAUAAAABAAAA+wAAAfUAAALvAAAD6QAAHOBjdHRzAAAAAAAAA5oAAAABAAAEAAAAAAEAAAoAAAAAAQAABAAAAAABAAAAAAAAAAEAAAIAAAAAAQAACAAAAAACAAACAAAAAAEAAAoAAAAAAQAABAAAAAABAAAAAAAAAAEAAAIAAAAAAQAACgAAAAABAAAEAAAAAAEAAAAAAAAAAQAAAgAAAAABAAAGAAAAAAEAAAIAAAAAAQAACAAAAAACAAACAAAAAAEAAAoAAAAAAQAABAAAAAABAAAAAAAAAAEAAAIAAAAAAQAACgAAAAABAAAEAAAAAAEAAAAAAAAAAQAAAgAAAAABAAAKAAAAAAEAAAQAAAAAAQAAAAAAAAABAAACAAAAAAEAAAoAAAAAAQAABAAAAAABAAAAAAAAAAEAAAIAAAAAAQAACAAAAAACAAACAAAAAAEAAAoAAAAAAQAABAAAAAABAAAAAAAAAAEAAAIAAAAAAQAACAAAAAACAAACAAAAAAEAAAoAAAAAAQAABAAAAAABAAAAAAAAAAEAAAIAAAAAAQAACgAAAAABAAAEAAAAAAEAAAAAAAAAAQAAAgAAAAABAAAKAAAAAAEAAAQAAAAAAQAAAAAAAAABAAACAAAAAAEAAAgAAAAAAgAAAgAAAAABAAAKAAAAAAEAAAQAAAAAAQAAAAAAAAABAAACAAAAAAEAAAoAAAAAAQAABAAAAAABAAAAAAAAAAEAAAIAAAAAAQAACAAAAAACAAACAAAAAAEAAAoAAAAAAQAABAAAAAABAAAAAAAAAAEAAAIAAAAAAQAACgAAAAABAAAEAAAAAAEAAAAAAAAAAQAAAgAAAAABAAAKAAAAAAEAAAQAAAAAAQAAAAAAAAABAAACAAAAAAEAAAgAAAAAAgAAAgAAAAABAAAKAAAAAAEAAAQAAAAAAQAAAAAAAAABAAACAAAAAAEAAAoAAAAAAQAABAAAAAABAAAAAAAAAAEAAAIAAAAAAQAACgAAAAABAAAEAAAAAAEAAAAAAAAAAQAAAgAAAAABAAAEAAAAAAEAAAYAAAAAAQAAAgAAAAABAAAEAAAAAAEAAAgAAAAAAgAAAgAAAAABAAAIAAAAAAIAAAIAAAAAAQAACgAAAAABAAAEAAAAAAEAAAAAAAAAAQAAAgAAAAABAAAKAAAAAAEAAAQAAAAAAQAAAAAAAAABAAACAAAAAAEAAAoAAAAAAQAABAAAAAABAAAAAAAAAAEAAAIAAAAAAQAACgAAAAABAAAEAAAAAAEAAAAAAAAAAQAAAgAAAAABAAAKAAAAAAEAAAQAAAAAAQAAAAAAAAABAAACAAAAAAEAAAYAAAAAAQAAAgAAAAABAAAKAAAAAAEAAAQAAAAAAQAAAAAAAAABAAACAAAAAAEAAAYAAAAAAQAAAgAAAAABAAAIAAAAAAIAAAIAAAAAAQAACgAAAAABAAAEAAAAAAEAAAAAAAAAAQAAAgAAAAABAAAGAAAAAAEAAAIAAAAAAQAABgAAAAABAAACAAAAAAEAAAgAAAAAAgAAAgAAAAABAAAKAAAAAAEAAAQAAAAAAQAAAAAAAAABAAACAAAAAAEAAAoAAAAAAQAABAAAAAABAAAAAAAAAAEAAAIAAAAAAQAACgAAAAABAAAEAAAAAAEAAAAAAAAAAQAAAgAAAAABAAAEAAAAAAEAAAoAAAAAAQAABAAAAAABAAAAAAAAAAEAAAIAAAAAAQAABgAAAAABAAACAAAAAAEAAAQAAAAAAQAACgAAAAABAAAEAAAAAAEAAAAAAAAAAQAAAgAAAAABAAAIAAAAAAIAAAIAAAAAAQAACAAAAAACAAACAAAAAAEAAAQAAAAAAQAABgAAAAABAAACAAAAAAEAAAgAAAAAAgAAAgAAAAABAAAKAAAAAAEAAAQAAAAAAQAAAAAAAAABAAACAAAAAAEAAAoAAAAAAQAABAAAAAABAAAAAAAAAAEAAAIAAAAAAQAACgAAAAABAAAEAAAAAAEAAAAAAAAAAQAAAgAAAAABAAAKAAAAAAEAAAQAAAAAAQAAAAAAAAABAAACAAAAAAEAAAgAAAAAAgAAAgAAAAABAAAIAAAAAAIAAAIAAAAAAQAACgAAAAABAAAEAAAAAAEAAAAAAAAAAQAAAgAAAAABAAAKAAAAAAEAAAQAAAAAAQAAAAAAAAABAAACAAAAAAEAAAoAAAAAAQAABAAAAAABAAAAAAAAAAEAAAIAAAAAAQAACgAAAAABAAAEAAAAAAEAAAAAAAAAAQAAAgAAAAABAAAKAAAAAAEAAAQAAAAAAQAAAAAAAAABAAACAAAAAAEAAAoAAAAAAQAABAAAAAABAAAAAAAAAAEAAAIAAAAAAQAACgAAAAABAAAEAAAAAAEAAAAAAAAAAQAAAgAAAAABAAAKAAAAAAEAAAQAAAAAAQAAAAAAAAABAAACAAAAAAEAAAYAAAAAAQAAAgAAAAABAAAKAAAAAAEAAAQAAAAAAQAAAAAAAAABAAACAAAAAAEAAAYAAAAAAQAAAgAAAAABAAAEAAAAAAEAAAoAAAAAAQAABAAAAAABAAAAAAAAAAEAAAIAAAAAAQAACgAAAAABAAAEAAAAAAEAAAAAAAAAAQAAAgAAAAABAAAKAAAAAAEAAAQAAAAAAQAAAAAAAAABAAACAAAAAAEAAAoAAAAAAQAABAAAAAABAAAAAAAAAAEAAAIAAAAAAQAACgAAAAABAAAEAAAAAAEAAAAAAAAAAQAAAgAAAAABAAAKAAAAAAEAAAQAAAAAAQAAAAAAAAABAAACAAAAAAEAAAoAAAAAAQAABAAAAAABAAAAAAAAAAEAAAIAAAAAAQAACgAAAAABAAAEAAAAAAEAAAAAAAAAAQAAAgAAAAABAAAKAAAAAAEAAAQAAAAAAQAAAAAAAAABAAACAAAAAAEAAAoAAAAAAQAABAAAAAABAAAAAAAAAAEAAAIAAAAAAQAACgAAAAABAAAEAAAAAAEAAAAAAAAAAQAAAgAAAAABAAAIAAAAAAIAAAIAAAAAAQAACgAAAAABAAAEAAAAAAEAAAAAAAAAAQAAAgAAAAABAAAKAAAAAAEAAAQAAAAAAQAAAAAAAAABAAACAAAAAAEAAAoAAAAAAQAABAAAAAABAAAAAAAAAAEAAAIAAAAAAQAACgAAAAABAAAEAAAAAAEAAAAAAAAAAQAAAgAAAAABAAAKAAAAAAEAAAQAAAAAAQAAAAAAAAABAAACAAAAAAEAAAoAAAAAAQAABAAAAAABAAAAAAAAAAEAAAIAAAAAAQAACgAAAAABAAAEAAAAAAEAAAAAAAAAAQAAAgAAAAABAAAKAAAAAAEAAAQAAAAAAQAAAAAAAAABAAACAAAAAAEAAAgAAAAAAgAAAgAAAAABAAAKAAAAAAEAAAQAAAAAAQAAAAAAAAABAAACAAAAAAEAAAoAAAAAAQAABAAAAAABAAAAAAAAAAEAAAIAAAAAAQAACgAAAAABAAAEAAAAAAEAAAAAAAAAAQAAAgAAAAABAAAKAAAAAAEAAAQAAAAAAQAAAAAAAAABAAACAAAAAAEAAAoAAAAAAQAABAAAAAABAAAAAAAAAAEAAAIAAAAAAQAACgAAAAABAAAEAAAAAAEAAAAAAAAAAQAAAgAAAAABAAAKAAAAAAEAAAQAAAAAAQAAAAAAAAABAAACAAAAAAEAAAgAAAAAAgAAAgAAAAABAAAEAAAAAAEAAAgAAAAAAgAAAgAAAAABAAAKAAAAAAEAAAQAAAAAAQAAAAAAAAABAAACAAAAAAEAAAoAAAAAAQAABAAAAAABAAAAAAAAAAEAAAIAAAAAAQAABgAAAAABAAACAAAAAAEAAAgAAAAAAgAAAgAAAAABAAAKAAAAAAEAAAQAAAAAAQAAAAAAAAABAAACAAAAAAEAAAoAAAAAAQAABAAAAAABAAAAAAAAAAEAAAIAAAAAAQAACgAAAAABAAAEAAAAAAEAAAAAAAAAAQAAAgAAAAABAAAKAAAAAAEAAAQAAAAAAQAAAAAAAAABAAACAAAAAAEAAAYAAAAAAQAAAgAAAAABAAAIAAAAAAIAAAIAAAAAAQAACAAAAAACAAACAAAAAAEAAAoAAAAAAQAABAAAAAABAAAAAAAAAAEAAAIAAAAAAQAACgAAAAABAAAEAAAAAAEAAAAAAAAAAQAAAgAAAAABAAAKAAAAAAEAAAQAAAAAAQAAAAAAAAABAAACAAAAAAEAAAoAAAAAAQAABAAAAAABAAAAAAAAAAEAAAIAAAAAAQAACgAAAAABAAAEAAAAAAEAAAAAAAAAAQAAAgAAAAABAAAKAAAAAAEAAAQAAAAAAQAAAAAAAAABAAACAAAAAAEAAAoAAAAAAQAABAAAAAABAAAAAAAAAAEAAAIAAAAAAQAACgAAAAABAAAEAAAAAAEAAAAAAAAAAQAAAgAAAAABAAAKAAAAAAEAAAQAAAAAAQAAAAAAAAABAAACAAAAAAEAAAoAAAAAAQAABAAAAAABAAAAAAAAAAEAAAIAAAAAAQAACgAAAAABAAAEAAAAAAEAAAAAAAAAAQAAAgAAAAABAAAGAAAAAAEAAAIAAAAAAQAACgAAAAABAAAEAAAAAAEAAAAAAAAAAQAAAgAAAAABAAAKAAAAAAEAAAQAAAAAAQAAAAAAAAABAAACAAAAAAEAAAYAAAAAAQAAAgAAAAABAAAGAAAAAAEAAAIAAAAAAQAACgAAAAABAAAEAAAAAAEAAAAAAAAAAQAAAgAAAAABAAAEAAAAAAEAAAoAAAAAAQAABAAAAAABAAAAAAAAAAEAAAIAAAAAAQAACgAAAAABAAAEAAAAAAEAAAAAAAAAAQAAAgAAAAABAAAGAAAAAAEAAAIAAAAAAQAACgAAAAABAAAEAAAAAAEAAAAAAAAAAQAAAgAAAAABAAAKAAAAAAEAAAQAAAAAAQAAAAAAAAABAAACAAAAAAEAAAgAAAAAAgAAAgAAAAABAAAKAAAAAAEAAAQAAAAAAQAAAAAAAAABAAACAAAAAAIAAAQAAAAAAQAABgAAAAABAAACAAAAAAEAAAYAAAAAAQAAAgAAAAADAAAEAAAAAAEAAAgAAAAAAgAAAgAAAAABAAAIAAAAAAIAAAIAAAAAAQAACgAAAAABAAAEAAAAAAEAAAAAAAAAAQAAAgAAAAABAAAKAAAAAAEAAAQAAAAAAQAAAAAAAAABAAACAAAAAAEAAAoAAAAAAQAABAAAAAABAAAAAAAAAAEAAAIAAAAAAQAABAAAAAABAAAGAAAAAAEAAAIAAAAAAQAACgAAAAABAAAEAAAAAAEAAAAAAAAAAQAAAgAAAAABAAAIAAAAAAIAAAIAAAAAAgAABAAAAAABAAAGAAAAAAEAAAIAAAAAAQAABAAAAAABAAAKAAAAAAEAAAQAAAAAAQAAAAAAAAABAAACAAAAAAEAAAoAAAAAAQAABAAAAAABAAAAAAAAAAEAAAIAAAAAAQAACgAAAAABAAAEAAAAAAEAAAAAAAAAAQAAAgAAAAABAAAIAAAAAAIAAAIAAAAAAQAABAAAAAABAAAKAAAAAAEAAAQAAAAAAQAAAAAAAAABAAACAAAAAAEAAAoAAAAAAQAABAAAAAABAAAAAAAAAAEAAAIAAAAAAQAABgAAAAABAAACAAAAAAEAAAYAAAAAAQAAAgAAAAABAAAEAAAAAAEAAAYAAAAAAQAAAgAAAAADAAAEAAAAAAEAAAgAAAAAAgAAAgAAAAABAAAGAAAAAAEAAAIAAAAAAQAABgAAAAABAAACAAAAAAMAAAQAAAAAAQAACgAAAAABAAAEAAAAAAEAAAAAAAAAAQAAAgAAAAABAAAEAAAAAAEAAAoAAAAAAQAABAAAAAABAAAAAAAAAAEAAAIAAAAAAQAABgAAAAABAAACAAAAAAEAAAQAAAAAAQAABgAAAAABAAACAAAAAAEAAAYAAAAAAQAAAgAAAAABAAAGAAAAAAEAAAIAAAAAAQAABgAAAAABAAACAAAAAAEAAAYAAAAAAQAAAgAAAAABAAAEAAAAAAEAAAoAAAAAAQAABAAAAAABAAAAAAAAAAEAAAIAAAAAAQAACgAAAAABAAAEAAAAAAEAAAAAAAAAAQAAAgAAAAABAAAKAAAAAAEAAAQAAAAAAQAAAAAAAAABAAACAAAAAAEAAAoAAAAAAQAABAAAAAABAAAAAAAAAAEAAAIAAAAAAQAABgAAAAABAAACAAAAAAEAAAoAAAAAAQAABAAAAAABAAAAAAAAAAEAAAIAAAAAAQAABgAAAAABAAACAAAAAAEAAAgAAAAAAgAAAgAAAAABAAAIAAAAAAIAAAIAAAAAAQAACAAAAAACAAACAAAAAAEAAAoAAAAAAQAABAAAAAABAAAAAAAAAAEAAAIAAAAAAQAACgAAAAABAAAEAAAAAAEAAAAAAAAAAQAAAgAAAAABAAAKAAAAAAEAAAQAAAAAAQAAAAAAAAABAAACAAAAAAEAAAoAAAAAAQAABAAAAAABAAAAAAAAAAEAAAIAAAAAAQAABgAAAAABAAACAAAAAAEAAAgAAAAAAgAAAgAAAAABAAAIAAAAAAIAAAIAAAAAAwAABAAAAAABAAAGAAAAAAEAAAIAAAAAAQAABAAAAAABAAAGAAAAAAEAAAIAAAAAAQAACgAAAAABAAAEAAAAAAEAAAAAAAAAAQAAAgAAAAABAAAKAAAAAAEAAAQAAAAAAQAAAAAAAAABAAACAAAAAAEAAAoAAAAAAQAABAAAAAABAAAAAAAAAAEAAAIAAAAAAQAACgAAAAABAAAEAAAAAAEAAAAAAAAAAQAAAgAAAAABAAAGAAAAAAEAAAIAAAAAAQAABgAAAAABAAACAAAAAAIAAAQAAAAAAQAACAAAAAACAAACAAAAAAEAAAgAAAAAAgAAAgAAAAAEAAAEAAAAAAEAAAYAAAAAAQAAAgAAAAAEAAAEAAAAAAEAAAYAAAAAAQAAAgAAAAABAAAGAAAAAAEAAAIAAAAAAwAABAAAAAABAAAGAAAAAAEAAAIAAAAAAQAACgAAAAABAAAEAAAAAAEAAAAAAAAAAQAAAgAAAAABAAAGAAAAAAEAAAIAAAAAAQAACgAAAAABAAAEAAAAAAEAAAAAAAAAAQAAAgAAAAABAAAIAAAAAAIAAAIAAAAAAQAACgAAAAABAAAEAAAAAAEAAAAAAAAAAQAAAgAAAAADAAAEAAAAAAEAAAYAAAAAAQAAAgAAAAAHAAAEAAAAAAEAAAgAAAAAAgAAAgAAAAABAAAKAAAAAAEAAAQAAAAAAQAAAAAAAAABAAACAAAAAAEAAAQAAAAAAQAACgAAAAABAAAEAAAAAAEAAAAAAAAAAQAAAgAAAAABAAAKAAAAAAEAAAQAAAAAAQAAAAAAAAABAAACAAAAAAEAAAYAAAAAAQAAAgAAAAABAAAIAAAAAAIAAAIAAAAAAQAABgAAAAABAAACAAAAAAEAAAYAAAAAAQAAAgAAAAABAAAGAAAAAAEAAAIAAAAAAQAABgAAAAABAAACAAAAAAYAAAQAAAAAAQAACgAAAAABAAAEAAAAAAEAAAAAAAAAAQAAAgAAAAACAAAEAAAAAAEAAAYAAAAAAQAAAgAAAAABAAAGAAAAAAEAAAIAAAAAAQAACgAAAAABAAAEAAAAAAEAAAAAAAAAAQAAAgAAAAABAAAKAAAAAAEAAAQAAAAAAQAAAAAAAAABAAACAAAAAAEAAAoAAAAAAQAABAAAAAABAAAAAAAAAAEAAAIAAAAAAQAABgAAAAABAAACAAAAAAEAAAoAAAAAAQAABAAAAAABAAAAAAAAAAEAAAIAAAAAAQAACgAAAAABAAAEAAAAAAEAAAAAAAAAAQAAAgAAAAABAAAKAAAAAAEAAAQAAAAAAQAAAAAAAAABAAACAAAAAAEAAAoAAAAAAQAABAAAAAABAAAAAAAAAAEAAAIAAAAAAQAACgAAAAABAAAEAAAAAAEAAAAAAAAAAQAAAgAAAAABAAAKAAAAAAEAAAQAAAAAAQAAAAAAAAABAAACAAAAAAEAAAoAAAAAAQAABAAAAAABAAAAAAAAAAEAAAIAAAAAAQAACgAAAAABAAAEAAAAAAEAAAAAAAAAAQAAAgAAAAABAAAKAAAAAAEAAAQAAAAAAQAAAAAAAAABAAACAAAAAAEAAAoAAAAAAQAABAAAAAABAAAAAAAAAAEAAAIAAAAAAQAABgAAAAABAAACAAAAAAEAAAoAAAAAAQAABAAAAAABAAAAAAAAAAEAAAIAAAAAAQAACgAAAAABAAAEAAAAAAEAAAAAAAAAAQAAAgAAAAABAAAKAAAAAAEAAAQAAAAAAQAAAAAAAAABAAACAAAAAAEAAAoAAAAAAQAABAAAAAABAAAAAAAAAAEAAAIAAAAAAQAACgAAAAABAAAEAAAAAAEAAAAAAAAAAQAAAgAAAAABAAAKAAAAAAEAAAQAAAAAAQAAAAAAAAABAAACAAAAAAEAAAQAAAAAAQAACAAAAAACAAACAAAAAAEAAAQAAAAAAQAABgAAAAABAAACAAAAAAMAAAQAAAAAAQAACgAAAAABAAAEAAAAAAEAAAAAAAAAAQAAAgAAAAABAAAKAAAAAAEAAAQAAAAAAQAAAAAAAAABAAACAAAAAAEAAAYAAAAAAQAAAgAAAAABAAAKAAAAAAEAAAQAAAAAAQAAAAAAAAABAAACAAAAAAEAAAoAAAAAAQAABAAAAAABAAAAAAAAAAEAAAIAAAAAAQAACgAAAAABAAAEAAAAAAEAAAAAAAAAAQAAAgAAAAABAAAKAAAAAAEAAAQAAAAAAQAAAAAAAAABAAACAAAAAAEAAAoAAAAAAQAABAAAAAABAAAAAAAAAAEAAAIAAAAAAQAACgAAAAABAAAEAAAAAAEAAAAAAAAAAQAAAgAAAAABAAAKAAAAAAEAAAQAAAAAAQAAAAAAAAABAAACAAAAAAEAAAoAAAAAAQAABAAAAAABAAAAAAAAAAEAAAIAAAAAAQAACgAAAAABAAAEAAAAAAEAAAAAAAAAAQAAAgAAAAABAAAKAAAAAAEAAAQAAAAAAQAAAAAAAAABAAACAAAAAAEAAAYAAAAAAQAAAgAAAAABAAAKAAAAAAEAAAQAAAAAAQAAAAAAAAABAAACAAAAAAEAAAYAAAAAAQAAAgAAAAABAAAKAAAAAAEAAAQAAAAAAQAAAAAAAAABAAACAAAAAAEAAAoAAAAAAQAABAAAAAABAAAAAAAAAAEAAAIAAAAAAQAACgAAAAABAAAEAAAAAAEAAAAAAAAAAQAAAgAAAAABAAAIAAAAAAIAAAIAAAAAAQAABgAAAAABAAACAAAAAAEAAAYAAAAAAQAAAgAAAAABAAAKAAAAAAEAAAQAAAAAAQAAAAAAAAABAAACAAAAAAEAAAgAAAAAAgAAAgAAAAABAAAKAAAAAAEAAAQAAAAAAQAAAAAAAAABAAACAAAAAAEAAAgAAAAAAgAAAgAAAAABAAAIAAAAAAIAAAIAAAAAAQAACAAAAAACAAACAAAAAAEAAAoAAAAAAQAABAAAAAABAAAAAAAAAAEAAAIAAAAAAQAACgAAAAABAAAEAAAAAAEAAAAAAAAAAQAAAgAAAAABAAAGAAAAAAEAAAIAAAAAAQAACAAAAAACAAACAAAAAAEAAAgAAAAAAgAAAgAAAAABAAAKAAAAAAEAAAQAAAAAAQAAAAAAAAABAAACAAAAAAEAAAgAAAAAAgAAAgAAAAABAAAGAAAAAAEAAAIAAAAAAQAABAAAAAABAAAGAAAAAAEAAAIAAAAAAQAABgAAAAABAAACAAAAABxzdHNjAAAAAAAAAAEAAAABAAAD7QAAAAEAAA/Ic3RzegAAAAAAAAAAAAAD7QAAD30AAAEDAAAAUwAAAC8AAABBAAAAugAAAEoAAABFAAABBQAAAFQAAABFAAAALAAAAQkAAABmAAAARAAAAEAAAAC2AAAANgAAAPcAAAA2AAAANQAAANwAAABFAAAAMgAAAC8AAABhAAAAKAAAAC0AAAAtAAAAhgAAACoAAAAzAAAAIwAAAN8AAABaAAAAMgAAACwAAAEdAAAAXgAAADsAAAD/AAAAUwAAACsAAAA0AAAAYwAAACIAAAAgAAAAfgAAAEEAAAAoAAAAKQAAACsAAAA0AAAAGgAAACAAAAC5AAAAQwAAACQAAAA9AAAAxQAAAE0AAAAuAAAAtgAAAFUAAAAjAAAAIgAAAIkAAABGAAAAJQAAAB0AAADjAAAAPQAAACAAAACNAAAANgAAACUAAAAdAAABCQAAAFoAAABFAAAAJwAAAK0AAABIAAAAJgAAADkAAAAjAAAARAAAAB0AAACsAAAAaAAAADcAAAA9AAAA5AAAAHIAAAA+AAAASQAAAPIAAAB3AAAAPwAAAE8AAACtAAAA6wAAAGAAAAC9AAAA5gAAAFMAAABOAAAA6gAAAFUAAAA8AAAA9AAAAFIAAABEAAAAQgAAAJIAAABMAAAALQAAACoAAAB3AAAAJAAAABkAAAA3AAAAaQAAAFIAAAAhAAAAMgAAAMoAAABOAAAAQwAAADMAAADDAAAATAAAAPcAAABqAAAASAAAAFQAAACdAAAARQAAAN0AAABQAAAASAAAANIAAABvAAAAYAAAAEwAAADpAAAAVgAAAQMAAABTAAAA4gAAAGIAAABUAAABFgAAAGcAAABCAAAARwAAAOwAAAB6AAAAQAAAAFMAAABhAAAAJQAAAEYAAABJAAAAhgAAALQAAABKAAAAQAAAAE8AAADOAAAAUwAAALwAAAE2AAAAhQAAAFgAAABTAAAAvgAAAGwAAABlAAABAAAAAHgAAABgAAAArQAAAOsAAABKAAABFgAAAG0AAABLAAABAAAAAGAAAABIAAAARwAAAKUAAABZAAAAPgAAADAAAABOAAAAIwAAAB4AAAAWAAAB+AAAAGgAAABEAAAAPgAAAJ8AAAAyAAAAKgAAAOsAAAA1AAAANgAAALUAAABIAAAAIwAAACUAAABfAAAAIAAAABYAAAAbAAAAzAAAAEwAAAA4AAAALAAAAIQAAAAsAAAAHgAAABwAAACCAAAAMwAAAB8AAAAeAAABHAAAAFoAAAAjAAAASwAAAM0AAABHAAAAIwAAAD4AAAD5AAAAQgAAADAAAAAkAAAAHAAAACYAAAAaAAAARwAAABwAAAAcAAAANAAAABoAAA6rAAAAlwAAACsAAAAbAAAALwAAAM8AAABOAAAAIgAAADIAAADpAAAAbgAAADIAAAA5AAABEwAAAGEAAAA8AAAATwAAARYAAABWAAAAPAAAADgAAAD6AAAASQAAAEAAAAAhAAAAcQAAAEEAAAArAAAAHwAAAFYAAAAfAAAAGAAAABUAAABXAAAAOwAAAB4AAAAqAAAAqgAAADYAAAAzAAAAKgAAAOoAAABOAAAAPQAAAEIAAACpAAAANAAAADkAAADLAAAAYQAAADsAAAA9AAABHQAAAF4AAABAAAAAPAAAAPgAAABaAAAAPQAAACUAAABbAAAAMQAAAC0AAAAdAAAAkAAAADsAAAAaAAAAHAAAAFMAAAAkAAAAKgAAAC0AAADxAAAAVwAAAD8AAAAwAAAA9QAAAGQAAABFAAAAPAAAAOUAAABbAAAARAAAAPgAAABoAAAAKAAAAEAAAAD9AAAAXAAAADsAAAA6AAAA6AAAAFgAAABRAAAALQAAANUAAABRAAAAJgAAACwAAAAeAAAAWQAAACUAAAAlAAAAkAAAADQAAAAlAAAAHgAAAIYAAAA+AAAAJwAAAC0AAADQAAAAQgAAAFIAAAC2AAAA6AAAAFcAAABCAAAA2QAAAGQAAABKAAAAPAAAAQ8AAAB9AAAARwAAAE0AAADsAAAARQAAAQoAAABxAAAAVwAAASEAAABiAAAAQwAAADUAAADuAAAAYAAAAEcAAABYAAAArQAAAC4AAAA9AAAAOQAAAFcAAAA4AAAAHQAAAEIAAACYAAAARgAAAMQAAABIAAAAPwAAAb8AAAAkAAAAGwAAAI0AAAA/AAAAIQAAACEAAAB6AAAAIgAAABcAAAAbAAAAjgAAACkAAAAdAAAAHgAAAB0AAAAcAAAAGQAAAEIAAABgAAAAIQAAABgAAAAcAAAAoQAAACkAAAAcAAAAMAAAAHkAAAAgAAAAHQAAABsAAACjAAAAKAAAACUAAAAdAAAAaAAAACAAAAAcAAAAGwAAAJEAAAAqAAAAHgAAAB8AAACQAAAANgAAAD8AAAA0AAAAsQAAACcAAABeAAAAQAAAADwAAAAfAAAApwAAAFYAAAA0AAAAPAAAAJgAAAA/AAAA0AAAAEkAAAEeAAAAYwAAADoAAABNAAAArgAAAOcAAABeAAAAQwAAAEwAAAEXAAAAYQAAAE4AAAA6AAAAzAAAADEAAAB4AAAATgAAADYAAAAdAAAAtQAAAD4AAAA5AAAATgAAAM4AAABNAAAAVAAAARYAAABuAAAAWgAAAEgAAAC+AAAAtAAAAOcAAABQAAAA9wAAAF0AAADaAAAOWwAAAKoAAAENAAAAcAAAAE8AAADZAAAARAAAAFEAAADuAAAAYwAAAEkAAABFAAAAXgAAAE8AAAA2AAAAOAAAAMAAAAA4AAAANQAAAEUAAACjAAAA3gAAAEMAAAEqAAAAhAAAAFEAAABnAAAA/wAAAIAAAABfAAAA4gAAAOEAAAEiAAAAZAAAAKgAAAE9AAAAWQAAAEkAAAAzAAABEAAAAFkAAABFAAAAOQAAAHkAAABBAAAAHQAAAB4AAACQAAAAOgAAAD4AAACeAAABAQAAAGsAAABEAAAAOgAAARcAAAB5AAAAWAAAAG4AAADsAAAAVgAAANQAAABaAAAAkwAAAPkAAABjAAAAmQAAAMkAAACzAAABJAAAAGUAAABRAAABBwAAAFUAAAEcAAAAQQAAAK4AAACSAAAAnAAAAOkAAABdAAAAUAAAAEUAAAB6AAAAWAAAAEoAAAAZAAAAPgAAALEAAABDAAAAkQAAAPAAAABGAAAA/AAAAFAAAAEHAAAAZwAAAQkAAABcAAABCwAAAGsAAAEUAAABQQAAAEMAAAByAAAAHwAAAIoAAABBAAAAMAAAAC8AAADRAAAAZwAAAEkAAAAvAAAA+wAAAIgAAABJAAAATwAAAOYAAABaAAABJgAAAGQAAABaAAAAXQAAAOgAAABKAAABGAAAAG4AAABWAAAA2AAAAF4AAABOAAAA/QAAAFcAAABIAAAA4QAAADYAAABAAAAARAAAAJIAAAAlAAAAIAAAABsAAABzAAAAQwAAAB4AAAA+AAAA2wAAAGkAAABXAAAAVwAAANoAAABRAAABJAAAAHAAAABVAAABDgAAAG8AAABWAAAAqAAAAKYAAACvAAABHQAAAGoAAAC6AAABEwAAAGcAAAFKAAAAnQAAAF0AAABKAAABOQAAAI8AAABJAAAASwAAASAAAABuAAAATQAAADkAAAB9AAAAZwAAACgAAAAdAAAAYgAAACMAAACgAAAAMAAAAJoAAACHAAABFAAAAGgAAABeAAABGQAAAHgAAABSAAAAqQAAAOAAAACTAAAA0AAAAK8AAABgAAAAogAAAMgAAADfAAAAsAAAASEAAABmAAABHwAAAFoAAADaAAAAkAAAAL0AAADmAAAAZAAAANIAAABRAAAATQAAAFAAAAAlAAAASwAAAMEAAAA8AAAAMQAAAE8AAADIAAAAVQAAAF0AAAEuAAAAnQAAAFwAAABkAAAAwwAAAL0AAADVAAAA9QAAAGEAAAC0AAAAzQAAALsAAADIAAAAvAAAAQ8AAADCAAABSgAAAHAAAABLAAABTAAAAHgAAABBAAAANgAADmkAAADMAAAATgAAAEcAAAA/AAAATwAAAEIAAAA3AAAATQAAALYAAAA1AAAA4AAAAGEAAABWAAABAgAAAFEAAAEHAAAATgAAAOIAAABhAAAA7gAAAFgAAACyAAAAxgAAALMAAADVAAAAvwAAAL8AAAFzAAAAhQAAAFkAAABgAAAAzwAAAKgAAADrAAAASwAAANsAAABcAAAArAAAAE8AAABDAAAAKwAAAC0AAABLAAAANAAAAEkAAAD/AAAAbwAAAFEAAAA/AAAA4gAAAFMAAAIBAAAAkQAAAFoAAAAyAAAAowAAADUAAAAnAAAAIwAAAEwAAAAoAAAAHQAAACAAAAC7AAAAPAAAACYAAAA2AAABAgAAAH4AAAA+AAAAOQAAAPIAAABhAAAAPgAAAD0AAACtAAAATgAAACoAAAArAAAAvAAAAFYAAAAqAAAAKgAAAOEAAABLAAAAJwAAAC4AAADZAAAAXQAAACwAAAA2AAAA8AAAAEEAAAD+AAAAVQAAAEEAAAAuAAAA0gAAAD8AAAAoAAAAHwAAAEcAAAAlAAAAKQAAAB8AAAA/AAAAIwAAAB8AAAAYAAAAJwAAACAAAAAfAAAAIAAAAKcAAABIAAAAIgAAADAAAAB9AAAAvAAAAE0AAAAzAAAAbwAAALsAAAA8AAAAcAAAAJkAAACzAAAAiQAAAC4AAAAdAAAAHQAAAHUAAAAiAAAAHQAAABYAAABgAAAAKgAAAMIAAABXAAAAJwAAAB0AAACCAAAAJgAAABkAAAAqAAAA4QAAADoAAAAfAAAAJAAAAMMAAABUAAAAMgAAACAAAABbAAAAJAAAABcAAAAeAAAAHQAAAEwAAAAdAAAAOQAAALcAAABSAAAAKQAAACoAAAC+AAAASgAAACcAAAAnAAAAogAAACkAAAAhAAAAIQAAAJ4AAAAoAAAAIQAAABwAAAAhAAAAHwAAAJ8AAAA1AAAAKwAAACsAAADtAAAANwAAAOgAAABYAAAAJQAAAD4AAADOAAAANgAAACkAAAAgAAAASgAAADEAAAAcAAAAQAAAAFUAAAAjAAAAMQAAAHAAAAAwAAAAoAAAAD0AAADSAAAATAAAADAAAABFAAAA2AAAAGYAAAA3AAABDAAAAHMAAABNAAAAQQAAAPMAAABaAAAAQQAAANMAAABNAAAAPAAAAOwAAABaAAAARwAAAMYAAAAsAAAARAAAAEsAAACiAAAAUQAAADYAAABTAAAAuAAAAE8AAACnAAAAWAAAAEYAAADxAAAAWgAAAEoAAADVAAAAawAAAE8AAABKAAAA7AAAAGsAAABnAAAA0gAAAFAAAAtwAAAAngAAAE4AAABwAAAASwAAABRzdGNvAAAAAAAAAAEAAAAwAAAAYnVkdGEAAABabWV0YQAAAAAAAAAhaGRscgAAAAAAAAAAbWRpcmFwcGwAAAAAAAAAAAAAAAAtaWxzdAAAACWpdG9vAAAAHWRhdGEAAAABAAAAAExhdmY1OC43Ni4xMDA=\" type=\"video/mp4\">\n",
       "  Your browser does not support the video tag.\n",
       "  </video>"
      ],
      "text/plain": [
       "<IPython.core.display.HTML object>"
      ]
     },
     "execution_count": 36,
     "metadata": {},
     "output_type": "execute_result"
    }
   ],
   "source": [
    "create_policy_eval_video(random_policy, \"random-agent\")"
   ]
  },
  {
   "cell_type": "code",
   "execution_count": null,
   "id": "c0e19b12",
   "metadata": {
    "papermill": {
     "duration": 0.066974,
     "end_time": "2025-02-27T21:49:05.554466",
     "exception": false,
     "start_time": "2025-02-27T21:49:05.487492",
     "status": "completed"
    },
    "tags": []
   },
   "outputs": [],
   "source": []
  }
 ],
 "metadata": {
  "kaggle": {
   "accelerator": "gpu",
   "dataSources": [],
   "dockerImageVersionId": 30919,
   "isGpuEnabled": true,
   "isInternetEnabled": true,
   "language": "python",
   "sourceType": "notebook"
  },
  "kernelspec": {
   "display_name": "Python 3",
   "language": "python",
   "name": "python3"
  },
  "language_info": {
   "codemirror_mode": {
    "name": "ipython",
    "version": 3
   },
   "file_extension": ".py",
   "mimetype": "text/x-python",
   "name": "python",
   "nbconvert_exporter": "python",
   "pygments_lexer": "ipython3",
   "version": "3.10.12"
  },
  "papermill": {
   "default_parameters": {},
   "duration": 3128.857727,
   "end_time": "2025-02-27T21:49:06.342910",
   "environment_variables": {},
   "exception": null,
   "input_path": "__notebook__.ipynb",
   "output_path": "__notebook__.ipynb",
   "parameters": {},
   "start_time": "2025-02-27T20:56:57.485183",
   "version": "2.4.0"
  }
 },
 "nbformat": 4,
 "nbformat_minor": 5
}
