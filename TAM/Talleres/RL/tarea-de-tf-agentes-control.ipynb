{
 "cells": [
  {
   "cell_type": "markdown",
   "id": "425556a8",
   "metadata": {
    "id": "klGNgWREsvQv",
    "papermill": {
     "duration": 0.010115,
     "end_time": "2025-02-25T03:20:49.464489",
     "exception": false,
     "start_time": "2025-02-25T03:20:49.454374",
     "status": "completed"
    },
    "tags": []
   },
   "source": [
    "##### Copyright 2023 The TF-Agents Authors."
   ]
  },
  {
   "cell_type": "code",
   "execution_count": 1,
   "id": "808193b9",
   "metadata": {
    "cellView": "form",
    "execution": {
     "iopub.execute_input": "2025-02-25T03:20:49.484338Z",
     "iopub.status.busy": "2025-02-25T03:20:49.484066Z",
     "iopub.status.idle": "2025-02-25T03:20:49.488095Z",
     "shell.execute_reply": "2025-02-25T03:20:49.487446Z"
    },
    "id": "nQnmcm0oI1Q-",
    "papermill": {
     "duration": 0.015197,
     "end_time": "2025-02-25T03:20:49.489189",
     "exception": false,
     "start_time": "2025-02-25T03:20:49.473992",
     "status": "completed"
    },
    "tags": []
   },
   "outputs": [],
   "source": [
    "#@title Licensed under the Apache License, Version 2.0 (the \"License\");\n",
    "# you may not use this file except in compliance with the License.\n",
    "# You may obtain a copy of the License at\n",
    "#\n",
    "# https://www.apache.org/licenses/LICENSE-2.0\n",
    "#\n",
    "# Unless required by applicable law or agreed to in writing, software\n",
    "# distributed under the License is distributed on an \"AS IS\" BASIS,\n",
    "# WITHOUT WARRANTIES OR CONDITIONS OF ANY KIND, either express or implied.\n",
    "# See the License for the specific language governing permissions and\n",
    "# limitations under the License."
   ]
  },
  {
   "cell_type": "markdown",
   "id": "ef8f8d57",
   "metadata": {
    "id": "pmDI-h7cI0tI",
    "papermill": {
     "duration": 0.008754,
     "end_time": "2025-02-25T03:20:49.507319",
     "exception": false,
     "start_time": "2025-02-25T03:20:49.498565",
     "status": "completed"
    },
    "tags": []
   },
   "source": [
    "# Train a Deep Q Network with TF-Agents\n",
    "\n",
    "<table class=\"tfo-notebook-buttons\" align=\"left\">\n",
    "  <td>\n",
    "    <a target=\"_blank\" href=\"https://www.tensorflow.org/agents/tutorials/1_dqn_tutorial\">\n",
    "    <img src=\"https://www.tensorflow.org/images/tf_logo_32px.png\" />\n",
    "    View on TensorFlow.org</a>\n",
    "  </td>\n",
    "  <td>\n",
    "    <a target=\"_blank\" href=\"https://colab.research.google.com/github/tensorflow/agents/blob/master/docs/tutorials/1_dqn_tutorial.ipynb\">\n",
    "    <img src=\"https://www.tensorflow.org/images/colab_logo_32px.png\" />\n",
    "    Run in Google Colab</a>\n",
    "  </td>\n",
    "  <td>\n",
    "    <a target=\"_blank\" href=\"https://github.com/tensorflow/agents/blob/master/docs/tutorials/1_dqn_tutorial.ipynb\">\n",
    "    <img src=\"https://www.tensorflow.org/images/GitHub-Mark-32px.png\" />\n",
    "    View source on GitHub</a>\n",
    "  </td>\n",
    "  <td>\n",
    "    <a href=\"https://storage.googleapis.com/tensorflow_docs/agents/docs/tutorials/1_dqn_tutorial.ipynb\"><img src=\"https://www.tensorflow.org/images/download_logo_32px.png\" />Download notebook</a>\n",
    "  </td>\n",
    "</table>"
   ]
  },
  {
   "cell_type": "markdown",
   "id": "8f3b39e4",
   "metadata": {
    "id": "lsaQlK8fFQqH",
    "papermill": {
     "duration": 0.008869,
     "end_time": "2025-02-25T03:20:49.525449",
     "exception": false,
     "start_time": "2025-02-25T03:20:49.516580",
     "status": "completed"
    },
    "tags": []
   },
   "source": [
    "## Introduction\n"
   ]
  },
  {
   "cell_type": "markdown",
   "id": "e0e23470",
   "metadata": {
    "id": "cKOCZlhUgXVK",
    "papermill": {
     "duration": 0.009077,
     "end_time": "2025-02-25T03:20:49.543530",
     "exception": false,
     "start_time": "2025-02-25T03:20:49.534453",
     "status": "completed"
    },
    "tags": []
   },
   "source": [
    "This example shows how to train a [DQN (Deep Q Networks)](https://storage.googleapis.com/deepmind-media/dqn/DQNNaturePaper.pdf)  agent on the Cartpole environment using the TF-Agents library.\n",
    "\n",
    "![Cartpole environment](https://raw.githubusercontent.com/tensorflow/agents/master/docs/tutorials/images/cartpole.png)\n",
    "\n",
    "It will walk you through all the components in a Reinforcement Learning (RL) pipeline for training, evaluation and data collection.\n",
    "\n",
    "\n",
    "To run this code live, click the 'Run in Google Colab' link above.\n"
   ]
  },
  {
   "cell_type": "markdown",
   "id": "9debee2f",
   "metadata": {
    "id": "1u9QVVsShC9X",
    "papermill": {
     "duration": 0.008682,
     "end_time": "2025-02-25T03:20:49.561099",
     "exception": false,
     "start_time": "2025-02-25T03:20:49.552417",
     "status": "completed"
    },
    "tags": []
   },
   "source": [
    "## Setup"
   ]
  },
  {
   "cell_type": "markdown",
   "id": "e84ef321",
   "metadata": {
    "id": "kNrNXKI7bINP",
    "papermill": {
     "duration": 0.00863,
     "end_time": "2025-02-25T03:20:49.578959",
     "exception": false,
     "start_time": "2025-02-25T03:20:49.570329",
     "status": "completed"
    },
    "tags": []
   },
   "source": [
    "If you haven't installed the following dependencies, run:"
   ]
  },
  {
   "cell_type": "code",
   "execution_count": 2,
   "id": "0c190967",
   "metadata": {
    "execution": {
     "iopub.execute_input": "2025-02-25T03:20:49.597650Z",
     "iopub.status.busy": "2025-02-25T03:20:49.597317Z",
     "iopub.status.idle": "2025-02-25T03:22:44.288334Z",
     "shell.execute_reply": "2025-02-25T03:22:44.287410Z"
    },
    "id": "KEHR2Ui-lo8O",
    "papermill": {
     "duration": 114.702257,
     "end_time": "2025-02-25T03:22:44.290077",
     "exception": false,
     "start_time": "2025-02-25T03:20:49.587820",
     "status": "completed"
    },
    "tags": []
   },
   "outputs": [
    {
     "name": "stdout",
     "output_type": "stream",
     "text": [
      "Get:1 https://cloud.r-project.org/bin/linux/ubuntu jammy-cran40/ InRelease [3,632 B]\r\n",
      "Get:2 http://security.ubuntu.com/ubuntu jammy-security InRelease [129 kB]\r\n",
      "Get:3 https://developer.download.nvidia.com/compute/cuda/repos/ubuntu2204/x86_64  InRelease [1,581 B]\r\n",
      "Hit:4 http://archive.ubuntu.com/ubuntu jammy InRelease\r\n",
      "Get:5 https://r2u.stat.illinois.edu/ubuntu jammy InRelease [6,555 B]\r\n",
      "Get:6 https://developer.download.nvidia.com/compute/cuda/repos/ubuntu2204/x86_64  Packages [1,318 kB]\r\n",
      "Get:7 http://archive.ubuntu.com/ubuntu jammy-updates InRelease [128 kB]\r\n",
      "Hit:8 https://ppa.launchpadcontent.net/deadsnakes/ppa/ubuntu jammy InRelease\r\n",
      "Get:9 https://r2u.stat.illinois.edu/ubuntu jammy/main amd64 Packages [2,659 kB]\r\n",
      "Hit:10 https://ppa.launchpadcontent.net/graphics-drivers/ppa/ubuntu jammy InRelease\r\n",
      "Get:11 http://security.ubuntu.com/ubuntu jammy-security/main amd64 Packages [2,634 kB]\r\n",
      "Hit:12 https://ppa.launchpadcontent.net/ubuntugis/ppa/ubuntu jammy InRelease\r\n",
      "Get:13 http://archive.ubuntu.com/ubuntu jammy-backports InRelease [127 kB]\r\n",
      "Get:14 https://r2u.stat.illinois.edu/ubuntu jammy/main all Packages [8,696 kB]\r\n",
      "Get:15 http://security.ubuntu.com/ubuntu jammy-security/universe amd64 Packages [1,230 kB]\r\n",
      "Get:16 http://security.ubuntu.com/ubuntu jammy-security/restricted amd64 Packages [3,657 kB]\r\n",
      "Get:17 http://archive.ubuntu.com/ubuntu jammy-updates/main amd64 Packages [2,939 kB]\r\n",
      "Get:18 http://archive.ubuntu.com/ubuntu jammy-updates/restricted amd64 Packages [3,793 kB]\r\n",
      "Get:19 http://archive.ubuntu.com/ubuntu jammy-updates/universe amd64 Packages [1,526 kB]\r\n",
      "Get:20 http://archive.ubuntu.com/ubuntu jammy-backports/universe amd64 Packages [35.2 kB]\r\n",
      "Fetched 28.9 MB in 3s (11.5 MB/s)\r\n",
      "\r\n",
      "W: Skipping acquire of configured file 'main/source/Sources' as repository 'https://r2u.stat.illinois.edu/ubuntu jammy InRelease' does not seem to provide it (sources.list entry misspelt?)\r\n",
      "\r\n",
      "\r\n",
      "\r\n",
      "ffmpeg is already the newest version (7:4.4.2-0ubuntu0.22.04.1).\r\n",
      "xvfb is already the newest version (2:21.1.4-2ubuntu1.7~22.04.12).\r\n",
      "The following additional packages will be installed:\r\n",
      "  freeglut3 libegl-dev libgl-dev libgl1-mesa-dev libgles-dev libgles1\r\n",
      "  libglu1-mesa libglu1-mesa-dev libglvnd-core-dev libglvnd-dev libglx-dev\r\n",
      "  libopengl-dev\r\n",
      "The following NEW packages will be installed:\r\n",
      "  freeglut3 freeglut3-dev libegl-dev libgl-dev libgl1-mesa-dev libgles-dev\r\n",
      "  libgles1 libglu1-mesa libglu1-mesa-dev libglvnd-core-dev libglvnd-dev\r\n",
      "  libglx-dev libopengl-dev\r\n",
      "0 upgraded, 13 newly installed, 0 to remove and 137 not upgraded.\r\n",
      "Need to get 796 kB of archives.\r\n",
      "After this operation, 5,035 kB of additional disk space will be used.\r\n",
      "Get:1 http://archive.ubuntu.com/ubuntu jammy/universe amd64 freeglut3 amd64 2.8.1-6 [74.0 kB]\r\n",
      "Get:2 http://archive.ubuntu.com/ubuntu jammy/main amd64 libglx-dev amd64 1.4.0-1 [14.1 kB]\r\n",
      "Get:3 http://archive.ubuntu.com/ubuntu jammy/main amd64 libgl-dev amd64 1.4.0-1 [101 kB]\r\n",
      "Get:4 http://archive.ubuntu.com/ubuntu jammy/main amd64 libglvnd-core-dev amd64 1.4.0-1 [12.7 kB]\r\n",
      "Get:5 http://archive.ubuntu.com/ubuntu jammy/main amd64 libegl-dev amd64 1.4.0-1 [18.0 kB]\r\n",
      "Get:6 http://archive.ubuntu.com/ubuntu jammy/main amd64 libgles1 amd64 1.4.0-1 [11.5 kB]\r\n",
      "Get:7 http://archive.ubuntu.com/ubuntu jammy/main amd64 libgles-dev amd64 1.4.0-1 [49.4 kB]\r\n",
      "Get:8 http://archive.ubuntu.com/ubuntu jammy/main amd64 libopengl-dev amd64 1.4.0-1 [3,400 B]\r\n",
      "Get:9 http://archive.ubuntu.com/ubuntu jammy/main amd64 libglvnd-dev amd64 1.4.0-1 [3,162 B]\r\n",
      "Get:10 http://archive.ubuntu.com/ubuntu jammy-updates/main amd64 libgl1-mesa-dev amd64 23.2.1-1ubuntu3.1~22.04.3 [6,848 B]\r\n",
      "Get:11 http://archive.ubuntu.com/ubuntu jammy/main amd64 libglu1-mesa amd64 9.0.2-1 [145 kB]\r\n",
      "Get:12 http://archive.ubuntu.com/ubuntu jammy/main amd64 libglu1-mesa-dev amd64 9.0.2-1 [231 kB]\r\n",
      "Get:13 http://archive.ubuntu.com/ubuntu jammy/universe amd64 freeglut3-dev amd64 2.8.1-6 [126 kB]\r\n",
      "Fetched 796 kB in 1s (621 kB/s)\r\n",
      "debconf: unable to initialize frontend: Dialog\r\n",
      "debconf: (No usable dialog-like program is installed, so the dialog based frontend cannot be used. at /usr/share/perl5/Debconf/FrontEnd/Dialog.pm line 78, <> line 13.)\r\n",
      "debconf: falling back to frontend: Readline\r\n",
      "Selecting previously unselected package freeglut3:amd64.\r\n",
      "(Reading database ... 127400 files and directories currently installed.)\r\n",
      "Preparing to unpack .../00-freeglut3_2.8.1-6_amd64.deb ...\r\n",
      "Unpacking freeglut3:amd64 (2.8.1-6) ...\r\n",
      "Selecting previously unselected package libglx-dev:amd64.\r\n",
      "Preparing to unpack .../01-libglx-dev_1.4.0-1_amd64.deb ...\r\n",
      "Unpacking libglx-dev:amd64 (1.4.0-1) ...\r\n",
      "Selecting previously unselected package libgl-dev:amd64.\r\n",
      "Preparing to unpack .../02-libgl-dev_1.4.0-1_amd64.deb ...\r\n",
      "Unpacking libgl-dev:amd64 (1.4.0-1) ...\r\n",
      "Selecting previously unselected package libglvnd-core-dev:amd64.\r\n",
      "Preparing to unpack .../03-libglvnd-core-dev_1.4.0-1_amd64.deb ...\r\n",
      "Unpacking libglvnd-core-dev:amd64 (1.4.0-1) ...\r\n",
      "Selecting previously unselected package libegl-dev:amd64.\r\n",
      "Preparing to unpack .../04-libegl-dev_1.4.0-1_amd64.deb ...\r\n",
      "Unpacking libegl-dev:amd64 (1.4.0-1) ...\r\n",
      "Selecting previously unselected package libgles1:amd64.\r\n",
      "Preparing to unpack .../05-libgles1_1.4.0-1_amd64.deb ...\r\n",
      "Unpacking libgles1:amd64 (1.4.0-1) ...\r\n",
      "Selecting previously unselected package libgles-dev:amd64.\r\n",
      "Preparing to unpack .../06-libgles-dev_1.4.0-1_amd64.deb ...\r\n",
      "Unpacking libgles-dev:amd64 (1.4.0-1) ...\r\n",
      "Selecting previously unselected package libopengl-dev:amd64.\r\n",
      "Preparing to unpack .../07-libopengl-dev_1.4.0-1_amd64.deb ...\r\n",
      "Unpacking libopengl-dev:amd64 (1.4.0-1) ...\r\n",
      "Selecting previously unselected package libglvnd-dev:amd64.\r\n",
      "Preparing to unpack .../08-libglvnd-dev_1.4.0-1_amd64.deb ...\r\n",
      "Unpacking libglvnd-dev:amd64 (1.4.0-1) ...\r\n",
      "Selecting previously unselected package libgl1-mesa-dev:amd64.\r\n",
      "Preparing to unpack .../09-libgl1-mesa-dev_23.2.1-1ubuntu3.1~22.04.3_amd64.deb ...\r\n",
      "Unpacking libgl1-mesa-dev:amd64 (23.2.1-1ubuntu3.1~22.04.3) ...\r\n",
      "Selecting previously unselected package libglu1-mesa:amd64.\r\n",
      "Preparing to unpack .../10-libglu1-mesa_9.0.2-1_amd64.deb ...\r\n",
      "Unpacking libglu1-mesa:amd64 (9.0.2-1) ...\r\n",
      "Selecting previously unselected package libglu1-mesa-dev:amd64.\r\n",
      "Preparing to unpack .../11-libglu1-mesa-dev_9.0.2-1_amd64.deb ...\r\n",
      "Unpacking libglu1-mesa-dev:amd64 (9.0.2-1) ...\r\n",
      "Selecting previously unselected package freeglut3-dev:amd64.\r\n",
      "Preparing to unpack .../12-freeglut3-dev_2.8.1-6_amd64.deb ...\r\n",
      "Unpacking freeglut3-dev:amd64 (2.8.1-6) ...\r\n",
      "Setting up freeglut3:amd64 (2.8.1-6) ...\r\n",
      "Setting up libglvnd-core-dev:amd64 (1.4.0-1) ...\r\n",
      "Setting up libgles1:amd64 (1.4.0-1) ...\r\n",
      "Setting up libglx-dev:amd64 (1.4.0-1) ...\r\n",
      "Setting up libglu1-mesa:amd64 (9.0.2-1) ...\r\n",
      "Setting up libopengl-dev:amd64 (1.4.0-1) ...\r\n",
      "Setting up libgl-dev:amd64 (1.4.0-1) ...\r\n",
      "Setting up libegl-dev:amd64 (1.4.0-1) ...\r\n",
      "Setting up libglu1-mesa-dev:amd64 (9.0.2-1) ...\r\n",
      "Setting up libgles-dev:amd64 (1.4.0-1) ...\r\n",
      "Setting up libglvnd-dev:amd64 (1.4.0-1) ...\r\n",
      "Setting up libgl1-mesa-dev:amd64 (23.2.1-1ubuntu3.1~22.04.3) ...\r\n",
      "Setting up freeglut3-dev:amd64 (2.8.1-6) ...\r\n",
      "Processing triggers for libc-bin (2.35-0ubuntu3.4) ...\r\n",
      "/sbin/ldconfig.real: /usr/local/lib/libtcm.so.1 is not a symbolic link\r\n",
      "\r\n",
      "/sbin/ldconfig.real: /usr/local/lib/libumf.so.0 is not a symbolic link\r\n",
      "\r\n",
      "/sbin/ldconfig.real: /usr/local/lib/libtcm_debug.so.1 is not a symbolic link\r\n",
      "\r\n",
      "/sbin/ldconfig.real: /usr/local/lib/libhwloc.so.15 is not a symbolic link\r\n",
      "\r\n",
      "/sbin/ldconfig.real: /usr/local/lib/libur_loader.so.0 is not a symbolic link\r\n",
      "\r\n",
      "/sbin/ldconfig.real: /usr/local/lib/libur_adapter_level_zero.so.0 is not a symbolic link\r\n",
      "\r\n",
      "/sbin/ldconfig.real: /usr/local/lib/libur_adapter_opencl.so.0 is not a symbolic link\r\n",
      "\r\n",
      "/sbin/ldconfig.real: /usr/local/lib/libtbbbind_2_5.so.3 is not a symbolic link\r\n",
      "\r\n",
      "/sbin/ldconfig.real: /usr/local/lib/libtbbbind_2_0.so.3 is not a symbolic link\r\n",
      "\r\n",
      "/sbin/ldconfig.real: /usr/local/lib/libtbb.so.12 is not a symbolic link\r\n",
      "\r\n",
      "/sbin/ldconfig.real: /usr/local/lib/libtbbmalloc_proxy.so.2 is not a symbolic link\r\n",
      "\r\n",
      "/sbin/ldconfig.real: /usr/local/lib/libtbbmalloc.so.2 is not a symbolic link\r\n",
      "\r\n",
      "/sbin/ldconfig.real: /usr/local/lib/libtbbbind.so.3 is not a symbolic link\r\n",
      "\r\n",
      "Collecting imageio==2.4.0\r\n",
      "  Downloading imageio-2.4.0.tar.gz (3.3 MB)\r\n",
      "\u001b[2K     \u001b[90m━━━━━━━━━━━━━━━━━━━━━━━━━━━━━━━━━━━━━━━━\u001b[0m \u001b[32m3.3/3.3 MB\u001b[0m \u001b[31m48.7 MB/s\u001b[0m eta \u001b[36m0:00:00\u001b[0m\r\n",
      "\u001b[?25h  Preparing metadata (setup.py) ... \u001b[?25l\u001b[?25hdone\r\n",
      "Requirement already satisfied: numpy in /usr/local/lib/python3.10/dist-packages (from imageio==2.4.0) (1.26.4)\r\n",
      "Requirement already satisfied: pillow in /usr/local/lib/python3.10/dist-packages (from imageio==2.4.0) (11.0.0)\r\n",
      "Requirement already satisfied: mkl_fft in /usr/local/lib/python3.10/dist-packages (from numpy->imageio==2.4.0) (1.3.8)\r\n",
      "Requirement already satisfied: mkl_random in /usr/local/lib/python3.10/dist-packages (from numpy->imageio==2.4.0) (1.2.4)\r\n",
      "Requirement already satisfied: mkl_umath in /usr/local/lib/python3.10/dist-packages (from numpy->imageio==2.4.0) (0.1.1)\r\n",
      "Requirement already satisfied: mkl in /usr/local/lib/python3.10/dist-packages (from numpy->imageio==2.4.0) (2025.0.1)\r\n",
      "Requirement already satisfied: tbb4py in /usr/local/lib/python3.10/dist-packages (from numpy->imageio==2.4.0) (2022.0.0)\r\n",
      "Requirement already satisfied: mkl-service in /usr/local/lib/python3.10/dist-packages (from numpy->imageio==2.4.0) (2.4.1)\r\n",
      "Requirement already satisfied: intel-openmp>=2024 in /usr/local/lib/python3.10/dist-packages (from mkl->numpy->imageio==2.4.0) (2024.2.0)\r\n",
      "Requirement already satisfied: tbb==2022.* in /usr/local/lib/python3.10/dist-packages (from mkl->numpy->imageio==2.4.0) (2022.0.0)\r\n",
      "Requirement already satisfied: tcmlib==1.* in /usr/local/lib/python3.10/dist-packages (from tbb==2022.*->mkl->numpy->imageio==2.4.0) (1.2.0)\r\n",
      "Requirement already satisfied: intel-cmplr-lib-rt in /usr/local/lib/python3.10/dist-packages (from mkl_umath->numpy->imageio==2.4.0) (2024.2.0)\r\n",
      "Requirement already satisfied: intel-cmplr-lib-ur==2024.2.0 in /usr/local/lib/python3.10/dist-packages (from intel-openmp>=2024->mkl->numpy->imageio==2.4.0) (2024.2.0)\r\n",
      "Building wheels for collected packages: imageio\r\n",
      "  Building wheel for imageio (setup.py) ... \u001b[?25l\u001b[?25hdone\r\n",
      "  Created wheel for imageio: filename=imageio-2.4.0-py3-none-any.whl size=3303892 sha256=7101c7c526d11767d8d974ea78efec3b8d29ede6286581b28db5136b221f2938\r\n",
      "  Stored in directory: /root/.cache/pip/wheels/8a/d8/1c/eb9350a4bd3ae8e8814a2f7f9cc832fedad8ea5a926181d60d\r\n",
      "Successfully built imageio\r\n",
      "Installing collected packages: imageio\r\n",
      "  Attempting uninstall: imageio\r\n",
      "    Found existing installation: imageio 2.36.1\r\n",
      "    Uninstalling imageio-2.36.1:\r\n",
      "      Successfully uninstalled imageio-2.36.1\r\n",
      "\u001b[31mERROR: pip's dependency resolver does not currently take into account all the packages that are installed. This behaviour is the source of the following dependency conflicts.\r\n",
      "moviepy 1.0.3 requires imageio<3.0,>=2.5; python_version >= \"3.4\", but you have imageio 2.4.0 which is incompatible.\r\n",
      "scikit-image 0.25.0 requires imageio!=2.35.0,>=2.33, but you have imageio 2.4.0 which is incompatible.\u001b[0m\u001b[31m\r\n",
      "\u001b[0mSuccessfully installed imageio-2.4.0\r\n",
      "Collecting pyvirtualdisplay\r\n",
      "  Downloading PyVirtualDisplay-3.0-py3-none-any.whl.metadata (943 bytes)\r\n",
      "Downloading PyVirtualDisplay-3.0-py3-none-any.whl (15 kB)\r\n",
      "Installing collected packages: pyvirtualdisplay\r\n",
      "Successfully installed pyvirtualdisplay-3.0\r\n",
      "Collecting tf-agents[reverb]\r\n",
      "  Downloading tf_agents-0.19.0-py3-none-any.whl.metadata (12 kB)\r\n",
      "Requirement already satisfied: absl-py>=0.6.1 in /usr/local/lib/python3.10/dist-packages (from tf-agents[reverb]) (1.4.0)\r\n",
      "Requirement already satisfied: cloudpickle>=1.3 in /usr/local/lib/python3.10/dist-packages (from tf-agents[reverb]) (3.1.0)\r\n",
      "Requirement already satisfied: gin-config>=0.4.0 in /usr/local/lib/python3.10/dist-packages (from tf-agents[reverb]) (0.5.0)\r\n",
      "Collecting gym<=0.23.0,>=0.17.0 (from tf-agents[reverb])\r\n",
      "  Downloading gym-0.23.0.tar.gz (624 kB)\r\n",
      "\u001b[2K     \u001b[90m━━━━━━━━━━━━━━━━━━━━━━━━━━━━━━━━━━━━━━━━\u001b[0m \u001b[32m624.4/624.4 kB\u001b[0m \u001b[31m15.2 MB/s\u001b[0m eta \u001b[36m0:00:00\u001b[0m\r\n",
      "\u001b[?25h  Installing build dependencies ... \u001b[?25l\u001b[?25hdone\r\n",
      "  Getting requirements to build wheel ... \u001b[?25l\u001b[?25hdone\r\n",
      "  Preparing metadata (pyproject.toml) ... \u001b[?25l\u001b[?25hdone\r\n",
      "Requirement already satisfied: numpy>=1.19.0 in /usr/local/lib/python3.10/dist-packages (from tf-agents[reverb]) (1.26.4)\r\n",
      "Requirement already satisfied: pillow in /usr/local/lib/python3.10/dist-packages (from tf-agents[reverb]) (11.0.0)\r\n",
      "Requirement already satisfied: six>=1.10.0 in /usr/local/lib/python3.10/dist-packages (from tf-agents[reverb]) (1.17.0)\r\n",
      "Requirement already satisfied: protobuf>=3.11.3 in /usr/local/lib/python3.10/dist-packages (from tf-agents[reverb]) (3.20.3)\r\n",
      "Requirement already satisfied: wrapt>=1.11.1 in /usr/local/lib/python3.10/dist-packages (from tf-agents[reverb]) (1.17.0)\r\n",
      "Collecting typing-extensions==4.5.0 (from tf-agents[reverb])\r\n",
      "  Downloading typing_extensions-4.5.0-py3-none-any.whl.metadata (8.5 kB)\r\n",
      "Collecting pygame==2.1.3 (from tf-agents[reverb])\r\n",
      "  Downloading pygame-2.1.3-cp310-cp310-manylinux_2_17_x86_64.manylinux2014_x86_64.whl.metadata (9.3 kB)\r\n",
      "Collecting tensorflow-probability~=0.23.0 (from tf-agents[reverb])\r\n",
      "  Downloading tensorflow_probability-0.23.0-py2.py3-none-any.whl.metadata (13 kB)\r\n",
      "Collecting rlds (from tf-agents[reverb])\r\n",
      "  Downloading rlds-0.1.8-py3-none-manylinux2010_x86_64.whl.metadata (1.7 kB)\r\n",
      "Collecting dm-reverb~=0.14.0 (from tf-agents[reverb])\r\n",
      "  Downloading dm_reverb-0.14.0-cp310-cp310-manylinux2014_x86_64.whl.metadata (17 kB)\r\n",
      "Collecting tensorflow~=2.15.0 (from tf-agents[reverb])\r\n",
      "  Downloading tensorflow-2.15.1-cp310-cp310-manylinux_2_17_x86_64.manylinux2014_x86_64.whl.metadata (4.2 kB)\r\n",
      "Requirement already satisfied: dm-tree in /usr/local/lib/python3.10/dist-packages (from dm-reverb~=0.14.0->tf-agents[reverb]) (0.1.8)\r\n",
      "Requirement already satisfied: portpicker in /usr/local/lib/python3.10/dist-packages (from dm-reverb~=0.14.0->tf-agents[reverb]) (1.5.2)\r\n",
      "Requirement already satisfied: gym_notices>=0.0.4 in /usr/local/lib/python3.10/dist-packages (from gym<=0.23.0,>=0.17.0->tf-agents[reverb]) (0.0.8)\r\n",
      "Requirement already satisfied: mkl_fft in /usr/local/lib/python3.10/dist-packages (from numpy>=1.19.0->tf-agents[reverb]) (1.3.8)\r\n",
      "Requirement already satisfied: mkl_random in /usr/local/lib/python3.10/dist-packages (from numpy>=1.19.0->tf-agents[reverb]) (1.2.4)\r\n",
      "Requirement already satisfied: mkl_umath in /usr/local/lib/python3.10/dist-packages (from numpy>=1.19.0->tf-agents[reverb]) (0.1.1)\r\n",
      "Requirement already satisfied: mkl in /usr/local/lib/python3.10/dist-packages (from numpy>=1.19.0->tf-agents[reverb]) (2025.0.1)\r\n",
      "Requirement already satisfied: tbb4py in /usr/local/lib/python3.10/dist-packages (from numpy>=1.19.0->tf-agents[reverb]) (2022.0.0)\r\n",
      "Requirement already satisfied: mkl-service in /usr/local/lib/python3.10/dist-packages (from numpy>=1.19.0->tf-agents[reverb]) (2.4.1)\r\n",
      "Requirement already satisfied: astunparse>=1.6.0 in /usr/local/lib/python3.10/dist-packages (from tensorflow~=2.15.0->tf-agents[reverb]) (1.6.3)\r\n",
      "Requirement already satisfied: flatbuffers>=23.5.26 in /usr/local/lib/python3.10/dist-packages (from tensorflow~=2.15.0->tf-agents[reverb]) (24.3.25)\r\n",
      "Requirement already satisfied: gast!=0.5.0,!=0.5.1,!=0.5.2,>=0.2.1 in /usr/local/lib/python3.10/dist-packages (from tensorflow~=2.15.0->tf-agents[reverb]) (0.6.0)\r\n",
      "Requirement already satisfied: google-pasta>=0.1.1 in /usr/local/lib/python3.10/dist-packages (from tensorflow~=2.15.0->tf-agents[reverb]) (0.2.0)\r\n",
      "Requirement already satisfied: h5py>=2.9.0 in /usr/local/lib/python3.10/dist-packages (from tensorflow~=2.15.0->tf-agents[reverb]) (3.12.1)\r\n",
      "Requirement already satisfied: libclang>=13.0.0 in /usr/local/lib/python3.10/dist-packages (from tensorflow~=2.15.0->tf-agents[reverb]) (18.1.1)\r\n",
      "Collecting ml-dtypes~=0.3.1 (from tensorflow~=2.15.0->tf-agents[reverb])\r\n",
      "  Downloading ml_dtypes-0.3.2-cp310-cp310-manylinux_2_17_x86_64.manylinux2014_x86_64.whl.metadata (20 kB)\r\n",
      "Requirement already satisfied: opt-einsum>=2.3.2 in /usr/local/lib/python3.10/dist-packages (from tensorflow~=2.15.0->tf-agents[reverb]) (3.4.0)\r\n",
      "Requirement already satisfied: packaging in /usr/local/lib/python3.10/dist-packages (from tensorflow~=2.15.0->tf-agents[reverb]) (24.2)\r\n",
      "Requirement already satisfied: setuptools in /usr/local/lib/python3.10/dist-packages (from tensorflow~=2.15.0->tf-agents[reverb]) (75.1.0)\r\n",
      "Requirement already satisfied: termcolor>=1.1.0 in /usr/local/lib/python3.10/dist-packages (from tensorflow~=2.15.0->tf-agents[reverb]) (2.5.0)\r\n",
      "Collecting wrapt>=1.11.1 (from tf-agents[reverb])\r\n",
      "  Downloading wrapt-1.14.1-cp310-cp310-manylinux_2_5_x86_64.manylinux1_x86_64.manylinux_2_17_x86_64.manylinux2014_x86_64.whl.metadata (6.7 kB)\r\n",
      "Requirement already satisfied: tensorflow-io-gcs-filesystem>=0.23.1 in /usr/local/lib/python3.10/dist-packages (from tensorflow~=2.15.0->tf-agents[reverb]) (0.37.1)\r\n",
      "Requirement already satisfied: grpcio<2.0,>=1.24.3 in /usr/local/lib/python3.10/dist-packages (from tensorflow~=2.15.0->tf-agents[reverb]) (1.68.1)\r\n",
      "Collecting tensorboard<2.16,>=2.15 (from tensorflow~=2.15.0->tf-agents[reverb])\r\n",
      "  Downloading tensorboard-2.15.2-py3-none-any.whl.metadata (1.7 kB)\r\n",
      "Collecting tensorflow-estimator<2.16,>=2.15.0 (from tensorflow~=2.15.0->tf-agents[reverb])\r\n",
      "  Downloading tensorflow_estimator-2.15.0-py2.py3-none-any.whl.metadata (1.3 kB)\r\n",
      "Collecting keras<2.16,>=2.15.0 (from tensorflow~=2.15.0->tf-agents[reverb])\r\n",
      "  Downloading keras-2.15.0-py3-none-any.whl.metadata (2.4 kB)\r\n",
      "Requirement already satisfied: decorator in /usr/local/lib/python3.10/dist-packages (from tensorflow-probability~=0.23.0->tf-agents[reverb]) (4.4.2)\r\n",
      "Requirement already satisfied: wheel<1.0,>=0.23.0 in /usr/local/lib/python3.10/dist-packages (from astunparse>=1.6.0->tensorflow~=2.15.0->tf-agents[reverb]) (0.45.1)\r\n",
      "Requirement already satisfied: google-auth<3,>=1.6.3 in /usr/local/lib/python3.10/dist-packages (from tensorboard<2.16,>=2.15->tensorflow~=2.15.0->tf-agents[reverb]) (2.27.0)\r\n",
      "Requirement already satisfied: google-auth-oauthlib<2,>=0.5 in /usr/local/lib/python3.10/dist-packages (from tensorboard<2.16,>=2.15->tensorflow~=2.15.0->tf-agents[reverb]) (1.2.1)\r\n",
      "Requirement already satisfied: markdown>=2.6.8 in /usr/local/lib/python3.10/dist-packages (from tensorboard<2.16,>=2.15->tensorflow~=2.15.0->tf-agents[reverb]) (3.7)\r\n",
      "Requirement already satisfied: requests<3,>=2.21.0 in /usr/local/lib/python3.10/dist-packages (from tensorboard<2.16,>=2.15->tensorflow~=2.15.0->tf-agents[reverb]) (2.32.3)\r\n",
      "Requirement already satisfied: tensorboard-data-server<0.8.0,>=0.7.0 in /usr/local/lib/python3.10/dist-packages (from tensorboard<2.16,>=2.15->tensorflow~=2.15.0->tf-agents[reverb]) (0.7.2)\r\n",
      "Requirement already satisfied: werkzeug>=1.0.1 in /usr/local/lib/python3.10/dist-packages (from tensorboard<2.16,>=2.15->tensorflow~=2.15.0->tf-agents[reverb]) (3.1.3)\r\n",
      "Requirement already satisfied: intel-openmp>=2024 in /usr/local/lib/python3.10/dist-packages (from mkl->numpy>=1.19.0->tf-agents[reverb]) (2024.2.0)\r\n",
      "Requirement already satisfied: tbb==2022.* in /usr/local/lib/python3.10/dist-packages (from mkl->numpy>=1.19.0->tf-agents[reverb]) (2022.0.0)\r\n",
      "Requirement already satisfied: tcmlib==1.* in /usr/local/lib/python3.10/dist-packages (from tbb==2022.*->mkl->numpy>=1.19.0->tf-agents[reverb]) (1.2.0)\r\n",
      "Requirement already satisfied: intel-cmplr-lib-rt in /usr/local/lib/python3.10/dist-packages (from mkl_umath->numpy>=1.19.0->tf-agents[reverb]) (2024.2.0)\r\n",
      "Requirement already satisfied: psutil in /usr/local/lib/python3.10/dist-packages (from portpicker->dm-reverb~=0.14.0->tf-agents[reverb]) (5.9.5)\r\n",
      "Requirement already satisfied: cachetools<6.0,>=2.0.0 in /usr/local/lib/python3.10/dist-packages (from google-auth<3,>=1.6.3->tensorboard<2.16,>=2.15->tensorflow~=2.15.0->tf-agents[reverb]) (5.5.0)\r\n",
      "Requirement already satisfied: pyasn1-modules>=0.2.1 in /usr/local/lib/python3.10/dist-packages (from google-auth<3,>=1.6.3->tensorboard<2.16,>=2.15->tensorflow~=2.15.0->tf-agents[reverb]) (0.4.1)\r\n",
      "Requirement already satisfied: rsa<5,>=3.1.4 in /usr/local/lib/python3.10/dist-packages (from google-auth<3,>=1.6.3->tensorboard<2.16,>=2.15->tensorflow~=2.15.0->tf-agents[reverb]) (4.9)\r\n",
      "Requirement already satisfied: requests-oauthlib>=0.7.0 in /usr/local/lib/python3.10/dist-packages (from google-auth-oauthlib<2,>=0.5->tensorboard<2.16,>=2.15->tensorflow~=2.15.0->tf-agents[reverb]) (1.3.1)\r\n",
      "Requirement already satisfied: intel-cmplr-lib-ur==2024.2.0 in /usr/local/lib/python3.10/dist-packages (from intel-openmp>=2024->mkl->numpy>=1.19.0->tf-agents[reverb]) (2024.2.0)\r\n",
      "Requirement already satisfied: charset-normalizer<4,>=2 in /usr/local/lib/python3.10/dist-packages (from requests<3,>=2.21.0->tensorboard<2.16,>=2.15->tensorflow~=2.15.0->tf-agents[reverb]) (3.4.1)\r\n",
      "Requirement already satisfied: idna<4,>=2.5 in /usr/local/lib/python3.10/dist-packages (from requests<3,>=2.21.0->tensorboard<2.16,>=2.15->tensorflow~=2.15.0->tf-agents[reverb]) (3.10)\r\n",
      "Requirement already satisfied: urllib3<3,>=1.21.1 in /usr/local/lib/python3.10/dist-packages (from requests<3,>=2.21.0->tensorboard<2.16,>=2.15->tensorflow~=2.15.0->tf-agents[reverb]) (2.3.0)\r\n",
      "Requirement already satisfied: certifi>=2017.4.17 in /usr/local/lib/python3.10/dist-packages (from requests<3,>=2.21.0->tensorboard<2.16,>=2.15->tensorflow~=2.15.0->tf-agents[reverb]) (2025.1.31)\r\n",
      "Requirement already satisfied: MarkupSafe>=2.1.1 in /usr/local/lib/python3.10/dist-packages (from werkzeug>=1.0.1->tensorboard<2.16,>=2.15->tensorflow~=2.15.0->tf-agents[reverb]) (3.0.2)\r\n",
      "Requirement already satisfied: pyasn1<0.7.0,>=0.4.6 in /usr/local/lib/python3.10/dist-packages (from pyasn1-modules>=0.2.1->google-auth<3,>=1.6.3->tensorboard<2.16,>=2.15->tensorflow~=2.15.0->tf-agents[reverb]) (0.6.1)\r\n",
      "Requirement already satisfied: oauthlib>=3.0.0 in /usr/local/lib/python3.10/dist-packages (from requests-oauthlib>=0.7.0->google-auth-oauthlib<2,>=0.5->tensorboard<2.16,>=2.15->tensorflow~=2.15.0->tf-agents[reverb]) (3.2.2)\r\n",
      "Downloading pygame-2.1.3-cp310-cp310-manylinux_2_17_x86_64.manylinux2014_x86_64.whl (13.7 MB)\r\n",
      "\u001b[2K   \u001b[90m━━━━━━━━━━━━━━━━━━━━━━━━━━━━━━━━━━━━━━━━\u001b[0m \u001b[32m13.7/13.7 MB\u001b[0m \u001b[31m53.7 MB/s\u001b[0m eta \u001b[36m0:00:00\u001b[0m\r\n",
      "\u001b[?25hDownloading typing_extensions-4.5.0-py3-none-any.whl (27 kB)\r\n",
      "Downloading dm_reverb-0.14.0-cp310-cp310-manylinux2014_x86_64.whl (6.4 MB)\r\n",
      "\u001b[2K   \u001b[90m━━━━━━━━━━━━━━━━━━━━━━━━━━━━━━━━━━━━━━━━\u001b[0m \u001b[32m6.4/6.4 MB\u001b[0m \u001b[31m76.6 MB/s\u001b[0m eta \u001b[36m0:00:00\u001b[0m\r\n",
      "\u001b[?25hDownloading tensorflow-2.15.1-cp310-cp310-manylinux_2_17_x86_64.manylinux2014_x86_64.whl (475.2 MB)\r\n",
      "\u001b[2K   \u001b[90m━━━━━━━━━━━━━━━━━━━━━━━━━━━━━━━━━━━━━━━━\u001b[0m \u001b[32m475.2/475.2 MB\u001b[0m \u001b[31m3.6 MB/s\u001b[0m eta \u001b[36m0:00:00\u001b[0m\r\n",
      "\u001b[?25hDownloading tensorflow_probability-0.23.0-py2.py3-none-any.whl (6.9 MB)\r\n",
      "\u001b[2K   \u001b[90m━━━━━━━━━━━━━━━━━━━━━━━━━━━━━━━━━━━━━━━━\u001b[0m \u001b[32m6.9/6.9 MB\u001b[0m \u001b[31m95.1 MB/s\u001b[0m eta \u001b[36m0:00:00\u001b[0m\r\n",
      "\u001b[?25hDownloading wrapt-1.14.1-cp310-cp310-manylinux_2_5_x86_64.manylinux1_x86_64.manylinux_2_17_x86_64.manylinux2014_x86_64.whl (77 kB)\r\n",
      "\u001b[2K   \u001b[90m━━━━━━━━━━━━━━━━━━━━━━━━━━━━━━━━━━━━━━━━\u001b[0m \u001b[32m77.9/77.9 kB\u001b[0m \u001b[31m5.4 MB/s\u001b[0m eta \u001b[36m0:00:00\u001b[0m\r\n",
      "\u001b[?25hDownloading rlds-0.1.8-py3-none-manylinux2010_x86_64.whl (48 kB)\r\n",
      "\u001b[2K   \u001b[90m━━━━━━━━━━━━━━━━━━━━━━━━━━━━━━━━━━━━━━━━\u001b[0m \u001b[32m48.4/48.4 kB\u001b[0m \u001b[31m3.3 MB/s\u001b[0m eta \u001b[36m0:00:00\u001b[0m\r\n",
      "\u001b[?25hDownloading tf_agents-0.19.0-py3-none-any.whl (1.4 MB)\r\n",
      "\u001b[2K   \u001b[90m━━━━━━━━━━━━━━━━━━━━━━━━━━━━━━━━━━━━━━━━\u001b[0m \u001b[32m1.4/1.4 MB\u001b[0m \u001b[31m50.6 MB/s\u001b[0m eta \u001b[36m0:00:00\u001b[0m\r\n",
      "\u001b[?25hDownloading keras-2.15.0-py3-none-any.whl (1.7 MB)\r\n",
      "\u001b[2K   \u001b[90m━━━━━━━━━━━━━━━━━━━━━━━━━━━━━━━━━━━━━━━━\u001b[0m \u001b[32m1.7/1.7 MB\u001b[0m \u001b[31m61.7 MB/s\u001b[0m eta \u001b[36m0:00:00\u001b[0m\r\n",
      "\u001b[?25hDownloading ml_dtypes-0.3.2-cp310-cp310-manylinux_2_17_x86_64.manylinux2014_x86_64.whl (2.2 MB)\r\n",
      "\u001b[2K   \u001b[90m━━━━━━━━━━━━━━━━━━━━━━━━━━━━━━━━━━━━━━━━\u001b[0m \u001b[32m2.2/2.2 MB\u001b[0m \u001b[31m71.0 MB/s\u001b[0m eta \u001b[36m0:00:00\u001b[0m\r\n",
      "\u001b[?25hDownloading tensorboard-2.15.2-py3-none-any.whl (5.5 MB)\r\n",
      "\u001b[2K   \u001b[90m━━━━━━━━━━━━━━━━━━━━━━━━━━━━━━━━━━━━━━━━\u001b[0m \u001b[32m5.5/5.5 MB\u001b[0m \u001b[31m62.7 MB/s\u001b[0m eta \u001b[36m0:00:00\u001b[0m\r\n",
      "\u001b[?25hDownloading tensorflow_estimator-2.15.0-py2.py3-none-any.whl (441 kB)\r\n",
      "\u001b[2K   \u001b[90m━━━━━━━━━━━━━━━━━━━━━━━━━━━━━━━━━━━━━━━━\u001b[0m \u001b[32m442.0/442.0 kB\u001b[0m \u001b[31m26.3 MB/s\u001b[0m eta \u001b[36m0:00:00\u001b[0m\r\n",
      "\u001b[?25hBuilding wheels for collected packages: gym\r\n",
      "  Building wheel for gym (pyproject.toml) ... \u001b[?25l\u001b[?25hdone\r\n",
      "  Created wheel for gym: filename=gym-0.23.0-py3-none-any.whl size=697711 sha256=3fac93482245bb05ce1825951ae0abbd8017f7006da915dccd04ccb896b03077\r\n",
      "  Stored in directory: /root/.cache/pip/wheels/3d/6f/b4/3991d4fae11d0ecb0754c11cc1b4e7745012850da4efaaf0b1\r\n",
      "Successfully built gym\r\n",
      "Installing collected packages: wrapt, typing-extensions, tensorflow-estimator, pygame, keras, dm-reverb, tensorflow-probability, tensorboard, ml-dtypes, gym, tf-agents, tensorflow, rlds\r\n",
      "  Attempting uninstall: wrapt\r\n",
      "    Found existing installation: wrapt 1.17.0\r\n",
      "    Uninstalling wrapt-1.17.0:\r\n",
      "      Successfully uninstalled wrapt-1.17.0\r\n",
      "  Attempting uninstall: typing-extensions\r\n",
      "    Found existing installation: typing_extensions 4.12.2\r\n",
      "    Uninstalling typing_extensions-4.12.2:\r\n",
      "      Successfully uninstalled typing_extensions-4.12.2\r\n",
      "  Attempting uninstall: pygame\r\n",
      "    Found existing installation: pygame 2.6.1\r\n",
      "    Uninstalling pygame-2.6.1:\r\n",
      "      Successfully uninstalled pygame-2.6.1\r\n",
      "  Attempting uninstall: keras\r\n",
      "    Found existing installation: keras 3.5.0\r\n",
      "    Uninstalling keras-3.5.0:\r\n",
      "      Successfully uninstalled keras-3.5.0\r\n",
      "  Attempting uninstall: tensorflow-probability\r\n",
      "    Found existing installation: tensorflow-probability 0.24.0\r\n",
      "    Uninstalling tensorflow-probability-0.24.0:\r\n",
      "      Successfully uninstalled tensorflow-probability-0.24.0\r\n",
      "  Attempting uninstall: tensorboard\r\n",
      "    Found existing installation: tensorboard 2.17.1\r\n",
      "    Uninstalling tensorboard-2.17.1:\r\n",
      "      Successfully uninstalled tensorboard-2.17.1\r\n",
      "  Attempting uninstall: ml-dtypes\r\n",
      "    Found existing installation: ml-dtypes 0.4.1\r\n",
      "    Uninstalling ml-dtypes-0.4.1:\r\n",
      "      Successfully uninstalled ml-dtypes-0.4.1\r\n",
      "  Attempting uninstall: gym\r\n",
      "    Found existing installation: gym 0.25.2\r\n",
      "    Uninstalling gym-0.25.2:\r\n",
      "      Successfully uninstalled gym-0.25.2\r\n",
      "  Attempting uninstall: tensorflow\r\n",
      "    Found existing installation: tensorflow 2.17.1\r\n",
      "    Uninstalling tensorflow-2.17.1:\r\n",
      "      Successfully uninstalled tensorflow-2.17.1\r\n",
      "\u001b[31mERROR: pip's dependency resolver does not currently take into account all the packages that are installed. This behaviour is the source of the following dependency conflicts.\r\n",
      "sqlalchemy 2.0.36 requires typing-extensions>=4.6.0, but you have typing-extensions 4.5.0 which is incompatible.\r\n",
      "altair 5.5.0 requires typing-extensions>=4.10.0; python_version < \"3.14\", but you have typing-extensions 4.5.0 which is incompatible.\r\n",
      "langchain 0.3.12 requires async-timeout<5.0.0,>=4.0.0; python_version < \"3.11\", but you have async-timeout 5.0.1 which is incompatible.\r\n",
      "langchain-core 0.3.25 requires typing-extensions>=4.7, but you have typing-extensions 4.5.0 which is incompatible.\r\n",
      "nibabel 5.3.2 requires typing-extensions>=4.6; python_version < \"3.13\", but you have typing-extensions 4.5.0 which is incompatible.\r\n",
      "openai 1.57.4 requires typing-extensions<5,>=4.11, but you have typing-extensions 4.5.0 which is incompatible.\r\n",
      "pyopenssl 25.0.0 requires typing-extensions>=4.9; python_version < \"3.13\" and python_version >= \"3.8\", but you have typing-extensions 4.5.0 which is incompatible.\r\n",
      "pydantic 2.11.0a2 requires typing-extensions>=4.12.2, but you have typing-extensions 4.5.0 which is incompatible.\r\n",
      "pydantic-core 2.29.0 requires typing-extensions!=4.7.0,>=4.6.0, but you have typing-extensions 4.5.0 which is incompatible.\r\n",
      "tensorflow-decision-forests 1.10.0 requires tensorflow==2.17.0, but you have tensorflow 2.15.1 which is incompatible.\r\n",
      "tensorflow-text 2.17.0 requires tensorflow<2.18,>=2.17.0, but you have tensorflow 2.15.1 which is incompatible.\r\n",
      "tf-keras 2.17.0 requires tensorflow<2.18,>=2.17, but you have tensorflow 2.15.1 which is incompatible.\r\n",
      "torch 2.5.1+cu121 requires typing-extensions>=4.8.0, but you have typing-extensions 4.5.0 which is incompatible.\r\n",
      "typeguard 4.4.1 requires typing-extensions>=4.10.0, but you have typing-extensions 4.5.0 which is incompatible.\u001b[0m\u001b[31m\r\n",
      "\u001b[0mSuccessfully installed dm-reverb-0.14.0 gym-0.23.0 keras-2.15.0 ml-dtypes-0.3.2 pygame-2.1.3 rlds-0.1.8 tensorboard-2.15.2 tensorflow-2.15.1 tensorflow-estimator-2.15.0 tensorflow-probability-0.23.0 tf-agents-0.19.0 typing-extensions-4.5.0 wrapt-1.14.1\r\n",
      "Collecting pyglet\r\n",
      "  Downloading pyglet-2.1.3-py3-none-any.whl.metadata (7.7 kB)\r\n",
      "Downloading pyglet-2.1.3-py3-none-any.whl (962 kB)\r\n",
      "\u001b[2K   \u001b[90m━━━━━━━━━━━━━━━━━━━━━━━━━━━━━━━━━━━━━━━━\u001b[0m \u001b[32m962.1/962.1 kB\u001b[0m \u001b[31m17.9 MB/s\u001b[0m eta \u001b[36m0:00:00\u001b[0m\r\n",
      "\u001b[?25hInstalling collected packages: pyglet\r\n",
      "Successfully installed pyglet-2.1.3\r\n"
     ]
    }
   ],
   "source": [
    "!sudo apt-get update\n",
    "!sudo apt-get install -y xvfb ffmpeg freeglut3-dev\n",
    "!pip install 'imageio==2.4.0'\n",
    "!pip install pyvirtualdisplay\n",
    "!pip install tf-agents[reverb]\n",
    "!pip install pyglet"
   ]
  },
  {
   "cell_type": "code",
   "execution_count": 3,
   "id": "e23e2a3b",
   "metadata": {
    "execution": {
     "iopub.execute_input": "2025-02-25T03:22:44.340298Z",
     "iopub.status.busy": "2025-02-25T03:22:44.340047Z",
     "iopub.status.idle": "2025-02-25T03:22:50.864039Z",
     "shell.execute_reply": "2025-02-25T03:22:50.863332Z"
    },
    "id": "sMitx5qSgJk1",
    "papermill": {
     "duration": 6.550403,
     "end_time": "2025-02-25T03:22:50.865591",
     "exception": false,
     "start_time": "2025-02-25T03:22:44.315188",
     "status": "completed"
    },
    "tags": []
   },
   "outputs": [],
   "source": [
    "from __future__ import absolute_import, division, print_function\n",
    "\n",
    "import base64\n",
    "import imageio\n",
    "import IPython\n",
    "import matplotlib\n",
    "import matplotlib.pyplot as plt\n",
    "import numpy as np\n",
    "import PIL.Image\n",
    "import pyvirtualdisplay\n",
    "import reverb\n",
    "\n",
    "import tensorflow as tf\n",
    "\n",
    "from tf_agents.agents.dqn import dqn_agent\n",
    "from tf_agents.drivers import py_driver\n",
    "from tf_agents.environments import suite_gym\n",
    "from tf_agents.environments import tf_py_environment\n",
    "from tf_agents.eval import metric_utils\n",
    "from tf_agents.metrics import tf_metrics\n",
    "from tf_agents.networks import sequential\n",
    "from tf_agents.policies import py_tf_eager_policy\n",
    "from tf_agents.policies import random_tf_policy\n",
    "from tf_agents.replay_buffers import reverb_replay_buffer\n",
    "from tf_agents.replay_buffers import reverb_utils\n",
    "from tf_agents.trajectories import trajectory\n",
    "from tf_agents.specs import tensor_spec\n",
    "from tf_agents.utils import common"
   ]
  },
  {
   "cell_type": "code",
   "execution_count": 4,
   "id": "5ea4d0b1",
   "metadata": {
    "execution": {
     "iopub.execute_input": "2025-02-25T03:22:50.915927Z",
     "iopub.status.busy": "2025-02-25T03:22:50.915380Z",
     "iopub.status.idle": "2025-02-25T03:22:51.379526Z",
     "shell.execute_reply": "2025-02-25T03:22:51.378846Z"
    },
    "id": "J6HsdS5GbSjd",
    "papermill": {
     "duration": 0.490552,
     "end_time": "2025-02-25T03:22:51.381113",
     "exception": false,
     "start_time": "2025-02-25T03:22:50.890561",
     "status": "completed"
    },
    "tags": []
   },
   "outputs": [],
   "source": [
    "# Set up a virtual display for rendering OpenAI gym environments.\n",
    "display = pyvirtualdisplay.Display(visible=0, size=(1400, 900)).start()"
   ]
  },
  {
   "cell_type": "code",
   "execution_count": 5,
   "id": "faa1bec5",
   "metadata": {
    "execution": {
     "iopub.execute_input": "2025-02-25T03:22:51.431326Z",
     "iopub.status.busy": "2025-02-25T03:22:51.431074Z",
     "iopub.status.idle": "2025-02-25T03:22:51.436389Z",
     "shell.execute_reply": "2025-02-25T03:22:51.435517Z"
    },
    "id": "NspmzG4nP3b9",
    "papermill": {
     "duration": 0.031364,
     "end_time": "2025-02-25T03:22:51.437749",
     "exception": false,
     "start_time": "2025-02-25T03:22:51.406385",
     "status": "completed"
    },
    "tags": []
   },
   "outputs": [
    {
     "data": {
      "text/plain": [
       "'2.15.1'"
      ]
     },
     "execution_count": 5,
     "metadata": {},
     "output_type": "execute_result"
    }
   ],
   "source": [
    "tf.version.VERSION"
   ]
  },
  {
   "cell_type": "markdown",
   "id": "0f4b381f",
   "metadata": {
    "id": "LmC0NDhdLIKY",
    "papermill": {
     "duration": 0.024008,
     "end_time": "2025-02-25T03:22:51.486161",
     "exception": false,
     "start_time": "2025-02-25T03:22:51.462153",
     "status": "completed"
    },
    "tags": []
   },
   "source": [
    "## Hyperparameters"
   ]
  },
  {
   "cell_type": "code",
   "execution_count": 6,
   "id": "da4fa049",
   "metadata": {
    "execution": {
     "iopub.execute_input": "2025-02-25T03:22:51.535423Z",
     "iopub.status.busy": "2025-02-25T03:22:51.535187Z",
     "iopub.status.idle": "2025-02-25T03:22:51.538851Z",
     "shell.execute_reply": "2025-02-25T03:22:51.538193Z"
    },
    "id": "HC1kNrOsLSIZ",
    "papermill": {
     "duration": 0.029859,
     "end_time": "2025-02-25T03:22:51.540075",
     "exception": false,
     "start_time": "2025-02-25T03:22:51.510216",
     "status": "completed"
    },
    "tags": []
   },
   "outputs": [],
   "source": [
    "num_iterations = 20000 # @param {type:\"integer\"}\n",
    "\n",
    "initial_collect_steps = 100  # @param {type:\"integer\"}\n",
    "collect_steps_per_iteration =   1# @param {type:\"integer\"}\n",
    "replay_buffer_max_length = 100000  # @param {type:\"integer\"}\n",
    "\n",
    "batch_size = 64  # @param {type:\"integer\"}\n",
    "learning_rate = 1e-3  # @param {type:\"number\"}\n",
    "log_interval = 200  # @param {type:\"integer\"}\n",
    "\n",
    "num_eval_episodes = 10  # @param {type:\"integer\"}\n",
    "eval_interval = 1000  # @param {type:\"integer\"}"
   ]
  },
  {
   "cell_type": "markdown",
   "id": "8e85fd6a",
   "metadata": {
    "id": "VMsJC3DEgI0x",
    "papermill": {
     "duration": 0.024085,
     "end_time": "2025-02-25T03:22:51.588186",
     "exception": false,
     "start_time": "2025-02-25T03:22:51.564101",
     "status": "completed"
    },
    "tags": []
   },
   "source": [
    "## Environment\n",
    "\n",
    "In Reinforcement Learning (RL), an environment represents the task or problem to be solved. Standard environments can be created in TF-Agents using `tf_agents.environments` suites. TF-Agents has suites for loading environments from sources such as the OpenAI Gym, Atari, and DM Control.\n",
    "\n",
    "Load the CartPole environment from the OpenAI Gym suite. "
   ]
  },
  {
   "cell_type": "code",
   "execution_count": 7,
   "id": "d2eced50",
   "metadata": {
    "execution": {
     "iopub.execute_input": "2025-02-25T03:22:51.638138Z",
     "iopub.status.busy": "2025-02-25T03:22:51.637920Z",
     "iopub.status.idle": "2025-02-25T03:22:51.674699Z",
     "shell.execute_reply": "2025-02-25T03:22:51.674082Z"
    },
    "id": "pYEz-S9gEv2-",
    "papermill": {
     "duration": 0.06252,
     "end_time": "2025-02-25T03:22:51.675991",
     "exception": false,
     "start_time": "2025-02-25T03:22:51.613471",
     "status": "completed"
    },
    "tags": []
   },
   "outputs": [],
   "source": [
    "env_name = 'MountainCar-v0'\n",
    "env = suite_gym.load(env_name)"
   ]
  },
  {
   "cell_type": "markdown",
   "id": "f4cadc96",
   "metadata": {
    "id": "IIHYVBkuvPNw",
    "papermill": {
     "duration": 0.023617,
     "end_time": "2025-02-25T03:22:51.723959",
     "exception": false,
     "start_time": "2025-02-25T03:22:51.700342",
     "status": "completed"
    },
    "tags": []
   },
   "source": [
    "You can render this environment to see how it looks. A free-swinging pole is attached to a cart.  The goal is to move the cart right or left in order to keep the pole pointing up."
   ]
  },
  {
   "cell_type": "code",
   "execution_count": 8,
   "id": "f5f2a924",
   "metadata": {
    "execution": {
     "iopub.execute_input": "2025-02-25T03:22:51.772215Z",
     "iopub.status.busy": "2025-02-25T03:22:51.772000Z",
     "iopub.status.idle": "2025-02-25T03:22:52.339053Z",
     "shell.execute_reply": "2025-02-25T03:22:52.338022Z"
    },
    "id": "RlO7WIQHu_7D",
    "papermill": {
     "duration": 0.592865,
     "end_time": "2025-02-25T03:22:52.340404",
     "exception": false,
     "start_time": "2025-02-25T03:22:51.747539",
     "status": "completed"
    },
    "tags": []
   },
   "outputs": [
    {
     "data": {
      "image/jpeg": "[encoded data removed]",
      "image/png": "[encoded data removed]",
      "text/plain": [
       "<PIL.Image.Image image mode=RGB size=600x400>"
      ]
     },
     "execution_count": 8,
     "metadata": {},
     "output_type": "execute_result"
    }
   ],
   "source": [
    "#@test {\"skip\": true}\n",
    "env.reset()\n",
    "PIL.Image.fromarray(env.render())"
   ]
  },
  {
   "cell_type": "markdown",
   "id": "ac7dc45e",
   "metadata": {
    "id": "B9_lskPOey18",
    "papermill": {
     "duration": 0.024487,
     "end_time": "2025-02-25T03:22:52.389827",
     "exception": false,
     "start_time": "2025-02-25T03:22:52.365340",
     "status": "completed"
    },
    "tags": []
   },
   "source": [
    "The `environment.step` method takes an `action` in the environment and returns a `TimeStep` tuple containing the next observation of the environment and the reward for the action.\n",
    "\n",
    "The `time_step_spec()` method returns the specification for the `TimeStep` tuple. Its `observation` attribute shows the shape of observations, the data types, and the ranges of allowed values. The `reward` attribute shows the same details for the reward.\n"
   ]
  },
  {
   "cell_type": "code",
   "execution_count": 9,
   "id": "905dba47",
   "metadata": {
    "execution": {
     "iopub.execute_input": "2025-02-25T03:22:52.455538Z",
     "iopub.status.busy": "2025-02-25T03:22:52.454964Z",
     "iopub.status.idle": "2025-02-25T03:22:52.465325Z",
     "shell.execute_reply": "2025-02-25T03:22:52.464536Z"
    },
    "id": "exDv57iHfwQV",
    "papermill": {
     "duration": 0.049866,
     "end_time": "2025-02-25T03:22:52.467122",
     "exception": false,
     "start_time": "2025-02-25T03:22:52.417256",
     "status": "completed"
    },
    "tags": []
   },
   "outputs": [
    {
     "name": "stdout",
     "output_type": "stream",
     "text": [
      "Observation Spec:\n",
      "BoundedArraySpec(shape=(2,), dtype=dtype('float32'), name='observation', minimum=[-1.2  -0.07], maximum=[0.6  0.07])\n"
     ]
    }
   ],
   "source": [
    "print('Observation Spec:')\n",
    "print(env.time_step_spec().observation)"
   ]
  },
  {
   "cell_type": "code",
   "execution_count": 10,
   "id": "e81b30d1",
   "metadata": {
    "execution": {
     "iopub.execute_input": "2025-02-25T03:22:52.562776Z",
     "iopub.status.busy": "2025-02-25T03:22:52.562411Z",
     "iopub.status.idle": "2025-02-25T03:22:52.567540Z",
     "shell.execute_reply": "2025-02-25T03:22:52.566842Z"
    },
    "id": "UxiSyCbBUQPi",
    "papermill": {
     "duration": 0.070316,
     "end_time": "2025-02-25T03:22:52.568642",
     "exception": false,
     "start_time": "2025-02-25T03:22:52.498326",
     "status": "completed"
    },
    "tags": []
   },
   "outputs": [
    {
     "name": "stdout",
     "output_type": "stream",
     "text": [
      "Reward Spec:\n",
      "ArraySpec(shape=(), dtype=dtype('float32'), name='reward')\n"
     ]
    }
   ],
   "source": [
    "print('Reward Spec:')\n",
    "print(env.time_step_spec().reward)"
   ]
  },
  {
   "cell_type": "markdown",
   "id": "4dd9ef46",
   "metadata": {
    "id": "b_lHcIcqUaqB",
    "papermill": {
     "duration": 0.026097,
     "end_time": "2025-02-25T03:22:52.619568",
     "exception": false,
     "start_time": "2025-02-25T03:22:52.593471",
     "status": "completed"
    },
    "tags": []
   },
   "source": [
    "The `action_spec()` method returns the shape, data types, and allowed values of valid actions."
   ]
  },
  {
   "cell_type": "code",
   "execution_count": 11,
   "id": "d70b8c59",
   "metadata": {
    "execution": {
     "iopub.execute_input": "2025-02-25T03:22:52.669747Z",
     "iopub.status.busy": "2025-02-25T03:22:52.669470Z",
     "iopub.status.idle": "2025-02-25T03:22:52.673716Z",
     "shell.execute_reply": "2025-02-25T03:22:52.672899Z"
    },
    "id": "bttJ4uxZUQBr",
    "papermill": {
     "duration": 0.030731,
     "end_time": "2025-02-25T03:22:52.674896",
     "exception": false,
     "start_time": "2025-02-25T03:22:52.644165",
     "status": "completed"
    },
    "tags": []
   },
   "outputs": [
    {
     "name": "stdout",
     "output_type": "stream",
     "text": [
      "Action Spec:\n",
      "BoundedArraySpec(shape=(), dtype=dtype('int64'), name='action', minimum=0, maximum=2)\n"
     ]
    }
   ],
   "source": [
    "print('Action Spec:')\n",
    "print(env.action_spec())"
   ]
  },
  {
   "cell_type": "markdown",
   "id": "db8ac9c9",
   "metadata": {
    "id": "eJCgJnx3g0yY",
    "papermill": {
     "duration": 0.024213,
     "end_time": "2025-02-25T03:22:52.724004",
     "exception": false,
     "start_time": "2025-02-25T03:22:52.699791",
     "status": "completed"
    },
    "tags": []
   },
   "source": [
    "In the Cartpole environment:\n",
    "\n",
    "-   `observation` is an array of 4 floats: \n",
    "    -   the position and velocity of the cart\n",
    "    -   the angular position and velocity of the pole \n",
    "-   `reward` is a scalar float value\n",
    "-   `action` is a scalar integer with only two possible values:\n",
    "    -   `0` — \"move left\"\n",
    "    -   `1` — \"move right\"\n"
   ]
  },
  {
   "cell_type": "code",
   "execution_count": 12,
   "id": "d7da652a",
   "metadata": {
    "execution": {
     "iopub.execute_input": "2025-02-25T03:22:52.773745Z",
     "iopub.status.busy": "2025-02-25T03:22:52.773481Z",
     "iopub.status.idle": "2025-02-25T03:22:52.781742Z",
     "shell.execute_reply": "2025-02-25T03:22:52.781089Z"
    },
    "id": "V2UGR5t_iZX-",
    "papermill": {
     "duration": 0.03434,
     "end_time": "2025-02-25T03:22:52.782881",
     "exception": false,
     "start_time": "2025-02-25T03:22:52.748541",
     "status": "completed"
    },
    "tags": []
   },
   "outputs": [
    {
     "name": "stdout",
     "output_type": "stream",
     "text": [
      "Time step:\n",
      "TimeStep(\n",
      "{'step_type': array(0, dtype=int32),\n",
      " 'reward': array(0., dtype=float32),\n",
      " 'discount': array(1., dtype=float32),\n",
      " 'observation': array([-0.41598475,  0.        ], dtype=float32)})\n",
      "[1]\n",
      "Next time step:\n",
      "TimeStep(\n",
      "{'step_type': array(1, dtype=int32),\n",
      " 'reward': array(-1., dtype=float32),\n",
      " 'discount': array(1., dtype=float32),\n",
      " 'observation': array([-0.4167779 , -0.00079316], dtype=float32)})\n"
     ]
    }
   ],
   "source": [
    "time_step = env.reset()\n",
    "print('Time step:')\n",
    "print(time_step)\n",
    "\n",
    "action = np.array((1,),dtype=np.int64)\n",
    "print(action)\n",
    "next_time_step = env.step(action)\n",
    "print('Next time step:')\n",
    "print(next_time_step)"
   ]
  },
  {
   "cell_type": "markdown",
   "id": "7f320dcb",
   "metadata": {
    "id": "4JSc9GviWUBK",
    "papermill": {
     "duration": 0.026068,
     "end_time": "2025-02-25T03:22:52.834082",
     "exception": false,
     "start_time": "2025-02-25T03:22:52.808014",
     "status": "completed"
    },
    "tags": []
   },
   "source": [
    "Usually two environments are instantiated: one for training and one for evaluation. "
   ]
  },
  {
   "cell_type": "code",
   "execution_count": 13,
   "id": "d29de818",
   "metadata": {
    "execution": {
     "iopub.execute_input": "2025-02-25T03:22:52.887148Z",
     "iopub.status.busy": "2025-02-25T03:22:52.886895Z",
     "iopub.status.idle": "2025-02-25T03:22:52.893443Z",
     "shell.execute_reply": "2025-02-25T03:22:52.892558Z"
    },
    "id": "N7brXNIGWXjC",
    "papermill": {
     "duration": 0.035215,
     "end_time": "2025-02-25T03:22:52.895042",
     "exception": false,
     "start_time": "2025-02-25T03:22:52.859827",
     "status": "completed"
    },
    "tags": []
   },
   "outputs": [],
   "source": [
    "train_py_env = suite_gym.load(env_name)\n",
    "eval_py_env = suite_gym.load(env_name)"
   ]
  },
  {
   "cell_type": "markdown",
   "id": "0d8190d1",
   "metadata": {
    "id": "zuUqXAVmecTU",
    "papermill": {
     "duration": 0.028075,
     "end_time": "2025-02-25T03:22:52.952936",
     "exception": false,
     "start_time": "2025-02-25T03:22:52.924861",
     "status": "completed"
    },
    "tags": []
   },
   "source": [
    "The Cartpole environment, like most environments, is written in pure Python. This is converted to TensorFlow using the `TFPyEnvironment` wrapper.\n",
    "\n",
    "The original environment's API uses Numpy arrays. The `TFPyEnvironment` converts these to `Tensors` to make it compatible with Tensorflow agents and policies.\n"
   ]
  },
  {
   "cell_type": "code",
   "execution_count": 14,
   "id": "0c229cb8",
   "metadata": {
    "execution": {
     "iopub.execute_input": "2025-02-25T03:22:53.006594Z",
     "iopub.status.busy": "2025-02-25T03:22:53.006335Z",
     "iopub.status.idle": "2025-02-25T03:22:53.016932Z",
     "shell.execute_reply": "2025-02-25T03:22:53.016302Z"
    },
    "id": "Xp-Y4mD6eDhF",
    "papermill": {
     "duration": 0.038809,
     "end_time": "2025-02-25T03:22:53.018095",
     "exception": false,
     "start_time": "2025-02-25T03:22:52.979286",
     "status": "completed"
    },
    "tags": []
   },
   "outputs": [],
   "source": [
    "train_env = tf_py_environment.TFPyEnvironment(train_py_env)\n",
    "eval_env = tf_py_environment.TFPyEnvironment(eval_py_env)"
   ]
  },
  {
   "cell_type": "markdown",
   "id": "4472e21c",
   "metadata": {
    "id": "E9lW_OZYFR8A",
    "papermill": {
     "duration": 0.024381,
     "end_time": "2025-02-25T03:22:53.068321",
     "exception": false,
     "start_time": "2025-02-25T03:22:53.043940",
     "status": "completed"
    },
    "tags": []
   },
   "source": [
    "## Agent\n",
    "\n",
    "The algorithm used to solve an RL problem is represented by an `Agent`. TF-Agents provides standard implementations of a variety of `Agents`, including:\n",
    "\n",
    "-   [DQN](https://storage.googleapis.com/deepmind-media/dqn/DQNNaturePaper.pdf) (used in this tutorial)\n",
    "-   [REINFORCE](https://www-anw.cs.umass.edu/~barto/courses/cs687/williams92simple.pdf)\n",
    "-   [DDPG](https://arxiv.org/pdf/1509.02971.pdf)\n",
    "-   [TD3](https://arxiv.org/pdf/1802.09477.pdf)\n",
    "-   [PPO](https://arxiv.org/abs/1707.06347)\n",
    "-   [SAC](https://arxiv.org/abs/1801.01290)\n",
    "\n",
    "The DQN agent can be used in any environment which has a discrete action space.\n",
    "\n",
    "At the heart of a DQN Agent is a `QNetwork`, a neural network model that can learn to predict `QValues` (expected returns) for all actions, given an observation from the environment.\n",
    "\n",
    "We will use `tf_agents.networks.` to create a `QNetwork`. The network will consist of a sequence of `tf.keras.layers.Dense` layers, where the final layer will have 1 output for each possible action."
   ]
  },
  {
   "cell_type": "code",
   "execution_count": 15,
   "id": "3c010fd1",
   "metadata": {
    "execution": {
     "iopub.execute_input": "2025-02-25T03:22:53.118050Z",
     "iopub.status.busy": "2025-02-25T03:22:53.117817Z",
     "iopub.status.idle": "2025-02-25T03:22:53.142309Z",
     "shell.execute_reply": "2025-02-25T03:22:53.141499Z"
    },
    "id": "TgkdEPg_muzV",
    "papermill": {
     "duration": 0.050973,
     "end_time": "2025-02-25T03:22:53.143641",
     "exception": false,
     "start_time": "2025-02-25T03:22:53.092668",
     "status": "completed"
    },
    "tags": []
   },
   "outputs": [],
   "source": [
    "fc_layer_params = (100, 50)\n",
    "action_tensor_spec = tensor_spec.from_spec(env.action_spec())\n",
    "num_actions = action_tensor_spec.maximum - action_tensor_spec.minimum + 1\n",
    "\n",
    "# Define a helper function to create Dense layers configured with the right\n",
    "# activation and kernel initializer.\n",
    "def dense_layer(num_units):\n",
    "  return tf.keras.layers.Dense(\n",
    "      num_units,\n",
    "      activation=tf.keras.activations.relu,\n",
    "      kernel_initializer=tf.keras.initializers.VarianceScaling(\n",
    "          scale=2.0, mode='fan_in', distribution='truncated_normal'))\n",
    "\n",
    "# QNetwork consists of a sequence of Dense layers followed by a dense layer\n",
    "# with `num_actions` units to generate one q_value per available action as\n",
    "# its output.\n",
    "dense_layers = [dense_layer(num_units) for num_units in fc_layer_params]\n",
    "q_values_layer = tf.keras.layers.Dense(\n",
    "    num_actions,\n",
    "    activation=None,\n",
    "    kernel_initializer=tf.keras.initializers.RandomUniform(\n",
    "        minval=-0.03, maxval=0.03),\n",
    "    bias_initializer=tf.keras.initializers.Constant(-0.2))\n",
    "q_net = sequential.Sequential(dense_layers + [q_values_layer])"
   ]
  },
  {
   "cell_type": "markdown",
   "id": "2b96900d",
   "metadata": {
    "id": "z62u55hSmviJ",
    "papermill": {
     "duration": 0.02448,
     "end_time": "2025-02-25T03:22:53.192832",
     "exception": false,
     "start_time": "2025-02-25T03:22:53.168352",
     "status": "completed"
    },
    "tags": []
   },
   "source": [
    "Now use `tf_agents.agents.dqn.dqn_agent` to instantiate a `DqnAgent`. In addition to the `time_step_spec`, `action_spec` and the QNetwork, the agent constructor also requires an optimizer (in this case, `AdamOptimizer`), a loss function, and an integer step counter."
   ]
  },
  {
   "cell_type": "code",
   "execution_count": 16,
   "id": "8def658a",
   "metadata": {
    "execution": {
     "iopub.execute_input": "2025-02-25T03:22:53.243380Z",
     "iopub.status.busy": "2025-02-25T03:22:53.243146Z",
     "iopub.status.idle": "2025-02-25T03:22:54.339187Z",
     "shell.execute_reply": "2025-02-25T03:22:54.338495Z"
    },
    "id": "jbY4yrjTEyc9",
    "papermill": {
     "duration": 1.122996,
     "end_time": "2025-02-25T03:22:54.340728",
     "exception": false,
     "start_time": "2025-02-25T03:22:53.217732",
     "status": "completed"
    },
    "tags": []
   },
   "outputs": [],
   "source": [
    "optimizer = tf.keras.optimizers.Adam(learning_rate=learning_rate)\n",
    "\n",
    "train_step_counter = tf.Variable(0)\n",
    "\n",
    "agent = dqn_agent.DqnAgent(\n",
    "    train_env.time_step_spec(),\n",
    "    train_env.action_spec(),\n",
    "    q_network=q_net,\n",
    "    optimizer=optimizer,\n",
    "    td_errors_loss_fn=common.element_wise_squared_loss,\n",
    "    train_step_counter=train_step_counter)\n",
    "\n",
    "agent.initialize()"
   ]
  },
  {
   "cell_type": "markdown",
   "id": "d16c77bc",
   "metadata": {
    "id": "I0KLrEPwkn5x",
    "papermill": {
     "duration": 0.024679,
     "end_time": "2025-02-25T03:22:54.391159",
     "exception": false,
     "start_time": "2025-02-25T03:22:54.366480",
     "status": "completed"
    },
    "tags": []
   },
   "source": [
    "## Policies\n",
    "\n",
    "A policy defines the way an agent acts in an environment. Typically, the goal of reinforcement learning is to train the underlying model until the policy produces the desired outcome.\n",
    "\n",
    "In this tutorial:\n",
    "\n",
    "-   The desired outcome is keeping the pole balanced upright over the cart.\n",
    "-   The policy returns an action (left or right) for each `time_step` observation.\n",
    "\n",
    "Agents contain two policies: \n",
    "\n",
    "-   `agent.policy` — The main policy that is used for evaluation and deployment.\n",
    "-   `agent.collect_policy` — A second policy that is used for data collection.\n"
   ]
  },
  {
   "cell_type": "code",
   "execution_count": 17,
   "id": "cc4ac798",
   "metadata": {
    "execution": {
     "iopub.execute_input": "2025-02-25T03:22:54.441728Z",
     "iopub.status.busy": "2025-02-25T03:22:54.441436Z",
     "iopub.status.idle": "2025-02-25T03:22:54.444644Z",
     "shell.execute_reply": "2025-02-25T03:22:54.443982Z"
    },
    "id": "BwY7StuMkuV4",
    "papermill": {
     "duration": 0.029872,
     "end_time": "2025-02-25T03:22:54.445861",
     "exception": false,
     "start_time": "2025-02-25T03:22:54.415989",
     "status": "completed"
    },
    "tags": []
   },
   "outputs": [],
   "source": [
    "eval_policy = agent.policy\n",
    "collect_policy = agent.collect_policy"
   ]
  },
  {
   "cell_type": "markdown",
   "id": "be9fbac7",
   "metadata": {
    "id": "2Qs1Fl3dV0ae",
    "papermill": {
     "duration": 0.024419,
     "end_time": "2025-02-25T03:22:54.495325",
     "exception": false,
     "start_time": "2025-02-25T03:22:54.470906",
     "status": "completed"
    },
    "tags": []
   },
   "source": [
    "Policies can be created independently of agents. For example, use `tf_agents.policies.random_tf_policy` to create a policy which will randomly select an action for each `time_step`."
   ]
  },
  {
   "cell_type": "code",
   "execution_count": 18,
   "id": "35765136",
   "metadata": {
    "execution": {
     "iopub.execute_input": "2025-02-25T03:22:54.545989Z",
     "iopub.status.busy": "2025-02-25T03:22:54.545761Z",
     "iopub.status.idle": "2025-02-25T03:22:54.549450Z",
     "shell.execute_reply": "2025-02-25T03:22:54.548667Z"
    },
    "id": "HE37-UCIrE69",
    "papermill": {
     "duration": 0.030877,
     "end_time": "2025-02-25T03:22:54.550705",
     "exception": false,
     "start_time": "2025-02-25T03:22:54.519828",
     "status": "completed"
    },
    "tags": []
   },
   "outputs": [],
   "source": [
    "random_policy = random_tf_policy.RandomTFPolicy(train_env.time_step_spec(),\n",
    "                                                train_env.action_spec())"
   ]
  },
  {
   "cell_type": "markdown",
   "id": "8cbaa66b",
   "metadata": {
    "id": "dOlnlRRsUbxP",
    "papermill": {
     "duration": 0.0245,
     "end_time": "2025-02-25T03:22:54.599845",
     "exception": false,
     "start_time": "2025-02-25T03:22:54.575345",
     "status": "completed"
    },
    "tags": []
   },
   "source": [
    "To get an action from a policy, call the `policy.action(time_step)` method. The `time_step` contains the observation from the environment. This method returns a `PolicyStep`, which is a named tuple with three components:\n",
    "\n",
    "-   `action` — the action to be taken (in this case, `0` or `1`)\n",
    "-   `state` — used for stateful (that is, RNN-based) policies\n",
    "-   `info` — auxiliary data, such as log probabilities of actions"
   ]
  },
  {
   "cell_type": "code",
   "execution_count": 19,
   "id": "ac0c1348",
   "metadata": {
    "execution": {
     "iopub.execute_input": "2025-02-25T03:22:54.651882Z",
     "iopub.status.busy": "2025-02-25T03:22:54.651654Z",
     "iopub.status.idle": "2025-02-25T03:22:54.658643Z",
     "shell.execute_reply": "2025-02-25T03:22:54.657761Z"
    },
    "id": "5gCcpXswVAxk",
    "papermill": {
     "duration": 0.033976,
     "end_time": "2025-02-25T03:22:54.660121",
     "exception": false,
     "start_time": "2025-02-25T03:22:54.626145",
     "status": "completed"
    },
    "tags": []
   },
   "outputs": [],
   "source": [
    "example_environment = tf_py_environment.TFPyEnvironment(\n",
    "    suite_gym.load('MountainCar-v0'))"
   ]
  },
  {
   "cell_type": "code",
   "execution_count": 20,
   "id": "320c16a1",
   "metadata": {
    "execution": {
     "iopub.execute_input": "2025-02-25T03:22:54.713121Z",
     "iopub.status.busy": "2025-02-25T03:22:54.712913Z",
     "iopub.status.idle": "2025-02-25T03:22:54.718910Z",
     "shell.execute_reply": "2025-02-25T03:22:54.718314Z"
    },
    "id": "D4DHZtq3Ndis",
    "papermill": {
     "duration": 0.032754,
     "end_time": "2025-02-25T03:22:54.720137",
     "exception": false,
     "start_time": "2025-02-25T03:22:54.687383",
     "status": "completed"
    },
    "tags": []
   },
   "outputs": [],
   "source": [
    "time_step = example_environment.reset()"
   ]
  },
  {
   "cell_type": "code",
   "execution_count": 21,
   "id": "38e621ef",
   "metadata": {
    "execution": {
     "iopub.execute_input": "2025-02-25T03:22:54.770195Z",
     "iopub.status.busy": "2025-02-25T03:22:54.769962Z",
     "iopub.status.idle": "2025-02-25T03:22:55.594686Z",
     "shell.execute_reply": "2025-02-25T03:22:55.593851Z"
    },
    "id": "PRFqAUzpNaAW",
    "papermill": {
     "duration": 0.851224,
     "end_time": "2025-02-25T03:22:55.596110",
     "exception": false,
     "start_time": "2025-02-25T03:22:54.744886",
     "status": "completed"
    },
    "tags": []
   },
   "outputs": [
    {
     "data": {
      "text/plain": [
       "PolicyStep(action=<tf.Tensor: shape=(1,), dtype=int64, numpy=array([1])>, state=(), info=())"
      ]
     },
     "execution_count": 21,
     "metadata": {},
     "output_type": "execute_result"
    }
   ],
   "source": [
    "random_policy.action(time_step)"
   ]
  },
  {
   "cell_type": "markdown",
   "id": "e3172f06",
   "metadata": {
    "id": "94rCXQtbUbXv",
    "papermill": {
     "duration": 0.024569,
     "end_time": "2025-02-25T03:22:55.647798",
     "exception": false,
     "start_time": "2025-02-25T03:22:55.623229",
     "status": "completed"
    },
    "tags": []
   },
   "source": [
    "## Metrics and Evaluation\n",
    "\n",
    "The most common metric used to evaluate a policy is the average return. The return is the sum of rewards obtained while running a policy in an environment for an episode. Several episodes are run, creating an average return.\n",
    "\n",
    "The following function computes the average return of a policy, given the policy, environment, and a number of episodes.\n"
   ]
  },
  {
   "cell_type": "code",
   "execution_count": 22,
   "id": "36f4208b",
   "metadata": {
    "execution": {
     "iopub.execute_input": "2025-02-25T03:22:55.698763Z",
     "iopub.status.busy": "2025-02-25T03:22:55.698471Z",
     "iopub.status.idle": "2025-02-25T03:22:55.702817Z",
     "shell.execute_reply": "2025-02-25T03:22:55.702212Z"
    },
    "id": "bitzHo5_UbXy",
    "papermill": {
     "duration": 0.031532,
     "end_time": "2025-02-25T03:22:55.703888",
     "exception": false,
     "start_time": "2025-02-25T03:22:55.672356",
     "status": "completed"
    },
    "tags": []
   },
   "outputs": [],
   "source": [
    "#@test {\"skip\": true}\n",
    "def compute_avg_return(environment, policy, num_episodes=10):\n",
    "\n",
    "  total_return = 0.0\n",
    "  for _ in range(num_episodes):\n",
    "\n",
    "    time_step = environment.reset()\n",
    "    episode_return = 0.0\n",
    "\n",
    "    while not time_step.is_last():\n",
    "      action_step = policy.action(time_step)\n",
    "      time_step = environment.step(action_step.action)\n",
    "      episode_return += time_step.reward\n",
    "    total_return += episode_return\n",
    "\n",
    "  avg_return = total_return / num_episodes\n",
    "  return avg_return.numpy()[0]\n",
    "\n",
    "\n",
    "# See also the metrics module for standard implementations of different metrics.\n",
    "# https://github.com/tensorflow/agents/tree/master/tf_agents/metrics"
   ]
  },
  {
   "cell_type": "markdown",
   "id": "cb4d4054",
   "metadata": {
    "id": "_snCVvq5Z8lJ",
    "papermill": {
     "duration": 0.024387,
     "end_time": "2025-02-25T03:22:55.752940",
     "exception": false,
     "start_time": "2025-02-25T03:22:55.728553",
     "status": "completed"
    },
    "tags": []
   },
   "source": [
    "Running this computation on the `random_policy` shows a baseline performance in the environment."
   ]
  },
  {
   "cell_type": "code",
   "execution_count": 23,
   "id": "5e039d89",
   "metadata": {
    "execution": {
     "iopub.execute_input": "2025-02-25T03:22:55.803465Z",
     "iopub.status.busy": "2025-02-25T03:22:55.803240Z",
     "iopub.status.idle": "2025-02-25T03:23:04.447658Z",
     "shell.execute_reply": "2025-02-25T03:23:04.446759Z"
    },
    "id": "9bgU6Q6BZ8Bp",
    "papermill": {
     "duration": 8.670973,
     "end_time": "2025-02-25T03:23:04.449066",
     "exception": false,
     "start_time": "2025-02-25T03:22:55.778093",
     "status": "completed"
    },
    "tags": []
   },
   "outputs": [
    {
     "data": {
      "text/plain": [
       "-200.0"
      ]
     },
     "execution_count": 23,
     "metadata": {},
     "output_type": "execute_result"
    }
   ],
   "source": [
    "compute_avg_return(eval_env, random_policy, num_eval_episodes)"
   ]
  },
  {
   "cell_type": "markdown",
   "id": "4b58b18b",
   "metadata": {
    "id": "NLva6g2jdWgr",
    "papermill": {
     "duration": 0.024552,
     "end_time": "2025-02-25T03:23:04.499298",
     "exception": false,
     "start_time": "2025-02-25T03:23:04.474746",
     "status": "completed"
    },
    "tags": []
   },
   "source": [
    "## Replay Buffer\n",
    "\n",
    "In order to keep track of the data collected from the environment, we will use [Reverb](https://deepmind.com/research/open-source/Reverb), an efficient, extensible, and easy-to-use replay system by Deepmind. It stores experience data when we collect trajectories and is consumed during training.\n",
    "\n",
    "This replay buffer is constructed using specs describing the tensors that are to be stored, which can be obtained from the agent using agent.collect_data_spec.\n"
   ]
  },
  {
   "cell_type": "code",
   "execution_count": 24,
   "id": "2d2d25a8",
   "metadata": {
    "execution": {
     "iopub.execute_input": "2025-02-25T03:23:04.550169Z",
     "iopub.status.busy": "2025-02-25T03:23:04.549918Z",
     "iopub.status.idle": "2025-02-25T03:23:04.566403Z",
     "shell.execute_reply": "2025-02-25T03:23:04.565756Z"
    },
    "id": "vX2zGUWJGWAl",
    "papermill": {
     "duration": 0.043694,
     "end_time": "2025-02-25T03:23:04.567710",
     "exception": false,
     "start_time": "2025-02-25T03:23:04.524016",
     "status": "completed"
    },
    "tags": []
   },
   "outputs": [],
   "source": [
    "table_name = 'uniform_table'\n",
    "replay_buffer_signature = tensor_spec.from_spec(\n",
    "      agent.collect_data_spec)\n",
    "replay_buffer_signature = tensor_spec.add_outer_dim(\n",
    "    replay_buffer_signature)\n",
    "\n",
    "table = reverb.Table(\n",
    "    table_name,\n",
    "    max_size=replay_buffer_max_length,\n",
    "    sampler=reverb.selectors.Uniform(),\n",
    "    remover=reverb.selectors.Fifo(),\n",
    "    rate_limiter=reverb.rate_limiters.MinSize(1),\n",
    "    signature=replay_buffer_signature)\n",
    "\n",
    "reverb_server = reverb.Server([table])\n",
    "\n",
    "replay_buffer = reverb_replay_buffer.ReverbReplayBuffer(\n",
    "    agent.collect_data_spec,\n",
    "    table_name=table_name,\n",
    "    sequence_length=2,\n",
    "    local_server=reverb_server)\n",
    "\n",
    "rb_observer = reverb_utils.ReverbAddTrajectoryObserver(\n",
    "  replay_buffer.py_client,\n",
    "  table_name,\n",
    "  sequence_length=2)"
   ]
  },
  {
   "cell_type": "markdown",
   "id": "cf3f12f1",
   "metadata": {
    "id": "ZGNTDJpZs4NN",
    "papermill": {
     "duration": 0.025135,
     "end_time": "2025-02-25T03:23:04.617923",
     "exception": false,
     "start_time": "2025-02-25T03:23:04.592788",
     "status": "completed"
    },
    "tags": []
   },
   "source": [
    "For most agents, `collect_data_spec` is a named tuple called `Trajectory`, containing the specs for observations, actions, rewards, and other items."
   ]
  },
  {
   "cell_type": "code",
   "execution_count": 25,
   "id": "2e6fa346",
   "metadata": {
    "execution": {
     "iopub.execute_input": "2025-02-25T03:23:04.671140Z",
     "iopub.status.busy": "2025-02-25T03:23:04.670850Z",
     "iopub.status.idle": "2025-02-25T03:23:04.676594Z",
     "shell.execute_reply": "2025-02-25T03:23:04.675835Z"
    },
    "id": "_IZ-3HcqgE1z",
    "papermill": {
     "duration": 0.033527,
     "end_time": "2025-02-25T03:23:04.677860",
     "exception": false,
     "start_time": "2025-02-25T03:23:04.644333",
     "status": "completed"
    },
    "tags": []
   },
   "outputs": [
    {
     "data": {
      "text/plain": [
       "Trajectory(\n",
       "{'step_type': TensorSpec(shape=(), dtype=tf.int32, name='step_type'),\n",
       " 'observation': BoundedTensorSpec(shape=(2,), dtype=tf.float32, name='observation', minimum=array([-1.2 , -0.07], dtype=float32), maximum=array([0.6 , 0.07], dtype=float32)),\n",
       " 'action': BoundedTensorSpec(shape=(), dtype=tf.int64, name='action', minimum=array(0), maximum=array(2)),\n",
       " 'policy_info': (),\n",
       " 'next_step_type': TensorSpec(shape=(), dtype=tf.int32, name='step_type'),\n",
       " 'reward': TensorSpec(shape=(), dtype=tf.float32, name='reward'),\n",
       " 'discount': BoundedTensorSpec(shape=(), dtype=tf.float32, name='discount', minimum=array(0., dtype=float32), maximum=array(1., dtype=float32))})"
      ]
     },
     "execution_count": 25,
     "metadata": {},
     "output_type": "execute_result"
    }
   ],
   "source": [
    "agent.collect_data_spec"
   ]
  },
  {
   "cell_type": "code",
   "execution_count": 26,
   "id": "6ac9befc",
   "metadata": {
    "execution": {
     "iopub.execute_input": "2025-02-25T03:23:04.730386Z",
     "iopub.status.busy": "2025-02-25T03:23:04.730096Z",
     "iopub.status.idle": "2025-02-25T03:23:04.734618Z",
     "shell.execute_reply": "2025-02-25T03:23:04.733873Z"
    },
    "id": "sy6g1tGcfRlw",
    "papermill": {
     "duration": 0.031876,
     "end_time": "2025-02-25T03:23:04.735811",
     "exception": false,
     "start_time": "2025-02-25T03:23:04.703935",
     "status": "completed"
    },
    "tags": []
   },
   "outputs": [
    {
     "data": {
      "text/plain": [
       "('step_type',\n",
       " 'observation',\n",
       " 'action',\n",
       " 'policy_info',\n",
       " 'next_step_type',\n",
       " 'reward',\n",
       " 'discount')"
      ]
     },
     "execution_count": 26,
     "metadata": {},
     "output_type": "execute_result"
    }
   ],
   "source": [
    "agent.collect_data_spec._fields"
   ]
  },
  {
   "cell_type": "markdown",
   "id": "fb6cce87",
   "metadata": {
    "id": "rVD5nQ9ZGo8_",
    "papermill": {
     "duration": 0.025292,
     "end_time": "2025-02-25T03:23:04.786338",
     "exception": false,
     "start_time": "2025-02-25T03:23:04.761046",
     "status": "completed"
    },
    "tags": []
   },
   "source": [
    "## Data Collection\n",
    "\n",
    "Now execute the random policy in the environment for a few steps, recording the data in the replay buffer.\n",
    "\n",
    "Here we are using 'PyDriver' to run the experience collecting loop. You can learn more about TF Agents driver in our [drivers tutorial](https://www.tensorflow.org/agents/tutorials/4_drivers_tutorial)."
   ]
  },
  {
   "cell_type": "code",
   "execution_count": 27,
   "id": "81e50604",
   "metadata": {
    "execution": {
     "iopub.execute_input": "2025-02-25T03:23:04.837998Z",
     "iopub.status.busy": "2025-02-25T03:23:04.837697Z",
     "iopub.status.idle": "2025-02-25T03:23:05.132199Z",
     "shell.execute_reply": "2025-02-25T03:23:05.130806Z"
    },
    "id": "wr1KSAEGG4h9",
    "papermill": {
     "duration": 0.322034,
     "end_time": "2025-02-25T03:23:05.133622",
     "exception": false,
     "start_time": "2025-02-25T03:23:04.811588",
     "status": "completed"
    },
    "tags": []
   },
   "outputs": [
    {
     "data": {
      "text/plain": [
       "(TimeStep(\n",
       " {'step_type': array(1, dtype=int32),\n",
       "  'reward': array(-1., dtype=float32),\n",
       "  'discount': array(1., dtype=float32),\n",
       "  'observation': array([-0.67833644, -0.0058347 ], dtype=float32)}),\n",
       " ())"
      ]
     },
     "execution_count": 27,
     "metadata": {},
     "output_type": "execute_result"
    }
   ],
   "source": [
    "#@test {\"skip\": true}\n",
    "py_driver.PyDriver(\n",
    "    env,\n",
    "    py_tf_eager_policy.PyTFEagerPolicy(\n",
    "      random_policy, use_tf_function=True),\n",
    "    [rb_observer],\n",
    "    max_steps=initial_collect_steps).run(train_py_env.reset())"
   ]
  },
  {
   "cell_type": "markdown",
   "id": "d5fb5108",
   "metadata": {
    "id": "84z5pQJdoKxo",
    "papermill": {
     "duration": 0.02582,
     "end_time": "2025-02-25T03:23:05.186908",
     "exception": false,
     "start_time": "2025-02-25T03:23:05.161088",
     "status": "completed"
    },
    "tags": []
   },
   "source": [
    "The replay buffer is now a collection of Trajectories."
   ]
  },
  {
   "cell_type": "code",
   "execution_count": 28,
   "id": "f6eaf949",
   "metadata": {
    "execution": {
     "iopub.execute_input": "2025-02-25T03:23:05.241284Z",
     "iopub.status.busy": "2025-02-25T03:23:05.240874Z",
     "iopub.status.idle": "2025-02-25T03:23:05.244093Z",
     "shell.execute_reply": "2025-02-25T03:23:05.243448Z"
    },
    "id": "4wZnLu2ViO4E",
    "papermill": {
     "duration": 0.031983,
     "end_time": "2025-02-25T03:23:05.245353",
     "exception": false,
     "start_time": "2025-02-25T03:23:05.213370",
     "status": "completed"
    },
    "tags": []
   },
   "outputs": [],
   "source": [
    "# For the curious:\n",
    "# Uncomment to peel one of these off and inspect it.\n",
    "# iter(replay_buffer.as_dataset()).next()"
   ]
  },
  {
   "cell_type": "markdown",
   "id": "5247cb56",
   "metadata": {
    "id": "TujU-PMUsKjS",
    "papermill": {
     "duration": 0.02509,
     "end_time": "2025-02-25T03:23:05.295501",
     "exception": false,
     "start_time": "2025-02-25T03:23:05.270411",
     "status": "completed"
    },
    "tags": []
   },
   "source": [
    "The agent needs access to the replay buffer. This is provided by creating an iterable `tf.data.Dataset` pipeline which will feed data to the agent.\n",
    "\n",
    "Each row of the replay buffer only stores a single observation step. But since the DQN Agent needs both the current and next observation to compute the loss, the dataset pipeline will sample two adjacent rows for each item in the batch (`num_steps=2`).\n",
    "\n",
    "This dataset is also optimized by running parallel calls and prefetching data."
   ]
  },
  {
   "cell_type": "code",
   "execution_count": 29,
   "id": "9fa21737",
   "metadata": {
    "execution": {
     "iopub.execute_input": "2025-02-25T03:23:05.349006Z",
     "iopub.status.busy": "2025-02-25T03:23:05.348658Z",
     "iopub.status.idle": "2025-02-25T03:23:05.915216Z",
     "shell.execute_reply": "2025-02-25T03:23:05.914463Z"
    },
    "id": "ba7bilizt_qW",
    "papermill": {
     "duration": 0.595258,
     "end_time": "2025-02-25T03:23:05.916556",
     "exception": false,
     "start_time": "2025-02-25T03:23:05.321298",
     "status": "completed"
    },
    "tags": []
   },
   "outputs": [
    {
     "data": {
      "text/plain": [
       "<_PrefetchDataset element_spec=(Trajectory(\n",
       "{'step_type': TensorSpec(shape=(64, 2), dtype=tf.int32, name=None),\n",
       " 'observation': TensorSpec(shape=(64, 2, 2), dtype=tf.float32, name=None),\n",
       " 'action': TensorSpec(shape=(64, 2), dtype=tf.int64, name=None),\n",
       " 'policy_info': (),\n",
       " 'next_step_type': TensorSpec(shape=(64, 2), dtype=tf.int32, name=None),\n",
       " 'reward': TensorSpec(shape=(64, 2), dtype=tf.float32, name=None),\n",
       " 'discount': TensorSpec(shape=(64, 2), dtype=tf.float32, name=None)}), SampleInfo(key=TensorSpec(shape=(64, 2), dtype=tf.uint64, name=None), probability=TensorSpec(shape=(64, 2), dtype=tf.float64, name=None), table_size=TensorSpec(shape=(64, 2), dtype=tf.int64, name=None), priority=TensorSpec(shape=(64, 2), dtype=tf.float64, name=None), times_sampled=TensorSpec(shape=(64, 2), dtype=tf.int32, name=None)))>"
      ]
     },
     "execution_count": 29,
     "metadata": {},
     "output_type": "execute_result"
    }
   ],
   "source": [
    "# Dataset generates trajectories with shape [Bx2x...]\n",
    "dataset = replay_buffer.as_dataset(\n",
    "    num_parallel_calls=3,\n",
    "    sample_batch_size=batch_size,\n",
    "    num_steps=2).prefetch(3)\n",
    "\n",
    "dataset"
   ]
  },
  {
   "cell_type": "code",
   "execution_count": 30,
   "id": "438e95a8",
   "metadata": {
    "execution": {
     "iopub.execute_input": "2025-02-25T03:23:05.968254Z",
     "iopub.status.busy": "2025-02-25T03:23:05.968025Z",
     "iopub.status.idle": "2025-02-25T03:23:06.043396Z",
     "shell.execute_reply": "2025-02-25T03:23:06.042682Z"
    },
    "id": "K13AST-2ppOq",
    "papermill": {
     "duration": 0.102324,
     "end_time": "2025-02-25T03:23:06.044683",
     "exception": false,
     "start_time": "2025-02-25T03:23:05.942359",
     "status": "completed"
    },
    "tags": []
   },
   "outputs": [
    {
     "name": "stdout",
     "output_type": "stream",
     "text": [
      "<tensorflow.python.data.ops.iterator_ops.OwnedIterator object at 0x7da558b06800>\n"
     ]
    }
   ],
   "source": [
    "iterator = iter(dataset)\n",
    "print(iterator)"
   ]
  },
  {
   "cell_type": "code",
   "execution_count": 31,
   "id": "91fd19bf",
   "metadata": {
    "execution": {
     "iopub.execute_input": "2025-02-25T03:23:06.096253Z",
     "iopub.status.busy": "2025-02-25T03:23:06.096025Z",
     "iopub.status.idle": "2025-02-25T03:23:06.098874Z",
     "shell.execute_reply": "2025-02-25T03:23:06.098199Z"
    },
    "id": "Th5w5Sff0b16",
    "papermill": {
     "duration": 0.029805,
     "end_time": "2025-02-25T03:23:06.100049",
     "exception": false,
     "start_time": "2025-02-25T03:23:06.070244",
     "status": "completed"
    },
    "tags": []
   },
   "outputs": [],
   "source": [
    "# For the curious:\n",
    "# Uncomment to see what the dataset iterator is feeding to the agent.\n",
    "# Compare this representation of replay data \n",
    "# to the collection of individual trajectories shown earlier.\n",
    "\n",
    "# iterator.next()"
   ]
  },
  {
   "cell_type": "markdown",
   "id": "68e762ce",
   "metadata": {
    "id": "hBc9lj9VWWtZ",
    "papermill": {
     "duration": 0.02484,
     "end_time": "2025-02-25T03:23:06.149954",
     "exception": false,
     "start_time": "2025-02-25T03:23:06.125114",
     "status": "completed"
    },
    "tags": []
   },
   "source": [
    "## Training the agent\n",
    "\n",
    "Two things must happen during the training loop:\n",
    "\n",
    "-   collect data from the environment\n",
    "-   use that data to train the agent's neural network(s)\n",
    "\n",
    "This example also periodicially evaluates the policy and prints the current score.\n",
    "\n",
    "The following will take ~5 minutes to run."
   ]
  },
  {
   "cell_type": "code",
   "execution_count": 32,
   "id": "72d1826b",
   "metadata": {
    "execution": {
     "iopub.execute_input": "2025-02-25T03:23:06.201039Z",
     "iopub.status.busy": "2025-02-25T03:23:06.200819Z",
     "iopub.status.idle": "2025-02-25T03:31:37.422388Z",
     "shell.execute_reply": "2025-02-25T03:31:37.421347Z"
    },
    "id": "0pTbJ3PeyF-u",
    "papermill": {
     "duration": 511.248724,
     "end_time": "2025-02-25T03:31:37.423841",
     "exception": false,
     "start_time": "2025-02-25T03:23:06.175117",
     "status": "completed"
    },
    "tags": []
   },
   "outputs": [
    {
     "name": "stdout",
     "output_type": "stream",
     "text": [
      "step = 200: loss = 0.7730987071990967\n",
      "step = 400: loss = 1.104583740234375\n",
      "step = 600: loss = 1.219373345375061\n",
      "step = 800: loss = 1.8233423233032227\n",
      "step = 1000: loss = 1.0714356899261475\n",
      "step = 1000: Average Return = -200.0\n",
      "step = 1200: loss = 230.48092651367188\n",
      "step = 1400: loss = 5.651129245758057\n",
      "step = 1600: loss = 261.5231628417969\n",
      "step = 1800: loss = 1.236235499382019\n",
      "step = 2000: loss = 815.4999389648438\n",
      "step = 2000: Average Return = -200.0\n",
      "step = 2200: loss = 1.050523042678833\n",
      "step = 2400: loss = 1.433208703994751\n",
      "step = 2600: loss = 1.0213186740875244\n",
      "step = 2800: loss = 201.69088745117188\n",
      "step = 3000: loss = 0.9162098169326782\n",
      "step = 3000: Average Return = -200.0\n",
      "step = 3200: loss = 1.3081121444702148\n",
      "step = 3400: loss = 1.6149123907089233\n",
      "step = 3600: loss = 275.10516357421875\n",
      "step = 3800: loss = 1.0057616233825684\n",
      "step = 4000: loss = 1.0724632740020752\n",
      "step = 4000: Average Return = -200.0\n",
      "step = 4200: loss = 1.0458738803863525\n",
      "step = 4400: loss = 218.0938262939453\n",
      "step = 4600: loss = 76.21017456054688\n",
      "step = 4800: loss = 1.3787764310836792\n",
      "step = 5000: loss = 0.9791799187660217\n",
      "step = 5000: Average Return = -200.0\n",
      "step = 5200: loss = 1.1721100807189941\n",
      "step = 5400: loss = 158.1044921875\n",
      "step = 5600: loss = 346.69464111328125\n",
      "step = 5800: loss = 1.1925873756408691\n",
      "step = 6000: loss = 1.089418888092041\n",
      "step = 6000: Average Return = -200.0\n",
      "step = 6200: loss = 394.65643310546875\n",
      "step = 6400: loss = 0.9446835517883301\n",
      "step = 6600: loss = 258.94146728515625\n",
      "step = 6800: loss = 1.4444996118545532\n",
      "step = 7000: loss = 224.4012908935547\n",
      "step = 7000: Average Return = -200.0\n",
      "step = 7200: loss = 1.8775194883346558\n",
      "step = 7400: loss = 185.0565643310547\n",
      "step = 7600: loss = 1.8029766082763672\n",
      "step = 7800: loss = 239.71607971191406\n",
      "step = 8000: loss = 2.2305245399475098\n",
      "step = 8000: Average Return = -200.0\n",
      "step = 8200: loss = 2.5314693450927734\n",
      "step = 8400: loss = 1.8426845073699951\n",
      "step = 8600: loss = 3.4543118476867676\n",
      "step = 8800: loss = 2.0124964714050293\n",
      "step = 9000: loss = 165.20205688476562\n",
      "step = 9000: Average Return = -200.0\n",
      "step = 9200: loss = 58.412994384765625\n",
      "step = 9400: loss = 3.0585074424743652\n",
      "step = 9600: loss = 3.353172779083252\n",
      "step = 9800: loss = 1.852960467338562\n",
      "step = 10000: loss = 1.9379531145095825\n",
      "step = 10000: Average Return = -200.0\n",
      "step = 10200: loss = 4.317596435546875\n",
      "step = 10400: loss = 2.1728951930999756\n",
      "step = 10600: loss = 3.4444215297698975\n",
      "step = 10800: loss = 111.82222747802734\n",
      "step = 11000: loss = 3.913693428039551\n",
      "step = 11000: Average Return = -200.0\n",
      "step = 11200: loss = 2.3794431686401367\n",
      "step = 11400: loss = 238.75096130371094\n",
      "step = 11600: loss = 1.9521514177322388\n",
      "step = 11800: loss = 2.839341640472412\n",
      "step = 12000: loss = 3.314577102661133\n",
      "step = 12000: Average Return = -200.0\n",
      "step = 12200: loss = 3.939864158630371\n",
      "step = 12400: loss = 2.921031951904297\n",
      "step = 12600: loss = 2.714911699295044\n",
      "step = 12800: loss = 2.50734281539917\n",
      "step = 13000: loss = 261.1432189941406\n",
      "step = 13000: Average Return = -200.0\n",
      "step = 13200: loss = 295.8077697753906\n",
      "step = 13400: loss = 203.48074340820312\n",
      "step = 13600: loss = 46.5225944519043\n",
      "step = 13800: loss = 2.073643684387207\n",
      "step = 14000: loss = 2.26723575592041\n",
      "step = 14000: Average Return = -200.0\n",
      "step = 14200: loss = 1.7219051122665405\n",
      "step = 14400: loss = 3.6493096351623535\n",
      "step = 14600: loss = 1.0509790182113647\n",
      "step = 14800: loss = 190.024658203125\n",
      "step = 15000: loss = 326.36236572265625\n",
      "step = 15000: Average Return = -200.0\n",
      "step = 15200: loss = 164.68678283691406\n",
      "step = 15400: loss = 1.3142993450164795\n",
      "step = 15600: loss = 1.3406193256378174\n",
      "step = 15800: loss = 421.0435485839844\n",
      "step = 16000: loss = 2.331569194793701\n",
      "step = 16000: Average Return = -155.89999389648438\n",
      "step = 16200: loss = 1.5734195709228516\n",
      "step = 16400: loss = 1.6163134574890137\n",
      "step = 16600: loss = 1.467342734336853\n",
      "step = 16800: loss = 1.5678595304489136\n",
      "step = 17000: loss = 1.4694974422454834\n",
      "step = 17000: Average Return = -157.10000610351562\n",
      "step = 17200: loss = 1.5529471635818481\n",
      "step = 17400: loss = 1.338714361190796\n",
      "step = 17600: loss = 1.4812721014022827\n",
      "step = 17800: loss = 2.5405192375183105\n",
      "step = 18000: loss = 1.6614406108856201\n",
      "step = 18000: Average Return = -152.60000610351562\n",
      "step = 18200: loss = 1.2775450944900513\n",
      "step = 18400: loss = 10.528743743896484\n",
      "step = 18600: loss = 1.6688100099563599\n",
      "step = 18800: loss = 0.9998365044593811\n",
      "step = 19000: loss = 2.0131773948669434\n",
      "step = 19000: Average Return = -200.0\n",
      "step = 19200: loss = 1.1492782831192017\n",
      "step = 19400: loss = 2.062619209289551\n",
      "step = 19600: loss = 1.0571885108947754\n",
      "step = 19800: loss = 1.5193229913711548\n",
      "step = 20000: loss = 0.7923763990402222\n",
      "step = 20000: Average Return = -200.0\n"
     ]
    }
   ],
   "source": [
    "#@test {\"skip\": true}\n",
    "try:\n",
    "  %%time\n",
    "except:\n",
    "  pass\n",
    "\n",
    "# (Optional) Optimize by wrapping some of the code in a graph using TF function.\n",
    "agent.train = common.function(agent.train)\n",
    "\n",
    "# Reset the train step.\n",
    "agent.train_step_counter.assign(0)\n",
    "\n",
    "# Evaluate the agent's policy once before training.\n",
    "avg_return = compute_avg_return(eval_env, agent.policy, num_eval_episodes)\n",
    "returns = [avg_return]\n",
    "\n",
    "# Reset the environment.\n",
    "time_step = train_py_env.reset()\n",
    "\n",
    "# Create a driver to collect experience.\n",
    "collect_driver = py_driver.PyDriver(\n",
    "    env,\n",
    "    py_tf_eager_policy.PyTFEagerPolicy(\n",
    "      agent.collect_policy, use_tf_function=True),\n",
    "    [rb_observer],\n",
    "    max_steps=collect_steps_per_iteration)\n",
    "\n",
    "for _ in range(num_iterations):\n",
    "\n",
    "  # Collect a few steps and save to the replay buffer.\n",
    "  time_step, _ = collect_driver.run(time_step)\n",
    "\n",
    "  # Sample a batch of data from the buffer and update the agent's network.\n",
    "  experience, unused_info = next(iterator)\n",
    "  train_loss = agent.train(experience).loss\n",
    "\n",
    "  step = agent.train_step_counter.numpy()\n",
    "\n",
    "  if step % log_interval == 0:\n",
    "    print('step = {0}: loss = {1}'.format(step, train_loss))\n",
    "\n",
    "  if step % eval_interval == 0:\n",
    "    avg_return = compute_avg_return(eval_env, agent.policy, num_eval_episodes)\n",
    "    print('step = {0}: Average Return = {1}'.format(step, avg_return))\n",
    "    returns.append(avg_return)"
   ]
  },
  {
   "cell_type": "markdown",
   "id": "3c5c7c1d",
   "metadata": {
    "id": "68jNcA_TiJDq",
    "papermill": {
     "duration": 0.03116,
     "end_time": "2025-02-25T03:31:37.487801",
     "exception": false,
     "start_time": "2025-02-25T03:31:37.456641",
     "status": "completed"
    },
    "tags": []
   },
   "source": [
    "## Visualization\n"
   ]
  },
  {
   "cell_type": "markdown",
   "id": "d584becc",
   "metadata": {
    "id": "aO-LWCdbbOIC",
    "papermill": {
     "duration": 0.031486,
     "end_time": "2025-02-25T03:31:37.551290",
     "exception": false,
     "start_time": "2025-02-25T03:31:37.519804",
     "status": "completed"
    },
    "tags": []
   },
   "source": [
    "### Plots\n",
    "\n",
    "Use `matplotlib.pyplot` to chart how the policy improved during training.\n",
    "\n",
    "One iteration of `Cartpole-v0` consists of 200 time steps. The environment gives a reward of `+1` for each step the pole stays up, so the maximum return for one episode is 200. The charts shows the return increasing towards that maximum each time it is evaluated during training. (It may be a little unstable and not increase monotonically each time.)"
   ]
  },
  {
   "cell_type": "code",
   "execution_count": 33,
   "id": "f60129b0",
   "metadata": {
    "execution": {
     "iopub.execute_input": "2025-02-25T03:31:37.615387Z",
     "iopub.status.busy": "2025-02-25T03:31:37.615040Z",
     "iopub.status.idle": "2025-02-25T03:31:37.818094Z",
     "shell.execute_reply": "2025-02-25T03:31:37.817081Z"
    },
    "id": "NxtL1mbOYCVO",
    "papermill": {
     "duration": 0.23677,
     "end_time": "2025-02-25T03:31:37.819451",
     "exception": false,
     "start_time": "2025-02-25T03:31:37.582681",
     "status": "completed"
    },
    "tags": []
   },
   "outputs": [
    {
     "data": {
      "text/plain": [
       "(-202.36999969482423, 250.0)"
      ]
     },
     "execution_count": 33,
     "metadata": {},
     "output_type": "execute_result"
    },
    {
     "data": {
      "image/png": "[encoded data removed]",
      "text/plain": [
       "<Figure size 640x480 with 1 Axes>"
      ]
     },
     "metadata": {},
     "output_type": "display_data"
    }
   ],
   "source": [
    "#@test {\"skip\": true}\n",
    "\n",
    "iterations = range(0, num_iterations + 1, eval_interval)\n",
    "plt.plot(iterations, returns)\n",
    "plt.ylabel('Average Return')\n",
    "plt.xlabel('Iterations')\n",
    "plt.ylim(top=250)"
   ]
  },
  {
   "cell_type": "markdown",
   "id": "c4f72177",
   "metadata": {
    "id": "M7-XpPP99Cy7",
    "papermill": {
     "duration": 0.032518,
     "end_time": "2025-02-25T03:31:37.885853",
     "exception": false,
     "start_time": "2025-02-25T03:31:37.853335",
     "status": "completed"
    },
    "tags": []
   },
   "source": [
    "### Videos"
   ]
  },
  {
   "cell_type": "markdown",
   "id": "e15d8b9b",
   "metadata": {
    "id": "9pGfGxSH32gn",
    "papermill": {
     "duration": 0.031814,
     "end_time": "2025-02-25T03:31:37.949913",
     "exception": false,
     "start_time": "2025-02-25T03:31:37.918099",
     "status": "completed"
    },
    "tags": []
   },
   "source": [
    "Charts are nice. But more exciting is seeing an agent actually performing a task in an environment. \n",
    "\n",
    "First, create a function to embed videos in the notebook."
   ]
  },
  {
   "cell_type": "code",
   "execution_count": 34,
   "id": "d56bdd41",
   "metadata": {
    "execution": {
     "iopub.execute_input": "2025-02-25T03:31:38.014187Z",
     "iopub.status.busy": "2025-02-25T03:31:38.013879Z",
     "iopub.status.idle": "2025-02-25T03:31:38.018516Z",
     "shell.execute_reply": "2025-02-25T03:31:38.017761Z"
    },
    "id": "ULaGr8pvOKbl",
    "papermill": {
     "duration": 0.038538,
     "end_time": "2025-02-25T03:31:38.019827",
     "exception": false,
     "start_time": "2025-02-25T03:31:37.981289",
     "status": "completed"
    },
    "tags": []
   },
   "outputs": [],
   "source": [
    "def embed_mp4(filename):\n",
    "  \"\"\"Embeds an mp4 file in the notebook.\"\"\"\n",
    "  video = open(filename,'rb').read()\n",
    "  b64 = base64.b64encode(video)\n",
    "  tag = '''\n",
    "  <video width=\"640\" height=\"480\" controls>\n",
    "    <source src=\"data:video/mp4;base64,{0}\" type=\"video/mp4\">\n",
    "  Your browser does not support the video tag.\n",
    "  </video>'''.format(b64.decode())\n",
    "\n",
    "  return IPython.display.HTML(tag)"
   ]
  },
  {
   "cell_type": "markdown",
   "id": "a3dba4c7",
   "metadata": {
    "id": "9c_PH-pX4Pr5",
    "papermill": {
     "duration": 0.032508,
     "end_time": "2025-02-25T03:31:38.084731",
     "exception": false,
     "start_time": "2025-02-25T03:31:38.052223",
     "status": "completed"
    },
    "tags": []
   },
   "source": [
    "Now iterate through a few episodes of the Cartpole game with the agent. The underlying Python environment (the one \"inside\" the TensorFlow environment wrapper) provides a `render()` method, which outputs an image of the environment state. These can be collected into a video."
   ]
  },
  {
   "cell_type": "code",
   "execution_count": 35,
   "id": "54c6d0f8",
   "metadata": {
    "execution": {
     "iopub.execute_input": "2025-02-25T03:31:38.150541Z",
     "iopub.status.busy": "2025-02-25T03:31:38.150235Z",
     "iopub.status.idle": "2025-02-25T03:31:52.781411Z",
     "shell.execute_reply": "2025-02-25T03:31:52.780379Z"
    },
    "id": "owOVWB158NlF",
    "papermill": {
     "duration": 14.666629,
     "end_time": "2025-02-25T03:31:52.783580",
     "exception": false,
     "start_time": "2025-02-25T03:31:38.116951",
     "status": "completed"
    },
    "tags": []
   },
   "outputs": [
    {
     "data": {
      "text/html": [
       "\n",
       "  <video width=\"640\" height=\"480\" controls>\n",
       "    <source src=\"data:video/mp4;base64,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\" type=\"video/mp4\">\n",
       "  Your browser does not support the video tag.\n",
       "  </video>"
      ],
      "text/plain": [
       "<IPython.core.display.HTML object>"
      ]
     },
     "execution_count": 35,
     "metadata": {},
     "output_type": "execute_result"
    }
   ],
   "source": [
    "def create_policy_eval_video(policy, filename, num_episodes=5, fps=30):\n",
    "  filename = filename + \".mp4\"\n",
    "  with imageio.get_writer(filename, fps=fps) as video:\n",
    "    for _ in range(num_episodes):\n",
    "      time_step = eval_env.reset()\n",
    "      video.append_data(eval_py_env.render())\n",
    "      while not time_step.is_last():\n",
    "        action_step = policy.action(time_step)\n",
    "        time_step = eval_env.step(action_step.action)\n",
    "        video.append_data(eval_py_env.render())\n",
    "  return embed_mp4(filename)\n",
    "\n",
    "create_policy_eval_video(agent.policy, \"trained-agent\")"
   ]
  },
  {
   "cell_type": "markdown",
   "id": "2b06cc6d",
   "metadata": {
    "id": "povaAOcZygLw",
    "papermill": {
     "duration": 0.034044,
     "end_time": "2025-02-25T03:31:52.855149",
     "exception": false,
     "start_time": "2025-02-25T03:31:52.821105",
     "status": "completed"
    },
    "tags": []
   },
   "source": [
    "For fun, compare the trained agent (above) to an agent moving randomly. (It does not do as well.)"
   ]
  },
  {
   "cell_type": "code",
   "execution_count": 36,
   "id": "45356c8a",
   "metadata": {
    "execution": {
     "iopub.execute_input": "2025-02-25T03:31:52.926236Z",
     "iopub.status.busy": "2025-02-25T03:31:52.925905Z",
     "iopub.status.idle": "2025-02-25T03:32:02.336291Z",
     "shell.execute_reply": "2025-02-25T03:32:02.335325Z"
    },
    "id": "pJZIdC37yNH4",
    "papermill": {
     "duration": 9.448897,
     "end_time": "2025-02-25T03:32:02.339004",
     "exception": false,
     "start_time": "2025-02-25T03:31:52.890107",
     "status": "completed"
    },
    "tags": []
   },
   "outputs": [
    {
     "data": {
      "text/html": [
       "\n",
       "  <video width=\"640\" height=\"480\" controls>\n",
       "    <source src=\"data:video/mp4;base64,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\" type=\"video/mp4\">\n",
       "  Your browser does not support the video tag.\n",
       "  </video>"
      ],
      "text/plain": [
       "<IPython.core.display.HTML object>"
      ]
     },
     "execution_count": 36,
     "metadata": {},
     "output_type": "execute_result"
    }
   ],
   "source": [
    "create_policy_eval_video(random_policy, \"random-agent\")"
   ]
  },
  {
   "cell_type": "code",
   "execution_count": null,
   "id": "f1375233",
   "metadata": {
    "papermill": {
     "duration": 0.038813,
     "end_time": "2025-02-25T03:32:02.416303",
     "exception": false,
     "start_time": "2025-02-25T03:32:02.377490",
     "status": "completed"
    },
    "tags": []
   },
   "outputs": [],
   "source": []
  }
 ],
 "metadata": {
  "kaggle": {
   "accelerator": "gpu",
   "dataSources": [],
   "dockerImageVersionId": 30919,
   "isGpuEnabled": true,
   "isInternetEnabled": true,
   "language": "python",
   "sourceType": "notebook"
  },
  "kernelspec": {
   "display_name": "Python 3",
   "language": "python",
   "name": "python3"
  },
  "language_info": {
   "codemirror_mode": {
    "name": "ipython",
    "version": 3
   },
   "file_extension": ".py",
   "mimetype": "text/x-python",
   "name": "python",
   "nbconvert_exporter": "python",
   "pygments_lexer": "ipython3",
   "version": "3.10.12"
  },
  "papermill": {
   "default_parameters": {},
   "duration": 676.370519,
   "end_time": "2025-02-25T03:32:03.191991",
   "environment_variables": {},
   "exception": null,
   "input_path": "__notebook__.ipynb",
   "output_path": "__notebook__.ipynb",
   "parameters": {},
   "start_time": "2025-02-25T03:20:46.821472",
   "version": "2.4.0"
  }
 },
 "nbformat": 4,
 "nbformat_minor": 5
}
